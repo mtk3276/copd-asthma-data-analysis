{
 "cells": [
  {
   "cell_type": "markdown",
   "id": "3fdea0ef-3cc2-40eb-a071-9fda51924d07",
   "metadata": {},
   "source": [
    "# EDA Of Adult Asthma-COPD Audit Data \n",
    "https://www.data.gov.uk/dataset/84cd03c7-5ba5-47f1-9aed-f43d811348d2/national-asthma-and-copd-audit-programme-nacap-adult-asthma-and-copd-2021-organisational-audit\n",
    "> The `asthmadata.csv` file contains data for 159 hospitals with statistics related to respiratory illnesses (asthma and COPD, Chronic Obstructive Pulmonary Disease) such as admissions to hospitals, bed space, staff availibility etc.\n",
    "<br><br>\n",
    "> Here we use pandas to handle the csv data file and load the data into a dataframe. Additional wrangling is required to establish well formated multiple headers for the dataframe"
   ]
  },
  {
   "cell_type": "code",
   "execution_count": 55,
   "id": "266e7446",
   "metadata": {
    "tags": [
     "hide-input"
    ]
   },
   "outputs": [],
   "source": [
    "# imports for data handling and displaying\n",
    "%matplotlib inline\n",
    "import numpy as np\n",
    "import pandas as pd\n",
    "import json\n",
    "# to enable interactivity\n",
    "import ipywidgets as widgets\n",
    "# plotting packages\n",
    "import plotly.express as px\n",
    "import plotly.graph_objects as go\n",
    "import folium\n",
    "\n",
    "# import for notebook interactivity\n",
    "from ipywidgets import interact, interact_manual, interactive, Layout\n",
    "from IPython.display import display, Markdown\n",
    "\n",
    "# to print all output rather than the default last\n",
    "from IPython.core.interactiveshell import InteractiveShell\n",
    "InteractiveShell.ast_node_interactivity = \"all\" # other options  'all', 'none', 'last' and 'last_expr\n",
    "\n",
    "# change the max rows displayed\n",
    "pd.options.display.max_rows = 20"
   ]
  },
  {
   "cell_type": "markdown",
   "id": "df7d6e24",
   "metadata": {},
   "source": [
    "<br><br>\n",
    "## Function Definitions\n",
    "> Here functions used throughout this notebook are defined"
   ]
  },
  {
   "cell_type": "code",
   "execution_count": 56,
   "id": "e997d2b2",
   "metadata": {},
   "outputs": [],
   "source": [
    "def list_level_zero_headers(df):\n",
    "    # returns level zero headers\n",
    "    return df.columns.get_level_values(0).unique().tolist()\n",
    "\n",
    "def list_level_one_headers(df):\n",
    "    # returns level one headers\n",
    "    sub_cats_list=[]\n",
    "    for category in list_level_zero_headers(df):\n",
    "        for subcat in df[category].columns.tolist():\n",
    "            sub_cats_list.append(subcat)\n",
    "        \n",
    "    return sub_cats_list\n",
    "\n",
    "def convert_column_indexes_to_dict(df):\n",
    "    # returns dictionary of subcategories mapped to catergories \n",
    "    \n",
    "    # each level 1 header is set as a key, and their corresponding level 2 header as a value\n",
    "    # this allows for a dictionary to be returned showing the category each subcategory sits in\n",
    "    categories_tup_list=df.columns.tolist()\n",
    "    categories_dict=dict(map(reversed, categories_tup_list))\n",
    "    \n",
    "    return categories_dict\n",
    "\n",
    "def find_category(category_dict, column_name):\n",
    "    # return category of data based on column name given \n",
    "    \n",
    "    return category_dict[column_name]\n",
    "\n",
    "def get_specific_column_from_multiindex(df, column_name):\n",
    "    # return specific column in multiindex given name of column\n",
    "    \n",
    "    i=[index for index, tup in enumerate(df.columns.tolist()) if tup[1]==column_name]\n",
    "    \n",
    "    rows = len(df.index)\n",
    "    \n",
    "    return df.iloc[0:rows,i]\n",
    "\n",
    "def show_data_by_category(df, num_rows=2, num_cols=10):\n",
    "    # returns interactive display of all data in df, with category selection \n",
    "    \n",
    "    categories_list=list_level_zero_headers(df)\n",
    "    @interact\n",
    "    def display(\n",
    "        category=widgets.Dropdown(options=categories_list, \n",
    "                                  description=\"Category of Data\",\n",
    "                                  style={'description_width': '40%'}),\n",
    "        rows=widgets.IntSlider(min=1,max=len(df.index),step=1,value=num_rows)):\n",
    "            pd.set_option('display.max_columns', None, 'display.max_rows', None)\n",
    "            \n",
    "            sub_cats_list=df[category].columns.tolist()\n",
    "\n",
    "            return df[category].iloc[0:rows,0:len(df[category])]\n",
    "\n",
    "def show_data_with_row_control(df, num_rows=2):\n",
    "    # returns interactive display of df with num row view control only\n",
    "    \n",
    "    print(\"\\n\\nScroll to view data...\\n\")\n",
    "    @interact\n",
    "    def show_number_of_rows(\n",
    "        rows=widgets.IntSlider(min=1,max=len(df.index),step=1,value=num_rows)):\n",
    "            pd.set_option('display.max_columns', None, 'display.max_rows', None)\n",
    "\n",
    "            return df.iloc[0:rows,0:len(df)]\n",
    "        \n",
    "def show_data_with_row_column_control(df, num_rows=2, num_cols=10):\n",
    "    # returns interactive display of df with num row and column control\n",
    "    \n",
    "    print(\"\\n\\nScroll to view data...\\n\")\n",
    "    @interact\n",
    "    def show_number_of_rows(\n",
    "        rows=widgets.IntSlider(min=1,max=len(df.index),step=1,value=num_rows),\n",
    "        columns=widgets.IntSlider(min=1,max=len(df),step=1,value=num_cols)):\n",
    "            pd.set_option('display.max_columns', None, 'display.max_rows', None)\n",
    "\n",
    "            return df.iloc[0:rows,0:columns]\n",
    "\n",
    "def show_specific_columns_of_data(df, columns_to_display, num_rows=2):\n",
    "    # returns interactive display of specific columns, given as a list of names\n",
    "    \n",
    "    print(\"\\n\\nScroll to view data...\\n\")\n",
    "    @interact\n",
    "    def display(\n",
    "        rows=widgets.IntSlider(min=1,max=len(df.index),step=1,value=num_rows)):\n",
    "            pd.set_option('display.max_columns', None, 'display.max_rows', None)\n",
    "            \n",
    "            i=[index for index, tup in enumerate(df.columns.tolist()) if tup[1] in columns_to_display]\n",
    "            \n",
    "            return df.iloc[0:rows,i]\n",
    "    "
   ]
  },
  {
   "cell_type": "markdown",
   "id": "1a4a9d57",
   "metadata": {},
   "source": [
    "<br><br><br><br><br><br><br><br>\n",
    "## Simple Reading Of Data\n",
    "> Here we read the data without the column groupings in the csv file\n",
    "<br>\n",
    "<table align='centre'>\n",
    "  <tr>\n",
    "    <th scope=\"col\" style=\"text-align:left\"></th>\n",
    "    <th scope=\"col\" style=\"text-align:left\">Col A</th>\n",
    "    <th scope=\"col\" style=\"text-align:left\">Col B</th>\n",
    "    <th scope=\"col\" style=\"text-align:left\">Col C</th>\n",
    "    <th scope=\"col\" style=\"text-align:left\">Col D</th>\n",
    "  </tr>\n",
    "  <tr>\n",
    "    <th scope=\"row\">Row 1</th>\n",
    "    <td>data</td>\n",
    "    <td>data</td>\n",
    "    <td>data</td>\n",
    "    <td>data</td>\n",
    "  </tr>\n",
    "  <tr>\n",
    "    <th scope=\"row\">Row 2</th>\n",
    "    <td>data</td>\n",
    "    <td>data</td>\n",
    "    <td>data</td>\n",
    "    <td>data</td>\n",
    "  </tr>\n",
    "</table>\n",
    "<br>"
   ]
  },
  {
   "cell_type": "code",
   "execution_count": 57,
   "id": "3f4a4367",
   "metadata": {},
   "outputs": [],
   "source": [
    "# read data with pandas, skipping row with dataset title and grouping titles\n",
    "# ideally we'd want to read data including the groupings, perhaps as metadata of some sort for columns \n",
    "\n",
    "datacsv = \"asthmadata.csv\"\n",
    "\n",
    "\n",
    "df_simple = pd.read_csv(datacsv, skiprows=2, encoding='cp1252')"
   ]
  },
  {
   "cell_type": "markdown",
   "id": "90f4bde6",
   "metadata": {},
   "source": [
    "<br><br>\n",
    "> We see that the columns are of type Index"
   ]
  },
  {
   "cell_type": "code",
   "execution_count": 58,
   "id": "7cc53d9c",
   "metadata": {
    "scrolled": true
   },
   "outputs": [
    {
     "name": "stdout",
     "output_type": "stream",
     "text": [
      "<class 'pandas.core.indexes.base.Index'>\n"
     ]
    }
   ],
   "source": [
    "print(type(df_simple.columns))"
   ]
  },
  {
   "cell_type": "markdown",
   "id": "c7cc95af",
   "metadata": {},
   "source": [
    "<br><br>\n",
    "## Interactive View of Simple Dataframe\n",
    "> Set the number of rows and columns displayed\n",
    "<br>\n",
    "> Default rows: 2\n",
    "<br>\n",
    "> Default columns: 10"
   ]
  },
  {
   "cell_type": "code",
   "execution_count": 59,
   "id": "12bf65ab",
   "metadata": {},
   "outputs": [
    {
     "data": {
      "text/html": [
       "<div>\n",
       "<style scoped>\n",
       "    .dataframe tbody tr th:only-of-type {\n",
       "        vertical-align: middle;\n",
       "    }\n",
       "\n",
       "    .dataframe tbody tr th {\n",
       "        vertical-align: top;\n",
       "    }\n",
       "\n",
       "    .dataframe thead th {\n",
       "        text-align: right;\n",
       "    }\n",
       "</style>\n",
       "<table border=\"1\" class=\"dataframe\">\n",
       "  <thead>\n",
       "    <tr style=\"text-align: right;\">\n",
       "      <th></th>\n",
       "      <th>Region</th>\n",
       "      <th>Integrated Care System (ICS)</th>\n",
       "      <th>Trust/Local Health Board name</th>\n",
       "      <th>Hospital name (d = 159)</th>\n",
       "      <th>Number of adult medical emergency admissions in 2020/21 financial year</th>\n",
       "      <th>Number of adult medical emergency admissions in 2020/21 financial year per medical bed</th>\n",
       "      <th>Number of respiratory coded medical emergency admissions in 2020/21 financial year</th>\n",
       "      <th>Number of respiratory coded emergency admissions in 2020/21 financial year per respiratory bed</th>\n",
       "      <th>Number of COPD coded emergency admissions in 2020/21 financial year</th>\n",
       "      <th>Number of COPD coded emergency admissions in 2020/21 financial year per 1,000 adult medical emergency admissions</th>\n",
       "    </tr>\n",
       "  </thead>\n",
       "  <tbody>\n",
       "    <tr>\n",
       "      <th>0</th>\n",
       "      <td>East of England</td>\n",
       "      <td>Bedfordshire, Luton and Milton Keynes</td>\n",
       "      <td>Luton and Dunstable University Hospital NHS Fo...</td>\n",
       "      <td>Luton &amp; Dunstable Hospital</td>\n",
       "      <td>39628</td>\n",
       "      <td>104.0</td>\n",
       "      <td>5265</td>\n",
       "      <td>160</td>\n",
       "      <td>806</td>\n",
       "      <td>20</td>\n",
       "    </tr>\n",
       "    <tr>\n",
       "      <th>1</th>\n",
       "      <td>East of England</td>\n",
       "      <td>Bedfordshire, Luton and Milton Keynes</td>\n",
       "      <td>Milton Keynes University Hospital NHS Foundati...</td>\n",
       "      <td>Milton Keynes General Hospital</td>\n",
       "      <td>13639</td>\n",
       "      <td>43.0</td>\n",
       "      <td>2482</td>\n",
       "      <td>43</td>\n",
       "      <td>346</td>\n",
       "      <td>25</td>\n",
       "    </tr>\n",
       "  </tbody>\n",
       "</table>\n",
       "</div>"
      ],
      "text/plain": [
       "             Region            Integrated Care System (ICS)  \\\n",
       "0  East of England   Bedfordshire, Luton and Milton Keynes    \n",
       "1  East of England   Bedfordshire, Luton and Milton Keynes    \n",
       "\n",
       "                       Trust/Local Health Board name  \\\n",
       "0  Luton and Dunstable University Hospital NHS Fo...   \n",
       "1  Milton Keynes University Hospital NHS Foundati...   \n",
       "\n",
       "          Hospital name (d = 159)  \\\n",
       "0      Luton & Dunstable Hospital   \n",
       "1  Milton Keynes General Hospital   \n",
       "\n",
       "   Number of adult medical emergency admissions in 2020/21 financial year   \\\n",
       "0                                              39628                         \n",
       "1                                              13639                         \n",
       "\n",
       "   Number of adult medical emergency admissions in 2020/21 financial year per medical bed  \\\n",
       "0                                              104.0                                        \n",
       "1                                               43.0                                        \n",
       "\n",
       "   Number of respiratory coded medical emergency admissions in 2020/21 financial year   \\\n",
       "0                                               5265                                     \n",
       "1                                               2482                                     \n",
       "\n",
       "  Number of respiratory coded emergency admissions in 2020/21 financial year per respiratory bed  \\\n",
       "0                                                160                                               \n",
       "1                                                 43                                               \n",
       "\n",
       "   Number of COPD coded emergency admissions in 2020/21 financial year   \\\n",
       "0                                                806                      \n",
       "1                                                346                      \n",
       "\n",
       "   Number of COPD coded emergency admissions in 2020/21 financial year per 1,000 adult medical emergency admissions   \n",
       "0                                                 20                                                                  \n",
       "1                                                 25                                                                  "
      ]
     },
     "metadata": {},
     "output_type": "display_data"
    },
    {
     "data": {
      "application/vnd.jupyter.widget-view+json": {
       "model_id": "b5261227dbf844888cd079099985b0c5",
       "version_major": 2,
       "version_minor": 0
      },
      "text/plain": [
       "interactive(children=(IntSlider(value=2, description='rows', max=159, min=1), IntSlider(value=10, description=…"
      ]
     },
     "metadata": {},
     "output_type": "display_data"
    }
   ],
   "source": [
    "show_data_with_row_column_control(df_simple)"
   ]
  },
  {
   "cell_type": "markdown",
   "id": "46414337",
   "metadata": {},
   "source": [
    "<br><br>\n",
    "## Understanding Data Shape\n",
    "> This is just for easy reading of data variables available to analyse"
   ]
  },
  {
   "cell_type": "code",
   "execution_count": 60,
   "id": "ccb96048",
   "metadata": {},
   "outputs": [
    {
     "name": "stdout",
     "output_type": "stream",
     "text": [
      "<class 'pandas.core.frame.DataFrame'>\n",
      "RangeIndex: 159 entries, 0 to 158\n",
      "Columns: 157 entries, Region to No formal transition plan arrangements\n",
      "dtypes: float64(25), int64(7), object(125)\n",
      "memory usage: 195.2+ KB\n"
     ]
    }
   ],
   "source": [
    "# show dataset info\n",
    "\n",
    "df_simple.info(verbose=False)"
   ]
  },
  {
   "cell_type": "markdown",
   "id": "8dfb1a39",
   "metadata": {},
   "source": [
    "> The dataset is 159 rows by 159 columns, with 25 float (float64) columns, 7 integer (int64) columns and 125 object columns - the object columns are likely to contain mixed datatype values, and will need cleaning before plotting"
   ]
  },
  {
   "cell_type": "markdown",
   "id": "0b830d3c",
   "metadata": {},
   "source": [
    "<br><br><br><br><br><br><br><br>\n",
    "## Reading The Data With Multiple Header Rows\n",
    "> Here we enable **hierarchical indexing** (MultiIndex)\n",
    "<br>\n",
    "> To read more about hierarchical indexing: https://pandas.pydata.org/docs/user_guide/advanced.html\n",
    "<br><br>\n",
    "> The dataset contains groups for columns, which provide useful information which we wish to preserve\n",
    "<br><br> Our dataframe is reformatted as shown below:\n",
    "\n",
    "<table align='centre'>\n",
    "  <col>\n",
    "  <colgroup span=\"2\"></colgroup>\n",
    "  <colgroup span=\"2\"></colgroup>\n",
    "  <tr>\n",
    "    <td rowspan=\"2\"></td>\n",
    "    <th colspan=\"2\" scope=\"colgroup\" style=\"text-align:left\">Cat A</th>\n",
    "    <th colspan=\"2\" scope=\"colgroup\" style=\"text-align:left\">Cat B</th>\n",
    "  </tr>\n",
    "  <tr>\n",
    "    <th scope=\"col\" style=\"text-align:left\">Col A</th>\n",
    "    <th scope=\"col\" style=\"text-align:left\">Col B</th>\n",
    "    <th scope=\"col\" style=\"text-align:left\">Col C</th>\n",
    "    <th scope=\"col\" style=\"text-align:left\">Col D</th>\n",
    "  </tr>\n",
    "  <tr>\n",
    "    <th scope=\"row\">Row 1</th>\n",
    "    <td>data</td>\n",
    "    <td>data</td>\n",
    "    <td>data</td>\n",
    "    <td>data</td>\n",
    "  </tr>\n",
    "  <tr>\n",
    "    <th scope=\"row\">Row 2</th>\n",
    "    <td>data</td>\n",
    "    <td>data</td>\n",
    "    <td>data</td>\n",
    "    <td>data</td>\n",
    "  </tr>\n",
    "</table>\n",
    "<br>"
   ]
  },
  {
   "cell_type": "code",
   "execution_count": 61,
   "id": "e2d426fe",
   "metadata": {},
   "outputs": [
    {
     "data": {
      "text/html": [
       "<div>\n",
       "<style scoped>\n",
       "    .dataframe tbody tr th:only-of-type {\n",
       "        vertical-align: middle;\n",
       "    }\n",
       "\n",
       "    .dataframe tbody tr th {\n",
       "        vertical-align: top;\n",
       "    }\n",
       "\n",
       "    .dataframe thead tr th {\n",
       "        text-align: left;\n",
       "    }\n",
       "</style>\n",
       "<table border=\"1\" class=\"dataframe\">\n",
       "  <thead>\n",
       "    <tr>\n",
       "      <th></th>\n",
       "      <th colspan=\"4\" halign=\"left\">Location</th>\n",
       "      <th colspan=\"12\" halign=\"left\">Admission numbers</th>\n",
       "      <th colspan=\"10\" halign=\"left\">Beds for admitted patients</th>\n",
       "      <th colspan=\"24\" halign=\"left\">Staffing levels: Number of staff posts in respiratory team (Whole time equivalent (WTE))</th>\n",
       "      <th colspan=\"3\" halign=\"left\">Access to specialist staff and services</th>\n",
       "      <th colspan=\"3\" halign=\"left\">Patient access to onsite palliative care</th>\n",
       "      <th colspan=\"4\" halign=\"left\">7-day working: Operating days/times of system of speciality triage of patients to respiratory medicine</th>\n",
       "      <th colspan=\"4\" halign=\"left\">Availability of on-call respiratory consultant</th>\n",
       "      <th colspan=\"4\" halign=\"left\">Days/times senior decision maker from respiratory team (ST3 or above) undertakes ward round of new asthma/COPD patients on MAU/admissions ward</th>\n",
       "      <th colspan=\"4\" halign=\"left\">Days/times senior decision maker from respiratory team (ST3 or above) undertakes ward round of new asthma/COPD patients on respiratory ward(s)</th>\n",
       "      <th colspan=\"4\" halign=\"left\">Days/times senior decision maker from respiratory team (ST3 or above) undertakes ward round of new asthma/COPD patients on other wards</th>\n",
       "      <th colspan=\"4\" halign=\"left\">Availability of respiratory nurse(s) to review COPD patients</th>\n",
       "      <th colspan=\"4\" halign=\"left\">Availability of respiratory nurse(s) to review asthma patients</th>\n",
       "      <th colspan=\"4\" halign=\"left\">Availability of respiratory physiotherapist(s) to review COPD patients</th>\n",
       "      <th colspan=\"4\" halign=\"left\">Availability of respiratory physiotherapist(s) to review asthma patients</th>\n",
       "      <th colspan=\"2\" halign=\"left\">Management of care</th>\n",
       "      <th colspan=\"5\" halign=\"left\">Pulmonary rehabilitation (PR) service available to COPD patients discharged following flare-up</th>\n",
       "      <th colspan=\"2\" halign=\"left\">Integration of care</th>\n",
       "      <th colspan=\"3\" halign=\"left\">Outreach early/supported discharge</th>\n",
       "      <th colspan=\"3\" halign=\"left\">In-reach/supported discharge</th>\n",
       "      <th colspan=\"4\" halign=\"left\">Admissions avoidance</th>\n",
       "      <th colspan=\"4\" halign=\"left\">Oxygen assessment service</th>\n",
       "      <th colspan=\"4\" halign=\"left\">Medicine management service</th>\n",
       "      <th colspan=\"4\" halign=\"left\">Chronic disease management</th>\n",
       "      <th colspan=\"4\" halign=\"left\">Nebuliser service</th>\n",
       "      <th colspan=\"6\" halign=\"left\">Smoking cessation advice</th>\n",
       "      <th colspan=\"3\" halign=\"left\">MDT meeting - staff attendance: Physician posts</th>\n",
       "      <th colspan=\"2\" halign=\"left\">MDT meeting - staff attendance: Nurse posts</th>\n",
       "      <th colspan=\"2\" halign=\"left\">MDT meeting - staff attendance: Physiotherapist posts</th>\n",
       "      <th colspan=\"8\" halign=\"left\">MDT meeting - staff attendance: Other healthcare professional posts</th>\n",
       "      <th colspan=\"3\" halign=\"left\">Patient/carer engagement</th>\n",
       "      <th colspan=\"6\" halign=\"left\">Asthma: Process of transitioning young people from paediatric - adult services includes ensuring:</th>\n",
       "    </tr>\n",
       "    <tr>\n",
       "      <th></th>\n",
       "      <th>Region</th>\n",
       "      <th>Integrated Care System (ICS)</th>\n",
       "      <th>Trust/Local Health Board name</th>\n",
       "      <th>Hospital name (d = 159)</th>\n",
       "      <th>Number of adult medical emergency admissions in 2020/21 financial year</th>\n",
       "      <th>Number of adult medical emergency admissions in 2020/21 financial year per medical bed</th>\n",
       "      <th>Number of respiratory coded medical emergency admissions in 2020/21 financial year</th>\n",
       "      <th>Number of respiratory coded emergency admissions in 2020/21 financial year per respiratory bed</th>\n",
       "      <th>Number of COPD coded emergency admissions in 2020/21 financial year</th>\n",
       "      <th>Number of COPD coded emergency admissions in 2020/21 financial year per 1,000 adult medical emergency admissions</th>\n",
       "      <th>Total number of COPD coded emergency admissions who were discharged from, or died on, dedicated respiratory ward(s) in the 2020/21 financial year</th>\n",
       "      <th>National average proportion of COPD coded emergency admissions who were discharged from, or died on, dedicated respiratory ward(s) in the 2020/21 financial year</th>\n",
       "      <th>Number of asthma coded emergency admissions  in the 2020/21 financial year</th>\n",
       "      <th>Number of asthma coded emergency admissions in 2020/21 financial year per 1,000 adult medical emergency admissions</th>\n",
       "      <th>Total number of asthma coded emergency admissions who were discharged from, or died on, dedicated respiratory ward(s) in the 2020/21 financial year</th>\n",
       "      <th>National average proportion of asthma coded emergency admissions who were discharged from, or died on, dedicated respiratory ward(s) in the 2020/21 financial year</th>\n",
       "      <th>Number of available medical beds</th>\n",
       "      <th>Number of beds available on dedicated respiratory ward(s)</th>\n",
       "      <th>Number of Level 2 beds available on dedicated respiratory ward(s)</th>\n",
       "      <th>Number of Level 2 beds available on dedicated respiratory ward(s) per 1,000 adult respiratory admissions</th>\n",
       "      <th>Hospital has High Dependency Unit(s) (HDUs)  to which respiratory patients can be admitted</th>\n",
       "      <th>Number of HDU beds available to which COPD and asthma patients can be admitted</th>\n",
       "      <th>Number of HDU beds available to which COPD and asthma patients can be admitted per 10,000 adult medical emergency admissions</th>\n",
       "      <th>Hospital has Respiratory Support Unit (RSU) to which respiratory patients can be admitted</th>\n",
       "      <th>Number of RSU beds available to which COPD and asthma patients can be admitted</th>\n",
       "      <th>Number of RSU beds available to which COPD and asthma patients can be admitted per 10,000 adult medical emergency admissions\\n</th>\n",
       "      <th>ST3 and above WTE</th>\n",
       "      <th>ST3 and above \\nMedian (IQR) WTE per 1,000 adult emergency respiratory admissions</th>\n",
       "      <th>ST3 and above \\nMedian (IQR) WTE per 1,000 COPD emergency admissions</th>\n",
       "      <th>ST3 and above \\nMedian (IQR) WTE per 1,000 adult asthma emergency admissions</th>\n",
       "      <th>Respiratory Consultant (Filled) WTE</th>\n",
       "      <th>Respiratory Consultant\\nMedian (IQR) WTE per 1,000 adult emergency respiratory admissions</th>\n",
       "      <th>Respiratory Consultant\\nMedian (IQR) WTE per 1,000 COPD emergency admissions</th>\n",
       "      <th>Respiratory Consultant\\nMedian (IQR) WTE per 1,000 adult asthma emergency admissions</th>\n",
       "      <th>General Respiratory Nurse Specialist (Filled) WTE</th>\n",
       "      <th>General Respiratory Nurse Specialist\\nMedian (IQR) WTE per 1,000 adult emergency respiratory admissions</th>\n",
       "      <th>General Respiratory Nurse Specialist\\nMedian (IQR) WTE per 1,000 COPD emergency admissions</th>\n",
       "      <th>General Respiratory Nurse Specialist\\nMedian (IQR) WTE per 1,000 adult asthma emergency admissions</th>\n",
       "      <th>COPD Nurse Specialist (Filled) WTE</th>\n",
       "      <th>COPD Nurse Specialist\\nMedian (IQR) WTE per 1,000 adult emergency respiratory admissions</th>\n",
       "      <th>COPD Nurse Specialist\\nMedian (IQR) WTE per 1,000 COPD emergency admissions</th>\n",
       "      <th>Asthma Nurse Specialist (Filled)</th>\n",
       "      <th>Asthma Nurse Specialist\\nMedian (IQR) WTE per 1,000 adult emergency respiratory admissions</th>\n",
       "      <th>Asthma Nurse Specialist\\nMedian (IQR) WTE per 1,000 adult asthma emergency admissions</th>\n",
       "      <th>Nurse Consultant (Filled) WTE</th>\n",
       "      <th>Nurse Consultant\\nMedian (IQR) WTE per 1,000 adult emergency respiratory admissions</th>\n",
       "      <th>Advanced Nurse Practitioner (Filled) WTE</th>\n",
       "      <th>Advanced Nurse Practitioner\\nMedian (IQR) WTE per 1,000 adult emergency respiratory admissions</th>\n",
       "      <th>Advanced Clinical Practitioner (Filled) WTE</th>\n",
       "      <th>Advanced Clinical Practitioner\\nMedian (IQR) WTE per 1,000 adult emergency respiratory admissions</th>\n",
       "      <th>Respiratory physicians operate a dedicated on-call rota at hospital for respiratory emergency admissions</th>\n",
       "      <th>Designated named clinical lead for COPD available</th>\n",
       "      <th>Designated named clinical lead for asthma available</th>\n",
       "      <th>COPD patients have access</th>\n",
       "      <th>Asthma patients have access</th>\n",
       "      <th>Smoking cessation service available that COPD &amp; asthma patients can be signposted to</th>\n",
       "      <th>Weekdays \\n(08:00 hrs Ã± 18:30 hrs)</th>\n",
       "      <th>Weekends</th>\n",
       "      <th>Out of hours</th>\n",
       "      <th>No speciality triage available</th>\n",
       "      <th>Weekdays\\n(08:00 hrs Ã± 18:30 hrs)</th>\n",
       "      <th>Weekends</th>\n",
       "      <th>Out of hours</th>\n",
       "      <th>No on-call respiratory consultant available</th>\n",
       "      <th>Weekdays\\n(08:00 hrs Ã± 18:30 hrs)</th>\n",
       "      <th>Weekends</th>\n",
       "      <th>Out of hours</th>\n",
       "      <th>None</th>\n",
       "      <th>Weekdays\\n(08:00 hrs Ã± 18:30 hrs)</th>\n",
       "      <th>Weekends</th>\n",
       "      <th>Out of hours</th>\n",
       "      <th>None</th>\n",
       "      <th>Weekdays\\n(08:00 hrs Ã± 18:30 hrs)</th>\n",
       "      <th>Weekends</th>\n",
       "      <th>Out of hours</th>\n",
       "      <th>None</th>\n",
       "      <th>Weekdays\\n(08:00 hrs Ã± 18:30 hrs)</th>\n",
       "      <th>Weekends</th>\n",
       "      <th>Out of hours</th>\n",
       "      <th>None</th>\n",
       "      <th>Weekdays\\n(08:00 hrs Ã± 18:30 hrs)</th>\n",
       "      <th>Weekends</th>\n",
       "      <th>Out of hours</th>\n",
       "      <th>None</th>\n",
       "      <th>Weekdays\\n(08:00 hrs Ã± 18:30 hrs)</th>\n",
       "      <th>Weekends</th>\n",
       "      <th>Out of hours</th>\n",
       "      <th>None</th>\n",
       "      <th>Weekdays\\n(08:00 hrs Ã± 18:30 hrs)</th>\n",
       "      <th>Weekends</th>\n",
       "      <th>Out of hours</th>\n",
       "      <th>None</th>\n",
       "      <th>Hospital has Electronic Patient Record (EPR) system</th>\n",
       "      <th>Name of EPR supplier \\n(Free text)</th>\n",
       "      <th>Yes - based onsite</th>\n",
       "      <th>Yes - based within another hospital</th>\n",
       "      <th>Yes - based within the community</th>\n",
       "      <th>No</th>\n",
       "      <th>Is this/are these services available within 30 days of discharge</th>\n",
       "      <th>Hospital has severe asthma service</th>\n",
       "      <th>If no, hospital has referral pathway to a severe asthma service</th>\n",
       "      <th>Not provided</th>\n",
       "      <th>Provided by hospital-based team</th>\n",
       "      <th>Provided jointly by hospital team and community team</th>\n",
       "      <th>Not provided</th>\n",
       "      <th>Provided by community-based team</th>\n",
       "      <th>Provided jointly by community and hospital team</th>\n",
       "      <th>Not provided</th>\n",
       "      <th>Provided hospital-based team</th>\n",
       "      <th>Provided by community-based team</th>\n",
       "      <th>Provided by single team working across community/secondary care interface</th>\n",
       "      <th>Not provided</th>\n",
       "      <th>Provided by hospital-based team</th>\n",
       "      <th>Provided by community-based team</th>\n",
       "      <th>Provided by single team working across community/secondary care interface</th>\n",
       "      <th>Not provided</th>\n",
       "      <th>Provided by hospital-based team</th>\n",
       "      <th>Provided by community-based team</th>\n",
       "      <th>Provided by single team working across community/secondary care interface</th>\n",
       "      <th>Not provided</th>\n",
       "      <th>Provided by hospital-based team</th>\n",
       "      <th>Provided by community-based team</th>\n",
       "      <th>Provided by single team working across community/secondary care interface</th>\n",
       "      <th>Not provided</th>\n",
       "      <th>Provided by hospital-based team</th>\n",
       "      <th>Provided by community-based team</th>\n",
       "      <th>Provided by single team working across community/secondary care interface</th>\n",
       "      <th>Not provided</th>\n",
       "      <th>Provided by hospital-based team</th>\n",
       "      <th>Provided by community-based team</th>\n",
       "      <th>Provided by single team working across community/secondary care interface</th>\n",
       "      <th>Regular MDT meeting between hospital and community teams for patients with COPD</th>\n",
       "      <th>If yes, how frequently does the meeting occur</th>\n",
       "      <th>Respiratory consultant attends</th>\n",
       "      <th>Other member of respiratory specialist team attends</th>\n",
       "      <th>General practitioner attends</th>\n",
       "      <th>Ward nurse attends</th>\n",
       "      <th>Community nurse attends</th>\n",
       "      <th>Ward physiotherapist attends</th>\n",
       "      <th>Community physiotherapist attends</th>\n",
       "      <th>Ward pharmacist attends</th>\n",
       "      <th>Ward OT attends</th>\n",
       "      <th>Community pharmacist attends</th>\n",
       "      <th>Community OT attends</th>\n",
       "      <th>Smoking cessation counsellor attends</th>\n",
       "      <th>Psychologist attends</th>\n",
       "      <th>Other staff attend</th>\n",
       "      <th>Time within MDT meeting for developing local integrated respiratory services</th>\n",
       "      <th>Frequency of survey of patient/carer views on respiratory service</th>\n",
       "      <th>Trust/Health Board has strategic group for respiratory services</th>\n",
       "      <th>Patient representation within strategic group</th>\n",
       "      <th>Young person has full record of condition</th>\n",
       "      <th>GP has full record of condition</th>\n",
       "      <th>Young person given opportunity to be seen without parents/carers</th>\n",
       "      <th>Transition plan agreed with paediatric and adult consultants</th>\n",
       "      <th>Named case worker assigned to assist signposting young person/family</th>\n",
       "      <th>No formal transition plan arrangements</th>\n",
       "    </tr>\n",
       "  </thead>\n",
       "  <tbody>\n",
       "    <tr>\n",
       "      <th>0</th>\n",
       "      <td>East of England</td>\n",
       "      <td>Bedfordshire, Luton and Milton Keynes</td>\n",
       "      <td>Luton and Dunstable University Hospital NHS Fo...</td>\n",
       "      <td>Luton &amp; Dunstable Hospital</td>\n",
       "      <td>39628</td>\n",
       "      <td>104.0</td>\n",
       "      <td>5265</td>\n",
       "      <td>160</td>\n",
       "      <td>806</td>\n",
       "      <td>20</td>\n",
       "      <td>316</td>\n",
       "      <td>39</td>\n",
       "      <td>369</td>\n",
       "      <td>9</td>\n",
       "      <td>102</td>\n",
       "      <td>28</td>\n",
       "      <td>380</td>\n",
       "      <td>33</td>\n",
       "      <td>0</td>\n",
       "      <td>0</td>\n",
       "      <td>Yes</td>\n",
       "      <td>7</td>\n",
       "      <td>2</td>\n",
       "      <td>No</td>\n",
       "      <td>Not applicable</td>\n",
       "      <td>Not applicable</td>\n",
       "      <td>6.0</td>\n",
       "      <td>1.1</td>\n",
       "      <td>7.4</td>\n",
       "      <td>16.3</td>\n",
       "      <td>10.0</td>\n",
       "      <td>1.9</td>\n",
       "      <td>12.4</td>\n",
       "      <td>27.1</td>\n",
       "      <td>7.0</td>\n",
       "      <td>1.3</td>\n",
       "      <td>8.7</td>\n",
       "      <td>19.0</td>\n",
       "      <td>0.0</td>\n",
       "      <td>0.0</td>\n",
       "      <td>0.0</td>\n",
       "      <td>0.0</td>\n",
       "      <td>0.0</td>\n",
       "      <td>0.0</td>\n",
       "      <td>0.0</td>\n",
       "      <td>0.0</td>\n",
       "      <td>0.0</td>\n",
       "      <td>0.0</td>\n",
       "      <td>0.0</td>\n",
       "      <td>0.0</td>\n",
       "      <td>Yes</td>\n",
       "      <td>Yes</td>\n",
       "      <td>Yes</td>\n",
       "      <td>Yes</td>\n",
       "      <td>Yes</td>\n",
       "      <td>Yes</td>\n",
       "      <td>Yes</td>\n",
       "      <td>Yes</td>\n",
       "      <td>No</td>\n",
       "      <td>No</td>\n",
       "      <td>Yes</td>\n",
       "      <td>Yes</td>\n",
       "      <td>Yes</td>\n",
       "      <td>No</td>\n",
       "      <td>Yes</td>\n",
       "      <td>Yes</td>\n",
       "      <td>No</td>\n",
       "      <td>No</td>\n",
       "      <td>Yes</td>\n",
       "      <td>Yes</td>\n",
       "      <td>No</td>\n",
       "      <td>No</td>\n",
       "      <td>No</td>\n",
       "      <td>No</td>\n",
       "      <td>No</td>\n",
       "      <td>Yes</td>\n",
       "      <td>Yes</td>\n",
       "      <td>Yes</td>\n",
       "      <td>No</td>\n",
       "      <td>No</td>\n",
       "      <td>Yes</td>\n",
       "      <td>Yes</td>\n",
       "      <td>No</td>\n",
       "      <td>No</td>\n",
       "      <td>Yes</td>\n",
       "      <td>Yes</td>\n",
       "      <td>Yes</td>\n",
       "      <td>No</td>\n",
       "      <td>Yes</td>\n",
       "      <td>Yes</td>\n",
       "      <td>Yes</td>\n",
       "      <td>No</td>\n",
       "      <td>Yes</td>\n",
       "      <td>Evolve</td>\n",
       "      <td>Yes</td>\n",
       "      <td>No</td>\n",
       "      <td>Yes</td>\n",
       "      <td>No</td>\n",
       "      <td>Yes</td>\n",
       "      <td>No</td>\n",
       "      <td>Yes</td>\n",
       "      <td>No</td>\n",
       "      <td>Yes</td>\n",
       "      <td>No</td>\n",
       "      <td>Yes</td>\n",
       "      <td>No</td>\n",
       "      <td>No</td>\n",
       "      <td>No</td>\n",
       "      <td>Yes</td>\n",
       "      <td>Yes</td>\n",
       "      <td>No</td>\n",
       "      <td>No</td>\n",
       "      <td>Yes</td>\n",
       "      <td>No</td>\n",
       "      <td>No</td>\n",
       "      <td>No</td>\n",
       "      <td>Yes</td>\n",
       "      <td>Yes</td>\n",
       "      <td>No</td>\n",
       "      <td>No</td>\n",
       "      <td>Yes</td>\n",
       "      <td>Yes</td>\n",
       "      <td>No</td>\n",
       "      <td>No</td>\n",
       "      <td>Yes</td>\n",
       "      <td>No</td>\n",
       "      <td>No</td>\n",
       "      <td>No</td>\n",
       "      <td>No</td>\n",
       "      <td>No</td>\n",
       "      <td>Yes</td>\n",
       "      <td>Yes</td>\n",
       "      <td>Monthly</td>\n",
       "      <td>Yes</td>\n",
       "      <td>Yes</td>\n",
       "      <td>No</td>\n",
       "      <td>No</td>\n",
       "      <td>Yes</td>\n",
       "      <td>No</td>\n",
       "      <td>Yes</td>\n",
       "      <td>No</td>\n",
       "      <td>No</td>\n",
       "      <td>No</td>\n",
       "      <td>Yes</td>\n",
       "      <td>No</td>\n",
       "      <td>Yes</td>\n",
       "      <td>No</td>\n",
       "      <td>No</td>\n",
       "      <td>Continuous (every patient)</td>\n",
       "      <td>Yes</td>\n",
       "      <td>No</td>\n",
       "      <td>Yes</td>\n",
       "      <td>Yes</td>\n",
       "      <td>Yes</td>\n",
       "      <td>Yes</td>\n",
       "      <td>No</td>\n",
       "      <td>No</td>\n",
       "    </tr>\n",
       "    <tr>\n",
       "      <th>1</th>\n",
       "      <td>East of England</td>\n",
       "      <td>Bedfordshire, Luton and Milton Keynes</td>\n",
       "      <td>Milton Keynes University Hospital NHS Foundati...</td>\n",
       "      <td>Milton Keynes General Hospital</td>\n",
       "      <td>13639</td>\n",
       "      <td>43.0</td>\n",
       "      <td>2482</td>\n",
       "      <td>43</td>\n",
       "      <td>346</td>\n",
       "      <td>25</td>\n",
       "      <td>123</td>\n",
       "      <td>36</td>\n",
       "      <td>109</td>\n",
       "      <td>8</td>\n",
       "      <td>17</td>\n",
       "      <td>16</td>\n",
       "      <td>319</td>\n",
       "      <td>58</td>\n",
       "      <td>0</td>\n",
       "      <td>0</td>\n",
       "      <td>No</td>\n",
       "      <td>Not applicable</td>\n",
       "      <td>Not applicable</td>\n",
       "      <td>No</td>\n",
       "      <td>Not applicable</td>\n",
       "      <td>Not applicable</td>\n",
       "      <td>2.0</td>\n",
       "      <td>0.8</td>\n",
       "      <td>5.8</td>\n",
       "      <td>18.3</td>\n",
       "      <td>5.0</td>\n",
       "      <td>2.0</td>\n",
       "      <td>14.5</td>\n",
       "      <td>45.9</td>\n",
       "      <td>0.0</td>\n",
       "      <td>0.0</td>\n",
       "      <td>0.0</td>\n",
       "      <td>0.0</td>\n",
       "      <td>1.0</td>\n",
       "      <td>0.4</td>\n",
       "      <td>2.9</td>\n",
       "      <td>0.0</td>\n",
       "      <td>0.0</td>\n",
       "      <td>0.0</td>\n",
       "      <td>0.0</td>\n",
       "      <td>0.0</td>\n",
       "      <td>2.6</td>\n",
       "      <td>1.0</td>\n",
       "      <td>0.0</td>\n",
       "      <td>0.0</td>\n",
       "      <td>No</td>\n",
       "      <td>Yes</td>\n",
       "      <td>Yes</td>\n",
       "      <td>Yes</td>\n",
       "      <td>Yes</td>\n",
       "      <td>Yes</td>\n",
       "      <td>No</td>\n",
       "      <td>No</td>\n",
       "      <td>No</td>\n",
       "      <td>Yes</td>\n",
       "      <td>No</td>\n",
       "      <td>No</td>\n",
       "      <td>No</td>\n",
       "      <td>Yes</td>\n",
       "      <td>Yes</td>\n",
       "      <td>No</td>\n",
       "      <td>No</td>\n",
       "      <td>No</td>\n",
       "      <td>Yes</td>\n",
       "      <td>No</td>\n",
       "      <td>No</td>\n",
       "      <td>No</td>\n",
       "      <td>Yes</td>\n",
       "      <td>No</td>\n",
       "      <td>No</td>\n",
       "      <td>No</td>\n",
       "      <td>Yes</td>\n",
       "      <td>No</td>\n",
       "      <td>No</td>\n",
       "      <td>No</td>\n",
       "      <td>Yes</td>\n",
       "      <td>No</td>\n",
       "      <td>No</td>\n",
       "      <td>No</td>\n",
       "      <td>Yes</td>\n",
       "      <td>Yes</td>\n",
       "      <td>Yes</td>\n",
       "      <td>No</td>\n",
       "      <td>Yes</td>\n",
       "      <td>Yes</td>\n",
       "      <td>Yes</td>\n",
       "      <td>No</td>\n",
       "      <td>Yes</td>\n",
       "      <td>ecare</td>\n",
       "      <td>Yes</td>\n",
       "      <td>No</td>\n",
       "      <td>Yes</td>\n",
       "      <td>No</td>\n",
       "      <td>Yes</td>\n",
       "      <td>No</td>\n",
       "      <td>Yes</td>\n",
       "      <td>No</td>\n",
       "      <td>No</td>\n",
       "      <td>Yes</td>\n",
       "      <td>No</td>\n",
       "      <td>No</td>\n",
       "      <td>Yes</td>\n",
       "      <td>No</td>\n",
       "      <td>No</td>\n",
       "      <td>Yes</td>\n",
       "      <td>No</td>\n",
       "      <td>No</td>\n",
       "      <td>Yes</td>\n",
       "      <td>Yes</td>\n",
       "      <td>No</td>\n",
       "      <td>Yes</td>\n",
       "      <td>No</td>\n",
       "      <td>No</td>\n",
       "      <td>No</td>\n",
       "      <td>Yes</td>\n",
       "      <td>No</td>\n",
       "      <td>No</td>\n",
       "      <td>No</td>\n",
       "      <td>Yes</td>\n",
       "      <td>No</td>\n",
       "      <td>No</td>\n",
       "      <td>No</td>\n",
       "      <td>No</td>\n",
       "      <td>No</td>\n",
       "      <td>Yes</td>\n",
       "      <td>No</td>\n",
       "      <td>Yes</td>\n",
       "      <td>Weekly</td>\n",
       "      <td>Yes</td>\n",
       "      <td>No</td>\n",
       "      <td>No</td>\n",
       "      <td>No</td>\n",
       "      <td>Yes</td>\n",
       "      <td>No</td>\n",
       "      <td>No</td>\n",
       "      <td>No</td>\n",
       "      <td>No</td>\n",
       "      <td>No</td>\n",
       "      <td>No</td>\n",
       "      <td>No</td>\n",
       "      <td>No</td>\n",
       "      <td>Yes</td>\n",
       "      <td>Yes</td>\n",
       "      <td>Less than once a year</td>\n",
       "      <td>Yes</td>\n",
       "      <td>Yes</td>\n",
       "      <td>No</td>\n",
       "      <td>No</td>\n",
       "      <td>No</td>\n",
       "      <td>No</td>\n",
       "      <td>No</td>\n",
       "      <td>Yes</td>\n",
       "    </tr>\n",
       "  </tbody>\n",
       "</table>\n",
       "</div>"
      ],
      "text/plain": [
       "           Location                                          \\\n",
       "             Region            Integrated Care System (ICS)   \n",
       "0  East of England   Bedfordshire, Luton and Milton Keynes    \n",
       "1  East of England   Bedfordshire, Luton and Milton Keynes    \n",
       "\n",
       "                                                      \\\n",
       "                       Trust/Local Health Board name   \n",
       "0  Luton and Dunstable University Hospital NHS Fo...   \n",
       "1  Milton Keynes University Hospital NHS Foundati...   \n",
       "\n",
       "                                   \\\n",
       "          Hospital name (d = 159)   \n",
       "0      Luton & Dunstable Hospital   \n",
       "1  Milton Keynes General Hospital   \n",
       "\n",
       "                                                        Admission numbers  \\\n",
       "  Number of adult medical emergency admissions in 2020/21 financial year    \n",
       "0                                              39628                        \n",
       "1                                              13639                        \n",
       "\n",
       "                                                                                          \\\n",
       "  Number of adult medical emergency admissions in 2020/21 financial year per medical bed   \n",
       "0                                              104.0                                       \n",
       "1                                               43.0                                       \n",
       "\n",
       "                                                                                       \\\n",
       "  Number of respiratory coded medical emergency admissions in 2020/21 financial year    \n",
       "0                                               5265                                    \n",
       "1                                               2482                                    \n",
       "\n",
       "                                                                                                  \\\n",
       "  Number of respiratory coded emergency admissions in 2020/21 financial year per respiratory bed   \n",
       "0                                                160                                               \n",
       "1                                                 43                                               \n",
       "\n",
       "                                                                        \\\n",
       "  Number of COPD coded emergency admissions in 2020/21 financial year    \n",
       "0                                                806                     \n",
       "1                                                346                     \n",
       "\n",
       "                                                                                                                     \\\n",
       "  Number of COPD coded emergency admissions in 2020/21 financial year per 1,000 adult medical emergency admissions    \n",
       "0                                                 20                                                                  \n",
       "1                                                 25                                                                  \n",
       "\n",
       "                                                                                                                                                     \\\n",
       "  Total number of COPD coded emergency admissions who were discharged from, or died on, dedicated respiratory ward(s) in the 2020/21 financial year   \n",
       "0                                                316                                                                                                  \n",
       "1                                                123                                                                                                  \n",
       "\n",
       "                                                                                                                                                                    \\\n",
       "  National average proportion of COPD coded emergency admissions who were discharged from, or died on, dedicated respiratory ward(s) in the 2020/21 financial year   \n",
       "0                                                 39                                                                                                                 \n",
       "1                                                 36                                                                                                                 \n",
       "\n",
       "                                                                               \\\n",
       "  Number of asthma coded emergency admissions  in the 2020/21 financial year    \n",
       "0                                                369                            \n",
       "1                                                109                            \n",
       "\n",
       "                                                                                                                       \\\n",
       "  Number of asthma coded emergency admissions in 2020/21 financial year per 1,000 adult medical emergency admissions    \n",
       "0                                                  9                                                                    \n",
       "1                                                  8                                                                    \n",
       "\n",
       "                                                                                                                                                        \\\n",
       "  Total number of asthma coded emergency admissions who were discharged from, or died on, dedicated respiratory ward(s) in the 2020/21 financial year    \n",
       "0                                                102                                                                                                     \n",
       "1                                                 17                                                                                                     \n",
       "\n",
       "                                                                                                                                                                       \\\n",
       "  National average proportion of asthma coded emergency admissions who were discharged from, or died on, dedicated respiratory ward(s) in the 2020/21 financial year    \n",
       "0                                                 28                                                                                                                    \n",
       "1                                                 16                                                                                                                    \n",
       "\n",
       "        Beds for admitted patients  \\\n",
       "  Number of available medical beds   \n",
       "0                              380   \n",
       "1                              319   \n",
       "\n",
       "                                                              \\\n",
       "  Number of beds available on dedicated respiratory ward(s)    \n",
       "0                                                 33           \n",
       "1                                                 58           \n",
       "\n",
       "                                                                     \\\n",
       "  Number of Level 2 beds available on dedicated respiratory ward(s)   \n",
       "0                                                  0                  \n",
       "1                                                  0                  \n",
       "\n",
       "                                                                                                            \\\n",
       "  Number of Level 2 beds available on dedicated respiratory ward(s) per 1,000 adult respiratory admissions   \n",
       "0                                                  0                                                         \n",
       "1                                                  0                                                         \n",
       "\n",
       "                                                                                              \\\n",
       "  Hospital has High Dependency Unit(s) (HDUs)  to which respiratory patients can be admitted   \n",
       "0                                                Yes                                           \n",
       "1                                                 No                                           \n",
       "\n",
       "                                                                                  \\\n",
       "  Number of HDU beds available to which COPD and asthma patients can be admitted   \n",
       "0                                                  7                               \n",
       "1                                     Not applicable                               \n",
       "\n",
       "                                                                                                                                \\\n",
       "  Number of HDU beds available to which COPD and asthma patients can be admitted per 10,000 adult medical emergency admissions   \n",
       "0                                                  2                                                                             \n",
       "1                                     Not applicable                                                                             \n",
       "\n",
       "                                                                                             \\\n",
       "  Hospital has Respiratory Support Unit (RSU) to which respiratory patients can be admitted   \n",
       "0                                                 No                                          \n",
       "1                                                 No                                          \n",
       "\n",
       "                                                                                  \\\n",
       "  Number of RSU beds available to which COPD and asthma patients can be admitted   \n",
       "0                                     Not applicable                               \n",
       "1                                     Not applicable                               \n",
       "\n",
       "                                                                                                                                  \\\n",
       "  Number of RSU beds available to which COPD and asthma patients can be admitted per 10,000 adult medical emergency admissions\\n   \n",
       "0                                     Not applicable                                                                               \n",
       "1                                     Not applicable                                                                               \n",
       "\n",
       "  Staffing levels: Number of staff posts in respiratory team (Whole time equivalent (WTE))  \\\n",
       "                                                                         ST3 and above WTE   \n",
       "0                                                6.0                                         \n",
       "1                                                2.0                                         \n",
       "\n",
       "                                                                                     \\\n",
       "  ST3 and above \\nMedian (IQR) WTE per 1,000 adult emergency respiratory admissions   \n",
       "0                                                1.1                                  \n",
       "1                                                0.8                                  \n",
       "\n",
       "                                                                        \\\n",
       "  ST3 and above \\nMedian (IQR) WTE per 1,000 COPD emergency admissions   \n",
       "0                                                7.4                     \n",
       "1                                                5.8                     \n",
       "\n",
       "                                                                                \\\n",
       "  ST3 and above \\nMedian (IQR) WTE per 1,000 adult asthma emergency admissions   \n",
       "0                                               16.3                             \n",
       "1                                               18.3                             \n",
       "\n",
       "                                       \\\n",
       "  Respiratory Consultant (Filled) WTE   \n",
       "0                                10.0   \n",
       "1                                 5.0   \n",
       "\n",
       "                                                                                             \\\n",
       "  Respiratory Consultant\\nMedian (IQR) WTE per 1,000 adult emergency respiratory admissions   \n",
       "0                                                1.9                                          \n",
       "1                                                2.0                                          \n",
       "\n",
       "                                                                                \\\n",
       "  Respiratory Consultant\\nMedian (IQR) WTE per 1,000 COPD emergency admissions   \n",
       "0                                               12.4                             \n",
       "1                                               14.5                             \n",
       "\n",
       "                                                                                        \\\n",
       "  Respiratory Consultant\\nMedian (IQR) WTE per 1,000 adult asthma emergency admissions   \n",
       "0                                               27.1                                     \n",
       "1                                               45.9                                     \n",
       "\n",
       "                                                     \\\n",
       "  General Respiratory Nurse Specialist (Filled) WTE   \n",
       "0                                               7.0   \n",
       "1                                               0.0   \n",
       "\n",
       "                                                                                                           \\\n",
       "  General Respiratory Nurse Specialist\\nMedian (IQR) WTE per 1,000 adult emergency respiratory admissions   \n",
       "0                                                1.3                                                        \n",
       "1                                                0.0                                                        \n",
       "\n",
       "                                                                                              \\\n",
       "  General Respiratory Nurse Specialist\\nMedian (IQR) WTE per 1,000 COPD emergency admissions   \n",
       "0                                                8.7                                           \n",
       "1                                                0.0                                           \n",
       "\n",
       "                                                                                                      \\\n",
       "  General Respiratory Nurse Specialist\\nMedian (IQR) WTE per 1,000 adult asthma emergency admissions   \n",
       "0                                               19.0                                                   \n",
       "1                                                0.0                                                   \n",
       "\n",
       "                                      \\\n",
       "  COPD Nurse Specialist (Filled) WTE   \n",
       "0                                0.0   \n",
       "1                                1.0   \n",
       "\n",
       "                                                                                            \\\n",
       "  COPD Nurse Specialist\\nMedian (IQR) WTE per 1,000 adult emergency respiratory admissions   \n",
       "0                                                0.0                                         \n",
       "1                                                0.4                                         \n",
       "\n",
       "                                                                               \\\n",
       "  COPD Nurse Specialist\\nMedian (IQR) WTE per 1,000 COPD emergency admissions   \n",
       "0                                                0.0                            \n",
       "1                                                2.9                            \n",
       "\n",
       "                                    \\\n",
       "  Asthma Nurse Specialist (Filled)   \n",
       "0                              0.0   \n",
       "1                              0.0   \n",
       "\n",
       "                                                                                              \\\n",
       "  Asthma Nurse Specialist\\nMedian (IQR) WTE per 1,000 adult emergency respiratory admissions   \n",
       "0                                                0.0                                           \n",
       "1                                                0.0                                           \n",
       "\n",
       "                                                                                         \\\n",
       "  Asthma Nurse Specialist\\nMedian (IQR) WTE per 1,000 adult asthma emergency admissions   \n",
       "0                                                0.0                                      \n",
       "1                                                0.0                                      \n",
       "\n",
       "                                 \\\n",
       "  Nurse Consultant (Filled) WTE   \n",
       "0                           0.0   \n",
       "1                           0.0   \n",
       "\n",
       "                                                                                       \\\n",
       "  Nurse Consultant\\nMedian (IQR) WTE per 1,000 adult emergency respiratory admissions   \n",
       "0                                                0.0                                    \n",
       "1                                                0.0                                    \n",
       "\n",
       "                                            \\\n",
       "  Advanced Nurse Practitioner (Filled) WTE   \n",
       "0                                      0.0   \n",
       "1                                      2.6   \n",
       "\n",
       "                                                                                                  \\\n",
       "  Advanced Nurse Practitioner\\nMedian (IQR) WTE per 1,000 adult emergency respiratory admissions   \n",
       "0                                                0.0                                               \n",
       "1                                                1.0                                               \n",
       "\n",
       "                                               \\\n",
       "  Advanced Clinical Practitioner (Filled) WTE   \n",
       "0                                         0.0   \n",
       "1                                         0.0   \n",
       "\n",
       "                                                                                                     \\\n",
       "  Advanced Clinical Practitioner\\nMedian (IQR) WTE per 1,000 adult emergency respiratory admissions   \n",
       "0                                                0.0                                                  \n",
       "1                                                0.0                                                  \n",
       "\n",
       "                                                                   Access to specialist staff and services  \\\n",
       "  Respiratory physicians operate a dedicated on-call rota at hospital for respiratory emergency admissions   \n",
       "0                                                Yes                                                         \n",
       "1                                                 No                                                         \n",
       "\n",
       "                                                     \\\n",
       "  Designated named clinical lead for COPD available   \n",
       "0                                               Yes   \n",
       "1                                               Yes   \n",
       "\n",
       "                                                       \\\n",
       "  Designated named clinical lead for asthma available   \n",
       "0                                                Yes    \n",
       "1                                                Yes    \n",
       "\n",
       "  Patient access to onsite palliative care                              \\\n",
       "                 COPD patients have access Asthma patients have access   \n",
       "0                                      Yes                         Yes   \n",
       "1                                      Yes                         Yes   \n",
       "\n",
       "                                                                                         \\\n",
       "  Smoking cessation service available that COPD & asthma patients can be signposted to    \n",
       "0                                                Yes                                      \n",
       "1                                                Yes                                      \n",
       "\n",
       "  7-day working: Operating days/times of system of speciality triage of patients to respiratory medicine  \\\n",
       "                                                                     Weekdays \\n(08:00 hrs Ã± 18:30 hrs)   \n",
       "0                                                Yes                                                       \n",
       "1                                                 No                                                       \n",
       "\n",
       "                                                        \\\n",
       "  Weekends Out of hours No speciality triage available   \n",
       "0      Yes           No                             No   \n",
       "1       No           No                            Yes   \n",
       "\n",
       "  Availability of on-call respiratory consultant                        \\\n",
       "              Weekdays\\n(08:00 hrs Ã± 18:30 hrs) Weekends Out of hours   \n",
       "0                                            Yes      Yes          Yes   \n",
       "1                                             No       No           No   \n",
       "\n",
       "                                               \\\n",
       "  No on-call respiratory consultant available   \n",
       "0                                          No   \n",
       "1                                         Yes   \n",
       "\n",
       "  Days/times senior decision maker from respiratory team (ST3 or above) undertakes ward round of new asthma/COPD patients on MAU/admissions ward  \\\n",
       "                                                                                                              Weekdays\\n(08:00 hrs Ã± 18:30 hrs)   \n",
       "0                                                Yes                                                                                               \n",
       "1                                                Yes                                                                                               \n",
       "\n",
       "                              \\\n",
       "  Weekends Out of hours None   \n",
       "0      Yes           No   No   \n",
       "1       No           No   No   \n",
       "\n",
       "  Days/times senior decision maker from respiratory team (ST3 or above) undertakes ward round of new asthma/COPD patients on respiratory ward(s)  \\\n",
       "                                                                                                              Weekdays\\n(08:00 hrs Ã± 18:30 hrs)   \n",
       "0                                                Yes                                                                                               \n",
       "1                                                Yes                                                                                               \n",
       "\n",
       "                              \\\n",
       "  Weekends Out of hours None   \n",
       "0      Yes           No   No   \n",
       "1       No           No   No   \n",
       "\n",
       "  Days/times senior decision maker from respiratory team (ST3 or above) undertakes ward round of new asthma/COPD patients on other wards  \\\n",
       "                                                                                                      Weekdays\\n(08:00 hrs Ã± 18:30 hrs)   \n",
       "0                                                 No                                                                                       \n",
       "1                                                Yes                                                                                       \n",
       "\n",
       "                              \\\n",
       "  Weekends Out of hours None   \n",
       "0       No           No  Yes   \n",
       "1       No           No   No   \n",
       "\n",
       "  Availability of respiratory nurse(s) to review COPD patients           \\\n",
       "                            Weekdays\\n(08:00 hrs Ã± 18:30 hrs) Weekends   \n",
       "0                                                Yes                Yes   \n",
       "1                                                Yes                 No   \n",
       "\n",
       "                     \\\n",
       "  Out of hours None   \n",
       "0           No   No   \n",
       "1           No   No   \n",
       "\n",
       "  Availability of respiratory nurse(s) to review asthma patients           \\\n",
       "                              Weekdays\\n(08:00 hrs Ã± 18:30 hrs) Weekends   \n",
       "0                                                Yes                  Yes   \n",
       "1                                                Yes                   No   \n",
       "\n",
       "                     \\\n",
       "  Out of hours None   \n",
       "0           No   No   \n",
       "1           No   No   \n",
       "\n",
       "  Availability of respiratory physiotherapist(s) to review COPD patients  \\\n",
       "                                      Weekdays\\n(08:00 hrs Ã± 18:30 hrs)   \n",
       "0                                                Yes                       \n",
       "1                                                Yes                       \n",
       "\n",
       "                              \\\n",
       "  Weekends Out of hours None   \n",
       "0      Yes          Yes   No   \n",
       "1      Yes          Yes   No   \n",
       "\n",
       "  Availability of respiratory physiotherapist(s) to review asthma patients  \\\n",
       "                                        Weekdays\\n(08:00 hrs Ã± 18:30 hrs)   \n",
       "0                                                Yes                         \n",
       "1                                                Yes                         \n",
       "\n",
       "                              \\\n",
       "  Weekends Out of hours None   \n",
       "0      Yes          Yes   No   \n",
       "1      Yes          Yes   No   \n",
       "\n",
       "                                   Management of care  \\\n",
       "  Hospital has Electronic Patient Record (EPR) system   \n",
       "0                                                Yes    \n",
       "1                                                Yes    \n",
       "\n",
       "                                      \\\n",
       "  Name of EPR supplier \\n(Free text)   \n",
       "0                             Evolve   \n",
       "1                              ecare   \n",
       "\n",
       "  Pulmonary rehabilitation (PR) service available to COPD patients discharged following flare-up  \\\n",
       "                                                                              Yes - based onsite   \n",
       "0                                                Yes                                               \n",
       "1                                                Yes                                               \n",
       "\n",
       "                                                                            \\\n",
       "  Yes - based within another hospital Yes - based within the community  No   \n",
       "0                                  No                              Yes  No   \n",
       "1                                  No                              Yes  No   \n",
       "\n",
       "                                                                    \\\n",
       "  Is this/are these services available within 30 days of discharge   \n",
       "0                                                Yes                 \n",
       "1                                                Yes                 \n",
       "\n",
       "                 Integration of care  \\\n",
       "  Hospital has severe asthma service   \n",
       "0                                 No   \n",
       "1                                 No   \n",
       "\n",
       "                                                                   \\\n",
       "  If no, hospital has referral pathway to a severe asthma service   \n",
       "0                                                Yes                \n",
       "1                                                Yes                \n",
       "\n",
       "  Outreach early/supported discharge                                  \\\n",
       "                        Not provided Provided by hospital-based team   \n",
       "0                                 No                             Yes   \n",
       "1                                 No                              No   \n",
       "\n",
       "                                                        \\\n",
       "  Provided jointly by hospital team and community team   \n",
       "0                                                 No     \n",
       "1                                                Yes     \n",
       "\n",
       "  In-reach/supported discharge                                   \\\n",
       "                  Not provided Provided by community-based team   \n",
       "0                          Yes                               No   \n",
       "1                           No                               No   \n",
       "\n",
       "                                                  Admissions avoidance  \\\n",
       "  Provided jointly by community and hospital team         Not provided   \n",
       "0                                              No                   No   \n",
       "1                                             Yes                   No   \n",
       "\n",
       "                                                                 \\\n",
       "  Provided hospital-based team Provided by community-based team   \n",
       "0                          Yes                              Yes   \n",
       "1                           No                              Yes   \n",
       "\n",
       "                                                                             \\\n",
       "  Provided by single team working across community/secondary care interface   \n",
       "0                                                 No                          \n",
       "1                                                 No                          \n",
       "\n",
       "  Oxygen assessment service                                  \\\n",
       "               Not provided Provided by hospital-based team   \n",
       "0                        No                             Yes   \n",
       "1                        No                             Yes   \n",
       "\n",
       "                                    \\\n",
       "  Provided by community-based team   \n",
       "0                               No   \n",
       "1                              Yes   \n",
       "\n",
       "                                                                             \\\n",
       "  Provided by single team working across community/secondary care interface   \n",
       "0                                                 No                          \n",
       "1                                                 No                          \n",
       "\n",
       "  Medicine management service                                  \\\n",
       "                 Not provided Provided by hospital-based team   \n",
       "0                          No                             Yes   \n",
       "1                         Yes                              No   \n",
       "\n",
       "                                    \\\n",
       "  Provided by community-based team   \n",
       "0                              Yes   \n",
       "1                               No   \n",
       "\n",
       "                                                                             \\\n",
       "  Provided by single team working across community/secondary care interface   \n",
       "0                                                 No                          \n",
       "1                                                 No                          \n",
       "\n",
       "  Chronic disease management                                  \\\n",
       "                Not provided Provided by hospital-based team   \n",
       "0                         No                             Yes   \n",
       "1                        Yes                              No   \n",
       "\n",
       "                                    \\\n",
       "  Provided by community-based team   \n",
       "0                              Yes   \n",
       "1                               No   \n",
       "\n",
       "                                                                             \\\n",
       "  Provided by single team working across community/secondary care interface   \n",
       "0                                                 No                          \n",
       "1                                                 No                          \n",
       "\n",
       "  Nebuliser service                                  \\\n",
       "       Not provided Provided by hospital-based team   \n",
       "0                No                             Yes   \n",
       "1               Yes                              No   \n",
       "\n",
       "                                    \\\n",
       "  Provided by community-based team   \n",
       "0                               No   \n",
       "1                               No   \n",
       "\n",
       "                                                                             \\\n",
       "  Provided by single team working across community/secondary care interface   \n",
       "0                                                 No                          \n",
       "1                                                 No                          \n",
       "\n",
       "  Smoking cessation advice                                  \\\n",
       "              Not provided Provided by hospital-based team   \n",
       "0                       No                              No   \n",
       "1                       No                              No   \n",
       "\n",
       "                                    \\\n",
       "  Provided by community-based team   \n",
       "0                               No   \n",
       "1                              Yes   \n",
       "\n",
       "                                                                             \\\n",
       "  Provided by single team working across community/secondary care interface   \n",
       "0                                                Yes                          \n",
       "1                                                 No                          \n",
       "\n",
       "                                                                                   \\\n",
       "  Regular MDT meeting between hospital and community teams for patients with COPD   \n",
       "0                                                Yes                                \n",
       "1                                                Yes                                \n",
       "\n",
       "                                                 \\\n",
       "  If yes, how frequently does the meeting occur   \n",
       "0                                       Monthly   \n",
       "1                                        Weekly   \n",
       "\n",
       "  MDT meeting - staff attendance: Physician posts  \\\n",
       "                   Respiratory consultant attends   \n",
       "0                                             Yes   \n",
       "1                                             Yes   \n",
       "\n",
       "                                                       \\\n",
       "  Other member of respiratory specialist team attends   \n",
       "0                                                Yes    \n",
       "1                                                 No    \n",
       "\n",
       "                               MDT meeting - staff attendance: Nurse posts  \\\n",
       "  General practitioner attends                          Ward nurse attends   \n",
       "0                           No                                          No   \n",
       "1                           No                                          No   \n",
       "\n",
       "                           \\\n",
       "  Community nurse attends   \n",
       "0                     Yes   \n",
       "1                     Yes   \n",
       "\n",
       "  MDT meeting - staff attendance: Physiotherapist posts  \\\n",
       "                           Ward physiotherapist attends   \n",
       "0                                                 No      \n",
       "1                                                 No      \n",
       "\n",
       "                                     \\\n",
       "  Community physiotherapist attends   \n",
       "0                               Yes   \n",
       "1                                No   \n",
       "\n",
       "  MDT meeting - staff attendance: Other healthcare professional posts  \\\n",
       "                                              Ward pharmacist attends   \n",
       "0                                                 No                    \n",
       "1                                                 No                    \n",
       "\n",
       "                                                                     \\\n",
       "  Ward OT attends Community pharmacist attends Community OT attends   \n",
       "0              No                           No                  Yes   \n",
       "1              No                           No                   No   \n",
       "\n",
       "                                                             \\\n",
       "  Smoking cessation counsellor attends Psychologist attends   \n",
       "0                                   No                  Yes   \n",
       "1                                   No                   No   \n",
       "\n",
       "                      \\\n",
       "  Other staff attend   \n",
       "0                 No   \n",
       "1                Yes   \n",
       "\n",
       "                                                                                 \\\n",
       "  Time within MDT meeting for developing local integrated respiratory services    \n",
       "0                                                 No                              \n",
       "1                                                Yes                              \n",
       "\n",
       "                                           Patient/carer engagement  \\\n",
       "  Frequency of survey of patient/carer views on respiratory service   \n",
       "0                         Continuous (every patient)                  \n",
       "1                              Less than once a year                  \n",
       "\n",
       "                                                                   \\\n",
       "  Trust/Health Board has strategic group for respiratory services   \n",
       "0                                                Yes                \n",
       "1                                                Yes                \n",
       "\n",
       "                                                 \\\n",
       "  Patient representation within strategic group   \n",
       "0                                            No   \n",
       "1                                           Yes   \n",
       "\n",
       "  Asthma: Process of transitioning young people from paediatric - adult services includes ensuring:  \\\n",
       "                                                          Young person has full record of condition   \n",
       "0                                                Yes                                                  \n",
       "1                                                 No                                                  \n",
       "\n",
       "                                   \\\n",
       "  GP has full record of condition   \n",
       "0                             Yes   \n",
       "1                              No   \n",
       "\n",
       "                                                                    \\\n",
       "  Young person given opportunity to be seen without parents/carers   \n",
       "0                                                Yes                 \n",
       "1                                                 No                 \n",
       "\n",
       "                                                                \\\n",
       "  Transition plan agreed with paediatric and adult consultants   \n",
       "0                                                Yes             \n",
       "1                                                 No             \n",
       "\n",
       "                                                                        \\\n",
       "  Named case worker assigned to assist signposting young person/family   \n",
       "0                                                 No                     \n",
       "1                                                 No                     \n",
       "\n",
       "                                          \n",
       "  No formal transition plan arrangements  \n",
       "0                                     No  \n",
       "1                                    Yes  "
      ]
     },
     "execution_count": 61,
     "metadata": {},
     "output_type": "execute_result"
    }
   ],
   "source": [
    "datacsv = \"asthmadata.csv\"\n",
    "\n",
    "df = pd.read_csv(datacsv, skiprows=1,  header=[0,1], encoding='cp1252')\n",
    "\n",
    "# ensuring no unnamed columns exist\n",
    "last_non_unnamed=''\n",
    "for column in df.columns:\n",
    "    if 'Unnamed' not in column[0]:\n",
    "        last_non_unnamed=column[0]\n",
    "        \n",
    "    df.rename(columns={column[0]:last_non_unnamed}, inplace=True)\n",
    "    \n",
    "# view first two rows of data ONLY \n",
    "df.head(2)\n"
   ]
  },
  {
   "cell_type": "markdown",
   "id": "ff2b53d3",
   "metadata": {},
   "source": [
    "> Above we see our DataSet as a MultiIndex with two header levels - throughout the rest of this notebook, these are referred to as *categories* and *subcategories*"
   ]
  },
  {
   "cell_type": "code",
   "execution_count": 62,
   "id": "0eb663be",
   "metadata": {},
   "outputs": [
    {
     "name": "stdout",
     "output_type": "stream",
     "text": [
      "<class 'pandas.core.indexes.multi.MultiIndex'>\n"
     ]
    }
   ],
   "source": [
    "print(type(df.columns))"
   ]
  },
  {
   "cell_type": "markdown",
   "id": "a5651fab",
   "metadata": {},
   "source": [
    "\n",
    "> We now see that dataframe.columns now returns a MultiIndex object"
   ]
  },
  {
   "cell_type": "markdown",
   "id": "2aa96ef1",
   "metadata": {},
   "source": [
    "<br><br>\n",
    "## Data Groups\n",
    "> Now that we have enabled MultiIndex, we can begin to analyse groups of data in the dataframe\n",
    "<br><br>\n",
    "Note an alternative way to access the MultiIndex columns:\n",
    "<br>`mi = pd.MultiIndex.from_frame(df)`\n",
    "<br><br>\n",
    ">Specific sets of columns of data can be accessed as a series by running the following commands:\n",
    "<br>\n",
    ">> *eg. for all Location columns:*\n",
    "<br>\n",
    "`df[\"Location\"]`\n",
    "<br><br>\n",
    "*eg. for Region column under Location:*\n",
    "<br>\n",
    "`df[\"Location\", \"Region\"]`"
   ]
  },
  {
   "cell_type": "markdown",
   "id": "18382c70",
   "metadata": {},
   "source": [
    "### View All Subcategory Data\n",
    "> Here we can view the tabular representation of all subcategories of data within each category"
   ]
  },
  {
   "cell_type": "code",
   "execution_count": 63,
   "id": "21ad2594",
   "metadata": {},
   "outputs": [
    {
     "data": {
      "text/html": [
       "<div>\n",
       "<style scoped>\n",
       "    .dataframe tbody tr th:only-of-type {\n",
       "        vertical-align: middle;\n",
       "    }\n",
       "\n",
       "    .dataframe tbody tr th {\n",
       "        vertical-align: top;\n",
       "    }\n",
       "\n",
       "    .dataframe thead th {\n",
       "        text-align: right;\n",
       "    }\n",
       "</style>\n",
       "<table border=\"1\" class=\"dataframe\">\n",
       "  <thead>\n",
       "    <tr style=\"text-align: right;\">\n",
       "      <th></th>\n",
       "      <th>Region</th>\n",
       "      <th>Integrated Care System (ICS)</th>\n",
       "      <th>Trust/Local Health Board name</th>\n",
       "      <th>Hospital name (d = 159)</th>\n",
       "    </tr>\n",
       "  </thead>\n",
       "  <tbody>\n",
       "    <tr>\n",
       "      <th>0</th>\n",
       "      <td>East of England</td>\n",
       "      <td>Bedfordshire, Luton and Milton Keynes</td>\n",
       "      <td>Luton and Dunstable University Hospital NHS Fo...</td>\n",
       "      <td>Luton &amp; Dunstable Hospital</td>\n",
       "    </tr>\n",
       "    <tr>\n",
       "      <th>1</th>\n",
       "      <td>East of England</td>\n",
       "      <td>Bedfordshire, Luton and Milton Keynes</td>\n",
       "      <td>Milton Keynes University Hospital NHS Foundati...</td>\n",
       "      <td>Milton Keynes General Hospital</td>\n",
       "    </tr>\n",
       "    <tr>\n",
       "      <th>2</th>\n",
       "      <td>East of England</td>\n",
       "      <td>Cambridgeshire and Peterborough</td>\n",
       "      <td>Cambridge University Hospitals NHS Foundation ...</td>\n",
       "      <td>Addenbrooke's Hospital</td>\n",
       "    </tr>\n",
       "    <tr>\n",
       "      <th>3</th>\n",
       "      <td>East of England</td>\n",
       "      <td>Cambridgeshire and Peterborough</td>\n",
       "      <td>North West Anglia NHS Foundation Trust</td>\n",
       "      <td>Hinchingbrooke Hospital</td>\n",
       "    </tr>\n",
       "    <tr>\n",
       "      <th>4</th>\n",
       "      <td>East of England</td>\n",
       "      <td>Cambridgeshire and Peterborough</td>\n",
       "      <td>North West Anglia NHS Foundation Trust</td>\n",
       "      <td>Peterborough City Hospital</td>\n",
       "    </tr>\n",
       "  </tbody>\n",
       "</table>\n",
       "</div>"
      ],
      "text/plain": [
       "             Region            Integrated Care System (ICS)  \\\n",
       "0  East of England   Bedfordshire, Luton and Milton Keynes    \n",
       "1  East of England   Bedfordshire, Luton and Milton Keynes    \n",
       "2  East of England         Cambridgeshire and Peterborough    \n",
       "3  East of England         Cambridgeshire and Peterborough    \n",
       "4  East of England         Cambridgeshire and Peterborough    \n",
       "\n",
       "                       Trust/Local Health Board name  \\\n",
       "0  Luton and Dunstable University Hospital NHS Fo...   \n",
       "1  Milton Keynes University Hospital NHS Foundati...   \n",
       "2  Cambridge University Hospitals NHS Foundation ...   \n",
       "3             North West Anglia NHS Foundation Trust   \n",
       "4             North West Anglia NHS Foundation Trust   \n",
       "\n",
       "          Hospital name (d = 159)  \n",
       "0      Luton & Dunstable Hospital  \n",
       "1  Milton Keynes General Hospital  \n",
       "2          Addenbrooke's Hospital  \n",
       "3         Hinchingbrooke Hospital  \n",
       "4      Peterborough City Hospital  "
      ]
     },
     "metadata": {},
     "output_type": "display_data"
    },
    {
     "data": {
      "application/vnd.jupyter.widget-view+json": {
       "model_id": "c7076d10a64247be87f189edc48d948b",
       "version_major": 2,
       "version_minor": 0
      },
      "text/plain": [
       "interactive(children=(Dropdown(description='Category of Data', options=('Location', 'Admission numbers', 'Beds…"
      ]
     },
     "metadata": {},
     "output_type": "display_data"
    }
   ],
   "source": [
    "categories_list=list_level_zero_headers(df)\n",
    "\n",
    "print(\"\\nHere are all the categories of data variables that exist within the dataset\")\n",
    "# for header in categories_list:\n",
    "#     print(header)\n",
    "\n",
    "show_data_by_category(df, 5)"
   ]
  },
  {
   "cell_type": "markdown",
   "id": "79f201ed",
   "metadata": {},
   "source": [
    "<br><br><br><br><br><br><br><br>\n",
    "## Cleaning the Data | Dropping Columns\n",
    "> Upon analysis of all groups of data, entire categories are removed, and some subcategories from remaining categories are also removed\n",
    "### Tool to make copying and pasting column names easier\n",
    "> Note: this tool is useful for manual deletion of columns or any other requirement for string column names"
   ]
  },
  {
   "cell_type": "code",
   "execution_count": 64,
   "id": "083b7dd2",
   "metadata": {},
   "outputs": [
    {
     "data": {
      "text/markdown": [
       "<b>Category:</b><br><li>\"Location\"<br><b>Subcategories:</b><br><li>\"Region\"<br><li>\"Integrated Care System (ICS)\"<br><li>\"Trust/Local Health Board name\"<br><li>\"Hospital name (d = 159)\""
      ],
      "text/plain": [
       "<IPython.core.display.Markdown object>"
      ]
     },
     "metadata": {},
     "output_type": "display_data"
    },
    {
     "data": {
      "application/vnd.jupyter.widget-view+json": {
       "model_id": "fb38db4a2e854a97b0a57dd1defa7869",
       "version_major": 2,
       "version_minor": 0
      },
      "text/plain": [
       "interactive(children=(Dropdown(description='Category of Data', options=('Location', 'Admission numbers', 'Beds…"
      ]
     },
     "metadata": {},
     "output_type": "display_data"
    }
   ],
   "source": [
    "# to view markdown for all of the subcategories within a category: \n",
    "def show_cats_and_subcats(df):\n",
    "    @interact\n",
    "    def show_sub_categories(category=widgets.Dropdown(options=categories_list, \n",
    "                            description=\"Category of Data\",\n",
    "                            style={'description_width': '40%'})\n",
    "                           ):\n",
    "        sub_cats_list=df[category].columns.tolist()\n",
    "        prefix='<b>Category:</b><br><li>\"{}\"<br><b>Subcategories:</b>'.format(category)\n",
    "        sub_cats_list_joined=prefix+''.join('<br><li>\"{}\"'.format(word) for word in map(str, sub_cats_list))\n",
    "\n",
    "        return display(Markdown(sub_cats_list_joined))\n",
    "    \n",
    "show_cats_and_subcats(df)"
   ]
  },
  {
   "cell_type": "markdown",
   "id": "22ace144",
   "metadata": {},
   "source": [
    "### Removing Data Step 1\n",
    "> We begin by making a copy of the main dataframe"
   ]
  },
  {
   "cell_type": "code",
   "execution_count": 65,
   "id": "9eb81735",
   "metadata": {
    "scrolled": true
   },
   "outputs": [
    {
     "name": "stdout",
     "output_type": "stream",
     "text": [
      "<class 'pandas.core.frame.DataFrame'>\n",
      "RangeIndex: 159 entries, 0 to 158\n",
      "Columns: 157 entries, ('Location', 'Region') to ('Asthma: Process of transitioning young people from paediatric - adult services includes ensuring:', 'No formal transition plan arrangements')\n",
      "dtypes: float64(25), int64(7), object(125)\n",
      "memory usage: 195.2+ KB\n"
     ]
    }
   ],
   "source": [
    "# create a dataframe copy\n",
    "df_new=df\n",
    "\n",
    "df_new.info()"
   ]
  },
  {
   "cell_type": "markdown",
   "id": "7bcc8f23",
   "metadata": {},
   "source": [
    "### Removing Data Step 2\n",
    "> We then delete any undesired categories from our new dataframe, and view how this affects the shape of the dataframe; the number of columns has dropped dramatically"
   ]
  },
  {
   "cell_type": "code",
   "execution_count": 66,
   "id": "7c1cb85b",
   "metadata": {},
   "outputs": [
    {
     "name": "stdout",
     "output_type": "stream",
     "text": [
      "<class 'pandas.core.frame.DataFrame'>\n",
      "RangeIndex: 159 entries, 0 to 158\n",
      "Columns: 48 entries, ('Location', 'Region') to ('Patient/carer engagement', 'Patient representation within strategic group')\n",
      "dtypes: float64(1), int64(7), object(40)\n",
      "memory usage: 59.8+ KB\n"
     ]
    }
   ],
   "source": [
    "remove_categories = [\"Staffing levels: Number of staff posts in respiratory team (Whole time equivalent (WTE))\",\n",
    "                     \"Access to specialist staff and services\",\n",
    "                     \"Patient access to onsite palliative care\",\n",
    "                     \"Days/times senior decision maker from respiratory team (ST3 or above) undertakes ward round of new asthma/COPD patients on MAU/admissions ward\",\n",
    "                     \"Days/times senior decision maker from respiratory team (ST3 or above) undertakes ward round of new asthma/COPD patients on respiratory ward(s)\",\n",
    "                     \"Days/times senior decision maker from respiratory team (ST3 or above) undertakes ward round of new asthma/COPD patients on other wards\",\n",
    "                     \"Availability of respiratory nurse(s) to review COPD patients\",\n",
    "                     \"Availability of respiratory nurse(s) to review asthma patients\",\n",
    "                     \"Availability of respiratory physiotherapist(s) to review COPD patients\",\n",
    "                     \"Availability of respiratory physiotherapist(s) to review COPD patients\",\n",
    "                     \"Integration of care\",\n",
    "                     \"Outreach early/supported discharge\",\n",
    "                     \"In-reach/supported discharge\",\n",
    "                     \"Admissions avoidance\",\n",
    "                     \"Oxygen assessment service\",\n",
    "                     \"Medicine management service\",\n",
    "                     \"Smoking cessation advice\",\n",
    "                     \"Chronic disease management\",\n",
    "                     \"Nebuliser service\",\n",
    "                     \"MDT meeting - staff attendance: Physician posts\",\n",
    "                     \"MDT meeting - staff attendance: Nurse posts\",\n",
    "                     \"MDT meeting - staff attendance: Physiotherapist posts\",\n",
    "                     \"MDT meeting - staff attendance: Other healthcare professional posts\",\n",
    "                     \"Asthma: Process of transitioning young people from paediatric - adult services includes ensuring:\"]\n",
    "\n",
    "# ensure remove_categories exist in the dataframe:\n",
    "to_delete = [x for x in remove_categories if x in list_level_zero_headers(df_new)]\n",
    "\n",
    "# removal of entire categories of data\n",
    "df_new=df_new.drop(columns=remove_categories,axis=1,level=0)\n",
    "\n",
    "df_new.info(verbose=False)"
   ]
  },
  {
   "cell_type": "markdown",
   "id": "6e1a988c",
   "metadata": {},
   "source": [
    "### Removing Data Step 3\n",
    "> We then delete any undesired subcategories from our new dataframe, and view how this affects the shape of the dataframe; the number of columns has dropped dramatically"
   ]
  },
  {
   "cell_type": "code",
   "execution_count": 67,
   "id": "ef8cde06",
   "metadata": {
    "scrolled": true
   },
   "outputs": [
    {
     "name": "stdout",
     "output_type": "stream",
     "text": [
      "<class 'pandas.core.frame.DataFrame'>\n",
      "RangeIndex: 159 entries, 0 to 158\n",
      "Columns: 35 entries, ('Location', 'Region') to ('Patient/carer engagement', 'Patient representation within strategic group')\n",
      "dtypes: float64(1), int64(5), object(29)\n",
      "memory usage: 43.6+ KB\n"
     ]
    }
   ],
   "source": [
    "remove_sub_categories = [\"Hospital name (d = 159)\",\n",
    "                         \"Integrated Care System (ICS)\",\n",
    "                         \"Trust/Local Health Board name\",\n",
    "                         \"Hospital name (d = 159)\",\n",
    "                         \"Number of respiratory coded emergency admissions in 2020/21 financial year per respiratory bed\",\n",
    "                         \"Number of COPD coded emergency admissions in 2020/21 financial year per 1,000 adult medical emergency admissions \",\n",
    "                         \"Number of asthma coded emergency admissions in 2020/21 financial year per 1,000 adult medical emergency admissions \",\n",
    "                         \"National average proportion of asthma coded emergency admissions who were discharged from, or died on, dedicated respiratory ward(s) in the 2020/21 financial year \",\n",
    "                         \"Number of Level 2 beds available on dedicated respiratory ward(s)\",\n",
    "                         \"Number of Level 2 beds available on dedicated respiratory ward(s) per 1,000 adult respiratory admissions\",\n",
    "                         \"Hospital has High Dependency Unit(s) (HDUs) to which respiratory patients can be admitted\",\n",
    "                         \"Number of HDU beds available to which COPD and asthma patients can be admitted\",\n",
    "                         \"Number of HDU beds available to which COPD and asthma patients can be admitted per 10,000 adult medical emergency admissions\",\n",
    "                         \"Hospital has Respiratory Support Unit (RSU) to which respiratory patients can be admitted\",\n",
    "                         \"Number of RSU beds available to which COPD and asthma patients can be admitted\",\n",
    "                         \"Number of RSU beds available to which COPD and asthma patients can be admitted per 10,000 adult medical emergency admissions \",\n",
    "                         \"Name of EPR supplier (Free text)\"]\n",
    "# check subcategories haven't already been removed:\n",
    "to_delete = [x for x in remove_sub_categories if x in list_level_one_headers(df_new)]\n",
    "\n",
    "# removal of subcat columns\n",
    "df_new=df_new.drop(columns=to_delete,axis=1,level=1)\n",
    "\n",
    "# view the new shape of the data\n",
    "df_new.info(verbose=False)"
   ]
  },
  {
   "cell_type": "markdown",
   "id": "1d9c581c",
   "metadata": {},
   "source": [
    "### View Data By Category Post Dropping"
   ]
  },
  {
   "cell_type": "code",
   "execution_count": 68,
   "id": "c7dd53de",
   "metadata": {},
   "outputs": [
    {
     "data": {
      "text/html": [
       "<div>\n",
       "<style scoped>\n",
       "    .dataframe tbody tr th:only-of-type {\n",
       "        vertical-align: middle;\n",
       "    }\n",
       "\n",
       "    .dataframe tbody tr th {\n",
       "        vertical-align: top;\n",
       "    }\n",
       "\n",
       "    .dataframe thead th {\n",
       "        text-align: right;\n",
       "    }\n",
       "</style>\n",
       "<table border=\"1\" class=\"dataframe\">\n",
       "  <thead>\n",
       "    <tr style=\"text-align: right;\">\n",
       "      <th></th>\n",
       "      <th>Region</th>\n",
       "    </tr>\n",
       "  </thead>\n",
       "  <tbody>\n",
       "    <tr>\n",
       "      <th>0</th>\n",
       "      <td>East of England</td>\n",
       "    </tr>\n",
       "    <tr>\n",
       "      <th>1</th>\n",
       "      <td>East of England</td>\n",
       "    </tr>\n",
       "  </tbody>\n",
       "</table>\n",
       "</div>"
      ],
      "text/plain": [
       "             Region\n",
       "0  East of England \n",
       "1  East of England "
      ]
     },
     "metadata": {},
     "output_type": "display_data"
    },
    {
     "data": {
      "application/vnd.jupyter.widget-view+json": {
       "model_id": "5e5958d09d9c4443bf36dd237a01ed47",
       "version_major": 2,
       "version_minor": 0
      },
      "text/plain": [
       "interactive(children=(Dropdown(description='Category of Data', options=('Location', 'Admission numbers', 'Beds…"
      ]
     },
     "metadata": {},
     "output_type": "display_data"
    }
   ],
   "source": [
    "show_data_by_category(df_new)"
   ]
  },
  {
   "cell_type": "code",
   "execution_count": 69,
   "id": "557c7cfb",
   "metadata": {},
   "outputs": [
    {
     "name": "stdout",
     "output_type": "stream",
     "text": [
      "Number of zero level headers before drop: 32\n",
      "\n",
      "Number of first level headers before drop: 157\n",
      "\n",
      "Number of zero level headers after drop: 9\n",
      "\n",
      "Number of first level headers after drop: 35\n",
      "\n"
     ]
    }
   ],
   "source": [
    "df0=len(list_level_zero_headers(df))\n",
    "df1=len(list_level_one_headers(df))\n",
    "df_new0=len(list_level_zero_headers(df_new))\n",
    "df_new1=len(list_level_one_headers(df_new))\n",
    "\n",
    "print(\"Number of zero level headers before drop: {}\\n\".format(df0))\n",
    "print(\"Number of first level headers before drop: {}\\n\".format(df1))\n",
    "\n",
    "print(\"Number of zero level headers after drop: {}\\n\".format(df_new0))\n",
    "print(\"Number of first level headers after drop: {}\\n\".format(df_new1))"
   ]
  },
  {
   "cell_type": "markdown",
   "id": "b758e323",
   "metadata": {},
   "source": [
    "<br><br><br><br><br><br><br><br>\n",
    "## Data Cleaning | Further Dataframe Manipulation (In-Situ)\n",
    "> Now we have a new reduced dataframe, we can proceed to set up in-situ cleaning; we define functions to clean specific types of columns - this is so rows of the dataframe can be taken based on one columns values only, on the fly, and without removing rows of data that could be useful further in the analysis. A categories dictionary is first created, mapping every subcategory to their category (for easy access to multiindex zero level headers).\n"
   ]
  },
  {
   "cell_type": "code",
   "execution_count": 70,
   "id": "7b5db464",
   "metadata": {},
   "outputs": [
    {
     "name": "stdout",
     "output_type": "stream",
     "text": [
      "Location\n"
     ]
    }
   ],
   "source": [
    "cd=convert_column_indexes_to_dict(df_new)\n",
    "\n",
    "print(find_category(cd, \"Region\"))"
   ]
  },
  {
   "cell_type": "markdown",
   "id": "b5a1fa43",
   "metadata": {},
   "source": [
    "### Datatypes\n",
    "> The shape of our new dataframe, df_new, has datatypes `int64(5), object(31)`. \n",
    "<br><br>\n",
    "We begin by analysing which columns contain object types and why.\n",
    "<br><br>\n",
    "We then demonstrate how the column may be cleaned on-demand when needed"
   ]
  },
  {
   "cell_type": "code",
   "execution_count": 71,
   "id": "701e89ef",
   "metadata": {
    "scrolled": true
   },
   "outputs": [
    {
     "data": {
      "text/html": [
       "<div>\n",
       "<style scoped>\n",
       "    .dataframe tbody tr th:only-of-type {\n",
       "        vertical-align: middle;\n",
       "    }\n",
       "\n",
       "    .dataframe tbody tr th {\n",
       "        vertical-align: top;\n",
       "    }\n",
       "\n",
       "    .dataframe thead th {\n",
       "        text-align: right;\n",
       "    }\n",
       "</style>\n",
       "<table border=\"1\" class=\"dataframe\">\n",
       "  <thead>\n",
       "    <tr style=\"text-align: right;\">\n",
       "      <th></th>\n",
       "      <th>Region</th>\n",
       "    </tr>\n",
       "  </thead>\n",
       "  <tbody>\n",
       "    <tr>\n",
       "      <th>0</th>\n",
       "      <td>East of England</td>\n",
       "    </tr>\n",
       "    <tr>\n",
       "      <th>1</th>\n",
       "      <td>East of England</td>\n",
       "    </tr>\n",
       "    <tr>\n",
       "      <th>2</th>\n",
       "      <td>East of England</td>\n",
       "    </tr>\n",
       "    <tr>\n",
       "      <th>3</th>\n",
       "      <td>East of England</td>\n",
       "    </tr>\n",
       "    <tr>\n",
       "      <th>4</th>\n",
       "      <td>East of England</td>\n",
       "    </tr>\n",
       "    <tr>\n",
       "      <th>5</th>\n",
       "      <td>East of England</td>\n",
       "    </tr>\n",
       "    <tr>\n",
       "      <th>6</th>\n",
       "      <td>East of England</td>\n",
       "    </tr>\n",
       "    <tr>\n",
       "      <th>7</th>\n",
       "      <td>East of England</td>\n",
       "    </tr>\n",
       "    <tr>\n",
       "      <th>8</th>\n",
       "      <td>East of England</td>\n",
       "    </tr>\n",
       "    <tr>\n",
       "      <th>9</th>\n",
       "      <td>East of England</td>\n",
       "    </tr>\n",
       "    <tr>\n",
       "      <th>10</th>\n",
       "      <td>East of England</td>\n",
       "    </tr>\n",
       "    <tr>\n",
       "      <th>11</th>\n",
       "      <td>East of England</td>\n",
       "    </tr>\n",
       "    <tr>\n",
       "      <th>12</th>\n",
       "      <td>East of England</td>\n",
       "    </tr>\n",
       "    <tr>\n",
       "      <th>13</th>\n",
       "      <td>East of England</td>\n",
       "    </tr>\n",
       "    <tr>\n",
       "      <th>14</th>\n",
       "      <td>London</td>\n",
       "    </tr>\n",
       "    <tr>\n",
       "      <th>15</th>\n",
       "      <td>London</td>\n",
       "    </tr>\n",
       "    <tr>\n",
       "      <th>16</th>\n",
       "      <td>London</td>\n",
       "    </tr>\n",
       "    <tr>\n",
       "      <th>17</th>\n",
       "      <td>London</td>\n",
       "    </tr>\n",
       "    <tr>\n",
       "      <th>18</th>\n",
       "      <td>London</td>\n",
       "    </tr>\n",
       "    <tr>\n",
       "      <th>19</th>\n",
       "      <td>London</td>\n",
       "    </tr>\n",
       "    <tr>\n",
       "      <th>20</th>\n",
       "      <td>London</td>\n",
       "    </tr>\n",
       "    <tr>\n",
       "      <th>21</th>\n",
       "      <td>London</td>\n",
       "    </tr>\n",
       "    <tr>\n",
       "      <th>22</th>\n",
       "      <td>London</td>\n",
       "    </tr>\n",
       "    <tr>\n",
       "      <th>23</th>\n",
       "      <td>London</td>\n",
       "    </tr>\n",
       "    <tr>\n",
       "      <th>24</th>\n",
       "      <td>London</td>\n",
       "    </tr>\n",
       "    <tr>\n",
       "      <th>25</th>\n",
       "      <td>London</td>\n",
       "    </tr>\n",
       "    <tr>\n",
       "      <th>26</th>\n",
       "      <td>London</td>\n",
       "    </tr>\n",
       "    <tr>\n",
       "      <th>27</th>\n",
       "      <td>London</td>\n",
       "    </tr>\n",
       "    <tr>\n",
       "      <th>28</th>\n",
       "      <td>London</td>\n",
       "    </tr>\n",
       "    <tr>\n",
       "      <th>29</th>\n",
       "      <td>London</td>\n",
       "    </tr>\n",
       "    <tr>\n",
       "      <th>30</th>\n",
       "      <td>London</td>\n",
       "    </tr>\n",
       "    <tr>\n",
       "      <th>31</th>\n",
       "      <td>London</td>\n",
       "    </tr>\n",
       "    <tr>\n",
       "      <th>32</th>\n",
       "      <td>London</td>\n",
       "    </tr>\n",
       "    <tr>\n",
       "      <th>33</th>\n",
       "      <td>London</td>\n",
       "    </tr>\n",
       "    <tr>\n",
       "      <th>34</th>\n",
       "      <td>London</td>\n",
       "    </tr>\n",
       "    <tr>\n",
       "      <th>35</th>\n",
       "      <td>London</td>\n",
       "    </tr>\n",
       "    <tr>\n",
       "      <th>36</th>\n",
       "      <td>London</td>\n",
       "    </tr>\n",
       "    <tr>\n",
       "      <th>37</th>\n",
       "      <td>London</td>\n",
       "    </tr>\n",
       "    <tr>\n",
       "      <th>38</th>\n",
       "      <td>Midlands</td>\n",
       "    </tr>\n",
       "    <tr>\n",
       "      <th>39</th>\n",
       "      <td>Midlands</td>\n",
       "    </tr>\n",
       "    <tr>\n",
       "      <th>40</th>\n",
       "      <td>Midlands</td>\n",
       "    </tr>\n",
       "    <tr>\n",
       "      <th>41</th>\n",
       "      <td>Midlands</td>\n",
       "    </tr>\n",
       "    <tr>\n",
       "      <th>42</th>\n",
       "      <td>Midlands</td>\n",
       "    </tr>\n",
       "    <tr>\n",
       "      <th>43</th>\n",
       "      <td>Midlands</td>\n",
       "    </tr>\n",
       "    <tr>\n",
       "      <th>44</th>\n",
       "      <td>Midlands</td>\n",
       "    </tr>\n",
       "    <tr>\n",
       "      <th>45</th>\n",
       "      <td>Midlands</td>\n",
       "    </tr>\n",
       "    <tr>\n",
       "      <th>46</th>\n",
       "      <td>Midlands</td>\n",
       "    </tr>\n",
       "    <tr>\n",
       "      <th>47</th>\n",
       "      <td>Midlands</td>\n",
       "    </tr>\n",
       "    <tr>\n",
       "      <th>48</th>\n",
       "      <td>Midlands</td>\n",
       "    </tr>\n",
       "    <tr>\n",
       "      <th>49</th>\n",
       "      <td>Midlands</td>\n",
       "    </tr>\n",
       "    <tr>\n",
       "      <th>50</th>\n",
       "      <td>Midlands</td>\n",
       "    </tr>\n",
       "    <tr>\n",
       "      <th>51</th>\n",
       "      <td>Midlands</td>\n",
       "    </tr>\n",
       "    <tr>\n",
       "      <th>52</th>\n",
       "      <td>Midlands</td>\n",
       "    </tr>\n",
       "    <tr>\n",
       "      <th>53</th>\n",
       "      <td>Midlands</td>\n",
       "    </tr>\n",
       "    <tr>\n",
       "      <th>54</th>\n",
       "      <td>Midlands</td>\n",
       "    </tr>\n",
       "    <tr>\n",
       "      <th>55</th>\n",
       "      <td>Midlands</td>\n",
       "    </tr>\n",
       "    <tr>\n",
       "      <th>56</th>\n",
       "      <td>Midlands</td>\n",
       "    </tr>\n",
       "    <tr>\n",
       "      <th>57</th>\n",
       "      <td>Midlands</td>\n",
       "    </tr>\n",
       "    <tr>\n",
       "      <th>58</th>\n",
       "      <td>Midlands</td>\n",
       "    </tr>\n",
       "    <tr>\n",
       "      <th>59</th>\n",
       "      <td>Midlands</td>\n",
       "    </tr>\n",
       "    <tr>\n",
       "      <th>60</th>\n",
       "      <td>Midlands</td>\n",
       "    </tr>\n",
       "    <tr>\n",
       "      <th>61</th>\n",
       "      <td>North East and Yorkshire</td>\n",
       "    </tr>\n",
       "    <tr>\n",
       "      <th>62</th>\n",
       "      <td>North East and Yorkshire</td>\n",
       "    </tr>\n",
       "    <tr>\n",
       "      <th>63</th>\n",
       "      <td>North East and Yorkshire</td>\n",
       "    </tr>\n",
       "    <tr>\n",
       "      <th>64</th>\n",
       "      <td>North East and Yorkshire</td>\n",
       "    </tr>\n",
       "    <tr>\n",
       "      <th>65</th>\n",
       "      <td>North East and Yorkshire</td>\n",
       "    </tr>\n",
       "    <tr>\n",
       "      <th>66</th>\n",
       "      <td>North East and Yorkshire</td>\n",
       "    </tr>\n",
       "    <tr>\n",
       "      <th>67</th>\n",
       "      <td>North East and Yorkshire</td>\n",
       "    </tr>\n",
       "    <tr>\n",
       "      <th>68</th>\n",
       "      <td>North East and Yorkshire</td>\n",
       "    </tr>\n",
       "    <tr>\n",
       "      <th>69</th>\n",
       "      <td>North East and Yorkshire</td>\n",
       "    </tr>\n",
       "    <tr>\n",
       "      <th>70</th>\n",
       "      <td>North East and Yorkshire</td>\n",
       "    </tr>\n",
       "    <tr>\n",
       "      <th>71</th>\n",
       "      <td>North East and Yorkshire</td>\n",
       "    </tr>\n",
       "    <tr>\n",
       "      <th>72</th>\n",
       "      <td>North East and Yorkshire</td>\n",
       "    </tr>\n",
       "    <tr>\n",
       "      <th>73</th>\n",
       "      <td>North East and Yorkshire</td>\n",
       "    </tr>\n",
       "    <tr>\n",
       "      <th>74</th>\n",
       "      <td>North East and Yorkshire</td>\n",
       "    </tr>\n",
       "    <tr>\n",
       "      <th>75</th>\n",
       "      <td>North East and Yorkshire</td>\n",
       "    </tr>\n",
       "    <tr>\n",
       "      <th>76</th>\n",
       "      <td>North East and Yorkshire</td>\n",
       "    </tr>\n",
       "    <tr>\n",
       "      <th>77</th>\n",
       "      <td>North East and Yorkshire</td>\n",
       "    </tr>\n",
       "    <tr>\n",
       "      <th>78</th>\n",
       "      <td>North East and Yorkshire</td>\n",
       "    </tr>\n",
       "    <tr>\n",
       "      <th>79</th>\n",
       "      <td>North East and Yorkshire</td>\n",
       "    </tr>\n",
       "    <tr>\n",
       "      <th>80</th>\n",
       "      <td>North East and Yorkshire</td>\n",
       "    </tr>\n",
       "    <tr>\n",
       "      <th>81</th>\n",
       "      <td>North East and Yorkshire</td>\n",
       "    </tr>\n",
       "    <tr>\n",
       "      <th>82</th>\n",
       "      <td>North East and Yorkshire</td>\n",
       "    </tr>\n",
       "    <tr>\n",
       "      <th>83</th>\n",
       "      <td>North East and Yorkshire</td>\n",
       "    </tr>\n",
       "    <tr>\n",
       "      <th>84</th>\n",
       "      <td>North West</td>\n",
       "    </tr>\n",
       "    <tr>\n",
       "      <th>85</th>\n",
       "      <td>North West</td>\n",
       "    </tr>\n",
       "    <tr>\n",
       "      <th>86</th>\n",
       "      <td>North West</td>\n",
       "    </tr>\n",
       "    <tr>\n",
       "      <th>87</th>\n",
       "      <td>North West</td>\n",
       "    </tr>\n",
       "    <tr>\n",
       "      <th>88</th>\n",
       "      <td>North West</td>\n",
       "    </tr>\n",
       "    <tr>\n",
       "      <th>89</th>\n",
       "      <td>North West</td>\n",
       "    </tr>\n",
       "    <tr>\n",
       "      <th>90</th>\n",
       "      <td>North West</td>\n",
       "    </tr>\n",
       "    <tr>\n",
       "      <th>91</th>\n",
       "      <td>North West</td>\n",
       "    </tr>\n",
       "    <tr>\n",
       "      <th>92</th>\n",
       "      <td>North West</td>\n",
       "    </tr>\n",
       "    <tr>\n",
       "      <th>93</th>\n",
       "      <td>North West</td>\n",
       "    </tr>\n",
       "    <tr>\n",
       "      <th>94</th>\n",
       "      <td>North West</td>\n",
       "    </tr>\n",
       "    <tr>\n",
       "      <th>95</th>\n",
       "      <td>North West</td>\n",
       "    </tr>\n",
       "    <tr>\n",
       "      <th>96</th>\n",
       "      <td>North West</td>\n",
       "    </tr>\n",
       "    <tr>\n",
       "      <th>97</th>\n",
       "      <td>North West</td>\n",
       "    </tr>\n",
       "    <tr>\n",
       "      <th>98</th>\n",
       "      <td>North West</td>\n",
       "    </tr>\n",
       "    <tr>\n",
       "      <th>99</th>\n",
       "      <td>North West</td>\n",
       "    </tr>\n",
       "    <tr>\n",
       "      <th>100</th>\n",
       "      <td>North West</td>\n",
       "    </tr>\n",
       "    <tr>\n",
       "      <th>101</th>\n",
       "      <td>North West</td>\n",
       "    </tr>\n",
       "    <tr>\n",
       "      <th>102</th>\n",
       "      <td>North West</td>\n",
       "    </tr>\n",
       "    <tr>\n",
       "      <th>103</th>\n",
       "      <td>North West</td>\n",
       "    </tr>\n",
       "    <tr>\n",
       "      <th>104</th>\n",
       "      <td>North West</td>\n",
       "    </tr>\n",
       "    <tr>\n",
       "      <th>105</th>\n",
       "      <td>North West</td>\n",
       "    </tr>\n",
       "    <tr>\n",
       "      <th>106</th>\n",
       "      <td>South East</td>\n",
       "    </tr>\n",
       "    <tr>\n",
       "      <th>107</th>\n",
       "      <td>South East</td>\n",
       "    </tr>\n",
       "    <tr>\n",
       "      <th>108</th>\n",
       "      <td>South East</td>\n",
       "    </tr>\n",
       "    <tr>\n",
       "      <th>109</th>\n",
       "      <td>South East</td>\n",
       "    </tr>\n",
       "    <tr>\n",
       "      <th>110</th>\n",
       "      <td>South East</td>\n",
       "    </tr>\n",
       "    <tr>\n",
       "      <th>111</th>\n",
       "      <td>South East</td>\n",
       "    </tr>\n",
       "    <tr>\n",
       "      <th>112</th>\n",
       "      <td>South East</td>\n",
       "    </tr>\n",
       "    <tr>\n",
       "      <th>113</th>\n",
       "      <td>South East</td>\n",
       "    </tr>\n",
       "    <tr>\n",
       "      <th>114</th>\n",
       "      <td>South East</td>\n",
       "    </tr>\n",
       "    <tr>\n",
       "      <th>115</th>\n",
       "      <td>South East</td>\n",
       "    </tr>\n",
       "    <tr>\n",
       "      <th>116</th>\n",
       "      <td>South East</td>\n",
       "    </tr>\n",
       "    <tr>\n",
       "      <th>117</th>\n",
       "      <td>South East</td>\n",
       "    </tr>\n",
       "    <tr>\n",
       "      <th>118</th>\n",
       "      <td>South East</td>\n",
       "    </tr>\n",
       "    <tr>\n",
       "      <th>119</th>\n",
       "      <td>South East</td>\n",
       "    </tr>\n",
       "    <tr>\n",
       "      <th>120</th>\n",
       "      <td>South East</td>\n",
       "    </tr>\n",
       "    <tr>\n",
       "      <th>121</th>\n",
       "      <td>South East</td>\n",
       "    </tr>\n",
       "    <tr>\n",
       "      <th>122</th>\n",
       "      <td>South East</td>\n",
       "    </tr>\n",
       "    <tr>\n",
       "      <th>123</th>\n",
       "      <td>South East</td>\n",
       "    </tr>\n",
       "    <tr>\n",
       "      <th>124</th>\n",
       "      <td>South East</td>\n",
       "    </tr>\n",
       "    <tr>\n",
       "      <th>125</th>\n",
       "      <td>South East</td>\n",
       "    </tr>\n",
       "    <tr>\n",
       "      <th>126</th>\n",
       "      <td>South East</td>\n",
       "    </tr>\n",
       "    <tr>\n",
       "      <th>127</th>\n",
       "      <td>South East</td>\n",
       "    </tr>\n",
       "    <tr>\n",
       "      <th>128</th>\n",
       "      <td>South East</td>\n",
       "    </tr>\n",
       "    <tr>\n",
       "      <th>129</th>\n",
       "      <td>South East</td>\n",
       "    </tr>\n",
       "    <tr>\n",
       "      <th>130</th>\n",
       "      <td>South East</td>\n",
       "    </tr>\n",
       "    <tr>\n",
       "      <th>131</th>\n",
       "      <td>South East</td>\n",
       "    </tr>\n",
       "    <tr>\n",
       "      <th>132</th>\n",
       "      <td>South West</td>\n",
       "    </tr>\n",
       "    <tr>\n",
       "      <th>133</th>\n",
       "      <td>South West</td>\n",
       "    </tr>\n",
       "    <tr>\n",
       "      <th>134</th>\n",
       "      <td>South West</td>\n",
       "    </tr>\n",
       "    <tr>\n",
       "      <th>135</th>\n",
       "      <td>South West</td>\n",
       "    </tr>\n",
       "    <tr>\n",
       "      <th>136</th>\n",
       "      <td>South West</td>\n",
       "    </tr>\n",
       "    <tr>\n",
       "      <th>137</th>\n",
       "      <td>South West</td>\n",
       "    </tr>\n",
       "    <tr>\n",
       "      <th>138</th>\n",
       "      <td>South West</td>\n",
       "    </tr>\n",
       "    <tr>\n",
       "      <th>139</th>\n",
       "      <td>South West</td>\n",
       "    </tr>\n",
       "    <tr>\n",
       "      <th>140</th>\n",
       "      <td>South West</td>\n",
       "    </tr>\n",
       "    <tr>\n",
       "      <th>141</th>\n",
       "      <td>South West</td>\n",
       "    </tr>\n",
       "    <tr>\n",
       "      <th>142</th>\n",
       "      <td>South West</td>\n",
       "    </tr>\n",
       "    <tr>\n",
       "      <th>143</th>\n",
       "      <td>South West</td>\n",
       "    </tr>\n",
       "    <tr>\n",
       "      <th>144</th>\n",
       "      <td>South West</td>\n",
       "    </tr>\n",
       "    <tr>\n",
       "      <th>145</th>\n",
       "      <td>South West</td>\n",
       "    </tr>\n",
       "    <tr>\n",
       "      <th>146</th>\n",
       "      <td>Wales</td>\n",
       "    </tr>\n",
       "    <tr>\n",
       "      <th>147</th>\n",
       "      <td>Wales</td>\n",
       "    </tr>\n",
       "    <tr>\n",
       "      <th>148</th>\n",
       "      <td>Wales</td>\n",
       "    </tr>\n",
       "    <tr>\n",
       "      <th>149</th>\n",
       "      <td>Wales</td>\n",
       "    </tr>\n",
       "    <tr>\n",
       "      <th>150</th>\n",
       "      <td>Wales</td>\n",
       "    </tr>\n",
       "    <tr>\n",
       "      <th>151</th>\n",
       "      <td>Wales</td>\n",
       "    </tr>\n",
       "    <tr>\n",
       "      <th>152</th>\n",
       "      <td>Wales</td>\n",
       "    </tr>\n",
       "    <tr>\n",
       "      <th>153</th>\n",
       "      <td>Wales</td>\n",
       "    </tr>\n",
       "    <tr>\n",
       "      <th>154</th>\n",
       "      <td>Wales</td>\n",
       "    </tr>\n",
       "    <tr>\n",
       "      <th>155</th>\n",
       "      <td>Wales</td>\n",
       "    </tr>\n",
       "    <tr>\n",
       "      <th>156</th>\n",
       "      <td>Wales</td>\n",
       "    </tr>\n",
       "    <tr>\n",
       "      <th>157</th>\n",
       "      <td>Wales</td>\n",
       "    </tr>\n",
       "    <tr>\n",
       "      <th>158</th>\n",
       "      <td>Wales</td>\n",
       "    </tr>\n",
       "  </tbody>\n",
       "</table>\n",
       "</div>"
      ],
      "text/plain": [
       "                         Region\n",
       "0              East of England \n",
       "1              East of England \n",
       "2              East of England \n",
       "3              East of England \n",
       "4              East of England \n",
       "5              East of England \n",
       "6              East of England \n",
       "7              East of England \n",
       "8              East of England \n",
       "9              East of England \n",
       "10             East of England \n",
       "11             East of England \n",
       "12             East of England \n",
       "13             East of England \n",
       "14                       London\n",
       "15                       London\n",
       "16                       London\n",
       "17                       London\n",
       "18                       London\n",
       "19                       London\n",
       "20                       London\n",
       "21                       London\n",
       "22                       London\n",
       "23                       London\n",
       "24                       London\n",
       "25                       London\n",
       "26                       London\n",
       "27                       London\n",
       "28                       London\n",
       "29                       London\n",
       "30                       London\n",
       "31                       London\n",
       "32                       London\n",
       "33                       London\n",
       "34                       London\n",
       "35                       London\n",
       "36                       London\n",
       "37                       London\n",
       "38                    Midlands \n",
       "39                    Midlands \n",
       "40                    Midlands \n",
       "41                    Midlands \n",
       "42                    Midlands \n",
       "43                    Midlands \n",
       "44                    Midlands \n",
       "45                    Midlands \n",
       "46                    Midlands \n",
       "47                    Midlands \n",
       "48                    Midlands \n",
       "49                    Midlands \n",
       "50                    Midlands \n",
       "51                    Midlands \n",
       "52                    Midlands \n",
       "53                    Midlands \n",
       "54                    Midlands \n",
       "55                    Midlands \n",
       "56                    Midlands \n",
       "57                    Midlands \n",
       "58                    Midlands \n",
       "59                    Midlands \n",
       "60                    Midlands \n",
       "61     North East and Yorkshire\n",
       "62     North East and Yorkshire\n",
       "63    North East and Yorkshire \n",
       "64    North East and Yorkshire \n",
       "65    North East and Yorkshire \n",
       "66    North East and Yorkshire \n",
       "67    North East and Yorkshire \n",
       "68    North East and Yorkshire \n",
       "69    North East and Yorkshire \n",
       "70    North East and Yorkshire \n",
       "71    North East and Yorkshire \n",
       "72    North East and Yorkshire \n",
       "73    North East and Yorkshire \n",
       "74    North East and Yorkshire \n",
       "75    North East and Yorkshire \n",
       "76    North East and Yorkshire \n",
       "77    North East and Yorkshire \n",
       "78   North East and Yorkshire  \n",
       "79   North East and Yorkshire  \n",
       "80   North East and Yorkshire  \n",
       "81   North East and Yorkshire  \n",
       "82   North East and Yorkshire  \n",
       "83   North East and Yorkshire  \n",
       "84                  North West \n",
       "85                  North West \n",
       "86                  North West \n",
       "87                  North West \n",
       "88                  North West \n",
       "89                  North West \n",
       "90                  North West \n",
       "91                  North West \n",
       "92                  North West \n",
       "93                  North West \n",
       "94                  North West \n",
       "95                  North West \n",
       "96                  North West \n",
       "97                  North West \n",
       "98                  North West \n",
       "99                  North West \n",
       "100                 North West \n",
       "101                 North West \n",
       "102                 North West \n",
       "103                 North West \n",
       "104                 North West \n",
       "105                 North West \n",
       "106                  South East\n",
       "107                  South East\n",
       "108                 South East \n",
       "109                 South East \n",
       "110                 South East \n",
       "111                 South East \n",
       "112                 South East \n",
       "113                 South East \n",
       "114                 South East \n",
       "115                 South East \n",
       "116                 South East \n",
       "117                 South East \n",
       "118                 South East \n",
       "119                 South East \n",
       "120                 South East \n",
       "121                 South East \n",
       "122                 South East \n",
       "123                 South East \n",
       "124                 South East \n",
       "125                 South East \n",
       "126                 South East \n",
       "127                 South East \n",
       "128                 South East \n",
       "129                 South East \n",
       "130                 South East \n",
       "131                South East  \n",
       "132                 South West \n",
       "133                 South West \n",
       "134                 South West \n",
       "135                 South West \n",
       "136                 South West \n",
       "137                 South West \n",
       "138                 South West \n",
       "139                 South West \n",
       "140                 South West \n",
       "141                 South West \n",
       "142                 South West \n",
       "143                 South West \n",
       "144                 South West \n",
       "145                 South West \n",
       "146                       Wales\n",
       "147                       Wales\n",
       "148                       Wales\n",
       "149                       Wales\n",
       "150                       Wales\n",
       "151                       Wales\n",
       "152                       Wales\n",
       "153                       Wales\n",
       "154                       Wales\n",
       "155                       Wales\n",
       "156                       Wales\n",
       "157                       Wales\n",
       "158                       Wales"
      ]
     },
     "metadata": {},
     "output_type": "display_data"
    },
    {
     "data": {
      "application/vnd.jupyter.widget-view+json": {
       "model_id": "15c61a073aca44918cc4a0521f6f9bc4",
       "version_major": 2,
       "version_minor": 0
      },
      "text/plain": [
       "interactive(children=(Dropdown(description='Category of Data', options=('Location', 'Admission numbers', 'Beds…"
      ]
     },
     "metadata": {},
     "output_type": "display_data"
    }
   ],
   "source": [
    "# show data with object types\n",
    "show_data_by_category(df_new.select_dtypes(object), len(df_new.index))"
   ]
  },
  {
   "cell_type": "markdown",
   "id": "8ad0a57e",
   "metadata": {},
   "source": [
    "<br>\n",
    "\n",
    "### Mixed Numeric and String - Take Numeric Rows Only\n",
    "\n",
    "#### Function definitions:\n"
   ]
  },
  {
   "cell_type": "code",
   "execution_count": 72,
   "id": "c187e0de",
   "metadata": {},
   "outputs": [],
   "source": [
    "def check_non_numeric(df, cat, column_name):\n",
    "    # this function takes in a dataframe, category, and column name\n",
    "    \n",
    "    # note: apply() and isnumeric() combined result in halving compute time compared to to_numeric()    \n",
    "    if df[cat][column_name].dtype=='int64':\n",
    "        bools=[[True]]*len(df[cat][column_name].index)\n",
    "    else:\n",
    "        bools=np.transpose([df[cat][column_name].apply(lambda x: x.isnumeric())])\n",
    "        \n",
    "    return bools\n",
    "\n",
    "def are_all_numeric(df, cat, column_name):\n",
    "    bools = check_non_numeric(df, cat, column_name)\n",
    "    \n",
    "    return (0 not in bools)\n",
    "\n",
    "def return_numeric_only_dataframe_column(df, cat, column_name):\n",
    "    # returns the dataframe column with numeric values only\n",
    "    bools=check_non_numeric(df, cat, column_name)\n",
    "    \n",
    "    df_temp=df_new[cat].iloc[bools]\n",
    "    \n",
    "    data=df_temp[[column_name]]\n",
    "\n",
    "    return data\n",
    "\n",
    "def return_numeric_only_dataframe(df, cat, column_name):\n",
    "    # returns the entire dataframe having removed non-numerics from a specified column\n",
    "    bools=check_non_numeric(df, cat, column_name)\n",
    "    \n",
    "    data=df_new.iloc[bools]\n",
    "\n",
    "    return data\n"
   ]
  },
  {
   "cell_type": "markdown",
   "id": "828e7c78",
   "metadata": {},
   "source": [
    "<br>\n",
    "\n",
    "### Numeric Cleanup Example\n",
    "\n",
    "> Some of the data columns are set as `object` type because of values being both numeric and string.\n",
    "<br><br>\n",
    "> Here we verify the function definitions above work and remove non-numeric rows  \n"
   ]
  },
  {
   "cell_type": "code",
   "execution_count": 73,
   "id": "735e36ef",
   "metadata": {},
   "outputs": [
    {
     "data": {
      "text/html": [
       "<div>\n",
       "<style scoped>\n",
       "    .dataframe tbody tr th:only-of-type {\n",
       "        vertical-align: middle;\n",
       "    }\n",
       "\n",
       "    .dataframe tbody tr th {\n",
       "        vertical-align: top;\n",
       "    }\n",
       "\n",
       "    .dataframe thead tr th {\n",
       "        text-align: left;\n",
       "    }\n",
       "</style>\n",
       "<table border=\"1\" class=\"dataframe\">\n",
       "  <thead>\n",
       "    <tr>\n",
       "      <th></th>\n",
       "      <th>Admission numbers</th>\n",
       "    </tr>\n",
       "    <tr>\n",
       "      <th></th>\n",
       "      <th>Total number of COPD coded emergency admissions who were discharged from, or died on, dedicated respiratory ward(s) in the 2020/21 financial year</th>\n",
       "    </tr>\n",
       "  </thead>\n",
       "  <tbody>\n",
       "    <tr>\n",
       "      <th>0</th>\n",
       "      <td>316</td>\n",
       "    </tr>\n",
       "    <tr>\n",
       "      <th>1</th>\n",
       "      <td>123</td>\n",
       "    </tr>\n",
       "    <tr>\n",
       "      <th>2</th>\n",
       "      <td>218</td>\n",
       "    </tr>\n",
       "    <tr>\n",
       "      <th>3</th>\n",
       "      <td>116</td>\n",
       "    </tr>\n",
       "    <tr>\n",
       "      <th>4</th>\n",
       "      <td>293</td>\n",
       "    </tr>\n",
       "    <tr>\n",
       "      <th>5</th>\n",
       "      <td>275</td>\n",
       "    </tr>\n",
       "    <tr>\n",
       "      <th>6</th>\n",
       "      <td>46</td>\n",
       "    </tr>\n",
       "    <tr>\n",
       "      <th>7</th>\n",
       "      <td>196</td>\n",
       "    </tr>\n",
       "    <tr>\n",
       "      <th>8</th>\n",
       "      <td>0</td>\n",
       "    </tr>\n",
       "    <tr>\n",
       "      <th>9</th>\n",
       "      <td>43</td>\n",
       "    </tr>\n",
       "    <tr>\n",
       "      <th>10</th>\n",
       "      <td>276</td>\n",
       "    </tr>\n",
       "    <tr>\n",
       "      <th>11</th>\n",
       "      <td>134</td>\n",
       "    </tr>\n",
       "    <tr>\n",
       "      <th>12</th>\n",
       "      <td>92</td>\n",
       "    </tr>\n",
       "    <tr>\n",
       "      <th>13</th>\n",
       "      <td>55</td>\n",
       "    </tr>\n",
       "    <tr>\n",
       "      <th>14</th>\n",
       "      <td>56</td>\n",
       "    </tr>\n",
       "    <tr>\n",
       "      <th>15</th>\n",
       "      <td>9</td>\n",
       "    </tr>\n",
       "    <tr>\n",
       "      <th>16</th>\n",
       "      <td>81</td>\n",
       "    </tr>\n",
       "    <tr>\n",
       "      <th>17</th>\n",
       "      <td>140</td>\n",
       "    </tr>\n",
       "    <tr>\n",
       "      <th>18</th>\n",
       "      <td>48</td>\n",
       "    </tr>\n",
       "    <tr>\n",
       "      <th>19</th>\n",
       "      <td>17</td>\n",
       "    </tr>\n",
       "    <tr>\n",
       "      <th>20</th>\n",
       "      <td>114</td>\n",
       "    </tr>\n",
       "    <tr>\n",
       "      <th>21</th>\n",
       "      <td>No dedicated respiratory ward</td>\n",
       "    </tr>\n",
       "    <tr>\n",
       "      <th>22</th>\n",
       "      <td>109</td>\n",
       "    </tr>\n",
       "    <tr>\n",
       "      <th>23</th>\n",
       "      <td>120</td>\n",
       "    </tr>\n",
       "    <tr>\n",
       "      <th>24</th>\n",
       "      <td>83</td>\n",
       "    </tr>\n",
       "    <tr>\n",
       "      <th>25</th>\n",
       "      <td>91</td>\n",
       "    </tr>\n",
       "    <tr>\n",
       "      <th>26</th>\n",
       "      <td>50</td>\n",
       "    </tr>\n",
       "    <tr>\n",
       "      <th>27</th>\n",
       "      <td>229</td>\n",
       "    </tr>\n",
       "    <tr>\n",
       "      <th>28</th>\n",
       "      <td>114</td>\n",
       "    </tr>\n",
       "    <tr>\n",
       "      <th>29</th>\n",
       "      <td>130</td>\n",
       "    </tr>\n",
       "    <tr>\n",
       "      <th>30</th>\n",
       "      <td>85</td>\n",
       "    </tr>\n",
       "    <tr>\n",
       "      <th>31</th>\n",
       "      <td>148</td>\n",
       "    </tr>\n",
       "    <tr>\n",
       "      <th>32</th>\n",
       "      <td>100</td>\n",
       "    </tr>\n",
       "    <tr>\n",
       "      <th>33</th>\n",
       "      <td>68</td>\n",
       "    </tr>\n",
       "    <tr>\n",
       "      <th>34</th>\n",
       "      <td>71</td>\n",
       "    </tr>\n",
       "    <tr>\n",
       "      <th>35</th>\n",
       "      <td>159</td>\n",
       "    </tr>\n",
       "    <tr>\n",
       "      <th>36</th>\n",
       "      <td>101</td>\n",
       "    </tr>\n",
       "    <tr>\n",
       "      <th>37</th>\n",
       "      <td>18</td>\n",
       "    </tr>\n",
       "    <tr>\n",
       "      <th>38</th>\n",
       "      <td>No dedicated respiratory ward</td>\n",
       "    </tr>\n",
       "    <tr>\n",
       "      <th>39</th>\n",
       "      <td>1</td>\n",
       "    </tr>\n",
       "    <tr>\n",
       "      <th>40</th>\n",
       "      <td>372</td>\n",
       "    </tr>\n",
       "    <tr>\n",
       "      <th>41</th>\n",
       "      <td>234</td>\n",
       "    </tr>\n",
       "    <tr>\n",
       "      <th>42</th>\n",
       "      <td>No dedicated respiratory ward</td>\n",
       "    </tr>\n",
       "    <tr>\n",
       "      <th>43</th>\n",
       "      <td>391</td>\n",
       "    </tr>\n",
       "    <tr>\n",
       "      <th>44</th>\n",
       "      <td>718</td>\n",
       "    </tr>\n",
       "    <tr>\n",
       "      <th>45</th>\n",
       "      <td>1447</td>\n",
       "    </tr>\n",
       "    <tr>\n",
       "      <th>46</th>\n",
       "      <td>No dedicated respiratory ward</td>\n",
       "    </tr>\n",
       "    <tr>\n",
       "      <th>47</th>\n",
       "      <td>135</td>\n",
       "    </tr>\n",
       "    <tr>\n",
       "      <th>48</th>\n",
       "      <td>178</td>\n",
       "    </tr>\n",
       "    <tr>\n",
       "      <th>49</th>\n",
       "      <td>354</td>\n",
       "    </tr>\n",
       "    <tr>\n",
       "      <th>50</th>\n",
       "      <td>195</td>\n",
       "    </tr>\n",
       "    <tr>\n",
       "      <th>51</th>\n",
       "      <td>519</td>\n",
       "    </tr>\n",
       "    <tr>\n",
       "      <th>52</th>\n",
       "      <td>254</td>\n",
       "    </tr>\n",
       "    <tr>\n",
       "      <th>53</th>\n",
       "      <td>518</td>\n",
       "    </tr>\n",
       "    <tr>\n",
       "      <th>54</th>\n",
       "      <td>875</td>\n",
       "    </tr>\n",
       "    <tr>\n",
       "      <th>55</th>\n",
       "      <td>15</td>\n",
       "    </tr>\n",
       "    <tr>\n",
       "      <th>56</th>\n",
       "      <td>No dedicated respiratory ward</td>\n",
       "    </tr>\n",
       "    <tr>\n",
       "      <th>57</th>\n",
       "      <td>985</td>\n",
       "    </tr>\n",
       "    <tr>\n",
       "      <th>58</th>\n",
       "      <td>641</td>\n",
       "    </tr>\n",
       "    <tr>\n",
       "      <th>59</th>\n",
       "      <td>54</td>\n",
       "    </tr>\n",
       "    <tr>\n",
       "      <th>60</th>\n",
       "      <td>145</td>\n",
       "    </tr>\n",
       "    <tr>\n",
       "      <th>61</th>\n",
       "      <td>No dedicated respiratory ward</td>\n",
       "    </tr>\n",
       "    <tr>\n",
       "      <th>62</th>\n",
       "      <td>No dedicated respiratory ward</td>\n",
       "    </tr>\n",
       "    <tr>\n",
       "      <th>63</th>\n",
       "      <td>67</td>\n",
       "    </tr>\n",
       "    <tr>\n",
       "      <th>64</th>\n",
       "      <td>98</td>\n",
       "    </tr>\n",
       "    <tr>\n",
       "      <th>65</th>\n",
       "      <td>316</td>\n",
       "    </tr>\n",
       "    <tr>\n",
       "      <th>66</th>\n",
       "      <td>316</td>\n",
       "    </tr>\n",
       "    <tr>\n",
       "      <th>67</th>\n",
       "      <td>486</td>\n",
       "    </tr>\n",
       "    <tr>\n",
       "      <th>68</th>\n",
       "      <td>104</td>\n",
       "    </tr>\n",
       "    <tr>\n",
       "      <th>69</th>\n",
       "      <td>328</td>\n",
       "    </tr>\n",
       "    <tr>\n",
       "      <th>70</th>\n",
       "      <td>271</td>\n",
       "    </tr>\n",
       "    <tr>\n",
       "      <th>71</th>\n",
       "      <td>114</td>\n",
       "    </tr>\n",
       "    <tr>\n",
       "      <th>72</th>\n",
       "      <td>224</td>\n",
       "    </tr>\n",
       "    <tr>\n",
       "      <th>73</th>\n",
       "      <td>481</td>\n",
       "    </tr>\n",
       "    <tr>\n",
       "      <th>74</th>\n",
       "      <td>13</td>\n",
       "    </tr>\n",
       "    <tr>\n",
       "      <th>75</th>\n",
       "      <td>62</td>\n",
       "    </tr>\n",
       "    <tr>\n",
       "      <th>76</th>\n",
       "      <td>268</td>\n",
       "    </tr>\n",
       "    <tr>\n",
       "      <th>77</th>\n",
       "      <td>No dedicated respiratory ward</td>\n",
       "    </tr>\n",
       "    <tr>\n",
       "      <th>78</th>\n",
       "      <td>91</td>\n",
       "    </tr>\n",
       "    <tr>\n",
       "      <th>79</th>\n",
       "      <td>162</td>\n",
       "    </tr>\n",
       "    <tr>\n",
       "      <th>80</th>\n",
       "      <td>229</td>\n",
       "    </tr>\n",
       "    <tr>\n",
       "      <th>81</th>\n",
       "      <td>No dedicated respiratory ward</td>\n",
       "    </tr>\n",
       "    <tr>\n",
       "      <th>82</th>\n",
       "      <td>573</td>\n",
       "    </tr>\n",
       "    <tr>\n",
       "      <th>83</th>\n",
       "      <td>850</td>\n",
       "    </tr>\n",
       "    <tr>\n",
       "      <th>84</th>\n",
       "      <td>340</td>\n",
       "    </tr>\n",
       "    <tr>\n",
       "      <th>85</th>\n",
       "      <td>397</td>\n",
       "    </tr>\n",
       "    <tr>\n",
       "      <th>86</th>\n",
       "      <td>252</td>\n",
       "    </tr>\n",
       "    <tr>\n",
       "      <th>87</th>\n",
       "      <td>2149</td>\n",
       "    </tr>\n",
       "    <tr>\n",
       "      <th>88</th>\n",
       "      <td>595</td>\n",
       "    </tr>\n",
       "    <tr>\n",
       "      <th>89</th>\n",
       "      <td>121</td>\n",
       "    </tr>\n",
       "    <tr>\n",
       "      <th>90</th>\n",
       "      <td>1987</td>\n",
       "    </tr>\n",
       "    <tr>\n",
       "      <th>91</th>\n",
       "      <td>124</td>\n",
       "    </tr>\n",
       "    <tr>\n",
       "      <th>92</th>\n",
       "      <td>139</td>\n",
       "    </tr>\n",
       "    <tr>\n",
       "      <th>93</th>\n",
       "      <td>184</td>\n",
       "    </tr>\n",
       "    <tr>\n",
       "      <th>94</th>\n",
       "      <td>85</td>\n",
       "    </tr>\n",
       "    <tr>\n",
       "      <th>95</th>\n",
       "      <td>No dedicated respiratory ward</td>\n",
       "    </tr>\n",
       "    <tr>\n",
       "      <th>96</th>\n",
       "      <td>169</td>\n",
       "    </tr>\n",
       "    <tr>\n",
       "      <th>97</th>\n",
       "      <td>104</td>\n",
       "    </tr>\n",
       "    <tr>\n",
       "      <th>98</th>\n",
       "      <td>48</td>\n",
       "    </tr>\n",
       "    <tr>\n",
       "      <th>99</th>\n",
       "      <td>996</td>\n",
       "    </tr>\n",
       "  </tbody>\n",
       "</table>\n",
       "</div>"
      ],
      "text/plain": [
       "                                                                                                                                   Admission numbers\n",
       "   Total number of COPD coded emergency admissions who were discharged from, or died on, dedicated respiratory ward(s) in the 2020/21 financial year\n",
       "0                                                 316                                                                                               \n",
       "1                                                 123                                                                                               \n",
       "2                                                 218                                                                                               \n",
       "3                                                 116                                                                                               \n",
       "4                                                 293                                                                                               \n",
       "5                                                 275                                                                                               \n",
       "6                                                  46                                                                                               \n",
       "7                                                 196                                                                                               \n",
       "8                                                   0                                                                                               \n",
       "9                                                  43                                                                                               \n",
       "10                                                276                                                                                               \n",
       "11                                                134                                                                                               \n",
       "12                                                 92                                                                                               \n",
       "13                                                 55                                                                                               \n",
       "14                                                 56                                                                                               \n",
       "15                                                  9                                                                                               \n",
       "16                                                 81                                                                                               \n",
       "17                                                140                                                                                               \n",
       "18                                                 48                                                                                               \n",
       "19                                                 17                                                                                               \n",
       "20                                                114                                                                                               \n",
       "21                      No dedicated respiratory ward                                                                                               \n",
       "22                                                109                                                                                               \n",
       "23                                                120                                                                                               \n",
       "24                                                 83                                                                                               \n",
       "25                                                 91                                                                                               \n",
       "26                                                 50                                                                                               \n",
       "27                                                229                                                                                               \n",
       "28                                                114                                                                                               \n",
       "29                                                130                                                                                               \n",
       "30                                                 85                                                                                               \n",
       "31                                                148                                                                                               \n",
       "32                                                100                                                                                               \n",
       "33                                                 68                                                                                               \n",
       "34                                                 71                                                                                               \n",
       "35                                                159                                                                                               \n",
       "36                                                101                                                                                               \n",
       "37                                                 18                                                                                               \n",
       "38                      No dedicated respiratory ward                                                                                               \n",
       "39                                                  1                                                                                               \n",
       "40                                                372                                                                                               \n",
       "41                                                234                                                                                               \n",
       "42                      No dedicated respiratory ward                                                                                               \n",
       "43                                                391                                                                                               \n",
       "44                                                718                                                                                               \n",
       "45                                               1447                                                                                               \n",
       "46                      No dedicated respiratory ward                                                                                               \n",
       "47                                                135                                                                                               \n",
       "48                                                178                                                                                               \n",
       "49                                                354                                                                                               \n",
       "50                                                195                                                                                               \n",
       "51                                                519                                                                                               \n",
       "52                                                254                                                                                               \n",
       "53                                                518                                                                                               \n",
       "54                                                875                                                                                               \n",
       "55                                                 15                                                                                               \n",
       "56                      No dedicated respiratory ward                                                                                               \n",
       "57                                                985                                                                                               \n",
       "58                                                641                                                                                               \n",
       "59                                                 54                                                                                               \n",
       "60                                                145                                                                                               \n",
       "61                      No dedicated respiratory ward                                                                                               \n",
       "62                      No dedicated respiratory ward                                                                                               \n",
       "63                                                 67                                                                                               \n",
       "64                                                 98                                                                                               \n",
       "65                                                316                                                                                               \n",
       "66                                                316                                                                                               \n",
       "67                                                486                                                                                               \n",
       "68                                                104                                                                                               \n",
       "69                                                328                                                                                               \n",
       "70                                                271                                                                                               \n",
       "71                                                114                                                                                               \n",
       "72                                                224                                                                                               \n",
       "73                                                481                                                                                               \n",
       "74                                                 13                                                                                               \n",
       "75                                                 62                                                                                               \n",
       "76                                                268                                                                                               \n",
       "77                      No dedicated respiratory ward                                                                                               \n",
       "78                                                 91                                                                                               \n",
       "79                                                162                                                                                               \n",
       "80                                                229                                                                                               \n",
       "81                      No dedicated respiratory ward                                                                                               \n",
       "82                                                573                                                                                               \n",
       "83                                                850                                                                                               \n",
       "84                                                340                                                                                               \n",
       "85                                                397                                                                                               \n",
       "86                                                252                                                                                               \n",
       "87                                               2149                                                                                               \n",
       "88                                                595                                                                                               \n",
       "89                                                121                                                                                               \n",
       "90                                               1987                                                                                               \n",
       "91                                                124                                                                                               \n",
       "92                                                139                                                                                               \n",
       "93                                                184                                                                                               \n",
       "94                                                 85                                                                                               \n",
       "95                      No dedicated respiratory ward                                                                                               \n",
       "96                                                169                                                                                               \n",
       "97                                                104                                                                                               \n",
       "98                                                 48                                                                                               \n",
       "99                                                996                                                                                               "
      ]
     },
     "metadata": {},
     "output_type": "display_data"
    },
    {
     "data": {
      "application/vnd.jupyter.widget-view+json": {
       "model_id": "4d6817f0a0074cd4a35a2f248effecca",
       "version_major": 2,
       "version_minor": 0
      },
      "text/plain": [
       "interactive(children=(IntSlider(value=100, description='rows', max=159, min=1), Output()), _dom_classes=('widg…"
      ]
     },
     "metadata": {},
     "output_type": "display_data"
    }
   ],
   "source": [
    "# setup column of data with numeric and string values\n",
    "category=\"Admission numbers\"\n",
    "subcategory=\"Total number of COPD coded emergency admissions who were discharged from, or died on, dedicated respiratory ward(s) in the 2020/21 financial year\"\n",
    "\n",
    "# show column of data before cleaning\n",
    "show_specific_columns_of_data(df_new, [subcategory],100)"
   ]
  },
  {
   "cell_type": "markdown",
   "id": "3268829f",
   "metadata": {},
   "source": [
    "> We see, upon scrolling through the column above, that the column contains both numeric and string values"
   ]
  },
  {
   "cell_type": "code",
   "execution_count": 74,
   "id": "0e7ac8e9",
   "metadata": {},
   "outputs": [
    {
     "data": {
      "text/html": [
       "<div>\n",
       "<style scoped>\n",
       "    .dataframe tbody tr th:only-of-type {\n",
       "        vertical-align: middle;\n",
       "    }\n",
       "\n",
       "    .dataframe tbody tr th {\n",
       "        vertical-align: top;\n",
       "    }\n",
       "\n",
       "    .dataframe thead th {\n",
       "        text-align: right;\n",
       "    }\n",
       "</style>\n",
       "<table border=\"1\" class=\"dataframe\">\n",
       "  <thead>\n",
       "    <tr style=\"text-align: right;\">\n",
       "      <th></th>\n",
       "      <th>Total number of COPD coded emergency admissions who were discharged from, or died on, dedicated respiratory ward(s) in the 2020/21 financial year</th>\n",
       "    </tr>\n",
       "  </thead>\n",
       "  <tbody>\n",
       "    <tr>\n",
       "      <th>0</th>\n",
       "      <td>316</td>\n",
       "    </tr>\n",
       "    <tr>\n",
       "      <th>1</th>\n",
       "      <td>123</td>\n",
       "    </tr>\n",
       "    <tr>\n",
       "      <th>2</th>\n",
       "      <td>218</td>\n",
       "    </tr>\n",
       "    <tr>\n",
       "      <th>3</th>\n",
       "      <td>116</td>\n",
       "    </tr>\n",
       "    <tr>\n",
       "      <th>4</th>\n",
       "      <td>293</td>\n",
       "    </tr>\n",
       "    <tr>\n",
       "      <th>5</th>\n",
       "      <td>275</td>\n",
       "    </tr>\n",
       "    <tr>\n",
       "      <th>6</th>\n",
       "      <td>46</td>\n",
       "    </tr>\n",
       "    <tr>\n",
       "      <th>7</th>\n",
       "      <td>196</td>\n",
       "    </tr>\n",
       "    <tr>\n",
       "      <th>8</th>\n",
       "      <td>0</td>\n",
       "    </tr>\n",
       "    <tr>\n",
       "      <th>9</th>\n",
       "      <td>43</td>\n",
       "    </tr>\n",
       "    <tr>\n",
       "      <th>10</th>\n",
       "      <td>276</td>\n",
       "    </tr>\n",
       "    <tr>\n",
       "      <th>11</th>\n",
       "      <td>134</td>\n",
       "    </tr>\n",
       "    <tr>\n",
       "      <th>12</th>\n",
       "      <td>92</td>\n",
       "    </tr>\n",
       "    <tr>\n",
       "      <th>13</th>\n",
       "      <td>55</td>\n",
       "    </tr>\n",
       "    <tr>\n",
       "      <th>14</th>\n",
       "      <td>56</td>\n",
       "    </tr>\n",
       "    <tr>\n",
       "      <th>15</th>\n",
       "      <td>9</td>\n",
       "    </tr>\n",
       "    <tr>\n",
       "      <th>16</th>\n",
       "      <td>81</td>\n",
       "    </tr>\n",
       "    <tr>\n",
       "      <th>17</th>\n",
       "      <td>140</td>\n",
       "    </tr>\n",
       "    <tr>\n",
       "      <th>18</th>\n",
       "      <td>48</td>\n",
       "    </tr>\n",
       "    <tr>\n",
       "      <th>19</th>\n",
       "      <td>17</td>\n",
       "    </tr>\n",
       "    <tr>\n",
       "      <th>20</th>\n",
       "      <td>114</td>\n",
       "    </tr>\n",
       "    <tr>\n",
       "      <th>22</th>\n",
       "      <td>109</td>\n",
       "    </tr>\n",
       "    <tr>\n",
       "      <th>23</th>\n",
       "      <td>120</td>\n",
       "    </tr>\n",
       "    <tr>\n",
       "      <th>24</th>\n",
       "      <td>83</td>\n",
       "    </tr>\n",
       "    <tr>\n",
       "      <th>25</th>\n",
       "      <td>91</td>\n",
       "    </tr>\n",
       "    <tr>\n",
       "      <th>26</th>\n",
       "      <td>50</td>\n",
       "    </tr>\n",
       "    <tr>\n",
       "      <th>27</th>\n",
       "      <td>229</td>\n",
       "    </tr>\n",
       "    <tr>\n",
       "      <th>28</th>\n",
       "      <td>114</td>\n",
       "    </tr>\n",
       "    <tr>\n",
       "      <th>29</th>\n",
       "      <td>130</td>\n",
       "    </tr>\n",
       "    <tr>\n",
       "      <th>30</th>\n",
       "      <td>85</td>\n",
       "    </tr>\n",
       "    <tr>\n",
       "      <th>31</th>\n",
       "      <td>148</td>\n",
       "    </tr>\n",
       "    <tr>\n",
       "      <th>32</th>\n",
       "      <td>100</td>\n",
       "    </tr>\n",
       "    <tr>\n",
       "      <th>33</th>\n",
       "      <td>68</td>\n",
       "    </tr>\n",
       "    <tr>\n",
       "      <th>34</th>\n",
       "      <td>71</td>\n",
       "    </tr>\n",
       "    <tr>\n",
       "      <th>35</th>\n",
       "      <td>159</td>\n",
       "    </tr>\n",
       "    <tr>\n",
       "      <th>36</th>\n",
       "      <td>101</td>\n",
       "    </tr>\n",
       "    <tr>\n",
       "      <th>37</th>\n",
       "      <td>18</td>\n",
       "    </tr>\n",
       "    <tr>\n",
       "      <th>39</th>\n",
       "      <td>1</td>\n",
       "    </tr>\n",
       "    <tr>\n",
       "      <th>40</th>\n",
       "      <td>372</td>\n",
       "    </tr>\n",
       "    <tr>\n",
       "      <th>41</th>\n",
       "      <td>234</td>\n",
       "    </tr>\n",
       "    <tr>\n",
       "      <th>43</th>\n",
       "      <td>391</td>\n",
       "    </tr>\n",
       "    <tr>\n",
       "      <th>44</th>\n",
       "      <td>718</td>\n",
       "    </tr>\n",
       "    <tr>\n",
       "      <th>45</th>\n",
       "      <td>1447</td>\n",
       "    </tr>\n",
       "    <tr>\n",
       "      <th>47</th>\n",
       "      <td>135</td>\n",
       "    </tr>\n",
       "    <tr>\n",
       "      <th>48</th>\n",
       "      <td>178</td>\n",
       "    </tr>\n",
       "    <tr>\n",
       "      <th>49</th>\n",
       "      <td>354</td>\n",
       "    </tr>\n",
       "    <tr>\n",
       "      <th>50</th>\n",
       "      <td>195</td>\n",
       "    </tr>\n",
       "    <tr>\n",
       "      <th>51</th>\n",
       "      <td>519</td>\n",
       "    </tr>\n",
       "    <tr>\n",
       "      <th>52</th>\n",
       "      <td>254</td>\n",
       "    </tr>\n",
       "    <tr>\n",
       "      <th>53</th>\n",
       "      <td>518</td>\n",
       "    </tr>\n",
       "    <tr>\n",
       "      <th>54</th>\n",
       "      <td>875</td>\n",
       "    </tr>\n",
       "    <tr>\n",
       "      <th>55</th>\n",
       "      <td>15</td>\n",
       "    </tr>\n",
       "    <tr>\n",
       "      <th>57</th>\n",
       "      <td>985</td>\n",
       "    </tr>\n",
       "    <tr>\n",
       "      <th>58</th>\n",
       "      <td>641</td>\n",
       "    </tr>\n",
       "    <tr>\n",
       "      <th>59</th>\n",
       "      <td>54</td>\n",
       "    </tr>\n",
       "    <tr>\n",
       "      <th>60</th>\n",
       "      <td>145</td>\n",
       "    </tr>\n",
       "    <tr>\n",
       "      <th>63</th>\n",
       "      <td>67</td>\n",
       "    </tr>\n",
       "    <tr>\n",
       "      <th>64</th>\n",
       "      <td>98</td>\n",
       "    </tr>\n",
       "    <tr>\n",
       "      <th>65</th>\n",
       "      <td>316</td>\n",
       "    </tr>\n",
       "    <tr>\n",
       "      <th>66</th>\n",
       "      <td>316</td>\n",
       "    </tr>\n",
       "    <tr>\n",
       "      <th>67</th>\n",
       "      <td>486</td>\n",
       "    </tr>\n",
       "    <tr>\n",
       "      <th>68</th>\n",
       "      <td>104</td>\n",
       "    </tr>\n",
       "    <tr>\n",
       "      <th>69</th>\n",
       "      <td>328</td>\n",
       "    </tr>\n",
       "    <tr>\n",
       "      <th>70</th>\n",
       "      <td>271</td>\n",
       "    </tr>\n",
       "    <tr>\n",
       "      <th>71</th>\n",
       "      <td>114</td>\n",
       "    </tr>\n",
       "    <tr>\n",
       "      <th>72</th>\n",
       "      <td>224</td>\n",
       "    </tr>\n",
       "    <tr>\n",
       "      <th>73</th>\n",
       "      <td>481</td>\n",
       "    </tr>\n",
       "    <tr>\n",
       "      <th>74</th>\n",
       "      <td>13</td>\n",
       "    </tr>\n",
       "    <tr>\n",
       "      <th>75</th>\n",
       "      <td>62</td>\n",
       "    </tr>\n",
       "    <tr>\n",
       "      <th>76</th>\n",
       "      <td>268</td>\n",
       "    </tr>\n",
       "    <tr>\n",
       "      <th>78</th>\n",
       "      <td>91</td>\n",
       "    </tr>\n",
       "    <tr>\n",
       "      <th>79</th>\n",
       "      <td>162</td>\n",
       "    </tr>\n",
       "    <tr>\n",
       "      <th>80</th>\n",
       "      <td>229</td>\n",
       "    </tr>\n",
       "    <tr>\n",
       "      <th>82</th>\n",
       "      <td>573</td>\n",
       "    </tr>\n",
       "    <tr>\n",
       "      <th>83</th>\n",
       "      <td>850</td>\n",
       "    </tr>\n",
       "    <tr>\n",
       "      <th>84</th>\n",
       "      <td>340</td>\n",
       "    </tr>\n",
       "    <tr>\n",
       "      <th>85</th>\n",
       "      <td>397</td>\n",
       "    </tr>\n",
       "    <tr>\n",
       "      <th>86</th>\n",
       "      <td>252</td>\n",
       "    </tr>\n",
       "    <tr>\n",
       "      <th>87</th>\n",
       "      <td>2149</td>\n",
       "    </tr>\n",
       "    <tr>\n",
       "      <th>88</th>\n",
       "      <td>595</td>\n",
       "    </tr>\n",
       "    <tr>\n",
       "      <th>89</th>\n",
       "      <td>121</td>\n",
       "    </tr>\n",
       "    <tr>\n",
       "      <th>90</th>\n",
       "      <td>1987</td>\n",
       "    </tr>\n",
       "    <tr>\n",
       "      <th>91</th>\n",
       "      <td>124</td>\n",
       "    </tr>\n",
       "    <tr>\n",
       "      <th>92</th>\n",
       "      <td>139</td>\n",
       "    </tr>\n",
       "    <tr>\n",
       "      <th>93</th>\n",
       "      <td>184</td>\n",
       "    </tr>\n",
       "    <tr>\n",
       "      <th>94</th>\n",
       "      <td>85</td>\n",
       "    </tr>\n",
       "    <tr>\n",
       "      <th>96</th>\n",
       "      <td>169</td>\n",
       "    </tr>\n",
       "    <tr>\n",
       "      <th>97</th>\n",
       "      <td>104</td>\n",
       "    </tr>\n",
       "    <tr>\n",
       "      <th>98</th>\n",
       "      <td>48</td>\n",
       "    </tr>\n",
       "    <tr>\n",
       "      <th>99</th>\n",
       "      <td>996</td>\n",
       "    </tr>\n",
       "    <tr>\n",
       "      <th>100</th>\n",
       "      <td>161</td>\n",
       "    </tr>\n",
       "    <tr>\n",
       "      <th>101</th>\n",
       "      <td>86</td>\n",
       "    </tr>\n",
       "    <tr>\n",
       "      <th>102</th>\n",
       "      <td>42</td>\n",
       "    </tr>\n",
       "    <tr>\n",
       "      <th>103</th>\n",
       "      <td>104</td>\n",
       "    </tr>\n",
       "    <tr>\n",
       "      <th>105</th>\n",
       "      <td>174</td>\n",
       "    </tr>\n",
       "    <tr>\n",
       "      <th>106</th>\n",
       "      <td>0</td>\n",
       "    </tr>\n",
       "    <tr>\n",
       "      <th>107</th>\n",
       "      <td>186</td>\n",
       "    </tr>\n",
       "    <tr>\n",
       "      <th>108</th>\n",
       "      <td>342</td>\n",
       "    </tr>\n",
       "    <tr>\n",
       "      <th>109</th>\n",
       "      <td>0</td>\n",
       "    </tr>\n",
       "    <tr>\n",
       "      <th>110</th>\n",
       "      <td>33</td>\n",
       "    </tr>\n",
       "    <tr>\n",
       "      <th>111</th>\n",
       "      <td>79</td>\n",
       "    </tr>\n",
       "    <tr>\n",
       "      <th>112</th>\n",
       "      <td>134</td>\n",
       "    </tr>\n",
       "    <tr>\n",
       "      <th>113</th>\n",
       "      <td>103</td>\n",
       "    </tr>\n",
       "    <tr>\n",
       "      <th>114</th>\n",
       "      <td>116</td>\n",
       "    </tr>\n",
       "    <tr>\n",
       "      <th>115</th>\n",
       "      <td>81</td>\n",
       "    </tr>\n",
       "    <tr>\n",
       "      <th>116</th>\n",
       "      <td>405</td>\n",
       "    </tr>\n",
       "    <tr>\n",
       "      <th>118</th>\n",
       "      <td>370</td>\n",
       "    </tr>\n",
       "    <tr>\n",
       "      <th>119</th>\n",
       "      <td>121</td>\n",
       "    </tr>\n",
       "    <tr>\n",
       "      <th>120</th>\n",
       "      <td>171</td>\n",
       "    </tr>\n",
       "    <tr>\n",
       "      <th>121</th>\n",
       "      <td>129</td>\n",
       "    </tr>\n",
       "    <tr>\n",
       "      <th>122</th>\n",
       "      <td>171</td>\n",
       "    </tr>\n",
       "    <tr>\n",
       "      <th>123</th>\n",
       "      <td>56</td>\n",
       "    </tr>\n",
       "    <tr>\n",
       "      <th>124</th>\n",
       "      <td>44</td>\n",
       "    </tr>\n",
       "    <tr>\n",
       "      <th>125</th>\n",
       "      <td>119</td>\n",
       "    </tr>\n",
       "    <tr>\n",
       "      <th>126</th>\n",
       "      <td>413</td>\n",
       "    </tr>\n",
       "    <tr>\n",
       "      <th>127</th>\n",
       "      <td>41</td>\n",
       "    </tr>\n",
       "    <tr>\n",
       "      <th>128</th>\n",
       "      <td>91</td>\n",
       "    </tr>\n",
       "    <tr>\n",
       "      <th>129</th>\n",
       "      <td>47</td>\n",
       "    </tr>\n",
       "    <tr>\n",
       "      <th>130</th>\n",
       "      <td>35</td>\n",
       "    </tr>\n",
       "    <tr>\n",
       "      <th>131</th>\n",
       "      <td>165</td>\n",
       "    </tr>\n",
       "    <tr>\n",
       "      <th>132</th>\n",
       "      <td>176</td>\n",
       "    </tr>\n",
       "    <tr>\n",
       "      <th>133</th>\n",
       "      <td>153</td>\n",
       "    </tr>\n",
       "    <tr>\n",
       "      <th>134</th>\n",
       "      <td>96</td>\n",
       "    </tr>\n",
       "    <tr>\n",
       "      <th>135</th>\n",
       "      <td>193</td>\n",
       "    </tr>\n",
       "    <tr>\n",
       "      <th>136</th>\n",
       "      <td>541</td>\n",
       "    </tr>\n",
       "    <tr>\n",
       "      <th>137</th>\n",
       "      <td>144</td>\n",
       "    </tr>\n",
       "    <tr>\n",
       "      <th>138</th>\n",
       "      <td>181</td>\n",
       "    </tr>\n",
       "    <tr>\n",
       "      <th>139</th>\n",
       "      <td>150</td>\n",
       "    </tr>\n",
       "    <tr>\n",
       "      <th>140</th>\n",
       "      <td>730</td>\n",
       "    </tr>\n",
       "    <tr>\n",
       "      <th>141</th>\n",
       "      <td>50</td>\n",
       "    </tr>\n",
       "    <tr>\n",
       "      <th>142</th>\n",
       "      <td>409</td>\n",
       "    </tr>\n",
       "    <tr>\n",
       "      <th>143</th>\n",
       "      <td>263</td>\n",
       "    </tr>\n",
       "    <tr>\n",
       "      <th>144</th>\n",
       "      <td>375</td>\n",
       "    </tr>\n",
       "    <tr>\n",
       "      <th>145</th>\n",
       "      <td>296</td>\n",
       "    </tr>\n",
       "    <tr>\n",
       "      <th>146</th>\n",
       "      <td>69</td>\n",
       "    </tr>\n",
       "    <tr>\n",
       "      <th>147</th>\n",
       "      <td>52</td>\n",
       "    </tr>\n",
       "    <tr>\n",
       "      <th>148</th>\n",
       "      <td>0</td>\n",
       "    </tr>\n",
       "    <tr>\n",
       "      <th>149</th>\n",
       "      <td>329</td>\n",
       "    </tr>\n",
       "    <tr>\n",
       "      <th>150</th>\n",
       "      <td>218</td>\n",
       "    </tr>\n",
       "    <tr>\n",
       "      <th>151</th>\n",
       "      <td>59</td>\n",
       "    </tr>\n",
       "    <tr>\n",
       "      <th>152</th>\n",
       "      <td>116</td>\n",
       "    </tr>\n",
       "    <tr>\n",
       "      <th>153</th>\n",
       "      <td>77</td>\n",
       "    </tr>\n",
       "    <tr>\n",
       "      <th>154</th>\n",
       "      <td>0</td>\n",
       "    </tr>\n",
       "    <tr>\n",
       "      <th>156</th>\n",
       "      <td>62</td>\n",
       "    </tr>\n",
       "    <tr>\n",
       "      <th>157</th>\n",
       "      <td>161</td>\n",
       "    </tr>\n",
       "    <tr>\n",
       "      <th>158</th>\n",
       "      <td>75</td>\n",
       "    </tr>\n",
       "  </tbody>\n",
       "</table>\n",
       "</div>"
      ],
      "text/plain": [
       "    Total number of COPD coded emergency admissions who were discharged from, or died on, dedicated respiratory ward(s) in the 2020/21 financial year\n",
       "0                                                  316                                                                                               \n",
       "1                                                  123                                                                                               \n",
       "2                                                  218                                                                                               \n",
       "3                                                  116                                                                                               \n",
       "4                                                  293                                                                                               \n",
       "5                                                  275                                                                                               \n",
       "6                                                   46                                                                                               \n",
       "7                                                  196                                                                                               \n",
       "8                                                    0                                                                                               \n",
       "9                                                   43                                                                                               \n",
       "10                                                 276                                                                                               \n",
       "11                                                 134                                                                                               \n",
       "12                                                  92                                                                                               \n",
       "13                                                  55                                                                                               \n",
       "14                                                  56                                                                                               \n",
       "15                                                   9                                                                                               \n",
       "16                                                  81                                                                                               \n",
       "17                                                 140                                                                                               \n",
       "18                                                  48                                                                                               \n",
       "19                                                  17                                                                                               \n",
       "20                                                 114                                                                                               \n",
       "22                                                 109                                                                                               \n",
       "23                                                 120                                                                                               \n",
       "24                                                  83                                                                                               \n",
       "25                                                  91                                                                                               \n",
       "26                                                  50                                                                                               \n",
       "27                                                 229                                                                                               \n",
       "28                                                 114                                                                                               \n",
       "29                                                 130                                                                                               \n",
       "30                                                  85                                                                                               \n",
       "31                                                 148                                                                                               \n",
       "32                                                 100                                                                                               \n",
       "33                                                  68                                                                                               \n",
       "34                                                  71                                                                                               \n",
       "35                                                 159                                                                                               \n",
       "36                                                 101                                                                                               \n",
       "37                                                  18                                                                                               \n",
       "39                                                   1                                                                                               \n",
       "40                                                 372                                                                                               \n",
       "41                                                 234                                                                                               \n",
       "43                                                 391                                                                                               \n",
       "44                                                 718                                                                                               \n",
       "45                                                1447                                                                                               \n",
       "47                                                 135                                                                                               \n",
       "48                                                 178                                                                                               \n",
       "49                                                 354                                                                                               \n",
       "50                                                 195                                                                                               \n",
       "51                                                 519                                                                                               \n",
       "52                                                 254                                                                                               \n",
       "53                                                 518                                                                                               \n",
       "54                                                 875                                                                                               \n",
       "55                                                  15                                                                                               \n",
       "57                                                 985                                                                                               \n",
       "58                                                 641                                                                                               \n",
       "59                                                  54                                                                                               \n",
       "60                                                 145                                                                                               \n",
       "63                                                  67                                                                                               \n",
       "64                                                  98                                                                                               \n",
       "65                                                 316                                                                                               \n",
       "66                                                 316                                                                                               \n",
       "67                                                 486                                                                                               \n",
       "68                                                 104                                                                                               \n",
       "69                                                 328                                                                                               \n",
       "70                                                 271                                                                                               \n",
       "71                                                 114                                                                                               \n",
       "72                                                 224                                                                                               \n",
       "73                                                 481                                                                                               \n",
       "74                                                  13                                                                                               \n",
       "75                                                  62                                                                                               \n",
       "76                                                 268                                                                                               \n",
       "78                                                  91                                                                                               \n",
       "79                                                 162                                                                                               \n",
       "80                                                 229                                                                                               \n",
       "82                                                 573                                                                                               \n",
       "83                                                 850                                                                                               \n",
       "84                                                 340                                                                                               \n",
       "85                                                 397                                                                                               \n",
       "86                                                 252                                                                                               \n",
       "87                                                2149                                                                                               \n",
       "88                                                 595                                                                                               \n",
       "89                                                 121                                                                                               \n",
       "90                                                1987                                                                                               \n",
       "91                                                 124                                                                                               \n",
       "92                                                 139                                                                                               \n",
       "93                                                 184                                                                                               \n",
       "94                                                  85                                                                                               \n",
       "96                                                 169                                                                                               \n",
       "97                                                 104                                                                                               \n",
       "98                                                  48                                                                                               \n",
       "99                                                 996                                                                                               \n",
       "100                                                161                                                                                               \n",
       "101                                                 86                                                                                               \n",
       "102                                                 42                                                                                               \n",
       "103                                                104                                                                                               \n",
       "105                                                174                                                                                               \n",
       "106                                                  0                                                                                               \n",
       "107                                                186                                                                                               \n",
       "108                                                342                                                                                               \n",
       "109                                                  0                                                                                               \n",
       "110                                                 33                                                                                               \n",
       "111                                                 79                                                                                               \n",
       "112                                                134                                                                                               \n",
       "113                                                103                                                                                               \n",
       "114                                                116                                                                                               \n",
       "115                                                 81                                                                                               \n",
       "116                                                405                                                                                               \n",
       "118                                                370                                                                                               \n",
       "119                                                121                                                                                               \n",
       "120                                                171                                                                                               \n",
       "121                                                129                                                                                               \n",
       "122                                                171                                                                                               \n",
       "123                                                 56                                                                                               \n",
       "124                                                 44                                                                                               \n",
       "125                                                119                                                                                               \n",
       "126                                                413                                                                                               \n",
       "127                                                 41                                                                                               \n",
       "128                                                 91                                                                                               \n",
       "129                                                 47                                                                                               \n",
       "130                                                 35                                                                                               \n",
       "131                                                165                                                                                               \n",
       "132                                                176                                                                                               \n",
       "133                                                153                                                                                               \n",
       "134                                                 96                                                                                               \n",
       "135                                                193                                                                                               \n",
       "136                                                541                                                                                               \n",
       "137                                                144                                                                                               \n",
       "138                                                181                                                                                               \n",
       "139                                                150                                                                                               \n",
       "140                                                730                                                                                               \n",
       "141                                                 50                                                                                               \n",
       "142                                                409                                                                                               \n",
       "143                                                263                                                                                               \n",
       "144                                                375                                                                                               \n",
       "145                                                296                                                                                               \n",
       "146                                                 69                                                                                               \n",
       "147                                                 52                                                                                               \n",
       "148                                                  0                                                                                               \n",
       "149                                                329                                                                                               \n",
       "150                                                218                                                                                               \n",
       "151                                                 59                                                                                               \n",
       "152                                                116                                                                                               \n",
       "153                                                 77                                                                                               \n",
       "154                                                  0                                                                                               \n",
       "156                                                 62                                                                                               \n",
       "157                                                161                                                                                               \n",
       "158                                                 75                                                                                               "
      ]
     },
     "metadata": {},
     "output_type": "display_data"
    },
    {
     "data": {
      "application/vnd.jupyter.widget-view+json": {
       "model_id": "eac4090282fe4903aa65c0de64522f4f",
       "version_major": 2,
       "version_minor": 0
      },
      "text/plain": [
       "interactive(children=(IntSlider(value=146, description='rows', max=146, min=1), Output()), _dom_classes=('widg…"
      ]
     },
     "metadata": {},
     "output_type": "display_data"
    }
   ],
   "source": [
    "# cleanup: return the numeric only column\n",
    "column_numeric=return_numeric_only_dataframe_column(df_new, category, subcategory)\n",
    "\n",
    "# display column_numeric, the numeric only column\n",
    "show_data_with_row_control(column_numeric, len(column_numeric.index))"
   ]
  },
  {
   "cell_type": "markdown",
   "id": "bd4f23ea",
   "metadata": {},
   "source": [
    "> We see above that now a dataframe with the numeric rows of the column are returned - 146 rows, 13 less than the original 159. Executing the function `return_numeric_only_dataframe(df_new, category, subcategory)` will return the entire dataframe, `df_new` with only the rows in which the column \"Total number of COPD coded emergency admissions who were discharged from, or died on, dedicated respiratory ward(s) in the 2020/21 financial year\" contains numeric values. These functions may be applied the same way to any column of data. "
   ]
  },
  {
   "cell_type": "markdown",
   "id": "e338c425",
   "metadata": {},
   "source": [
    "<br>\n",
    "\n",
    "### Nominal Yes/No Data - Removing *Other*\n",
    "> In the same manner as we defined functions to clean numeric columns, we define functions to clean yes-no columns, to be used on the fly.\n",
    "#### Function definitions:\n"
   ]
  },
  {
   "cell_type": "code",
   "execution_count": 75,
   "id": "b3681fc4",
   "metadata": {},
   "outputs": [],
   "source": [
    "def check_yes_no(df, cat, column_name):\n",
    "    # this function takes in a dataframe, category, and column name\n",
    "    \n",
    "    # note: apply() and isnumeric() combined result in halving compute time compared to to_numeric()    \n",
    "    bools=np.transpose([df[cat][column_name].apply(lambda x: x in [\"Yes\",\"No\"])])\n",
    "    \n",
    "    return bools\n",
    "\n",
    "def return_yesno_only_dataframe_column(df, cat, column_name):\n",
    "    # returns the dataframe column with numeric values only\n",
    "    bools=check_yes_no(df, cat, column_name)\n",
    "    \n",
    "    df_temp=df_new[cat].iloc[bools]\n",
    "    \n",
    "    data=df_temp[[column_name]]\n",
    "\n",
    "    return data\n",
    "\n",
    "def return_yesno_only_dataframe(df, cat, column_name):\n",
    "    # returns the entire dataframe having removed non-numerics from a specified column\n",
    "    bools=check_yes_no(df, cat, column_name)\n",
    "    \n",
    "    data=df_new.iloc[bools]\n",
    "\n",
    "    return data\n",
    "    "
   ]
  },
  {
   "cell_type": "markdown",
   "id": "17648686",
   "metadata": {},
   "source": [
    "> Some of the data columns contain Yes/No data with anomolous other values\n",
    "<br><br>\n",
    "> Here we illustrate how we deal with such data."
   ]
  },
  {
   "cell_type": "code",
   "execution_count": 76,
   "id": "f13bc3a3",
   "metadata": {},
   "outputs": [
    {
     "name": "stdout",
     "output_type": "stream",
     "text": [
      "Unique values in column: \n",
      "\n",
      "Yes\n",
      "Not known\n",
      "No\n"
     ]
    }
   ],
   "source": [
    "category=\"Patient/carer engagement\"\n",
    "subcategory=\"Trust/Health Board has strategic group for respiratory services\"\n",
    "\n",
    "print(\"Unique values in column: \\n\")\n",
    "for val in df_new[category][subcategory].unique().tolist():\n",
    "    print(val)"
   ]
  },
  {
   "cell_type": "markdown",
   "id": "2a2daea5",
   "metadata": {},
   "source": [
    "> We see that the unique values of the columns are `'Yes'`, `'No'` and `'Not known'`. We aim to remove the `'Not known'` rows. "
   ]
  },
  {
   "cell_type": "code",
   "execution_count": null,
   "id": "dbe08602",
   "metadata": {},
   "outputs": [],
   "source": []
  },
  {
   "cell_type": "code",
   "execution_count": 77,
   "id": "07afccb7",
   "metadata": {},
   "outputs": [
    {
     "data": {
      "text/html": [
       "<div>\n",
       "<style scoped>\n",
       "    .dataframe tbody tr th:only-of-type {\n",
       "        vertical-align: middle;\n",
       "    }\n",
       "\n",
       "    .dataframe tbody tr th {\n",
       "        vertical-align: top;\n",
       "    }\n",
       "\n",
       "    .dataframe thead th {\n",
       "        text-align: right;\n",
       "    }\n",
       "</style>\n",
       "<table border=\"1\" class=\"dataframe\">\n",
       "  <thead>\n",
       "    <tr style=\"text-align: right;\">\n",
       "      <th></th>\n",
       "      <th>Trust/Health Board has strategic group for respiratory services</th>\n",
       "    </tr>\n",
       "  </thead>\n",
       "  <tbody>\n",
       "    <tr>\n",
       "      <th>0</th>\n",
       "      <td>Yes</td>\n",
       "    </tr>\n",
       "    <tr>\n",
       "      <th>1</th>\n",
       "      <td>Yes</td>\n",
       "    </tr>\n",
       "    <tr>\n",
       "      <th>2</th>\n",
       "      <td>Yes</td>\n",
       "    </tr>\n",
       "    <tr>\n",
       "      <th>3</th>\n",
       "      <td>Yes</td>\n",
       "    </tr>\n",
       "    <tr>\n",
       "      <th>4</th>\n",
       "      <td>Yes</td>\n",
       "    </tr>\n",
       "    <tr>\n",
       "      <th>5</th>\n",
       "      <td>Yes</td>\n",
       "    </tr>\n",
       "    <tr>\n",
       "      <th>6</th>\n",
       "      <td>Yes</td>\n",
       "    </tr>\n",
       "    <tr>\n",
       "      <th>8</th>\n",
       "      <td>Yes</td>\n",
       "    </tr>\n",
       "    <tr>\n",
       "      <th>9</th>\n",
       "      <td>Yes</td>\n",
       "    </tr>\n",
       "    <tr>\n",
       "      <th>12</th>\n",
       "      <td>Yes</td>\n",
       "    </tr>\n",
       "    <tr>\n",
       "      <th>13</th>\n",
       "      <td>Yes</td>\n",
       "    </tr>\n",
       "    <tr>\n",
       "      <th>14</th>\n",
       "      <td>Yes</td>\n",
       "    </tr>\n",
       "    <tr>\n",
       "      <th>15</th>\n",
       "      <td>Yes</td>\n",
       "    </tr>\n",
       "    <tr>\n",
       "      <th>16</th>\n",
       "      <td>No</td>\n",
       "    </tr>\n",
       "    <tr>\n",
       "      <th>17</th>\n",
       "      <td>No</td>\n",
       "    </tr>\n",
       "    <tr>\n",
       "      <th>18</th>\n",
       "      <td>Yes</td>\n",
       "    </tr>\n",
       "    <tr>\n",
       "      <th>19</th>\n",
       "      <td>Yes</td>\n",
       "    </tr>\n",
       "    <tr>\n",
       "      <th>20</th>\n",
       "      <td>Yes</td>\n",
       "    </tr>\n",
       "    <tr>\n",
       "      <th>21</th>\n",
       "      <td>Yes</td>\n",
       "    </tr>\n",
       "    <tr>\n",
       "      <th>22</th>\n",
       "      <td>No</td>\n",
       "    </tr>\n",
       "    <tr>\n",
       "      <th>23</th>\n",
       "      <td>Yes</td>\n",
       "    </tr>\n",
       "    <tr>\n",
       "      <th>24</th>\n",
       "      <td>Yes</td>\n",
       "    </tr>\n",
       "    <tr>\n",
       "      <th>25</th>\n",
       "      <td>Yes</td>\n",
       "    </tr>\n",
       "    <tr>\n",
       "      <th>26</th>\n",
       "      <td>Yes</td>\n",
       "    </tr>\n",
       "    <tr>\n",
       "      <th>27</th>\n",
       "      <td>No</td>\n",
       "    </tr>\n",
       "    <tr>\n",
       "      <th>28</th>\n",
       "      <td>Yes</td>\n",
       "    </tr>\n",
       "    <tr>\n",
       "      <th>29</th>\n",
       "      <td>Yes</td>\n",
       "    </tr>\n",
       "    <tr>\n",
       "      <th>30</th>\n",
       "      <td>No</td>\n",
       "    </tr>\n",
       "    <tr>\n",
       "      <th>31</th>\n",
       "      <td>Yes</td>\n",
       "    </tr>\n",
       "    <tr>\n",
       "      <th>32</th>\n",
       "      <td>Yes</td>\n",
       "    </tr>\n",
       "    <tr>\n",
       "      <th>33</th>\n",
       "      <td>No</td>\n",
       "    </tr>\n",
       "    <tr>\n",
       "      <th>36</th>\n",
       "      <td>Yes</td>\n",
       "    </tr>\n",
       "    <tr>\n",
       "      <th>37</th>\n",
       "      <td>Yes</td>\n",
       "    </tr>\n",
       "    <tr>\n",
       "      <th>39</th>\n",
       "      <td>Yes</td>\n",
       "    </tr>\n",
       "    <tr>\n",
       "      <th>40</th>\n",
       "      <td>Yes</td>\n",
       "    </tr>\n",
       "    <tr>\n",
       "      <th>42</th>\n",
       "      <td>Yes</td>\n",
       "    </tr>\n",
       "    <tr>\n",
       "      <th>44</th>\n",
       "      <td>Yes</td>\n",
       "    </tr>\n",
       "    <tr>\n",
       "      <th>45</th>\n",
       "      <td>Yes</td>\n",
       "    </tr>\n",
       "    <tr>\n",
       "      <th>46</th>\n",
       "      <td>Yes</td>\n",
       "    </tr>\n",
       "    <tr>\n",
       "      <th>47</th>\n",
       "      <td>Yes</td>\n",
       "    </tr>\n",
       "    <tr>\n",
       "      <th>48</th>\n",
       "      <td>Yes</td>\n",
       "    </tr>\n",
       "    <tr>\n",
       "      <th>49</th>\n",
       "      <td>Yes</td>\n",
       "    </tr>\n",
       "    <tr>\n",
       "      <th>50</th>\n",
       "      <td>Yes</td>\n",
       "    </tr>\n",
       "    <tr>\n",
       "      <th>51</th>\n",
       "      <td>No</td>\n",
       "    </tr>\n",
       "    <tr>\n",
       "      <th>52</th>\n",
       "      <td>Yes</td>\n",
       "    </tr>\n",
       "    <tr>\n",
       "      <th>53</th>\n",
       "      <td>No</td>\n",
       "    </tr>\n",
       "    <tr>\n",
       "      <th>54</th>\n",
       "      <td>Yes</td>\n",
       "    </tr>\n",
       "    <tr>\n",
       "      <th>55</th>\n",
       "      <td>Yes</td>\n",
       "    </tr>\n",
       "    <tr>\n",
       "      <th>56</th>\n",
       "      <td>Yes</td>\n",
       "    </tr>\n",
       "    <tr>\n",
       "      <th>58</th>\n",
       "      <td>Yes</td>\n",
       "    </tr>\n",
       "    <tr>\n",
       "      <th>60</th>\n",
       "      <td>Yes</td>\n",
       "    </tr>\n",
       "    <tr>\n",
       "      <th>61</th>\n",
       "      <td>Yes</td>\n",
       "    </tr>\n",
       "    <tr>\n",
       "      <th>62</th>\n",
       "      <td>Yes</td>\n",
       "    </tr>\n",
       "    <tr>\n",
       "      <th>63</th>\n",
       "      <td>Yes</td>\n",
       "    </tr>\n",
       "    <tr>\n",
       "      <th>65</th>\n",
       "      <td>Yes</td>\n",
       "    </tr>\n",
       "    <tr>\n",
       "      <th>66</th>\n",
       "      <td>Yes</td>\n",
       "    </tr>\n",
       "    <tr>\n",
       "      <th>67</th>\n",
       "      <td>Yes</td>\n",
       "    </tr>\n",
       "    <tr>\n",
       "      <th>68</th>\n",
       "      <td>Yes</td>\n",
       "    </tr>\n",
       "    <tr>\n",
       "      <th>69</th>\n",
       "      <td>No</td>\n",
       "    </tr>\n",
       "    <tr>\n",
       "      <th>70</th>\n",
       "      <td>Yes</td>\n",
       "    </tr>\n",
       "    <tr>\n",
       "      <th>71</th>\n",
       "      <td>Yes</td>\n",
       "    </tr>\n",
       "    <tr>\n",
       "      <th>72</th>\n",
       "      <td>Yes</td>\n",
       "    </tr>\n",
       "    <tr>\n",
       "      <th>73</th>\n",
       "      <td>Yes</td>\n",
       "    </tr>\n",
       "    <tr>\n",
       "      <th>74</th>\n",
       "      <td>Yes</td>\n",
       "    </tr>\n",
       "    <tr>\n",
       "      <th>75</th>\n",
       "      <td>No</td>\n",
       "    </tr>\n",
       "    <tr>\n",
       "      <th>76</th>\n",
       "      <td>Yes</td>\n",
       "    </tr>\n",
       "    <tr>\n",
       "      <th>77</th>\n",
       "      <td>Yes</td>\n",
       "    </tr>\n",
       "    <tr>\n",
       "      <th>78</th>\n",
       "      <td>No</td>\n",
       "    </tr>\n",
       "    <tr>\n",
       "      <th>79</th>\n",
       "      <td>No</td>\n",
       "    </tr>\n",
       "    <tr>\n",
       "      <th>80</th>\n",
       "      <td>Yes</td>\n",
       "    </tr>\n",
       "    <tr>\n",
       "      <th>81</th>\n",
       "      <td>No</td>\n",
       "    </tr>\n",
       "    <tr>\n",
       "      <th>82</th>\n",
       "      <td>Yes</td>\n",
       "    </tr>\n",
       "    <tr>\n",
       "      <th>83</th>\n",
       "      <td>Yes</td>\n",
       "    </tr>\n",
       "    <tr>\n",
       "      <th>84</th>\n",
       "      <td>No</td>\n",
       "    </tr>\n",
       "    <tr>\n",
       "      <th>85</th>\n",
       "      <td>No</td>\n",
       "    </tr>\n",
       "    <tr>\n",
       "      <th>86</th>\n",
       "      <td>Yes</td>\n",
       "    </tr>\n",
       "    <tr>\n",
       "      <th>87</th>\n",
       "      <td>Yes</td>\n",
       "    </tr>\n",
       "    <tr>\n",
       "      <th>90</th>\n",
       "      <td>Yes</td>\n",
       "    </tr>\n",
       "    <tr>\n",
       "      <th>91</th>\n",
       "      <td>No</td>\n",
       "    </tr>\n",
       "    <tr>\n",
       "      <th>92</th>\n",
       "      <td>Yes</td>\n",
       "    </tr>\n",
       "    <tr>\n",
       "      <th>93</th>\n",
       "      <td>Yes</td>\n",
       "    </tr>\n",
       "    <tr>\n",
       "      <th>94</th>\n",
       "      <td>Yes</td>\n",
       "    </tr>\n",
       "    <tr>\n",
       "      <th>95</th>\n",
       "      <td>Yes</td>\n",
       "    </tr>\n",
       "    <tr>\n",
       "      <th>96</th>\n",
       "      <td>Yes</td>\n",
       "    </tr>\n",
       "    <tr>\n",
       "      <th>98</th>\n",
       "      <td>Yes</td>\n",
       "    </tr>\n",
       "    <tr>\n",
       "      <th>99</th>\n",
       "      <td>No</td>\n",
       "    </tr>\n",
       "    <tr>\n",
       "      <th>101</th>\n",
       "      <td>Yes</td>\n",
       "    </tr>\n",
       "    <tr>\n",
       "      <th>102</th>\n",
       "      <td>Yes</td>\n",
       "    </tr>\n",
       "    <tr>\n",
       "      <th>103</th>\n",
       "      <td>Yes</td>\n",
       "    </tr>\n",
       "    <tr>\n",
       "      <th>104</th>\n",
       "      <td>No</td>\n",
       "    </tr>\n",
       "    <tr>\n",
       "      <th>105</th>\n",
       "      <td>No</td>\n",
       "    </tr>\n",
       "    <tr>\n",
       "      <th>107</th>\n",
       "      <td>No</td>\n",
       "    </tr>\n",
       "    <tr>\n",
       "      <th>108</th>\n",
       "      <td>Yes</td>\n",
       "    </tr>\n",
       "    <tr>\n",
       "      <th>109</th>\n",
       "      <td>No</td>\n",
       "    </tr>\n",
       "    <tr>\n",
       "      <th>110</th>\n",
       "      <td>No</td>\n",
       "    </tr>\n",
       "    <tr>\n",
       "      <th>111</th>\n",
       "      <td>Yes</td>\n",
       "    </tr>\n",
       "    <tr>\n",
       "      <th>112</th>\n",
       "      <td>Yes</td>\n",
       "    </tr>\n",
       "    <tr>\n",
       "      <th>113</th>\n",
       "      <td>Yes</td>\n",
       "    </tr>\n",
       "    <tr>\n",
       "      <th>114</th>\n",
       "      <td>No</td>\n",
       "    </tr>\n",
       "    <tr>\n",
       "      <th>115</th>\n",
       "      <td>No</td>\n",
       "    </tr>\n",
       "    <tr>\n",
       "      <th>116</th>\n",
       "      <td>No</td>\n",
       "    </tr>\n",
       "    <tr>\n",
       "      <th>117</th>\n",
       "      <td>Yes</td>\n",
       "    </tr>\n",
       "    <tr>\n",
       "      <th>118</th>\n",
       "      <td>No</td>\n",
       "    </tr>\n",
       "    <tr>\n",
       "      <th>119</th>\n",
       "      <td>Yes</td>\n",
       "    </tr>\n",
       "    <tr>\n",
       "      <th>120</th>\n",
       "      <td>Yes</td>\n",
       "    </tr>\n",
       "    <tr>\n",
       "      <th>121</th>\n",
       "      <td>Yes</td>\n",
       "    </tr>\n",
       "    <tr>\n",
       "      <th>122</th>\n",
       "      <td>Yes</td>\n",
       "    </tr>\n",
       "    <tr>\n",
       "      <th>123</th>\n",
       "      <td>No</td>\n",
       "    </tr>\n",
       "    <tr>\n",
       "      <th>124</th>\n",
       "      <td>No</td>\n",
       "    </tr>\n",
       "    <tr>\n",
       "      <th>125</th>\n",
       "      <td>No</td>\n",
       "    </tr>\n",
       "    <tr>\n",
       "      <th>127</th>\n",
       "      <td>No</td>\n",
       "    </tr>\n",
       "    <tr>\n",
       "      <th>128</th>\n",
       "      <td>No</td>\n",
       "    </tr>\n",
       "    <tr>\n",
       "      <th>129</th>\n",
       "      <td>Yes</td>\n",
       "    </tr>\n",
       "    <tr>\n",
       "      <th>130</th>\n",
       "      <td>Yes</td>\n",
       "    </tr>\n",
       "    <tr>\n",
       "      <th>131</th>\n",
       "      <td>Yes</td>\n",
       "    </tr>\n",
       "    <tr>\n",
       "      <th>133</th>\n",
       "      <td>No</td>\n",
       "    </tr>\n",
       "    <tr>\n",
       "      <th>134</th>\n",
       "      <td>No</td>\n",
       "    </tr>\n",
       "    <tr>\n",
       "      <th>135</th>\n",
       "      <td>Yes</td>\n",
       "    </tr>\n",
       "    <tr>\n",
       "      <th>136</th>\n",
       "      <td>Yes</td>\n",
       "    </tr>\n",
       "    <tr>\n",
       "      <th>137</th>\n",
       "      <td>Yes</td>\n",
       "    </tr>\n",
       "    <tr>\n",
       "      <th>138</th>\n",
       "      <td>No</td>\n",
       "    </tr>\n",
       "    <tr>\n",
       "      <th>139</th>\n",
       "      <td>Yes</td>\n",
       "    </tr>\n",
       "    <tr>\n",
       "      <th>140</th>\n",
       "      <td>Yes</td>\n",
       "    </tr>\n",
       "    <tr>\n",
       "      <th>141</th>\n",
       "      <td>Yes</td>\n",
       "    </tr>\n",
       "    <tr>\n",
       "      <th>142</th>\n",
       "      <td>No</td>\n",
       "    </tr>\n",
       "    <tr>\n",
       "      <th>144</th>\n",
       "      <td>Yes</td>\n",
       "    </tr>\n",
       "    <tr>\n",
       "      <th>145</th>\n",
       "      <td>No</td>\n",
       "    </tr>\n",
       "    <tr>\n",
       "      <th>146</th>\n",
       "      <td>Yes</td>\n",
       "    </tr>\n",
       "    <tr>\n",
       "      <th>149</th>\n",
       "      <td>No</td>\n",
       "    </tr>\n",
       "    <tr>\n",
       "      <th>150</th>\n",
       "      <td>Yes</td>\n",
       "    </tr>\n",
       "    <tr>\n",
       "      <th>151</th>\n",
       "      <td>Yes</td>\n",
       "    </tr>\n",
       "    <tr>\n",
       "      <th>152</th>\n",
       "      <td>Yes</td>\n",
       "    </tr>\n",
       "    <tr>\n",
       "      <th>153</th>\n",
       "      <td>Yes</td>\n",
       "    </tr>\n",
       "    <tr>\n",
       "      <th>154</th>\n",
       "      <td>No</td>\n",
       "    </tr>\n",
       "    <tr>\n",
       "      <th>155</th>\n",
       "      <td>Yes</td>\n",
       "    </tr>\n",
       "    <tr>\n",
       "      <th>156</th>\n",
       "      <td>Yes</td>\n",
       "    </tr>\n",
       "    <tr>\n",
       "      <th>157</th>\n",
       "      <td>Yes</td>\n",
       "    </tr>\n",
       "    <tr>\n",
       "      <th>158</th>\n",
       "      <td>Yes</td>\n",
       "    </tr>\n",
       "  </tbody>\n",
       "</table>\n",
       "</div>"
      ],
      "text/plain": [
       "    Trust/Health Board has strategic group for respiratory services\n",
       "0                                                  Yes             \n",
       "1                                                  Yes             \n",
       "2                                                  Yes             \n",
       "3                                                  Yes             \n",
       "4                                                  Yes             \n",
       "5                                                  Yes             \n",
       "6                                                  Yes             \n",
       "8                                                  Yes             \n",
       "9                                                  Yes             \n",
       "12                                                 Yes             \n",
       "13                                                 Yes             \n",
       "14                                                 Yes             \n",
       "15                                                 Yes             \n",
       "16                                                  No             \n",
       "17                                                  No             \n",
       "18                                                 Yes             \n",
       "19                                                 Yes             \n",
       "20                                                 Yes             \n",
       "21                                                 Yes             \n",
       "22                                                  No             \n",
       "23                                                 Yes             \n",
       "24                                                 Yes             \n",
       "25                                                 Yes             \n",
       "26                                                 Yes             \n",
       "27                                                  No             \n",
       "28                                                 Yes             \n",
       "29                                                 Yes             \n",
       "30                                                  No             \n",
       "31                                                 Yes             \n",
       "32                                                 Yes             \n",
       "33                                                  No             \n",
       "36                                                 Yes             \n",
       "37                                                 Yes             \n",
       "39                                                 Yes             \n",
       "40                                                 Yes             \n",
       "42                                                 Yes             \n",
       "44                                                 Yes             \n",
       "45                                                 Yes             \n",
       "46                                                 Yes             \n",
       "47                                                 Yes             \n",
       "48                                                 Yes             \n",
       "49                                                 Yes             \n",
       "50                                                 Yes             \n",
       "51                                                  No             \n",
       "52                                                 Yes             \n",
       "53                                                  No             \n",
       "54                                                 Yes             \n",
       "55                                                 Yes             \n",
       "56                                                 Yes             \n",
       "58                                                 Yes             \n",
       "60                                                 Yes             \n",
       "61                                                 Yes             \n",
       "62                                                 Yes             \n",
       "63                                                 Yes             \n",
       "65                                                 Yes             \n",
       "66                                                 Yes             \n",
       "67                                                 Yes             \n",
       "68                                                 Yes             \n",
       "69                                                  No             \n",
       "70                                                 Yes             \n",
       "71                                                 Yes             \n",
       "72                                                 Yes             \n",
       "73                                                 Yes             \n",
       "74                                                 Yes             \n",
       "75                                                  No             \n",
       "76                                                 Yes             \n",
       "77                                                 Yes             \n",
       "78                                                  No             \n",
       "79                                                  No             \n",
       "80                                                 Yes             \n",
       "81                                                  No             \n",
       "82                                                 Yes             \n",
       "83                                                 Yes             \n",
       "84                                                  No             \n",
       "85                                                  No             \n",
       "86                                                 Yes             \n",
       "87                                                 Yes             \n",
       "90                                                 Yes             \n",
       "91                                                  No             \n",
       "92                                                 Yes             \n",
       "93                                                 Yes             \n",
       "94                                                 Yes             \n",
       "95                                                 Yes             \n",
       "96                                                 Yes             \n",
       "98                                                 Yes             \n",
       "99                                                  No             \n",
       "101                                                Yes             \n",
       "102                                                Yes             \n",
       "103                                                Yes             \n",
       "104                                                 No             \n",
       "105                                                 No             \n",
       "107                                                 No             \n",
       "108                                                Yes             \n",
       "109                                                 No             \n",
       "110                                                 No             \n",
       "111                                                Yes             \n",
       "112                                                Yes             \n",
       "113                                                Yes             \n",
       "114                                                 No             \n",
       "115                                                 No             \n",
       "116                                                 No             \n",
       "117                                                Yes             \n",
       "118                                                 No             \n",
       "119                                                Yes             \n",
       "120                                                Yes             \n",
       "121                                                Yes             \n",
       "122                                                Yes             \n",
       "123                                                 No             \n",
       "124                                                 No             \n",
       "125                                                 No             \n",
       "127                                                 No             \n",
       "128                                                 No             \n",
       "129                                                Yes             \n",
       "130                                                Yes             \n",
       "131                                                Yes             \n",
       "133                                                 No             \n",
       "134                                                 No             \n",
       "135                                                Yes             \n",
       "136                                                Yes             \n",
       "137                                                Yes             \n",
       "138                                                 No             \n",
       "139                                                Yes             \n",
       "140                                                Yes             \n",
       "141                                                Yes             \n",
       "142                                                 No             \n",
       "144                                                Yes             \n",
       "145                                                 No             \n",
       "146                                                Yes             \n",
       "149                                                 No             \n",
       "150                                                Yes             \n",
       "151                                                Yes             \n",
       "152                                                Yes             \n",
       "153                                                Yes             \n",
       "154                                                 No             \n",
       "155                                                Yes             \n",
       "156                                                Yes             \n",
       "157                                                Yes             \n",
       "158                                                Yes             "
      ]
     },
     "metadata": {},
     "output_type": "display_data"
    },
    {
     "data": {
      "application/vnd.jupyter.widget-view+json": {
       "model_id": "1d9d648e71d94faaa56a2a21299ba4e8",
       "version_major": 2,
       "version_minor": 0
      },
      "text/plain": [
       "interactive(children=(IntSlider(value=138, description='rows', max=138, min=1), Output()), _dom_classes=('widg…"
      ]
     },
     "metadata": {},
     "output_type": "display_data"
    }
   ],
   "source": [
    "# return a dataframe column, removing any non yes-no data\n",
    "column_yesno=return_yesno_only_dataframe_column(df_new, category, subcategory)\n",
    "\n",
    "print(\"Unique values in column:\\n\")\n",
    "for val in column_yesno[subcategory].unique().tolist():\n",
    "    print(val)\n",
    "    \n",
    "show_data_with_row_control(column_yesno, len(column_yesno.index))"
   ]
  },
  {
   "cell_type": "markdown",
   "id": "83c9f418",
   "metadata": {},
   "source": [
    "> We see above that now a dataframe with the numeric rows of the column are returned - 138 rows, 21 less than the original 159. Executing the function `return_yesno_only_dataframe(df_new, category, subcategory)` will return the entire dataframe, `df_new` with only the 138 rows in which the column \"Trust/Health Board has strategic group for respiratory services\" contains yes-no values. These functions may be applied the same way to any column of data. "
   ]
  },
  {
   "cell_type": "markdown",
   "id": "ec4648de",
   "metadata": {},
   "source": [
    "<br>\n",
    "\n",
    "### Stripping Strings \n",
    "\n"
   ]
  },
  {
   "cell_type": "code",
   "execution_count": 78,
   "id": "d5ee9ac6",
   "metadata": {},
   "outputs": [],
   "source": [
    "# strip all string values in every column of the dataframe df_new\n",
    "df_obj = df_new.select_dtypes(['object'])\n",
    "df_new[df_obj.columns] = df_obj.apply(lambda x: x.str.strip())"
   ]
  },
  {
   "cell_type": "markdown",
   "id": "c6cac909",
   "metadata": {},
   "source": [
    "<br><br><br><br><br><br><br><br>\n",
    "# Mapping Data "
   ]
  },
  {
   "cell_type": "markdown",
   "id": "2b023616",
   "metadata": {},
   "source": [
    "## Questions About The Data\n",
    "<br>\n",
    "\n",
    "*To begin our analysis, we ask some ground-level questions about the data.*\n",
    "\n",
    "<br>\n",
    "<li> Which regions of the country have the highest admissions to hospital due to respiratory illnesses? </li>\n",
    "<li> Does the availibility of on-call respiratory consultants have an effect on hospital admissions? </li>\n",
    "<li> What is the distribution of hospital admissions to beds available? </li>\n"
   ]
  },
  {
   "cell_type": "markdown",
   "id": "fc351c82",
   "metadata": {},
   "source": [
    "<br><br>\n",
    "### Regional Hospital Admissions\n",
    "<br>\n",
    "\n",
    "> *Here we begin to answer the question*\n",
    "<br>\n",
    "Which regions of the country have the highest admissions to hospital due to respiratory illnesses? \n",
    "<br><br>\n",
    "#### Function definitions:"
   ]
  },
  {
   "cell_type": "code",
   "execution_count": 79,
   "id": "99a481a5",
   "metadata": {},
   "outputs": [],
   "source": [
    "def sum_by_region(df,data_to_sum):\n",
    "    # returns the sum of values in data_to_sum per region\n",
    "    \n",
    "    # get relevant columns\n",
    "    regions_df=get_specific_column_from_multiindex(df, \"Region\").droplevel(0,axis=1)\n",
    "    df2=get_specific_column_from_multiindex(df,data_to_sum).droplevel(0,axis=1)\n",
    "    # dataframes to combine\n",
    "    temp=[regions_df, df2]\n",
    "    # combine the two dataframes, combined series obtained\n",
    "    combined_series=pd.concat(temp, axis=1)\n",
    "    # convert to dataframe, group by region and sum numeric column\n",
    "    summed_df=combined_series.groupby(\"Region\", as_index=False)[data_to_sum].sum()\n",
    "    \n",
    "    return summed_df\n",
    "    \n",
    "\n",
    "def tooltip_marker(map_name, locs_dict):\n",
    "    # returns a tooltip-marker to folium map with region labels \n",
    "    \n",
    "    # get locations and add a tooltip at their specified longitudes and latitudes \n",
    "    for key, value in locs_dict.items():\n",
    "        folium.Marker(value,\n",
    "                      popup='<i>{}</i>'.format(key),\n",
    "                      tooltip=\"{}\".format(key)).add_to(map_name)\n",
    "        \n",
    "        \n",
    "def tooltip_marker(map_name, locs_dict, vals_dict):\n",
    "    # returns a tooltip-marker to folium map with region labels and relevant values\n",
    "    \n",
    "    # get locations and add a tooltip at their specified longitudes and latitudes \n",
    "    # and add values from val_dict to tooltip\n",
    "    for key, value in locs_dict.items():\n",
    "        folium.Marker(value,\n",
    "                      popup='<i>{}</i>'.format(key),\n",
    "                      tooltip=\"{}<br>Admissions: {}\".format(key,vals_dict[key])).add_to(map_name)\n",
    "\n",
    "\n",
    "def display_data_on_map(df_dictionary, text):\n",
    "    # returns an interactive folium map display\n",
    "    # with a dropdown for each key in df_dictionary to display different maps\n",
    "    \n",
    "    @interact\n",
    "    def display_map(option=widgets.Dropdown(options=list(df_dictionary.keys()),\n",
    "                                            description=\"Data to view\",\n",
    "                                            style={'description_width': '40%'})):\n",
    "        # create base map\n",
    "        england=folium.Map(location=[52.8781, -0.5276],zoom_start=5.5)\n",
    "        \n",
    "        # get relevant data from dict\n",
    "        df=df_dictionary[option]\n",
    "        a=df.columns.tolist()[0]\n",
    "        b=df.columns.tolist()[1]\n",
    "        \n",
    "        # overlay with chloropleth, using boundary data regions_geo \n",
    "        folium.Choropleth(\n",
    "            geo_data = regions_geo,                  #json\n",
    "            name ='choropleth',                  \n",
    "            data = df,                     \n",
    "            columns = [a, b], #columns to work on\n",
    "            key_on ='feature.properties.nhser19nm',\n",
    "            fill_color ='YlGnBu',     #I passed colors Yellow,Green,Blue\n",
    "            fill_opacity = 0.7,\n",
    "            line_opacity = 0.2,\n",
    "            legend_name = \"Hospital Admissions\").add_to(england)\n",
    "        \n",
    "        # create a dictionary with admission numbers for tooltip\n",
    "        admissions=dict(zip(df[a],round(df[b])))\n",
    "        \n",
    "        # add region tooltips\n",
    "        tooltip_marker(england, locs, admissions)\n",
    "        \n",
    "        # add title\n",
    "        title_html = '''<h3 align=\"center\" style=\"font-size:16px\"><b>{} {}</b></h3>'''.format(option, text)\n",
    "       \n",
    "        england.get_root().html.add_child(folium.Element(title_html))\n",
    "        \n",
    "        # display folium map\n",
    "        return england"
   ]
  },
  {
   "cell_type": "markdown",
   "id": "d375e9d9",
   "metadata": {},
   "source": [
    "#### Setting up relevant variables:"
   ]
  },
  {
   "cell_type": "code",
   "execution_count": 80,
   "id": "a70bf864",
   "metadata": {},
   "outputs": [],
   "source": [
    "# set up header values for columns to analyse\n",
    "data_to_analyse=[\"Region\",\n",
    "                 \"Number of respiratory coded medical emergency admissions in 2020/21 financial year \",\n",
    "                 \"Number of COPD coded emergency admissions in 2020/21 financial year \",\n",
    "                 \"Number of asthma coded emergency admissions  in the 2020/21 financial year \",\n",
    "                 \"Number of beds available on dedicated respiratory ward(s) \"]\n",
    "\n",
    "# get unique region vals\n",
    "regions = set([s.strip() for s in df_new[\"Location\"][\"Region\"]])\n",
    "\n",
    "# group by regions, sum respiratory admissions and drop Wales\n",
    "regional_resp_admissions=(sum_by_region(df_new, data_to_analyse[1])).drop(labels=7,axis=0)\n",
    "\n",
    "# group by regions, sum copd admissions and drop Wales\n",
    "regional_copd_admissions=(sum_by_region(df_new, data_to_analyse[2])).drop(labels=7,axis=0)\n",
    "\n",
    "# group by regions, sum asthma admission and drop Wales\n",
    "regional_asthma_admissions=(sum_by_region(df_new, data_to_analyse[3])).drop(labels=7,axis=0)\n",
    "\n",
    "regional_dict={\"Respiratory\":regional_resp_admissions, \"COPD\":regional_copd_admissions, \"Asthma\":regional_asthma_admissions}\n",
    "\n",
    "# load .geojson region boundary data\n",
    "with open('NHS_England_Regions_Map.geojson', 'r') as jsonFile:\n",
    "    regions_geo = json.load(jsonFile)\n",
    "    \n",
    "# dictionary of region longs and lats for tooltip\n",
    "locs={\"East of England\":[52.1911, 0.1927], \n",
    "      \"London\":[51.5072, -0.1276], \n",
    "      \"Midlands\":[52.3449, -1.9718],\n",
    "      \"North East and Yorkshire\":[54.2333, -1.3364],\n",
    "      \"North West\":[53.6221, -2.5945],\n",
    "      \"South East\":[51.1781, -0.5596],\n",
    "      \"South West\":[50.7772, -3.9995],\n",
    "      # \"Wales\":[52.1307, -3.7837]\n",
    "     }\n"
   ]
  },
  {
   "cell_type": "markdown",
   "id": "84a9c094",
   "metadata": {},
   "source": [
    "#### Display the map:"
   ]
  },
  {
   "cell_type": "code",
   "execution_count": 81,
   "id": "066d622e",
   "metadata": {},
   "outputs": [
    {
     "data": {
      "text/html": [
       "<div style=\"width:100%;\"><div style=\"position:relative;width:100%;height:0;padding-bottom:60%;\"><span style=\"color:#565656\">Make this Notebook Trusted to load map: File -> Trust Notebook</span><iframe srcdoc=\"&lt;!DOCTYPE html&gt;\n",
       "&lt;html&gt;\n",
       "&lt;head&gt;\n",
       "    \n",
       "    &lt;meta http-equiv=&quot;content-type&quot; content=&quot;text/html; charset=UTF-8&quot; /&gt;\n",
       "    \n",
       "        &lt;script&gt;\n",
       "            L_NO_TOUCH = false;\n",
       "            L_DISABLE_3D = false;\n",
       "        &lt;/script&gt;\n",
       "    \n",
       "    &lt;style&gt;html, body {width: 100%;height: 100%;margin: 0;padding: 0;}&lt;/style&gt;\n",
       "    &lt;style&gt;#map {position:absolute;top:0;bottom:0;right:0;left:0;}&lt;/style&gt;\n",
       "    &lt;script src=&quot;https://cdn.jsdelivr.net/npm/leaflet@1.9.3/dist/leaflet.js&quot;&gt;&lt;/script&gt;\n",
       "    &lt;script src=&quot;https://code.jquery.com/jquery-3.7.1.min.js&quot;&gt;&lt;/script&gt;\n",
       "    &lt;script src=&quot;https://cdn.jsdelivr.net/npm/bootstrap@5.2.2/dist/js/bootstrap.bundle.min.js&quot;&gt;&lt;/script&gt;\n",
       "    &lt;script src=&quot;https://cdnjs.cloudflare.com/ajax/libs/Leaflet.awesome-markers/2.0.2/leaflet.awesome-markers.js&quot;&gt;&lt;/script&gt;\n",
       "    &lt;link rel=&quot;stylesheet&quot; href=&quot;https://cdn.jsdelivr.net/npm/leaflet@1.9.3/dist/leaflet.css&quot;/&gt;\n",
       "    &lt;link rel=&quot;stylesheet&quot; href=&quot;https://cdn.jsdelivr.net/npm/bootstrap@5.2.2/dist/css/bootstrap.min.css&quot;/&gt;\n",
       "    &lt;link rel=&quot;stylesheet&quot; href=&quot;https://netdna.bootstrapcdn.com/bootstrap/3.0.0/css/bootstrap-glyphicons.css&quot;/&gt;\n",
       "    &lt;link rel=&quot;stylesheet&quot; href=&quot;https://cdn.jsdelivr.net/npm/@fortawesome/fontawesome-free@6.2.0/css/all.min.css&quot;/&gt;\n",
       "    &lt;link rel=&quot;stylesheet&quot; href=&quot;https://cdnjs.cloudflare.com/ajax/libs/Leaflet.awesome-markers/2.0.2/leaflet.awesome-markers.css&quot;/&gt;\n",
       "    &lt;link rel=&quot;stylesheet&quot; href=&quot;https://cdn.jsdelivr.net/gh/python-visualization/folium/folium/templates/leaflet.awesome.rotate.min.css&quot;/&gt;\n",
       "    \n",
       "            &lt;meta name=&quot;viewport&quot; content=&quot;width=device-width,\n",
       "                initial-scale=1.0, maximum-scale=1.0, user-scalable=no&quot; /&gt;\n",
       "            &lt;style&gt;\n",
       "                #map_304e91b779330968836c914db5ab2c4b {\n",
       "                    position: relative;\n",
       "                    width: 100.0%;\n",
       "                    height: 100.0%;\n",
       "                    left: 0.0%;\n",
       "                    top: 0.0%;\n",
       "                }\n",
       "                .leaflet-container { font-size: 1rem; }\n",
       "            &lt;/style&gt;\n",
       "        \n",
       "    &lt;script src=&quot;https://cdnjs.cloudflare.com/ajax/libs/d3/3.5.5/d3.min.js&quot;&gt;&lt;/script&gt;\n",
       "&lt;/head&gt;\n",
       "&lt;body&gt;\n",
       "    \n",
       "    &lt;h3 align=&quot;center&quot; style=&quot;font-size:16px&quot;&gt;&lt;b&gt;Respiratory Admissions&lt;/b&gt;&lt;/h3&gt;\n",
       "    \n",
       "            &lt;div class=&quot;folium-map&quot; id=&quot;map_304e91b779330968836c914db5ab2c4b&quot; &gt;&lt;/div&gt;\n",
       "        \n",
       "&lt;/body&gt;\n",
       "&lt;script&gt;\n",
       "    \n",
       "    \n",
       "            var map_304e91b779330968836c914db5ab2c4b = L.map(\n",
       "                &quot;map_304e91b779330968836c914db5ab2c4b&quot;,\n",
       "                {\n",
       "                    center: [52.8781, -0.5276],\n",
       "                    crs: L.CRS.EPSG3857,\n",
       "                    zoom: 5.5,\n",
       "                    zoomControl: true,\n",
       "                    preferCanvas: false,\n",
       "                }\n",
       "            );\n",
       "\n",
       "            \n",
       "\n",
       "        \n",
       "    \n",
       "            var tile_layer_3a20ede96c9bec67a5e8d9d08b62f1b2 = L.tileLayer(\n",
       "                &quot;https://tile.openstreetmap.org/{z}/{x}/{y}.png&quot;,\n",
       "                {&quot;attribution&quot;: &quot;\\u0026copy; \\u003ca href=\\&quot;https://www.openstreetmap.org/copyright\\&quot;\\u003eOpenStreetMap\\u003c/a\\u003e contributors&quot;, &quot;detectRetina&quot;: false, &quot;maxNativeZoom&quot;: 19, &quot;maxZoom&quot;: 19, &quot;minZoom&quot;: 0, &quot;noWrap&quot;: false, &quot;opacity&quot;: 1, &quot;subdomains&quot;: &quot;abc&quot;, &quot;tms&quot;: false}\n",
       "            );\n",
       "        \n",
       "    \n",
       "            tile_layer_3a20ede96c9bec67a5e8d9d08b62f1b2.addTo(map_304e91b779330968836c914db5ab2c4b);\n",
       "        \n",
       "    \n",
       "            var choropleth_a609d18f7de803fe58d31a60176b13fa = L.featureGroup(\n",
       "                {}\n",
       "            );\n",
       "        \n",
       "    \n",
       "        function geo_json_2b442a9a75f042804d2e85134f6e8599_styler(feature) {\n",
       "            switch(feature.properties.FID) {\n",
       "                case 1: \n",
       "                    return {&quot;color&quot;: &quot;black&quot;, &quot;fillColor&quot;: &quot;#c7e9b4&quot;, &quot;fillOpacity&quot;: 0.7, &quot;opacity&quot;: 0.2, &quot;weight&quot;: 1};\n",
       "                case 2: case 5: \n",
       "                    return {&quot;color&quot;: &quot;black&quot;, &quot;fillColor&quot;: &quot;#7fcdbb&quot;, &quot;fillOpacity&quot;: 0.7, &quot;opacity&quot;: 0.2, &quot;weight&quot;: 1};\n",
       "                case 3: case 4: \n",
       "                    return {&quot;color&quot;: &quot;black&quot;, &quot;fillColor&quot;: &quot;#ffffcc&quot;, &quot;fillOpacity&quot;: 0.7, &quot;opacity&quot;: 0.2, &quot;weight&quot;: 1};\n",
       "                case 6: \n",
       "                    return {&quot;color&quot;: &quot;black&quot;, &quot;fillColor&quot;: &quot;#253494&quot;, &quot;fillOpacity&quot;: 0.7, &quot;opacity&quot;: 0.2, &quot;weight&quot;: 1};\n",
       "                default:\n",
       "                    return {&quot;color&quot;: &quot;black&quot;, &quot;fillColor&quot;: &quot;#41b6c4&quot;, &quot;fillOpacity&quot;: 0.7, &quot;opacity&quot;: 0.2, &quot;weight&quot;: 1};\n",
       "            }\n",
       "        }\n",
       "\n",
       "        function geo_json_2b442a9a75f042804d2e85134f6e8599_onEachFeature(feature, layer) {\n",
       "            layer.on({\n",
       "            });\n",
       "        };\n",
       "        var geo_json_2b442a9a75f042804d2e85134f6e8599 = L.geoJson(null, {\n",
       "                onEachFeature: geo_json_2b442a9a75f042804d2e85134f6e8599_onEachFeature,\n",
       "            \n",
       "                style: geo_json_2b442a9a75f042804d2e85134f6e8599_styler,\n",
       "        });\n",
       "\n",
       "        function geo_json_2b442a9a75f042804d2e85134f6e8599_add (data) {\n",
       "            geo_json_2b442a9a75f042804d2e85134f6e8599\n",
       "                .addData(data);\n",
       "        }\n",
       "            geo_json_2b442a9a75f042804d2e85134f6e8599_add({&quot;crs&quot;: {&quot;properties&quot;: {&quot;name&quot;: &quot;urn:ogc:def:crs:OGC:1.3:CRS84&quot;}, &quot;type&quot;: &quot;name&quot;}, &quot;features&quot;: [{&quot;geometry&quot;: {&quot;coordinates&quot;: [[[[-0.083910971999956, 51.689964803000066], [-0.062017829999945, 51.68300783400008], [-0.049181031999979, 51.684271866000074], [-0.011918499999979, 51.680877863000035], [-0.00892264099997, 51.66040080800008], [-0.012258997999936, 51.64623110000008], [0.00142562700006, 51.64167858300004], [0.022719672000051, 51.64111544500008], [0.025738362000027, 51.63456546500004], [0.021819184000037, 51.62883278700008], [0.040902063000033, 51.61567598600004], [0.053709816000037, 51.61828078900004], [0.048214514000051, 51.61321365200007], [0.072832267000024, 51.60468744700006], [0.079169811000043, 51.60704739800008], [0.088922328000024, 51.60485356000004], [0.09482489100003, 51.61078411700004], [0.092284925000058, 51.61357428100007], [0.119307187000061, 51.61536849100003], [0.138184283000044, 51.62354496100005], [0.168901257000073, 51.62142016100006], [0.181237295000074, 51.625826163000056], [0.200311172000056, 51.62493583200006], [0.224087361000045, 51.63173732100006], [0.252194294000049, 51.61776943000007], [0.264561739000044, 51.60832063400005], [0.254009120000035, 51.601598212000056], [0.26987796700007, 51.59957389600004], [0.271288417000051, 51.58903030700003], [0.286752804000059, 51.57346386800003], [0.290289908000034, 51.56429940900006], [0.313035218000039, 51.565818154000056], [0.315250598000034, 51.55788856200007], [0.327815465000072, 51.550993918000074], [0.33402409100006, 51.540503683000054], [0.300722808000046, 51.53875600100008], [0.297755494000057, 51.53531861400006], [0.265347145000021, 51.53215013700003], [0.263682397000025, 51.51786932600004], [0.253834581000035, 51.51788643700007], [0.248965144000067, 51.52867418300008], [0.240694713000039, 51.52195583900004], [0.244905435000021, 51.51875917500007], [0.237175887000035, 51.51933463700004], [0.242019589000051, 51.507966269000065], [0.226597242000025, 51.50656238500005], [0.229965660000062, 51.49936594300004], [0.214157298000032, 51.496040125000036], [0.211787909000066, 51.48974140900003], [0.210553951000065, 51.490243107000026], [0.187684067000021, 51.48785887400004], [0.182058275000031, 51.498626898000055], [0.178579552000031, 51.50528282700003], [0.159138751000057, 51.51204185900008], [0.158721674000049, 51.51218680300008], [0.127174719000038, 51.51944381800007], [0.098144271000024, 51.51495807900005], [0.065730142000064, 51.50073363200005], [0.06035305100005, 51.498372293000045], [0.020312310000065, 51.49941262600004], [0.01646781900007, 51.50159120100005], [0.015679448000071, 51.50203791400003], [0.007601419000025, 51.50661438000003], [0.004562496000062, 51.50833566300008], [-0.005710530999977, 51.505108421000045], [-0.006169591999935, 51.50197842800003], [-0.008426262999933, 51.486584942000036], [-0.024926111999946, 51.48981020700006], [-0.029233912999928, 51.502368207000075], [-0.029705628999977, 51.50374292600003], [-0.030146890999958, 51.50502881500006], [-0.03124504799996, 51.50822865100008], [-0.045493420999946, 51.509394935000046], [-0.061206797999944, 51.50290196900005], [-0.073998005999954, 51.50640381200003], [-0.074669352999933, 51.50545055900005], [-0.075340972999925, 51.50449687200006], [-0.070696047999945, 51.50305846400005], [-0.06295395099994, 51.50066037900007], [-0.059893216999967, 51.50167243100003], [-0.059498649999966, 51.501821273000076], [-0.056512881999936, 51.50282428300005], [-0.04434069499996, 51.50691204800006], [-0.033412435999935, 51.50565721400005], [-0.033149925999965, 51.50243411500003], [-0.032350816999951, 51.49302104000003], [-0.024820912999928, 51.48554668700007], [-0.017177586999935, 51.480331738000075], [-0.022741555999971, 51.47535417200004], [-0.022335622999947, 51.475569404000055], [0.001989108000032, 51.48846070500008], [0.001591666000024, 51.50184616400003], [0.001506989000063, 51.50469749600006], [0.007048258000054, 51.50175284900007], [0.015468984000051, 51.497276929000066], [0.021603260000063, 51.494015438000076], [0.058055044000071, 51.49405923000006], [0.076724200000058, 51.49595036100004], [0.081999859000064, 51.50044560600003], [0.09205213000007, 51.509008117000064], [0.118686928000045, 51.51131108900006], [0.120239032000029, 51.51144510200004], [0.165106119000029, 51.504220117000045], [0.169378546000075, 51.49886199300005], [0.183561825000027, 51.481064039000046], [0.217626606000067, 51.480472312000074], [0.21932573600003, 51.479672598000036], [0.211534709000034, 51.47504566100008], [0.210612622000042, 51.46248150300005], [0.203271990000076, 51.458747610000046], [0.203353479000043, 51.45432807800006], [0.193020125000032, 51.451700896000034], [0.184261425000045, 51.44465179100007], [0.172854203000043, 51.44324491000003], [0.164326914000071, 51.42858466300004], [0.155874281000024, 51.43087690500005], [0.15115836800004, 51.42043025600003], [0.154632794000065, 51.41847954000008], [0.149158880000073, 51.41243543400003], [0.153770489000067, 51.41126553200007], [0.148829183000032, 51.40850947400003], [0.162384816000042, 51.39249016700006], [0.147533795000072, 51.392156036000074], [0.152057597000066, 51.36969371300006], [0.145048033000023, 51.36285041600007], [0.141342824000048, 51.34964412100004], [0.136957824000035, 51.34417463300008], [0.118456304000063, 51.34414779100007], [0.12168396800007, 51.33363641400007], [0.117903931000058, 51.32966319700006], [0.104894872000045, 51.327442646000065], [0.085029874000043, 51.31602288600004], [0.082881835000023, 51.305655054000056], [0.091186495000045, 51.29682895700006], [0.085816841000053, 51.29314849300005], [0.058510059000071, 51.289353230000074], [0.050834605000034, 51.293975974000034], [0.042397529000027, 51.29267766600003], [0.042818373000046, 51.30116894900004], [0.032909334000067, 51.30752089400005], [0.024838913000053, 51.30215495300007], [0.01910050500004, 51.29168381900007], [0.015009205000069, 51.29178606600004], [0.008390988000031, 51.31036147300006], [0.010348608000072, 51.31614029500008], [0.006582691000062, 51.31565300300008], [0.002294702000029, 51.329138717000035], [-0.008734972999946, 51.33390078000008], [-0.014327836999939, 51.32980471500008], [-0.022056396999972, 51.33809957400007], [-0.037892466999949, 51.33870444300004], [-0.041967590999946, 51.33381028900004], [-0.05026109399995, 51.33263928900004], [-0.047868593999965, 51.32524500300008], [-0.051307134999945, 51.32244790900006], [-0.064086606999979, 51.318596831000036], [-0.071016482999937, 51.321232707000036], [-0.078869423999947, 51.31977434100003], [-0.08475393599997, 51.315884406000066], [-0.081931646999976, 51.31064732200008], [-0.088825090999933, 51.30721857800006], [-0.091167717999951, 51.301472518000026], [-0.114822738999976, 51.292433894000055], [-0.11777486799997, 51.28709474500005], [-0.124292566999941, 51.28675865900004], [-0.137313235999954, 51.300780660000044], [-0.155364171999963, 51.30135221100005], [-0.154345574999979, 51.31025127000004], [-0.158331057999931, 51.31098534200004], [-0.161880869999948, 51.319625072000065], [-0.156543931999977, 51.32150785500005], [-0.164173631999972, 51.326006359000075], [-0.16311479999996, 51.330241416000035], [-0.172976732999928, 51.33002349100008], [-0.181995914999959, 51.33785172100005], [-0.197373067999933, 51.343593129000055], [-0.213032034999969, 51.33554131900007], [-0.214095002999954, 51.330350285000065], [-0.220940780999968, 51.32986256200007], [-0.229781522999929, 51.33654364200004], [-0.217264692999947, 51.343386905000045], [-0.222750364999968, 51.357091223000054], [-0.233191293999937, 51.366009864000034], [-0.245404920999931, 51.366844435000075], [-0.245031748999963, 51.380033026000035], [-0.261148574999936, 51.379598961000056], [-0.284083040999974, 51.36514283200006], [-0.303881100999945, 51.34325015600007], [-0.305687774999967, 51.33540711400008], [-0.32757412899997, 51.32631806300003], [-0.33051017799994, 51.34841967800003], [-0.319932986999959, 51.35963031700004], [-0.316926121999927, 51.372916641000074], [-0.307365868999966, 51.37838347300004], [-0.317698624999935, 51.39366674900003], [-0.327817928999934, 51.39183747700008], [-0.340508501999977, 51.40301612400003], [-0.359140297999943, 51.41190293000005], [-0.383351130999927, 51.40853844500003], [-0.389651431999937, 51.41069244300007], [-0.386641753999925, 51.42008082000007], [-0.391351445999931, 51.42233192700007], [-0.40591163199997, 51.422665377000044], [-0.419078798999976, 51.43235959800006], [-0.429534724999939, 51.42879777300004], [-0.439984840999955, 51.430626432000054], [-0.439753933999953, 51.43461876300006], [-0.447717026999953, 51.43500316300003], [-0.44628838899996, 51.439996644000075], [-0.456469182999967, 51.43810681700006], [-0.457462998999972, 51.44908975900006], [-0.461483340999962, 51.448992572000066], [-0.458641966999949, 51.456315234000044], [-0.493861340999956, 51.46272220900005], [-0.50970149699998, 51.469175921000044], [-0.499173886999927, 51.488569519000066], [-0.490030808999961, 51.49473519500003], [-0.483162300999936, 51.50712774200008], [-0.492330151999965, 51.51707721100007], [-0.488970648999953, 51.52907094500006], [-0.495486994999965, 51.53854553900004], [-0.476621418999969, 51.55918889000003], [-0.482793799999968, 51.56282138000006], [-0.484026137999933, 51.57512728100005], [-0.494825680999952, 51.58477700100008], [-0.500596102999964, 51.59969021900008], [-0.496306502999971, 51.60242985200006], [-0.499231556999973, 51.60892808800003], [-0.495388798999954, 51.618793036000056], [-0.500154676999955, 51.62206768400006], [-0.500308113999949, 51.628805440000065], [-0.496846264999931, 51.63173308800003], [-0.457130587999927, 51.612293917000045], [-0.440504038999961, 51.62008773400004], [-0.404050084999938, 51.613183950000064], [-0.375839550999956, 51.61818782600005], [-0.359768111999927, 51.62523845700008], [-0.338283839999974, 51.629472589000045], [-0.316673331999937, 51.64053541900006], [-0.304458959999977, 51.63635084500004], [-0.273713724999936, 51.63867397100006], [-0.272824263999951, 51.642064540000035], [-0.263205041999925, 51.644812761000026], [-0.257332869999971, 51.641831911000054], [-0.250582544999929, 51.65605731200003], [-0.228919129999952, 51.65997502300007], [-0.226462544999947, 51.65716186700007], [-0.212167362999935, 51.66133689600008], [-0.207864401999927, 51.66286082900007], [-0.211134673999936, 51.66695453700004], [-0.202229747999979, 51.66780517400008], [-0.203352722999966, 51.67012609300008], [-0.194852757999968, 51.668305306000036], [-0.196648885999934, 51.66549805100004], [-0.191007730999956, 51.66394832100008], [-0.182085054999959, 51.668604162000065], [-0.17157504599993, 51.67402078500004], [-0.163607824999929, 51.682403116000046], [-0.163493488999961, 51.68811511400003], [-0.149370295999972, 51.685518082000044], [-0.10484878099993, 51.69185056600003], [-0.083910971999956, 51.689964803000066]]]], &quot;type&quot;: &quot;MultiPolygon&quot;}, &quot;properties&quot;: {&quot;CreationDate&quot;: &quot;2022-04-01T08:52:11Z&quot;, &quot;Creator&quot;: &quot;hsc_map_england&quot;, &quot;EditDate&quot;: &quot;2022-04-01T08:52:11Z&quot;, &quot;Editor&quot;: &quot;hsc_map_england&quot;, &quot;FID&quot;: 1, &quot;GlobalID&quot;: &quot;{8ED68F62-F3D3-4056-A613-34D61B10C2CF}&quot;, &quot;Notes&quot;: null, &quot;SHAPE_Area&quot;: 0.20452625970535734, &quot;SHAPE_Length&quot;: 3.4138828725129002, &quot;bng_e&quot;: 517516, &quot;bng_n&quot;: 178392, &quot;lat&quot;: 51.492271, &quot;long&quot;: -0.30864, &quot;nhser19cd&quot;: &quot;E40000003&quot;, &quot;nhser19nm&quot;: &quot;London&quot;, &quot;objectid&quot;: 1, &quot;st_areasha&quot;: 1579575758.522831, &quot;st_lengths&quot;: 285109.1688506403}, &quot;type&quot;: &quot;Feature&quot;}, {&quot;geometry&quot;: {&quot;coordinates&quot;: [[[[-1.308432699999969, 52.14350876600008], [-1.276829451999959, 52.11707655500004], [-1.252927704999934, 52.10387442900003], [-1.248085086999936, 52.09716077000007], [-1.272283194999943, 52.09786654100003], [-1.287125333999938, 52.09263886400004], [-1.307963027999961, 52.09227294400006], [-1.32116478699993, 52.087018932000035], [-1.318160126999942, 52.07992121500007], [-1.299360500999967, 52.08010153100008], [-1.297508776999962, 52.07805691600004], [-1.306903019999936, 52.07031358800003], [-1.30025655299994, 52.06871609700005], [-1.302175516999966, 52.06501886900003], [-1.307768317999944, 52.06435223300008], [-1.307379985999944, 52.057589946000064], [-1.312919815999976, 52.05145265900006], [-1.297543104999932, 52.042720975000066], [-1.291861009999934, 52.031940063000036], [-1.294312601999934, 52.02803570900005], [-1.285323256999959, 52.02647360700007], [-1.278146791999973, 52.014238188000036], [-1.27856664799998, 52.011403560000076], [-1.284539971999948, 52.01066520100005], [-1.277051187999973, 52.00533198900007], [-1.283344758999931, 51.999539510000034], [-1.282362184999954, 51.99291507500004], [-1.288858776999973, 51.98972557800005], [-1.283384857999977, 51.97954051700003], [-1.280865252999945, 51.98236416000003], [-1.260915806999947, 51.98092593000007], [-1.241612246999978, 51.98629339200005], [-1.229700100999935, 51.98136732100005], [-1.196259962999932, 51.97743143200006], [-1.190756061999934, 51.981510865000075], [-1.176054747999956, 51.98204518300008], [-1.163823767999929, 51.99341210700004], [-1.156650972999955, 51.99223449200008], [-1.13432888799997, 51.99729638000008], [-1.131252787999927, 52.00488462800007], [-1.118086337999955, 52.01542614500005], [-1.13666036199993, 52.02223191600007], [-1.121987283999943, 52.04514718100006], [-1.083275021999953, 52.05236152500004], [-1.076652046999925, 52.05885125800006], [-1.071656645999951, 52.058135056000026], [-1.062065086999951, 52.062735435000036], [-1.052959166999926, 52.05966050900008], [-1.039069995999967, 52.06609883300007], [-1.027668577999975, 52.06373424600008], [-1.029551340999944, 52.070106578000036], [-1.042326955999954, 52.07371003000003], [-1.026317590999952, 52.07568203200003], [-1.012865038999962, 52.07159887100005], [-1.004836930999943, 52.07347518200004], [-0.984279584999967, 52.06971702000004], [-0.973357510999961, 52.07272345200005], [-0.967805269999928, 52.07091092200005], [-0.960762815999942, 52.07864434000004], [-0.951873212999942, 52.08153362500008], [-0.940055849999965, 52.07584200100007], [-0.944390446999932, 52.07003202800007], [-0.939279218999957, 52.06735361800003], [-0.93931596799996, 52.06216002900004], [-0.933744328999978, 52.062636473000055], [-0.937879993999957, 52.06120191600007], [-0.930207181999947, 52.04312698200005], [-0.906030062999946, 52.02122111800003], [-0.890118295999969, 52.03156061100003], [-0.883018583999956, 52.028241379000065], [-0.877468787999931, 52.02997153700005], [-0.871325790999947, 52.04025177700004], [-0.866951706999942, 52.040098484000055], [-0.844877555999972, 52.02268178600008], [-0.819817149999949, 52.01228572800005], [-0.819223927999928, 52.00704437700006], [-0.81224320299998, 52.00601568400003], [-0.807789179999929, 51.99991818700005], [-0.803504317999966, 51.985503652000034], [-0.820554054999945, 51.97335209700003], [-0.817494261999968, 51.96723778200004], [-0.837572381999962, 51.95724899500004], [-0.833068798999932, 51.955928097000026], [-0.833422979999966, 51.94695010100003], [-0.82056743399994, 51.94160074000007], [-0.811730732999933, 51.93139399900008], [-0.800276820999954, 51.92992375600005], [-0.795183956999949, 51.930554279000035], [-0.803921127999956, 51.94247779700004], [-0.79658613099997, 51.94492098200004], [-0.797680894999928, 51.949634358000026], [-0.785099027999934, 51.94214446400008], [-0.758785601999932, 51.94587587500007], [-0.750832357999968, 51.942305443000066], [-0.754738716999952, 51.939772565000055], [-0.74137813599998, 51.92838809400007], [-0.702156653999964, 51.90911910400007], [-0.692702826999948, 51.90015020000004], [-0.67296915299994, 51.901752671000054], [-0.651980197999933, 51.88679048200004], [-0.628424439999947, 51.88212032100006], [-0.620089027999938, 51.88548547600004], [-0.60897053399998, 51.87556404400004], [-0.583563470999934, 51.87032375500007], [-0.56924812699998, 51.85807046000008], [-0.571433807999938, 51.85502620800003], [-0.568718409999974, 51.85140139900005], [-0.563679929999978, 51.85123941900008], [-0.566809238999952, 51.850813524000046], [-0.564466050999954, 51.84742783100006], [-0.537628251999934, 51.83141087100006], [-0.543650578999973, 51.824517797000055], [-0.548992232999979, 51.82798605800008], [-0.55362867499997, 51.826712701000076], [-0.557149802999959, 51.83096896300003], [-0.560656144999939, 51.830082669000035], [-0.558348378999938, 51.824787893000064], [-0.560775222999951, 51.82637984300004], [-0.567144585999927, 51.81980517000005], [-0.575157468999976, 51.81881899700005], [-0.581825579999929, 51.80690541000007], [-0.591640479999967, 51.808131580000065], [-0.594832207999957, 51.81402297200003], [-0.611869371999944, 51.81204478500007], [-0.63295263599997, 51.819942781000066], [-0.647784118999937, 51.81360784900005], [-0.667200507999951, 51.815807032000066], [-0.687053713999944, 51.83911530100005], [-0.695444873999975, 51.841103719000046], [-0.686767725999971, 51.84924026700003], [-0.696373419999929, 51.85813598200008], [-0.707090755999957, 51.85441659800006], [-0.710456612999963, 51.85779751000007], [-0.72025377999995, 51.856146041000045], [-0.722622569999942, 51.85000573500008], [-0.731187792999947, 51.84897048800008], [-0.736408642999947, 51.842377310000074], [-0.745677647999969, 51.84209358500004], [-0.745248372999924, 51.83837652200003], [-0.723653628999955, 51.81777306600003], [-0.719216955999968, 51.81613792200005], [-0.709282722999944, 51.82053371000006], [-0.685394222999946, 51.800185869000074], [-0.682190101999936, 51.79458421600003], [-0.690186172999972, 51.79233001000006], [-0.68149982999995, 51.78805908900006], [-0.675999164999951, 51.77125705900005], [-0.669663439999965, 51.76616007400003], [-0.643249373999936, 51.75396831100005], [-0.617285931999959, 51.752649656000074], [-0.612935972999935, 51.747427222000056], [-0.58637982099998, 51.75211596500003], [-0.575012461999961, 51.737044714000035], [-0.570207171999925, 51.73585253400006], [-0.563699941999971, 51.73961731700007], [-0.565387066999961, 51.73642157000006], [-0.559236898999927, 51.73732470900006], [-0.560649616999967, 51.73408507400006], [-0.553720127999952, 51.73406476800005], [-0.550082996999947, 51.73057502100005], [-0.553596563999974, 51.72841075000008], [-0.55041360599995, 51.723042898000074], [-0.56130247599998, 51.718018733000065], [-0.563209774999962, 51.71187981600008], [-0.547668103999968, 51.70318141400003], [-0.544017566999969, 51.696816872000056], [-0.54869601799993, 51.682671267000046], [-0.538889222999956, 51.67983420500008], [-0.524272915999973, 51.68211264300004], [-0.52493411699993, 51.67872096500008], [-0.511145078999959, 51.67989587300008], [-0.505107985999928, 51.67307687300007], [-0.514718220999953, 51.665453280000065], [-0.520994516999963, 51.66804528400007], [-0.522777694999945, 51.65839760400007], [-0.532625936999978, 51.663007159000074], [-0.536891632999925, 51.660624495000036], [-0.536665919999962, 51.65236952500004], [-0.530927634999955, 51.649133472000074], [-0.539260766999973, 51.638039727000034], [-0.534130523999977, 51.637150864000034], [-0.530059318999974, 51.61715117800003], [-0.520594997999979, 51.60184362100006], [-0.500596102999964, 51.59969021900008], [-0.494825680999952, 51.58477700100008], [-0.484026137999933, 51.57512728100005], [-0.482793799999968, 51.56282138000006], [-0.476621418999969, 51.55918889000003], [-0.495486994999965, 51.53854553900004], [-0.488970648999953, 51.52907094500006], [-0.492330151999965, 51.51707721100007], [-0.483162300999936, 51.50712774200008], [-0.490030808999961, 51.49473519500003], [-0.499173886999927, 51.488569519000066], [-0.50970149699998, 51.469175921000044], [-0.493861340999956, 51.46272220900005], [-0.458641966999949, 51.456315234000044], [-0.461483340999962, 51.448992572000066], [-0.457462998999972, 51.44908975900006], [-0.456469182999967, 51.43810681700006], [-0.44628838899996, 51.439996644000075], [-0.447717026999953, 51.43500316300003], [-0.439753933999953, 51.43461876300006], [-0.439984840999955, 51.430626432000054], [-0.429534724999939, 51.42879777300004], [-0.419078798999976, 51.43235959800006], [-0.40591163199997, 51.422665377000044], [-0.391351445999931, 51.42233192700007], [-0.386641753999925, 51.42008082000007], [-0.389651431999937, 51.41069244300007], [-0.383351130999927, 51.40853844500003], [-0.359140297999943, 51.41190293000005], [-0.340508501999977, 51.40301612400003], [-0.327817928999934, 51.39183747700008], [-0.317698624999935, 51.39366674900003], [-0.307365868999966, 51.37838347300004], [-0.316926121999927, 51.372916641000074], [-0.319932986999959, 51.35963031700004], [-0.33051017799994, 51.34841967800003], [-0.32757412899997, 51.32631806300003], [-0.305687774999967, 51.33540711400008], [-0.303881100999945, 51.34325015600007], [-0.284083040999974, 51.36514283200006], [-0.261148574999936, 51.379598961000056], [-0.245031748999963, 51.380033026000035], [-0.245404920999931, 51.366844435000075], [-0.233191293999937, 51.366009864000034], [-0.222750364999968, 51.357091223000054], [-0.217264692999947, 51.343386905000045], [-0.229781522999929, 51.33654364200004], [-0.220940780999968, 51.32986256200007], [-0.214095002999954, 51.330350285000065], [-0.213032034999969, 51.33554131900007], [-0.197373067999933, 51.343593129000055], [-0.181995914999959, 51.33785172100005], [-0.172976732999928, 51.33002349100008], [-0.16311479999996, 51.330241416000035], [-0.164173631999972, 51.326006359000075], [-0.156543931999977, 51.32150785500005], [-0.161880869999948, 51.319625072000065], [-0.158331057999931, 51.31098534200004], [-0.154345574999979, 51.31025127000004], [-0.155364171999963, 51.30135221100005], [-0.137313235999954, 51.300780660000044], [-0.124292566999941, 51.28675865900004], [-0.11777486799997, 51.28709474500005], [-0.114822738999976, 51.292433894000055], [-0.091167717999951, 51.301472518000026], [-0.088825090999933, 51.30721857800006], [-0.081931646999976, 51.31064732200008], [-0.08475393599997, 51.315884406000066], [-0.078869423999947, 51.31977434100003], [-0.071016482999937, 51.321232707000036], [-0.064086606999979, 51.318596831000036], [-0.051307134999945, 51.32244790900006], [-0.047868593999965, 51.32524500300008], [-0.05026109399995, 51.33263928900004], [-0.041967590999946, 51.33381028900004], [-0.037892466999949, 51.33870444300004], [-0.022056396999972, 51.33809957400007], [-0.014327836999939, 51.32980471500008], [-0.008734972999946, 51.33390078000008], [0.002294702000029, 51.329138717000035], [0.006582691000062, 51.31565300300008], [0.010348608000072, 51.31614029500008], [0.008390988000031, 51.31036147300006], [0.015009205000069, 51.29178606600004], [0.01910050500004, 51.29168381900007], [0.024838913000053, 51.30215495300007], [0.032909334000067, 51.30752089400005], [0.042818373000046, 51.30116894900004], [0.042397529000027, 51.29267766600003], [0.050834605000034, 51.293975974000034], [0.058510059000071, 51.289353230000074], [0.085816841000053, 51.29314849300005], [0.091186495000045, 51.29682895700006], [0.082881835000023, 51.305655054000056], [0.085029874000043, 51.31602288600004], [0.104894872000045, 51.327442646000065], [0.117903931000058, 51.32966319700006], [0.12168396800007, 51.33363641400007], [0.118456304000063, 51.34414779100007], [0.136957824000035, 51.34417463300008], [0.141342824000048, 51.34964412100004], [0.145048033000023, 51.36285041600007], [0.152057597000066, 51.36969371300006], [0.147533795000072, 51.392156036000074], [0.162384816000042, 51.39249016700006], [0.148829183000032, 51.40850947400003], [0.153770489000067, 51.41126553200007], [0.149158880000073, 51.41243543400003], [0.154632794000065, 51.41847954000008], [0.15115836800004, 51.42043025600003], [0.155874281000024, 51.43087690500005], [0.164326914000071, 51.42858466300004], [0.172854203000043, 51.44324491000003], [0.184261425000045, 51.44465179100007], [0.193020125000032, 51.451700896000034], [0.203353479000043, 51.45432807800006], [0.203271990000076, 51.458747610000046], [0.210612622000042, 51.46248150300005], [0.211534709000034, 51.47504566100008], [0.21932573600003, 51.479672598000036], [0.221175187000028, 51.478802081000026], [0.274866957000029, 51.453659938000044], [0.301803096000071, 51.46116590400004], [0.315397114000064, 51.46495067800004], [0.325255313000071, 51.45029394300008], [0.382222029000047, 51.44329136400006], [0.440243932000044, 51.44742034800004], [0.45851914800005, 51.45520732400007], [0.459301473000039, 51.455540547000055], [0.455930258000024, 51.46088601300005], [0.454310834000069, 51.46345333800008], [0.46761843400003, 51.46420191200008], [0.45805772600005, 51.467911153000045], [0.474232064000034, 51.48480895700004], [0.546196548000069, 51.48716372100006], [0.590771752000023, 51.47936942300004], [0.615237629000035, 51.47508320900005], [0.659983867000051, 51.47767698400003], [0.690601465000043, 51.45930273700003], [0.671230359000049, 51.47224447200006], [0.699865700000032, 51.47271192800008], [0.720386019000046, 51.45973699600006], [0.723483748000035, 51.444735956000045], [0.710285623000061, 51.43481652400004], [0.67788858900002, 51.43317594400003], [0.671729335000066, 51.44810158400003], [0.65888097800007, 51.44743068100007], [0.635814795000044, 51.44622264600008], [0.612448943000061, 51.42964295200005], [0.605517065000072, 51.42015844200006], [0.618297225000049, 51.428683266000064], [0.625214867000068, 51.42366917100003], [0.610866385000065, 51.41740429100008], [0.587195732000055, 51.41616142300006], [0.534985463000055, 51.41340324200007], [0.52118112900007, 51.39304671700006], [0.537620255000036, 51.41033686600008], [0.560969210000053, 51.394814034000035], [0.585644856000044, 51.38867587400006], [0.594590544000027, 51.386448922000056], [0.611856465000074, 51.37880653700006], [0.620169492000059, 51.38902787200004], [0.63463967000007, 51.38908939300006], [0.630706004000047, 51.381767499000034], [0.626927099000056, 51.37473105000004], [0.648018280000031, 51.39760099000006], [0.67006539800002, 51.37330099900004], [0.68701384600007, 51.39180437500005], [0.703170736000061, 51.39253632100008], [0.695285661000071, 51.37982231500007], [0.714032446000033, 51.38416814700008], [0.696353703000057, 51.42003068100007], [0.727977428000031, 51.42358995600006], [0.731172555000057, 51.41898254200004], [0.716274155000065, 51.41320113300003], [0.726299384000072, 51.39931269900006], [0.763840526000024, 51.38205050500005], [0.755952438000065, 51.35362351600003], [0.766893352000068, 51.36258194700008], [0.814325879000023, 51.358296934000066], [0.817125384000065, 51.35816791000008], [0.86592605800007, 51.35590786100005], [0.870975796000039, 51.35407717000004], [0.897630039000035, 51.34440829300007], [0.895647457000052, 51.33703787800005], [0.904374133000033, 51.34302248000006], [0.950244481000027, 51.345762387000036], [1.005617733000065, 51.34915155600004], [1.033182055000054, 51.36559463800006], [1.159689699000069, 51.37473173600006], [1.224224120000031, 51.379336425000076], [1.240154539000059, 51.379519679000055], [1.273996566000051, 51.37990180600008], [1.315043612000068, 51.38035215100007], [1.360742363000043, 51.38814877500005], [1.365149862000067, 51.388118416000054], [1.367851694000024, 51.38935984700004], [1.390494399000033, 51.393213728000035], [1.417928491000055, 51.39367277800005], [1.419032863000041, 51.39346438600006], [1.419629045000022, 51.393701011000076], [1.424924833000034, 51.39378877300004], [1.442052954000076, 51.38719217900007], [1.445937788000037, 51.35889433300008], [1.445991721000041, 51.35850131900003], [1.445897522000053, 51.35835773300005], [1.42468182600004, 51.32599309700004], [1.423194724000041, 51.331372531000056], [1.414583392000054, 51.32748452900006], [1.423596616000054, 51.32435711000005], [1.376896185000021, 51.32960170500007], [1.363399095000034, 51.313512452000055], [1.366199965000021, 51.312848624000026], [1.370643608000023, 51.311795274000076], [1.379798488000063, 51.290311528000075], [1.394155742000066, 51.25657937900007], [1.398503295000069, 51.246355331000075], [1.404497518000028, 51.231482037000035], [1.399234304000061, 51.162221112000054], [1.389595918000055, 51.15239582500004], [1.383483487000035, 51.14616221000006], [1.379578621000064, 51.14217884800007], [1.342827200000045, 51.13095889200008], [1.342856822000044, 51.130481700000075], [1.343216376000044, 51.12303198400008], [1.342660871000021, 51.12689333900005], [1.337744104000024, 51.12631120000003], [1.337116958000024, 51.12623600300003], [1.324222981000048, 51.124689156000045], [1.319121144000064, 51.124076681000076], [1.318110386000058, 51.12326934500004], [1.31596788500002, 51.121557909000046], [1.31300211000007, 51.119188559000065], [1.318294860000037, 51.11645512700005], [1.322935529000063, 51.11405799800008], [1.310970479000048, 51.11921736100004], [1.317519570000059, 51.11617347400005], [1.327784123000072, 51.111378752000064], [1.316472239000063, 51.11222037700003], [1.301679805000049, 51.113319251000064], [1.29984274800006, 51.11269129400006], [1.267695378000042, 51.10169489300006], [1.263426117000051, 51.10136663500003], [1.221129813000061, 51.09810672200007], [1.204948429000069, 51.09010141700003], [1.204692299000044, 51.08950622700007], [1.185719577000043, 51.07957147900004], [1.194951607000064, 51.07595533400007], [1.173101260000067, 51.07363016000005], [1.158707176000064, 51.07209615100004], [1.081411894000041, 51.06382675900005], [1.073589925000022, 51.06298691500007], [1.069502508000028, 51.06095752300007], [1.018492855000034, 51.03560392300005], [0.997348036000062, 51.025079256000026], [0.987589977000027, 51.00852912400006], [0.975802945000055, 50.98852023300003], [0.964173988000027, 50.96876055800004], [0.971355026000026, 50.941605956000046], [0.97880082100005, 50.91341840800004], [0.978712175000055, 50.91307227200008], [0.855002813000056, 50.92370202300003], [0.854736676000073, 50.92372474300004], [0.844450909000045, 50.924665325000035], [0.772016626000038, 50.931261962000065], [0.774608368000031, 50.927599103000034], [0.73188837500004, 50.914557108000054], [0.658567756000025, 50.86992789400006], [0.64141507100004, 50.865682640000045], [0.592073309000057, 50.85345229600006], [0.520149719000074, 50.84511315700007], [0.503103820000035, 50.84312976000007], [0.447244936000061, 50.83299482000007], [0.390590144000043, 50.82268368600006], [0.377907610000022, 50.82037105100005], [0.377512426000067, 50.820298964000074], [0.368381681000074, 50.815268109000044], [0.344504867000069, 50.80210389600006], [0.339219103000062, 50.799187964000055], [0.311710229000028, 50.77810651800007], [0.280425575000038, 50.754407858000036], [0.276715246000037, 50.751250937000066], [0.266416130000039, 50.74333918600007], [0.259983401000056, 50.73839573600003], [0.209942876000071, 50.73839998600005], [0.196653050000066, 50.74291057900007], [0.185265480000055, 50.74677367500004], [0.154715431000056, 50.757128855000076], [0.153226175000043, 50.75767343100006], [0.148479166000072, 50.75883906800004], [0.122143900000026, 50.758404889000076], [0.099263069000074, 50.767217423000034], [0.062163161000058, 50.78149012000006], [0.056245543000045, 50.78376484000006], [0.056919658000027, 50.78142302400005], [0.057086779000031, 50.78084242800003], [0.058053354000037, 50.77596616400007], [0.034777771000051, 50.78167107000007], [0.034160695000025, 50.78182223700003], [-0.014941402999966, 50.79383722600005], [-0.037783748999971, 50.799417504000075], [-0.038229155999943, 50.799486570000056], [-0.038459159999945, 50.79919679400007], [-0.050568315999953, 50.80114136600008], [-0.090882134999958, 50.80760505400008], [-0.110258994999924, 50.810706251000056], [-0.20718207699997, 50.82616419800007], [-0.216037847999928, 50.82757206100007], [-0.216281038999966, 50.82756338000007], [-0.223921301999951, 50.82729039000003], [-0.245856752999941, 50.82650382000003], [-0.243093476999945, 50.83044096700007], [-0.251531340999975, 50.83013594800008], [-0.248057684999935, 50.824739255000054], [-0.277635265999947, 50.826781279000045], [-0.297658048999949, 50.823389675000044], [-0.332696992999956, 50.81744499300004], [-0.435962219999965, 50.80313854100007], [-0.542009647999976, 50.80024029500004], [-0.556493690999957, 50.798197250000044], [-0.556700457999966, 50.79820960100005], [-0.557583316999967, 50.79804347100003], [-0.582496893999974, 50.794524343000035], [-0.605831831999978, 50.791222987000026], [-0.644978675999937, 50.78567321700007], [-0.652045032999979, 50.78534543000006], [-0.657597285999941, 50.78388120100004], [-0.701665724999941, 50.77761123400006], [-0.70752964299993, 50.77531953700003], [-0.746735036999951, 50.75998469700005], [-0.751603742999976, 50.758078728000044], [-0.763091598999949, 50.77291923000007], [-0.78682426599994, 50.75985878200004], [-0.772799075999956, 50.76164098600003], [-0.761800601999937, 50.75113948900008], [-0.750112327999943, 50.757166151000035], [-0.755422209999949, 50.751987099000075], [-0.76184855899993, 50.74571726600004], [-0.780022066999948, 50.72797559700007], [-0.785369857999967, 50.72275177000006], [-0.795376187999977, 50.72408039800007], [-0.842858878999948, 50.75355964000005], [-0.86705640699995, 50.76234320000003], [-0.916824423999969, 50.780381883000075], [-0.912317560999952, 50.78896961500004], [-0.915624388999959, 50.78044176800006], [-0.904899121999961, 50.78227965100007], [-0.892232255999943, 50.79429354900003], [-0.878154796999979, 50.80763610400004], [-0.866034203999959, 50.80461286500008], [-0.844726907999927, 50.799293713000054], [-0.825369020999972, 50.80447723000003], [-0.815784406999967, 50.81911012900008], [-0.84457417699997, 50.80485438300008], [-0.86583726899994, 50.81274634500005], [-0.868812928999944, 50.81385023800004], [-0.865667475999942, 50.81975954500007], [-0.861244872999976, 50.82806555600007], [-0.858414767999932, 50.839657714000055], [-0.865174893999949, 50.84010025900005], [-0.870893525999975, 50.84047426400008], [-0.865761480999936, 50.82695844700004], [-0.877575295999975, 50.81150293400003], [-0.892312329999925, 50.81851328100004], [-0.89503310799995, 50.83857624600006], [-0.913462909999964, 50.84002329200007], [-0.912399552999943, 50.82771199300004], [-0.920838919999937, 50.833037655000055], [-0.935108258999946, 50.83026031800006], [-0.932957114999965, 50.84317392500003], [-0.932477907999953, 50.84604943800008], [-0.974458243999948, 50.84230348500006], [-0.981420803999924, 50.83492808600005], [-1.001188979999938, 50.84366848500008], [-1.019909497999947, 50.84319685200006], [-1.020839819999935, 50.83947735500004], [-1.022493270999973, 50.832865147000064], [-1.024128942999937, 50.82632257100005], [-1.036339440999939, 50.83538567800008], [-1.044118569999966, 50.832135718000075], [-1.044282707999969, 50.79563700800003], [-1.044305563999956, 50.79055617000006], [-1.03297370599995, 50.79554412500005], [-1.030591676999961, 50.796592375000046], [-1.03041057799993, 50.795522894000044], [-1.029273130999968, 50.78880433300003], [-1.088404428999979, 50.77769583300005], [-1.094867716999943, 50.78148081200004], [-1.108960794999973, 50.79046302800003], [-1.109845016999941, 50.79615601000006], [-1.11152128699996, 50.80694487900007], [-1.08959197799993, 50.809604120000074], [-1.100254689999929, 50.82672036400004], [-1.084464338999965, 50.82481701100005], [-1.076609254999937, 50.836796235000065], [-1.044133744999954, 50.833895779000045], [-1.082258897999964, 50.83801514600003], [-1.089231927999947, 50.82861806500006], [-1.106275798999945, 50.837861958000076], [-1.103279752999924, 50.84640017600003], [-1.114115417999926, 50.84492740300004], [-1.117705968999928, 50.84443912100005], [-1.113068322999936, 50.83609088800006], [-1.127473282999972, 50.837105122000025], [-1.149166353999931, 50.84350315000006], [-1.154484937999939, 50.84507034000006], [-1.174897605999945, 50.83994718100007], [-1.174652765999951, 50.83990140900005], [-1.17410573899997, 50.839799146000075], [-1.152394840999932, 50.83573786900007], [-1.149883404999969, 50.82718109600006], [-1.14946910599997, 50.82684738100005], [-1.141208196999969, 50.82019200900004], [-1.131839145999948, 50.81264102800003], [-1.123815280999963, 50.80617188200006], [-1.136834370999964, 50.801986578000026], [-1.123738639999942, 50.80412637400008], [-1.119304157999977, 50.79622790700006], [-1.117515063999974, 50.793040474000065], [-1.134427720999952, 50.785886435000066], [-1.112466818999962, 50.78923692600006], [-1.112246588999938, 50.78927050200008], [-1.114595752999946, 50.78801846400006], [-1.134703472999945, 50.77729690600006], [-1.142215026999963, 50.773597650000056], [-1.143336637999937, 50.77397867500008], [-1.187141211999972, 50.78884614700007], [-1.189713612999981, 50.789718436000044], [-1.198547383999937, 50.79679913200005], [-1.214147621999928, 50.809296637000045], [-1.308116576999964, 50.84273293200005], [-1.303046225999935, 50.87687848100006], [-1.302749192999954, 50.87887747100007], [-1.316613661999952, 50.87567259700006], [-1.310469807999937, 50.84901563300008], [-1.365110724999965, 50.88003848400007], [-1.383314674999951, 50.889592253000046], [-1.384583784999961, 50.90414997800008], [-1.371794055999942, 50.91222613000008], [-1.387933291999957, 50.906891331000054], [-1.387199933999966, 50.89922051900004], [-1.39530625499998, 50.88317917400008], [-1.399022400999968, 50.89454851700003], [-1.400821791999931, 50.890284472000076], [-1.432492942999943, 50.904864760000066], [-1.439729825999962, 50.908194011000035], [-1.450883138999927, 50.90412284800004], [-1.465312005999976, 50.91062448300005], [-1.478768491999972, 50.92525970500003], [-1.478180151999936, 50.924154300000055], [-1.473464366999963, 50.91480177700004], [-1.476317008999956, 50.910694885000055], [-1.451137528999936, 50.90134696900003], [-1.432584126999927, 50.89734374900007], [-1.421849782999971, 50.89502609800007], [-1.376852737999968, 50.85393689800003], [-1.352706898999941, 50.84814325100007], [-1.360512722999943, 50.84291235300003], [-1.349481566999941, 50.84648137500005], [-1.334567617999937, 50.837457491000066], [-1.336525036999944, 50.82727872000004], [-1.319302896999943, 50.82445045800006], [-1.325459078999927, 50.81712100900006], [-1.325709583999981, 50.816876354000044], [-1.326034245999949, 50.81655664400006], [-1.323232231999953, 50.81815739700005], [-1.314567560999933, 50.815367183000035], [-1.315518986999962, 50.82116675800006], [-1.311737384999958, 50.82064775100008], [-1.307873094999934, 50.81767300800004], [-1.309547128999952, 50.81363128800007], [-1.323284018999971, 50.80417839200004], [-1.32748642699994, 50.80128553900005], [-1.332774883999946, 50.797644321000064], [-1.352593062999972, 50.78399112500006], [-1.363103527999954, 50.78361313500005], [-1.374111898999956, 50.78321629800007], [-1.399610431999974, 50.78229328900005], [-1.412971586999959, 50.783950521000065], [-1.39267350199998, 50.77740390300005], [-1.395765261999941, 50.776012854000044], [-1.399708899999951, 50.77423828800005], [-1.401566754999976, 50.77391668100006], [-1.434154867999951, 50.76746183800003], [-1.50270882999996, 50.753938281000046], [-1.535279688999935, 50.76384221600006], [-1.525925026999971, 50.744521500000076], [-1.541856870999936, 50.739765109000075], [-1.531073936999974, 50.73701809600004], [-1.579543231999935, 50.71772288100004], [-1.551121515999967, 50.70708811700007], [-1.574350296999967, 50.71359027700004], [-1.622712373999946, 50.72711495400006], [-1.641052499999944, 50.73223657500006], [-1.691640145999941, 50.737262842000064], [-1.681806119999976, 50.75182032500004], [-1.717849357999967, 50.75213536900003], [-1.744168827999943, 50.747455426000045], [-1.744684638999956, 50.75604313300005], [-1.739091311999971, 50.763496847000056], [-1.748982483999953, 50.77949018600003], [-1.770117200999948, 50.77254880600003], [-1.768956116999959, 50.76976720000005], [-1.77615394999998, 50.76634396000003], [-1.783660223999959, 50.76463121300003], [-1.788011755999946, 50.76652399100004], [-1.790748693999944, 50.776212917000066], [-1.787868347999961, 50.77885466500004], [-1.797474196999929, 50.78386015600006], [-1.80096518299996, 50.791884691000064], [-1.80593705299998, 50.79207465600007], [-1.80089135399993, 50.79424243300008], [-1.804710671999942, 50.79571770600006], [-1.801491322999937, 50.79969479600004], [-1.812129427999935, 50.80649207600004], [-1.802956146999975, 50.813492567000026], [-1.807356520999974, 50.81624232300004], [-1.801823569999954, 50.82089190500005], [-1.80373306499996, 50.82999355600003], [-1.796089825999957, 50.83033379500006], [-1.790705472999946, 50.836391509000066], [-1.802450944999975, 50.84280514200003], [-1.800035532999971, 50.848338701000046], [-1.80587623699995, 50.85262301700004], [-1.807110303999934, 50.863315], [-1.812790188999941, 50.86457279500007], [-1.814832447999947, 50.858701179000036], [-1.829518470999972, 50.85531859400004], [-1.850943842999925, 50.85872494900008], [-1.853533031999973, 50.86651574700005], [-1.847832302999961, 50.86968643600005], [-1.847977250999975, 50.882339141000045], [-1.844043443999965, 50.88682939100005], [-1.84855551499993, 50.88988737500006], [-1.839869690999933, 50.89789004000005], [-1.824953314999959, 50.895770619000075], [-1.816541447999953, 50.90394777700004], [-1.820407127999943, 50.91210589700006], [-1.810754785999961, 50.927161676000026], [-1.826220820999936, 50.926868788000036], [-1.841834262999953, 50.931660597000075], [-1.854184429999975, 50.92751137000005], [-1.862724284999956, 50.91978772700003], [-1.873708087999944, 50.917252939000036], [-1.878802907999955, 50.92432607900008], [-1.909183571999961, 50.94532659300006], [-1.920841133999943, 50.96140734100004], [-1.929888889999972, 50.96779583500006], [-1.939220086999967, 50.96965705900004], [-1.944829861999949, 50.975748433000035], [-1.95546550499995, 50.97826631800007], [-1.95682095799998, 50.989829920000034], [-1.949935772999936, 50.98231061600006], [-1.927877658999932, 50.997696467000026], [-1.88674135499997, 50.999527716000046], [-1.874481593999974, 51.006330588000026], [-1.873983678999934, 50.98444106300008], [-1.85338097999994, 51.00467899100005], [-1.83581252099998, 51.009422277000056], [-1.815421671999957, 50.98592267300006], [-1.807583376999958, 50.992046069000025], [-1.800314113999946, 50.99139478700005], [-1.754319838999947, 50.98044756200005], [-1.754401614999949, 50.97789209100006], [-1.719617523999943, 50.97677901800006], [-1.689413782999964, 50.95469597300007], [-1.661660032999976, 50.945277917000055], [-1.646375968999962, 50.949465399000076], [-1.634965059999956, 50.95924217400005], [-1.62340097699996, 50.95463731700005], [-1.602922945999978, 50.97851713300008], [-1.614418617999945, 50.97949477900005], [-1.61964407399995, 50.98299654600004], [-1.618953828999963, 50.987366045000044], [-1.625195719999965, 50.99032565600004], [-1.628884883999945, 50.99903178200003], [-1.617231151999931, 51.00418208000008], [-1.606078015999969, 51.00189783800005], [-1.614930155999957, 51.00665643100007], [-1.609088414999974, 51.00981314400008], [-1.605014732999962, 51.007005622000065], [-1.597523678999949, 51.00805543100006], [-1.605368985999974, 51.01725840100005], [-1.599396832999957, 51.02372936900008], [-1.61945702099996, 51.03305947800004], [-1.632375810999974, 51.03277969800007], [-1.634960347999936, 51.040886631000035], [-1.627737219999972, 51.07813997400007], [-1.637311870999952, 51.09216587800006], [-1.626956339999936, 51.102864201000045], [-1.630930882999962, 51.11115296000003], [-1.626251472999968, 51.11733776500006], [-1.640581096999938, 51.12538220600004], [-1.662975417999974, 51.12719202400007], [-1.654044385999953, 51.15628256200006], [-1.672367592999933, 51.17854394400007], [-1.668835438999963, 51.19077230100004], [-1.694096989999935, 51.20404330300005], [-1.689694742999961, 51.21482761400006], [-1.653496300999961, 51.22046761400003], [-1.63354062999997, 51.217515915000035], [-1.619335382999964, 51.24121788600007], [-1.610393230999932, 51.24297969000003], [-1.607423128999926, 51.252765390000036], [-1.600720777999925, 51.25071617800006], [-1.600186416999975, 51.25352434800004], [-1.577636307999967, 51.25563015500006], [-1.545159884999975, 51.245098487000064], [-1.536034778999976, 51.248529200000064], [-1.529822410999941, 51.26051392200003], [-1.53056974499998, 51.26261672500004], [-1.540512684999953, 51.26083354100007], [-1.53591653999996, 51.277303980000056], [-1.542583748999959, 51.28125068600008], [-1.534511091999946, 51.28709142000008], [-1.522807295999939, 51.28705797100008], [-1.524146694999956, 51.29316096100007], [-1.519511306999959, 51.29593856500003], [-1.528023096999959, 51.299808350000035], [-1.525224895999941, 51.30706691100005], [-1.533562079999967, 51.31622354400008], [-1.527508442999931, 51.33846616800008], [-1.516281618999926, 51.33935534700004], [-1.498298849999969, 51.32937607800005], [-1.485711366999965, 51.34768277000006], [-1.50060850999995, 51.35626794400008], [-1.495449117999954, 51.36966448600003], [-1.51340517899996, 51.37204501400004], [-1.516960435999977, 51.37878028200004], [-1.527634533999958, 51.37882099900003], [-1.538331665999976, 51.38553736800003], [-1.537717523999959, 51.38832241000006], [-1.555602980999936, 51.39558414100003], [-1.552987798999936, 51.410043966000046], [-1.56227505499993, 51.408237358000065], [-1.563491369999952, 51.41322887900003], [-1.571052669999972, 51.415577606000056], [-1.565118797999958, 51.42204340500007], [-1.553112749999968, 51.42127619900003], [-1.539061712999967, 51.426151117000074], [-1.526618161999977, 51.42393107100003], [-1.532062336999957, 51.42955543800008], [-1.523990976999926, 51.44748057800007], [-1.529028589999939, 51.455511802000046], [-1.545418748999964, 51.45883432200003], [-1.55862381999998, 51.46878564600007], [-1.570449187999941, 51.48627410300003], [-1.582290925999928, 51.494111788000055], [-1.588064216999953, 51.51350297000005], [-1.584707948999949, 51.524912157000074], [-1.602812152999945, 51.51829525100004], [-1.613749975999951, 51.536510269000075], [-1.63407051799993, 51.55325657900005], [-1.65137023099993, 51.57390531800007], [-1.646449448999931, 51.576915978000045], [-1.650210137999977, 51.58053279000006], [-1.637891389999936, 51.58386855300006], [-1.640964873999962, 51.59757476300007], [-1.637491123999951, 51.598286666000035], [-1.631142315999966, 51.59332772500005], [-1.622482576999971, 51.59616367500007], [-1.619936428999949, 51.59332272900008], [-1.60558419299997, 51.59815794000008], [-1.585577711999974, 51.61391620100005], [-1.594260504999966, 51.624419712000076], [-1.608775127999934, 51.629873073000056], [-1.613924589999954, 51.62846297500005], [-1.615494318999936, 51.631934648000026], [-1.654758387999948, 51.62984512500003], [-1.663169280999966, 51.63985987400008], [-1.675622011999963, 51.641397837000056], [-1.686225791999959, 51.65235084400007], [-1.691938119999975, 51.65216463100006], [-1.688495150999927, 51.65678808200005], [-1.690606257999946, 51.66374369600004], [-1.70025206899993, 51.67191072600008], [-1.696518104999939, 51.68211656600005], [-1.682688746999929, 51.69005241000008], [-1.67601558399997, 51.68840705900004], [-1.675208604999966, 51.682535081000026], [-1.668440317999966, 51.680435414000044], [-1.652654868999946, 51.681524945000035], [-1.648397416999956, 51.68457755900005], [-1.657438347999971, 51.69645132100004], [-1.665451675999975, 51.69726295800007], [-1.688000159999945, 51.71204478000004], [-1.695871001999933, 51.72353732600004], [-1.685785941999939, 51.729904876000035], [-1.687020704999952, 51.73988398600005], [-1.694865637999953, 51.74857505800003], [-1.700704776999942, 51.770584718000066], [-1.719488763999948, 51.783212149000065], [-1.693449706999957, 51.79414944600006], [-1.681931407999969, 51.803992676000064], [-1.67685970399998, 51.81702469000004], [-1.681119940999963, 51.81605262200003], [-1.686461024999971, 51.83445582400003], [-1.676384943999949, 51.85030959000005], [-1.686867522999933, 51.86550001200004], [-1.667111932999944, 51.87700008400003], [-1.668956993999927, 51.88150451400003], [-1.658651733999932, 51.896551275000036], [-1.644883, 51.89460064300005], [-1.63305010299996, 51.89922539100007], [-1.634170650999977, 51.911653261000026], [-1.644865860999971, 51.91368988700003], [-1.641182245999971, 51.92156188600006], [-1.645530175999966, 51.92229392400003], [-1.615189270999963, 51.93768184500004], [-1.632490514999972, 51.95565148600008], [-1.648926567999979, 51.95892486500003], [-1.655366793999974, 51.957503530000054], [-1.65237437899998, 51.96151215800006], [-1.662528895999969, 51.96400494900007], [-1.668943222999928, 51.975272750000045], [-1.665754394999965, 51.987488864000056], [-1.638315457999965, 51.97517196600006], [-1.612342521999949, 51.95540342900006], [-1.591633583999965, 51.970449544000076], [-1.600301410999975, 51.97694154000004], [-1.580573775999937, 51.972996065000075], [-1.549671427999954, 51.980859613000064], [-1.557223672999953, 51.99165760000005], [-1.541741549999927, 51.99643229900005], [-1.525309164999953, 51.99285680700007], [-1.497353261999933, 52.058954560000075], [-1.501855403999969, 52.071626637000065], [-1.490665178999961, 52.07713544300003], [-1.494362431999946, 52.08218708000004], [-1.485607647999927, 52.08773343800004], [-1.487804227999959, 52.093957438000075], [-1.480148622999934, 52.09347797000004], [-1.477301560999933, 52.10135100300005], [-1.467559497999957, 52.09705652800005], [-1.44718802899996, 52.09762499100003], [-1.453463941999928, 52.11299944800004], [-1.448741229999939, 52.11606666700004], [-1.425855169999977, 52.118249551000076], [-1.403894118999972, 52.110089894000055], [-1.385329510999952, 52.09418428200007], [-1.374424007999949, 52.09972591200005], [-1.357769601999962, 52.101310469000055], [-1.365191784999979, 52.11130708200005], [-1.370366973999978, 52.112717892000035], [-1.370841911999946, 52.11753423000005], [-1.390700066999955, 52.11678887700003], [-1.393302647999974, 52.11896294200005], [-1.385462871999948, 52.12840322300008], [-1.36614689299995, 52.13607527700003], [-1.348709367999959, 52.135137506000035], [-1.349936721999939, 52.14159176600003], [-1.341040589999977, 52.14485672700005], [-1.343458601999941, 52.153234989000055], [-1.334004543999924, 52.159083010000074], [-1.331896929999971, 52.168485058000044], [-1.306429692999927, 52.145553018000044], [-1.308432699999969, 52.14350876600008]]], [[[-1.294915243999981, 50.76203526300003], [-1.282958754999925, 50.730032863000076], [-1.291919291999932, 50.76465047800008], [-1.285438020999948, 50.76533014200004], [-1.276274955999952, 50.76629037200007], [-1.247565288999965, 50.75170455300008], [-1.239229676999969, 50.74385810900003], [-1.213836256999969, 50.73805290700005], [-1.21949542699997, 50.731063118000066], [-1.203427359999978, 50.734770180000055], [-1.15457964999996, 50.73328994500008], [-1.151182006999932, 50.732359443000064], [-1.144397151999954, 50.730495974000064], [-1.108669206999934, 50.72070374000003], [-1.096090623999942, 50.69438928100004], [-1.102830240999936, 50.69978359400005], [-1.10826190399996, 50.69351486800008], [-1.082422145999942, 50.69445717900004], [-1.070235674999935, 50.687500716000045], [-1.086727064999934, 50.67423711600003], [-1.097927156999958, 50.66522357600007], [-1.131772945999955, 50.66231282000007], [-1.152615658999935, 50.65289207200004], [-1.160428337999974, 50.649358894000045], [-1.16198170399997, 50.64608615000003], [-1.173302254999953, 50.62221962400008], [-1.175879148999968, 50.61678297800006], [-1.185134351999977, 50.59724703300003], [-1.200340076999964, 50.59432861100004], [-1.20985766299998, 50.592701144000046], [-1.21190047999994, 50.59210825200006], [-1.30003129399995, 50.57513680300008], [-1.31257116699993, 50.58240535900006], [-1.353387691999956, 50.606038572000045], [-1.374099172999934, 50.61801599700004], [-1.389295554999933, 50.62679800700005], [-1.435683450999932, 50.640220826000075], [-1.448155254999961, 50.64382523100005], [-1.48454701999998, 50.66679301100004], [-1.486148325999977, 50.66673612100004], [-1.544664926999928, 50.66464205400007], [-1.586383177999949, 50.66313107500008], [-1.570001766999951, 50.66968627500006], [-1.548109851999925, 50.678363396000066], [-1.535418897999932, 50.69236870600008], [-1.522175970999967, 50.70699952900003], [-1.512895501999935, 50.70695466300003], [-1.503748805999976, 50.706725694000056], [-1.504522576999932, 50.70344311200006], [-1.500775421999947, 50.70616121900008], [-1.494588894999936, 50.70686399500005], [-1.480632124999943, 50.70844817900007], [-1.470118424999953, 50.709640387000036], [-1.434679628999959, 50.72385369400007], [-1.42927538899994, 50.72601938400004], [-1.411958584999979, 50.72077125000004], [-1.414359993999938, 50.70993803300007], [-1.403942360999963, 50.72084914100003], [-1.386143258999937, 50.72263604600005], [-1.409760665999954, 50.72534633500004], [-1.35332978699995, 50.73908656100008], [-1.313121291999948, 50.766923037000026], [-1.311853693999979, 50.767142954000064], [-1.296870063999961, 50.76262490700003], [-1.295130945999972, 50.76210032900008], [-1.294915243999981, 50.76203526300003]]], [[[0.902019424000059, 51.41649050900003], [0.950391333000027, 51.37220759100006], [0.897167768000031, 51.35433597600007], [0.871407546000057, 51.360982868000065], [0.858344453000029, 51.364350681000076], [0.843784912000046, 51.363563759000044], [0.806285518000038, 51.372177917000045], [0.76618445400004, 51.36976954800008], [0.764264823000076, 51.38823205600005], [0.732612480000057, 51.40034471000007], [0.721502840000028, 51.41447031700005], [0.732135030000052, 51.40902616600005], [0.741097254000067, 51.41345823800003], [0.735471190000055, 51.424290434000056], [0.749570549000055, 51.44596263700004], [0.824485966000054, 51.425618099000076], [0.875085161000072, 51.41966770000005], [0.902019424000059, 51.41649050900003]]], [[[-0.951007029999971, 50.82375659000007], [-0.957057021999958, 50.807342934000076], [-0.960861203999968, 50.81159457500007], [-0.970203754999943, 50.81031571500006], [-0.961788987999967, 50.80785529800005], [-0.973369385999945, 50.80906299700007], [-0.968970768999952, 50.802740897000035], [-0.952726201999951, 50.80101452400004], [-0.959144421999952, 50.79490909200007], [-0.96680622699995, 50.78761814200004], [-0.951307489999976, 50.78690625100006], [-0.95888711799995, 50.78116644500005], [-0.936761629999978, 50.78679720500003], [-0.937418296999965, 50.77758563700007], [-0.96984800599995, 50.78093692300007], [-0.970673500999965, 50.78112636000003], [-0.973225101999958, 50.78128536500003], [-1.02156303299995, 50.786261541000044], [-1.024802079999972, 50.79547624000003], [-1.024952869999936, 50.79590512200008], [-0.994896275999963, 50.798135898000055], [-0.986768414999972, 50.82694928700005], [-0.969104657999935, 50.834533029000056], [-0.951007029999971, 50.82375659000007]]], [[[-0.907846678999931, 50.81690139400007], [-0.911075385999936, 50.80330542100006], [-0.942576238999948, 50.81539718300007], [-0.939485197999943, 50.830298319000065], [-0.912066860999971, 50.82736807100008], [-0.907846678999931, 50.81690139400007]]], [[[0.682969207000042, 51.41264528200003], [0.694536883000069, 51.396626895000054], [0.672639129000061, 51.39840550900004], [0.665928519000033, 51.40628233500007], [0.682969207000042, 51.41264528200003]]], [[[0.686969929000043, 51.42227521900003], [0.687828097000022, 51.414346239000054], [0.660113688000024, 51.417587662000074], [0.667001840000069, 51.42390860200004], [0.686969929000043, 51.42227521900003]]], [[[0.582572584000047, 51.403134186000045], [0.56152043000003, 51.40223342200005], [0.564435834000051, 51.40795454300007], [0.582572584000047, 51.403134186000045]]], [[[0.608113907000075, 51.40154363900007], [0.615324179000027, 51.39538412400003], [0.597014786000045, 51.396079791000034], [0.608113907000075, 51.40154363900007]]], [[[-1.093696401999978, 50.81502649500004], [-1.101643427999932, 50.81367061100008], [-1.097127759999978, 50.82060815500006], [-1.093696401999978, 50.81502649500004]]]], &quot;type&quot;: &quot;MultiPolygon&quot;}, &quot;properties&quot;: {&quot;CreationDate&quot;: &quot;2022-04-01T08:52:11Z&quot;, &quot;Creator&quot;: &quot;hsc_map_england&quot;, &quot;EditDate&quot;: &quot;2022-04-01T08:52:11Z&quot;, &quot;Editor&quot;: &quot;hsc_map_england&quot;, &quot;FID&quot;: 2, &quot;GlobalID&quot;: &quot;{804BFF8F-EB68-4E80-BD39-1E3D8582B8B6}&quot;, &quot;Notes&quot;: null, &quot;SHAPE_Area&quot;: 2.4103065211317083, &quot;SHAPE_Length&quot;: 17.70657141153455, &quot;bng_e&quot;: 471724, &quot;bng_n&quot;: 171073, &quot;lat&quot;: 51.43412, &quot;long&quot;: -0.96957, &quot;nhser19cd&quot;: &quot;E40000005&quot;, &quot;nhser19nm&quot;: &quot;South East&quot;, &quot;objectid&quot;: 2, &quot;st_areasha&quot;: 18708426431.516766, &quot;st_lengths&quot;: 1467439.3781378767}, &quot;type&quot;: &quot;Feature&quot;}, {&quot;geometry&quot;: {&quot;coordinates&quot;: [[[[-1.746022595999932, 52.09295996800006], [-1.738541287999965, 52.091407840000045], [-1.728560535999975, 52.10012027300007], [-1.730671359999974, 52.073399306000056], [-1.712953652999943, 52.066584842000054], [-1.709882937999964, 52.07334934100004], [-1.701731104999965, 52.072809419000066], [-1.705140945999972, 52.05970665400008], [-1.70080765299997, 52.05511408000007], [-1.690179789999945, 52.054735977000064], [-1.688636661999965, 52.05183324200004], [-1.693982534999975, 52.03952644600008], [-1.667501415999936, 52.03624284000006], [-1.663869982999927, 52.03127754800005], [-1.653549797999972, 52.03540258100003], [-1.645374487999959, 52.03423176000007], [-1.624417961999939, 52.038981559000035], [-1.617532852999943, 52.03343701000006], [-1.619685508999964, 52.02797834100005], [-1.628404898999975, 52.02720693900005], [-1.638649365999925, 52.02048608100006], [-1.642837970999949, 52.00920253400005], [-1.66617352999998, 51.99691795200005], [-1.669888040999979, 51.99309030300003], [-1.665754394999965, 51.987488864000056], [-1.668943222999928, 51.975272750000045], [-1.662528895999969, 51.96400494900007], [-1.65237437899998, 51.96151215800006], [-1.655366793999974, 51.957503530000054], [-1.648926567999979, 51.95892486500003], [-1.632490514999972, 51.95565148600008], [-1.615189270999963, 51.93768184500004], [-1.645530175999966, 51.92229392400003], [-1.641182245999971, 51.92156188600006], [-1.644865860999971, 51.91368988700003], [-1.634170650999977, 51.911653261000026], [-1.63305010299996, 51.89922539100007], [-1.644883, 51.89460064300005], [-1.658651733999932, 51.896551275000036], [-1.668956993999927, 51.88150451400003], [-1.667111932999944, 51.87700008400003], [-1.686867522999933, 51.86550001200004], [-1.676384943999949, 51.85030959000005], [-1.686461024999971, 51.83445582400003], [-1.681119940999963, 51.81605262200003], [-1.67685970399998, 51.81702469000004], [-1.681931407999969, 51.803992676000064], [-1.693449706999957, 51.79414944600006], [-1.719488763999948, 51.783212149000065], [-1.700704776999942, 51.770584718000066], [-1.694865637999953, 51.74857505800003], [-1.687020704999952, 51.73988398600005], [-1.685785941999939, 51.729904876000035], [-1.695871001999933, 51.72353732600004], [-1.688000159999945, 51.71204478000004], [-1.665451675999975, 51.69726295800007], [-1.657438347999971, 51.69645132100004], [-1.648397416999956, 51.68457755900005], [-1.652654868999946, 51.681524945000035], [-1.668440317999966, 51.680435414000044], [-1.675208604999966, 51.682535081000026], [-1.67601558399997, 51.68840705900004], [-1.682688746999929, 51.69005241000008], [-1.696518104999939, 51.68211656600005], [-1.70025206899993, 51.67191072600008], [-1.690606257999946, 51.66374369600004], [-1.688495150999927, 51.65678808200005], [-1.691938119999975, 51.65216463100006], [-1.686225791999959, 51.65235084400007], [-1.675622011999963, 51.641397837000056], [-1.663169280999966, 51.63985987400008], [-1.654758387999948, 51.62984512500003], [-1.615494318999936, 51.631934648000026], [-1.613924589999954, 51.62846297500005], [-1.608775127999934, 51.629873073000056], [-1.594260504999966, 51.624419712000076], [-1.585577711999974, 51.61391620100005], [-1.60558419299997, 51.59815794000008], [-1.619936428999949, 51.59332272900008], [-1.622482576999971, 51.59616367500007], [-1.631142315999966, 51.59332772500005], [-1.637491123999951, 51.598286666000035], [-1.640964873999962, 51.59757476300007], [-1.637891389999936, 51.58386855300006], [-1.650210137999977, 51.58053279000006], [-1.646449448999931, 51.576915978000045], [-1.65137023099993, 51.57390531800007], [-1.63407051799993, 51.55325657900005], [-1.613749975999951, 51.536510269000075], [-1.602812152999945, 51.51829525100004], [-1.584707948999949, 51.524912157000074], [-1.588064216999953, 51.51350297000005], [-1.582290925999928, 51.494111788000055], [-1.570449187999941, 51.48627410300003], [-1.55862381999998, 51.46878564600007], [-1.545418748999964, 51.45883432200003], [-1.529028589999939, 51.455511802000046], [-1.523990976999926, 51.44748057800007], [-1.532062336999957, 51.42955543800008], [-1.526618161999977, 51.42393107100003], [-1.539061712999967, 51.426151117000074], [-1.553112749999968, 51.42127619900003], [-1.565118797999958, 51.42204340500007], [-1.571052669999972, 51.415577606000056], [-1.563491369999952, 51.41322887900003], [-1.56227505499993, 51.408237358000065], [-1.552987798999936, 51.410043966000046], [-1.555602980999936, 51.39558414100003], [-1.537717523999959, 51.38832241000006], [-1.538331665999976, 51.38553736800003], [-1.527634533999958, 51.37882099900003], [-1.516960435999977, 51.37878028200004], [-1.51340517899996, 51.37204501400004], [-1.495449117999954, 51.36966448600003], [-1.50060850999995, 51.35626794400008], [-1.485711366999965, 51.34768277000006], [-1.498298849999969, 51.32937607800005], [-1.516281618999926, 51.33935534700004], [-1.527508442999931, 51.33846616800008], [-1.533562079999967, 51.31622354400008], [-1.525224895999941, 51.30706691100005], [-1.528023096999959, 51.299808350000035], [-1.519511306999959, 51.29593856500003], [-1.524146694999956, 51.29316096100007], [-1.522807295999939, 51.28705797100008], [-1.534511091999946, 51.28709142000008], [-1.542583748999959, 51.28125068600008], [-1.53591653999996, 51.277303980000056], [-1.540512684999953, 51.26083354100007], [-1.53056974499998, 51.26261672500004], [-1.529822410999941, 51.26051392200003], [-1.536034778999976, 51.248529200000064], [-1.545159884999975, 51.245098487000064], [-1.577636307999967, 51.25563015500006], [-1.600186416999975, 51.25352434800004], [-1.600720777999925, 51.25071617800006], [-1.607423128999926, 51.252765390000036], [-1.610393230999932, 51.24297969000003], [-1.619335382999964, 51.24121788600007], [-1.63354062999997, 51.217515915000035], [-1.653496300999961, 51.22046761400003], [-1.689694742999961, 51.21482761400006], [-1.694096989999935, 51.20404330300005], [-1.668835438999963, 51.19077230100004], [-1.672367592999933, 51.17854394400007], [-1.654044385999953, 51.15628256200006], [-1.662975417999974, 51.12719202400007], [-1.640581096999938, 51.12538220600004], [-1.626251472999968, 51.11733776500006], [-1.630930882999962, 51.11115296000003], [-1.626956339999936, 51.102864201000045], [-1.637311870999952, 51.09216587800006], [-1.627737219999972, 51.07813997400007], [-1.634960347999936, 51.040886631000035], [-1.632375810999974, 51.03277969800007], [-1.61945702099996, 51.03305947800004], [-1.599396832999957, 51.02372936900008], [-1.605368985999974, 51.01725840100005], [-1.597523678999949, 51.00805543100006], [-1.605014732999962, 51.007005622000065], [-1.609088414999974, 51.00981314400008], [-1.614930155999957, 51.00665643100007], [-1.606078015999969, 51.00189783800005], [-1.617231151999931, 51.00418208000008], [-1.628884883999945, 50.99903178200003], [-1.625195719999965, 50.99032565600004], [-1.618953828999963, 50.987366045000044], [-1.61964407399995, 50.98299654600004], [-1.614418617999945, 50.97949477900005], [-1.602922945999978, 50.97851713300008], [-1.62340097699996, 50.95463731700005], [-1.634965059999956, 50.95924217400005], [-1.646375968999962, 50.949465399000076], [-1.661660032999976, 50.945277917000055], [-1.689413782999964, 50.95469597300007], [-1.719617523999943, 50.97677901800006], [-1.754401614999949, 50.97789209100006], [-1.754319838999947, 50.98044756200005], [-1.800314113999946, 50.99139478700005], [-1.807583376999958, 50.992046069000025], [-1.815421671999957, 50.98592267300006], [-1.83581252099998, 51.009422277000056], [-1.85338097999994, 51.00467899100005], [-1.873983678999934, 50.98444106300008], [-1.874481593999974, 51.006330588000026], [-1.88674135499997, 50.999527716000046], [-1.927877658999932, 50.997696467000026], [-1.949935772999936, 50.98231061600006], [-1.95682095799998, 50.989829920000034], [-1.95546550499995, 50.97826631800007], [-1.944829861999949, 50.975748433000035], [-1.939220086999967, 50.96965705900004], [-1.929888889999972, 50.96779583500006], [-1.920841133999943, 50.96140734100004], [-1.909183571999961, 50.94532659300006], [-1.878802907999955, 50.92432607900008], [-1.873708087999944, 50.917252939000036], [-1.862724284999956, 50.91978772700003], [-1.854184429999975, 50.92751137000005], [-1.841834262999953, 50.931660597000075], [-1.826220820999936, 50.926868788000036], [-1.810754785999961, 50.927161676000026], [-1.820407127999943, 50.91210589700006], [-1.816541447999953, 50.90394777700004], [-1.824953314999959, 50.895770619000075], [-1.839869690999933, 50.89789004000005], [-1.84855551499993, 50.88988737500006], [-1.844043443999965, 50.88682939100005], [-1.847977250999975, 50.882339141000045], [-1.847832302999961, 50.86968643600005], [-1.853533031999973, 50.86651574700005], [-1.850943842999925, 50.85872494900008], [-1.829518470999972, 50.85531859400004], [-1.814832447999947, 50.858701179000036], [-1.812790188999941, 50.86457279500007], [-1.807110303999934, 50.863315], [-1.80587623699995, 50.85262301700004], [-1.800035532999971, 50.848338701000046], [-1.802450944999975, 50.84280514200003], [-1.790705472999946, 50.836391509000066], [-1.796089825999957, 50.83033379500006], [-1.80373306499996, 50.82999355600003], [-1.801823569999954, 50.82089190500005], [-1.807356520999974, 50.81624232300004], [-1.802956146999975, 50.813492567000026], [-1.812129427999935, 50.80649207600004], [-1.801491322999937, 50.79969479600004], [-1.804710671999942, 50.79571770600006], [-1.80089135399993, 50.79424243300008], [-1.80593705299998, 50.79207465600007], [-1.80096518299996, 50.791884691000064], [-1.797474196999929, 50.78386015600006], [-1.787868347999961, 50.77885466500004], [-1.790748693999944, 50.776212917000066], [-1.788011755999946, 50.76652399100004], [-1.783660223999959, 50.76463121300003], [-1.77615394999998, 50.76634396000003], [-1.768956116999959, 50.76976720000005], [-1.770117200999948, 50.77254880600003], [-1.748982483999953, 50.77949018600003], [-1.739091311999971, 50.763496847000056], [-1.744684638999956, 50.75604313300005], [-1.744168827999943, 50.747455426000045], [-1.717849357999967, 50.75213536900003], [-1.681806119999976, 50.75182032500004], [-1.691640145999941, 50.737262842000064], [-1.692547966999939, 50.73735283000008], [-1.706559788999925, 50.735926154000026], [-1.719979850999948, 50.73455807900007], [-1.724585160999936, 50.734088230000054], [-1.726952419999975, 50.73267652800007], [-1.730847357999949, 50.73035350200007], [-1.742300248999925, 50.72352068200007], [-1.757087233999926, 50.73017999100006], [-1.762196933999974, 50.72523894600005], [-1.764334874999975, 50.72332802600005], [-1.768559729999936, 50.725224757000035], [-1.763429304999931, 50.71860500900004], [-1.746007139999961, 50.71547042600008], [-1.742690786999958, 50.72153147000006], [-1.741118318999952, 50.72153339500005], [-1.748689819999925, 50.71101216900007], [-1.81600007399993, 50.72015688300007], [-1.820959408999954, 50.72082910100005], [-1.824626571999943, 50.72030729100004], [-1.895221355999979, 50.71023741300007], [-1.900899398999968, 50.709425433000035], [-1.906466515999966, 50.706253452000055], [-1.936169810999957, 50.68931818300007], [-1.947809409999934, 50.68267688100008], [-1.933497308999961, 50.69858457400005], [-1.952393148999931, 50.70442418700003], [-1.94796114199994, 50.708850365000046], [-1.958366177999949, 50.71559124800007], [-1.991879257999926, 50.71250931900005], [-1.984078336999971, 50.719627081000056], [-1.995960959999934, 50.73748848900004], [-2.001358652999954, 50.73367735800008], [-2.011400622999929, 50.72658445400003], [-2.001358022999966, 50.71910068500006], [-1.986560623999935, 50.70806727400003], [-2.001357630999962, 50.71097638100008], [-2.03932558799994, 50.71842960500004], [-2.024889639999969, 50.72935586700004], [-2.053284576999943, 50.72880160900007], [-2.048149431999946, 50.722796706000054], [-2.042242317999978, 50.72627926100006], [-2.046200431999978, 50.716070769000055], [-2.062857207999969, 50.71656206400007], [-2.071900655999968, 50.70791472600007], [-2.057632463999937, 50.70561971500007], [-2.072162564999928, 50.70504406200007], [-2.08213985499998, 50.68697161500006], [-2.065724561999957, 50.686719528000026], [-2.054520149999973, 50.69980193500004], [-2.026134187999958, 50.707419154000036], [-2.018083478999927, 50.701573773000064], [-2.033202831999972, 50.70211417400003], [-2.024438170999929, 50.68765785700003], [-2.046427567999956, 50.67829146500003], [-2.024721089999957, 50.684606546000055], [-2.02658568499993, 50.67804307500006], [-2.022065733999966, 50.682095393000054], [-2.011448567999935, 50.68277055800007], [-2.00620854899995, 50.67601676000004], [-2.001355937999961, 50.67640823200003], [-1.998573549999946, 50.67663259100004], [-1.995732329999953, 50.66715485100008], [-1.978367797999965, 50.676944380000066], [-1.98525088699995, 50.669901382000035], [-1.974709944999972, 50.66514585400006], [-1.949904513999968, 50.68007144300003], [-1.94925735299995, 50.67961960700006], [-1.941733459999966, 50.67305156100008], [-1.942156121999972, 50.67155130200007], [-1.949301214999934, 50.646388555000044], [-1.949393738999959, 50.64584481900005], [-1.926523154999927, 50.64244512200003], [-1.92375945799995, 50.64203399000007], [-1.945086180999965, 50.62797950700008], [-1.949296118999939, 50.625203645000056], [-1.953151829999968, 50.62266095000007], [-1.953779180999959, 50.62017873600007], [-1.955604386999937, 50.61295570200008], [-1.956547098999977, 50.609224219000055], [-1.944091477999962, 50.607404200000076], [-1.945305794999967, 50.606116962000044], [-1.951151838999976, 50.59991868600008], [-1.959046763999936, 50.59154498400005], [-1.960463201999971, 50.59100292100004], [-1.964575776999936, 50.59087627700006], [-2.001353623999933, 50.58973722600007], [-2.026279771999953, 50.588958570000045], [-2.055260617999977, 50.57686145900004], [-2.056575111999962, 50.57769348100004], [-2.063774232999947, 50.59342768800008], [-2.064536253999961, 50.593556859000046], [-2.064802763999978, 50.59354164000007], [-2.094133699999929, 50.59678733900006], [-2.100550299999952, 50.59749639200004], [-2.114571444999967, 50.599044382000045], [-2.134032945999934, 50.61235088900003], [-2.134511982999925, 50.612638633000074], [-2.146034871999973, 50.60849333600004], [-2.157772572999932, 50.615410008000026], [-2.187496303999978, 50.61484639300005], [-2.198316900999941, 50.62296875100003], [-2.200299444999928, 50.62266135600004], [-2.22065500399998, 50.618972161000045], [-2.235745724999958, 50.61623443000008], [-2.238909886999977, 50.616165383000066], [-2.246150757999942, 50.61693864200004], [-2.249193347999949, 50.617263421000075], [-2.252826934999973, 50.617651170000045], [-2.312544325999966, 50.62400646200007], [-2.324204910999924, 50.62524361200008], [-2.338741306999964, 50.63198476300005], [-2.377285702999927, 50.63311833400007], [-2.403522170999963, 50.63388260900007], [-2.41107961199998, 50.63410165800008], [-2.42826056499996, 50.63366849600004], [-2.429807887999971, 50.63362936100003], [-2.432478615999969, 50.63132999800007], [-2.448838665999972, 50.61723856900005], [-2.452472884999963, 50.61410681600006], [-2.450563554999974, 50.61333958700004], [-2.441364246999967, 50.609642131000044], [-2.449031111999943, 50.60149075900006], [-2.448833420999961, 50.60138052800005], [-2.434103979999975, 50.596710544000075], [-2.450160513999947, 50.60119720600005], [-2.470195757999932, 50.583697348000044], [-2.48778581199997, 50.59109556000004], [-2.517491655999947, 50.617857798000045], [-2.520499450999978, 50.61853233700003], [-2.548847973999955, 50.62488514900008], [-2.545284177999974, 50.630887733000066], [-2.558055490999948, 50.63083434200007], [-2.560495867999975, 50.639146561000075], [-2.567039628999964, 50.64106180600004], [-2.611452565999969, 50.654046805000064], [-2.566918199999975, 50.630977707000056], [-2.542727803999981, 50.61843020400005], [-2.502571315999944, 50.59757513800008], [-2.460435716999939, 50.570995276000076], [-2.456361957999945, 50.57081348100007], [-2.422195090999935, 50.56928307700008], [-2.419894510999939, 50.554898783000056], [-2.418070141999976, 50.542921025000055], [-2.419160472999977, 50.54192996200004], [-2.442646959999934, 50.52056923300006], [-2.442878305999955, 50.52043366400005], [-2.458859034999932, 50.51686489300005], [-2.45965242699998, 50.51848126600004], [-2.459162096999933, 50.52043832600003], [-2.456041702999926, 50.53288898000005], [-2.451159880999967, 50.55235473600004], [-2.44918624099995, 50.560219834000065], [-2.45039363799998, 50.56102104100006], [-2.458625770999959, 50.56648266900004], [-2.503997329999947, 50.59655094900006], [-2.516963894999947, 50.60320296000003], [-2.529500772999938, 50.609631371000035], [-2.595077089999961, 50.64320551700007], [-2.627106867999942, 50.65957334700005], [-2.634974280999927, 50.662602536000065], [-2.636475512999937, 50.66333181600004], [-2.659840207999935, 50.67217056900006], [-2.761670031999927, 50.71125691600008], [-2.781956284999978, 50.71435847500004], [-2.802166335999971, 50.71744443700004], [-2.820238561999929, 50.72020078300005], [-2.832496963999972, 50.72206856300005], [-2.851403889999972, 50.72494663700007], [-2.86321970399996, 50.72674361000003], [-2.899239574999967, 50.732213466000076], [-2.909535930999937, 50.73377475400008], [-2.912755581999932, 50.732469242000036], [-2.927030080999941, 50.72667924000007], [-2.947485837999977, 50.71837647700005], [-2.94776118599998, 50.71826467100004], [-2.962168259999942, 50.71280101200006], [-2.976989000999936, 50.70717730600006], [-2.983679475999963, 50.704637551000076], [-3.005643266999925, 50.70170786600005], [-3.028575442999966, 50.698667914000055], [-3.050104784999974, 50.701713590000054], [-3.054900215999965, 50.70239140500007], [-3.082926814999951, 50.70142137800008], [-3.083979566999972, 50.70011382000007], [-3.09600637799997, 50.68522298500005], [-3.108297641999968, 50.68513820000004], [-3.185852225999952, 50.68457341900006], [-3.192046852999965, 50.68452608300004], [-3.257552874999931, 50.67329230200005], [-3.258945271999949, 50.671941822000065], [-3.286544072999959, 50.64515457600004], [-3.30061687999995, 50.631481472000075], [-3.30892154199995, 50.64762074500004], [-3.306635691999929, 50.629727814000034], [-3.308721856999966, 50.62924207900005], [-3.35100648599996, 50.619386735000035], [-3.358680791999973, 50.610347783000066], [-3.361457374999929, 50.60707679300003], [-3.369746436999947, 50.60806786200004], [-3.389395730999979, 50.61140698600008], [-3.414836097999967, 50.61572469300006], [-3.425197600999979, 50.61748143600005], [-3.425825513999939, 50.61817724800005], [-3.416043341999966, 50.62993838700004], [-3.460750408999957, 50.69552427800005], [-3.456328183999972, 50.67489325500003], [-3.469851544999926, 50.68223286300008], [-3.44668494299998, 50.61070943500005], [-3.443753686999969, 50.60164314100007], [-3.424588780999954, 50.61099544700005], [-3.46690732999997, 50.577957197000046], [-3.468586964999929, 50.56305270900003], [-3.494465375999937, 50.543206637000026], [-3.496439906999967, 50.54169190300007], [-3.509402808999937, 50.54630761000004], [-3.509769136999978, 50.54286270400007], [-3.495960705999948, 50.537609573000054], [-3.507581365999954, 50.51913121700005], [-3.509185725999941, 50.51657889300003], [-3.514801983999973, 50.481690025000034], [-3.480601518999947, 50.46351976300008], [-3.515976229999978, 50.45380088200005], [-3.539320077999946, 50.46108270500008], [-3.55759943399994, 50.42940390200005], [-3.559521651999944, 50.426070081000034], [-3.556125536999957, 50.408147290000045], [-3.544854707999946, 50.40212229500003], [-3.528339077999931, 50.404818344000034], [-3.511893044999965, 50.39590612900008], [-3.505144566999945, 50.39997612900004], [-3.512930049999966, 50.405674463000025], [-3.48236739999993, 50.400062699000046], [-3.503297162999957, 50.38886377100005], [-3.496055737999939, 50.38153735100008], [-3.49645219599995, 50.38135332300004], [-3.507630308999978, 50.37915559600003], [-3.507762927999977, 50.37873538300005], [-3.515569098999947, 50.35398862100004], [-3.517928104999953, 50.34650523800008], [-3.534128513999974, 50.337538100000074], [-3.535083282999949, 50.33700944800006], [-3.536853330999975, 50.336675530000036], [-3.553049477999934, 50.338517059000026], [-3.570829670999956, 50.346623246000036], [-3.57320899399997, 50.34770762800008], [-3.57591808199993, 50.36151440400005], [-3.578263279999931, 50.375190245000056], [-3.594711206999932, 50.38224312500006], [-3.580743306999977, 50.37217191800005], [-3.579236305999927, 50.35987025400004], [-3.577935682999964, 50.34813429600007], [-3.576597780999975, 50.34695676000007], [-3.574260596999977, 50.344899541000075], [-3.563528132999977, 50.33544967100005], [-3.571808162999957, 50.326709796000046], [-3.572431901999948, 50.326051265000046], [-3.572655402999942, 50.32600922100005], [-3.592738641999972, 50.322229253000046], [-3.612053496999977, 50.31859021300005], [-3.641954755999961, 50.290522388000056], [-3.652867515999958, 50.25586674700003], [-3.658616675999951, 50.23758941400007], [-3.659004368999945, 50.23635638300004], [-3.658099847999949, 50.23564604100005], [-3.642920114999924, 50.22372102700007], [-3.64043647099993, 50.22176916300003], [-3.64585191599997, 50.22185318900006], [-3.647633661999976, 50.22213304300004], [-3.648051298999974, 50.221887243000026], [-3.681306775999929, 50.22239776100008], [-3.683505022999952, 50.22124254900007], [-3.712811350999971, 50.205832473000044], [-3.713342557999965, 50.20587073400003], [-3.720286951999981, 50.20189885700006], [-3.72509387499997, 50.20552247900008], [-3.727952934999962, 50.20767737600005], [-3.737394232999975, 50.21479145100005], [-3.773412469999926, 50.22408647300006], [-3.762585896999951, 50.23625633700004], [-3.745730500999969, 50.24027028900008], [-3.743099763999965, 50.24089586500003], [-3.755899468999928, 50.238988961000075], [-3.753165222999939, 50.24673592600004], [-3.750123117999976, 50.255314534000036], [-3.749139282999977, 50.25597234800006], [-3.750030716999959, 50.255575054000076], [-3.749930709999944, 50.25585701400007], [-3.752553327999976, 50.254608423000036], [-3.757744146999926, 50.25213675800006], [-3.759093395999969, 50.25364236200005], [-3.75994039699998, 50.25458745600008], [-3.765870482999958, 50.261203082000065], [-3.76547755799993, 50.26005438700008], [-3.762641344999963, 50.251761173000034], [-3.760883268999976, 50.246618960000035], [-3.758830685999953, 50.240613893000045], [-3.760128158999976, 50.23981360200003], [-3.766050460999963, 50.236285972000076], [-3.771835450999959, 50.23282560900003], [-3.781901078999965, 50.229598700000054], [-3.785583534999944, 50.21511380900006], [-3.785588398999948, 50.21492375500003], [-3.786781970999925, 50.21017262000004], [-3.78761988399998, 50.20995545200003], [-3.792400269999973, 50.21091963100008], [-3.822963235999964, 50.21707826900007], [-3.868221766999966, 50.23874924000006], [-3.85902740299997, 50.24264098100008], [-3.858900448999975, 50.24509211800006], [-3.858087706999925, 50.260779693000075], [-3.859601190999967, 50.261886136000044], [-3.88123358699994, 50.27324079600004], [-3.881598729999951, 50.273814799000036], [-3.880033106999974, 50.28145257500006], [-3.895183381999971, 50.28177574100005], [-3.898705889999974, 50.28374282500005], [-3.92054130899993, 50.295930361000046], [-3.922458534999976, 50.29699996900007], [-3.943714085999943, 50.29592362200003], [-3.944509838999977, 50.297634781000056], [-3.947817895999947, 50.30474688600003], [-3.941610267999977, 50.31446271600004], [-3.953401674999952, 50.30827057300007], [-3.954394242999967, 50.30795709800003], [-3.967449127999942, 50.30779693800008], [-3.991882562999933, 50.30749324300007], [-4.007917805999966, 50.30205895600005], [-4.017395478999958, 50.29884539300008], [-4.02525873999997, 50.29617830800004], [-4.035159651999948, 50.292818913000076], [-4.038509098999953, 50.29376967800005], [-4.064902308999933, 50.30117261100003], [-4.069361706999928, 50.30242414200006], [-4.075398321999955, 50.304117922000046], [-4.031971518999967, 50.31424633900008], [-4.084334468999941, 50.31731996000008], [-4.086395783999933, 50.31744044800007], [-4.118998254999951, 50.31934116800005], [-4.12180946899997, 50.32865345600004], [-4.12296645999993, 50.332484822000026], [-4.122977014999947, 50.335661892000076], [-4.123013796999942, 50.34668911800003], [-4.123587237999971, 50.34760115300003], [-4.130388546999939, 50.35841540400003], [-4.131033862999971, 50.35944119000004], [-4.112445557999933, 50.35943010900007], [-4.100092307999944, 50.38342072100005], [-4.11570680799997, 50.36178573600006], [-4.153212785999926, 50.366027529000064], [-4.16476834499997, 50.36074682100008], [-4.165341677999947, 50.36254960800005], [-4.166612181999938, 50.36654407100008], [-4.18541907599996, 50.367162507000046], [-4.181481853999969, 50.37715819300007], [-4.18842233099997, 50.38509194300008], [-4.19294752899998, 50.390262938000035], [-4.194543195999927, 50.39208601000007], [-4.20528362899995, 50.39938744600005], [-4.205188088999932, 50.39995525900008], [-4.195233129999963, 50.41911769700005], [-4.192340417999958, 50.42468256600006], [-4.190228304999948, 50.427463559000046], [-4.185553970999933, 50.433667710000066], [-4.185099788999935, 50.434270351000066], [-4.198970521999968, 50.44559306700006], [-4.199173367999947, 50.43939426500003], [-4.199294581999936, 50.435690246000036], [-4.200249263999979, 50.43526402800006], [-4.222496956999976, 50.42532716300008], [-4.210067691999939, 50.42569890400006], [-4.213711238999963, 50.41876789200006], [-4.215621806999934, 50.41513245800007], [-4.207459865999965, 50.409054163000064], [-4.208860468999944, 50.405728777000036], [-4.226013967999961, 50.394975858000066], [-4.230751229999953, 50.39200498100007], [-4.227352375999942, 50.39146417500007], [-4.201767737999944, 50.387389693000046], [-4.195000806999928, 50.37317238700007], [-4.201534805999927, 50.36952615700005], [-4.206161893999933, 50.369169301000056], [-4.209234992999939, 50.36893218900008], [-4.209088889999975, 50.36866617700008], [-4.206140167999934, 50.364524509000034], [-4.197079063999979, 50.359618527000066], [-4.207615975999943, 50.34694985600004], [-4.177011105999952, 50.360311710000076], [-4.168923474999929, 50.34620988000006], [-4.180847951999965, 50.341309968000076], [-4.201227225999958, 50.33293075500006], [-4.196028275999936, 50.32676125000006], [-4.188371362999931, 50.317671346000054], [-4.189451591999955, 50.317484524000065], [-4.221537616999967, 50.31193015500003], [-4.223982729999932, 50.311529249000046], [-4.21940306099998, 50.323972671000035], [-4.229113533999964, 50.333511815000065], [-4.239687477999951, 50.33724647500003], [-4.304713317999926, 50.36046654000006], [-4.305313010999953, 50.360390067000026], [-4.30811939299997, 50.361378425000055], [-4.316259238999976, 50.361358789000064], [-4.316360888999952, 50.361531110000044], [-4.332005304999939, 50.361788585000056], [-4.333196118999979, 50.36131610700005], [-4.354621881999947, 50.36125856100006], [-4.354896049999979, 50.36127177600008], [-4.377098906999947, 50.361193944000036], [-4.429290097999967, 50.36104276900005], [-4.436659060999943, 50.36100166300008], [-4.441622278999944, 50.35753622900006], [-4.450824027999943, 50.35173135600007], [-4.45070581899995, 50.351192077000064], [-4.451055824999969, 50.35094757600007], [-4.456677218999971, 50.355672569000035], [-4.45085153399998, 50.347678564000034], [-4.458586130999947, 50.34254165700003], [-4.47363865799997, 50.333366831000035], [-4.49762796999994, 50.33736210700005], [-4.499917129999972, 50.333636812000066], [-4.502331287999937, 50.33055345400004], [-4.503639004999968, 50.33030908200004], [-4.519775931999959, 50.327682150000044], [-4.538719109999931, 50.323747309000055], [-4.538914861999956, 50.323712869000076], [-4.578459771999974, 50.332544806000044], [-4.579768866999927, 50.331977358000074], [-4.597192818999929, 50.324422027000026], [-4.598424653999928, 50.32388769800008], [-4.606647147999979, 50.32894857400004], [-4.63314227799998, 50.32435032200004], [-4.63852142199994, 50.32986373300008], [-4.637318058999938, 50.33020522800007], [-4.621218811999938, 50.334772317000045], [-4.608832193999945, 50.33828413900005], [-4.63007203899997, 50.33915392100005], [-4.667596056999969, 50.32307345600003], [-4.672650394999948, 50.31394153400004], [-4.684733338999933, 50.320108008000034], [-4.681443322999939, 50.33780721900007], [-4.694641937999961, 50.34760988100004], [-4.756851367999957, 50.33101910400006], [-4.766911055999969, 50.32086283500007], [-4.766029808999974, 50.31949441000006], [-4.766138592999937, 50.319357747000026], [-4.758775019999973, 50.30822559100005], [-4.752556049999953, 50.29856093500007], [-4.764085960999978, 50.300455972000066], [-4.781190121999941, 50.290155706000064], [-4.787007181999968, 50.269469224000034], [-4.785696762999976, 50.26180786200007], [-4.767058357999929, 50.256620457000054], [-4.785635253999942, 50.245388336000076], [-4.785203171999967, 50.244668457000046], [-4.781347962999973, 50.23824431400004], [-4.780967433999933, 50.23761011500005], [-4.786370020999925, 50.23516423900003], [-4.798232365999979, 50.23016486200004], [-4.79833946399998, 50.226260841000055], [-4.798525808999955, 50.21946674700007], [-4.805210673999966, 50.22346418300003], [-4.809439687999941, 50.22599251400004], [-4.818785676999937, 50.23157851500008], [-4.841845620999948, 50.23392549400006], [-4.852433609999935, 50.23500149200004], [-4.862535913999977, 50.236027181000054], [-4.866401315999951, 50.233294467000064], [-4.874888597999927, 50.22729260500006], [-4.879159586999947, 50.224271532000046], [-4.895156082999961, 50.21335653500006], [-4.903069279999954, 50.20734923300006], [-4.905107298999951, 50.205906037000034], [-4.910910003999959, 50.201796269000056], [-4.918775665999931, 50.196223872000076], [-4.933578675999968, 50.207081920000064], [-4.955829725999934, 50.20296872600005], [-4.964251906999948, 50.194773833000056], [-4.967878621999944, 50.19160285300006], [-4.967837281999948, 50.19128420000004], [-4.973624795999967, 50.18564995600008], [-4.980046372999936, 50.15951578200003], [-4.981938136999929, 50.151812403000065], [-4.984082636999972, 50.15083988900005], [-5.007174634999956, 50.14036288600005], [-5.00943581599995, 50.13933648500006], [-5.010023454999953, 50.13944320400003], [-5.018031683999936, 50.14861052600003], [-5.00980020999998, 50.153643611000064], [-4.995739238999931, 50.16223738000008], [-5.003198091999934, 50.16131715100005], [-5.027261125999928, 50.158344879000026], [-5.01949794899997, 50.17902876900007], [-5.017841787999942, 50.18343919800003], [-5.025694098999963, 50.18219400700008], [-5.03410566499997, 50.20452153700006], [-5.035927180999977, 50.20935355600005], [-5.036035292999941, 50.20964032000006], [-5.042578768999931, 50.20493852100003], [-5.044189423999967, 50.203780993000066], [-5.045748921999973, 50.202660156000036], [-5.060948943999961, 50.19168805800007], [-5.058925734999946, 50.19043867400006], [-5.054854583999941, 50.183768669000074], [-5.050607199999945, 50.17680775300005], [-5.047546913999952, 50.17179102100005], [-5.05619808199998, 50.16129885600003], [-5.074063424999963, 50.16465373900007], [-5.075943766999956, 50.16500664000006], [-5.077521145999981, 50.16530265400007], [-5.066643118999934, 50.15379327000005], [-5.066014993999943, 50.15386598300006], [-5.057352587999958, 50.154868375000035], [-5.05575343299995, 50.15505335000006], [-5.049200521999978, 50.155756489000055], [-5.042041869999935, 50.14407178700003], [-5.043246043999943, 50.14443152100006], [-5.053194549999944, 50.14845170800004], [-5.054747678999945, 50.14786659400005], [-5.075786407999942, 50.13946144700003], [-5.076162820999969, 50.13931159200007], [-5.080004758999962, 50.13592754800004], [-5.091350102999968, 50.125930906000065], [-5.091520288999959, 50.12581777400004], [-5.091613269999925, 50.12569896200006], [-5.091490374999978, 50.12550007700003], [-5.082192353999972, 50.11044731900006], [-5.08163009499998, 50.10953671100003], [-5.09470749299993, 50.10223360600003], [-5.106765520999943, 50.101169897000034], [-5.155682974999934, 50.09657204900003], [-5.124243820999936, 50.09502982200007], [-5.106419391999964, 50.09415152200006], [-5.093381794999971, 50.09046962000008], [-5.104116546999933, 50.086732564000044], [-5.084730782999941, 50.08595113100006], [-5.076058958999965, 50.085554399000046], [-5.076605426999947, 50.08292994000004], [-5.079554402999975, 50.06876197400004], [-5.075674431999971, 50.068391708000036], [-5.067701188999933, 50.067630389000044], [-5.061772572999928, 50.058709031000035], [-5.058409431999962, 50.05364652600008], [-5.057830534999937, 50.05277499700003], [-5.058851365999942, 50.05114581400005], [-5.066743301999963, 50.03854697200006], [-5.068937066999979, 50.035043607000034], [-5.073449700999959, 50.033598477000055], [-5.074975897999934, 50.033109668000066], [-5.095514431999959, 50.02672196700007], [-5.09543724699995, 50.02655344600004], [-5.096981316999972, 50.02605847900003], [-5.091147073999934, 50.01571026100004], [-5.091791876999935, 50.01498558600008], [-5.100121912999953, 50.00562147200003], [-5.101379817999941, 50.00420705600004], [-5.122447238999939, 50.00925161200007], [-5.137205979999976, 50.00743140000003], [-5.162005891999968, 50.00436828000005], [-5.166549269999962, 50.003806498000074], [-5.170228558999952, 49.99885389000008], [-5.170917715999963, 49.99815982800004], [-5.170901390999973, 49.997948085000075], [-5.182571564999932, 49.982231213000034], [-5.185291637999967, 49.98027956900006], [-5.185276890999944, 49.97858621800003], [-5.188769030999936, 49.97388023100007], [-5.185409074999939, 49.963373098000034], [-5.186245489999976, 49.963096267000026], [-5.197728170999937, 49.959294888000045], [-5.198634633999973, 49.95899472800005], [-5.201185161999945, 49.95903608400005], [-5.208050058999959, 49.95929725500008], [-5.208011733999967, 49.95942474800006], [-5.210364677999962, 49.95938522000006], [-5.215945493999925, 49.95959712400003], [-5.219483259999947, 49.97141998200004], [-5.222960978999936, 49.97203002800006], [-5.231720562999953, 49.97356605600004], [-5.235048518999974, 49.974149425000064], [-5.240196217999937, 49.97505156600005], [-5.246261439999955, 49.97611416600006], [-5.243875006999929, 49.983977235000054], [-5.245210756999938, 49.98509635400006], [-5.245114546999957, 49.98542654700003], [-5.245719594999969, 49.98552265100005], [-5.254574469999966, 49.99293951100003], [-5.259783483999968, 49.99730117800004], [-5.268544352999925, 50.00463468600003], [-5.26039523999998, 50.015596935000076], [-5.255929913999978, 50.02160144900006], [-5.261624294999933, 50.033822255000075], [-5.262462600999925, 50.03422262300006], [-5.26999806699996, 50.037820916000044], [-5.276761116999978, 50.04104947400003], [-5.281681718999948, 50.04339794800006], [-5.279910414999961, 50.05514279800008], [-5.279678886999932, 50.05667760600005], [-5.316284389999964, 50.085195275000046], [-5.339022131999968, 50.091954212000076], [-5.342253544999949, 50.091564324000046], [-5.363232120999953, 50.08903080600004], [-5.38627773099995, 50.10073427900005], [-5.391712790999975, 50.10349288800006], [-5.429196714999932, 50.09697387800003], [-5.434774611999956, 50.108605229000034], [-5.456636254999978, 50.11707988100005], [-5.469064978999938, 50.12189460800005], [-5.483705193999981, 50.12756293400008], [-5.488275447999968, 50.127222774000074], [-5.514399270999945, 50.12527486000005], [-5.529647267999962, 50.12413512200004], [-5.531139304999954, 50.11414572600006], [-5.532058563999954, 50.113758344000075], [-5.54609921399998, 50.10783988800006], [-5.549173591999931, 50.106543558000055], [-5.547540923999975, 50.10469943500004], [-5.533219416999941, 50.08851551400005], [-5.542249636999941, 50.07050230900006], [-5.559381808999944, 50.06130557800003], [-5.56360017399993, 50.059040253000035], [-5.577234159999932, 50.05171612700008], [-5.587041157999977, 50.051603561000036], [-5.593210669999962, 50.051532319000046], [-5.598815932999969, 50.05146730800004], [-5.619166906999965, 50.051228999000045], [-5.63004803299998, 50.04411266300008], [-5.636374048999926, 50.04001675600006], [-5.636794552999959, 50.04015141700006], [-5.646765005999953, 50.04334365600005], [-5.648303866999925, 50.04383623700005], [-5.664905701999942, 50.037706290000074], [-5.673173081999948, 50.03465224900003], [-5.692620618999968, 50.05405374500003], [-5.710885588999929, 50.05808422800004], [-5.712266857999964, 50.060643362000064], [-5.716841129999978, 50.069116363000035], [-5.708805360999975, 50.07516564900004], [-5.702393638999979, 50.07999079800004], [-5.694178676999968, 50.08617108100003], [-5.688579832999949, 50.090381996000076], [-5.699785944999974, 50.10950133800003], [-5.710160634999966, 50.127401399000064], [-5.709370687999979, 50.12823043100008], [-5.693661396999971, 50.144710117000045], [-5.685026792999963, 50.153762622000045], [-5.673056010999971, 50.16630632700003], [-5.654840686999933, 50.166898366000055], [-5.642268741999942, 50.16730529700004], [-5.629107619999957, 50.16772983200008], [-5.613288624999939, 50.18192873400005], [-5.60066627499998, 50.19325091600007], [-5.590852605999942, 50.188722909000035], [-5.57805486999996, 50.19541683500006], [-5.577907344999971, 50.19554849300005], [-5.540550763999931, 50.21522664100007], [-5.538688437999951, 50.21620692400006], [-5.538392546999944, 50.216233971000065], [-5.499501811999949, 50.21978214400008], [-5.498488401999964, 50.21987442200003], [-5.485667241999977, 50.21480645100007], [-5.476887717999944, 50.21841948500003], [-5.475112242999955, 50.217131590000065], [-5.474810135999974, 50.21625062000004], [-5.472087390999945, 50.20830922700003], [-5.472005420999949, 50.208070098000064], [-5.469164259999957, 50.19977996800003], [-5.436758938999958, 50.193391940000026], [-5.434386934999964, 50.19230701400005], [-5.411966783999958, 50.20985012600005], [-5.396912640999972, 50.221620106000046], [-5.396395293999944, 50.22962408400008], [-5.395671571999969, 50.24040979500006], [-5.394120223999948, 50.240737022000076], [-5.378074536999975, 50.244120053000074], [-5.368316139999934, 50.23616472300006], [-5.36699817899995, 50.23637364100006], [-5.346144326999934, 50.239677103000076], [-5.334460939999929, 50.241526054000076], [-5.328466778999939, 50.24247416000003], [-5.303090613999927, 50.261908376000065], [-5.289366764999954, 50.26113107100008], [-5.278499329999931, 50.27351564500003], [-5.250619760999939, 50.28418626500007], [-5.242628994999961, 50.28716055800004], [-5.240009148999945, 50.29893836100007], [-5.235691882999959, 50.31833712800005], [-5.200648061999971, 50.32058101000007], [-5.197850355999947, 50.32347389700004], [-5.18211314399997, 50.33973884100004], [-5.18168959999997, 50.340176410000026], [-5.153869155999928, 50.34614107700003], [-5.146624563999978, 50.37531293300003], [-5.151121748999969, 50.38110725000007], [-5.154156321999949, 50.38501617800006], [-5.157502779999959, 50.38932605200006], [-5.157284630999925, 50.389446777000046], [-5.143527789999951, 50.38878426300005], [-5.145691359999944, 50.39728910900004], [-5.147685065999951, 50.40512336900008], [-5.135738759999981, 50.40119832900007], [-5.13550044699997, 50.408680967000066], [-5.130503092999959, 50.40600287800004], [-5.130240061999928, 50.40609200400007], [-5.126038639999933, 50.40393522100004], [-5.108877506999931, 50.408849186000054], [-5.120214158999943, 50.411038304000044], [-5.101379532999943, 50.41357882800003], [-5.09996147399994, 50.424859611000045], [-5.093614546999959, 50.42063989400003], [-5.091947410999978, 50.42066044500007], [-5.083596479999926, 50.41501351100004], [-5.05519103599994, 50.42799301300005], [-5.042461834999926, 50.44414918000007], [-5.033045062999975, 50.48843024200005], [-5.036867115999939, 50.491034539000054], [-5.046538116999955, 50.49762235000003], [-5.046790594999948, 50.497794300000066], [-5.021202606999964, 50.50926615100008], [-5.029757186999973, 50.514845818000026], [-5.024222258999941, 50.53866681000005], [-5.03662819699997, 50.54943062400008], [-4.983803504999969, 50.54222273100004], [-4.972103276999974, 50.55778555100005], [-4.971686702999932, 50.557961842000054], [-4.956190534999962, 50.56451775000005], [-4.945057967999958, 50.56922518400006], [-4.949861405999968, 50.55620066000006], [-4.936902996999947, 50.54991360200006], [-4.934920716999954, 50.54705877200007], [-4.930833441999937, 50.53001298100003], [-4.911345431999962, 50.53561400600006], [-4.926119771999936, 50.54485336300007], [-4.931143068999972, 50.56449772800005], [-4.915573252999934, 50.57598717600007], [-4.928051825999944, 50.582881643000064], [-4.935398291999945, 50.58693901700008], [-4.932894181999927, 50.58806676800003], [-4.922989082999948, 50.592526580000026], [-4.918972590999942, 50.59433455200008], [-4.918417804999933, 50.59433839500008], [-4.917930708999961, 50.59386378900007], [-4.909731614999941, 50.58587318600007], [-4.908363393999934, 50.58453942800003], [-4.89883051399994, 50.583613410000055], [-4.885198801999934, 50.58228781100007], [-4.880541368999957, 50.58406715600006], [-4.867537721999952, 50.58903345200008], [-4.870010994999973, 50.59540757600007], [-4.851094516999979, 50.59855240700006], [-4.850080791999972, 50.59872083700003], [-4.838692937999951, 50.594606836000025], [-4.832439411999928, 50.592147811000075], [-4.827130054999941, 50.593031892000056], [-4.804007111999965, 50.59687898100003], [-4.803161302999968, 50.59690653000007], [-4.80277323599995, 50.59708412200007], [-4.795956076999971, 50.598217258000034], [-4.79190265799997, 50.60205779700004], [-4.790597403999925, 50.60265486000003], [-4.786417807999953, 50.60725339600003], [-4.770424442999968, 50.62239547300004], [-4.758717228999956, 50.65283559100004], [-4.766658366999934, 50.65486709900006], [-4.764382186999967, 50.66986277800004], [-4.742169733999958, 50.67672477100007], [-4.735022890999971, 50.67150131000005], [-4.726108169999975, 50.684073675000036], [-4.680285044999948, 50.69601813500003], [-4.681079359999956, 50.70443063500005], [-4.67699311299998, 50.70624984400007], [-4.654611859999932, 50.716209062000075], [-4.654341783999939, 50.724462009000035], [-4.653836716999933, 50.73989171000005], [-4.634573474999968, 50.740961955000046], [-4.633164872999942, 50.74993538700005], [-4.63024009999998, 50.75123040900007], [-4.61859424599993, 50.75638549100006], [-4.589947162999977, 50.76905657400005], [-4.572227117999944, 50.776887576000036], [-4.562724681999953, 50.78108481700008], [-4.560851168999932, 50.80308232700003], [-4.55827577499997, 50.816250179000065], [-4.558521276999954, 50.82873849300006], [-4.557320691999962, 50.828857406000054], [-4.546711263999953, 50.82990770200007], [-4.556148567999969, 50.83682404800004], [-4.558342967999977, 50.847553109000046], [-4.55894942599997, 50.85051730100008], [-4.565410114999963, 50.882068538000055], [-4.566899630999956, 50.889335747000075], [-4.569691315999933, 50.90294926200005], [-4.569845762999933, 50.90370215000007], [-4.561872638999944, 50.91193337400006], [-4.545956910999962, 50.928354057000035], [-4.546140441999967, 50.92875487600003], [-4.550981397999976, 50.93932439800005], [-4.548504674999947, 50.942920927000046], [-4.545338091999952, 50.947518337000076], [-4.542441164999957, 50.95172337300005], [-4.53303122799997, 50.96537675800005], [-4.533897692999972, 50.98402103700005], [-4.534135641999967, 50.989137534000065], [-4.534557847999963, 50.99821206300004], [-4.534963707999964, 51.00693047000004], [-4.535032196999964, 51.00840125700006], [-4.530529377999926, 51.01526521300008], [-4.525722771999938, 51.02229009800004], [-4.508820362999927, 51.02084397700003], [-4.50166653399998, 51.01990615100004], [-4.501178842999934, 51.020189352000045], [-4.449835809999968, 51.01577760600003], [-4.448419117999947, 51.01524520800007], [-4.42459361799996, 51.01320696000005], [-4.390690653999968, 50.99458440600006], [-4.384537526999964, 50.99386795300006], [-4.355827407999925, 50.99052031600007], [-4.342794698999967, 50.98899818800004], [-4.327719291999927, 50.99260944200006], [-4.31209221499995, 50.99635025100008], [-4.300665554999966, 50.999083847000065], [-4.282417872999929, 51.01567530300008], [-4.280336674999944, 51.01756669100007], [-4.280058329999974, 51.01780446500004], [-4.258245466999938, 51.037631515000044], [-4.238165662999961, 51.04143809900006], [-4.217558895999957, 51.06517242700005], [-4.210048631999939, 51.05391094500004], [-4.19999334399995, 51.05808689200006], [-4.197648661999949, 51.05851304000004], [-4.183389133999981, 51.04925785200004], [-4.180573167999967, 51.06817137000007], [-4.149564372999976, 51.08421148700006], [-4.180912400999944, 51.077415364000046], [-4.190174332999959, 51.06495879500005], [-4.214833175999956, 51.07507136500004], [-4.222559890999946, 51.117796017000046], [-4.239731875999951, 51.12048715100008], [-4.240306848999978, 51.12069045100003], [-4.239235882999935, 51.133336248000035], [-4.24939007699993, 51.137610976000076], [-4.261921842999925, 51.142884320000064], [-4.223750948999964, 51.14425342000004], [-4.217139657999951, 51.15036877800003], [-4.211494810999966, 51.17830905300008], [-4.229097267999975, 51.18857724000003], [-4.211558112999967, 51.19015142900008], [-4.20144176499997, 51.20048472500008], [-4.199385862999975, 51.20041125500006], [-4.17760181999995, 51.197410724000065], [-4.08811792399996, 51.217454168000074], [-4.054834715999959, 51.210215220000066], [-4.045283470999948, 51.20813568400007], [-4.038672018999932, 51.20669563800004], [-4.029269357999965, 51.21558205700006], [-4.027881272999934, 51.216382716000055], [-4.005974417999937, 51.21727827700005], [-3.958232547999955, 51.219215457000075], [-3.925659214999939, 51.23196679200004], [-3.891979072999959, 51.22381009000003], [-3.856513660999951, 51.233774305000054], [-3.852987809999945, 51.23462528600004], [-3.813463898999942, 51.23113503600007], [-3.811311843999931, 51.23236763400007], [-3.806530155999951, 51.23510599300005], [-3.78696142299998, 51.24630717500003], [-3.769753529999946, 51.23766656400005], [-3.720780788999946, 51.23309188300004], [-3.720543576999944, 51.23306697100003], [-3.720169210999927, 51.23302765400007], [-3.677954950999947, 51.22858603200007], [-3.639804087999948, 51.224558064000064], [-3.631981945999939, 51.22373055700007], [-3.619842433999963, 51.216730125000026], [-3.610680548999937, 51.22017263600003], [-3.579654557999959, 51.23182133200004], [-3.578796456999953, 51.23214330600007], [-3.542739308999955, 51.23234354900006], [-3.524530811999966, 51.22899960400008], [-3.504178071999945, 51.22525797700007], [-3.49612241899996, 51.22377588400008], [-3.470320282999978, 51.20812239400004], [-3.447629762999952, 51.20891506300006], [-3.432673264999949, 51.20023130200008], [-3.402027848999978, 51.182422176000046], [-3.27724857499993, 51.17955786400006], [-3.15293203799996, 51.20884007300003], [-3.146630654999967, 51.209389215000044], [-3.125755265999942, 51.211205876000065], [-3.07606494099997, 51.201353984000036], [-3.054555984999979, 51.20566897600003], [-3.01926285199994, 51.218476355000064], [-3.032549664999976, 51.19457615300007], [-3.051106579999953, 51.187084251000044], [-3.025636979999945, 51.19391122800005], [-2.997776797999961, 51.22543714500006], [-3.000206185999957, 51.24206014100008], [-3.021806563999974, 51.26573723900003], [-3.011397881999926, 51.320730282000056], [-3.035929893999935, 51.328545173000066], [-2.994109650999974, 51.32093122900005], [-2.994054838999944, 51.321069796000074], [-2.988578048999955, 51.334911067000064], [-2.982774612999947, 51.34956874900007], [-2.994742568999925, 51.356362981000075], [-2.967404705999968, 51.36371001800006], [-2.962212222999938, 51.37474393100007], [-2.963076100999956, 51.382908033000035], [-2.980798559999926, 51.388416247000066], [-2.939815010999951, 51.39817575700005], [-2.939175837999926, 51.39104299600007], [-2.917341839999949, 51.39588732200008], [-2.886599068999942, 51.41255149600005], [-2.86460490199994, 51.438232793000054], [-2.850644068999941, 51.454517105000036], [-2.77356832199996, 51.49466326700008], [-2.732616444999962, 51.49248373000006], [-2.73052469299995, 51.50226533400007], [-2.684610403999955, 51.480486436000035], [-2.718317178999939, 51.506159352000054], [-2.703223469999955, 51.516808567000055], [-2.687075848999939, 51.52938562500003], [-2.674173811999935, 51.54402795000004], [-2.663432475999969, 51.57367582400008], [-2.627806249999935, 51.60563503600008], [-2.63855562699996, 51.60934296700003], [-2.638833566999949, 51.60943881900005], [-2.65877594799997, 51.61631362500003], [-2.660893318999968, 51.617043239000054], [-2.656641126999943, 51.622799609000026], [-2.66852029699993, 51.63383798900003], [-2.66765247099994, 51.644533127000045], [-2.677279129999931, 51.64461798700006], [-2.68033173699996, 51.64754717300008], [-2.665922549999948, 51.66432350100007], [-2.678413596999974, 51.65974275600007], [-2.686402159999943, 51.66315508400004], [-2.683429529999955, 51.66868836100008], [-2.660128623999981, 51.671084765000046], [-2.656863684999962, 51.67450363900008], [-2.672253334999937, 51.68100018400003], [-2.669169054999941, 51.69314980900003], [-2.683791652999957, 51.700627463000046], [-2.681797709999955, 51.703325104000044], [-2.670971351999981, 51.70075996000003], [-2.668495015999952, 51.70575093400004], [-2.679381400999944, 51.71398541000008], [-2.680484443999944, 51.724645775000056], [-2.687540585999955, 51.73042614000008], [-2.672225208999976, 51.73636299300006], [-2.66269209799998, 51.753894727000045], [-2.680452015999947, 51.76892961400006], [-2.675069275999931, 51.77704634400004], [-2.67584416699998, 51.78806901400003], [-2.66955743799997, 51.794377189000045], [-2.678542943999958, 51.802705692000075], [-2.672578481999949, 51.80888024200004], [-2.659538715999929, 51.81068239700005], [-2.660871617999931, 51.82275403500006], [-2.650097487999972, 51.82412506400004], [-2.650228438999932, 51.82614615700004], [-2.635970002999954, 51.83991192700006], [-2.636710261999951, 51.84309574000008], [-2.625466336999978, 51.838964428000054], [-2.62159341499995, 51.84332468200006], [-2.609434277999981, 51.84679695700004], [-2.601216578999924, 51.85621621300004], [-2.582817051999939, 51.84957735100005], [-2.578805903999978, 51.85320999500004], [-2.585218803999965, 51.859930458000065], [-2.580729424999959, 51.861652080000056], [-2.561657618999959, 51.864292281000075], [-2.543901605999963, 51.86023206100003], [-2.531623930999956, 51.86077127300007], [-2.522233318999952, 51.86469606300005], [-2.508624243999975, 51.88516906700005], [-2.501947405999942, 51.88625329700005], [-2.50110802599994, 51.881899590000046], [-2.494655986999931, 51.884239742000034], [-2.493861587999959, 51.880002981000075], [-2.487794723999968, 51.880417590000036], [-2.486728649999975, 51.88471553900007], [-2.47340814599994, 51.88555358600007], [-2.46651800199993, 51.89256407600004], [-2.446009520999951, 51.89399457500008], [-2.439357943999937, 51.89739575900006], [-2.445388610999942, 51.90055586600005], [-2.440154336999967, 51.902442473000065], [-2.448184435999963, 51.91866855500007], [-2.455022773999929, 51.91934722600007], [-2.46604259999998, 51.92797416500008], [-2.465487528999972, 51.95169636400004], [-2.473728694999977, 51.95653872100007], [-2.486107149999953, 51.957420425000066], [-2.490187556999956, 51.95497959800008], [-2.500906663999956, 51.960608781000076], [-2.499030085999948, 51.96371805100006], [-2.492244414999959, 51.96412848800003], [-2.494912527999929, 51.98107545600004], [-2.48863764999993, 51.98740802300006], [-2.470992777999925, 51.99473601200003], [-2.477664475999973, 52.00015078600006], [-2.485496719999958, 52.00033226000005], [-2.491984455999955, 52.00766180100004], [-2.479364062999935, 52.01707730600003], [-2.478932235999935, 52.022530377000066], [-2.464068282999961, 52.023268259000076], [-2.463255472999947, 52.01434030200005], [-2.436594115999981, 52.01481432200006], [-2.43363713399998, 52.00787937800004], [-2.437293845999932, 51.997166994000054], [-2.413177279999957, 51.99409256700005], [-2.39901832399994, 51.99614591900007], [-2.392891820999978, 52.01295882900007], [-2.386982791999969, 52.01216651300007], [-2.351378565999937, 52.02135900700006], [-2.352542615999937, 52.01353532600007], [-2.34049314799995, 52.00674046300003], [-2.329423205999944, 52.00682856600008], [-2.324709853999934, 52.003567212000064], [-2.320656766999946, 51.992128388000026], [-2.326565192999965, 51.975810695000064], [-2.312619469999959, 51.97650494000004], [-2.309465355999976, 51.97064668400003], [-2.300432846999968, 51.96677520500003], [-2.282208956999966, 51.970716132000064], [-2.25135998199994, 51.96656506000005], [-2.220613397999955, 51.99549660900004], [-2.202886122999928, 51.99636302400006], [-2.185084210999946, 51.990560763000076], [-2.179425789999925, 51.99484752600006], [-2.180748490999974, 51.999615145000064], [-2.171422283999959, 51.99475792800007], [-2.164915375999954, 51.99595951100008], [-2.164723454999944, 52.00419537500005], [-2.18406573599998, 52.01390115000004], [-2.187683193999931, 52.019080159000055], [-2.176883030999932, 52.022616665000044], [-2.180451242999936, 52.042262453000035], [-2.16203631999997, 52.05056721600005], [-2.142281227999945, 52.04568833700006], [-2.133231167999952, 52.04623109900007], [-2.118383793999953, 52.04210860000006], [-2.11608967799998, 52.03786992200003], [-2.117922627999974, 52.03307152700006], [-2.140039636999973, 52.027271635000034], [-2.150733102999936, 52.00661338700007], [-2.139063743999941, 52.003949850000026], [-2.140687153999977, 51.999464336000074], [-2.135217421999926, 51.999703], [-2.13073836999996, 52.00643992000005], [-2.112140944999965, 52.01534755000006], [-2.084873146999939, 52.01047837300007], [-2.06077204099995, 52.01467873000007], [-2.059293521999962, 52.009473839000066], [-2.048683191999942, 52.00711509200005], [-2.049514009999939, 52.003796229000045], [-2.038356018999934, 52.00460057400005], [-2.038252345999979, 52.00956295000003], [-2.027000133999934, 52.01059962000005], [-2.029271584999947, 52.012839719000056], [-2.023667406999948, 52.016947979000065], [-1.998565281999959, 52.02966759900005], [-1.995189487999937, 52.026563030000034], [-1.984135769999966, 52.03587933000006], [-1.951387542999953, 52.03772524000004], [-1.947520940999937, 52.03189492700005], [-1.931729943999926, 52.02995938500004], [-1.927044603999946, 52.03666091500003], [-1.922157293999931, 52.035615018000044], [-1.91344602099997, 52.044461280000064], [-1.86226894899994, 52.01748528500008], [-1.861543489999974, 52.01262767900005], [-1.83905079799996, 52.00678342900005], [-1.835308904999977, 52.00916241400006], [-1.835659419999956, 52.02250237800007], [-1.825022926999964, 52.03093347500004], [-1.830560572999957, 52.03213901500004], [-1.829751237999972, 52.039071602000035], [-1.834588863999954, 52.04373304300003], [-1.863449264999929, 52.05341761600005], [-1.862877672999957, 52.06343189800003], [-1.864988314999948, 52.06627821600006], [-1.87168238199996, 52.06542617200006], [-1.874406200999942, 52.069990923000034], [-1.868734153999981, 52.073917427000026], [-1.853238230999978, 52.07241301400006], [-1.846619634999968, 52.079421119000074], [-1.831752908999931, 52.07276952900003], [-1.818943371999978, 52.08540440500008], [-1.812736812999958, 52.07874398900003], [-1.802288916999942, 52.09694149200004], [-1.790135072999931, 52.10059150200004], [-1.789417259999937, 52.10637487500003], [-1.767648769999937, 52.112592558000074], [-1.746022595999932, 52.09295996800006]]], [[[-6.276003847999959, 49.92107157200007], [-6.287829019999947, 49.91002215600008], [-6.303003856999965, 49.91153326400007], [-6.303955070999962, 49.90304106900004], [-6.304115545999935, 49.90315563200005], [-6.31287819399995, 49.91323906900004], [-6.313284540999973, 49.91301593500003], [-6.317100787999948, 49.91084264300008], [-6.322545290999926, 49.90775219100004], [-6.32764388399994, 49.91257474400004], [-6.309094228999925, 49.91661846100004], [-6.313856746999932, 49.927538748000075], [-6.311017356999969, 49.92917324600006], [-6.297774669999967, 49.936794055000064], [-6.288646853999978, 49.93333609600006], [-6.277389733999939, 49.92906977500007], [-6.276775704999977, 49.92883701100004], [-6.276003847999959, 49.92107157200007]]], [[[-4.653237573999945, 51.162321932000054], [-4.670931178999979, 51.15847275600004], [-4.677608068999973, 51.16813601100006], [-4.680568369999946, 51.17245095900006], [-4.678196664999973, 51.17885285600005], [-4.673293869999952, 51.18019400900005], [-4.677519346999929, 51.185343200000034], [-4.674083664999955, 51.185509635000074], [-4.677353057999937, 51.189236710000046], [-4.674527234999971, 51.19029212700008], [-4.678389151999966, 51.19313923000004], [-4.677650482999979, 51.200143995000076], [-4.677043447999949, 51.201877040000056], [-4.661127303999933, 51.175439604000076], [-4.660568944999966, 51.16645020000004], [-4.654377047999958, 51.16421696500004], [-4.653237573999945, 51.162321932000054]]], [[[-6.279708700999947, 49.95745329300007], [-6.284316941999975, 49.95608905900008], [-6.290569908999942, 49.95853504300004], [-6.295973813999979, 49.960651376000044], [-6.302365712999972, 49.96315406200006], [-6.304307602999927, 49.96391426500003], [-6.299198517999969, 49.97068503600008], [-6.295413702999952, 49.97579567000008], [-6.293723450999948, 49.97805299500004], [-6.292276158999925, 49.97998566000007], [-6.290931133999948, 49.974719985000036], [-6.289285873999972, 49.96827706600004], [-6.288748525999949, 49.96617237100003], [-6.285408136999934, 49.965763526000046], [-6.276926027999934, 49.964724895000074], [-6.261576812999976, 49.96284369300008], [-6.275766356999952, 49.958625641000026], [-6.279708700999947, 49.95745329300007]]], [[[-6.320834208999941, 49.95154111900007], [-6.332294707999949, 49.93917445400007], [-6.34078025499997, 49.95427674700005], [-6.342502158999935, 49.957340008000074], [-6.348233160999939, 49.96753202800005], [-6.347988111999939, 49.967684457000075], [-6.31917903599998, 49.953326565000054], [-6.320834208999941, 49.95154111900007]]], [[[-6.327956996999944, 49.894510221000075], [-6.329296150999937, 49.88871707900006], [-6.33833747999995, 49.89341286000007], [-6.34133110199997, 49.88237586400004], [-6.351462796999954, 49.88746009000005], [-6.351754650999965, 49.88760651700005], [-6.353564281999979, 49.88930697500007], [-6.35417737299997, 49.890781006000054], [-6.357087773999979, 49.897777047000034], [-6.350934709999933, 49.898251249000054], [-6.349591640999961, 49.89835044000006], [-6.338410959999976, 49.896493692000035], [-6.328200253999967, 49.894668255000056], [-6.327956996999944, 49.894510221000075]]], [[[-1.956764264999947, 50.688219434000075], [-1.983545738999965, 50.68707492100003], [-1.988088473999937, 50.69245328200003], [-1.974168873999929, 50.69722772400007], [-1.958155444999932, 50.69493042300007], [-1.956764264999947, 50.688219434000075]]], [[[-6.34807363699997, 49.955652634000046], [-6.352299848999962, 49.94454735200003], [-6.359653273999925, 49.948621477000074], [-6.362687430999927, 49.950302184000066], [-6.365043753999942, 49.95160728500008], [-6.363948253999979, 49.95427802200004], [-6.362306128999933, 49.958140756000034], [-6.360391369999945, 49.96294744200003], [-6.358893945999966, 49.96659632600006], [-6.355468064999968, 49.963543479000066], [-6.34807363699997, 49.955652634000046]]]], &quot;type&quot;: &quot;MultiPolygon&quot;}, &quot;properties&quot;: {&quot;CreationDate&quot;: &quot;2022-04-01T08:52:11Z&quot;, &quot;Creator&quot;: &quot;hsc_map_england&quot;, &quot;EditDate&quot;: &quot;2022-04-01T08:52:11Z&quot;, &quot;Editor&quot;: &quot;hsc_map_england&quot;, &quot;FID&quot;: 3, &quot;GlobalID&quot;: &quot;{AC05228E-25F8-4434-8747-4DE400E72808}&quot;, &quot;Notes&quot;: null, &quot;SHAPE_Area&quot;: 3.0783422516601835, &quot;SHAPE_Length&quot;: 19.82448239921256, &quot;bng_e&quot;: 285015, &quot;bng_n&quot;: 102567, &quot;lat&quot;: 50.811192, &quot;long&quot;: -3.63343, &quot;nhser19cd&quot;: &quot;E40000006&quot;, &quot;nhser19nm&quot;: &quot;South West&quot;, &quot;objectid&quot;: 3, &quot;st_areasha&quot;: 24026240845.372875, &quot;st_lengths&quot;: 1676792.3307430902}, &quot;type&quot;: &quot;Feature&quot;}, {&quot;geometry&quot;: {&quot;coordinates&quot;: [[[[0.977626595000061, 52.97989176400006], [1.124616670000023, 52.95126543900005], [1.272291315000075, 52.93585716700005], [1.301066483000056, 52.93283205100005], [1.360932124000044, 52.90985656300006], [1.428712193000024, 52.88377778700004], [1.442358912000032, 52.87670533800008], [1.58671256100007, 52.80165948300004], [1.675150264000024, 52.74264750700007], [1.675367682000058, 52.74246239400003], [1.699453358000028, 52.719907602000035], [1.737039190000075, 52.647323322000034], [1.739864136000051, 52.57305390700003], [1.730069060000062, 52.58199353500004], [1.732506436000051, 52.57206389700008], [1.738654784000062, 52.57197584600004], [1.731794286000024, 52.564714268000046], [1.733864141000026, 52.55692968100004], [1.732843621000029, 52.556880955000054], [1.735970138000027, 52.549006589000044], [1.738691423000034, 52.538764883000056], [1.740460580000047, 52.53210424700006], [1.76357119000005, 52.48163506700007], [1.757644887000026, 52.47692769300005], [1.756198262000055, 52.47155326200004], [1.753224773000056, 52.46827450400008], [1.752096678000044, 52.46769148200008], [1.750292840000043, 52.46504100100003], [1.73481632000005, 52.44801433500004], [1.734731963000058, 52.44787011400007], [1.734256506000065, 52.44734521400005], [1.733809737000058, 52.44396395600006], [1.729321685000059, 52.40996215400003], [1.727824661000056, 52.39860549700006], [1.71884452200004, 52.384004090000076], [1.683769849000043, 52.326870119000034], [1.67552678200002, 52.313418753000064], [1.667686039000046, 52.31177130400005], [1.667189529000041, 52.311666959000036], [1.664456947000076, 52.30882859900004], [1.634525507000035, 52.27770938400005], [1.632915848000039, 52.27603436800007], [1.622466540000062, 52.18672686100007], [1.621947702000057, 52.18555890600004], [1.591075029000024, 52.11594328900003], [1.580102844000066, 52.09114532800004], [1.499791311000024, 52.061262406000026], [1.486281142000053, 52.05622583300004], [1.49983364000002, 52.06180400300008], [1.542121529000042, 52.079190047000054], [1.517956667000021, 52.07587368000003], [1.51051560600007, 52.06956212500006], [1.501318026000035, 52.07068503000005], [1.500484954000058, 52.070133499000065], [1.462277697000047, 52.044817213000044], [1.450921600000072, 52.03009665900004], [1.431963927000027, 52.00570989300007], [1.394207996000034, 51.98725354800007], [1.388536313000031, 51.999397008000074], [1.361575750000043, 52.00619190300006], [1.391467058000046, 51.989324948000046], [1.388767502000064, 51.979339425000035], [1.386116766000043, 51.97798530800003], [1.344921726000052, 51.95692305700004], [1.319048133000024, 51.932388538000055], [1.315896433000034, 51.95119425100006], [1.282570356000065, 51.96606183600005], [1.28041975900004, 51.99308532800006], [1.215448792000075, 52.00651436000004], [1.204356498000038, 52.01109793300003], [1.194730987000071, 52.015073812000026], [1.177185075000068, 52.02231747800005], [1.160214111000073, 52.030697461000045], [1.153509952000036, 52.03400634600007], [1.170904806000067, 52.01571762300006], [1.172363799000038, 52.01418288000008], [1.203576426000041, 52.000190658000065], [1.211532398000031, 51.996621411000035], [1.267389189000028, 51.98782895100004], [1.275836520000041, 51.95652942400005], [1.242976913000064, 51.96141360000007], [1.219657378000022, 51.952863904000026], [1.200323387000026, 51.95459608600004], [1.187335283000039, 51.95575783600003], [1.16354272600006, 51.97052515400003], [1.130418067000051, 51.95355590100007], [1.086132121000048, 51.958933125000044], [1.066050865000022, 51.94899545100003], [1.058813607000047, 51.955931046000046], [1.063638808000064, 51.94845659500004], [1.055728435000049, 51.95215410600008], [1.053919700000051, 51.95299939600005], [1.061876799000061, 51.94594551400007], [1.119438528000046, 51.940039813000055], [1.170289020000041, 51.94800580500004], [1.187399761000052, 51.94074934400004], [1.199449898000069, 51.94233415300005], [1.219096271000069, 51.944915019000064], [1.227412952000066, 51.939474088000054], [1.245512846000054, 51.948164260000055], [1.246859909000023, 51.94829864700006], [1.277219384000034, 51.93931791700004], [1.291700185000025, 51.94934304800006], [1.296621802000061, 51.935580310000034], [1.284668723000038, 51.93667350700008], [1.253420521000066, 51.917869222000036], [1.246627782000076, 51.891310161000035], [1.231648413000073, 51.88742619800007], [1.226012406000052, 51.90374028700006], [1.212076310000043, 51.89657913900004], [1.228309118000027, 51.890538262000064], [1.212516548000053, 51.89038441400004], [1.199016333000031, 51.88478748700004], [1.209786436000059, 51.87849465900007], [1.194674054000075, 51.87512445800007], [1.178206998000064, 51.871449332000054], [1.19439138000007, 51.87113715600003], [1.20778053500004, 51.87087720000005], [1.224424188000057, 51.880581075000066], [1.21275752400004, 51.86994891100005], [1.228494302000058, 51.87260824800006], [1.232407767000041, 51.85507406800008], [1.237152836000064, 51.86197162500008], [1.249293720000026, 51.86230676000008], [1.249925179000059, 51.85611373100005], [1.252553798000065, 51.86375909900005], [1.269971911000027, 51.86365719600008], [1.267788633000066, 51.87709898800006], [1.29058993700005, 51.87297338700006], [1.287234505000072, 51.85927199200006], [1.24913142500003, 51.83369700900005], [1.204824361000021, 51.80390462200006], [1.18922821600006, 51.798166190000074], [1.181532902000072, 51.79533346300008], [1.127495408000073, 51.77668220600003], [1.05500672300002, 51.76957360700004], [1.043376316000035, 51.76970815100003], [1.029243840000049, 51.78869111100005], [1.03624306100005, 51.782645383000045], [1.037624139000059, 51.79001456800006], [1.017750238000076, 51.80128522700005], [1.049395359000073, 51.80140578000004], [1.063025200000027, 51.810941280000065], [1.067797193000047, 51.82108732300003], [1.058618691000049, 51.811273021000034], [1.026166989000046, 51.80461608100006], [0.994185512000058, 51.81594901700004], [0.983827873000052, 51.82839031200007], [0.991490192000072, 51.83840470400003], [0.98692963000002, 51.84065236600003], [0.980295615000045, 51.84392121700006], [0.980532766000067, 51.84081473600003], [0.982322645000067, 51.81735872200005], [0.952979581000022, 51.82431154600005], [0.981848747000072, 51.81197295000004], [0.929700246000039, 51.807828321000045], [0.937152458000071, 51.805859774000055], [0.907323579000035, 51.79921502000008], [0.898484598000039, 51.78841379600004], [0.889912502000072, 51.77793299600006], [0.865036014000054, 51.78427154500008], [0.867291004000037, 51.78290211600006], [0.894608811000069, 51.76630242400006], [0.860358560000066, 51.76885270500003], [0.857433248000063, 51.77500009500005], [0.842443021000065, 51.77290915000003], [0.882708038000033, 51.757681098000035], [0.856248301000051, 51.74380134100005], [0.847764320000067, 51.74030362000008], [0.813690923000024, 51.73852189100006], [0.792287590000058, 51.74516359000006], [0.788632321000023, 51.73665330400007], [0.776743356000054, 51.743983273000026], [0.735922824000056, 51.729417743000056], [0.71344649200006, 51.73759976600007], [0.705450831000064, 51.72385303500005], [0.68696800400005, 51.73108544000007], [0.711207720000061, 51.71348637600005], [0.769185518000029, 51.708359243000075], [0.737834658000054, 51.68720439800006], [0.756936726000049, 51.69072639600006], [0.766957965000074, 51.702744755000026], [0.795624585000041, 51.70814855000003], [0.793478912000069, 51.71807837000006], [0.819724651000058, 51.72108118700004], [0.837023191000071, 51.71575733200007], [0.868682660000047, 51.72230577200003], [0.894084616000043, 51.74300029600005], [0.895588312000029, 51.743196229000034], [0.929351164000025, 51.74759005400006], [0.950578970000038, 51.73077873700004], [0.939342427000042, 51.66197130000006], [0.934586257000035, 51.63277507600003], [0.910907955000027, 51.62467400700007], [0.90433153500004, 51.62242260900007], [0.901003962000061, 51.62233640900007], [0.887863111000058, 51.621995052000045], [0.859078181000029, 51.62124215400007], [0.794569526000032, 51.62554180500007], [0.765755080000019, 51.63794997700006], [0.766517484000076, 51.63739233500007], [0.771405630000061, 51.633816583000055], [0.784418833000075, 51.62429637500003], [0.865747040000031, 51.61556981100006], [0.86613812500002, 51.599216341000044], [0.820139598000026, 51.59899796600007], [0.806099226000072, 51.60896797100003], [0.819085880000046, 51.59758427000003], [0.776154758000075, 51.58334784600004], [0.805932493000057, 51.586122008000075], [0.793474657000047, 51.57633440700005], [0.808062449000033, 51.57873200800003], [0.817822952000029, 51.561996744000055], [0.850680729000032, 51.556320105000054], [0.821187821000024, 51.54062871700006], [0.782721016000039, 51.521250578000036], [0.670165223000026, 51.53834386300008], [0.643059566000034, 51.54108763700003], [0.627203425000062, 51.538038838000034], [0.625507749000064, 51.53775593900008], [0.610351483000045, 51.535226083000055], [0.594112348000067, 51.538206297000045], [0.56071481500004, 51.54432711800007], [0.593733168000028, 51.531542339000055], [0.598785229000043, 51.529584767000074], [0.631588925000074, 51.525240573000076], [0.618845492000048, 51.51984729000003], [0.636880210000072, 51.521971214000075], [0.59263020100002, 51.51212867100003], [0.573330418000069, 51.50782899300003], [0.553567186000066, 51.50993553200004], [0.54854904900003, 51.513827295000056], [0.543516555000053, 51.51772932700004], [0.539864514000044, 51.520560457000045], [0.528761486000064, 51.51829200800006], [0.517361511000047, 51.52982683100004], [0.522193879000042, 51.51596648200007], [0.541334905000042, 51.512613325000075], [0.508165292000058, 51.50519614400008], [0.455596748000062, 51.50684359100006], [0.445602651000058, 51.49817942100003], [0.444188671000063, 51.49345544000005], [0.438320869000052, 51.47384095100006], [0.430411365000055, 51.459289256000034], [0.404913223000051, 51.453929198000026], [0.340845315000024, 51.452327738000065], [0.318544569000039, 51.47412912400006], [0.302379814000062, 51.47261178600007], [0.29780622800007, 51.47218206100007], [0.281402126000046, 51.461398460000055], [0.211787909000066, 51.48974140900003], [0.214157298000032, 51.496040125000036], [0.229965660000062, 51.49936594300004], [0.226597242000025, 51.50656238500005], [0.242019589000051, 51.507966269000065], [0.237175887000035, 51.51933463700004], [0.244905435000021, 51.51875917500007], [0.240694713000039, 51.52195583900004], [0.248965144000067, 51.52867418300008], [0.253834581000035, 51.51788643700007], [0.263682397000025, 51.51786932600004], [0.265347145000021, 51.53215013700003], [0.297755494000057, 51.53531861400006], [0.300722808000046, 51.53875600100008], [0.33402409100006, 51.540503683000054], [0.327815465000072, 51.550993918000074], [0.315250598000034, 51.55788856200007], [0.313035218000039, 51.565818154000056], [0.290289908000034, 51.56429940900006], [0.286752804000059, 51.57346386800003], [0.271288417000051, 51.58903030700003], [0.26987796700007, 51.59957389600004], [0.254009120000035, 51.601598212000056], [0.264561739000044, 51.60832063400005], [0.252194294000049, 51.61776943000007], [0.224087361000045, 51.63173732100006], [0.200311172000056, 51.62493583200006], [0.181237295000074, 51.625826163000056], [0.168901257000073, 51.62142016100006], [0.138184283000044, 51.62354496100005], [0.119307187000061, 51.61536849100003], [0.092284925000058, 51.61357428100007], [0.09482489100003, 51.61078411700004], [0.088922328000024, 51.60485356000004], [0.079169811000043, 51.60704739800008], [0.072832267000024, 51.60468744700006], [0.048214514000051, 51.61321365200007], [0.053709816000037, 51.61828078900004], [0.040902063000033, 51.61567598600004], [0.021819184000037, 51.62883278700008], [0.025738362000027, 51.63456546500004], [0.022719672000051, 51.64111544500008], [0.00142562700006, 51.64167858300004], [-0.012258997999936, 51.64623110000008], [-0.00892264099997, 51.66040080800008], [-0.011918499999979, 51.680877863000035], [-0.049181031999979, 51.684271866000074], [-0.062017829999945, 51.68300783400008], [-0.083910971999956, 51.689964803000066], [-0.10484878099993, 51.69185056600003], [-0.149370295999972, 51.685518082000044], [-0.163493488999961, 51.68811511400003], [-0.163607824999929, 51.682403116000046], [-0.17157504599993, 51.67402078500004], [-0.182085054999959, 51.668604162000065], [-0.191007730999956, 51.66394832100008], [-0.196648885999934, 51.66549805100004], [-0.194852757999968, 51.668305306000036], [-0.203352722999966, 51.67012609300008], [-0.202229747999979, 51.66780517400008], [-0.211134673999936, 51.66695453700004], [-0.207864401999927, 51.66286082900007], [-0.212167362999935, 51.66133689600008], [-0.226462544999947, 51.65716186700007], [-0.228919129999952, 51.65997502300007], [-0.250582544999929, 51.65605731200003], [-0.257332869999971, 51.641831911000054], [-0.263205041999925, 51.644812761000026], [-0.272824263999951, 51.642064540000035], [-0.273713724999936, 51.63867397100006], [-0.304458959999977, 51.63635084500004], [-0.316673331999937, 51.64053541900006], [-0.338283839999974, 51.629472589000045], [-0.359768111999927, 51.62523845700008], [-0.375839550999956, 51.61818782600005], [-0.404050084999938, 51.613183950000064], [-0.440504038999961, 51.62008773400004], [-0.457130587999927, 51.612293917000045], [-0.496846264999931, 51.63173308800003], [-0.500308113999949, 51.628805440000065], [-0.500154676999955, 51.62206768400006], [-0.495388798999954, 51.618793036000056], [-0.499231556999973, 51.60892808800003], [-0.496306502999971, 51.60242985200006], [-0.500596102999964, 51.59969021900008], [-0.520594997999979, 51.60184362100006], [-0.530059318999974, 51.61715117800003], [-0.534130523999977, 51.637150864000034], [-0.539260766999973, 51.638039727000034], [-0.530927634999955, 51.649133472000074], [-0.536665919999962, 51.65236952500004], [-0.536891632999925, 51.660624495000036], [-0.532625936999978, 51.663007159000074], [-0.522777694999945, 51.65839760400007], [-0.520994516999963, 51.66804528400007], [-0.514718220999953, 51.665453280000065], [-0.505107985999928, 51.67307687300007], [-0.511145078999959, 51.67989587300008], [-0.52493411699993, 51.67872096500008], [-0.524272915999973, 51.68211264300004], [-0.538889222999956, 51.67983420500008], [-0.54869601799993, 51.682671267000046], [-0.544017566999969, 51.696816872000056], [-0.547668103999968, 51.70318141400003], [-0.563209774999962, 51.71187981600008], [-0.56130247599998, 51.718018733000065], [-0.55041360599995, 51.723042898000074], [-0.553596563999974, 51.72841075000008], [-0.550082996999947, 51.73057502100005], [-0.553720127999952, 51.73406476800005], [-0.560649616999967, 51.73408507400006], [-0.559236898999927, 51.73732470900006], [-0.565387066999961, 51.73642157000006], [-0.563699941999971, 51.73961731700007], [-0.570207171999925, 51.73585253400006], [-0.575012461999961, 51.737044714000035], [-0.58637982099998, 51.75211596500003], [-0.612935972999935, 51.747427222000056], [-0.617285931999959, 51.752649656000074], [-0.643249373999936, 51.75396831100005], [-0.669663439999965, 51.76616007400003], [-0.675999164999951, 51.77125705900005], [-0.68149982999995, 51.78805908900006], [-0.690186172999972, 51.79233001000006], [-0.682190101999936, 51.79458421600003], [-0.685394222999946, 51.800185869000074], [-0.709282722999944, 51.82053371000006], [-0.719216955999968, 51.81613792200005], [-0.723653628999955, 51.81777306600003], [-0.745248372999924, 51.83837652200003], [-0.745677647999969, 51.84209358500004], [-0.736408642999947, 51.842377310000074], [-0.731187792999947, 51.84897048800008], [-0.722622569999942, 51.85000573500008], [-0.72025377999995, 51.856146041000045], [-0.710456612999963, 51.85779751000007], [-0.707090755999957, 51.85441659800006], [-0.696373419999929, 51.85813598200008], [-0.686767725999971, 51.84924026700003], [-0.695444873999975, 51.841103719000046], [-0.687053713999944, 51.83911530100005], [-0.667200507999951, 51.815807032000066], [-0.647784118999937, 51.81360784900005], [-0.63295263599997, 51.819942781000066], [-0.611869371999944, 51.81204478500007], [-0.594832207999957, 51.81402297200003], [-0.591640479999967, 51.808131580000065], [-0.581825579999929, 51.80690541000007], [-0.575157468999976, 51.81881899700005], [-0.567144585999927, 51.81980517000005], [-0.560775222999951, 51.82637984300004], [-0.558348378999938, 51.824787893000064], [-0.560656144999939, 51.830082669000035], [-0.557149802999959, 51.83096896300003], [-0.55362867499997, 51.826712701000076], [-0.548992232999979, 51.82798605800008], [-0.543650578999973, 51.824517797000055], [-0.537628251999934, 51.83141087100006], [-0.564466050999954, 51.84742783100006], [-0.566809238999952, 51.850813524000046], [-0.563679929999978, 51.85123941900008], [-0.568718409999974, 51.85140139900005], [-0.571433807999938, 51.85502620800003], [-0.56924812699998, 51.85807046000008], [-0.583563470999934, 51.87032375500007], [-0.60897053399998, 51.87556404400004], [-0.620089027999938, 51.88548547600004], [-0.628424439999947, 51.88212032100006], [-0.651980197999933, 51.88679048200004], [-0.67296915299994, 51.901752671000054], [-0.692702826999948, 51.90015020000004], [-0.702156653999964, 51.90911910400007], [-0.74137813599998, 51.92838809400007], [-0.754738716999952, 51.939772565000055], [-0.750832357999968, 51.942305443000066], [-0.758785601999932, 51.94587587500007], [-0.785099027999934, 51.94214446400008], [-0.797680894999928, 51.949634358000026], [-0.79658613099997, 51.94492098200004], [-0.803921127999956, 51.94247779700004], [-0.795183956999949, 51.930554279000035], [-0.800276820999954, 51.92992375600005], [-0.811730732999933, 51.93139399900008], [-0.82056743399994, 51.94160074000007], [-0.833422979999966, 51.94695010100003], [-0.833068798999932, 51.955928097000026], [-0.837572381999962, 51.95724899500004], [-0.817494261999968, 51.96723778200004], [-0.820554054999945, 51.97335209700003], [-0.803504317999966, 51.985503652000034], [-0.807789179999929, 51.99991818700005], [-0.81224320299998, 52.00601568400003], [-0.819223927999928, 52.00704437700006], [-0.819817149999949, 52.01228572800005], [-0.844877555999972, 52.02268178600008], [-0.866951706999942, 52.040098484000055], [-0.871325790999947, 52.04025177700004], [-0.867733959999953, 52.04622094700005], [-0.859422823999978, 52.044602190000035], [-0.852446743999963, 52.05070520000004], [-0.86040282099998, 52.054525427000044], [-0.862678591999952, 52.06093402500005], [-0.857358639999973, 52.06409057600007], [-0.839500159999943, 52.06382756000005], [-0.831418075999977, 52.07194703300007], [-0.846712588999935, 52.09150873800007], [-0.854779056999973, 52.092354346000036], [-0.857943173999956, 52.09751847300004], [-0.869530249999968, 52.10003781900008], [-0.865270005999946, 52.10293749300007], [-0.87145032899997, 52.111753443000055], [-0.88701545899994, 52.11420954300007], [-0.880682842999931, 52.12019063200006], [-0.880703205999964, 52.126338229000055], [-0.869000242999959, 52.13062006100006], [-0.832054852999931, 52.13125880100006], [-0.828204869999979, 52.13261056600004], [-0.831966593999937, 52.143683450000026], [-0.81404135899993, 52.14247232200006], [-0.807588082999928, 52.15697901300007], [-0.801956644999962, 52.15867872900003], [-0.792091128999971, 52.15132945600004], [-0.77787812899993, 52.16877087900008], [-0.765331495999931, 52.17109922900005], [-0.761890176999941, 52.16348069600008], [-0.75719096499995, 52.16732897000003], [-0.749734760999957, 52.166876785000056], [-0.738949652999963, 52.17117753600007], [-0.729260287999978, 52.179473235000046], [-0.701671491999946, 52.193308460000026], [-0.684653641999944, 52.196336157000076], [-0.66813590299995, 52.195034030000045], [-0.661460463999958, 52.208125901000074], [-0.63733179299993, 52.22731763000007], [-0.653655657999934, 52.268289390000064], [-0.639908375999937, 52.27244193400003], [-0.631412435999948, 52.27004775700004], [-0.624818668999978, 52.27564866600005], [-0.603249971999958, 52.27874571800004], [-0.586328305999928, 52.27291391000006], [-0.588110868999934, 52.27077847100003], [-0.565693066999927, 52.25346843500006], [-0.554737888999966, 52.25817983700006], [-0.541972248999969, 52.25607270200004], [-0.539324995999948, 52.26609468400005], [-0.531190075999973, 52.27040236400006], [-0.534002818999966, 52.28119096700004], [-0.541969092999977, 52.289942376000056], [-0.514051000999928, 52.31469705400008], [-0.51982989499993, 52.317692513000054], [-0.487140108999938, 52.32108280600005], [-0.476261607999959, 52.31806358000006], [-0.465365653999925, 52.32295327500003], [-0.466656530999956, 52.33892760500004], [-0.483263889999932, 52.34090342500008], [-0.477682216999938, 52.348920116000045], [-0.49869984299994, 52.36009616500007], [-0.499486856999965, 52.36699296100005], [-0.488518732999978, 52.37402356700005], [-0.501785650999977, 52.38358264900006], [-0.493889423999974, 52.38737180500004], [-0.492832266999926, 52.39386052300006], [-0.518163499999957, 52.39809169100005], [-0.51594605899993, 52.407358842000065], [-0.533554909999964, 52.40889916000003], [-0.523034003999953, 52.415885555000045], [-0.500647164999975, 52.42048768600006], [-0.501904439999976, 52.426945630000034], [-0.51868077599994, 52.429313844000035], [-0.518877445999976, 52.43647477400003], [-0.514264131999937, 52.438402213000074], [-0.503956638999966, 52.436588218000054], [-0.493443285999945, 52.44169764600008], [-0.47045865299998, 52.46371178900006], [-0.471907846999954, 52.46671015100003], [-0.480671488999974, 52.47218150500004], [-0.498502901999927, 52.47052916700005], [-0.509351558999924, 52.47438204900004], [-0.514162166999938, 52.47235665900007], [-0.518885704999946, 52.473967909000066], [-0.515087127999948, 52.48135291700004], [-0.524360169999966, 52.478793292000034], [-0.527321580999967, 52.48094836300004], [-0.523108152999953, 52.47946720900006], [-0.515222256999948, 52.488326148000056], [-0.507033446999969, 52.49119184700004], [-0.499556198999926, 52.490562383000054], [-0.499567471999967, 52.49438640200003], [-0.512366363999945, 52.49823332700004], [-0.522173469999927, 52.49659845600007], [-0.546760482999957, 52.51323378400008], [-0.569914322999978, 52.50958206200005], [-0.577729243999954, 52.50252157700004], [-0.596387450999941, 52.49694447200005], [-0.608129265999935, 52.50619613300006], [-0.60857797999995, 52.50929703500003], [-0.597683094999979, 52.51166503200005], [-0.605569375999949, 52.51427478700003], [-0.629673109999942, 52.51127474400005], [-0.63601744999994, 52.515913338000075], [-0.672133831999929, 52.506944849000035], [-0.674667823999926, 52.51322175800004], [-0.665337595999972, 52.51796831100006], [-0.649374492999925, 52.51892101900006], [-0.635842867999941, 52.52389252000006], [-0.643134028999953, 52.53635730700006], [-0.669461300999956, 52.54491392500006], [-0.665579737999963, 52.55225241800008], [-0.674864129999946, 52.55863829500004], [-0.671287188999941, 52.56410604000007], [-0.660888473999933, 52.56892191700007], [-0.649376688999951, 52.57054279600004], [-0.64676099899998, 52.573791705000076], [-0.638082007999969, 52.571775503000026], [-0.603018909999946, 52.58859110600008], [-0.586972625999977, 52.58742889600006], [-0.581546903999936, 52.59586830100005], [-0.577955904999953, 52.58789804700007], [-0.571903500999952, 52.58580345300004], [-0.562286286999949, 52.586461102000044], [-0.558117764999963, 52.594483996000065], [-0.544173563999948, 52.592888361000064], [-0.542929478999952, 52.59568347900006], [-0.552938802999961, 52.60134893900005], [-0.54755918799998, 52.606956112000034], [-0.550131070999953, 52.61225067200007], [-0.539056883999933, 52.61787550000008], [-0.54026079099998, 52.62596580200005], [-0.523420096999928, 52.63509208900007], [-0.517397311999957, 52.64237946600008], [-0.495025581999926, 52.64023632700008], [-0.484320231999959, 52.646128959000066], [-0.475244872999951, 52.64505783100003], [-0.475831394999943, 52.648714753000036], [-0.453036127999951, 52.649245386000075], [-0.452694473999941, 52.65427770100007], [-0.431987033999974, 52.648267668000074], [-0.405681401999971, 52.64804623100008], [-0.393103031999942, 52.65410129600008], [-0.350222258999963, 52.66161480800008], [-0.336313508999979, 52.66856241100004], [-0.334984945999963, 52.67487069300006], [-0.289240446999941, 52.67027625400004], [-0.260628212999961, 52.651413364000064], [-0.224498250999943, 52.66546363600003], [-0.206037421999952, 52.66807329300008], [-0.192867710999963, 52.65243858000008], [-0.180020170999967, 52.660561021000035], [-0.141062125999952, 52.651507423000055], [-0.139501385999949, 52.65486182700005], [-0.102196012999968, 52.67220608100007], [-0.087752502999933, 52.666785995000055], [-0.074611191999963, 52.67207407800004], [-0.065445314999977, 52.671995853000055], [-0.063714008999966, 52.67523308300008], [-0.032504273999962, 52.665544354000076], [-0.031270320999965, 52.66153260600004], [0.020673403000046, 52.66472790900008], [0.048848260000057, 52.681770708000045], [0.044149345000051, 52.71438221300008], [0.063362036000058, 52.72727189400007], [0.089011690000063, 52.72363002000003], [0.098789035000038, 52.73034044900004], [0.11368507800006, 52.729990119000036], [0.132974708000063, 52.739304153000035], [0.170181297000056, 52.73989425000008], [0.171625856000048, 52.738031711000076], [0.186323617000028, 52.735348756000064], [0.233163126000022, 52.760265350000054], [0.272208569000043, 52.77280630400003], [0.245084708000036, 52.78452382200004], [0.251998115000049, 52.792563320000056], [0.260905381000043, 52.796056468000074], [0.253178250000076, 52.79735518900003], [0.262704527000039, 52.803607631000034], [0.268790663000061, 52.81582835200004], [0.331642243000033, 52.818006988000036], [0.338577493000059, 52.81511304700007], [0.338763717000063, 52.81503533000006], [0.351260210000021, 52.80981877700003], [0.366635715000029, 52.79111975400008], [0.370988272000034, 52.78388647700007], [0.374303288000021, 52.77837590900003], [0.37111569700005, 52.78622995600006], [0.367079088000025, 52.79617230500003], [0.357429020000041, 52.81171950700008], [0.372903765000046, 52.81907798600008], [0.444915922000064, 52.85326076000007], [0.445457944000054, 52.873901809000074], [0.480333797000071, 52.93151383500003], [0.490501165000069, 52.94827782800007], [0.541665955000042, 52.975869214000056], [0.56266643400005, 52.97659262900004], [0.571485149000068, 52.96790843400004], [0.586419009000053, 52.973172788000056], [0.604012, 52.967594], [0.589322046000063, 52.97675938200007], [0.617857088000051, 52.97363357900008], [0.616287628000066, 52.96851129300006], [0.61992125200004, 52.973775156000045], [0.674037487000021, 52.97615989800005], [0.667567381000026, 52.97015124500007], [0.679261147000034, 52.973554973000034], [0.695141898000031, 52.97817470400008], [0.708703961000026, 52.974094953000076], [0.731653442000038, 52.97224487100004], [0.737357999000039, 52.96432149300006], [0.757875479000063, 52.96934639400007], [0.761332908000043, 52.975825032000046], [0.751646967000056, 52.97713957800005], [0.781344989000047, 52.97668622200007], [0.813782607000064, 52.969817911000064], [0.813785481000025, 52.977384], [0.851728269000034, 52.97342022600003], [0.850992504000033, 52.957779423000034], [0.870476587000041, 52.95493259700004], [0.875247678000051, 52.96018861200008], [0.917779114000041, 52.96042841800005], [0.919698874000062, 52.96564643700003], [0.935391972000048, 52.95884164700004], [0.976467172000071, 52.96303265800003], [0.983985948000054, 52.963798172000054], [1.014507560000027, 52.962999667000076], [1.015370332000032, 52.95547965600008], [1.018594989000064, 52.96410550500008], [1.03576948400007, 52.96710680700005], [0.991192905000048, 52.976318287000026], [0.977268437000021, 52.97468295600004], [0.957814093000025, 52.97239537000007], [0.977626595000061, 52.97989176400006]]], [[[0.884470370000031, 51.568500544000074], [0.866370064000023, 51.55894084200003], [0.825779682000075, 51.564466682000045], [0.846459621000065, 51.58143299500006], [0.837997484000027, 51.593618965000076], [0.866825808000044, 51.59518636300004], [0.874374641000031, 51.61415086100004], [0.887428869000075, 51.615156840000054], [0.903791676000026, 51.61641568300007], [0.916962048000073, 51.61742720600006], [0.957516616000021, 51.620532308000065], [0.929866928000024, 51.592446368000026], [0.884470370000031, 51.568500544000074]]], [[[0.945791283000062, 51.77472581900008], [0.902246805000061, 51.77437220300004], [0.898098915000048, 51.77973065800006], [0.94277399300006, 51.80674623700003], [0.967656003000059, 51.808667627000034], [1.005846115000054, 51.79945688400005], [0.99661366700002, 51.79124549200003], [0.945791283000062, 51.77472581900008]]], [[[0.86992886500002, 52.95806841400008], [0.85240294700003, 52.958124131000034], [0.86746202300003, 52.97940650700008], [0.911242379000043, 52.96543829700005], [0.901060890000053, 52.96169014800006], [0.873120030000052, 52.96103674400007], [0.86992886500002, 52.95806841400008]]], [[[0.83749146200006, 51.58517682000007], [0.822949655000059, 51.564881968000066], [0.808066085000064, 51.58562667400008], [0.830143842000041, 51.59596627900004], [0.83749146200006, 51.58517682000007]]], [[[0.696166405000042, 52.98762097000008], [0.751091162000023, 52.97840329100006], [0.714497792000031, 52.97704981900006], [0.698375896000073, 52.98410167600008], [0.681327900000042, 52.97745860300006], [0.683502846000067, 52.98598744800006], [0.680030948000024, 52.98599445000008], [0.662257329000056, 52.98602874200003], [0.680084899000065, 52.986867043000075], [0.696166405000042, 52.98762097000008]]], [[[1.257035389000066, 51.883732242000065], [1.244557576000034, 51.86883798900004], [1.225911197000073, 51.87506713500005], [1.229424603000041, 51.881427795000036], [1.257035389000066, 51.883732242000065]]], [[[0.787745311000037, 51.722340056000064], [0.772328635000065, 51.71866128100004], [0.75450902800003, 51.72454505700006], [0.777960799000027, 51.72656778400005], [0.787745311000037, 51.722340056000064]]], [[[0.729067483000051, 51.71834762100008], [0.710461853000027, 51.71856436600007], [0.721897837000029, 51.73052509900003], [0.729067483000051, 51.71834762100008]]], [[[1.264548177000052, 51.87226997800008], [1.264700266000034, 51.86396200300004], [1.251413462000073, 51.87094660500003], [1.260115918000054, 51.87232186300008], [1.264548177000052, 51.87226997800008]]], [[[1.277790146000029, 51.87934441300007], [1.272092468000039, 51.87696728200007], [1.26369001200004, 51.886212760000035], [1.277790146000029, 51.87934441300007]]], [[[1.262214596000035, 51.88069421000006], [1.26353529000005, 51.87298976300008], [1.255112883000038, 51.87452838100006], [1.262214596000035, 51.88069421000006]]]], &quot;type&quot;: &quot;MultiPolygon&quot;}, &quot;properties&quot;: {&quot;CreationDate&quot;: &quot;2022-04-01T08:52:11Z&quot;, &quot;Creator&quot;: &quot;hsc_map_england&quot;, &quot;EditDate&quot;: &quot;2022-04-01T08:52:11Z&quot;, &quot;Editor&quot;: &quot;hsc_map_england&quot;, &quot;FID&quot;: 4, &quot;GlobalID&quot;: &quot;{EDAEC776-25D5-48D6-9B17-B1DBE2CCFF6C}&quot;, &quot;Notes&quot;: null, &quot;SHAPE_Area&quot;: 2.6078536876407146, &quot;SHAPE_Length&quot;: 14.190820274536918, &quot;bng_e&quot;: 565965, &quot;bng_n&quot;: 255838, &quot;lat&quot;: 52.17585, &quot;long&quot;: 0.425775, &quot;nhser19cd&quot;: &quot;E40000007&quot;, &quot;nhser19nm&quot;: &quot;East of England&quot;, &quot;objectid&quot;: 4, &quot;st_areasha&quot;: 19816936948.87772, &quot;st_lengths&quot;: 1150814.5918345805}, &quot;type&quot;: &quot;Feature&quot;}, {&quot;geometry&quot;: {&quot;coordinates&quot;: [[[[-0.300930324999968, 53.616388], [-0.298237150999967, 53.612561646000074], [-0.292115056999933, 53.61326741100004], [-0.290418186999943, 53.610631787000045], [-0.286960876999956, 53.61183189700006], [-0.283002814999975, 53.60449824900007], [-0.269704866999973, 53.598509524000065], [-0.259349142999952, 53.59696478300003], [-0.254493569999966, 53.592439590000026], [-0.248494047999941, 53.593633443000044], [-0.251395628999944, 53.58465315500007], [-0.239084435999928, 53.588179739000054], [-0.234658954999929, 53.58624359800007], [-0.22265030799997, 53.568034639000075], [-0.19518508799996, 53.57161904800006], [-0.189609170999972, 53.56625178100006], [-0.18749347399995, 53.56357434800003], [-0.219819247999965, 53.53261558100007], [-0.210589572999936, 53.53170679500005], [-0.213624081999967, 53.52635867600003], [-0.204086558999961, 53.51176738000004], [-0.210604929999931, 53.48628838900004], [-0.188565407999931, 53.484538100000066], [-0.181801854999946, 53.46871146700005], [-0.153709166999931, 53.46573398800007], [-0.158545643999958, 53.461618489000045], [-0.149285426999938, 53.446863300000075], [-0.144445671999961, 53.44095016000006], [-0.134248064999952, 53.440738241000076], [-0.131807213999934, 53.43593741400008], [-0.122634898999934, 53.43725534500004], [-0.120339335999972, 53.43359968000004], [-0.082208968999964, 53.45115092900005], [-0.107864223999968, 53.46989403100008], [-0.089803686999971, 53.47768245900005], [-0.095488517999968, 53.485988958000064], [-0.075261827999952, 53.48933572400006], [-0.064938445999928, 53.518806133000055], [-0.046613277999938, 53.52009865200006], [-0.03968976799996, 53.51310276800007], [-0.028638815999955, 53.51733775100007], [-0.019548458999964, 53.51797529800007], [-0.014525495999976, 53.51541333600005], [0.010638910000068, 53.52146937400005], [0.016776592000042, 53.52572221600008], [0.017274433000068, 53.52535996200004], [0.047383350000075, 53.514659667000046], [0.037764221000032, 53.526719591000074], [0.06483322400004, 53.520379871000046], [0.065442848000032, 53.520237001000055], [0.088237025000069, 53.51489212200005], [0.079610381000066, 53.50332501200006], [0.09313667300006, 53.49396115300004], [0.108625326000038, 53.48880804000004], [0.113319476000072, 53.48724564500003], [0.117850762000046, 53.49323611900007], [0.109367130000066, 53.50377130500004], [0.108946752000065, 53.504293192000034], [0.10938617000005, 53.50415524500005], [0.136308052000061, 53.495698857000036], [0.128575543000068, 53.48459293800005], [0.143836825000051, 53.48196547600003], [0.147475863000068, 53.494127614000035], [0.163571805000061, 53.48213815200006], [0.167623004000063, 53.477072347000046], [0.168030736000048, 53.47656242700003], [0.165564676000031, 53.47710974900008], [0.157359154000062, 53.478930483000056], [0.159329929000023, 53.47722285900005], [0.191420167000047, 53.44939405500003], [0.185045514000024, 53.44350445900005], [0.20072508800007, 53.43632003000005], [0.187804613000026, 53.43770825200005], [0.212471924000056, 53.42139383700004], [0.189536115000067, 53.41731976400007], [0.210577798000031, 53.41696881100006], [0.201353548000043, 53.41514882200005], [0.206353273000047, 53.409985961000075], [0.211927578000029, 53.41600880000004], [0.20810933100006, 53.41051086400006], [0.217540155000052, 53.41345120700004], [0.228357499000026, 53.40586686600005], [0.242546726000057, 53.37296036200007], [0.283099671000059, 53.31983092000007], [0.292371497000033, 53.30559134600003], [0.304588184000067, 53.291619740000044], [0.31847556200006, 53.273366243000055], [0.355627377000076, 53.19205842800005], [0.342653301000041, 53.114135547000046], [0.339855341000032, 53.09728529200004], [0.328343143000041, 53.08945401300008], [0.312468366000076, 53.08916073100005], [0.240999545000022, 53.04676479200003], [0.199581275000071, 53.032649897000056], [0.151425050000057, 53.00810712100008], [0.08404114800004, 52.93912643500005], [0.081697441000074, 52.93672247300003], [0.079027415000041, 52.933983427000044], [0.041888412000048, 52.932711350000034], [0.07837894000005, 52.93203293800008], [0.04998153300005, 52.91789699200007], [0.045585176000031, 52.91570709300004], [0.027124490000062, 52.89849392500008], [0.02999924300002, 52.89988839500006], [0.030217536000066, 52.90000635400003], [0.068550857000048, 52.91873492000008], [0.065089850000049, 52.90460719600003], [0.080003118000036, 52.90136850400006], [0.11372383500003, 52.89403678600007], [0.14920169200002, 52.88275471500003], [0.176331510000068, 52.87411622400003], [0.214268021000066, 52.82895136700006], [0.197208554000042, 52.829749382000045], [0.215079924000065, 52.82848039300006], [0.214918316000023, 52.822849258000076], [0.204372826000053, 52.78156780000006], [0.216813150000064, 52.82088340100006], [0.268790663000061, 52.81582835200004], [0.262704527000039, 52.803607631000034], [0.253178250000076, 52.79735518900003], [0.260905381000043, 52.796056468000074], [0.251998115000049, 52.792563320000056], [0.245084708000036, 52.78452382200004], [0.272208569000043, 52.77280630400003], [0.233163126000022, 52.760265350000054], [0.186323617000028, 52.735348756000064], [0.171625856000048, 52.738031711000076], [0.170181297000056, 52.73989425000008], [0.132974708000063, 52.739304153000035], [0.11368507800006, 52.729990119000036], [0.098789035000038, 52.73034044900004], [0.089011690000063, 52.72363002000003], [0.063362036000058, 52.72727189400007], [0.044149345000051, 52.71438221300008], [0.048848260000057, 52.681770708000045], [0.020673403000046, 52.66472790900008], [-0.031270320999965, 52.66153260600004], [-0.032504273999962, 52.665544354000076], [-0.063714008999966, 52.67523308300008], [-0.065445314999977, 52.671995853000055], [-0.074611191999963, 52.67207407800004], [-0.087752502999933, 52.666785995000055], [-0.102196012999968, 52.67220608100007], [-0.139501385999949, 52.65486182700005], [-0.141062125999952, 52.651507423000055], [-0.180020170999967, 52.660561021000035], [-0.192867710999963, 52.65243858000008], [-0.206037421999952, 52.66807329300008], [-0.224498250999943, 52.66546363600003], [-0.260628212999961, 52.651413364000064], [-0.289240446999941, 52.67027625400004], [-0.334984945999963, 52.67487069300006], [-0.336313508999979, 52.66856241100004], [-0.350222258999963, 52.66161480800008], [-0.393103031999942, 52.65410129600008], [-0.405681401999971, 52.64804623100008], [-0.431987033999974, 52.648267668000074], [-0.452694473999941, 52.65427770100007], [-0.453036127999951, 52.649245386000075], [-0.475831394999943, 52.648714753000036], [-0.475244872999951, 52.64505783100003], [-0.484320231999959, 52.646128959000066], [-0.495025581999926, 52.64023632700008], [-0.517397311999957, 52.64237946600008], [-0.523420096999928, 52.63509208900007], [-0.54026079099998, 52.62596580200005], [-0.539056883999933, 52.61787550000008], [-0.550131070999953, 52.61225067200007], [-0.54755918799998, 52.606956112000034], [-0.552938802999961, 52.60134893900005], [-0.542929478999952, 52.59568347900006], [-0.544173563999948, 52.592888361000064], [-0.558117764999963, 52.594483996000065], [-0.562286286999949, 52.586461102000044], [-0.571903500999952, 52.58580345300004], [-0.577955904999953, 52.58789804700007], [-0.581546903999936, 52.59586830100005], [-0.586972625999977, 52.58742889600006], [-0.603018909999946, 52.58859110600008], [-0.638082007999969, 52.571775503000026], [-0.64676099899998, 52.573791705000076], [-0.649376688999951, 52.57054279600004], [-0.660888473999933, 52.56892191700007], [-0.671287188999941, 52.56410604000007], [-0.674864129999946, 52.55863829500004], [-0.665579737999963, 52.55225241800008], [-0.669461300999956, 52.54491392500006], [-0.643134028999953, 52.53635730700006], [-0.635842867999941, 52.52389252000006], [-0.649374492999925, 52.51892101900006], [-0.665337595999972, 52.51796831100006], [-0.674667823999926, 52.51322175800004], [-0.672133831999929, 52.506944849000035], [-0.63601744999994, 52.515913338000075], [-0.629673109999942, 52.51127474400005], [-0.605569375999949, 52.51427478700003], [-0.597683094999979, 52.51166503200005], [-0.60857797999995, 52.50929703500003], [-0.608129265999935, 52.50619613300006], [-0.596387450999941, 52.49694447200005], [-0.577729243999954, 52.50252157700004], [-0.569914322999978, 52.50958206200005], [-0.546760482999957, 52.51323378400008], [-0.522173469999927, 52.49659845600007], [-0.512366363999945, 52.49823332700004], [-0.499567471999967, 52.49438640200003], [-0.499556198999926, 52.490562383000054], [-0.507033446999969, 52.49119184700004], [-0.515222256999948, 52.488326148000056], [-0.523108152999953, 52.47946720900006], [-0.527321580999967, 52.48094836300004], [-0.524360169999966, 52.478793292000034], [-0.515087127999948, 52.48135291700004], [-0.518885704999946, 52.473967909000066], [-0.514162166999938, 52.47235665900007], [-0.509351558999924, 52.47438204900004], [-0.498502901999927, 52.47052916700005], [-0.480671488999974, 52.47218150500004], [-0.471907846999954, 52.46671015100003], [-0.47045865299998, 52.46371178900006], [-0.493443285999945, 52.44169764600008], [-0.503956638999966, 52.436588218000054], [-0.514264131999937, 52.438402213000074], [-0.518877445999976, 52.43647477400003], [-0.51868077599994, 52.429313844000035], [-0.501904439999976, 52.426945630000034], [-0.500647164999975, 52.42048768600006], [-0.523034003999953, 52.415885555000045], [-0.533554909999964, 52.40889916000003], [-0.51594605899993, 52.407358842000065], [-0.518163499999957, 52.39809169100005], [-0.492832266999926, 52.39386052300006], [-0.493889423999974, 52.38737180500004], [-0.501785650999977, 52.38358264900006], [-0.488518732999978, 52.37402356700005], [-0.499486856999965, 52.36699296100005], [-0.49869984299994, 52.36009616500007], [-0.477682216999938, 52.348920116000045], [-0.483263889999932, 52.34090342500008], [-0.466656530999956, 52.33892760500004], [-0.465365653999925, 52.32295327500003], [-0.476261607999959, 52.31806358000006], [-0.487140108999938, 52.32108280600005], [-0.51982989499993, 52.317692513000054], [-0.514051000999928, 52.31469705400008], [-0.541969092999977, 52.289942376000056], [-0.534002818999966, 52.28119096700004], [-0.531190075999973, 52.27040236400006], [-0.539324995999948, 52.26609468400005], [-0.541972248999969, 52.25607270200004], [-0.554737888999966, 52.25817983700006], [-0.565693066999927, 52.25346843500006], [-0.588110868999934, 52.27077847100003], [-0.586328305999928, 52.27291391000006], [-0.603249971999958, 52.27874571800004], [-0.624818668999978, 52.27564866600005], [-0.631412435999948, 52.27004775700004], [-0.639908375999937, 52.27244193400003], [-0.653655657999934, 52.268289390000064], [-0.63733179299993, 52.22731763000007], [-0.661460463999958, 52.208125901000074], [-0.66813590299995, 52.195034030000045], [-0.684653641999944, 52.196336157000076], [-0.701671491999946, 52.193308460000026], [-0.729260287999978, 52.179473235000046], [-0.738949652999963, 52.17117753600007], [-0.749734760999957, 52.166876785000056], [-0.75719096499995, 52.16732897000003], [-0.761890176999941, 52.16348069600008], [-0.765331495999931, 52.17109922900005], [-0.77787812899993, 52.16877087900008], [-0.792091128999971, 52.15132945600004], [-0.801956644999962, 52.15867872900003], [-0.807588082999928, 52.15697901300007], [-0.81404135899993, 52.14247232200006], [-0.831966593999937, 52.143683450000026], [-0.828204869999979, 52.13261056600004], [-0.832054852999931, 52.13125880100006], [-0.869000242999959, 52.13062006100006], [-0.880703205999964, 52.126338229000055], [-0.880682842999931, 52.12019063200006], [-0.88701545899994, 52.11420954300007], [-0.87145032899997, 52.111753443000055], [-0.865270005999946, 52.10293749300007], [-0.869530249999968, 52.10003781900008], [-0.857943173999956, 52.09751847300004], [-0.854779056999973, 52.092354346000036], [-0.846712588999935, 52.09150873800007], [-0.831418075999977, 52.07194703300007], [-0.839500159999943, 52.06382756000005], [-0.857358639999973, 52.06409057600007], [-0.862678591999952, 52.06093402500005], [-0.86040282099998, 52.054525427000044], [-0.852446743999963, 52.05070520000004], [-0.859422823999978, 52.044602190000035], [-0.867733959999953, 52.04622094700005], [-0.871325790999947, 52.04025177700004], [-0.877468787999931, 52.02997153700005], [-0.883018583999956, 52.028241379000065], [-0.890118295999969, 52.03156061100003], [-0.906030062999946, 52.02122111800003], [-0.930207181999947, 52.04312698200005], [-0.937879993999957, 52.06120191600007], [-0.933744328999978, 52.062636473000055], [-0.93931596799996, 52.06216002900004], [-0.939279218999957, 52.06735361800003], [-0.944390446999932, 52.07003202800007], [-0.940055849999965, 52.07584200100007], [-0.951873212999942, 52.08153362500008], [-0.960762815999942, 52.07864434000004], [-0.967805269999928, 52.07091092200005], [-0.973357510999961, 52.07272345200005], [-0.984279584999967, 52.06971702000004], [-1.004836930999943, 52.07347518200004], [-1.012865038999962, 52.07159887100005], [-1.026317590999952, 52.07568203200003], [-1.042326955999954, 52.07371003000003], [-1.029551340999944, 52.070106578000036], [-1.027668577999975, 52.06373424600008], [-1.039069995999967, 52.06609883300007], [-1.052959166999926, 52.05966050900008], [-1.062065086999951, 52.062735435000036], [-1.071656645999951, 52.058135056000026], [-1.076652046999925, 52.05885125800006], [-1.083275021999953, 52.05236152500004], [-1.121987283999943, 52.04514718100006], [-1.13666036199993, 52.02223191600007], [-1.118086337999955, 52.01542614500005], [-1.131252787999927, 52.00488462800007], [-1.13432888799997, 51.99729638000008], [-1.156650972999955, 51.99223449200008], [-1.163823767999929, 51.99341210700004], [-1.176054747999956, 51.98204518300008], [-1.190756061999934, 51.981510865000075], [-1.196259962999932, 51.97743143200006], [-1.229700100999935, 51.98136732100005], [-1.241612246999978, 51.98629339200005], [-1.260915806999947, 51.98092593000007], [-1.280865252999945, 51.98236416000003], [-1.283384857999977, 51.97954051700003], [-1.288858776999973, 51.98972557800005], [-1.282362184999954, 51.99291507500004], [-1.283344758999931, 51.999539510000034], [-1.277051187999973, 52.00533198900007], [-1.284539971999948, 52.01066520100005], [-1.27856664799998, 52.011403560000076], [-1.278146791999973, 52.014238188000036], [-1.285323256999959, 52.02647360700007], [-1.294312601999934, 52.02803570900005], [-1.291861009999934, 52.031940063000036], [-1.297543104999932, 52.042720975000066], [-1.312919815999976, 52.05145265900006], [-1.307379985999944, 52.057589946000064], [-1.307768317999944, 52.06435223300008], [-1.302175516999966, 52.06501886900003], [-1.30025655299994, 52.06871609700005], [-1.306903019999936, 52.07031358800003], [-1.297508776999962, 52.07805691600004], [-1.299360500999967, 52.08010153100008], [-1.318160126999942, 52.07992121500007], [-1.32116478699993, 52.087018932000035], [-1.307963027999961, 52.09227294400006], [-1.287125333999938, 52.09263886400004], [-1.272283194999943, 52.09786654100003], [-1.248085086999936, 52.09716077000007], [-1.252927704999934, 52.10387442900003], [-1.276829451999959, 52.11707655500004], [-1.308432699999969, 52.14350876600008], [-1.306429692999927, 52.145553018000044], [-1.331896929999971, 52.168485058000044], [-1.334004543999924, 52.159083010000074], [-1.343458601999941, 52.153234989000055], [-1.341040589999977, 52.14485672700005], [-1.349936721999939, 52.14159176600003], [-1.348709367999959, 52.135137506000035], [-1.36614689299995, 52.13607527700003], [-1.385462871999948, 52.12840322300008], [-1.393302647999974, 52.11896294200005], [-1.390700066999955, 52.11678887700003], [-1.370841911999946, 52.11753423000005], [-1.370366973999978, 52.112717892000035], [-1.365191784999979, 52.11130708200005], [-1.357769601999962, 52.101310469000055], [-1.374424007999949, 52.09972591200005], [-1.385329510999952, 52.09418428200007], [-1.403894118999972, 52.110089894000055], [-1.425855169999977, 52.118249551000076], [-1.448741229999939, 52.11606666700004], [-1.453463941999928, 52.11299944800004], [-1.44718802899996, 52.09762499100003], [-1.467559497999957, 52.09705652800005], [-1.477301560999933, 52.10135100300005], [-1.480148622999934, 52.09347797000004], [-1.487804227999959, 52.093957438000075], [-1.485607647999927, 52.08773343800004], [-1.494362431999946, 52.08218708000004], [-1.490665178999961, 52.07713544300003], [-1.501855403999969, 52.071626637000065], [-1.497353261999933, 52.058954560000075], [-1.525309164999953, 51.99285680700007], [-1.541741549999927, 51.99643229900005], [-1.557223672999953, 51.99165760000005], [-1.549671427999954, 51.980859613000064], [-1.580573775999937, 51.972996065000075], [-1.600301410999975, 51.97694154000004], [-1.591633583999965, 51.970449544000076], [-1.612342521999949, 51.95540342900006], [-1.638315457999965, 51.97517196600006], [-1.665754394999965, 51.987488864000056], [-1.669888040999979, 51.99309030300003], [-1.66617352999998, 51.99691795200005], [-1.642837970999949, 52.00920253400005], [-1.638649365999925, 52.02048608100006], [-1.628404898999975, 52.02720693900005], [-1.619685508999964, 52.02797834100005], [-1.617532852999943, 52.03343701000006], [-1.624417961999939, 52.038981559000035], [-1.645374487999959, 52.03423176000007], [-1.653549797999972, 52.03540258100003], [-1.663869982999927, 52.03127754800005], [-1.667501415999936, 52.03624284000006], [-1.693982534999975, 52.03952644600008], [-1.688636661999965, 52.05183324200004], [-1.690179789999945, 52.054735977000064], [-1.70080765299997, 52.05511408000007], [-1.705140945999972, 52.05970665400008], [-1.701731104999965, 52.072809419000066], [-1.709882937999964, 52.07334934100004], [-1.712953652999943, 52.066584842000054], [-1.730671359999974, 52.073399306000056], [-1.728560535999975, 52.10012027300007], [-1.738541287999965, 52.091407840000045], [-1.746022595999932, 52.09295996800006], [-1.767648769999937, 52.112592558000074], [-1.789417259999937, 52.10637487500003], [-1.790135072999931, 52.10059150200004], [-1.802288916999942, 52.09694149200004], [-1.812736812999958, 52.07874398900003], [-1.818943371999978, 52.08540440500008], [-1.831752908999931, 52.07276952900003], [-1.846619634999968, 52.079421119000074], [-1.853238230999978, 52.07241301400006], [-1.868734153999981, 52.073917427000026], [-1.874406200999942, 52.069990923000034], [-1.87168238199996, 52.06542617200006], [-1.864988314999948, 52.06627821600006], [-1.862877672999957, 52.06343189800003], [-1.863449264999929, 52.05341761600005], [-1.834588863999954, 52.04373304300003], [-1.829751237999972, 52.039071602000035], [-1.830560572999957, 52.03213901500004], [-1.825022926999964, 52.03093347500004], [-1.835659419999956, 52.02250237800007], [-1.835308904999977, 52.00916241400006], [-1.83905079799996, 52.00678342900005], [-1.861543489999974, 52.01262767900005], [-1.86226894899994, 52.01748528500008], [-1.91344602099997, 52.044461280000064], [-1.922157293999931, 52.035615018000044], [-1.927044603999946, 52.03666091500003], [-1.931729943999926, 52.02995938500004], [-1.947520940999937, 52.03189492700005], [-1.951387542999953, 52.03772524000004], [-1.984135769999966, 52.03587933000006], [-1.995189487999937, 52.026563030000034], [-1.998565281999959, 52.02966759900005], [-2.023667406999948, 52.016947979000065], [-2.029271584999947, 52.012839719000056], [-2.027000133999934, 52.01059962000005], [-2.038252345999979, 52.00956295000003], [-2.038356018999934, 52.00460057400005], [-2.049514009999939, 52.003796229000045], [-2.048683191999942, 52.00711509200005], [-2.059293521999962, 52.009473839000066], [-2.06077204099995, 52.01467873000007], [-2.084873146999939, 52.01047837300007], [-2.112140944999965, 52.01534755000006], [-2.13073836999996, 52.00643992000005], [-2.135217421999926, 51.999703], [-2.140687153999977, 51.999464336000074], [-2.139063743999941, 52.003949850000026], [-2.150733102999936, 52.00661338700007], [-2.140039636999973, 52.027271635000034], [-2.117922627999974, 52.03307152700006], [-2.11608967799998, 52.03786992200003], [-2.118383793999953, 52.04210860000006], [-2.133231167999952, 52.04623109900007], [-2.142281227999945, 52.04568833700006], [-2.16203631999997, 52.05056721600005], [-2.180451242999936, 52.042262453000035], [-2.176883030999932, 52.022616665000044], [-2.187683193999931, 52.019080159000055], [-2.18406573599998, 52.01390115000004], [-2.164723454999944, 52.00419537500005], [-2.164915375999954, 51.99595951100008], [-2.171422283999959, 51.99475792800007], [-2.180748490999974, 51.999615145000064], [-2.179425789999925, 51.99484752600006], [-2.185084210999946, 51.990560763000076], [-2.202886122999928, 51.99636302400006], [-2.220613397999955, 51.99549660900004], [-2.25135998199994, 51.96656506000005], [-2.282208956999966, 51.970716132000064], [-2.300432846999968, 51.96677520500003], [-2.309465355999976, 51.97064668400003], [-2.312619469999959, 51.97650494000004], [-2.326565192999965, 51.975810695000064], [-2.320656766999946, 51.992128388000026], [-2.324709853999934, 52.003567212000064], [-2.329423205999944, 52.00682856600008], [-2.34049314799995, 52.00674046300003], [-2.352542615999937, 52.01353532600007], [-2.351378565999937, 52.02135900700006], [-2.386982791999969, 52.01216651300007], [-2.392891820999978, 52.01295882900007], [-2.39901832399994, 51.99614591900007], [-2.413177279999957, 51.99409256700005], [-2.437293845999932, 51.997166994000054], [-2.43363713399998, 52.00787937800004], [-2.436594115999981, 52.01481432200006], [-2.463255472999947, 52.01434030200005], [-2.464068282999961, 52.023268259000076], [-2.478932235999935, 52.022530377000066], [-2.479364062999935, 52.01707730600003], [-2.491984455999955, 52.00766180100004], [-2.485496719999958, 52.00033226000005], [-2.477664475999973, 52.00015078600006], [-2.470992777999925, 51.99473601200003], [-2.48863764999993, 51.98740802300006], [-2.494912527999929, 51.98107545600004], [-2.492244414999959, 51.96412848800003], [-2.499030085999948, 51.96371805100006], [-2.500906663999956, 51.960608781000076], [-2.490187556999956, 51.95497959800008], [-2.486107149999953, 51.957420425000066], [-2.473728694999977, 51.95653872100007], [-2.465487528999972, 51.95169636400004], [-2.46604259999998, 51.92797416500008], [-2.455022773999929, 51.91934722600007], [-2.448184435999963, 51.91866855500007], [-2.440154336999967, 51.902442473000065], [-2.445388610999942, 51.90055586600005], [-2.439357943999937, 51.89739575900006], [-2.446009520999951, 51.89399457500008], [-2.46651800199993, 51.89256407600004], [-2.47340814599994, 51.88555358600007], [-2.486728649999975, 51.88471553900007], [-2.487794723999968, 51.880417590000036], [-2.493861587999959, 51.880002981000075], [-2.494655986999931, 51.884239742000034], [-2.50110802599994, 51.881899590000046], [-2.501947405999942, 51.88625329700005], [-2.508624243999975, 51.88516906700005], [-2.522233318999952, 51.86469606300005], [-2.531623930999956, 51.86077127300007], [-2.543901605999963, 51.86023206100003], [-2.561657618999959, 51.864292281000075], [-2.580729424999959, 51.861652080000056], [-2.585218803999965, 51.859930458000065], [-2.578805903999978, 51.85320999500004], [-2.582817051999939, 51.84957735100005], [-2.601216578999924, 51.85621621300004], [-2.609434277999981, 51.84679695700004], [-2.62159341499995, 51.84332468200006], [-2.625466336999978, 51.838964428000054], [-2.636710261999951, 51.84309574000008], [-2.635970002999954, 51.83991192700006], [-2.650228438999932, 51.82614615700004], [-2.656856791999928, 51.82688095100008], [-2.658194641999955, 51.832710493000036], [-2.666157233999968, 51.835649696000075], [-2.682856449999974, 51.838456233000045], [-2.687002460999963, 51.83305624800005], [-2.693295245999934, 51.833841230000075], [-2.697324843999979, 51.84476846800004], [-2.705148128999951, 51.84565869800008], [-2.707207363999942, 51.839350574000036], [-2.715044889999945, 51.84022831500005], [-2.719710587999941, 51.848796277000076], [-2.727575351999974, 51.84009288200008], [-2.731537458999981, 51.84140965700004], [-2.738866702999928, 51.836665581000034], [-2.74130267399994, 51.84257348700004], [-2.756821438999964, 51.84601682500005], [-2.769611705999978, 51.86237189700006], [-2.778841188999934, 51.86595959200008], [-2.776894467999966, 51.87332374300007], [-2.768331511999975, 51.88050552800007], [-2.801630067999952, 51.89038583200005], [-2.820949741999925, 51.90533540900003], [-2.836151328999961, 51.906032819000075], [-2.841908365999927, 51.91772651400004], [-2.845150520999937, 51.91522165100008], [-2.853726685999959, 51.91574243900004], [-2.854122277999977, 51.91331794800004], [-2.861919730999944, 51.914018128000066], [-2.863318135999975, 51.91718730400004], [-2.844948667999972, 51.92213374900007], [-2.859007669999926, 51.927733327000055], [-2.870144632999938, 51.926957309000045], [-2.877835286999925, 51.93381438500006], [-2.888519573999929, 51.93357319800003], [-2.887027755999952, 51.92820403400003], [-2.892273761999945, 51.92542818600003], [-2.904135484999927, 51.925182187000075], [-2.916114725999932, 51.91766007900003], [-2.927418775999968, 51.91396562500006], [-2.934008032999941, 51.915014075000045], [-2.95233445599996, 51.906270480000046], [-2.971846371999959, 51.90498157800005], [-2.976665430999958, 51.927490230000046], [-2.999242977999927, 51.92345774700004], [-3.008123295999951, 51.92713056000008], [-3.01316283999995, 51.94495492500005], [-3.025944446999972, 51.95728242500007], [-3.035335336999935, 51.95974086800004], [-3.039608593999958, 51.966480809000075], [-3.068253809999931, 51.98383969200006], [-3.069424974999947, 51.98948895700005], [-3.084087881999949, 52.004108236000036], [-3.086897172999954, 52.01391141700003], [-3.099199081999927, 52.022685857000056], [-3.086286941999958, 52.04019417600006], [-3.092812288999937, 52.04747897300007], [-3.090588122999975, 52.050513171000034], [-3.116461810999965, 52.06585585600004], [-3.125977558999978, 52.078330624000046], [-3.118859884999949, 52.08872771000006], [-3.122714732999953, 52.10315809300005], [-3.105465489999972, 52.10538633400006], [-3.10498516399997, 52.116727655000034], [-3.128061351999975, 52.124570438000035], [-3.136814717999926, 52.12332019200005], [-3.141228718999969, 52.12992226800003], [-3.134134545999927, 52.13358877200005], [-3.135873535999963, 52.137908551000066], [-3.093689855999969, 52.14430577300004], [-3.072538265999981, 52.15577325100003], [-3.071571587999927, 52.15818965500006], [-3.082543249999958, 52.16304710900005], [-3.098877619999939, 52.15470621700007], [-3.122430480999981, 52.163419641000075], [-3.121994675999929, 52.16691679100006], [-3.112458972999946, 52.17023109000007], [-3.11248951999994, 52.17362335300004], [-3.101409998999941, 52.177266125000074], [-3.094724022999969, 52.18373076800003], [-3.101793308999959, 52.20264569300008], [-3.072091881999938, 52.21308722800006], [-3.078009105999968, 52.21604480500008], [-3.070373199999949, 52.229237761000036], [-3.073036679999973, 52.235876861000065], [-3.044164262999971, 52.23794501900005], [-3.043706260999954, 52.245522151000046], [-3.049948331999929, 52.24501347100005], [-3.045256692999942, 52.246856972000046], [-3.048327449999931, 52.25025524200004], [-3.036009369999931, 52.25676937500003], [-3.005613768999979, 52.264211328000044], [-2.989777980999975, 52.26049717800004], [-2.978584452999939, 52.26238590300005], [-2.977301748999935, 52.25968833300004], [-2.964990634999936, 52.26233630400003], [-2.965064782999946, 52.268122970000036], [-2.955954230999964, 52.270920474000036], [-2.94963480399997, 52.269468360000076], [-2.965036048999934, 52.27431166100007], [-2.992674449999924, 52.272854308000035], [-3.01260283199997, 52.27926539900005], [-3.009342078999964, 52.282843583000044], [-3.011952733999976, 52.28804155800003], [-3.005523878999952, 52.29068271600005], [-3.001294404999953, 52.30007667000007], [-3.000866015999975, 52.32176569400008], [-2.966840461999936, 52.329501709000056], [-2.954726811999933, 52.34924941200006], [-2.970582885999931, 52.35140743200003], [-2.974298515999976, 52.354735970000036], [-2.986069387999976, 52.35089506400004], [-2.998324425999954, 52.35189374000004], [-3.040025913999955, 52.34437535100005], [-3.06066488099998, 52.34823963300005], [-3.070544457999972, 52.35597667500008], [-3.091932225999926, 52.36257737300008], [-3.110604014999979, 52.37715987300004], [-3.120240093999939, 52.37744369600006], [-3.129592270999979, 52.384479501000044], [-3.154615886999977, 52.387790091000056], [-3.161548336999942, 52.392142773000046], [-3.160655076999944, 52.39993215000004], [-3.179070865999961, 52.40947864000003], [-3.219744274999925, 52.421322], [-3.222327228999973, 52.426739327000064], [-3.230686553999931, 52.43048345500006], [-3.228376277999928, 52.43953889900007], [-3.235561936999943, 52.44252589400003], [-3.23188788899995, 52.453115668000066], [-3.197308690999932, 52.47601757900003], [-3.180565879999961, 52.47386999500003], [-3.141677084999969, 52.49123212900008], [-3.126539774999969, 52.49232296900004], [-3.111537798999962, 52.498845559000074], [-3.02920219799995, 52.50126811000007], [-3.036429197999951, 52.511505912000075], [-3.03241514399997, 52.52370676700008], [-3.00381575199998, 52.519819347000066], [-3.000879474999977, 52.52401094500004], [-3.005099865999966, 52.52945131900003], [-2.994178087999956, 52.55294672700006], [-2.999719939999977, 52.55466947000008], [-3.00062358699995, 52.56801055500006], [-3.006264287999954, 52.573688075000064], [-3.014518439999961, 52.57549966500005], [-3.036644764999949, 52.57173864600003], [-3.06042623299993, 52.55532758100003], [-3.064995953999926, 52.55680897600007], [-3.087281835999931, 52.55128737300004], [-3.086155316999964, 52.548648521000075], [-3.093943585999966, 52.54490229600003], [-3.080805613999928, 52.539142526000035], [-3.08537807099998, 52.53453558500007], [-3.108744280999929, 52.529210781000074], [-3.133310004999942, 52.52757780400003], [-3.136985806999974, 52.53410017600004], [-3.111486137999975, 52.54141327800005], [-3.12742738299994, 52.56602425600005], [-3.137772870999925, 52.57385216900008], [-3.138570134999952, 52.58285529700004], [-3.134941709999964, 52.58362676200005], [-3.139591036999946, 52.585723475000066], [-3.12217370999997, 52.58764124600003], [-3.117446560999952, 52.58576092000004], [-3.100331432999951, 52.59758519500008], [-3.089358057999959, 52.59958696100006], [-3.093642343999932, 52.60930572900003], [-3.082700579999937, 52.61553302800007], [-3.07310137199994, 52.62895918100003], [-3.059788007999941, 52.630691668000054], [-3.069398800999977, 52.63740824100006], [-3.083521821999966, 52.641286636000075], [-3.069884222999974, 52.64579611200003], [-3.051087360999929, 52.64732078900005], [-3.050856753999938, 52.65332371400007], [-3.04490538999994, 52.65594302900007], [-3.049073237999949, 52.66225879500007], [-3.038512922999928, 52.67533150000003], [-3.045638459999964, 52.67544215400005], [-3.042081832999941, 52.68149682300003], [-3.046958116999974, 52.69122811900007], [-3.034224155999937, 52.69344062600004], [-3.032034941999939, 52.69993531000006], [-3.022518402999935, 52.706656888000055], [-3.025434150999956, 52.71617904200008], [-3.021399048999967, 52.72431297800006], [-3.018363183999952, 52.72124120500007], [-3.000606832999949, 52.720227384000054], [-2.977519404999953, 52.72646712400007], [-2.978119452999977, 52.71530343300003], [-2.961062894999941, 52.71638045200007], [-2.961836217999974, 52.725694743000076], [-2.96665349999995, 52.72563503500004], [-2.96503800399995, 52.732227677000026], [-2.973575916999948, 52.73568557400006], [-2.991109116999951, 52.73369006200005], [-2.997289938999927, 52.738369170000055], [-2.992503772999953, 52.73854558100004], [-2.992251435999947, 52.743859040000075], [-3.009754733999955, 52.75031266900004], [-3.015867474999936, 52.74807872800005], [-3.021778493999932, 52.75192927300003], [-3.014465500999961, 52.75289470800004], [-3.010792919999972, 52.75853576000003], [-3.01709615599998, 52.76768666300006], [-3.022673156999929, 52.76418574500008], [-3.02635079199996, 52.76705349200006], [-3.034554024999977, 52.76396948200005], [-3.037017155999933, 52.765164698000035], [-3.03261060899996, 52.76715450900008], [-3.038983951999967, 52.77037281400004], [-3.046533797999928, 52.767031357000064], [-3.052606266999931, 52.76861827600004], [-3.047779912999943, 52.772611502000075], [-3.057903738999926, 52.77369819100005], [-3.06210438599993, 52.76913170800003], [-3.068585732999964, 52.774194925000074], [-3.072193144999972, 52.769751685000074], [-3.079523173999974, 52.771564140000066], [-3.080724111999928, 52.77744780200004], [-3.088858449999975, 52.777556781000044], [-3.091707257999929, 52.78664556500007], [-3.085672475999957, 52.790414043000055], [-3.086754225999925, 52.79560451800006], [-3.097713380999949, 52.79138286500006], [-3.106172943999979, 52.792920535000064], [-3.109763047999934, 52.78668560600005], [-3.117698625999935, 52.78365621700004], [-3.118897437999976, 52.787196788000074], [-3.142493203999948, 52.790355211000076], [-3.144656309999959, 52.78851445600003], [-3.147980931999939, 52.792055], [-3.158471340999938, 52.793494070000065], [-3.161814948999961, 52.79936009600004], [-3.154057945999966, 52.80250881200004], [-3.153185104999977, 52.80634158000004], [-3.156327837999925, 52.80800137600005], [-3.162194908999936, 52.80364431700008], [-3.168177893999939, 52.807313316000034], [-3.167844616999957, 52.81927524300005], [-3.154081204999954, 52.83215234600004], [-3.15659687699997, 52.837042577000034], [-3.151324392999925, 52.84258136700004], [-3.16307087499996, 52.84748667900004], [-3.127721188999942, 52.86725387800004], [-3.152536872999974, 52.879697889000056], [-3.147007316999975, 52.88469046400007], [-3.135612915999957, 52.88505414400004], [-3.147497772999941, 52.89014171500003], [-3.144563213999959, 52.893020619000026], [-3.11383387099994, 52.89422476400006], [-3.116863505999959, 52.89994726300006], [-3.109702675999927, 52.91834361600007], [-3.095979992999958, 52.93033180700007], [-3.076364569999953, 52.92548343200008], [-3.064011500999925, 52.926319256000056], [-3.060677164999959, 52.92932916800004], [-3.037017509999941, 52.928722881000056], [-3.028254735999951, 52.936856747000036], [-3.024132908999945, 52.936274612000034], [-3.023910625999974, 52.94229742500005], [-3.013207145999957, 52.948811867000074], [-3.00979766599994, 52.95616503600007], [-2.982036710999978, 52.95919380700008], [-2.975030024999967, 52.96898448200005], [-2.968487051999944, 52.96417543800004], [-2.972113246999925, 52.95961381700005], [-2.961841765999964, 52.95565524300008], [-2.959812304999957, 52.951188614000046], [-2.928879352999957, 52.938668120000045], [-2.920406456999956, 52.94341434000006], [-2.908317181999962, 52.94208565200006], [-2.898334899999952, 52.95025510000005], [-2.887469521999947, 52.95251618900005], [-2.883539227999961, 52.946639299000026], [-2.841050852999956, 52.94256148000005], [-2.838429671999961, 52.932209571000044], [-2.81274263499995, 52.91464161200008], [-2.81270866999995, 52.90926414900008], [-2.798970719999943, 52.89572296600005], [-2.755326489999959, 52.92462801800008], [-2.728531449999934, 52.92517643700006], [-2.727899670999932, 52.95364355700008], [-2.724144101999968, 52.95689899900003], [-2.727497415999949, 52.96642784100004], [-2.735319824999976, 52.970015499000056], [-2.726840451999976, 52.98327288200005], [-2.71187856499995, 52.98608455500005], [-2.699292335999928, 52.99543880600004], [-2.687078545999952, 52.98683043700004], [-2.674662135999938, 52.98566294600005], [-2.652357196999958, 52.994994391000034], [-2.642699229999948, 52.99351906000004], [-2.63265092599994, 52.996670780000045], [-2.621939782999959, 52.98674241500004], [-2.607734119999975, 52.98836202500007], [-2.605682780999928, 52.97939827000005], [-2.59488879099996, 52.979607145000045], [-2.599629851999964, 52.97543281000003], [-2.592756661999942, 52.974169767000035], [-2.598446685999932, 52.971718284000076], [-2.597693396999944, 52.96300609300005], [-2.58641348499998, 52.95537928500005], [-2.576803133999931, 52.95610563000008], [-2.570276260999947, 52.95977198600008], [-2.573492228999953, 52.96271652000007], [-2.56126302499996, 52.96495205700006], [-2.553697396999951, 52.95746629700005], [-2.546355352999967, 52.95683762200008], [-2.529515798999967, 52.947165064000046], [-2.523280450999948, 52.95435538500004], [-2.521427795999955, 52.974265169000034], [-2.506882935999954, 52.96491858700006], [-2.499023370999964, 52.968434466000076], [-2.491700765999951, 52.967684348000034], [-2.481152588999976, 52.95881761100003], [-2.47508393499993, 52.96248924000008], [-2.450257370999964, 52.96605141200007], [-2.442957763999971, 52.970739051000066], [-2.434613897999952, 52.96952147600007], [-2.436760128999936, 52.986256205000075], [-2.410866770999974, 52.98792428100006], [-2.404474923999942, 52.99165361000007], [-2.406986647999929, 52.99591688300006], [-2.389734748999956, 52.99539226700006], [-2.380793983999979, 52.998411100000055], [-2.383045010999979, 53.007786948000046], [-2.370467647999931, 53.01457593400005], [-2.384227436999936, 53.02616766300008], [-2.379785434999974, 53.02759153800008], [-2.38617077899994, 53.03356388900005], [-2.381249088999937, 53.052551169000026], [-2.357579130999966, 53.05471891700006], [-2.35373532899996, 53.058848847000036], [-2.34758551699997, 53.056170261000034], [-2.330515018999961, 53.07086057500004], [-2.329009238999959, 53.07657988400007], [-2.318050900999935, 53.08135873800006], [-2.303396642999928, 53.08296147200008], [-2.293375753999953, 53.07832636300003], [-2.277652329999967, 53.08122354000005], [-2.277105763999941, 53.08590555900008], [-2.257125748999954, 53.09001641000003], [-2.253248561999953, 53.093977117000065], [-2.247407150999948, 53.08984996200007], [-2.237951390999967, 53.10104697200006], [-2.223073758999931, 53.10379506900006], [-2.211423817999957, 53.11576295300006], [-2.176580462999937, 53.14553074600008], [-2.159543271999951, 53.152906236000035], [-2.155645001999972, 53.15961893700006], [-2.141411443999971, 53.15665241500005], [-2.144865908999975, 53.17376778300007], [-2.140438906999975, 53.183812799000066], [-2.133826666999937, 53.18306540800006], [-2.129302996999968, 53.17545155000005], [-2.119541302999949, 53.17463398600006], [-2.112076532999936, 53.16865967400008], [-2.10173595699996, 53.168904689000044], [-2.092872881999938, 53.17291570000003], [-2.087236403999952, 53.16985389800004], [-2.070232488999977, 53.17168606200005], [-2.068144254999936, 53.174699745000055], [-2.057726955999954, 53.17662614300008], [-2.059214950999944, 53.180900776000044], [-2.05228929499998, 53.183959181000034], [-2.055026215999931, 53.18642760800003], [-2.04652710299996, 53.19264790300008], [-2.028555168999958, 53.19335342000005], [-2.018179507999946, 53.18905298000004], [-2.000202029999969, 53.19373767600007], [-1.987407554999947, 53.213586028000066], [-1.990264647999936, 53.22299886900004], [-1.976064998999959, 53.227529795000066], [-1.97485867599994, 53.231061157000056], [-1.981883125999957, 53.23857932700008], [-1.999731329999975, 53.245048774000054], [-2.000332732999937, 53.25543874400006], [-2.009481996999966, 53.26065234500004], [-2.005197437999925, 53.26904005000006], [-2.009329201999947, 53.30231408700007], [-2.001551010999947, 53.31892111500008], [-2.010739095999952, 53.32354955000005], [-2.009283192999931, 53.33138826000004], [-2.013649726999972, 53.33242013200004], [-2.014319077999971, 53.34005859800004], [-2.004659864999951, 53.346009768000044], [-2.006785735999927, 53.354572191000045], [-2.010672020999948, 53.35570166600007], [-2.008998142999928, 53.362010704000056], [-2.021816719999947, 53.366756989000066], [-2.027128671999947, 53.36376747500003], [-2.03408703499997, 53.36775268400004], [-2.031058539999947, 53.37026195900006], [-2.033775224999943, 53.375541629000054], [-2.021472022999944, 53.37505918900007], [-2.017083897999953, 53.377832616000035], [-2.01971455599994, 53.380595432000064], [-2.004642862999958, 53.38632747400004], [-2.005019370999946, 53.39284853300006], [-1.992329549999965, 53.41519310800004], [-1.981383868999956, 53.415782654000054], [-1.976503639999976, 53.42058145900006], [-1.957485435999956, 53.40990258100004], [-1.934257954999964, 53.408430363000036], [-1.920925755999974, 53.41233342700008], [-1.909714000999941, 53.41063460700008], [-1.899846772999979, 53.41918162300004], [-1.878432828999962, 53.42652035700007], [-1.865564530999961, 53.425636388000044], [-1.868570448999947, 53.433762011000056], [-1.85263940699997, 53.44701865900004], [-1.864002921999941, 53.45263285400006], [-1.862704561999976, 53.45996830800004], [-1.853542184999981, 53.45949653300005], [-1.843227104999926, 53.46392928100005], [-1.827630987999953, 53.463430439000035], [-1.814134691999925, 53.46910973100006], [-1.812901423999961, 53.479600004000076], [-1.801470730999938, 53.48099171400003], [-1.791140410999958, 53.47583307500008], [-1.780297724999969, 53.47483899200006], [-1.768350257999941, 53.464723665000065], [-1.752414254999962, 53.46495776900008], [-1.745330673999945, 53.46218376300004], [-1.748082529999976, 53.45743386800007], [-1.743680981999944, 53.444955218000075], [-1.749728, 53.439119290000065], [-1.744272834999947, 53.431296702000054], [-1.746737086999929, 53.42619362500005], [-1.739779104999968, 53.42097713800007], [-1.729951473999961, 53.41598556900004], [-1.718208027999935, 53.41948037900005], [-1.708774493999954, 53.417439915000045], [-1.703234202999965, 53.41372220200003], [-1.704964907999965, 53.40505587300004], [-1.694521395999971, 53.40116126000004], [-1.681828491999966, 53.40178075100005], [-1.668089978999944, 53.393070882000075], [-1.654644100999974, 53.39293087300007], [-1.653516583999931, 53.38511456100008], [-1.663292179999928, 53.37424770700005], [-1.663958196999943, 53.36689024200007], [-1.63059259299996, 53.356160988000056], [-1.625603797999929, 53.352061794000065], [-1.590586505999966, 53.34595886500006], [-1.601575387999958, 53.34260892000003], [-1.612226826999972, 53.34321051300003], [-1.632771980999962, 53.32082764200004], [-1.628160688999969, 53.31630165400003], [-1.60883492399995, 53.322554025000045], [-1.601524875999928, 53.318205471000056], [-1.599077712999929, 53.31137847600007], [-1.585031519999973, 53.321589267000036], [-1.578995026999962, 53.31669205800006], [-1.583078192999949, 53.315697657000044], [-1.580533842999955, 53.31173765800003], [-1.56166057799993, 53.31596882700006], [-1.555822278999926, 53.31170653400005], [-1.561766344999967, 53.30642454300005], [-1.536914281999941, 53.30473062800007], [-1.531277152999962, 53.31063337000006], [-1.502108022999948, 53.31758903000008], [-1.478421597999954, 53.319372299000065], [-1.467914011999937, 53.31714427400004], [-1.455242108999926, 53.32184411700007], [-1.459930517999965, 53.33063030500006], [-1.451299509999956, 53.331345224000074], [-1.44201310699998, 53.33741178300005], [-1.420867366999971, 53.33456806700008], [-1.411088976999963, 53.342017070000054], [-1.386659454999972, 53.33485713500005], [-1.392054689999952, 53.32266314000003], [-1.386841981999964, 53.31761487000006], [-1.362655271999927, 53.31502128900007], [-1.361745010999925, 53.318542885000056], [-1.347288781999964, 53.318901494000045], [-1.33775170499996, 53.31584764100006], [-1.32842468399997, 53.32887858600003], [-1.324726590999944, 53.32883261100005], [-1.320912895999925, 53.325577975000044], [-1.310327951999966, 53.329396658000064], [-1.312333679999938, 53.334168661000035], [-1.299071966999975, 53.33253266600008], [-1.288558430999956, 53.32617122100004], [-1.295158912999966, 53.321791620000056], [-1.295468339999957, 53.31487303600005], [-1.282003524999936, 53.309479700000054], [-1.27359828799996, 53.31044041700005], [-1.254255109999974, 53.30175552600008], [-1.243453728999953, 53.301598582000054], [-1.230596367999965, 53.30864191400008], [-1.219531114999938, 53.304000494000036], [-1.203175088999956, 53.30419127000005], [-1.199738361999948, 53.311438397000074], [-1.187204872999928, 53.30397968200003], [-1.176627277999955, 53.30513169400007], [-1.171562352999956, 53.29463685800005], [-1.180116861999977, 53.28713473200003], [-1.166489165999963, 53.27765472200008], [-1.181543046999934, 53.27003184700004], [-1.174689615999966, 53.26516512300003], [-1.202450347999957, 53.26121941400004], [-1.213026658999979, 53.24767250700006], [-1.201996981999969, 53.23555518000006], [-1.209424363999972, 53.21769611800005], [-1.202237000999958, 53.216117041000075], [-1.171120587999951, 53.21895908800008], [-1.140328945999954, 53.225736906000066], [-1.123807180999961, 53.22464475700008], [-1.122082260999946, 53.23085619200003], [-1.111459033999949, 53.23044038200004], [-1.103297152999971, 53.23560711400006], [-1.072483468999962, 53.24090601800003], [-1.027877400999955, 53.26101090100008], [-1.023548369999958, 53.24780280200008], [-1.006768130999944, 53.236185195000076], [-0.967542213999934, 53.23533319500007], [-0.947264571999938, 53.22582889600005], [-0.948919369999942, 53.21411924500006], [-0.894342537999933, 53.22359962500008], [-0.879410837999956, 53.22106718900005], [-0.857838750999974, 53.21220656200006], [-0.848497946999942, 53.215308779000054], [-0.848213378999958, 53.21866188800004], [-0.839821180999934, 53.218919017000076], [-0.830798283999968, 53.217565327000045], [-0.836956470999951, 53.21365759100007], [-0.830520887999967, 53.212830807000046], [-0.832060788999968, 53.20672987100005], [-0.821572231999937, 53.201349142000026], [-0.815723656999978, 53.204918692000035], [-0.787292548999972, 53.20456535900007], [-0.790077272999952, 53.199146718000065], [-0.780365209999957, 53.19639741600008], [-0.775573822999945, 53.21495841400008], [-0.783443301999966, 53.225945427000056], [-0.777074410999944, 53.246908166000026], [-0.778486987999941, 53.25199231000005], [-0.770175931999972, 53.25309740600005], [-0.773098735999952, 53.26073611800007], [-0.764279838999926, 53.272739071000046], [-0.778125300999932, 53.28385435100006], [-0.766270991999932, 53.292524713000034], [-0.763502245999973, 53.29943719900007], [-0.759211494999931, 53.29842404200008], [-0.758020563999935, 53.292873100000065], [-0.750967094999965, 53.293602315000044], [-0.747137824999925, 53.30433331900008], [-0.75400336499996, 53.313477986000066], [-0.749955471999954, 53.324218306000034], [-0.76011815399994, 53.324685886000054], [-0.766473789999964, 53.330107414000054], [-0.756719663999945, 53.33967553800005], [-0.764791369999955, 53.346056341000065], [-0.758616424999957, 53.35383706300007], [-0.774459183999966, 53.36443249400003], [-0.780684623999946, 53.36125366500005], [-0.791132384999969, 53.363551579000045], [-0.786036344999957, 53.37455289600007], [-0.775235779999946, 53.37775878200006], [-0.790442518999953, 53.38585371100004], [-0.77717813299995, 53.38977949200006], [-0.777139171999977, 53.39677432700006], [-0.788133587999937, 53.40435997800006], [-0.788625370999966, 53.41526112300005], [-0.80363243499994, 53.41714247900006], [-0.818092195999952, 53.42697883900007], [-0.820515916999966, 53.44074756400005], [-0.809540245999926, 53.44361269500007], [-0.797483545999967, 53.45506431800004], [-0.784364749999952, 53.46337981000005], [-0.784388908999972, 53.476669195000056], [-0.771568386999945, 53.47920169200006], [-0.775623891999942, 53.48902502100003], [-0.768109815999935, 53.49892590400003], [-0.752113514999962, 53.500530308000066], [-0.739591687999962, 53.51993601300006], [-0.701630119999948, 53.514169637000066], [-0.687380836999978, 53.51643213500006], [-0.675758401999929, 53.512509830000056], [-0.624481054999933, 53.51282116200008], [-0.628213529999925, 53.50679390800008], [-0.625687803999938, 53.495591526000055], [-0.630134238999972, 53.48599442200003], [-0.633950666999965, 53.48543357300008], [-0.634806710999953, 53.46955173500004], [-0.626705601999959, 53.46186596900003], [-0.629752726999925, 53.45821902300003], [-0.599479840999948, 53.45640213000007], [-0.556966560999967, 53.45900932900008], [-0.471749706999958, 53.47487283800007], [-0.48657699599994, 53.480479356000046], [-0.48777163699998, 53.487779345000035], [-0.480686547999937, 53.49624557100003], [-0.488388209999925, 53.504827326000054], [-0.475871932999951, 53.50893435100005], [-0.444028027999934, 53.509371686000065], [-0.405057223999961, 53.51759523800007], [-0.408144929999935, 53.53210872800008], [-0.413495109999928, 53.53570386700005], [-0.421870775999935, 53.534433712000066], [-0.430699990999926, 53.54632411000006], [-0.501229083999931, 53.537461232000055], [-0.490906051999957, 53.54585931400004], [-0.476482761999932, 53.545877860000076], [-0.467018073999952, 53.54896097400007], [-0.466410414999928, 53.55549962600003], [-0.456852513999934, 53.55930080700006], [-0.450706666999963, 53.55799852200005], [-0.43940760199996, 53.57029317100006], [-0.42900102699997, 53.574524620000034], [-0.417649051999945, 53.56331529300007], [-0.356284538999944, 53.55605445400005], [-0.348030184999971, 53.55608267700006], [-0.348658909999926, 53.55951288800003], [-0.335827477999942, 53.558685438000055], [-0.310867808999944, 53.59015444800008], [-0.303517541999952, 53.59083091900004], [-0.300743018999924, 53.595283479000045], [-0.308555221999939, 53.61432866100006], [-0.300930324999968, 53.616388]]]], &quot;type&quot;: &quot;MultiPolygon&quot;}, &quot;properties&quot;: {&quot;CreationDate&quot;: &quot;2022-04-01T08:52:11Z&quot;, &quot;Creator&quot;: &quot;hsc_map_england&quot;, &quot;EditDate&quot;: &quot;2022-04-01T08:52:11Z&quot;, &quot;Editor&quot;: &quot;hsc_map_england&quot;, &quot;FID&quot;: 5, &quot;GlobalID&quot;: &quot;{6A464A28-B330-4BA4-8F70-4C77A49488EB}&quot;, &quot;Notes&quot;: null, &quot;SHAPE_Area&quot;: 3.67300902315878, &quot;SHAPE_Length&quot;: 17.193158482940206, &quot;bng_e&quot;: 436686, &quot;bng_n&quot;: 314502, &quot;lat&quot;: 52.72694, &quot;long&quot;: -1.45821, &quot;nhser19cd&quot;: &quot;E40000008&quot;, &quot;nhser19nm&quot;: &quot;Midlands&quot;, &quot;objectid&quot;: 5, &quot;st_areasha&quot;: 27606854760.339176, &quot;st_lengths&quot;: 1418002.179569495}, &quot;type&quot;: &quot;Feature&quot;}, {&quot;geometry&quot;: {&quot;coordinates&quot;: [[[[-2.034424017999925, 55.81108766700004], [-2.001578108999979, 55.77854574500003], [-1.988136569999938, 55.765210394000064], [-1.99873368599998, 55.766520521000075], [-1.960707076999938, 55.73322669800007], [-1.92543926899998, 55.71539622100005], [-1.923528738999948, 55.71436469300005], [-1.923186912999938, 55.71425659100004], [-1.917380342999934, 55.71131812800007], [-1.884093329999928, 55.69445912500004], [-1.885627380999949, 55.68395248400003], [-1.873246861999974, 55.68278396800008], [-1.870024981999961, 55.66591381300003], [-1.854430954999941, 55.65344334800005], [-1.840872886999932, 55.642592913000044], [-1.813186224999924, 55.63370463700005], [-1.783869300999925, 55.64404603600008], [-1.76477672599998, 55.62590964200007], [-1.786331899999936, 55.61600437900006], [-1.770789420999961, 55.60348440300004], [-1.742337863999978, 55.618562214000065], [-1.722814213999925, 55.61681312800005], [-1.718790881999951, 55.614954484000066], [-1.68418851399997, 55.59895666700004], [-1.671282982999969, 55.59298427400006], [-1.65465403099995, 55.58528435900007], [-1.639428649999957, 55.57823062300008], [-1.652163690999942, 55.57125588000008], [-1.645663884999976, 55.57417649900003], [-1.64209847099994, 55.57121852100005], [-1.641822364999939, 55.57102959800005], [-1.619635091999953, 55.55284153500003], [-1.618825363999974, 55.55217734800004], [-1.619282322999936, 55.551914124000064], [-1.638330134999933, 55.54093727600008], [-1.611319024999943, 55.52222147700007], [-1.610593293999955, 55.521718272000044], [-1.61104544799997, 55.51882542900006], [-1.612272730999962, 55.51097120600008], [-1.614274393999949, 55.498154320000026], [-1.610656879999965, 55.49725647900004], [-1.593566026999952, 55.49301269600005], [-1.591133260999925, 55.49240836100006], [-1.591213396999933, 55.49052086100005], [-1.591758467999966, 55.47767744300006], [-1.591950678999979, 55.473146272000065], [-1.59334536199998, 55.44023495500005], [-1.575357486999962, 55.43088012900006], [-1.580317031999925, 55.40675693800006], [-1.61081263799997, 55.38527747000006], [-1.621273612999971, 55.38830611900005], [-1.608331827999962, 55.38378430600005], [-1.603157791999934, 55.37409372400003], [-1.594294187999935, 55.35748135400007], [-1.586869846999946, 55.343555293000065], [-1.58620952299998, 55.33594937600003], [-1.571295751999969, 55.338884893000056], [-1.570418708999966, 55.33871830000004], [-1.549419686999954, 55.32183856200004], [-1.562674530999971, 55.29586920500003], [-1.573135699999966, 55.27534826900006], [-1.499115666999955, 55.18550830300006], [-1.511714795999978, 55.18365384900005], [-1.525077610999972, 55.162632045000066], [-1.540030413999943, 55.161337857000035], [-1.524934822999967, 55.16051440500007], [-1.501934480999978, 55.13306298500004], [-1.49862144399998, 55.12910529200008], [-1.516131503999929, 55.13602329100007], [-1.496531998999956, 55.12367590200006], [-1.497340941999937, 55.11336702500006], [-1.497752224999942, 55.108123661000036], [-1.478664784999978, 55.07910860100003], [-1.471200790999944, 55.08544124400004], [-1.462071182999978, 55.07467399900003], [-1.461771995999925, 55.074321034000036], [-1.449335385999973, 55.05777426900005], [-1.439472137999928, 55.044640721000064], [-1.420676622999963, 55.01958732300005], [-1.403105580999977, 55.01458814100005], [-1.416669751999962, 55.01384884600003], [-1.429841603999932, 55.01322847200004], [-1.43654070499997, 55.006546599000046], [-1.442705011999976, 55.00039581000004], [-1.453303578999964, 54.98981534300003], [-1.483024592999925, 54.98728662600007], [-1.529212091999966, 54.983341549000045], [-1.449432139999942, 54.98435133700008], [-1.425746684999979, 55.00646155700008], [-1.420074884999963, 55.00458766400004], [-1.418657856999971, 55.003262963000054], [-1.412232259999939, 55.00616450400008], [-1.410661106999953, 54.99857684400007], [-1.376601600999948, 54.97754556400008], [-1.356630128999939, 54.965198790000045], [-1.363974790999976, 54.944076188000054], [-1.364651080999977, 54.93839538000003], [-1.365287749999936, 54.93304583200006], [-1.366113789999929, 54.92610288900005], [-1.352433427999927, 54.921386175000066], [-1.361495676999937, 54.92249946100003], [-1.363411189999965, 54.92274311700004], [-1.370881228999963, 54.91176789300005], [-1.360576889999948, 54.91597349300008], [-1.352755901999956, 54.91916416300006], [-1.350379226999962, 54.90583982100003], [-1.361640171999966, 54.898297514000035], [-1.360554492999938, 54.89541849500006], [-1.351820931999953, 54.87224350000008], [-1.347448591999978, 54.86062997200003], [-1.32066802199995, 54.83755295200007], [-1.329346287999954, 54.83796129900003], [-1.310329931999945, 54.79265490000006], [-1.301738865999937, 54.77215335400007], [-1.300754163999954, 54.769802137000056], [-1.298640714999976, 54.76811291900003], [-1.298323763999974, 54.76769951800003], [-1.295251271999973, 54.76540338900003], [-1.279514493999955, 54.752817830000026], [-1.242232642999966, 54.72296216800004], [-1.241935136999928, 54.72272370500008], [-1.242519715999947, 54.72243080000004], [-1.242839520999951, 54.72226390000003], [-1.209986375999961, 54.710644288000026], [-1.204728898999974, 54.708308801000044], [-1.199655074999953, 54.70698708600003], [-1.177633285999946, 54.699186405000034], [-1.174116185999935, 54.69209611400004], [-1.180674242999942, 54.69384343200005], [-1.196329380999941, 54.69856496800003], [-1.187509650999971, 54.69390945400005], [-1.18791916999993, 54.69343747900007], [-1.19653337099993, 54.683506142000056], [-1.19909662699996, 54.680549935000045], [-1.182799695999961, 54.65880440700005], [-1.173601198999961, 54.65491338900006], [-1.158020742999952, 54.64831946000004], [-1.157723828999963, 54.64819376100007], [-1.168446286999938, 54.64562025300006], [-1.173207407999939, 54.63345717700008], [-1.188762652999969, 54.63265110700007], [-1.193189877999941, 54.62905263700003], [-1.200175487999957, 54.62349874000006], [-1.162076801999945, 54.62264757500003], [-1.160443524999948, 54.61049151000003], [-1.198598989999937, 54.58287120600005], [-1.16025484599993, 54.60454013300006], [-1.14913054799996, 54.614331754000034], [-1.154624170999966, 54.627503499000056], [-1.135446418999948, 54.62963193000007], [-1.137475578999954, 54.64758314800008], [-1.126335863999941, 54.63641081600008], [-1.11881251899996, 54.62886144300006], [-1.072340920999977, 54.62019094900006], [-1.054117790999953, 54.61678508400007], [-1.036579609999933, 54.60906332300004], [-1.035876991999942, 54.608553122000046], [-1.03347421999996, 54.60769550500004], [-0.999991564999959, 54.592936671000075], [-0.962802243999931, 54.585161020000044], [-0.937778194999964, 54.588664822000055], [-0.896030319999966, 54.57140073900007], [-0.878107166999939, 54.57154561900006], [-0.877316261999965, 54.57120472100007], [-0.871252399999946, 54.57160031800004], [-0.853009737999969, 54.571743997000056], [-0.844067454999958, 54.569708365000054], [-0.842178900999954, 54.569278343000065], [-0.803071539999962, 54.56036497200006], [-0.794251723999935, 54.55835246300006], [-0.793271387999937, 54.55830515400004], [-0.774535975999925, 54.55739946400007], [-0.765140875999975, 54.54833008500003], [-0.765861908999966, 54.54710641600008], [-0.763195348999943, 54.54645140300005], [-0.744657289999964, 54.52854016400005], [-0.70797809499993, 54.531648285000074], [-0.698916968999924, 54.52674232500004], [-0.687394564999977, 54.52050108700007], [-0.677501365999944, 54.51513994600003], [-0.674289704999978, 54.51339906900006], [-0.672669483999925, 54.51252074100006], [-0.672128353999938, 54.50985826200008], [-0.671130284999947, 54.504946664000045], [-0.670278678999978, 54.50075491800004], [-0.654957853999974, 54.49903455900005], [-0.613150331999975, 54.494329436000044], [-0.613090984999928, 54.49395507600008], [-0.614392813999928, 54.48812882500005], [-0.610796543999925, 54.49350236500004], [-0.606399490999934, 54.49205960300003], [-0.600922121999929, 54.48995872000006], [-0.600101907999942, 54.48999278400004], [-0.585111173999962, 54.485070790000066], [-0.585443991999966, 54.48478959800008], [-0.583320371999946, 54.48448260300006], [-0.569800771999951, 54.48004071000008], [-0.520960525999953, 54.44640515200007], [-0.532679085999973, 54.433611746000054], [-0.528523757999949, 54.42549055400008], [-0.528681666999944, 54.42530009300003], [-0.528365932999975, 54.42518203600008], [-0.524577627999975, 54.417775164000034], [-0.503051653999933, 54.40767298600008], [-0.464999746999979, 54.38979428700003], [-0.462211292999939, 54.38683906300008], [-0.461666827999977, 54.38597991800003], [-0.461484076999966, 54.385691535000035], [-0.446236831999954, 54.361616182000034], [-0.445651314999964, 54.35913984300004], [-0.444398364999927, 54.35871122600008], [-0.432690784999977, 54.34020172800007], [-0.417052816999956, 54.33146523800008], [-0.416911469999945, 54.330910223000046], [-0.411406485999976, 54.30928295000007], [-0.407501042999968, 54.29392685500005], [-0.404152745999966, 54.29307526800005], [-0.394029671999931, 54.29049974700007], [-0.384672027999954, 54.28811791600003], [-0.390391401999977, 54.281658582000034], [-0.39350604699996, 54.27813975600003], [-0.396684670999946, 54.27454781400007], [-0.368744867999965, 54.24852064400005], [-0.365789094999968, 54.24764203500007], [-0.365849652999941, 54.24733594600008], [-0.34702492699995, 54.24206179400005], [-0.311987102999979, 54.23163009500007], [-0.264295834999928, 54.217406348000054], [-0.259297815999957, 54.21591405300006], [-0.260691403999942, 54.21569595100004], [-0.278031258999931, 54.21298063300003], [-0.282293688999971, 54.21231271700003], [-0.281122695999954, 54.20581955100005], [-0.281759600999976, 54.20350266100007], [-0.280047062999927, 54.199853749000056], [-0.277801476999969, 54.187394475000076], [-0.263195741999937, 54.18073157100008], [-0.216468590999966, 54.15938919100006], [-0.21258086399996, 54.15761168000006], [-0.164355385999954, 54.146018628000036], [-0.141552805999936, 54.14053209900004], [-0.102377549999972, 54.13096784900006], [-0.076361260999931, 54.11635572700004], [-0.10514913399993, 54.10401035400008], [-0.111332195999978, 54.10348135700008], [-0.157918354999936, 54.099484964000055], [-0.166442901999972, 54.09875164400006], [-0.167293083999937, 54.098678473000064], [-0.198424021999926, 54.07791863800003], [-0.212979435999955, 54.05374169900006], [-0.21306767699997, 54.03310359200003], [-0.213823328999979, 54.02881120300003], [-0.213100592999979, 54.02538580100003], [-0.213111921999939, 54.02272731700003], [-0.213174579999929, 54.007999194000035], [-0.173626037999952, 53.935013078000054], [-0.155535520999933, 53.90153815500008], [-0.137698648999958, 53.88457447700006], [-0.121665440999948, 53.866097902000035], [-0.075889292999932, 53.82566522900004], [-0.041993784999931, 53.793277068000066], [0.116999388000067, 53.66225912500005], [0.11724846900006, 53.66180081300007], [0.119456790000072, 53.657737034000036], [0.148220525000056, 53.60473253400005], [0.146211723000022, 53.60056071200006], [0.112908859000072, 53.57497964600003], [0.108969493000075, 53.57197489400005], [0.112927557000035, 53.57535506200003], [0.146278672000051, 53.60359771800006], [0.142233511000029, 53.61168660800007], [0.115376649000041, 53.62439860500007], [0.081283486000075, 53.64051633000008], [0.033701399000051, 53.64927742300006], [0.019476620000034, 53.64525068900008], [0.000576481000053, 53.654860685000074], [0.017327389000059, 53.644915645000026], [-0.053789216999974, 53.62900136500008], [-0.103546755999957, 53.63534187700003], [-0.148867888999973, 53.662185374000046], [-0.184535110999946, 53.683275138000056], [-0.227254981999977, 53.70849382000006], [-0.244392975999972, 53.73083181000004], [-0.251150830999961, 53.73270391800003], [-0.251681709999957, 53.73285096300003], [-0.286747839999975, 53.742556198000045], [-0.332635101999927, 53.738289595000026], [-0.419140453999944, 53.71959108500005], [-0.486294813999962, 53.71353783600006], [-0.54256462799998, 53.70844283800005], [-0.583338033999951, 53.72660044100007], [-0.630217958999935, 53.73399352600006], [-0.637248945999943, 53.72889345100003], [-0.618534438999973, 53.73051022800007], [-0.671611924999979, 53.72184273800008], [-0.695979869999974, 53.704361971000026], [-0.725134203999971, 53.70685787800005], [-0.698498574999974, 53.697654], [-0.70245663399993, 53.67749142900004], [-0.698493610999947, 53.684611251000035], [-0.685346895999942, 53.67674700200007], [-0.694219157999953, 53.695224566000036], [-0.639504084999942, 53.710169215000064], [-0.61065500199993, 53.714458250000064], [-0.586254450999945, 53.693338752000045], [-0.523512672999971, 53.67699373000005], [-0.48708268799993, 53.69158188700004], [-0.470491490999962, 53.69821867500008], [-0.393535096999926, 53.69687486300006], [-0.294218606999948, 53.714146249000066], [-0.234502192999969, 53.66347826700007], [-0.204624037999963, 53.63807129600008], [-0.204422800999964, 53.63790004600003], [-0.186866463999934, 53.62894712100007], [-0.093011754999964, 53.58097822600007], [-0.079457730999934, 53.57693019200008], [-0.071450831999925, 53.584100113000034], [-0.060806770999932, 53.582075402000044], [0.016776592000042, 53.52572221600008], [0.010638910000068, 53.52146937400005], [-0.014525495999976, 53.51541333600005], [-0.019548458999964, 53.51797529800007], [-0.028638815999955, 53.51733775100007], [-0.03968976799996, 53.51310276800007], [-0.046613277999938, 53.52009865200006], [-0.064938445999928, 53.518806133000055], [-0.075261827999952, 53.48933572400006], [-0.095488517999968, 53.485988958000064], [-0.089803686999971, 53.47768245900005], [-0.107864223999968, 53.46989403100008], [-0.082208968999964, 53.45115092900005], [-0.120339335999972, 53.43359968000004], [-0.122634898999934, 53.43725534500004], [-0.131807213999934, 53.43593741400008], [-0.134248064999952, 53.440738241000076], [-0.144445671999961, 53.44095016000006], [-0.149285426999938, 53.446863300000075], [-0.158545643999958, 53.461618489000045], [-0.153709166999931, 53.46573398800007], [-0.181801854999946, 53.46871146700005], [-0.188565407999931, 53.484538100000066], [-0.210604929999931, 53.48628838900004], [-0.204086558999961, 53.51176738000004], [-0.213624081999967, 53.52635867600003], [-0.210589572999936, 53.53170679500005], [-0.219819247999965, 53.53261558100007], [-0.18749347399995, 53.56357434800003], [-0.189609170999972, 53.56625178100006], [-0.19518508799996, 53.57161904800006], [-0.22265030799997, 53.568034639000075], [-0.234658954999929, 53.58624359800007], [-0.239084435999928, 53.588179739000054], [-0.251395628999944, 53.58465315500007], [-0.248494047999941, 53.593633443000044], [-0.254493569999966, 53.592439590000026], [-0.259349142999952, 53.59696478300003], [-0.269704866999973, 53.598509524000065], [-0.283002814999975, 53.60449824900007], [-0.286960876999956, 53.61183189700006], [-0.290418186999943, 53.610631787000045], [-0.292115056999933, 53.61326741100004], [-0.298237150999967, 53.612561646000074], [-0.300930324999968, 53.616388], [-0.308555221999939, 53.61432866100006], [-0.300743018999924, 53.595283479000045], [-0.303517541999952, 53.59083091900004], [-0.310867808999944, 53.59015444800008], [-0.335827477999942, 53.558685438000055], [-0.348658909999926, 53.55951288800003], [-0.348030184999971, 53.55608267700006], [-0.356284538999944, 53.55605445400005], [-0.417649051999945, 53.56331529300007], [-0.42900102699997, 53.574524620000034], [-0.43940760199996, 53.57029317100006], [-0.450706666999963, 53.55799852200005], [-0.456852513999934, 53.55930080700006], [-0.466410414999928, 53.55549962600003], [-0.467018073999952, 53.54896097400007], [-0.476482761999932, 53.545877860000076], [-0.490906051999957, 53.54585931400004], [-0.501229083999931, 53.537461232000055], [-0.430699990999926, 53.54632411000006], [-0.421870775999935, 53.534433712000066], [-0.413495109999928, 53.53570386700005], [-0.408144929999935, 53.53210872800008], [-0.405057223999961, 53.51759523800007], [-0.444028027999934, 53.509371686000065], [-0.475871932999951, 53.50893435100005], [-0.488388209999925, 53.504827326000054], [-0.480686547999937, 53.49624557100003], [-0.48777163699998, 53.487779345000035], [-0.48657699599994, 53.480479356000046], [-0.471749706999958, 53.47487283800007], [-0.556966560999967, 53.45900932900008], [-0.599479840999948, 53.45640213000007], [-0.629752726999925, 53.45821902300003], [-0.626705601999959, 53.46186596900003], [-0.634806710999953, 53.46955173500004], [-0.633950666999965, 53.48543357300008], [-0.630134238999972, 53.48599442200003], [-0.625687803999938, 53.495591526000055], [-0.628213529999925, 53.50679390800008], [-0.624481054999933, 53.51282116200008], [-0.675758401999929, 53.512509830000056], [-0.687380836999978, 53.51643213500006], [-0.701630119999948, 53.514169637000066], [-0.739591687999962, 53.51993601300006], [-0.752113514999962, 53.500530308000066], [-0.768109815999935, 53.49892590400003], [-0.775623891999942, 53.48902502100003], [-0.771568386999945, 53.47920169200006], [-0.784388908999972, 53.476669195000056], [-0.784364749999952, 53.46337981000005], [-0.797483545999967, 53.45506431800004], [-0.809540245999926, 53.44361269500007], [-0.820515916999966, 53.44074756400005], [-0.818092195999952, 53.42697883900007], [-0.80363243499994, 53.41714247900006], [-0.788625370999966, 53.41526112300005], [-0.788133587999937, 53.40435997800006], [-0.777139171999977, 53.39677432700006], [-0.77717813299995, 53.38977949200006], [-0.790442518999953, 53.38585371100004], [-0.775235779999946, 53.37775878200006], [-0.786036344999957, 53.37455289600007], [-0.791132384999969, 53.363551579000045], [-0.780684623999946, 53.36125366500005], [-0.774459183999966, 53.36443249400003], [-0.758616424999957, 53.35383706300007], [-0.764791369999955, 53.346056341000065], [-0.756719663999945, 53.33967553800005], [-0.766473789999964, 53.330107414000054], [-0.76011815399994, 53.324685886000054], [-0.749955471999954, 53.324218306000034], [-0.75400336499996, 53.313477986000066], [-0.747137824999925, 53.30433331900008], [-0.750967094999965, 53.293602315000044], [-0.758020563999935, 53.292873100000065], [-0.759211494999931, 53.29842404200008], [-0.763502245999973, 53.29943719900007], [-0.766270991999932, 53.292524713000034], [-0.778125300999932, 53.28385435100006], [-0.764279838999926, 53.272739071000046], [-0.773098735999952, 53.26073611800007], [-0.770175931999972, 53.25309740600005], [-0.778486987999941, 53.25199231000005], [-0.777074410999944, 53.246908166000026], [-0.783443301999966, 53.225945427000056], [-0.775573822999945, 53.21495841400008], [-0.780365209999957, 53.19639741600008], [-0.790077272999952, 53.199146718000065], [-0.787292548999972, 53.20456535900007], [-0.815723656999978, 53.204918692000035], [-0.821572231999937, 53.201349142000026], [-0.832060788999968, 53.20672987100005], [-0.830520887999967, 53.212830807000046], [-0.836956470999951, 53.21365759100007], [-0.830798283999968, 53.217565327000045], [-0.839821180999934, 53.218919017000076], [-0.848213378999958, 53.21866188800004], [-0.848497946999942, 53.215308779000054], [-0.857838750999974, 53.21220656200006], [-0.879410837999956, 53.22106718900005], [-0.894342537999933, 53.22359962500008], [-0.948919369999942, 53.21411924500006], [-0.947264571999938, 53.22582889600005], [-0.967542213999934, 53.23533319500007], [-1.006768130999944, 53.236185195000076], [-1.023548369999958, 53.24780280200008], [-1.027877400999955, 53.26101090100008], [-1.072483468999962, 53.24090601800003], [-1.103297152999971, 53.23560711400006], [-1.111459033999949, 53.23044038200004], [-1.122082260999946, 53.23085619200003], [-1.123807180999961, 53.22464475700008], [-1.140328945999954, 53.225736906000066], [-1.171120587999951, 53.21895908800008], [-1.202237000999958, 53.216117041000075], [-1.209424363999972, 53.21769611800005], [-1.201996981999969, 53.23555518000006], [-1.213026658999979, 53.24767250700006], [-1.202450347999957, 53.26121941400004], [-1.174689615999966, 53.26516512300003], [-1.181543046999934, 53.27003184700004], [-1.166489165999963, 53.27765472200008], [-1.180116861999977, 53.28713473200003], [-1.171562352999956, 53.29463685800005], [-1.176627277999955, 53.30513169400007], [-1.187204872999928, 53.30397968200003], [-1.199738361999948, 53.311438397000074], [-1.203175088999956, 53.30419127000005], [-1.219531114999938, 53.304000494000036], [-1.230596367999965, 53.30864191400008], [-1.243453728999953, 53.301598582000054], [-1.254255109999974, 53.30175552600008], [-1.27359828799996, 53.31044041700005], [-1.282003524999936, 53.309479700000054], [-1.295468339999957, 53.31487303600005], [-1.295158912999966, 53.321791620000056], [-1.288558430999956, 53.32617122100004], [-1.299071966999975, 53.33253266600008], [-1.312333679999938, 53.334168661000035], [-1.310327951999966, 53.329396658000064], [-1.320912895999925, 53.325577975000044], [-1.324726590999944, 53.32883261100005], [-1.32842468399997, 53.32887858600003], [-1.33775170499996, 53.31584764100006], [-1.347288781999964, 53.318901494000045], [-1.361745010999925, 53.318542885000056], [-1.362655271999927, 53.31502128900007], [-1.386841981999964, 53.31761487000006], [-1.392054689999952, 53.32266314000003], [-1.386659454999972, 53.33485713500005], [-1.411088976999963, 53.342017070000054], [-1.420867366999971, 53.33456806700008], [-1.44201310699998, 53.33741178300005], [-1.451299509999956, 53.331345224000074], [-1.459930517999965, 53.33063030500006], [-1.455242108999926, 53.32184411700007], [-1.467914011999937, 53.31714427400004], [-1.478421597999954, 53.319372299000065], [-1.502108022999948, 53.31758903000008], [-1.531277152999962, 53.31063337000006], [-1.536914281999941, 53.30473062800007], [-1.561766344999967, 53.30642454300005], [-1.555822278999926, 53.31170653400005], [-1.56166057799993, 53.31596882700006], [-1.580533842999955, 53.31173765800003], [-1.583078192999949, 53.315697657000044], [-1.578995026999962, 53.31669205800006], [-1.585031519999973, 53.321589267000036], [-1.599077712999929, 53.31137847600007], [-1.601524875999928, 53.318205471000056], [-1.60883492399995, 53.322554025000045], [-1.628160688999969, 53.31630165400003], [-1.632771980999962, 53.32082764200004], [-1.612226826999972, 53.34321051300003], [-1.601575387999958, 53.34260892000003], [-1.590586505999966, 53.34595886500006], [-1.625603797999929, 53.352061794000065], [-1.63059259299996, 53.356160988000056], [-1.663958196999943, 53.36689024200007], [-1.663292179999928, 53.37424770700005], [-1.653516583999931, 53.38511456100008], [-1.654644100999974, 53.39293087300007], [-1.668089978999944, 53.393070882000075], [-1.681828491999966, 53.40178075100005], [-1.694521395999971, 53.40116126000004], [-1.704964907999965, 53.40505587300004], [-1.703234202999965, 53.41372220200003], [-1.708774493999954, 53.417439915000045], [-1.718208027999935, 53.41948037900005], [-1.729951473999961, 53.41598556900004], [-1.739779104999968, 53.42097713800007], [-1.746737086999929, 53.42619362500005], [-1.744272834999947, 53.431296702000054], [-1.749728, 53.439119290000065], [-1.743680981999944, 53.444955218000075], [-1.748082529999976, 53.45743386800007], [-1.745330673999945, 53.46218376300004], [-1.752414254999962, 53.46495776900008], [-1.768350257999941, 53.464723665000065], [-1.780297724999969, 53.47483899200006], [-1.791140410999958, 53.47583307500008], [-1.801470730999938, 53.48099171400003], [-1.796209946999966, 53.50312083100005], [-1.810287329999937, 53.506341829000064], [-1.800779260999946, 53.51137882300003], [-1.819523713999956, 53.51342822600003], [-1.822228740999947, 53.52109102800006], [-1.827151844999946, 53.52350794100005], [-1.841820995999967, 53.51990867500007], [-1.873492802999976, 53.54042933300008], [-1.894109474999937, 53.53361184900007], [-1.89932224699993, 53.53811239800007], [-1.909620932999928, 53.538391208000064], [-1.912884692999967, 53.55164366500003], [-1.924826179999968, 53.55258472500003], [-1.942725939999946, 53.561641217000044], [-1.947151472999963, 53.57216826600006], [-1.978243977999966, 53.586788194000064], [-2.009470664999981, 53.61677942100005], [-2.023035929999935, 53.61583933400004], [-2.026868628999978, 53.62424435500003], [-2.029996638999933, 53.636169378000034], [-2.041323293999938, 53.64138717000003], [-2.037095296999951, 53.662342780000074], [-2.053977759999952, 53.671943217000035], [-2.054458069999953, 53.67676767800003], [-2.048901751999949, 53.68022680200005], [-2.051242234999961, 53.68369162600004], [-2.061805884999956, 53.68284690400003], [-2.073398674999964, 53.67751009500006], [-2.083166995999932, 53.67807523100004], [-2.086263566999946, 53.671130625000046], [-2.092906311999968, 53.67016110800006], [-2.097039821999942, 53.67262600500004], [-2.118084951999947, 53.671245327000065], [-2.134127485999954, 53.68573392500008], [-2.142257593999943, 53.678005823000035], [-2.146328120999954, 53.68223149600004], [-2.145190829999933, 53.69219888200007], [-2.162582764999968, 53.69922152400005], [-2.162532387999931, 53.70725195600005], [-2.173293692999948, 53.723011847000066], [-2.156090493999955, 53.73532475400003], [-2.14909296999997, 53.73389644700006], [-2.145407979999959, 53.73605497500006], [-2.141646076999962, 53.745740599000044], [-2.130834669999956, 53.75207037600006], [-2.130464150999956, 53.772389426000075], [-2.136362541999972, 53.78010437800003], [-2.124815341999977, 53.788055170000064], [-2.129721410999935, 53.79163165300008], [-2.128360983999926, 53.79901899100008], [-2.084859151999979, 53.81855409500008], [-2.061250542999971, 53.825635428000055], [-2.046924864999937, 53.829510320000054], [-2.046131233999972, 53.850141707000034], [-2.07484954499995, 53.862367180000035], [-2.081191331999946, 53.86997145400005], [-2.089915029999929, 53.86818208600005], [-2.082511730999954, 53.87764264200007], [-2.103019022999945, 53.890941430000055], [-2.113176002999978, 53.90461146600006], [-2.107467313999962, 53.908042487000046], [-2.113345983999977, 53.91562698300004], [-2.121758211999975, 53.917330916000026], [-2.124350289999938, 53.92320065700005], [-2.139978206999956, 53.92832555200005], [-2.141798515999938, 53.92567458900004], [-2.149432819999959, 53.92602786200007], [-2.15171623599997, 53.92948412000004], [-2.162876691999941, 53.92726996300007], [-2.164120159999925, 53.934635367000055], [-2.17167933199994, 53.937688467000044], [-2.175945084999967, 53.93426019100008], [-2.183922841999959, 53.93661986400008], [-2.183964800999945, 53.94511524100005], [-2.179468689999965, 53.945985405000044], [-2.191797251999958, 53.95868200800004], [-2.196019533999959, 53.96957632800007], [-2.200635331999933, 53.970126407000066], [-2.20963923599993, 53.962898747000054], [-2.214420192999967, 53.96509927000005], [-2.225736327999925, 53.96109949300006], [-2.225947907999966, 53.96725363500008], [-2.232015375999936, 53.97123001800003], [-2.221062479999944, 53.977927702000045], [-2.230345426999975, 53.98153025900007], [-2.294319659999928, 53.974432910000075], [-2.298854699999936, 53.97656053000003], [-2.296733434999965, 53.98055428200007], [-2.319151131999945, 53.99384193000003], [-2.339923306999935, 53.98942778900005], [-2.352357405999953, 53.99467382800003], [-2.352310489999979, 54.010539066000035], [-2.350288832999979, 54.012200395000036], [-2.340760031999935, 54.007462443000065], [-2.339560243999927, 54.009433295000065], [-2.343540618999953, 54.01732761000005], [-2.357323268999949, 54.01911695600006], [-2.36199942099995, 54.040669723000065], [-2.374071739999977, 54.04908816500006], [-2.425826290999964, 54.03809503900004], [-2.432733828999972, 54.041593214000045], [-2.458775074999949, 54.04049559500004], [-2.469549664999931, 54.04621251300006], [-2.463990413999966, 54.06108416700005], [-2.466886363999947, 54.075738742000055], [-2.455026161999967, 54.09198149300005], [-2.446710179999968, 54.09666064600003], [-2.454900432999978, 54.10091194800003], [-2.450638590999972, 54.103277407000064], [-2.457017081999936, 54.10799899400007], [-2.449331444999927, 54.124099347000026], [-2.44420088399994, 54.12918733400005], [-2.435735291999947, 54.12800334500008], [-2.433338996999964, 54.13151797000006], [-2.427651414999957, 54.131427674000065], [-2.428321292999954, 54.137198900000044], [-2.414044351999962, 54.14851469200005], [-2.395137256999931, 54.15687903000003], [-2.396486129999971, 54.16601845800005], [-2.375522346999958, 54.17258442600007], [-2.371199409999974, 54.18422217600005], [-2.356822805999968, 54.194101541000066], [-2.342349125999931, 54.202619336000055], [-2.331133177999959, 54.196723880000036], [-2.33589772199997, 54.204285318000075], [-2.346576721999952, 54.20781034700008], [-2.326563445999966, 54.21940983300004], [-2.322344189999967, 54.22765981600003], [-2.29527040399995, 54.23060198100006], [-2.286406160999945, 54.240496620000044], [-2.292568030999973, 54.25252133400005], [-2.305106773999967, 54.24934346900005], [-2.320814055999961, 54.259921071000065], [-2.315495166999938, 54.270204196000066], [-2.32589090099998, 54.27969593900008], [-2.317191929999979, 54.28716559600008], [-2.324171854999975, 54.29360484800003], [-2.320390118999967, 54.29904453700004], [-2.32452243299997, 54.303183570000044], [-2.32040124699995, 54.30677061500006], [-2.323032324999929, 54.31108273000007], [-2.314977419999934, 54.313586188000045], [-2.309841635999931, 54.32431492300003], [-2.320202174999963, 54.33175072800003], [-2.334749081999973, 54.33494428200004], [-2.335767582999949, 54.34043450900003], [-2.367712461999929, 54.35607076300005], [-2.382317891999946, 54.371314719000054], [-2.40628703699997, 54.37025305000003], [-2.420874058999971, 54.36584507600003], [-2.443772352999929, 54.37602822200006], [-2.453079594999963, 54.37449444400005], [-2.462742140999978, 54.368386643000065], [-2.483652971999959, 54.37735236200007], [-2.507361598999978, 54.37291668100005], [-2.51368830499996, 54.36793484800006], [-2.521157882999944, 54.36993084300008], [-2.523461743999974, 54.37535725200007], [-2.533990638999967, 54.38108422200003], [-2.531088759999932, 54.38456692800003], [-2.538224060999937, 54.39422541700003], [-2.552337037999962, 54.38696994600008], [-2.575275040999941, 54.39198389500007], [-2.583470488999978, 54.38765049300008], [-2.601738830999977, 54.39895650400007], [-2.603975452999975, 54.40692844500006], [-2.614862900999981, 54.40938814300006], [-2.640276578999931, 54.404346169000064], [-2.644658173999971, 54.41025265500008], [-2.660430013999928, 54.41423575300007], [-2.666307028999938, 54.421563896000066], [-2.686803611999949, 54.426665212000046], [-2.690955910999946, 54.429142744000046], [-2.689215729999944, 54.445755286000065], [-2.696681339999941, 54.44622031800003], [-2.698461876999943, 54.43823134400003], [-2.694686353999941, 54.436236346000044], [-2.703522802999942, 54.432078069000056], [-2.737074998999958, 54.44683090900003], [-2.747615148999955, 54.44707964600008], [-2.771623466999927, 54.463228686000036], [-2.776991789999954, 54.45987244400004], [-2.789176572999963, 54.464981858000044], [-2.796241369999962, 54.469928706000076], [-2.795420670999931, 54.475268], [-2.806877045999954, 54.48206012900005], [-2.816000440999971, 54.47463024600006], [-2.827613352999947, 54.47993089000005], [-2.838619616999949, 54.476161267000066], [-2.853011670999933, 54.47853843300004], [-2.854481354999962, 54.48335222400004], [-2.865460742999971, 54.490024289000075], [-2.875617773999977, 54.481100619000074], [-2.883665051999969, 54.484956786000055], [-2.906278350999969, 54.48134790800003], [-2.919818779999957, 54.46477914600007], [-2.931454556999938, 54.46987280900004], [-2.937552805999928, 54.468670745000054], [-2.955347328999949, 54.48453233200007], [-2.96636045899993, 54.48223216000008], [-2.980476892999945, 54.49595436700008], [-3.001920840999958, 54.497322272000076], [-3.013084578999951, 54.49463717700007], [-3.014834700999927, 54.49984329600005], [-3.020961513999964, 54.49983860200007], [-3.048303829999952, 54.49627817700008], [-3.05080159399995, 54.49126521300008], [-3.061985400999959, 54.49252266000008], [-3.076214339999979, 54.48936559200007], [-3.088265210999964, 54.48396415800005], [-3.097753021999949, 54.471903472000065], [-3.109479177999958, 54.47400370100007], [-3.115704687999937, 54.46658286100006], [-3.112573273999942, 54.46149082800008], [-3.119425417999935, 54.46023757300003], [-3.132213046999937, 54.464543968000044], [-3.136444058999928, 54.47074609300006], [-3.144960336999929, 54.46875758700003], [-3.153825380999933, 54.46015397500008], [-3.167139376999955, 54.45411067800006], [-3.166278925999961, 54.447766469000044], [-3.161116423999943, 54.44703707000008], [-3.158591736999938, 54.44217740900007], [-3.157944382999972, 54.43130613100004], [-3.182233758999928, 54.425466045000064], [-3.181170549999933, 54.413252415000045], [-3.188967403999925, 54.405958816000066], [-3.185740889999977, 54.40328155900005], [-3.198652482999933, 54.39240839000007], [-3.232561698999973, 54.376031943000044], [-3.243379306999941, 54.36308635700004], [-3.271599711999954, 54.35816533700006], [-3.292717194999966, 54.361031241000035], [-3.298577757999965, 54.359230859000036], [-3.301405256999942, 54.352247386000045], [-3.308259041999975, 54.34922355800006], [-3.298809969999979, 54.34753501600005], [-3.295096120999972, 54.34274500500004], [-3.302828298999941, 54.33135124300003], [-3.294863048999957, 54.325468966000074], [-3.308160761999943, 54.32220349500005], [-3.304105225999933, 54.299789915000076], [-3.313681506999956, 54.29182162300003], [-3.301025558999925, 54.27946214200006], [-3.304164081999943, 54.27593658200004], [-3.32041186999993, 54.271629106000034], [-3.322778006999954, 54.275559447000035], [-3.347297338999965, 54.283979173000034], [-3.347072490999949, 54.27963699800006], [-3.368826465999973, 54.27612044800003], [-3.370190477999927, 54.271359450000034], [-3.379542835999928, 54.27261440600006], [-3.386487759999966, 54.268317797000066], [-3.392623113999946, 54.27016593900004], [-3.397146263999957, 54.26774705500003], [-3.418789919999938, 54.28263098700006], [-3.419676107999976, 54.28249966300007], [-3.421403813999973, 54.28440213500005], [-3.414025305999928, 54.357931980000046], [-3.435285289999968, 54.34338261200003], [-3.479521442999953, 54.38641658100005], [-3.509616205999976, 54.415632008000046], [-3.543423128999962, 54.44086491000007], [-3.636113423999973, 54.50983764100005], [-3.638119900999925, 54.51232229700008], [-3.607324149999954, 54.530876385000056], [-3.599178751999943, 54.55225872400007], [-3.597405171999981, 54.55239145200005], [-3.589780148999978, 54.54980557600004], [-3.584705636999956, 54.564840994000065], [-3.572586546999958, 54.60070497400005], [-3.565889309999932, 54.61227568000004], [-3.580046706999951, 54.652246466000065], [-3.571744407999972, 54.65091371300008], [-3.55197577399997, 54.66663982400007], [-3.519345886999929, 54.692563791000055], [-3.509881355999937, 54.71762340300006], [-3.494186488999958, 54.71241899000006], [-3.507128738999938, 54.717621662000056], [-3.456892508999942, 54.74619935800007], [-3.439017152999952, 54.75635364000004], [-3.43769382499994, 54.80200485200004], [-3.399842159999935, 54.86746382000007], [-3.398555083999952, 54.86843264600003], [-3.394254936999971, 54.86802486300007], [-3.397224389999963, 54.86943424100008], [-3.37773584599995, 54.88409576000004], [-3.338846000999979, 54.900233978000074], [-3.339757634999955, 54.89626958100007], [-3.302203597999949, 54.88513064400007], [-3.281855687999951, 54.874977], [-3.288540721999937, 54.892040044000055], [-3.275368601999958, 54.89188074800006], [-3.266457602999935, 54.891714268000044], [-3.249096688999941, 54.90179047500004], [-3.248571483999967, 54.902095186000054], [-3.249132514999928, 54.902947434000055], [-3.254344362999973, 54.91086273700006], [-3.274908057999937, 54.903063563000046], [-3.308158774999924, 54.91149118000004], [-3.313270462999981, 54.91919814400006], [-3.30258973499997, 54.927697685000055], [-3.285178450999979, 54.941543651000075], [-3.265337305999935, 54.943034330000046], [-3.268938284999933, 54.93707352200005], [-3.250442693999958, 54.94520576500008], [-3.232201902999975, 54.953220016000046], [-3.204392174999953, 54.95387531400007], [-3.131043664999936, 54.929415971000026], [-3.11887035899997, 54.925349303000075], [-3.103015056999936, 54.92967419300004], [-3.073619160999954, 54.937684653000076], [-3.129785, 54.93440490300003], [-3.131118684999933, 54.94761022300003], [-3.108730701999946, 54.94911506500006], [-3.11626886099998, 54.96066230000008], [-3.104023014999939, 54.97137390600005], [-3.075683716999947, 54.96759741200003], [-3.074555893999957, 54.96860823000003], [-3.073705903999951, 54.968525242000055], [-3.073525937999932, 54.96953128200005], [-3.058417405999933, 54.98306578100005], [-3.056598448999978, 54.982826361000036], [-3.053451755999959, 54.99280453800003], [-3.058108226999934, 54.990691628000036], [-3.058291613999927, 54.99152878500007], [-3.044081278999954, 54.99864093300005], [-3.044901725999978, 55.00765043800004], [-3.048651381999946, 55.00681656300003], [-3.049497070999962, 55.009383025000034], [-3.03931664199996, 55.016420657000026], [-3.040126608999969, 55.022635120000075], [-3.030070885999976, 55.02472820500003], [-3.034313957999927, 55.02990888200003], [-3.026044273999958, 55.035361841000054], [-3.040228401999968, 55.04117615600006], [-3.043364640999926, 55.04738326300003], [-3.053419718999976, 55.04728404800005], [-3.051051982999979, 55.05273599700007], [-3.043171265999945, 55.05566063300006], [-3.027550729999973, 55.055281215000036], [-2.958593512999926, 55.04929459300007], [-2.955415247999952, 55.05474426900008], [-2.936450438999941, 55.059618869000076], [-2.94305641099993, 55.064309009000056], [-2.939705277999963, 55.06957765200008], [-2.926182167999968, 55.07056553600006], [-2.914570940999965, 55.07898358700004], [-2.897046543999977, 55.07787189600003], [-2.893551916999968, 55.08763704900008], [-2.884052337999947, 55.08732445100003], [-2.882315202999962, 55.09294897800004], [-2.886426790999963, 55.09465178900007], [-2.876761106999936, 55.095256429000074], [-2.87085925599996, 55.10626481800006], [-2.844869270999936, 55.11158571400006], [-2.845622122999941, 55.11538558500007], [-2.83794504399998, 55.11735438100004], [-2.841519335999976, 55.12232269000003], [-2.832692874999964, 55.12148022400004], [-2.827132742999936, 55.12543494200003], [-2.83297979799994, 55.13264860900006], [-2.825502569999969, 55.13831411500007], [-2.812752951999926, 55.136183377000066], [-2.784918851999976, 55.141775575000054], [-2.774947001999976, 55.14926562200003], [-2.746255921999932, 55.158223872000065], [-2.732561302999954, 55.167287387000044], [-2.703507651999928, 55.17316759000005], [-2.689790291999941, 55.18898422900003], [-2.666814730999931, 55.22158035700005], [-2.648070077999932, 55.21986702300006], [-2.63141423999997, 55.22369815400003], [-2.63580589999998, 55.229766151000035], [-2.630229128999929, 55.24479149100006], [-2.611451109999962, 55.247134662000065], [-2.627652799999964, 55.25057260600005], [-2.64677127799996, 55.26004384500004], [-2.626656088999937, 55.26222097400006], [-2.628190572999927, 55.267932735000045], [-2.609238167999933, 55.28324814300004], [-2.573363121999932, 55.29688439700004], [-2.573704156999952, 55.30078599800004], [-2.557090038999945, 55.31160937300007], [-2.559008357999971, 55.31785300900003], [-2.55042505199998, 55.31578540800007], [-2.530768493999972, 55.32270891400003], [-2.520269485999961, 55.323047279000036], [-2.490968002999978, 55.350396825000075], [-2.475393431999976, 55.35474002400008], [-2.467537878999963, 55.35275759400008], [-2.444651797999938, 55.35916068100005], [-2.429230590999964, 55.35643464900005], [-2.414996411999937, 55.35892174900005], [-2.402184000999966, 55.35440616900007], [-2.399505093999949, 55.34822143100007], [-2.378911812999945, 55.34916955800003], [-2.37279842099997, 55.355069436000065], [-2.337529966999966, 55.36719098100008], [-2.346232938999947, 55.373060914000064], [-2.330020304999948, 55.381241662000036], [-2.334741553999947, 55.38315510000007], [-2.33551225399998, 55.392565363000074], [-2.344946810999943, 55.39931353500003], [-2.333530674999963, 55.40242510100006], [-2.335629144999928, 55.40820804600003], [-2.332366312999966, 55.40991095800007], [-2.313253524999936, 55.40678956800008], [-2.312544874999958, 55.40985543800008], [-2.295934834999969, 55.41492193100004], [-2.29451342599998, 55.42046514000003], [-2.273892607999926, 55.425980537000044], [-2.270646720999935, 55.42959319300007], [-2.262243359999957, 55.42855796300006], [-2.260611121999943, 55.43293397100007], [-2.242543698999953, 55.432146216000035], [-2.23128199599995, 55.42842955800006], [-2.194857968999941, 55.44459048600004], [-2.188077987999975, 55.46211534000008], [-2.165521296999941, 55.468381933000046], [-2.173723643999949, 55.47227097700005], [-2.201335695999944, 55.47526734000007], [-2.206355224999925, 55.481559951000065], [-2.20264932799995, 55.48954116900006], [-2.219452504999936, 55.50573228800005], [-2.228845466999928, 55.509518643000035], [-2.224283257999957, 55.52278767300004], [-2.227602341999955, 55.528408126000045], [-2.233217082999943, 55.52961326500008], [-2.232248853999977, 55.54482995700005], [-2.240306428999929, 55.55562706300003], [-2.247854378999932, 55.55673064600006], [-2.288810592999937, 55.580307463000054], [-2.292391614999929, 55.585798468000064], [-2.285935883999969, 55.59654376200007], [-2.289232129999959, 55.60377351200003], [-2.295135258999949, 55.60862256300004], [-2.307286202999933, 55.611104143000034], [-2.316094086999954, 55.62045845100005], [-2.308934662999945, 55.62247951900008], [-2.30862605599998, 55.62887593800008], [-2.324310472999969, 55.62616607400008], [-2.33600533699996, 55.632481390000066], [-2.326510478999978, 55.63675366700005], [-2.324994738999976, 55.64302034000008], [-2.305789540999967, 55.64704403600007], [-2.278878617999965, 55.64274938800003], [-2.25555957499995, 55.64447242700004], [-2.245696014999965, 55.63958404200008], [-2.234183472999973, 55.64119709000005], [-2.231917778999957, 55.645144868000045], [-2.248237262999965, 55.65206554000008], [-2.230352928999935, 55.662266001000035], [-2.218452783999965, 55.664260014000035], [-2.218659369999955, 55.675907], [-2.197808590999955, 55.688399393000054], [-2.184055344999933, 55.70159319600003], [-2.167230809999978, 55.70603498600008], [-2.176519748999965, 55.71883754300006], [-2.167694422999944, 55.722445520000065], [-2.150575973999935, 55.72315440600005], [-2.149746402999938, 55.73519156800006], [-2.144019334999939, 55.739348834000054], [-2.11763753699995, 55.73877496700004], [-2.115722132999963, 55.74755695300007], [-2.106444359999955, 55.748563586000046], [-2.107641585999943, 55.759888137000075], [-2.085639158999925, 55.76204030200006], [-2.08612304199994, 55.79304531000008], [-2.07697417299994, 55.79411700400004], [-2.062241838999967, 55.80273317900003], [-2.052636563999954, 55.80251104100006], [-2.034424017999925, 55.81108766700004]]], [[[-1.779211329999953, 55.685626108000065], [-1.778943702999925, 55.67140982300003], [-1.778874515999973, 55.66773066700006], [-1.802438921999965, 55.66828383100005], [-1.815591161999976, 55.682410005000065], [-1.84239488399993, 55.67871484700004], [-1.85495547499994, 55.68563001100006], [-1.797386170999971, 55.68722351000008], [-1.779211329999953, 55.685626108000065]]], [[[-0.520689554999933, 53.68540839800005], [-0.535747772999969, 53.681256431000065], [-0.555487222999943, 53.69051655800007], [-0.520689554999933, 53.68540839800005]]]], &quot;type&quot;: &quot;MultiPolygon&quot;}, &quot;properties&quot;: {&quot;CreationDate&quot;: &quot;2022-04-01T08:52:11Z&quot;, &quot;Creator&quot;: &quot;hsc_map_england&quot;, &quot;EditDate&quot;: &quot;2022-04-01T08:52:11Z&quot;, &quot;Editor&quot;: &quot;hsc_map_england&quot;, &quot;FID&quot;: 6, &quot;GlobalID&quot;: &quot;{6AEA1300-3902-4B49-92FB-BD9BA1B8F795}&quot;, &quot;Notes&quot;: null, &quot;SHAPE_Area&quot;: 4.094667975231866, &quot;SHAPE_Length&quot;: 17.81440979102012, &quot;bng_e&quot;: 418073, &quot;bng_n&quot;: 477340, &quot;lat&quot;: 54.191521, &quot;long&quot;: -1.72452, &quot;nhser19cd&quot;: &quot;E40000009&quot;, &quot;nhser19nm&quot;: &quot;North East and Yorkshire&quot;, &quot;objectid&quot;: 6, &quot;st_areasha&quot;: 29589538283.741676, &quot;st_lengths&quot;: 1446541.8602022836}, &quot;type&quot;: &quot;Feature&quot;}, {&quot;geometry&quot;: {&quot;coordinates&quot;: [[[[-3.014834700999927, 54.49984329600005], [-3.013084578999951, 54.49463717700007], [-3.001920840999958, 54.497322272000076], [-2.980476892999945, 54.49595436700008], [-2.96636045899993, 54.48223216000008], [-2.955347328999949, 54.48453233200007], [-2.937552805999928, 54.468670745000054], [-2.931454556999938, 54.46987280900004], [-2.919818779999957, 54.46477914600007], [-2.906278350999969, 54.48134790800003], [-2.883665051999969, 54.484956786000055], [-2.875617773999977, 54.481100619000074], [-2.865460742999971, 54.490024289000075], [-2.854481354999962, 54.48335222400004], [-2.853011670999933, 54.47853843300004], [-2.838619616999949, 54.476161267000066], [-2.827613352999947, 54.47993089000005], [-2.816000440999971, 54.47463024600006], [-2.806877045999954, 54.48206012900005], [-2.795420670999931, 54.475268], [-2.796241369999962, 54.469928706000076], [-2.789176572999963, 54.464981858000044], [-2.776991789999954, 54.45987244400004], [-2.771623466999927, 54.463228686000036], [-2.747615148999955, 54.44707964600008], [-2.737074998999958, 54.44683090900003], [-2.703522802999942, 54.432078069000056], [-2.694686353999941, 54.436236346000044], [-2.698461876999943, 54.43823134400003], [-2.696681339999941, 54.44622031800003], [-2.689215729999944, 54.445755286000065], [-2.690955910999946, 54.429142744000046], [-2.686803611999949, 54.426665212000046], [-2.666307028999938, 54.421563896000066], [-2.660430013999928, 54.41423575300007], [-2.644658173999971, 54.41025265500008], [-2.640276578999931, 54.404346169000064], [-2.614862900999981, 54.40938814300006], [-2.603975452999975, 54.40692844500006], [-2.601738830999977, 54.39895650400007], [-2.583470488999978, 54.38765049300008], [-2.575275040999941, 54.39198389500007], [-2.552337037999962, 54.38696994600008], [-2.538224060999937, 54.39422541700003], [-2.531088759999932, 54.38456692800003], [-2.533990638999967, 54.38108422200003], [-2.523461743999974, 54.37535725200007], [-2.521157882999944, 54.36993084300008], [-2.51368830499996, 54.36793484800006], [-2.507361598999978, 54.37291668100005], [-2.483652971999959, 54.37735236200007], [-2.462742140999978, 54.368386643000065], [-2.453079594999963, 54.37449444400005], [-2.443772352999929, 54.37602822200006], [-2.420874058999971, 54.36584507600003], [-2.40628703699997, 54.37025305000003], [-2.382317891999946, 54.371314719000054], [-2.367712461999929, 54.35607076300005], [-2.335767582999949, 54.34043450900003], [-2.334749081999973, 54.33494428200004], [-2.320202174999963, 54.33175072800003], [-2.309841635999931, 54.32431492300003], [-2.314977419999934, 54.313586188000045], [-2.323032324999929, 54.31108273000007], [-2.32040124699995, 54.30677061500006], [-2.32452243299997, 54.303183570000044], [-2.320390118999967, 54.29904453700004], [-2.324171854999975, 54.29360484800003], [-2.317191929999979, 54.28716559600008], [-2.32589090099998, 54.27969593900008], [-2.315495166999938, 54.270204196000066], [-2.320814055999961, 54.259921071000065], [-2.305106773999967, 54.24934346900005], [-2.292568030999973, 54.25252133400005], [-2.286406160999945, 54.240496620000044], [-2.29527040399995, 54.23060198100006], [-2.322344189999967, 54.22765981600003], [-2.326563445999966, 54.21940983300004], [-2.346576721999952, 54.20781034700008], [-2.33589772199997, 54.204285318000075], [-2.331133177999959, 54.196723880000036], [-2.342349125999931, 54.202619336000055], [-2.356822805999968, 54.194101541000066], [-2.371199409999974, 54.18422217600005], [-2.375522346999958, 54.17258442600007], [-2.396486129999971, 54.16601845800005], [-2.395137256999931, 54.15687903000003], [-2.414044351999962, 54.14851469200005], [-2.428321292999954, 54.137198900000044], [-2.427651414999957, 54.131427674000065], [-2.433338996999964, 54.13151797000006], [-2.435735291999947, 54.12800334500008], [-2.44420088399994, 54.12918733400005], [-2.449331444999927, 54.124099347000026], [-2.457017081999936, 54.10799899400007], [-2.450638590999972, 54.103277407000064], [-2.454900432999978, 54.10091194800003], [-2.446710179999968, 54.09666064600003], [-2.455026161999967, 54.09198149300005], [-2.466886363999947, 54.075738742000055], [-2.463990413999966, 54.06108416700005], [-2.469549664999931, 54.04621251300006], [-2.458775074999949, 54.04049559500004], [-2.432733828999972, 54.041593214000045], [-2.425826290999964, 54.03809503900004], [-2.374071739999977, 54.04908816500006], [-2.36199942099995, 54.040669723000065], [-2.357323268999949, 54.01911695600006], [-2.343540618999953, 54.01732761000005], [-2.339560243999927, 54.009433295000065], [-2.340760031999935, 54.007462443000065], [-2.350288832999979, 54.012200395000036], [-2.352310489999979, 54.010539066000035], [-2.352357405999953, 53.99467382800003], [-2.339923306999935, 53.98942778900005], [-2.319151131999945, 53.99384193000003], [-2.296733434999965, 53.98055428200007], [-2.298854699999936, 53.97656053000003], [-2.294319659999928, 53.974432910000075], [-2.230345426999975, 53.98153025900007], [-2.221062479999944, 53.977927702000045], [-2.232015375999936, 53.97123001800003], [-2.225947907999966, 53.96725363500008], [-2.225736327999925, 53.96109949300006], [-2.214420192999967, 53.96509927000005], [-2.20963923599993, 53.962898747000054], [-2.200635331999933, 53.970126407000066], [-2.196019533999959, 53.96957632800007], [-2.191797251999958, 53.95868200800004], [-2.179468689999965, 53.945985405000044], [-2.183964800999945, 53.94511524100005], [-2.183922841999959, 53.93661986400008], [-2.175945084999967, 53.93426019100008], [-2.17167933199994, 53.937688467000044], [-2.164120159999925, 53.934635367000055], [-2.162876691999941, 53.92726996300007], [-2.15171623599997, 53.92948412000004], [-2.149432819999959, 53.92602786200007], [-2.141798515999938, 53.92567458900004], [-2.139978206999956, 53.92832555200005], [-2.124350289999938, 53.92320065700005], [-2.121758211999975, 53.917330916000026], [-2.113345983999977, 53.91562698300004], [-2.107467313999962, 53.908042487000046], [-2.113176002999978, 53.90461146600006], [-2.103019022999945, 53.890941430000055], [-2.082511730999954, 53.87764264200007], [-2.089915029999929, 53.86818208600005], [-2.081191331999946, 53.86997145400005], [-2.07484954499995, 53.862367180000035], [-2.046131233999972, 53.850141707000034], [-2.046924864999937, 53.829510320000054], [-2.061250542999971, 53.825635428000055], [-2.084859151999979, 53.81855409500008], [-2.128360983999926, 53.79901899100008], [-2.129721410999935, 53.79163165300008], [-2.124815341999977, 53.788055170000064], [-2.136362541999972, 53.78010437800003], [-2.130464150999956, 53.772389426000075], [-2.130834669999956, 53.75207037600006], [-2.141646076999962, 53.745740599000044], [-2.145407979999959, 53.73605497500006], [-2.14909296999997, 53.73389644700006], [-2.156090493999955, 53.73532475400003], [-2.173293692999948, 53.723011847000066], [-2.162532387999931, 53.70725195600005], [-2.162582764999968, 53.69922152400005], [-2.145190829999933, 53.69219888200007], [-2.146328120999954, 53.68223149600004], [-2.142257593999943, 53.678005823000035], [-2.134127485999954, 53.68573392500008], [-2.118084951999947, 53.671245327000065], [-2.097039821999942, 53.67262600500004], [-2.092906311999968, 53.67016110800006], [-2.086263566999946, 53.671130625000046], [-2.083166995999932, 53.67807523100004], [-2.073398674999964, 53.67751009500006], [-2.061805884999956, 53.68284690400003], [-2.051242234999961, 53.68369162600004], [-2.048901751999949, 53.68022680200005], [-2.054458069999953, 53.67676767800003], [-2.053977759999952, 53.671943217000035], [-2.037095296999951, 53.662342780000074], [-2.041323293999938, 53.64138717000003], [-2.029996638999933, 53.636169378000034], [-2.026868628999978, 53.62424435500003], [-2.023035929999935, 53.61583933400004], [-2.009470664999981, 53.61677942100005], [-1.978243977999966, 53.586788194000064], [-1.947151472999963, 53.57216826600006], [-1.942725939999946, 53.561641217000044], [-1.924826179999968, 53.55258472500003], [-1.912884692999967, 53.55164366500003], [-1.909620932999928, 53.538391208000064], [-1.89932224699993, 53.53811239800007], [-1.894109474999937, 53.53361184900007], [-1.873492802999976, 53.54042933300008], [-1.841820995999967, 53.51990867500007], [-1.827151844999946, 53.52350794100005], [-1.822228740999947, 53.52109102800006], [-1.819523713999956, 53.51342822600003], [-1.800779260999946, 53.51137882300003], [-1.810287329999937, 53.506341829000064], [-1.796209946999966, 53.50312083100005], [-1.801470730999938, 53.48099171400003], [-1.812901423999961, 53.479600004000076], [-1.814134691999925, 53.46910973100006], [-1.827630987999953, 53.463430439000035], [-1.843227104999926, 53.46392928100005], [-1.853542184999981, 53.45949653300005], [-1.862704561999976, 53.45996830800004], [-1.864002921999941, 53.45263285400006], [-1.85263940699997, 53.44701865900004], [-1.868570448999947, 53.433762011000056], [-1.865564530999961, 53.425636388000044], [-1.878432828999962, 53.42652035700007], [-1.899846772999979, 53.41918162300004], [-1.909714000999941, 53.41063460700008], [-1.920925755999974, 53.41233342700008], [-1.934257954999964, 53.408430363000036], [-1.957485435999956, 53.40990258100004], [-1.976503639999976, 53.42058145900006], [-1.981383868999956, 53.415782654000054], [-1.992329549999965, 53.41519310800004], [-2.005019370999946, 53.39284853300006], [-2.004642862999958, 53.38632747400004], [-2.01971455599994, 53.380595432000064], [-2.017083897999953, 53.377832616000035], [-2.021472022999944, 53.37505918900007], [-2.033775224999943, 53.375541629000054], [-2.031058539999947, 53.37026195900006], [-2.03408703499997, 53.36775268400004], [-2.027128671999947, 53.36376747500003], [-2.021816719999947, 53.366756989000066], [-2.008998142999928, 53.362010704000056], [-2.010672020999948, 53.35570166600007], [-2.006785735999927, 53.354572191000045], [-2.004659864999951, 53.346009768000044], [-2.014319077999971, 53.34005859800004], [-2.013649726999972, 53.33242013200004], [-2.009283192999931, 53.33138826000004], [-2.010739095999952, 53.32354955000005], [-2.001551010999947, 53.31892111500008], [-2.009329201999947, 53.30231408700007], [-2.005197437999925, 53.26904005000006], [-2.009481996999966, 53.26065234500004], [-2.000332732999937, 53.25543874400006], [-1.999731329999975, 53.245048774000054], [-1.981883125999957, 53.23857932700008], [-1.97485867599994, 53.231061157000056], [-1.976064998999959, 53.227529795000066], [-1.990264647999936, 53.22299886900004], [-1.987407554999947, 53.213586028000066], [-2.000202029999969, 53.19373767600007], [-2.018179507999946, 53.18905298000004], [-2.028555168999958, 53.19335342000005], [-2.04652710299996, 53.19264790300008], [-2.055026215999931, 53.18642760800003], [-2.05228929499998, 53.183959181000034], [-2.059214950999944, 53.180900776000044], [-2.057726955999954, 53.17662614300008], [-2.068144254999936, 53.174699745000055], [-2.070232488999977, 53.17168606200005], [-2.087236403999952, 53.16985389800004], [-2.092872881999938, 53.17291570000003], [-2.10173595699996, 53.168904689000044], [-2.112076532999936, 53.16865967400008], [-2.119541302999949, 53.17463398600006], [-2.129302996999968, 53.17545155000005], [-2.133826666999937, 53.18306540800006], [-2.140438906999975, 53.183812799000066], [-2.144865908999975, 53.17376778300007], [-2.141411443999971, 53.15665241500005], [-2.155645001999972, 53.15961893700006], [-2.159543271999951, 53.152906236000035], [-2.176580462999937, 53.14553074600008], [-2.211423817999957, 53.11576295300006], [-2.223073758999931, 53.10379506900006], [-2.237951390999967, 53.10104697200006], [-2.247407150999948, 53.08984996200007], [-2.253248561999953, 53.093977117000065], [-2.257125748999954, 53.09001641000003], [-2.277105763999941, 53.08590555900008], [-2.277652329999967, 53.08122354000005], [-2.293375753999953, 53.07832636300003], [-2.303396642999928, 53.08296147200008], [-2.318050900999935, 53.08135873800006], [-2.329009238999959, 53.07657988400007], [-2.330515018999961, 53.07086057500004], [-2.34758551699997, 53.056170261000034], [-2.35373532899996, 53.058848847000036], [-2.357579130999966, 53.05471891700006], [-2.381249088999937, 53.052551169000026], [-2.38617077899994, 53.03356388900005], [-2.379785434999974, 53.02759153800008], [-2.384227436999936, 53.02616766300008], [-2.370467647999931, 53.01457593400005], [-2.383045010999979, 53.007786948000046], [-2.380793983999979, 52.998411100000055], [-2.389734748999956, 52.99539226700006], [-2.406986647999929, 52.99591688300006], [-2.404474923999942, 52.99165361000007], [-2.410866770999974, 52.98792428100006], [-2.436760128999936, 52.986256205000075], [-2.434613897999952, 52.96952147600007], [-2.442957763999971, 52.970739051000066], [-2.450257370999964, 52.96605141200007], [-2.47508393499993, 52.96248924000008], [-2.481152588999976, 52.95881761100003], [-2.491700765999951, 52.967684348000034], [-2.499023370999964, 52.968434466000076], [-2.506882935999954, 52.96491858700006], [-2.521427795999955, 52.974265169000034], [-2.523280450999948, 52.95435538500004], [-2.529515798999967, 52.947165064000046], [-2.546355352999967, 52.95683762200008], [-2.553697396999951, 52.95746629700005], [-2.56126302499996, 52.96495205700006], [-2.573492228999953, 52.96271652000007], [-2.570276260999947, 52.95977198600008], [-2.576803133999931, 52.95610563000008], [-2.58641348499998, 52.95537928500005], [-2.597693396999944, 52.96300609300005], [-2.598446685999932, 52.971718284000076], [-2.592756661999942, 52.974169767000035], [-2.599629851999964, 52.97543281000003], [-2.59488879099996, 52.979607145000045], [-2.605682780999928, 52.97939827000005], [-2.607734119999975, 52.98836202500007], [-2.621939782999959, 52.98674241500004], [-2.63265092599994, 52.996670780000045], [-2.642699229999948, 52.99351906000004], [-2.652357196999958, 52.994994391000034], [-2.674662135999938, 52.98566294600005], [-2.687078545999952, 52.98683043700004], [-2.699292335999928, 52.99543880600004], [-2.71187856499995, 52.98608455500005], [-2.726840451999976, 52.98327288200005], [-2.743721823999977, 52.987146720000055], [-2.759801016999972, 52.98638287400007], [-2.766805758999965, 52.99465509000004], [-2.779708592999953, 52.99335942400006], [-2.780897881999977, 52.99618621400003], [-2.785131946999968, 52.993907308000075], [-2.789935303999926, 52.99574726000003], [-2.792150268999933, 52.990996746000064], [-2.803311487999963, 52.98959425900006], [-2.836027875999946, 52.99714102400003], [-2.840855244999943, 53.00853180100006], [-2.837751271999934, 53.01056173100005], [-2.844064381999942, 53.01762889200006], [-2.851517712999964, 53.01695999900005], [-2.861005381999973, 53.02280565600006], [-2.855721084999971, 53.03727020700006], [-2.86657136599996, 53.040339938000045], [-2.861849546999963, 53.04401215900003], [-2.870089980999978, 53.04538768800006], [-2.863118684999961, 53.04862268200003], [-2.863399416999926, 53.05207064500007], [-2.868344573999934, 53.050038990000076], [-2.866052856999943, 53.05271204400003], [-2.859240400999965, 53.05425562700003], [-2.867351435999979, 53.05547944600005], [-2.862437733999968, 53.05851562600003], [-2.87195933299995, 53.05771277300005], [-2.861442107999949, 53.06065694900008], [-2.870361965999962, 53.06418439000004], [-2.86548188699993, 53.066099586000064], [-2.86936891199997, 53.06983943800003], [-2.877508396999929, 53.068935545000045], [-2.875459732999957, 53.07337894500006], [-2.881643576999977, 53.07439208000005], [-2.875787730999946, 53.08151346600005], [-2.891192474999968, 53.087624118000065], [-2.893450067999936, 53.091504850000035], [-2.901906806999932, 53.09183018600004], [-2.899319295999931, 53.09800392900007], [-2.894844664999937, 53.09884499700007], [-2.897792034999952, 53.09651707000006], [-2.893889418999947, 53.09606102600003], [-2.889202291999936, 53.10145817500006], [-2.887457996999956, 53.105601705000026], [-2.893404773999976, 53.10424374300004], [-2.891830973999959, 53.109234651000065], [-2.883868064999945, 53.11141014100008], [-2.881187034999925, 53.12165968100004], [-2.903391665999948, 53.11179759400005], [-2.917296965999981, 53.11479422500008], [-2.920836131999977, 53.11842379700005], [-2.943670228999963, 53.12162576700007], [-2.946905759999936, 53.12727027900007], [-2.963896469999952, 53.13276654400005], [-2.979497859999981, 53.15062172100005], [-2.984564979999959, 53.147779771000046], [-2.995022899999981, 53.15402389600007], [-2.98995675599997, 53.15754247000007], [-2.975350421999963, 53.15737167800006], [-2.970925856999941, 53.16078248700006], [-2.96626275899996, 53.15986476000006], [-2.946553024999957, 53.16711189700004], [-2.944041101999971, 53.165247742000076], [-2.927796398999931, 53.17147012500004], [-2.92062859999993, 53.17801852400004], [-2.922299348999957, 53.189292753000075], [-2.93728882299996, 53.19763102500008], [-2.94951032299997, 53.21127966000006], [-2.99837819399994, 53.23585871100005], [-3.036024174999966, 53.25180502400008], [-3.069136285999946, 53.253004786000076], [-3.07028450699994, 53.253548917000046], [-3.093139169999972, 53.26050527700005], [-3.094663358999981, 53.26284682100004], [-3.09969394899997, 53.27057312100004], [-3.082447489999936, 53.27149587500003], [-3.091723613999932, 53.278376209000044], [-3.07724116299994, 53.27786483300008], [-3.083881363999978, 53.279450928000074], [-3.08686453599995, 53.28890555300006], [-3.093280102999927, 53.28441614400003], [-3.104025388999958, 53.288055763000045], [-3.10373283499996, 53.30000596800005], [-3.10901471699998, 53.29725750700004], [-3.11663410999995, 53.311718658000075], [-3.122340231999942, 53.322541673000046], [-3.186277041999972, 53.364446841000074], [-3.200376539999979, 53.387501678000035], [-3.041237960999979, 53.44292990300005], [-3.00252063399995, 53.37473245700005], [-2.934166868999966, 53.31328806000005], [-2.928755127999978, 53.308414017000075], [-2.928571854999973, 53.30824892800007], [-2.901651025999968, 53.295440135000035], [-2.889470262999964, 53.289640029000054], [-2.900534341999958, 53.297009924000065], [-2.855568235999954, 53.292021942000076], [-2.85728106199997, 53.286907505000045], [-2.839601094999978, 53.29873691800003], [-2.846383413999945, 53.30694450900006], [-2.815956021999966, 53.306163154000046], [-2.788795756999946, 53.295408861000055], [-2.752789309999969, 53.314569610000035], [-2.752467868999929, 53.31474053800008], [-2.763058053999941, 53.330921741000054], [-2.753249998999934, 53.34359955700006], [-2.740202776999979, 53.34506489900008], [-2.738191445999973, 53.34793646300005], [-2.759133575999954, 53.34960739500008], [-2.778220484999963, 53.33262604400005], [-2.784287794999955, 53.33643094900003], [-2.777690987999961, 53.329280278000056], [-2.788631387999942, 53.322539576000054], [-2.825110196999958, 53.33128529700008], [-2.826661082999976, 53.33165679100006], [-2.854427682999926, 53.32739913300003], [-2.878158402999929, 53.33419881400005], [-2.902708342999972, 53.34555692400005], [-2.974651518999963, 53.37877746300006], [-3.00184540999993, 53.410325585000066], [-3.008633695999947, 53.43788811300004], [-3.008755303999976, 53.43838154100007], [-3.041413474999956, 53.46550274700007], [-3.057378176999975, 53.49203897000007], [-3.065061829999934, 53.504797186000076], [-3.06274648699997, 53.52703903300005], [-3.062482332999934, 53.52957508000003], [-3.071909516999938, 53.521615858000075], [-3.078944920999959, 53.526148747000036], [-3.100034946999926, 53.539728840000066], [-3.104452450999929, 53.558820698000034], [-3.042723338999963, 53.63632938000006], [-2.998973487999933, 53.672314493000044], [-2.96714183499995, 53.698447876000046], [-2.971488100999977, 53.69216316900008], [-2.956218398999965, 53.69748795700008], [-2.941528925999933, 53.69653856800005], [-2.955105730999946, 53.70443800700008], [-2.93364863499994, 53.70424563300003], [-2.948170721999929, 53.71158567300006], [-2.938283102999947, 53.72493647300007], [-2.915506507999964, 53.71333978100006], [-2.929348236999942, 53.72416121100008], [-2.910858162999943, 53.72695106600003], [-2.868067503999953, 53.73339548400003], [-2.848290483999961, 53.730029183000056], [-2.84851122799995, 53.730168365000054], [-2.854910083999926, 53.735258774000044], [-2.825518065999972, 53.74433544100003], [-2.827652219999948, 53.74388727100006], [-2.855740320999928, 53.73851921200003], [-2.856825666999953, 53.73821301500004], [-2.903575769999975, 53.73250202100007], [-2.910979506999979, 53.732567809000045], [-2.953015196999957, 53.73293308400008], [-2.941660568999964, 53.73628290200003], [-2.97656746399997, 53.73403887500007], [-3.03884162099996, 53.747242535000055], [-3.056848823999928, 53.77657720000008], [-3.050116153999966, 53.85164434300003], [-3.047965482999928, 53.875561738000044], [-3.047950188999948, 53.875731726000026], [-3.049745870999971, 53.920018420000076], [-3.007968368999968, 53.928664551000054], [-3.006935253999927, 53.90157606900004], [-2.999327865999931, 53.92857676300008], [-2.92374356199997, 53.95112971800006], [-2.915616489999934, 53.945722757000055], [-2.904764560999979, 53.93849987400006], [-2.886648971999932, 53.94167764700006], [-2.894326619999958, 53.94654129300005], [-2.888742159999936, 53.94771969300007], [-2.885203128999933, 53.94846631000007], [-2.870431518999965, 53.95158119700005], [-2.886778637999953, 53.95839114300003], [-2.871440597999936, 53.95666930900006], [-2.861932317999958, 53.96460918300005], [-2.845005555999933, 53.965380218000064], [-2.871837647999939, 53.97025845200005], [-2.879254625999977, 53.97911301800008], [-2.856087269999932, 53.99958007600003], [-2.832741996999971, 53.99851821300007], [-2.832186976999935, 54.009431720000066], [-2.860532401999933, 54.00385255600003], [-2.871450993999929, 54.004659024000034], [-2.881040259999963, 53.98945284000007], [-2.883978395999975, 53.99473405900005], [-2.897933552999973, 53.99110291800008], [-2.903418593999959, 54.02056329200008], [-2.917427116999932, 54.02809031100003], [-2.924262166999938, 54.03176123600008], [-2.906078562999937, 54.03960410900004], [-2.881004616999974, 54.074373140000034], [-2.880074451999974, 54.07566174100003], [-2.866826458999981, 54.07642047500008], [-2.847181231999969, 54.07754275500008], [-2.819588010999951, 54.08879618700007], [-2.814359604999936, 54.09490322700003], [-2.825610706999953, 54.087596561000055], [-2.82694730399993, 54.099976939000044], [-2.784988024999961, 54.13499927000004], [-2.820033180999928, 54.12264003800004], [-2.836311876999957, 54.15067137600005], [-2.863914934999968, 54.15648196300003], [-2.869491865999976, 54.176686647000054], [-2.857432968999944, 54.17898590600004], [-2.864119061999929, 54.19204027900008], [-2.842473534999954, 54.20551787000005], [-2.905004284999961, 54.194726496000044], [-2.920795768999938, 54.180235810000056], [-2.935236259999954, 54.16697410100005], [-2.931862228999933, 54.151392040000076], [-3.013621258999933, 54.131571102000066], [-3.00007059099994, 54.15260986900006], [-3.002177184999937, 54.16647590200006], [-3.038767066999981, 54.197203923000075], [-3.032419192999953, 54.21131583500005], [-3.063385799999935, 54.18621077200004], [-3.060855861999926, 54.16199821300006], [-3.105709576999971, 54.119121008000036], [-3.149073650999981, 54.09355082600007], [-3.17239860199993, 54.08178409200008], [-3.150710742999934, 54.06478532500006], [-3.171434395999938, 54.07962829000007], [-3.177999817999932, 54.07489933100004], [-3.17368733099994, 54.08330306700003], [-3.194049430999939, 54.10426018900006], [-3.220218523999961, 54.089708201000064], [-3.224681644999976, 54.09370880700004], [-3.242120309999962, 54.109331214000065], [-3.237016339999968, 54.15474067400004], [-3.249412491999976, 54.15469802500007], [-3.257112516999939, 54.16728216300004], [-3.227084161999926, 54.17493493900008], [-3.217152474999978, 54.177463825000075], [-3.222990223999943, 54.187790335000045], [-3.214757776999932, 54.185659024000074], [-3.213057955999943, 54.207192460000044], [-3.205860511999958, 54.20970311600007], [-3.201816855999937, 54.21111332300006], [-3.179738489999977, 54.238997323000035], [-3.197564436999926, 54.22879809900007], [-3.210352144999945, 54.25397323900006], [-3.229040620999967, 54.25990499100004], [-3.227806566999959, 54.277675645000045], [-3.229947763999974, 54.27130293700003], [-3.233703269999978, 54.26012069300003], [-3.229516602999979, 54.256816806000074], [-3.222907103999944, 54.251599559000056], [-3.229314001999967, 54.25001140200004], [-3.243712212999981, 54.246440661000065], [-3.22930755699997, 54.24979434100004], [-3.225637974999927, 54.23982002200006], [-3.228945588999977, 54.23763931700006], [-3.265769181999929, 54.21333997200003], [-3.254011328999979, 54.21033322200003], [-3.251466716999971, 54.21583161700005], [-3.245193141999948, 54.20930269200005], [-3.239260538999929, 54.20312643200003], [-3.263001843999973, 54.19031638400003], [-3.287619801999938, 54.197051343000055], [-3.299366102999954, 54.18840988900007], [-3.322391836999941, 54.19053398300008], [-3.34228735399995, 54.208260633000066], [-3.394215686999928, 54.25444022100004], [-3.419676107999976, 54.28249966300007], [-3.418789919999938, 54.28263098700006], [-3.397146263999957, 54.26774705500003], [-3.392623113999946, 54.27016593900004], [-3.386487759999966, 54.268317797000066], [-3.379542835999928, 54.27261440600006], [-3.370190477999927, 54.271359450000034], [-3.368826465999973, 54.27612044800003], [-3.347072490999949, 54.27963699800006], [-3.347297338999965, 54.283979173000034], [-3.322778006999954, 54.275559447000035], [-3.32041186999993, 54.271629106000034], [-3.304164081999943, 54.27593658200004], [-3.301025558999925, 54.27946214200006], [-3.313681506999956, 54.29182162300003], [-3.304105225999933, 54.299789915000076], [-3.308160761999943, 54.32220349500005], [-3.294863048999957, 54.325468966000074], [-3.302828298999941, 54.33135124300003], [-3.295096120999972, 54.34274500500004], [-3.298809969999979, 54.34753501600005], [-3.308259041999975, 54.34922355800006], [-3.301405256999942, 54.352247386000045], [-3.298577757999965, 54.359230859000036], [-3.292717194999966, 54.361031241000035], [-3.271599711999954, 54.35816533700006], [-3.243379306999941, 54.36308635700004], [-3.232561698999973, 54.376031943000044], [-3.198652482999933, 54.39240839000007], [-3.185740889999977, 54.40328155900005], [-3.188967403999925, 54.405958816000066], [-3.181170549999933, 54.413252415000045], [-3.182233758999928, 54.425466045000064], [-3.157944382999972, 54.43130613100004], [-3.158591736999938, 54.44217740900007], [-3.161116423999943, 54.44703707000008], [-3.166278925999961, 54.447766469000044], [-3.167139376999955, 54.45411067800006], [-3.153825380999933, 54.46015397500008], [-3.144960336999929, 54.46875758700003], [-3.136444058999928, 54.47074609300006], [-3.132213046999937, 54.464543968000044], [-3.119425417999935, 54.46023757300003], [-3.112573273999942, 54.46149082800008], [-3.115704687999937, 54.46658286100006], [-3.109479177999958, 54.47400370100007], [-3.097753021999949, 54.471903472000065], [-3.088265210999964, 54.48396415800005], [-3.076214339999979, 54.48936559200007], [-3.061985400999959, 54.49252266000008], [-3.05080159399995, 54.49126521300008], [-3.048303829999952, 54.49627817700008], [-3.020961513999964, 54.49983860200007], [-3.014834700999927, 54.49984329600005]]], [[[-3.210162647999937, 54.06509287100005], [-3.204910617999928, 54.051688709000075], [-3.178533510999955, 54.055293910000046], [-3.174138307999954, 54.04830561400007], [-3.172866533999979, 54.055258586000036], [-3.173066404999929, 54.047071251000034], [-3.209691378999935, 54.04752323800005], [-3.223742153999979, 54.06183103800004], [-3.268543198999964, 54.10737314600004], [-3.27644330399994, 54.14277392500003], [-3.252146951999975, 54.15058001300008], [-3.265715030999957, 54.144081742000026], [-3.245475260999967, 54.10965164300006], [-3.251516901999935, 54.09634694700003], [-3.224344608999957, 54.08226788200005], [-3.220926126999927, 54.08049551600004], [-3.22337695799996, 54.067015523000066], [-3.210162647999937, 54.06509287100005]]]], &quot;type&quot;: &quot;MultiPolygon&quot;}, &quot;properties&quot;: {&quot;CreationDate&quot;: &quot;2022-04-01T08:52:11Z&quot;, &quot;Creator&quot;: &quot;hsc_map_england&quot;, &quot;EditDate&quot;: &quot;2022-04-01T08:52:11Z&quot;, &quot;Editor&quot;: &quot;hsc_map_england&quot;, &quot;FID&quot;: 7, &quot;GlobalID&quot;: &quot;{183729A4-275E-4945-AD5B-3B24AB45AAD5}&quot;, &quot;Notes&quot;: null, &quot;SHAPE_Area&quot;: 1.279533224072808, &quot;SHAPE_Length&quot;: 10.8454084788727, &quot;bng_e&quot;: 360675, &quot;bng_n&quot;: 444637, &quot;lat&quot;: 53.896412, &quot;long&quot;: -2.59991, &quot;nhser19cd&quot;: &quot;E40000010&quot;, &quot;nhser19nm&quot;: &quot;North West&quot;, &quot;objectid&quot;: 7, &quot;st_areasha&quot;: 9398556989.07632, &quot;st_lengths&quot;: 902735.4117864607}, &quot;type&quot;: &quot;Feature&quot;}], &quot;name&quot;: &quot;NHS_England_Regions_Map&quot;, &quot;type&quot;: &quot;FeatureCollection&quot;});\n",
       "\n",
       "        \n",
       "    \n",
       "            geo_json_2b442a9a75f042804d2e85134f6e8599.addTo(choropleth_a609d18f7de803fe58d31a60176b13fa);\n",
       "        \n",
       "    \n",
       "    var color_map_3e2ba1ae97cbba992cdee1c3e7db5918 = {};\n",
       "\n",
       "    \n",
       "    color_map_3e2ba1ae97cbba992cdee1c3e7db5918.color = d3.scale.threshold()\n",
       "              .domain([41609.0, 41709.713426853705, 41810.42685370742, 41911.14028056112, 42011.853707414826, 42112.56713426854, 42213.28056112224, 42313.993987975955, 42414.70741482966, 42515.420841683364, 42616.13426853708, 42716.84769539078, 42817.561122244486, 42918.2745490982, 43018.9879759519, 43119.701402805615, 43220.41482965932, 43321.128256513024, 43421.841683366736, 43522.55511022044, 43623.268537074146, 43723.98196392786, 43824.69539078156, 43925.40881763527, 44026.12224448898, 44126.835671342684, 44227.549098196396, 44328.2625250501, 44428.975951903805, 44529.68937875752, 44630.40280561122, 44731.11623246493, 44831.82965931864, 44932.54308617234, 45033.256513026055, 45133.96993987976, 45234.683366733465, 45335.39679358718, 45436.11022044088, 45536.82364729459, 45637.5370741483, 45738.250501002, 45838.963927855715, 45939.67735470942, 46040.390781563125, 46141.10420841684, 46241.81763527054, 46342.531062124246, 46443.24448897796, 46543.95791583166, 46644.67134268537, 46745.38476953908, 46846.098196392784, 46946.811623246496, 47047.5250501002, 47148.238476953906, 47248.95190380762, 47349.66533066132, 47450.37875751503, 47551.09218436874, 47651.805611222444, 47752.51903807615, 47853.23246492986, 47953.945891783565, 48054.65931863728, 48155.37274549098, 48256.08617234469, 48356.7995991984, 48457.513026052104, 48558.226452905816, 48658.93987975952, 48759.653306613225, 48860.36673346693, 48961.08016032064, 49061.79358717435, 49162.50701402806, 49263.22044088176, 49363.93386773547, 49464.64729458918, 49565.360721442885, 49666.0741482966, 49766.7875751503, 49867.501002004006, 49968.21442885771, 50068.92785571142, 50169.64128256513, 50270.35470941884, 50371.068136272545, 50471.78156312625, 50572.49498997996, 50673.208416833666, 50773.92184368738, 50874.63527054108, 50975.34869739479, 51076.0621242485, 51176.775551102204, 51277.488977955916, 51378.20240480962, 51478.915831663326, 51579.62925851703, 51680.34268537074, 51781.05611222445, 51881.76953907816, 51982.482965931864, 52083.19639278557, 52183.90981963928, 52284.623246492985, 52385.3366733467, 52486.0501002004, 52586.76352705411, 52687.47695390781, 52788.19038076152, 52888.90380761523, 52989.61723446894, 53090.330661322645, 53191.04408817635, 53291.75751503006, 53392.47094188377, 53493.18436873748, 53593.89779559118, 53694.61122244489, 53795.32464929859, 53896.038076152305, 53996.75150300601, 54097.46492985972, 54198.178356713426, 54298.89178356713, 54399.60521042084, 54500.31863727455, 54601.03206412826, 54701.745490981964, 54802.45891783567, 54903.17234468938, 55003.885771543086, 55104.5991983968, 55205.3126252505, 55306.02605210421, 55406.73947895791, 55507.452905811624, 55608.16633266533, 55708.87975951904, 55809.593186372746, 55910.30661322645, 56011.02004008016, 56111.73346693387, 56212.44689378758, 56313.160320641284, 56413.87374749499, 56514.58717434869, 56615.300601202405, 56716.01402805611, 56816.72745490982, 56917.44088176353, 57018.15430861723, 57118.86773547094, 57219.58116232465, 57320.29458917836, 57421.008016032065, 57521.72144288577, 57622.43486973948, 57723.14829659319, 57823.86172344689, 57924.5751503006, 58025.28857715431, 58126.00200400801, 58226.715430861725, 58327.42885771543, 58428.14228456914, 58528.855711422846, 58629.56913827655, 58730.282565130256, 58830.99599198397, 58931.70941883768, 59032.422845691384, 59133.13627254509, 59233.849699398794, 59334.563126252506, 59435.27655310622, 59535.98997995992, 59636.70340681363, 59737.41683366733, 59838.13026052104, 59938.84368737475, 60039.55711422846, 60140.270541082165, 60240.98396793587, 60341.697394789575, 60442.41082164329, 60543.124248497, 60643.837675350704, 60744.55110220441, 60845.26452905811, 60945.977955911825, 61046.69138276553, 61147.40480961924, 61248.11823647295, 61348.83166332665, 61449.545090180356, 61550.25851703407, 61650.97194388778, 61751.685370741485, 61852.39879759519, 61953.112224448894, 62053.825651302606, 62154.53907815631, 62255.25250501002, 62355.96593186373, 62456.67935871743, 62557.39278557114, 62658.10621242485, 62758.81963927856, 62859.533066132266, 62960.24649298597, 63060.959919839675, 63161.67334669339, 63262.3867735471, 63363.100200400804, 63463.81362725451, 63564.52705410821, 63665.240480961926, 63765.95390781563, 63866.66733466934, 63967.38076152305, 64068.09418837675, 64168.80761523046, 64269.52104208417, 64370.23446893788, 64470.947895791585, 64571.66132264529, 64672.374749498995, 64773.08817635271, 64873.80160320641, 64974.51503006012, 65075.22845691383, 65175.94188376753, 65276.65531062124, 65377.36873747495, 65478.08216432866, 65578.79559118237, 65679.50901803607, 65780.22244488978, 65880.93587174348, 65981.64929859719, 66082.3627254509, 66183.07615230461, 66283.78957915831, 66384.50300601202, 66485.21643286574, 66585.92985971944, 66686.64328657315, 66787.35671342685, 66888.07014028056, 66988.78356713426, 67089.49699398798, 67190.21042084169, 67290.92384769539, 67391.6372745491, 67492.35070140281, 67593.06412825652, 67693.77755511022, 67794.49098196393, 67895.20440881763, 67995.91783567134, 68096.63126252504, 68197.34468937876, 68298.05811623247, 68398.77154308617, 68499.48496993988, 68600.1983967936, 68700.9118236473, 68801.625250501, 68902.33867735471, 69003.05210420841, 69103.76553106212, 69204.47895791582, 69305.19238476954, 69405.90581162325, 69506.61923847695, 69607.33266533066, 69708.04609218438, 69808.75951903808, 69909.47294589179, 70010.18637274549, 70110.8997995992, 70211.6132264529, 70312.3266533066, 70413.04008016032, 70513.75350701403, 70614.46693386773, 70715.18036072144, 70815.89378757516, 70916.60721442886, 71017.32064128257, 71118.03406813627, 71218.74749498998, 71319.46092184368, 71420.17434869739, 71520.8877755511, 71621.60120240481, 71722.31462925852, 71823.02805611222, 71923.74148296594, 72024.45490981964, 72125.16833667335, 72225.88176352705, 72326.59519038076, 72427.30861723446, 72528.02204408817, 72628.73547094189, 72729.44889779559, 72830.1623246493, 72930.875751503, 73031.58917835672, 73132.30260521043, 73233.01603206413, 73333.72945891783, 73434.44288577154, 73535.15631262524, 73635.86973947896, 73736.58316633267, 73837.29659318637, 73938.01002004008, 74038.72344689378, 74139.4368737475, 74240.1503006012, 74340.86372745491, 74441.57715430862, 74542.29058116232, 74643.00400801603, 74743.71743486973, 74844.43086172345, 74945.14428857715, 75045.85771543086, 75146.57114228458, 75247.28456913828, 75347.99799599199, 75448.71142284569, 75549.4248496994, 75650.1382765531, 75750.8517034068, 75851.56513026051, 75952.27855711423, 76052.99198396794, 76153.70541082164, 76254.41883767536, 76355.13226452906, 76455.84569138277, 76556.55911823647, 76657.27254509018, 76757.98597194388, 76858.69939879759, 76959.41282565129, 77060.12625250501, 77160.83967935872, 77261.55310621244, 77362.26653306614, 77462.97995991984, 77563.69338677355, 77664.40681362725, 77765.12024048096, 77865.83366733466, 77966.54709418837, 78067.26052104207, 78167.97394789579, 78268.6873747495, 78369.40080160322, 78470.11422845692, 78570.82765531063, 78671.54108216433, 78772.25450901804, 78872.96793587174, 78973.68136272545, 79074.39478957915, 79175.10821643287, 79275.82164328657, 79376.53507014028, 79477.248496994, 79577.9619238477, 79678.67535070141, 79779.38877755511, 79880.10220440882, 79980.81563126252, 80081.52905811623, 80182.24248496993, 80282.95591182365, 80383.66933867735, 80484.38276553106, 80585.09619238478, 80685.80961923848, 80786.52304609219, 80887.2364729459, 80987.9498997996, 81088.6633266533, 81189.37675350701, 81290.09018036071, 81390.80360721443, 81491.51703406814, 81592.23046092184, 81692.94388777556, 81793.65731462926, 81894.37074148297, 81995.08416833667, 82095.79759519038, 82196.51102204408, 82297.22444889779, 82397.9378757515, 82498.65130260521, 82599.36472945892, 82700.07815631262, 82800.79158316634, 82901.50501002005, 83002.21843687375, 83102.93186372746, 83203.64529058116, 83304.35871743486, 83405.07214428857, 83505.78557114227, 83606.498997996, 83707.2124248497, 83807.92585170342, 83908.63927855712, 84009.35270541083, 84110.06613226453, 84210.77955911824, 84311.49298597194, 84412.20641282565, 84512.91983967935, 84613.63326653306, 84714.34669338677, 84815.06012024048, 84915.7735470942, 85016.4869739479, 85117.20040080161, 85217.91382765531, 85318.62725450902, 85419.34068136272, 85520.05410821643, 85620.76753507013, 85721.48096192385, 85822.19438877756, 85922.90781563126, 86023.62124248498, 86124.33466933868, 86225.04809619239, 86325.7615230461, 86426.4749498998, 86527.1883767535, 86627.90180360721, 86728.61523046091, 86829.32865731463, 86930.04208416834, 87030.75551102204, 87131.46893787576, 87232.18236472947, 87332.89579158317, 87433.60921843688, 87534.32264529058, 87635.03607214428, 87735.74949899799, 87836.4629258517, 87937.17635270541, 88037.88977955912, 88138.60320641282, 88239.31663326654, 88340.03006012025, 88440.74348697395, 88541.45691382766, 88642.17034068136, 88742.88376753507, 88843.59719438877, 88944.31062124248, 89045.0240480962, 89145.7374749499, 89246.4509018036, 89347.16432865732, 89447.87775551103, 89548.59118236473, 89649.30460921844, 89750.01803607214, 89850.73146292585, 89951.44488977955, 90052.15831663326, 90152.87174348698, 90253.58517034068, 90354.29859719439, 90455.0120240481, 90555.72545090181, 90656.43887775551, 90757.15230460922, 90857.86573146292, 90958.57915831663, 91059.29258517033, 91160.00601202404, 91260.71943887776, 91361.43286573146, 91462.14629258518, 91562.85971943889, 91663.57314629259, 91764.2865731463, 91865.0])\n",
       "              .range([&#x27;#ffffccff&#x27;, &#x27;#ffffccff&#x27;, &#x27;#ffffccff&#x27;, &#x27;#ffffccff&#x27;, &#x27;#ffffccff&#x27;, &#x27;#ffffccff&#x27;, &#x27;#ffffccff&#x27;, &#x27;#ffffccff&#x27;, &#x27;#ffffccff&#x27;, &#x27;#ffffccff&#x27;, &#x27;#ffffccff&#x27;, &#x27;#ffffccff&#x27;, &#x27;#ffffccff&#x27;, &#x27;#ffffccff&#x27;, &#x27;#ffffccff&#x27;, &#x27;#ffffccff&#x27;, &#x27;#ffffccff&#x27;, &#x27;#ffffccff&#x27;, &#x27;#ffffccff&#x27;, &#x27;#ffffccff&#x27;, &#x27;#ffffccff&#x27;, &#x27;#ffffccff&#x27;, &#x27;#ffffccff&#x27;, &#x27;#ffffccff&#x27;, &#x27;#ffffccff&#x27;, &#x27;#ffffccff&#x27;, &#x27;#ffffccff&#x27;, &#x27;#ffffccff&#x27;, &#x27;#ffffccff&#x27;, &#x27;#ffffccff&#x27;, &#x27;#ffffccff&#x27;, &#x27;#ffffccff&#x27;, &#x27;#ffffccff&#x27;, &#x27;#ffffccff&#x27;, &#x27;#ffffccff&#x27;, &#x27;#ffffccff&#x27;, &#x27;#ffffccff&#x27;, &#x27;#ffffccff&#x27;, &#x27;#ffffccff&#x27;, &#x27;#ffffccff&#x27;, &#x27;#ffffccff&#x27;, &#x27;#ffffccff&#x27;, &#x27;#ffffccff&#x27;, &#x27;#ffffccff&#x27;, &#x27;#ffffccff&#x27;, &#x27;#ffffccff&#x27;, &#x27;#ffffccff&#x27;, &#x27;#ffffccff&#x27;, &#x27;#ffffccff&#x27;, &#x27;#ffffccff&#x27;, &#x27;#ffffccff&#x27;, &#x27;#ffffccff&#x27;, &#x27;#ffffccff&#x27;, &#x27;#ffffccff&#x27;, &#x27;#ffffccff&#x27;, &#x27;#ffffccff&#x27;, &#x27;#ffffccff&#x27;, &#x27;#ffffccff&#x27;, &#x27;#ffffccff&#x27;, &#x27;#ffffccff&#x27;, &#x27;#ffffccff&#x27;, &#x27;#ffffccff&#x27;, &#x27;#ffffccff&#x27;, &#x27;#ffffccff&#x27;, &#x27;#ffffccff&#x27;, &#x27;#ffffccff&#x27;, &#x27;#ffffccff&#x27;, &#x27;#ffffccff&#x27;, &#x27;#ffffccff&#x27;, &#x27;#ffffccff&#x27;, &#x27;#ffffccff&#x27;, &#x27;#ffffccff&#x27;, &#x27;#ffffccff&#x27;, &#x27;#ffffccff&#x27;, &#x27;#ffffccff&#x27;, &#x27;#ffffccff&#x27;, &#x27;#ffffccff&#x27;, &#x27;#ffffccff&#x27;, &#x27;#ffffccff&#x27;, &#x27;#ffffccff&#x27;, &#x27;#ffffccff&#x27;, &#x27;#ffffccff&#x27;, &#x27;#ffffccff&#x27;, &#x27;#ffffccff&#x27;, &#x27;#c7e9b4ff&#x27;, &#x27;#c7e9b4ff&#x27;, &#x27;#c7e9b4ff&#x27;, &#x27;#c7e9b4ff&#x27;, &#x27;#c7e9b4ff&#x27;, &#x27;#c7e9b4ff&#x27;, &#x27;#c7e9b4ff&#x27;, &#x27;#c7e9b4ff&#x27;, &#x27;#c7e9b4ff&#x27;, &#x27;#c7e9b4ff&#x27;, &#x27;#c7e9b4ff&#x27;, &#x27;#c7e9b4ff&#x27;, &#x27;#c7e9b4ff&#x27;, &#x27;#c7e9b4ff&#x27;, &#x27;#c7e9b4ff&#x27;, &#x27;#c7e9b4ff&#x27;, &#x27;#c7e9b4ff&#x27;, &#x27;#c7e9b4ff&#x27;, &#x27;#c7e9b4ff&#x27;, &#x27;#c7e9b4ff&#x27;, &#x27;#c7e9b4ff&#x27;, &#x27;#c7e9b4ff&#x27;, &#x27;#c7e9b4ff&#x27;, &#x27;#c7e9b4ff&#x27;, &#x27;#c7e9b4ff&#x27;, &#x27;#c7e9b4ff&#x27;, &#x27;#c7e9b4ff&#x27;, &#x27;#c7e9b4ff&#x27;, &#x27;#c7e9b4ff&#x27;, &#x27;#c7e9b4ff&#x27;, &#x27;#c7e9b4ff&#x27;, &#x27;#c7e9b4ff&#x27;, &#x27;#c7e9b4ff&#x27;, &#x27;#c7e9b4ff&#x27;, &#x27;#c7e9b4ff&#x27;, &#x27;#c7e9b4ff&#x27;, &#x27;#c7e9b4ff&#x27;, &#x27;#c7e9b4ff&#x27;, &#x27;#c7e9b4ff&#x27;, &#x27;#c7e9b4ff&#x27;, &#x27;#c7e9b4ff&#x27;, &#x27;#c7e9b4ff&#x27;, &#x27;#c7e9b4ff&#x27;, &#x27;#c7e9b4ff&#x27;, &#x27;#c7e9b4ff&#x27;, &#x27;#c7e9b4ff&#x27;, &#x27;#c7e9b4ff&#x27;, &#x27;#c7e9b4ff&#x27;, &#x27;#c7e9b4ff&#x27;, &#x27;#c7e9b4ff&#x27;, &#x27;#c7e9b4ff&#x27;, &#x27;#c7e9b4ff&#x27;, &#x27;#c7e9b4ff&#x27;, &#x27;#c7e9b4ff&#x27;, &#x27;#c7e9b4ff&#x27;, &#x27;#c7e9b4ff&#x27;, &#x27;#c7e9b4ff&#x27;, &#x27;#c7e9b4ff&#x27;, &#x27;#c7e9b4ff&#x27;, &#x27;#c7e9b4ff&#x27;, &#x27;#c7e9b4ff&#x27;, &#x27;#c7e9b4ff&#x27;, &#x27;#c7e9b4ff&#x27;, &#x27;#c7e9b4ff&#x27;, &#x27;#c7e9b4ff&#x27;, &#x27;#c7e9b4ff&#x27;, &#x27;#c7e9b4ff&#x27;, &#x27;#c7e9b4ff&#x27;, &#x27;#c7e9b4ff&#x27;, &#x27;#c7e9b4ff&#x27;, &#x27;#c7e9b4ff&#x27;, &#x27;#c7e9b4ff&#x27;, &#x27;#c7e9b4ff&#x27;, &#x27;#c7e9b4ff&#x27;, &#x27;#c7e9b4ff&#x27;, &#x27;#c7e9b4ff&#x27;, &#x27;#c7e9b4ff&#x27;, &#x27;#c7e9b4ff&#x27;, &#x27;#c7e9b4ff&#x27;, &#x27;#c7e9b4ff&#x27;, &#x27;#c7e9b4ff&#x27;, &#x27;#c7e9b4ff&#x27;, &#x27;#c7e9b4ff&#x27;, &#x27;#7fcdbbff&#x27;, &#x27;#7fcdbbff&#x27;, &#x27;#7fcdbbff&#x27;, &#x27;#7fcdbbff&#x27;, &#x27;#7fcdbbff&#x27;, &#x27;#7fcdbbff&#x27;, &#x27;#7fcdbbff&#x27;, &#x27;#7fcdbbff&#x27;, &#x27;#7fcdbbff&#x27;, &#x27;#7fcdbbff&#x27;, &#x27;#7fcdbbff&#x27;, &#x27;#7fcdbbff&#x27;, &#x27;#7fcdbbff&#x27;, &#x27;#7fcdbbff&#x27;, &#x27;#7fcdbbff&#x27;, &#x27;#7fcdbbff&#x27;, &#x27;#7fcdbbff&#x27;, &#x27;#7fcdbbff&#x27;, &#x27;#7fcdbbff&#x27;, &#x27;#7fcdbbff&#x27;, &#x27;#7fcdbbff&#x27;, &#x27;#7fcdbbff&#x27;, &#x27;#7fcdbbff&#x27;, &#x27;#7fcdbbff&#x27;, &#x27;#7fcdbbff&#x27;, &#x27;#7fcdbbff&#x27;, &#x27;#7fcdbbff&#x27;, &#x27;#7fcdbbff&#x27;, &#x27;#7fcdbbff&#x27;, &#x27;#7fcdbbff&#x27;, &#x27;#7fcdbbff&#x27;, &#x27;#7fcdbbff&#x27;, &#x27;#7fcdbbff&#x27;, &#x27;#7fcdbbff&#x27;, &#x27;#7fcdbbff&#x27;, &#x27;#7fcdbbff&#x27;, &#x27;#7fcdbbff&#x27;, &#x27;#7fcdbbff&#x27;, &#x27;#7fcdbbff&#x27;, &#x27;#7fcdbbff&#x27;, &#x27;#7fcdbbff&#x27;, &#x27;#7fcdbbff&#x27;, &#x27;#7fcdbbff&#x27;, &#x27;#7fcdbbff&#x27;, &#x27;#7fcdbbff&#x27;, &#x27;#7fcdbbff&#x27;, &#x27;#7fcdbbff&#x27;, &#x27;#7fcdbbff&#x27;, &#x27;#7fcdbbff&#x27;, &#x27;#7fcdbbff&#x27;, &#x27;#7fcdbbff&#x27;, &#x27;#7fcdbbff&#x27;, &#x27;#7fcdbbff&#x27;, &#x27;#7fcdbbff&#x27;, &#x27;#7fcdbbff&#x27;, &#x27;#7fcdbbff&#x27;, &#x27;#7fcdbbff&#x27;, &#x27;#7fcdbbff&#x27;, &#x27;#7fcdbbff&#x27;, &#x27;#7fcdbbff&#x27;, &#x27;#7fcdbbff&#x27;, &#x27;#7fcdbbff&#x27;, &#x27;#7fcdbbff&#x27;, &#x27;#7fcdbbff&#x27;, &#x27;#7fcdbbff&#x27;, &#x27;#7fcdbbff&#x27;, &#x27;#7fcdbbff&#x27;, &#x27;#7fcdbbff&#x27;, &#x27;#7fcdbbff&#x27;, &#x27;#7fcdbbff&#x27;, &#x27;#7fcdbbff&#x27;, &#x27;#7fcdbbff&#x27;, &#x27;#7fcdbbff&#x27;, &#x27;#7fcdbbff&#x27;, &#x27;#7fcdbbff&#x27;, &#x27;#7fcdbbff&#x27;, &#x27;#7fcdbbff&#x27;, &#x27;#7fcdbbff&#x27;, &#x27;#7fcdbbff&#x27;, &#x27;#7fcdbbff&#x27;, &#x27;#7fcdbbff&#x27;, &#x27;#7fcdbbff&#x27;, &#x27;#7fcdbbff&#x27;, &#x27;#41b6c4ff&#x27;, &#x27;#41b6c4ff&#x27;, &#x27;#41b6c4ff&#x27;, &#x27;#41b6c4ff&#x27;, &#x27;#41b6c4ff&#x27;, &#x27;#41b6c4ff&#x27;, &#x27;#41b6c4ff&#x27;, &#x27;#41b6c4ff&#x27;, &#x27;#41b6c4ff&#x27;, &#x27;#41b6c4ff&#x27;, &#x27;#41b6c4ff&#x27;, &#x27;#41b6c4ff&#x27;, &#x27;#41b6c4ff&#x27;, &#x27;#41b6c4ff&#x27;, &#x27;#41b6c4ff&#x27;, &#x27;#41b6c4ff&#x27;, &#x27;#41b6c4ff&#x27;, &#x27;#41b6c4ff&#x27;, &#x27;#41b6c4ff&#x27;, &#x27;#41b6c4ff&#x27;, &#x27;#41b6c4ff&#x27;, &#x27;#41b6c4ff&#x27;, &#x27;#41b6c4ff&#x27;, &#x27;#41b6c4ff&#x27;, &#x27;#41b6c4ff&#x27;, &#x27;#41b6c4ff&#x27;, &#x27;#41b6c4ff&#x27;, &#x27;#41b6c4ff&#x27;, &#x27;#41b6c4ff&#x27;, &#x27;#41b6c4ff&#x27;, &#x27;#41b6c4ff&#x27;, &#x27;#41b6c4ff&#x27;, &#x27;#41b6c4ff&#x27;, &#x27;#41b6c4ff&#x27;, &#x27;#41b6c4ff&#x27;, &#x27;#41b6c4ff&#x27;, &#x27;#41b6c4ff&#x27;, &#x27;#41b6c4ff&#x27;, &#x27;#41b6c4ff&#x27;, &#x27;#41b6c4ff&#x27;, &#x27;#41b6c4ff&#x27;, &#x27;#41b6c4ff&#x27;, &#x27;#41b6c4ff&#x27;, &#x27;#41b6c4ff&#x27;, &#x27;#41b6c4ff&#x27;, &#x27;#41b6c4ff&#x27;, &#x27;#41b6c4ff&#x27;, &#x27;#41b6c4ff&#x27;, &#x27;#41b6c4ff&#x27;, &#x27;#41b6c4ff&#x27;, &#x27;#41b6c4ff&#x27;, &#x27;#41b6c4ff&#x27;, &#x27;#41b6c4ff&#x27;, &#x27;#41b6c4ff&#x27;, &#x27;#41b6c4ff&#x27;, &#x27;#41b6c4ff&#x27;, &#x27;#41b6c4ff&#x27;, &#x27;#41b6c4ff&#x27;, &#x27;#41b6c4ff&#x27;, &#x27;#41b6c4ff&#x27;, &#x27;#41b6c4ff&#x27;, &#x27;#41b6c4ff&#x27;, &#x27;#41b6c4ff&#x27;, &#x27;#41b6c4ff&#x27;, &#x27;#41b6c4ff&#x27;, &#x27;#41b6c4ff&#x27;, &#x27;#41b6c4ff&#x27;, &#x27;#41b6c4ff&#x27;, &#x27;#41b6c4ff&#x27;, &#x27;#41b6c4ff&#x27;, &#x27;#41b6c4ff&#x27;, &#x27;#41b6c4ff&#x27;, &#x27;#41b6c4ff&#x27;, &#x27;#41b6c4ff&#x27;, &#x27;#41b6c4ff&#x27;, &#x27;#41b6c4ff&#x27;, &#x27;#41b6c4ff&#x27;, &#x27;#41b6c4ff&#x27;, &#x27;#41b6c4ff&#x27;, &#x27;#41b6c4ff&#x27;, &#x27;#41b6c4ff&#x27;, &#x27;#41b6c4ff&#x27;, &#x27;#41b6c4ff&#x27;, &#x27;#2c7fb8ff&#x27;, &#x27;#2c7fb8ff&#x27;, &#x27;#2c7fb8ff&#x27;, &#x27;#2c7fb8ff&#x27;, &#x27;#2c7fb8ff&#x27;, &#x27;#2c7fb8ff&#x27;, &#x27;#2c7fb8ff&#x27;, &#x27;#2c7fb8ff&#x27;, &#x27;#2c7fb8ff&#x27;, &#x27;#2c7fb8ff&#x27;, &#x27;#2c7fb8ff&#x27;, &#x27;#2c7fb8ff&#x27;, &#x27;#2c7fb8ff&#x27;, &#x27;#2c7fb8ff&#x27;, &#x27;#2c7fb8ff&#x27;, &#x27;#2c7fb8ff&#x27;, &#x27;#2c7fb8ff&#x27;, &#x27;#2c7fb8ff&#x27;, &#x27;#2c7fb8ff&#x27;, &#x27;#2c7fb8ff&#x27;, &#x27;#2c7fb8ff&#x27;, &#x27;#2c7fb8ff&#x27;, &#x27;#2c7fb8ff&#x27;, &#x27;#2c7fb8ff&#x27;, &#x27;#2c7fb8ff&#x27;, &#x27;#2c7fb8ff&#x27;, &#x27;#2c7fb8ff&#x27;, &#x27;#2c7fb8ff&#x27;, &#x27;#2c7fb8ff&#x27;, &#x27;#2c7fb8ff&#x27;, &#x27;#2c7fb8ff&#x27;, &#x27;#2c7fb8ff&#x27;, &#x27;#2c7fb8ff&#x27;, &#x27;#2c7fb8ff&#x27;, &#x27;#2c7fb8ff&#x27;, &#x27;#2c7fb8ff&#x27;, &#x27;#2c7fb8ff&#x27;, &#x27;#2c7fb8ff&#x27;, &#x27;#2c7fb8ff&#x27;, &#x27;#2c7fb8ff&#x27;, &#x27;#2c7fb8ff&#x27;, &#x27;#2c7fb8ff&#x27;, &#x27;#2c7fb8ff&#x27;, &#x27;#2c7fb8ff&#x27;, &#x27;#2c7fb8ff&#x27;, &#x27;#2c7fb8ff&#x27;, &#x27;#2c7fb8ff&#x27;, &#x27;#2c7fb8ff&#x27;, &#x27;#2c7fb8ff&#x27;, &#x27;#2c7fb8ff&#x27;, &#x27;#2c7fb8ff&#x27;, &#x27;#2c7fb8ff&#x27;, &#x27;#2c7fb8ff&#x27;, &#x27;#2c7fb8ff&#x27;, &#x27;#2c7fb8ff&#x27;, &#x27;#2c7fb8ff&#x27;, &#x27;#2c7fb8ff&#x27;, &#x27;#2c7fb8ff&#x27;, &#x27;#2c7fb8ff&#x27;, &#x27;#2c7fb8ff&#x27;, &#x27;#2c7fb8ff&#x27;, &#x27;#2c7fb8ff&#x27;, &#x27;#2c7fb8ff&#x27;, &#x27;#2c7fb8ff&#x27;, &#x27;#2c7fb8ff&#x27;, &#x27;#2c7fb8ff&#x27;, &#x27;#2c7fb8ff&#x27;, &#x27;#2c7fb8ff&#x27;, &#x27;#2c7fb8ff&#x27;, &#x27;#2c7fb8ff&#x27;, &#x27;#2c7fb8ff&#x27;, &#x27;#2c7fb8ff&#x27;, &#x27;#2c7fb8ff&#x27;, &#x27;#2c7fb8ff&#x27;, &#x27;#2c7fb8ff&#x27;, &#x27;#2c7fb8ff&#x27;, &#x27;#2c7fb8ff&#x27;, &#x27;#2c7fb8ff&#x27;, &#x27;#2c7fb8ff&#x27;, &#x27;#2c7fb8ff&#x27;, &#x27;#2c7fb8ff&#x27;, &#x27;#2c7fb8ff&#x27;, &#x27;#2c7fb8ff&#x27;, &#x27;#253494ff&#x27;, &#x27;#253494ff&#x27;, &#x27;#253494ff&#x27;, &#x27;#253494ff&#x27;, &#x27;#253494ff&#x27;, &#x27;#253494ff&#x27;, &#x27;#253494ff&#x27;, &#x27;#253494ff&#x27;, &#x27;#253494ff&#x27;, &#x27;#253494ff&#x27;, &#x27;#253494ff&#x27;, &#x27;#253494ff&#x27;, &#x27;#253494ff&#x27;, &#x27;#253494ff&#x27;, &#x27;#253494ff&#x27;, &#x27;#253494ff&#x27;, &#x27;#253494ff&#x27;, &#x27;#253494ff&#x27;, &#x27;#253494ff&#x27;, &#x27;#253494ff&#x27;, &#x27;#253494ff&#x27;, &#x27;#253494ff&#x27;, &#x27;#253494ff&#x27;, &#x27;#253494ff&#x27;, &#x27;#253494ff&#x27;, &#x27;#253494ff&#x27;, &#x27;#253494ff&#x27;, &#x27;#253494ff&#x27;, &#x27;#253494ff&#x27;, &#x27;#253494ff&#x27;, &#x27;#253494ff&#x27;, &#x27;#253494ff&#x27;, &#x27;#253494ff&#x27;, &#x27;#253494ff&#x27;, &#x27;#253494ff&#x27;, &#x27;#253494ff&#x27;, &#x27;#253494ff&#x27;, &#x27;#253494ff&#x27;, &#x27;#253494ff&#x27;, &#x27;#253494ff&#x27;, &#x27;#253494ff&#x27;, &#x27;#253494ff&#x27;, &#x27;#253494ff&#x27;, &#x27;#253494ff&#x27;, &#x27;#253494ff&#x27;, &#x27;#253494ff&#x27;, &#x27;#253494ff&#x27;, &#x27;#253494ff&#x27;, &#x27;#253494ff&#x27;, &#x27;#253494ff&#x27;, &#x27;#253494ff&#x27;, &#x27;#253494ff&#x27;, &#x27;#253494ff&#x27;, &#x27;#253494ff&#x27;, &#x27;#253494ff&#x27;, &#x27;#253494ff&#x27;, &#x27;#253494ff&#x27;, &#x27;#253494ff&#x27;, &#x27;#253494ff&#x27;, &#x27;#253494ff&#x27;, &#x27;#253494ff&#x27;, &#x27;#253494ff&#x27;, &#x27;#253494ff&#x27;, &#x27;#253494ff&#x27;, &#x27;#253494ff&#x27;, &#x27;#253494ff&#x27;, &#x27;#253494ff&#x27;, &#x27;#253494ff&#x27;, &#x27;#253494ff&#x27;, &#x27;#253494ff&#x27;, &#x27;#253494ff&#x27;, &#x27;#253494ff&#x27;, &#x27;#253494ff&#x27;, &#x27;#253494ff&#x27;, &#x27;#253494ff&#x27;, &#x27;#253494ff&#x27;, &#x27;#253494ff&#x27;, &#x27;#253494ff&#x27;, &#x27;#253494ff&#x27;, &#x27;#253494ff&#x27;, &#x27;#253494ff&#x27;, &#x27;#253494ff&#x27;, &#x27;#253494ff&#x27;, &#x27;#253494ff&#x27;]);\n",
       "    \n",
       "\n",
       "    color_map_3e2ba1ae97cbba992cdee1c3e7db5918.x = d3.scale.linear()\n",
       "              .domain([41609.0, 91865.0])\n",
       "              .range([0, 450 - 50]);\n",
       "\n",
       "    color_map_3e2ba1ae97cbba992cdee1c3e7db5918.legend = L.control({position: &#x27;topright&#x27;});\n",
       "    color_map_3e2ba1ae97cbba992cdee1c3e7db5918.legend.onAdd = function (map) {var div = L.DomUtil.create(&#x27;div&#x27;, &#x27;legend&#x27;); return div};\n",
       "    color_map_3e2ba1ae97cbba992cdee1c3e7db5918.legend.addTo(map_304e91b779330968836c914db5ab2c4b);\n",
       "\n",
       "    color_map_3e2ba1ae97cbba992cdee1c3e7db5918.xAxis = d3.svg.axis()\n",
       "        .scale(color_map_3e2ba1ae97cbba992cdee1c3e7db5918.x)\n",
       "        .orient(&quot;top&quot;)\n",
       "        .tickSize(1)\n",
       "        .tickValues([41609.0, 49985.0, 58361.0, 66737.0, 75113.0, 83489.0, 91865.0]);\n",
       "\n",
       "    color_map_3e2ba1ae97cbba992cdee1c3e7db5918.svg = d3.select(&quot;.legend.leaflet-control&quot;).append(&quot;svg&quot;)\n",
       "        .attr(&quot;id&quot;, &#x27;legend&#x27;)\n",
       "        .attr(&quot;width&quot;, 450)\n",
       "        .attr(&quot;height&quot;, 40);\n",
       "\n",
       "    color_map_3e2ba1ae97cbba992cdee1c3e7db5918.g = color_map_3e2ba1ae97cbba992cdee1c3e7db5918.svg.append(&quot;g&quot;)\n",
       "        .attr(&quot;class&quot;, &quot;key&quot;)\n",
       "        .attr(&quot;fill&quot;, &quot;black&quot;)\n",
       "        .attr(&quot;transform&quot;, &quot;translate(25,16)&quot;);\n",
       "\n",
       "    color_map_3e2ba1ae97cbba992cdee1c3e7db5918.g.selectAll(&quot;rect&quot;)\n",
       "        .data(color_map_3e2ba1ae97cbba992cdee1c3e7db5918.color.range().map(function(d, i) {\n",
       "          return {\n",
       "            x0: i ? color_map_3e2ba1ae97cbba992cdee1c3e7db5918.x(color_map_3e2ba1ae97cbba992cdee1c3e7db5918.color.domain()[i - 1]) : color_map_3e2ba1ae97cbba992cdee1c3e7db5918.x.range()[0],\n",
       "            x1: i &lt; color_map_3e2ba1ae97cbba992cdee1c3e7db5918.color.domain().length ? color_map_3e2ba1ae97cbba992cdee1c3e7db5918.x(color_map_3e2ba1ae97cbba992cdee1c3e7db5918.color.domain()[i]) : color_map_3e2ba1ae97cbba992cdee1c3e7db5918.x.range()[1],\n",
       "            z: d\n",
       "          };\n",
       "        }))\n",
       "      .enter().append(&quot;rect&quot;)\n",
       "        .attr(&quot;height&quot;, 40 - 30)\n",
       "        .attr(&quot;x&quot;, function(d) { return d.x0; })\n",
       "        .attr(&quot;width&quot;, function(d) { return d.x1 - d.x0; })\n",
       "        .style(&quot;fill&quot;, function(d) { return d.z; });\n",
       "\n",
       "    color_map_3e2ba1ae97cbba992cdee1c3e7db5918.g.call(color_map_3e2ba1ae97cbba992cdee1c3e7db5918.xAxis).append(&quot;text&quot;)\n",
       "        .attr(&quot;class&quot;, &quot;caption&quot;)\n",
       "        .attr(&quot;y&quot;, 21)\n",
       "        .attr(&quot;fill&quot;, &quot;black&quot;)\n",
       "        .text(&quot;Hospital Admissions&quot;);\n",
       "    \n",
       "            choropleth_a609d18f7de803fe58d31a60176b13fa.addTo(map_304e91b779330968836c914db5ab2c4b);\n",
       "        \n",
       "    \n",
       "            var marker_dcb27e7922ce566bd4fc65d1bdd27738 = L.marker(\n",
       "                [52.1911, 0.1927],\n",
       "                {}\n",
       "            ).addTo(map_304e91b779330968836c914db5ab2c4b);\n",
       "        \n",
       "    \n",
       "        var popup_b2d8b66fa7eb2788b50af73a471fb12a = L.popup({&quot;maxWidth&quot;: &quot;100%&quot;});\n",
       "\n",
       "        \n",
       "            \n",
       "                var html_b0e12a56ad7850c41eb523e48aa39bea = $(`&lt;div id=&quot;html_b0e12a56ad7850c41eb523e48aa39bea&quot; style=&quot;width: 100.0%; height: 100.0%;&quot;&gt;&lt;i&gt;East of England&lt;/i&gt;&lt;/div&gt;`)[0];\n",
       "                popup_b2d8b66fa7eb2788b50af73a471fb12a.setContent(html_b0e12a56ad7850c41eb523e48aa39bea);\n",
       "            \n",
       "        \n",
       "\n",
       "        marker_dcb27e7922ce566bd4fc65d1bdd27738.bindPopup(popup_b2d8b66fa7eb2788b50af73a471fb12a)\n",
       "        ;\n",
       "\n",
       "        \n",
       "    \n",
       "    \n",
       "            marker_dcb27e7922ce566bd4fc65d1bdd27738.bindTooltip(\n",
       "                `&lt;div&gt;\n",
       "                     East of England&lt;br&gt;Admissions: 41609\n",
       "                 &lt;/div&gt;`,\n",
       "                {&quot;sticky&quot;: true}\n",
       "            );\n",
       "        \n",
       "    \n",
       "            var marker_c78f72587d23fa5608f5edd99d959e1d = L.marker(\n",
       "                [51.5072, -0.1276],\n",
       "                {}\n",
       "            ).addTo(map_304e91b779330968836c914db5ab2c4b);\n",
       "        \n",
       "    \n",
       "        var popup_1e9d4f31d5c400c0181ae69d7bb3cbc1 = L.popup({&quot;maxWidth&quot;: &quot;100%&quot;});\n",
       "\n",
       "        \n",
       "            \n",
       "                var html_63cbb0777d8e3484b8a6fafbb5977f36 = $(`&lt;div id=&quot;html_63cbb0777d8e3484b8a6fafbb5977f36&quot; style=&quot;width: 100.0%; height: 100.0%;&quot;&gt;&lt;i&gt;London&lt;/i&gt;&lt;/div&gt;`)[0];\n",
       "                popup_1e9d4f31d5c400c0181ae69d7bb3cbc1.setContent(html_63cbb0777d8e3484b8a6fafbb5977f36);\n",
       "            \n",
       "        \n",
       "\n",
       "        marker_c78f72587d23fa5608f5edd99d959e1d.bindPopup(popup_1e9d4f31d5c400c0181ae69d7bb3cbc1)\n",
       "        ;\n",
       "\n",
       "        \n",
       "    \n",
       "    \n",
       "            marker_c78f72587d23fa5608f5edd99d959e1d.bindTooltip(\n",
       "                `&lt;div&gt;\n",
       "                     London&lt;br&gt;Admissions: 53859\n",
       "                 &lt;/div&gt;`,\n",
       "                {&quot;sticky&quot;: true}\n",
       "            );\n",
       "        \n",
       "    \n",
       "            var marker_b663cb038ff266290b555302ebd1e86b = L.marker(\n",
       "                [52.3449, -1.9718],\n",
       "                {}\n",
       "            ).addTo(map_304e91b779330968836c914db5ab2c4b);\n",
       "        \n",
       "    \n",
       "        var popup_3c31e006532995c9164639fb50d965da = L.popup({&quot;maxWidth&quot;: &quot;100%&quot;});\n",
       "\n",
       "        \n",
       "            \n",
       "                var html_2d1fa161ef822b2291b938c647c5ca8d = $(`&lt;div id=&quot;html_2d1fa161ef822b2291b938c647c5ca8d&quot; style=&quot;width: 100.0%; height: 100.0%;&quot;&gt;&lt;i&gt;Midlands&lt;/i&gt;&lt;/div&gt;`)[0];\n",
       "                popup_3c31e006532995c9164639fb50d965da.setContent(html_2d1fa161ef822b2291b938c647c5ca8d);\n",
       "            \n",
       "        \n",
       "\n",
       "        marker_b663cb038ff266290b555302ebd1e86b.bindPopup(popup_3c31e006532995c9164639fb50d965da)\n",
       "        ;\n",
       "\n",
       "        \n",
       "    \n",
       "    \n",
       "            marker_b663cb038ff266290b555302ebd1e86b.bindTooltip(\n",
       "                `&lt;div&gt;\n",
       "                     Midlands&lt;br&gt;Admissions: 63646\n",
       "                 &lt;/div&gt;`,\n",
       "                {&quot;sticky&quot;: true}\n",
       "            );\n",
       "        \n",
       "    \n",
       "            var marker_00b809d6968eabf966eeaae94b57447a = L.marker(\n",
       "                [54.2333, -1.3364],\n",
       "                {}\n",
       "            ).addTo(map_304e91b779330968836c914db5ab2c4b);\n",
       "        \n",
       "    \n",
       "        var popup_3f2e8fb60c5e92fd378902bd00a906d9 = L.popup({&quot;maxWidth&quot;: &quot;100%&quot;});\n",
       "\n",
       "        \n",
       "            \n",
       "                var html_eebe5d79b68fadbfbe40835ced93e78b = $(`&lt;div id=&quot;html_eebe5d79b68fadbfbe40835ced93e78b&quot; style=&quot;width: 100.0%; height: 100.0%;&quot;&gt;&lt;i&gt;North East and Yorkshire&lt;/i&gt;&lt;/div&gt;`)[0];\n",
       "                popup_3f2e8fb60c5e92fd378902bd00a906d9.setContent(html_eebe5d79b68fadbfbe40835ced93e78b);\n",
       "            \n",
       "        \n",
       "\n",
       "        marker_00b809d6968eabf966eeaae94b57447a.bindPopup(popup_3f2e8fb60c5e92fd378902bd00a906d9)\n",
       "        ;\n",
       "\n",
       "        \n",
       "    \n",
       "    \n",
       "            marker_00b809d6968eabf966eeaae94b57447a.bindTooltip(\n",
       "                `&lt;div&gt;\n",
       "                     North East and Yorkshire&lt;br&gt;Admissions: 91865\n",
       "                 &lt;/div&gt;`,\n",
       "                {&quot;sticky&quot;: true}\n",
       "            );\n",
       "        \n",
       "    \n",
       "            var marker_a0b89b0c7b4a864d7aa258c0402e9fd8 = L.marker(\n",
       "                [53.6221, -2.5945],\n",
       "                {}\n",
       "            ).addTo(map_304e91b779330968836c914db5ab2c4b);\n",
       "        \n",
       "    \n",
       "        var popup_75664e49abd2b16e3c9b8964e9d1f1c9 = L.popup({&quot;maxWidth&quot;: &quot;100%&quot;});\n",
       "\n",
       "        \n",
       "            \n",
       "                var html_dedaa7bdd09dff924209d1abd5b8b2a9 = $(`&lt;div id=&quot;html_dedaa7bdd09dff924209d1abd5b8b2a9&quot; style=&quot;width: 100.0%; height: 100.0%;&quot;&gt;&lt;i&gt;North West&lt;/i&gt;&lt;/div&gt;`)[0];\n",
       "                popup_75664e49abd2b16e3c9b8964e9d1f1c9.setContent(html_dedaa7bdd09dff924209d1abd5b8b2a9);\n",
       "            \n",
       "        \n",
       "\n",
       "        marker_a0b89b0c7b4a864d7aa258c0402e9fd8.bindPopup(popup_75664e49abd2b16e3c9b8964e9d1f1c9)\n",
       "        ;\n",
       "\n",
       "        \n",
       "    \n",
       "    \n",
       "            marker_a0b89b0c7b4a864d7aa258c0402e9fd8.bindTooltip(\n",
       "                `&lt;div&gt;\n",
       "                     North West&lt;br&gt;Admissions: 70614\n",
       "                 &lt;/div&gt;`,\n",
       "                {&quot;sticky&quot;: true}\n",
       "            );\n",
       "        \n",
       "    \n",
       "            var marker_a6fd93e9e7c1632349fd478a8af4f3f1 = L.marker(\n",
       "                [51.1781, -0.5596],\n",
       "                {}\n",
       "            ).addTo(map_304e91b779330968836c914db5ab2c4b);\n",
       "        \n",
       "    \n",
       "        var popup_b0522c44a907504f8c4c664143b29788 = L.popup({&quot;maxWidth&quot;: &quot;100%&quot;});\n",
       "\n",
       "        \n",
       "            \n",
       "                var html_8e5ee4e25921a6ffaa94da807862dfbf = $(`&lt;div id=&quot;html_8e5ee4e25921a6ffaa94da807862dfbf&quot; style=&quot;width: 100.0%; height: 100.0%;&quot;&gt;&lt;i&gt;South East&lt;/i&gt;&lt;/div&gt;`)[0];\n",
       "                popup_b0522c44a907504f8c4c664143b29788.setContent(html_8e5ee4e25921a6ffaa94da807862dfbf);\n",
       "            \n",
       "        \n",
       "\n",
       "        marker_a6fd93e9e7c1632349fd478a8af4f3f1.bindPopup(popup_b0522c44a907504f8c4c664143b29788)\n",
       "        ;\n",
       "\n",
       "        \n",
       "    \n",
       "    \n",
       "            marker_a6fd93e9e7c1632349fd478a8af4f3f1.bindTooltip(\n",
       "                `&lt;div&gt;\n",
       "                     South East&lt;br&gt;Admissions: 58885\n",
       "                 &lt;/div&gt;`,\n",
       "                {&quot;sticky&quot;: true}\n",
       "            );\n",
       "        \n",
       "    \n",
       "            var marker_f262f82b10aa0b50ce4dfc87a36e22b2 = L.marker(\n",
       "                [50.7772, -3.9995],\n",
       "                {}\n",
       "            ).addTo(map_304e91b779330968836c914db5ab2c4b);\n",
       "        \n",
       "    \n",
       "        var popup_43cfad9e84874d8baeb1e3c7f6eccbe6 = L.popup({&quot;maxWidth&quot;: &quot;100%&quot;});\n",
       "\n",
       "        \n",
       "            \n",
       "                var html_0b03e193c109bc9e16749cbea843d8f6 = $(`&lt;div id=&quot;html_0b03e193c109bc9e16749cbea843d8f6&quot; style=&quot;width: 100.0%; height: 100.0%;&quot;&gt;&lt;i&gt;South West&lt;/i&gt;&lt;/div&gt;`)[0];\n",
       "                popup_43cfad9e84874d8baeb1e3c7f6eccbe6.setContent(html_0b03e193c109bc9e16749cbea843d8f6);\n",
       "            \n",
       "        \n",
       "\n",
       "        marker_f262f82b10aa0b50ce4dfc87a36e22b2.bindPopup(popup_43cfad9e84874d8baeb1e3c7f6eccbe6)\n",
       "        ;\n",
       "\n",
       "        \n",
       "    \n",
       "    \n",
       "            marker_f262f82b10aa0b50ce4dfc87a36e22b2.bindTooltip(\n",
       "                `&lt;div&gt;\n",
       "                     South West&lt;br&gt;Admissions: 42751\n",
       "                 &lt;/div&gt;`,\n",
       "                {&quot;sticky&quot;: true}\n",
       "            );\n",
       "        \n",
       "&lt;/script&gt;\n",
       "&lt;/html&gt;\" style=\"position:absolute;width:100%;height:100%;left:0;top:0;border:none !important;\" allowfullscreen webkitallowfullscreen mozallowfullscreen></iframe></div></div>"
      ],
      "text/plain": [
       "<folium.folium.Map at 0x157f96c10>"
      ]
     },
     "metadata": {},
     "output_type": "display_data"
    },
    {
     "data": {
      "application/vnd.jupyter.widget-view+json": {
       "model_id": "c9bebe49467e45eaa3bbf589ac6a0db8",
       "version_major": 2,
       "version_minor": 0
      },
      "text/plain": [
       "interactive(children=(Dropdown(description='Data to view', options=('Respiratory', 'COPD', 'Asthma'), style=De…"
      ]
     },
     "metadata": {},
     "output_type": "display_data"
    }
   ],
   "source": [
    "# show data for each group: Respiratory, COPD and Asthma \n",
    "display_data_on_map(regional_dict, \"Admissions\")"
   ]
  },
  {
   "cell_type": "markdown",
   "id": "5cf88f38",
   "metadata": {},
   "source": [
    "#### ANALYSIS OF THE ABOVE MAP\n",
    "> The above maps show that respiratory illnesses result in the greatest *total number* of respiratory hospital admissions in the North East and Yorkshire region with 91,865 admissions, far exceeding anywhere else. The lowest *total number* of respiratory hospital admissions is in the East of England with 41,609 and the South West closely following with 42,751 admissions; these are likely the cleanest (least polluted) regions in the nation, however services provided may impact this also - further analysis required. London, despire being geographically far smaller, has more admission than both the East of England and the South West, with 53,859 admissions due to respiratory illnesses.\n",
    "<br><br>\n",
    "COPD specific admissions see a relative increase in the North West, Midlands and the South West, while London and the South East see a relative decrease. Further analysis is required to understand why. \n",
    "<br><br>\n",
    "Asthma cases see a huge relative increase in the North West, and increases in the Midlands, East of England and London while the North East and Yorkshire sees a massive relative decrease. Further analysis is required to determine whether this is likely due to services provided or pollution (although without pollution data conclusions regarding this cannot be drawn).\n",
    "<br><br>\n",
    "> *However, these figures are population dependent. We thus analyse repiratory admissions per bed available in order to make more meaningful analysis, since population data is not available.*\n"
   ]
  },
  {
   "cell_type": "markdown",
   "id": "7614debd",
   "metadata": {},
   "source": [
    "<br><br>\n",
    "### Regional Hospital Admissions Per Bed\n",
    "<br>\n",
    "\n",
    "> *Here we begin to answer the question*\n",
    "<br>\n",
    "Which regions of the country have the highest admissions to hospital due to respiratory illnesses? \n",
    "<br><br>\n",
    "> *The dataset contains two relevant columns of data, \"Number of beds available on dedicated respiratory ward(s) \" and \"Number of available medical beds\", however, we whether the columns are entirely numeric.*"
   ]
  },
  {
   "cell_type": "markdown",
   "id": "fdaa45c1",
   "metadata": {},
   "source": [
    "#### Check respiratory beds available and total beds available are all numeric:"
   ]
  },
  {
   "cell_type": "code",
   "execution_count": 82,
   "id": "d129755a",
   "metadata": {},
   "outputs": [
    {
     "name": "stdout",
     "output_type": "stream",
     "text": [
      "\n",
      "\n",
      "Is \"Number of beds available on dedicated respiratory ward(s)\" entirely numeric: False \n",
      "\n",
      "Is \"Number of available medical beds\" entirely numeric: True\n"
     ]
    }
   ],
   "source": [
    "category=\"Beds for admitted patients\"\n",
    "column=\"Number of beds available on dedicated respiratory ward(s) \"\n",
    "\n",
    "# get available respiratory wards beds dataframe column\n",
    "resp_beds=get_specific_column_from_multiindex(df_new,column)\n",
    "\n",
    "# check if data is numeric only and print statement\n",
    "mess='\\nIs \"Number of beds available on dedicated respiratory ward(s)\" entirely numeric: {} '\\\n",
    "    .format(are_all_numeric(resp_beds,category,column))\n",
    "print(\"\\n{}\".format(mess))\n",
    "\n",
    "# get total available beds dataframe column\n",
    "column=\"Number of available medical beds\"\n",
    "beds=get_specific_column_from_multiindex(df_new, column)\n",
    "\n",
    "# check if data is numeric only and print statement\n",
    "mess='Is \"Number of available medical beds\" entirely numeric: {}'\\\n",
    "    .format(are_all_numeric(beds, category, column))\n",
    "print(\"\\n{}\".format(mess))\n"
   ]
  },
  {
   "cell_type": "markdown",
   "id": "71dad936",
   "metadata": {},
   "source": [
    "> We see that \"Number of beds available on dedicated respiratory ward(s)\" contains non-numeric data; this is because not every hospital has a dedicated respiratory ward. In order to include as many hospitals hospital in our analysis, we look at the admissions relative to the total number of bed available.\n",
    "<br><br>\n",
    "> *Thus, we being to look at admission data per bed availible to assess service overwhelm, looking at admissions with respect to all beds available*\n"
   ]
  },
  {
   "cell_type": "markdown",
   "id": "1b640cdf",
   "metadata": {},
   "source": [
    "#### View the relevant columns of data: "
   ]
  },
  {
   "cell_type": "code",
   "execution_count": 83,
   "id": "8cc8afba",
   "metadata": {},
   "outputs": [
    {
     "data": {
      "text/html": [
       "<div>\n",
       "<style scoped>\n",
       "    .dataframe tbody tr th:only-of-type {\n",
       "        vertical-align: middle;\n",
       "    }\n",
       "\n",
       "    .dataframe tbody tr th {\n",
       "        vertical-align: top;\n",
       "    }\n",
       "\n",
       "    .dataframe thead tr th {\n",
       "        text-align: left;\n",
       "    }\n",
       "</style>\n",
       "<table border=\"1\" class=\"dataframe\">\n",
       "  <thead>\n",
       "    <tr>\n",
       "      <th></th>\n",
       "      <th>Location</th>\n",
       "      <th colspan=\"4\" halign=\"left\">Admission numbers</th>\n",
       "      <th>Beds for admitted patients</th>\n",
       "    </tr>\n",
       "    <tr>\n",
       "      <th></th>\n",
       "      <th>Region</th>\n",
       "      <th>Number of adult medical emergency admissions in 2020/21 financial year</th>\n",
       "      <th>Number of respiratory coded medical emergency admissions in 2020/21 financial year</th>\n",
       "      <th>Number of COPD coded emergency admissions in 2020/21 financial year</th>\n",
       "      <th>Number of asthma coded emergency admissions  in the 2020/21 financial year</th>\n",
       "      <th>Number of available medical beds</th>\n",
       "    </tr>\n",
       "  </thead>\n",
       "  <tbody>\n",
       "    <tr>\n",
       "      <th>0</th>\n",
       "      <td>East of England</td>\n",
       "      <td>39628</td>\n",
       "      <td>5265</td>\n",
       "      <td>806</td>\n",
       "      <td>369</td>\n",
       "      <td>380</td>\n",
       "    </tr>\n",
       "    <tr>\n",
       "      <th>1</th>\n",
       "      <td>East of England</td>\n",
       "      <td>13639</td>\n",
       "      <td>2482</td>\n",
       "      <td>346</td>\n",
       "      <td>109</td>\n",
       "      <td>319</td>\n",
       "    </tr>\n",
       "  </tbody>\n",
       "</table>\n",
       "</div>"
      ],
      "text/plain": [
       "          Location  \\\n",
       "            Region   \n",
       "0  East of England   \n",
       "1  East of England   \n",
       "\n",
       "                                                        Admission numbers  \\\n",
       "  Number of adult medical emergency admissions in 2020/21 financial year    \n",
       "0                                              39628                        \n",
       "1                                              13639                        \n",
       "\n",
       "                                                                                       \\\n",
       "  Number of respiratory coded medical emergency admissions in 2020/21 financial year    \n",
       "0                                               5265                                    \n",
       "1                                               2482                                    \n",
       "\n",
       "                                                                        \\\n",
       "  Number of COPD coded emergency admissions in 2020/21 financial year    \n",
       "0                                                806                     \n",
       "1                                                346                     \n",
       "\n",
       "                                                                               \\\n",
       "  Number of asthma coded emergency admissions  in the 2020/21 financial year    \n",
       "0                                                369                            \n",
       "1                                                109                            \n",
       "\n",
       "        Beds for admitted patients  \n",
       "  Number of available medical beds  \n",
       "0                              380  \n",
       "1                              319  "
      ]
     },
     "metadata": {},
     "output_type": "display_data"
    },
    {
     "data": {
      "application/vnd.jupyter.widget-view+json": {
       "model_id": "21c3c7aa870e466fbd8c284337454465",
       "version_major": 2,
       "version_minor": 0
      },
      "text/plain": [
       "interactive(children=(IntSlider(value=2, description='rows', max=159, min=1), Output()), _dom_classes=('widget…"
      ]
     },
     "metadata": {},
     "output_type": "display_data"
    }
   ],
   "source": [
    "# list of headers for relevant columns\n",
    "data_to_analyse=[\"Region\",\n",
    "                 \"Number of adult medical emergency admissions in 2020/21 financial year \",\n",
    "                 \"Number of respiratory coded medical emergency admissions in 2020/21 financial year \",\n",
    "                 \"Number of COPD coded emergency admissions in 2020/21 financial year \",\n",
    "                 \"Number of asthma coded emergency admissions  in the 2020/21 financial year \",\n",
    "                 \"Number of available medical beds\"]\n",
    "\n",
    "# view data in columns \n",
    "show_specific_columns_of_data(df_new, data_to_analyse)\n"
   ]
  },
  {
   "cell_type": "markdown",
   "id": "c1cd07b0",
   "metadata": {},
   "source": [
    "#### Data-Cleaning | Dropping Column With 0 Value\n",
    "\n",
    "> We see that there exists at least one 0 value in \"Number of available medical beds\"; such rows are omitted for this part of the analysis (where column dividing will take place), as follows:"
   ]
  },
  {
   "cell_type": "code",
   "execution_count": 84,
   "id": "0dd72324",
   "metadata": {},
   "outputs": [],
   "source": [
    "# new function definition to sum by region for non-multiiindex datafram \n",
    "def sum_by_region2(df_region,new_col,data_to_sum):\n",
    "    # returns the sum of values in new_col[data_to_sum] per region\n",
    "    \n",
    "    # get column to sum values \n",
    "    df1=new_col[data_to_sum]\n",
    "    \n",
    "    # dataframes to combine\n",
    "    temp=[df_region, df1]\n",
    "    \n",
    "    # combine the two dataframes, combined series obtained\n",
    "    combined_series=pd.concat(temp, axis=1)\n",
    "    # convert to dataframe, group by region and sum numeric column\n",
    "    summed_df=combined_series.groupby(\"Region\", as_index=False)[data_to_sum].sum()\n",
    "    \n",
    "    return summed_df\n",
    "\n",
    "# get number of beds column \n",
    "number_of_beds=get_specific_column_from_multiindex(df_new, data_to_analyse[5]).droplevel(0,axis=1)\n",
    "\n",
    "# create a list of booleans to map non-zero values to 1 and 0 values to 0\n",
    "bools=np.transpose([number_of_beds[data_to_analyse[5]].apply(lambda x: x!=0)])\n",
    "\n",
    "# create a dataframe with non-zero bed value rows only\n",
    "df_new_temp=df_new.iloc[bools]\n",
    "\n",
    "# define new single column regions dataframe\n",
    "regions_df=get_specific_column_from_multiindex(df_new_temp, \"Region\").droplevel(0,axis=1)\n",
    "\n",
    "\n",
    "# Compute respiratory admissions per bed available\n",
    "name=data_to_analyse[2]\n",
    "resp_admissions=get_specific_column_from_multiindex(df_new_temp, name).droplevel(0,axis=1)\n",
    "\n",
    "x=resp_admissions[name]/number_of_beds[data_to_analyse[5]]\n",
    "df_resp_per_bed=pd.DataFrame(x,columns=[\"Respiratory Admissions Per Bed Available\"])\n",
    "\n",
    "# Compute copd admissions per bed available\n",
    "name=data_to_analyse[3]\n",
    "copd_admissions=get_specific_column_from_multiindex(df_new_temp, name).droplevel(0,axis=1)\n",
    "\n",
    "x=copd_admissions[name]/number_of_beds[data_to_analyse[5]]\n",
    "df_copd_per_bed=pd.DataFrame(x,columns=[\"COPD Admissions Per Bed Available\"])\n",
    "\n",
    "# Compute asthma admissions per bed available\n",
    "name=data_to_analyse[4]\n",
    "asthma_admissions=get_specific_column_from_multiindex(df_new_temp, name).droplevel(0,axis=1)\n",
    "\n",
    "x=asthma_admissions[name]/number_of_beds[data_to_analyse[5]]\n",
    "df_asthma_per_bed=pd.DataFrame(x,columns=[\"Asthma Admissions Per Bed Available\"])\n",
    "\n",
    "# sum respiratory admissions per bed by region\n",
    "reg_resp_per_bed=sum_by_region2(regions_df,df_resp_per_bed,\"Respiratory Admissions Per Bed Available\")\n",
    "# sum copd admissions per bed by region\n",
    "reg_copd_per_bed=sum_by_region2(regions_df,df_copd_per_bed,\"COPD Admissions Per Bed Available\")\n",
    "# sum asthma admissions per bed by region\n",
    "reg_asthma_per_bed=sum_by_region2(regions_df,df_asthma_per_bed,\"Asthma Admissions Per Bed Available\")\n",
    "\n",
    "# create dictionary of dataframes to view data on folium map\n",
    "regional_dict_per_bed={\"Respiratory\":reg_resp_per_bed, \"COPD\":reg_copd_per_bed, \"Asthma\":reg_asthma_per_bed}"
   ]
  },
  {
   "cell_type": "code",
   "execution_count": 85,
   "id": "17e1838d",
   "metadata": {},
   "outputs": [
    {
     "data": {
      "text/html": [
       "<div style=\"width:100%;\"><div style=\"position:relative;width:100%;height:0;padding-bottom:60%;\"><span style=\"color:#565656\">Make this Notebook Trusted to load map: File -> Trust Notebook</span><iframe srcdoc=\"&lt;!DOCTYPE html&gt;\n",
       "&lt;html&gt;\n",
       "&lt;head&gt;\n",
       "    \n",
       "    &lt;meta http-equiv=&quot;content-type&quot; content=&quot;text/html; charset=UTF-8&quot; /&gt;\n",
       "    \n",
       "        &lt;script&gt;\n",
       "            L_NO_TOUCH = false;\n",
       "            L_DISABLE_3D = false;\n",
       "        &lt;/script&gt;\n",
       "    \n",
       "    &lt;style&gt;html, body {width: 100%;height: 100%;margin: 0;padding: 0;}&lt;/style&gt;\n",
       "    &lt;style&gt;#map {position:absolute;top:0;bottom:0;right:0;left:0;}&lt;/style&gt;\n",
       "    &lt;script src=&quot;https://cdn.jsdelivr.net/npm/leaflet@1.9.3/dist/leaflet.js&quot;&gt;&lt;/script&gt;\n",
       "    &lt;script src=&quot;https://code.jquery.com/jquery-3.7.1.min.js&quot;&gt;&lt;/script&gt;\n",
       "    &lt;script src=&quot;https://cdn.jsdelivr.net/npm/bootstrap@5.2.2/dist/js/bootstrap.bundle.min.js&quot;&gt;&lt;/script&gt;\n",
       "    &lt;script src=&quot;https://cdnjs.cloudflare.com/ajax/libs/Leaflet.awesome-markers/2.0.2/leaflet.awesome-markers.js&quot;&gt;&lt;/script&gt;\n",
       "    &lt;link rel=&quot;stylesheet&quot; href=&quot;https://cdn.jsdelivr.net/npm/leaflet@1.9.3/dist/leaflet.css&quot;/&gt;\n",
       "    &lt;link rel=&quot;stylesheet&quot; href=&quot;https://cdn.jsdelivr.net/npm/bootstrap@5.2.2/dist/css/bootstrap.min.css&quot;/&gt;\n",
       "    &lt;link rel=&quot;stylesheet&quot; href=&quot;https://netdna.bootstrapcdn.com/bootstrap/3.0.0/css/bootstrap-glyphicons.css&quot;/&gt;\n",
       "    &lt;link rel=&quot;stylesheet&quot; href=&quot;https://cdn.jsdelivr.net/npm/@fortawesome/fontawesome-free@6.2.0/css/all.min.css&quot;/&gt;\n",
       "    &lt;link rel=&quot;stylesheet&quot; href=&quot;https://cdnjs.cloudflare.com/ajax/libs/Leaflet.awesome-markers/2.0.2/leaflet.awesome-markers.css&quot;/&gt;\n",
       "    &lt;link rel=&quot;stylesheet&quot; href=&quot;https://cdn.jsdelivr.net/gh/python-visualization/folium/folium/templates/leaflet.awesome.rotate.min.css&quot;/&gt;\n",
       "    \n",
       "            &lt;meta name=&quot;viewport&quot; content=&quot;width=device-width,\n",
       "                initial-scale=1.0, maximum-scale=1.0, user-scalable=no&quot; /&gt;\n",
       "            &lt;style&gt;\n",
       "                #map_508022f1847a4622dab8c14301745680 {\n",
       "                    position: relative;\n",
       "                    width: 100.0%;\n",
       "                    height: 100.0%;\n",
       "                    left: 0.0%;\n",
       "                    top: 0.0%;\n",
       "                }\n",
       "                .leaflet-container { font-size: 1rem; }\n",
       "            &lt;/style&gt;\n",
       "        \n",
       "    &lt;script src=&quot;https://cdnjs.cloudflare.com/ajax/libs/d3/3.5.5/d3.min.js&quot;&gt;&lt;/script&gt;\n",
       "&lt;/head&gt;\n",
       "&lt;body&gt;\n",
       "    \n",
       "    &lt;h3 align=&quot;center&quot; style=&quot;font-size:16px&quot;&gt;&lt;b&gt;Respiratory Admissions Per Bed&lt;/b&gt;&lt;/h3&gt;\n",
       "    \n",
       "            &lt;div class=&quot;folium-map&quot; id=&quot;map_508022f1847a4622dab8c14301745680&quot; &gt;&lt;/div&gt;\n",
       "        \n",
       "&lt;/body&gt;\n",
       "&lt;script&gt;\n",
       "    \n",
       "    \n",
       "            var map_508022f1847a4622dab8c14301745680 = L.map(\n",
       "                &quot;map_508022f1847a4622dab8c14301745680&quot;,\n",
       "                {\n",
       "                    center: [52.8781, -0.5276],\n",
       "                    crs: L.CRS.EPSG3857,\n",
       "                    zoom: 5.5,\n",
       "                    zoomControl: true,\n",
       "                    preferCanvas: false,\n",
       "                }\n",
       "            );\n",
       "\n",
       "            \n",
       "\n",
       "        \n",
       "    \n",
       "            var tile_layer_e2402b1731dda22ecf1dafc905330812 = L.tileLayer(\n",
       "                &quot;https://tile.openstreetmap.org/{z}/{x}/{y}.png&quot;,\n",
       "                {&quot;attribution&quot;: &quot;\\u0026copy; \\u003ca href=\\&quot;https://www.openstreetmap.org/copyright\\&quot;\\u003eOpenStreetMap\\u003c/a\\u003e contributors&quot;, &quot;detectRetina&quot;: false, &quot;maxNativeZoom&quot;: 19, &quot;maxZoom&quot;: 19, &quot;minZoom&quot;: 0, &quot;noWrap&quot;: false, &quot;opacity&quot;: 1, &quot;subdomains&quot;: &quot;abc&quot;, &quot;tms&quot;: false}\n",
       "            );\n",
       "        \n",
       "    \n",
       "            tile_layer_e2402b1731dda22ecf1dafc905330812.addTo(map_508022f1847a4622dab8c14301745680);\n",
       "        \n",
       "    \n",
       "            var choropleth_161411888dc82739a9ec421b92d529e9 = L.featureGroup(\n",
       "                {}\n",
       "            );\n",
       "        \n",
       "    \n",
       "        function geo_json_6bc6d53c9252cbc5d7df3180e307d5e8_styler(feature) {\n",
       "            switch(feature.properties.FID) {\n",
       "                case 1: case 2: case 5: \n",
       "                    return {&quot;color&quot;: &quot;black&quot;, &quot;fillColor&quot;: &quot;#7fcdbb&quot;, &quot;fillOpacity&quot;: 0.7, &quot;opacity&quot;: 0.2, &quot;weight&quot;: 1};\n",
       "                case 3: \n",
       "                    return {&quot;color&quot;: &quot;black&quot;, &quot;fillColor&quot;: &quot;#c7e9b4&quot;, &quot;fillOpacity&quot;: 0.7, &quot;opacity&quot;: 0.2, &quot;weight&quot;: 1};\n",
       "                case 4: \n",
       "                    return {&quot;color&quot;: &quot;black&quot;, &quot;fillColor&quot;: &quot;#ffffcc&quot;, &quot;fillOpacity&quot;: 0.7, &quot;opacity&quot;: 0.2, &quot;weight&quot;: 1};\n",
       "                case 6: \n",
       "                    return {&quot;color&quot;: &quot;black&quot;, &quot;fillColor&quot;: &quot;#253494&quot;, &quot;fillOpacity&quot;: 0.7, &quot;opacity&quot;: 0.2, &quot;weight&quot;: 1};\n",
       "                default:\n",
       "                    return {&quot;color&quot;: &quot;black&quot;, &quot;fillColor&quot;: &quot;#41b6c4&quot;, &quot;fillOpacity&quot;: 0.7, &quot;opacity&quot;: 0.2, &quot;weight&quot;: 1};\n",
       "            }\n",
       "        }\n",
       "\n",
       "        function geo_json_6bc6d53c9252cbc5d7df3180e307d5e8_onEachFeature(feature, layer) {\n",
       "            layer.on({\n",
       "            });\n",
       "        };\n",
       "        var geo_json_6bc6d53c9252cbc5d7df3180e307d5e8 = L.geoJson(null, {\n",
       "                onEachFeature: geo_json_6bc6d53c9252cbc5d7df3180e307d5e8_onEachFeature,\n",
       "            \n",
       "                style: geo_json_6bc6d53c9252cbc5d7df3180e307d5e8_styler,\n",
       "        });\n",
       "\n",
       "        function geo_json_6bc6d53c9252cbc5d7df3180e307d5e8_add (data) {\n",
       "            geo_json_6bc6d53c9252cbc5d7df3180e307d5e8\n",
       "                .addData(data);\n",
       "        }\n",
       "            geo_json_6bc6d53c9252cbc5d7df3180e307d5e8_add({&quot;crs&quot;: {&quot;properties&quot;: {&quot;name&quot;: &quot;urn:ogc:def:crs:OGC:1.3:CRS84&quot;}, &quot;type&quot;: &quot;name&quot;}, &quot;features&quot;: [{&quot;geometry&quot;: {&quot;coordinates&quot;: [[[[-0.083910971999956, 51.689964803000066], [-0.062017829999945, 51.68300783400008], [-0.049181031999979, 51.684271866000074], [-0.011918499999979, 51.680877863000035], [-0.00892264099997, 51.66040080800008], [-0.012258997999936, 51.64623110000008], [0.00142562700006, 51.64167858300004], [0.022719672000051, 51.64111544500008], [0.025738362000027, 51.63456546500004], [0.021819184000037, 51.62883278700008], [0.040902063000033, 51.61567598600004], [0.053709816000037, 51.61828078900004], [0.048214514000051, 51.61321365200007], [0.072832267000024, 51.60468744700006], [0.079169811000043, 51.60704739800008], [0.088922328000024, 51.60485356000004], [0.09482489100003, 51.61078411700004], [0.092284925000058, 51.61357428100007], [0.119307187000061, 51.61536849100003], [0.138184283000044, 51.62354496100005], [0.168901257000073, 51.62142016100006], [0.181237295000074, 51.625826163000056], [0.200311172000056, 51.62493583200006], [0.224087361000045, 51.63173732100006], [0.252194294000049, 51.61776943000007], [0.264561739000044, 51.60832063400005], [0.254009120000035, 51.601598212000056], [0.26987796700007, 51.59957389600004], [0.271288417000051, 51.58903030700003], [0.286752804000059, 51.57346386800003], [0.290289908000034, 51.56429940900006], [0.313035218000039, 51.565818154000056], [0.315250598000034, 51.55788856200007], [0.327815465000072, 51.550993918000074], [0.33402409100006, 51.540503683000054], [0.300722808000046, 51.53875600100008], [0.297755494000057, 51.53531861400006], [0.265347145000021, 51.53215013700003], [0.263682397000025, 51.51786932600004], [0.253834581000035, 51.51788643700007], [0.248965144000067, 51.52867418300008], [0.240694713000039, 51.52195583900004], [0.244905435000021, 51.51875917500007], [0.237175887000035, 51.51933463700004], [0.242019589000051, 51.507966269000065], [0.226597242000025, 51.50656238500005], [0.229965660000062, 51.49936594300004], [0.214157298000032, 51.496040125000036], [0.211787909000066, 51.48974140900003], [0.210553951000065, 51.490243107000026], [0.187684067000021, 51.48785887400004], [0.182058275000031, 51.498626898000055], [0.178579552000031, 51.50528282700003], [0.159138751000057, 51.51204185900008], [0.158721674000049, 51.51218680300008], [0.127174719000038, 51.51944381800007], [0.098144271000024, 51.51495807900005], [0.065730142000064, 51.50073363200005], [0.06035305100005, 51.498372293000045], [0.020312310000065, 51.49941262600004], [0.01646781900007, 51.50159120100005], [0.015679448000071, 51.50203791400003], [0.007601419000025, 51.50661438000003], [0.004562496000062, 51.50833566300008], [-0.005710530999977, 51.505108421000045], [-0.006169591999935, 51.50197842800003], [-0.008426262999933, 51.486584942000036], [-0.024926111999946, 51.48981020700006], [-0.029233912999928, 51.502368207000075], [-0.029705628999977, 51.50374292600003], [-0.030146890999958, 51.50502881500006], [-0.03124504799996, 51.50822865100008], [-0.045493420999946, 51.509394935000046], [-0.061206797999944, 51.50290196900005], [-0.073998005999954, 51.50640381200003], [-0.074669352999933, 51.50545055900005], [-0.075340972999925, 51.50449687200006], [-0.070696047999945, 51.50305846400005], [-0.06295395099994, 51.50066037900007], [-0.059893216999967, 51.50167243100003], [-0.059498649999966, 51.501821273000076], [-0.056512881999936, 51.50282428300005], [-0.04434069499996, 51.50691204800006], [-0.033412435999935, 51.50565721400005], [-0.033149925999965, 51.50243411500003], [-0.032350816999951, 51.49302104000003], [-0.024820912999928, 51.48554668700007], [-0.017177586999935, 51.480331738000075], [-0.022741555999971, 51.47535417200004], [-0.022335622999947, 51.475569404000055], [0.001989108000032, 51.48846070500008], [0.001591666000024, 51.50184616400003], [0.001506989000063, 51.50469749600006], [0.007048258000054, 51.50175284900007], [0.015468984000051, 51.497276929000066], [0.021603260000063, 51.494015438000076], [0.058055044000071, 51.49405923000006], [0.076724200000058, 51.49595036100004], [0.081999859000064, 51.50044560600003], [0.09205213000007, 51.509008117000064], [0.118686928000045, 51.51131108900006], [0.120239032000029, 51.51144510200004], [0.165106119000029, 51.504220117000045], [0.169378546000075, 51.49886199300005], [0.183561825000027, 51.481064039000046], [0.217626606000067, 51.480472312000074], [0.21932573600003, 51.479672598000036], [0.211534709000034, 51.47504566100008], [0.210612622000042, 51.46248150300005], [0.203271990000076, 51.458747610000046], [0.203353479000043, 51.45432807800006], [0.193020125000032, 51.451700896000034], [0.184261425000045, 51.44465179100007], [0.172854203000043, 51.44324491000003], [0.164326914000071, 51.42858466300004], [0.155874281000024, 51.43087690500005], [0.15115836800004, 51.42043025600003], [0.154632794000065, 51.41847954000008], [0.149158880000073, 51.41243543400003], [0.153770489000067, 51.41126553200007], [0.148829183000032, 51.40850947400003], [0.162384816000042, 51.39249016700006], [0.147533795000072, 51.392156036000074], [0.152057597000066, 51.36969371300006], [0.145048033000023, 51.36285041600007], [0.141342824000048, 51.34964412100004], [0.136957824000035, 51.34417463300008], [0.118456304000063, 51.34414779100007], [0.12168396800007, 51.33363641400007], [0.117903931000058, 51.32966319700006], [0.104894872000045, 51.327442646000065], [0.085029874000043, 51.31602288600004], [0.082881835000023, 51.305655054000056], [0.091186495000045, 51.29682895700006], [0.085816841000053, 51.29314849300005], [0.058510059000071, 51.289353230000074], [0.050834605000034, 51.293975974000034], [0.042397529000027, 51.29267766600003], [0.042818373000046, 51.30116894900004], [0.032909334000067, 51.30752089400005], [0.024838913000053, 51.30215495300007], [0.01910050500004, 51.29168381900007], [0.015009205000069, 51.29178606600004], [0.008390988000031, 51.31036147300006], [0.010348608000072, 51.31614029500008], [0.006582691000062, 51.31565300300008], [0.002294702000029, 51.329138717000035], [-0.008734972999946, 51.33390078000008], [-0.014327836999939, 51.32980471500008], [-0.022056396999972, 51.33809957400007], [-0.037892466999949, 51.33870444300004], [-0.041967590999946, 51.33381028900004], [-0.05026109399995, 51.33263928900004], [-0.047868593999965, 51.32524500300008], [-0.051307134999945, 51.32244790900006], [-0.064086606999979, 51.318596831000036], [-0.071016482999937, 51.321232707000036], [-0.078869423999947, 51.31977434100003], [-0.08475393599997, 51.315884406000066], [-0.081931646999976, 51.31064732200008], [-0.088825090999933, 51.30721857800006], [-0.091167717999951, 51.301472518000026], [-0.114822738999976, 51.292433894000055], [-0.11777486799997, 51.28709474500005], [-0.124292566999941, 51.28675865900004], [-0.137313235999954, 51.300780660000044], [-0.155364171999963, 51.30135221100005], [-0.154345574999979, 51.31025127000004], [-0.158331057999931, 51.31098534200004], [-0.161880869999948, 51.319625072000065], [-0.156543931999977, 51.32150785500005], [-0.164173631999972, 51.326006359000075], [-0.16311479999996, 51.330241416000035], [-0.172976732999928, 51.33002349100008], [-0.181995914999959, 51.33785172100005], [-0.197373067999933, 51.343593129000055], [-0.213032034999969, 51.33554131900007], [-0.214095002999954, 51.330350285000065], [-0.220940780999968, 51.32986256200007], [-0.229781522999929, 51.33654364200004], [-0.217264692999947, 51.343386905000045], [-0.222750364999968, 51.357091223000054], [-0.233191293999937, 51.366009864000034], [-0.245404920999931, 51.366844435000075], [-0.245031748999963, 51.380033026000035], [-0.261148574999936, 51.379598961000056], [-0.284083040999974, 51.36514283200006], [-0.303881100999945, 51.34325015600007], [-0.305687774999967, 51.33540711400008], [-0.32757412899997, 51.32631806300003], [-0.33051017799994, 51.34841967800003], [-0.319932986999959, 51.35963031700004], [-0.316926121999927, 51.372916641000074], [-0.307365868999966, 51.37838347300004], [-0.317698624999935, 51.39366674900003], [-0.327817928999934, 51.39183747700008], [-0.340508501999977, 51.40301612400003], [-0.359140297999943, 51.41190293000005], [-0.383351130999927, 51.40853844500003], [-0.389651431999937, 51.41069244300007], [-0.386641753999925, 51.42008082000007], [-0.391351445999931, 51.42233192700007], [-0.40591163199997, 51.422665377000044], [-0.419078798999976, 51.43235959800006], [-0.429534724999939, 51.42879777300004], [-0.439984840999955, 51.430626432000054], [-0.439753933999953, 51.43461876300006], [-0.447717026999953, 51.43500316300003], [-0.44628838899996, 51.439996644000075], [-0.456469182999967, 51.43810681700006], [-0.457462998999972, 51.44908975900006], [-0.461483340999962, 51.448992572000066], [-0.458641966999949, 51.456315234000044], [-0.493861340999956, 51.46272220900005], [-0.50970149699998, 51.469175921000044], [-0.499173886999927, 51.488569519000066], [-0.490030808999961, 51.49473519500003], [-0.483162300999936, 51.50712774200008], [-0.492330151999965, 51.51707721100007], [-0.488970648999953, 51.52907094500006], [-0.495486994999965, 51.53854553900004], [-0.476621418999969, 51.55918889000003], [-0.482793799999968, 51.56282138000006], [-0.484026137999933, 51.57512728100005], [-0.494825680999952, 51.58477700100008], [-0.500596102999964, 51.59969021900008], [-0.496306502999971, 51.60242985200006], [-0.499231556999973, 51.60892808800003], [-0.495388798999954, 51.618793036000056], [-0.500154676999955, 51.62206768400006], [-0.500308113999949, 51.628805440000065], [-0.496846264999931, 51.63173308800003], [-0.457130587999927, 51.612293917000045], [-0.440504038999961, 51.62008773400004], [-0.404050084999938, 51.613183950000064], [-0.375839550999956, 51.61818782600005], [-0.359768111999927, 51.62523845700008], [-0.338283839999974, 51.629472589000045], [-0.316673331999937, 51.64053541900006], [-0.304458959999977, 51.63635084500004], [-0.273713724999936, 51.63867397100006], [-0.272824263999951, 51.642064540000035], [-0.263205041999925, 51.644812761000026], [-0.257332869999971, 51.641831911000054], [-0.250582544999929, 51.65605731200003], [-0.228919129999952, 51.65997502300007], [-0.226462544999947, 51.65716186700007], [-0.212167362999935, 51.66133689600008], [-0.207864401999927, 51.66286082900007], [-0.211134673999936, 51.66695453700004], [-0.202229747999979, 51.66780517400008], [-0.203352722999966, 51.67012609300008], [-0.194852757999968, 51.668305306000036], [-0.196648885999934, 51.66549805100004], [-0.191007730999956, 51.66394832100008], [-0.182085054999959, 51.668604162000065], [-0.17157504599993, 51.67402078500004], [-0.163607824999929, 51.682403116000046], [-0.163493488999961, 51.68811511400003], [-0.149370295999972, 51.685518082000044], [-0.10484878099993, 51.69185056600003], [-0.083910971999956, 51.689964803000066]]]], &quot;type&quot;: &quot;MultiPolygon&quot;}, &quot;properties&quot;: {&quot;CreationDate&quot;: &quot;2022-04-01T08:52:11Z&quot;, &quot;Creator&quot;: &quot;hsc_map_england&quot;, &quot;EditDate&quot;: &quot;2022-04-01T08:52:11Z&quot;, &quot;Editor&quot;: &quot;hsc_map_england&quot;, &quot;FID&quot;: 1, &quot;GlobalID&quot;: &quot;{8ED68F62-F3D3-4056-A613-34D61B10C2CF}&quot;, &quot;Notes&quot;: null, &quot;SHAPE_Area&quot;: 0.20452625970535734, &quot;SHAPE_Length&quot;: 3.4138828725129002, &quot;bng_e&quot;: 517516, &quot;bng_n&quot;: 178392, &quot;lat&quot;: 51.492271, &quot;long&quot;: -0.30864, &quot;nhser19cd&quot;: &quot;E40000003&quot;, &quot;nhser19nm&quot;: &quot;London&quot;, &quot;objectid&quot;: 1, &quot;st_areasha&quot;: 1579575758.522831, &quot;st_lengths&quot;: 285109.1688506403}, &quot;type&quot;: &quot;Feature&quot;}, {&quot;geometry&quot;: {&quot;coordinates&quot;: [[[[-1.308432699999969, 52.14350876600008], [-1.276829451999959, 52.11707655500004], [-1.252927704999934, 52.10387442900003], [-1.248085086999936, 52.09716077000007], [-1.272283194999943, 52.09786654100003], [-1.287125333999938, 52.09263886400004], [-1.307963027999961, 52.09227294400006], [-1.32116478699993, 52.087018932000035], [-1.318160126999942, 52.07992121500007], [-1.299360500999967, 52.08010153100008], [-1.297508776999962, 52.07805691600004], [-1.306903019999936, 52.07031358800003], [-1.30025655299994, 52.06871609700005], [-1.302175516999966, 52.06501886900003], [-1.307768317999944, 52.06435223300008], [-1.307379985999944, 52.057589946000064], [-1.312919815999976, 52.05145265900006], [-1.297543104999932, 52.042720975000066], [-1.291861009999934, 52.031940063000036], [-1.294312601999934, 52.02803570900005], [-1.285323256999959, 52.02647360700007], [-1.278146791999973, 52.014238188000036], [-1.27856664799998, 52.011403560000076], [-1.284539971999948, 52.01066520100005], [-1.277051187999973, 52.00533198900007], [-1.283344758999931, 51.999539510000034], [-1.282362184999954, 51.99291507500004], [-1.288858776999973, 51.98972557800005], [-1.283384857999977, 51.97954051700003], [-1.280865252999945, 51.98236416000003], [-1.260915806999947, 51.98092593000007], [-1.241612246999978, 51.98629339200005], [-1.229700100999935, 51.98136732100005], [-1.196259962999932, 51.97743143200006], [-1.190756061999934, 51.981510865000075], [-1.176054747999956, 51.98204518300008], [-1.163823767999929, 51.99341210700004], [-1.156650972999955, 51.99223449200008], [-1.13432888799997, 51.99729638000008], [-1.131252787999927, 52.00488462800007], [-1.118086337999955, 52.01542614500005], [-1.13666036199993, 52.02223191600007], [-1.121987283999943, 52.04514718100006], [-1.083275021999953, 52.05236152500004], [-1.076652046999925, 52.05885125800006], [-1.071656645999951, 52.058135056000026], [-1.062065086999951, 52.062735435000036], [-1.052959166999926, 52.05966050900008], [-1.039069995999967, 52.06609883300007], [-1.027668577999975, 52.06373424600008], [-1.029551340999944, 52.070106578000036], [-1.042326955999954, 52.07371003000003], [-1.026317590999952, 52.07568203200003], [-1.012865038999962, 52.07159887100005], [-1.004836930999943, 52.07347518200004], [-0.984279584999967, 52.06971702000004], [-0.973357510999961, 52.07272345200005], [-0.967805269999928, 52.07091092200005], [-0.960762815999942, 52.07864434000004], [-0.951873212999942, 52.08153362500008], [-0.940055849999965, 52.07584200100007], [-0.944390446999932, 52.07003202800007], [-0.939279218999957, 52.06735361800003], [-0.93931596799996, 52.06216002900004], [-0.933744328999978, 52.062636473000055], [-0.937879993999957, 52.06120191600007], [-0.930207181999947, 52.04312698200005], [-0.906030062999946, 52.02122111800003], [-0.890118295999969, 52.03156061100003], [-0.883018583999956, 52.028241379000065], [-0.877468787999931, 52.02997153700005], [-0.871325790999947, 52.04025177700004], [-0.866951706999942, 52.040098484000055], [-0.844877555999972, 52.02268178600008], [-0.819817149999949, 52.01228572800005], [-0.819223927999928, 52.00704437700006], [-0.81224320299998, 52.00601568400003], [-0.807789179999929, 51.99991818700005], [-0.803504317999966, 51.985503652000034], [-0.820554054999945, 51.97335209700003], [-0.817494261999968, 51.96723778200004], [-0.837572381999962, 51.95724899500004], [-0.833068798999932, 51.955928097000026], [-0.833422979999966, 51.94695010100003], [-0.82056743399994, 51.94160074000007], [-0.811730732999933, 51.93139399900008], [-0.800276820999954, 51.92992375600005], [-0.795183956999949, 51.930554279000035], [-0.803921127999956, 51.94247779700004], [-0.79658613099997, 51.94492098200004], [-0.797680894999928, 51.949634358000026], [-0.785099027999934, 51.94214446400008], [-0.758785601999932, 51.94587587500007], [-0.750832357999968, 51.942305443000066], [-0.754738716999952, 51.939772565000055], [-0.74137813599998, 51.92838809400007], [-0.702156653999964, 51.90911910400007], [-0.692702826999948, 51.90015020000004], [-0.67296915299994, 51.901752671000054], [-0.651980197999933, 51.88679048200004], [-0.628424439999947, 51.88212032100006], [-0.620089027999938, 51.88548547600004], [-0.60897053399998, 51.87556404400004], [-0.583563470999934, 51.87032375500007], [-0.56924812699998, 51.85807046000008], [-0.571433807999938, 51.85502620800003], [-0.568718409999974, 51.85140139900005], [-0.563679929999978, 51.85123941900008], [-0.566809238999952, 51.850813524000046], [-0.564466050999954, 51.84742783100006], [-0.537628251999934, 51.83141087100006], [-0.543650578999973, 51.824517797000055], [-0.548992232999979, 51.82798605800008], [-0.55362867499997, 51.826712701000076], [-0.557149802999959, 51.83096896300003], [-0.560656144999939, 51.830082669000035], [-0.558348378999938, 51.824787893000064], [-0.560775222999951, 51.82637984300004], [-0.567144585999927, 51.81980517000005], [-0.575157468999976, 51.81881899700005], [-0.581825579999929, 51.80690541000007], [-0.591640479999967, 51.808131580000065], [-0.594832207999957, 51.81402297200003], [-0.611869371999944, 51.81204478500007], [-0.63295263599997, 51.819942781000066], [-0.647784118999937, 51.81360784900005], [-0.667200507999951, 51.815807032000066], [-0.687053713999944, 51.83911530100005], [-0.695444873999975, 51.841103719000046], [-0.686767725999971, 51.84924026700003], [-0.696373419999929, 51.85813598200008], [-0.707090755999957, 51.85441659800006], [-0.710456612999963, 51.85779751000007], [-0.72025377999995, 51.856146041000045], [-0.722622569999942, 51.85000573500008], [-0.731187792999947, 51.84897048800008], [-0.736408642999947, 51.842377310000074], [-0.745677647999969, 51.84209358500004], [-0.745248372999924, 51.83837652200003], [-0.723653628999955, 51.81777306600003], [-0.719216955999968, 51.81613792200005], [-0.709282722999944, 51.82053371000006], [-0.685394222999946, 51.800185869000074], [-0.682190101999936, 51.79458421600003], [-0.690186172999972, 51.79233001000006], [-0.68149982999995, 51.78805908900006], [-0.675999164999951, 51.77125705900005], [-0.669663439999965, 51.76616007400003], [-0.643249373999936, 51.75396831100005], [-0.617285931999959, 51.752649656000074], [-0.612935972999935, 51.747427222000056], [-0.58637982099998, 51.75211596500003], [-0.575012461999961, 51.737044714000035], [-0.570207171999925, 51.73585253400006], [-0.563699941999971, 51.73961731700007], [-0.565387066999961, 51.73642157000006], [-0.559236898999927, 51.73732470900006], [-0.560649616999967, 51.73408507400006], [-0.553720127999952, 51.73406476800005], [-0.550082996999947, 51.73057502100005], [-0.553596563999974, 51.72841075000008], [-0.55041360599995, 51.723042898000074], [-0.56130247599998, 51.718018733000065], [-0.563209774999962, 51.71187981600008], [-0.547668103999968, 51.70318141400003], [-0.544017566999969, 51.696816872000056], [-0.54869601799993, 51.682671267000046], [-0.538889222999956, 51.67983420500008], [-0.524272915999973, 51.68211264300004], [-0.52493411699993, 51.67872096500008], [-0.511145078999959, 51.67989587300008], [-0.505107985999928, 51.67307687300007], [-0.514718220999953, 51.665453280000065], [-0.520994516999963, 51.66804528400007], [-0.522777694999945, 51.65839760400007], [-0.532625936999978, 51.663007159000074], [-0.536891632999925, 51.660624495000036], [-0.536665919999962, 51.65236952500004], [-0.530927634999955, 51.649133472000074], [-0.539260766999973, 51.638039727000034], [-0.534130523999977, 51.637150864000034], [-0.530059318999974, 51.61715117800003], [-0.520594997999979, 51.60184362100006], [-0.500596102999964, 51.59969021900008], [-0.494825680999952, 51.58477700100008], [-0.484026137999933, 51.57512728100005], [-0.482793799999968, 51.56282138000006], [-0.476621418999969, 51.55918889000003], [-0.495486994999965, 51.53854553900004], [-0.488970648999953, 51.52907094500006], [-0.492330151999965, 51.51707721100007], [-0.483162300999936, 51.50712774200008], [-0.490030808999961, 51.49473519500003], [-0.499173886999927, 51.488569519000066], [-0.50970149699998, 51.469175921000044], [-0.493861340999956, 51.46272220900005], [-0.458641966999949, 51.456315234000044], [-0.461483340999962, 51.448992572000066], [-0.457462998999972, 51.44908975900006], [-0.456469182999967, 51.43810681700006], [-0.44628838899996, 51.439996644000075], [-0.447717026999953, 51.43500316300003], [-0.439753933999953, 51.43461876300006], [-0.439984840999955, 51.430626432000054], [-0.429534724999939, 51.42879777300004], [-0.419078798999976, 51.43235959800006], [-0.40591163199997, 51.422665377000044], [-0.391351445999931, 51.42233192700007], [-0.386641753999925, 51.42008082000007], [-0.389651431999937, 51.41069244300007], [-0.383351130999927, 51.40853844500003], [-0.359140297999943, 51.41190293000005], [-0.340508501999977, 51.40301612400003], [-0.327817928999934, 51.39183747700008], [-0.317698624999935, 51.39366674900003], [-0.307365868999966, 51.37838347300004], [-0.316926121999927, 51.372916641000074], [-0.319932986999959, 51.35963031700004], [-0.33051017799994, 51.34841967800003], [-0.32757412899997, 51.32631806300003], [-0.305687774999967, 51.33540711400008], [-0.303881100999945, 51.34325015600007], [-0.284083040999974, 51.36514283200006], [-0.261148574999936, 51.379598961000056], [-0.245031748999963, 51.380033026000035], [-0.245404920999931, 51.366844435000075], [-0.233191293999937, 51.366009864000034], [-0.222750364999968, 51.357091223000054], [-0.217264692999947, 51.343386905000045], [-0.229781522999929, 51.33654364200004], [-0.220940780999968, 51.32986256200007], [-0.214095002999954, 51.330350285000065], [-0.213032034999969, 51.33554131900007], [-0.197373067999933, 51.343593129000055], [-0.181995914999959, 51.33785172100005], [-0.172976732999928, 51.33002349100008], [-0.16311479999996, 51.330241416000035], [-0.164173631999972, 51.326006359000075], [-0.156543931999977, 51.32150785500005], [-0.161880869999948, 51.319625072000065], [-0.158331057999931, 51.31098534200004], [-0.154345574999979, 51.31025127000004], [-0.155364171999963, 51.30135221100005], [-0.137313235999954, 51.300780660000044], [-0.124292566999941, 51.28675865900004], [-0.11777486799997, 51.28709474500005], [-0.114822738999976, 51.292433894000055], [-0.091167717999951, 51.301472518000026], [-0.088825090999933, 51.30721857800006], [-0.081931646999976, 51.31064732200008], [-0.08475393599997, 51.315884406000066], [-0.078869423999947, 51.31977434100003], [-0.071016482999937, 51.321232707000036], [-0.064086606999979, 51.318596831000036], [-0.051307134999945, 51.32244790900006], [-0.047868593999965, 51.32524500300008], [-0.05026109399995, 51.33263928900004], [-0.041967590999946, 51.33381028900004], [-0.037892466999949, 51.33870444300004], [-0.022056396999972, 51.33809957400007], [-0.014327836999939, 51.32980471500008], [-0.008734972999946, 51.33390078000008], [0.002294702000029, 51.329138717000035], [0.006582691000062, 51.31565300300008], [0.010348608000072, 51.31614029500008], [0.008390988000031, 51.31036147300006], [0.015009205000069, 51.29178606600004], [0.01910050500004, 51.29168381900007], [0.024838913000053, 51.30215495300007], [0.032909334000067, 51.30752089400005], [0.042818373000046, 51.30116894900004], [0.042397529000027, 51.29267766600003], [0.050834605000034, 51.293975974000034], [0.058510059000071, 51.289353230000074], [0.085816841000053, 51.29314849300005], [0.091186495000045, 51.29682895700006], [0.082881835000023, 51.305655054000056], [0.085029874000043, 51.31602288600004], [0.104894872000045, 51.327442646000065], [0.117903931000058, 51.32966319700006], [0.12168396800007, 51.33363641400007], [0.118456304000063, 51.34414779100007], [0.136957824000035, 51.34417463300008], [0.141342824000048, 51.34964412100004], [0.145048033000023, 51.36285041600007], [0.152057597000066, 51.36969371300006], [0.147533795000072, 51.392156036000074], [0.162384816000042, 51.39249016700006], [0.148829183000032, 51.40850947400003], [0.153770489000067, 51.41126553200007], [0.149158880000073, 51.41243543400003], [0.154632794000065, 51.41847954000008], [0.15115836800004, 51.42043025600003], [0.155874281000024, 51.43087690500005], [0.164326914000071, 51.42858466300004], [0.172854203000043, 51.44324491000003], [0.184261425000045, 51.44465179100007], [0.193020125000032, 51.451700896000034], [0.203353479000043, 51.45432807800006], [0.203271990000076, 51.458747610000046], [0.210612622000042, 51.46248150300005], [0.211534709000034, 51.47504566100008], [0.21932573600003, 51.479672598000036], [0.221175187000028, 51.478802081000026], [0.274866957000029, 51.453659938000044], [0.301803096000071, 51.46116590400004], [0.315397114000064, 51.46495067800004], [0.325255313000071, 51.45029394300008], [0.382222029000047, 51.44329136400006], [0.440243932000044, 51.44742034800004], [0.45851914800005, 51.45520732400007], [0.459301473000039, 51.455540547000055], [0.455930258000024, 51.46088601300005], [0.454310834000069, 51.46345333800008], [0.46761843400003, 51.46420191200008], [0.45805772600005, 51.467911153000045], [0.474232064000034, 51.48480895700004], [0.546196548000069, 51.48716372100006], [0.590771752000023, 51.47936942300004], [0.615237629000035, 51.47508320900005], [0.659983867000051, 51.47767698400003], [0.690601465000043, 51.45930273700003], [0.671230359000049, 51.47224447200006], [0.699865700000032, 51.47271192800008], [0.720386019000046, 51.45973699600006], [0.723483748000035, 51.444735956000045], [0.710285623000061, 51.43481652400004], [0.67788858900002, 51.43317594400003], [0.671729335000066, 51.44810158400003], [0.65888097800007, 51.44743068100007], [0.635814795000044, 51.44622264600008], [0.612448943000061, 51.42964295200005], [0.605517065000072, 51.42015844200006], [0.618297225000049, 51.428683266000064], [0.625214867000068, 51.42366917100003], [0.610866385000065, 51.41740429100008], [0.587195732000055, 51.41616142300006], [0.534985463000055, 51.41340324200007], [0.52118112900007, 51.39304671700006], [0.537620255000036, 51.41033686600008], [0.560969210000053, 51.394814034000035], [0.585644856000044, 51.38867587400006], [0.594590544000027, 51.386448922000056], [0.611856465000074, 51.37880653700006], [0.620169492000059, 51.38902787200004], [0.63463967000007, 51.38908939300006], [0.630706004000047, 51.381767499000034], [0.626927099000056, 51.37473105000004], [0.648018280000031, 51.39760099000006], [0.67006539800002, 51.37330099900004], [0.68701384600007, 51.39180437500005], [0.703170736000061, 51.39253632100008], [0.695285661000071, 51.37982231500007], [0.714032446000033, 51.38416814700008], [0.696353703000057, 51.42003068100007], [0.727977428000031, 51.42358995600006], [0.731172555000057, 51.41898254200004], [0.716274155000065, 51.41320113300003], [0.726299384000072, 51.39931269900006], [0.763840526000024, 51.38205050500005], [0.755952438000065, 51.35362351600003], [0.766893352000068, 51.36258194700008], [0.814325879000023, 51.358296934000066], [0.817125384000065, 51.35816791000008], [0.86592605800007, 51.35590786100005], [0.870975796000039, 51.35407717000004], [0.897630039000035, 51.34440829300007], [0.895647457000052, 51.33703787800005], [0.904374133000033, 51.34302248000006], [0.950244481000027, 51.345762387000036], [1.005617733000065, 51.34915155600004], [1.033182055000054, 51.36559463800006], [1.159689699000069, 51.37473173600006], [1.224224120000031, 51.379336425000076], [1.240154539000059, 51.379519679000055], [1.273996566000051, 51.37990180600008], [1.315043612000068, 51.38035215100007], [1.360742363000043, 51.38814877500005], [1.365149862000067, 51.388118416000054], [1.367851694000024, 51.38935984700004], [1.390494399000033, 51.393213728000035], [1.417928491000055, 51.39367277800005], [1.419032863000041, 51.39346438600006], [1.419629045000022, 51.393701011000076], [1.424924833000034, 51.39378877300004], [1.442052954000076, 51.38719217900007], [1.445937788000037, 51.35889433300008], [1.445991721000041, 51.35850131900003], [1.445897522000053, 51.35835773300005], [1.42468182600004, 51.32599309700004], [1.423194724000041, 51.331372531000056], [1.414583392000054, 51.32748452900006], [1.423596616000054, 51.32435711000005], [1.376896185000021, 51.32960170500007], [1.363399095000034, 51.313512452000055], [1.366199965000021, 51.312848624000026], [1.370643608000023, 51.311795274000076], [1.379798488000063, 51.290311528000075], [1.394155742000066, 51.25657937900007], [1.398503295000069, 51.246355331000075], [1.404497518000028, 51.231482037000035], [1.399234304000061, 51.162221112000054], [1.389595918000055, 51.15239582500004], [1.383483487000035, 51.14616221000006], [1.379578621000064, 51.14217884800007], [1.342827200000045, 51.13095889200008], [1.342856822000044, 51.130481700000075], [1.343216376000044, 51.12303198400008], [1.342660871000021, 51.12689333900005], [1.337744104000024, 51.12631120000003], [1.337116958000024, 51.12623600300003], [1.324222981000048, 51.124689156000045], [1.319121144000064, 51.124076681000076], [1.318110386000058, 51.12326934500004], [1.31596788500002, 51.121557909000046], [1.31300211000007, 51.119188559000065], [1.318294860000037, 51.11645512700005], [1.322935529000063, 51.11405799800008], [1.310970479000048, 51.11921736100004], [1.317519570000059, 51.11617347400005], [1.327784123000072, 51.111378752000064], [1.316472239000063, 51.11222037700003], [1.301679805000049, 51.113319251000064], [1.29984274800006, 51.11269129400006], [1.267695378000042, 51.10169489300006], [1.263426117000051, 51.10136663500003], [1.221129813000061, 51.09810672200007], [1.204948429000069, 51.09010141700003], [1.204692299000044, 51.08950622700007], [1.185719577000043, 51.07957147900004], [1.194951607000064, 51.07595533400007], [1.173101260000067, 51.07363016000005], [1.158707176000064, 51.07209615100004], [1.081411894000041, 51.06382675900005], [1.073589925000022, 51.06298691500007], [1.069502508000028, 51.06095752300007], [1.018492855000034, 51.03560392300005], [0.997348036000062, 51.025079256000026], [0.987589977000027, 51.00852912400006], [0.975802945000055, 50.98852023300003], [0.964173988000027, 50.96876055800004], [0.971355026000026, 50.941605956000046], [0.97880082100005, 50.91341840800004], [0.978712175000055, 50.91307227200008], [0.855002813000056, 50.92370202300003], [0.854736676000073, 50.92372474300004], [0.844450909000045, 50.924665325000035], [0.772016626000038, 50.931261962000065], [0.774608368000031, 50.927599103000034], [0.73188837500004, 50.914557108000054], [0.658567756000025, 50.86992789400006], [0.64141507100004, 50.865682640000045], [0.592073309000057, 50.85345229600006], [0.520149719000074, 50.84511315700007], [0.503103820000035, 50.84312976000007], [0.447244936000061, 50.83299482000007], [0.390590144000043, 50.82268368600006], [0.377907610000022, 50.82037105100005], [0.377512426000067, 50.820298964000074], [0.368381681000074, 50.815268109000044], [0.344504867000069, 50.80210389600006], [0.339219103000062, 50.799187964000055], [0.311710229000028, 50.77810651800007], [0.280425575000038, 50.754407858000036], [0.276715246000037, 50.751250937000066], [0.266416130000039, 50.74333918600007], [0.259983401000056, 50.73839573600003], [0.209942876000071, 50.73839998600005], [0.196653050000066, 50.74291057900007], [0.185265480000055, 50.74677367500004], [0.154715431000056, 50.757128855000076], [0.153226175000043, 50.75767343100006], [0.148479166000072, 50.75883906800004], [0.122143900000026, 50.758404889000076], [0.099263069000074, 50.767217423000034], [0.062163161000058, 50.78149012000006], [0.056245543000045, 50.78376484000006], [0.056919658000027, 50.78142302400005], [0.057086779000031, 50.78084242800003], [0.058053354000037, 50.77596616400007], [0.034777771000051, 50.78167107000007], [0.034160695000025, 50.78182223700003], [-0.014941402999966, 50.79383722600005], [-0.037783748999971, 50.799417504000075], [-0.038229155999943, 50.799486570000056], [-0.038459159999945, 50.79919679400007], [-0.050568315999953, 50.80114136600008], [-0.090882134999958, 50.80760505400008], [-0.110258994999924, 50.810706251000056], [-0.20718207699997, 50.82616419800007], [-0.216037847999928, 50.82757206100007], [-0.216281038999966, 50.82756338000007], [-0.223921301999951, 50.82729039000003], [-0.245856752999941, 50.82650382000003], [-0.243093476999945, 50.83044096700007], [-0.251531340999975, 50.83013594800008], [-0.248057684999935, 50.824739255000054], [-0.277635265999947, 50.826781279000045], [-0.297658048999949, 50.823389675000044], [-0.332696992999956, 50.81744499300004], [-0.435962219999965, 50.80313854100007], [-0.542009647999976, 50.80024029500004], [-0.556493690999957, 50.798197250000044], [-0.556700457999966, 50.79820960100005], [-0.557583316999967, 50.79804347100003], [-0.582496893999974, 50.794524343000035], [-0.605831831999978, 50.791222987000026], [-0.644978675999937, 50.78567321700007], [-0.652045032999979, 50.78534543000006], [-0.657597285999941, 50.78388120100004], [-0.701665724999941, 50.77761123400006], [-0.70752964299993, 50.77531953700003], [-0.746735036999951, 50.75998469700005], [-0.751603742999976, 50.758078728000044], [-0.763091598999949, 50.77291923000007], [-0.78682426599994, 50.75985878200004], [-0.772799075999956, 50.76164098600003], [-0.761800601999937, 50.75113948900008], [-0.750112327999943, 50.757166151000035], [-0.755422209999949, 50.751987099000075], [-0.76184855899993, 50.74571726600004], [-0.780022066999948, 50.72797559700007], [-0.785369857999967, 50.72275177000006], [-0.795376187999977, 50.72408039800007], [-0.842858878999948, 50.75355964000005], [-0.86705640699995, 50.76234320000003], [-0.916824423999969, 50.780381883000075], [-0.912317560999952, 50.78896961500004], [-0.915624388999959, 50.78044176800006], [-0.904899121999961, 50.78227965100007], [-0.892232255999943, 50.79429354900003], [-0.878154796999979, 50.80763610400004], [-0.866034203999959, 50.80461286500008], [-0.844726907999927, 50.799293713000054], [-0.825369020999972, 50.80447723000003], [-0.815784406999967, 50.81911012900008], [-0.84457417699997, 50.80485438300008], [-0.86583726899994, 50.81274634500005], [-0.868812928999944, 50.81385023800004], [-0.865667475999942, 50.81975954500007], [-0.861244872999976, 50.82806555600007], [-0.858414767999932, 50.839657714000055], [-0.865174893999949, 50.84010025900005], [-0.870893525999975, 50.84047426400008], [-0.865761480999936, 50.82695844700004], [-0.877575295999975, 50.81150293400003], [-0.892312329999925, 50.81851328100004], [-0.89503310799995, 50.83857624600006], [-0.913462909999964, 50.84002329200007], [-0.912399552999943, 50.82771199300004], [-0.920838919999937, 50.833037655000055], [-0.935108258999946, 50.83026031800006], [-0.932957114999965, 50.84317392500003], [-0.932477907999953, 50.84604943800008], [-0.974458243999948, 50.84230348500006], [-0.981420803999924, 50.83492808600005], [-1.001188979999938, 50.84366848500008], [-1.019909497999947, 50.84319685200006], [-1.020839819999935, 50.83947735500004], [-1.022493270999973, 50.832865147000064], [-1.024128942999937, 50.82632257100005], [-1.036339440999939, 50.83538567800008], [-1.044118569999966, 50.832135718000075], [-1.044282707999969, 50.79563700800003], [-1.044305563999956, 50.79055617000006], [-1.03297370599995, 50.79554412500005], [-1.030591676999961, 50.796592375000046], [-1.03041057799993, 50.795522894000044], [-1.029273130999968, 50.78880433300003], [-1.088404428999979, 50.77769583300005], [-1.094867716999943, 50.78148081200004], [-1.108960794999973, 50.79046302800003], [-1.109845016999941, 50.79615601000006], [-1.11152128699996, 50.80694487900007], [-1.08959197799993, 50.809604120000074], [-1.100254689999929, 50.82672036400004], [-1.084464338999965, 50.82481701100005], [-1.076609254999937, 50.836796235000065], [-1.044133744999954, 50.833895779000045], [-1.082258897999964, 50.83801514600003], [-1.089231927999947, 50.82861806500006], [-1.106275798999945, 50.837861958000076], [-1.103279752999924, 50.84640017600003], [-1.114115417999926, 50.84492740300004], [-1.117705968999928, 50.84443912100005], [-1.113068322999936, 50.83609088800006], [-1.127473282999972, 50.837105122000025], [-1.149166353999931, 50.84350315000006], [-1.154484937999939, 50.84507034000006], [-1.174897605999945, 50.83994718100007], [-1.174652765999951, 50.83990140900005], [-1.17410573899997, 50.839799146000075], [-1.152394840999932, 50.83573786900007], [-1.149883404999969, 50.82718109600006], [-1.14946910599997, 50.82684738100005], [-1.141208196999969, 50.82019200900004], [-1.131839145999948, 50.81264102800003], [-1.123815280999963, 50.80617188200006], [-1.136834370999964, 50.801986578000026], [-1.123738639999942, 50.80412637400008], [-1.119304157999977, 50.79622790700006], [-1.117515063999974, 50.793040474000065], [-1.134427720999952, 50.785886435000066], [-1.112466818999962, 50.78923692600006], [-1.112246588999938, 50.78927050200008], [-1.114595752999946, 50.78801846400006], [-1.134703472999945, 50.77729690600006], [-1.142215026999963, 50.773597650000056], [-1.143336637999937, 50.77397867500008], [-1.187141211999972, 50.78884614700007], [-1.189713612999981, 50.789718436000044], [-1.198547383999937, 50.79679913200005], [-1.214147621999928, 50.809296637000045], [-1.308116576999964, 50.84273293200005], [-1.303046225999935, 50.87687848100006], [-1.302749192999954, 50.87887747100007], [-1.316613661999952, 50.87567259700006], [-1.310469807999937, 50.84901563300008], [-1.365110724999965, 50.88003848400007], [-1.383314674999951, 50.889592253000046], [-1.384583784999961, 50.90414997800008], [-1.371794055999942, 50.91222613000008], [-1.387933291999957, 50.906891331000054], [-1.387199933999966, 50.89922051900004], [-1.39530625499998, 50.88317917400008], [-1.399022400999968, 50.89454851700003], [-1.400821791999931, 50.890284472000076], [-1.432492942999943, 50.904864760000066], [-1.439729825999962, 50.908194011000035], [-1.450883138999927, 50.90412284800004], [-1.465312005999976, 50.91062448300005], [-1.478768491999972, 50.92525970500003], [-1.478180151999936, 50.924154300000055], [-1.473464366999963, 50.91480177700004], [-1.476317008999956, 50.910694885000055], [-1.451137528999936, 50.90134696900003], [-1.432584126999927, 50.89734374900007], [-1.421849782999971, 50.89502609800007], [-1.376852737999968, 50.85393689800003], [-1.352706898999941, 50.84814325100007], [-1.360512722999943, 50.84291235300003], [-1.349481566999941, 50.84648137500005], [-1.334567617999937, 50.837457491000066], [-1.336525036999944, 50.82727872000004], [-1.319302896999943, 50.82445045800006], [-1.325459078999927, 50.81712100900006], [-1.325709583999981, 50.816876354000044], [-1.326034245999949, 50.81655664400006], [-1.323232231999953, 50.81815739700005], [-1.314567560999933, 50.815367183000035], [-1.315518986999962, 50.82116675800006], [-1.311737384999958, 50.82064775100008], [-1.307873094999934, 50.81767300800004], [-1.309547128999952, 50.81363128800007], [-1.323284018999971, 50.80417839200004], [-1.32748642699994, 50.80128553900005], [-1.332774883999946, 50.797644321000064], [-1.352593062999972, 50.78399112500006], [-1.363103527999954, 50.78361313500005], [-1.374111898999956, 50.78321629800007], [-1.399610431999974, 50.78229328900005], [-1.412971586999959, 50.783950521000065], [-1.39267350199998, 50.77740390300005], [-1.395765261999941, 50.776012854000044], [-1.399708899999951, 50.77423828800005], [-1.401566754999976, 50.77391668100006], [-1.434154867999951, 50.76746183800003], [-1.50270882999996, 50.753938281000046], [-1.535279688999935, 50.76384221600006], [-1.525925026999971, 50.744521500000076], [-1.541856870999936, 50.739765109000075], [-1.531073936999974, 50.73701809600004], [-1.579543231999935, 50.71772288100004], [-1.551121515999967, 50.70708811700007], [-1.574350296999967, 50.71359027700004], [-1.622712373999946, 50.72711495400006], [-1.641052499999944, 50.73223657500006], [-1.691640145999941, 50.737262842000064], [-1.681806119999976, 50.75182032500004], [-1.717849357999967, 50.75213536900003], [-1.744168827999943, 50.747455426000045], [-1.744684638999956, 50.75604313300005], [-1.739091311999971, 50.763496847000056], [-1.748982483999953, 50.77949018600003], [-1.770117200999948, 50.77254880600003], [-1.768956116999959, 50.76976720000005], [-1.77615394999998, 50.76634396000003], [-1.783660223999959, 50.76463121300003], [-1.788011755999946, 50.76652399100004], [-1.790748693999944, 50.776212917000066], [-1.787868347999961, 50.77885466500004], [-1.797474196999929, 50.78386015600006], [-1.80096518299996, 50.791884691000064], [-1.80593705299998, 50.79207465600007], [-1.80089135399993, 50.79424243300008], [-1.804710671999942, 50.79571770600006], [-1.801491322999937, 50.79969479600004], [-1.812129427999935, 50.80649207600004], [-1.802956146999975, 50.813492567000026], [-1.807356520999974, 50.81624232300004], [-1.801823569999954, 50.82089190500005], [-1.80373306499996, 50.82999355600003], [-1.796089825999957, 50.83033379500006], [-1.790705472999946, 50.836391509000066], [-1.802450944999975, 50.84280514200003], [-1.800035532999971, 50.848338701000046], [-1.80587623699995, 50.85262301700004], [-1.807110303999934, 50.863315], [-1.812790188999941, 50.86457279500007], [-1.814832447999947, 50.858701179000036], [-1.829518470999972, 50.85531859400004], [-1.850943842999925, 50.85872494900008], [-1.853533031999973, 50.86651574700005], [-1.847832302999961, 50.86968643600005], [-1.847977250999975, 50.882339141000045], [-1.844043443999965, 50.88682939100005], [-1.84855551499993, 50.88988737500006], [-1.839869690999933, 50.89789004000005], [-1.824953314999959, 50.895770619000075], [-1.816541447999953, 50.90394777700004], [-1.820407127999943, 50.91210589700006], [-1.810754785999961, 50.927161676000026], [-1.826220820999936, 50.926868788000036], [-1.841834262999953, 50.931660597000075], [-1.854184429999975, 50.92751137000005], [-1.862724284999956, 50.91978772700003], [-1.873708087999944, 50.917252939000036], [-1.878802907999955, 50.92432607900008], [-1.909183571999961, 50.94532659300006], [-1.920841133999943, 50.96140734100004], [-1.929888889999972, 50.96779583500006], [-1.939220086999967, 50.96965705900004], [-1.944829861999949, 50.975748433000035], [-1.95546550499995, 50.97826631800007], [-1.95682095799998, 50.989829920000034], [-1.949935772999936, 50.98231061600006], [-1.927877658999932, 50.997696467000026], [-1.88674135499997, 50.999527716000046], [-1.874481593999974, 51.006330588000026], [-1.873983678999934, 50.98444106300008], [-1.85338097999994, 51.00467899100005], [-1.83581252099998, 51.009422277000056], [-1.815421671999957, 50.98592267300006], [-1.807583376999958, 50.992046069000025], [-1.800314113999946, 50.99139478700005], [-1.754319838999947, 50.98044756200005], [-1.754401614999949, 50.97789209100006], [-1.719617523999943, 50.97677901800006], [-1.689413782999964, 50.95469597300007], [-1.661660032999976, 50.945277917000055], [-1.646375968999962, 50.949465399000076], [-1.634965059999956, 50.95924217400005], [-1.62340097699996, 50.95463731700005], [-1.602922945999978, 50.97851713300008], [-1.614418617999945, 50.97949477900005], [-1.61964407399995, 50.98299654600004], [-1.618953828999963, 50.987366045000044], [-1.625195719999965, 50.99032565600004], [-1.628884883999945, 50.99903178200003], [-1.617231151999931, 51.00418208000008], [-1.606078015999969, 51.00189783800005], [-1.614930155999957, 51.00665643100007], [-1.609088414999974, 51.00981314400008], [-1.605014732999962, 51.007005622000065], [-1.597523678999949, 51.00805543100006], [-1.605368985999974, 51.01725840100005], [-1.599396832999957, 51.02372936900008], [-1.61945702099996, 51.03305947800004], [-1.632375810999974, 51.03277969800007], [-1.634960347999936, 51.040886631000035], [-1.627737219999972, 51.07813997400007], [-1.637311870999952, 51.09216587800006], [-1.626956339999936, 51.102864201000045], [-1.630930882999962, 51.11115296000003], [-1.626251472999968, 51.11733776500006], [-1.640581096999938, 51.12538220600004], [-1.662975417999974, 51.12719202400007], [-1.654044385999953, 51.15628256200006], [-1.672367592999933, 51.17854394400007], [-1.668835438999963, 51.19077230100004], [-1.694096989999935, 51.20404330300005], [-1.689694742999961, 51.21482761400006], [-1.653496300999961, 51.22046761400003], [-1.63354062999997, 51.217515915000035], [-1.619335382999964, 51.24121788600007], [-1.610393230999932, 51.24297969000003], [-1.607423128999926, 51.252765390000036], [-1.600720777999925, 51.25071617800006], [-1.600186416999975, 51.25352434800004], [-1.577636307999967, 51.25563015500006], [-1.545159884999975, 51.245098487000064], [-1.536034778999976, 51.248529200000064], [-1.529822410999941, 51.26051392200003], [-1.53056974499998, 51.26261672500004], [-1.540512684999953, 51.26083354100007], [-1.53591653999996, 51.277303980000056], [-1.542583748999959, 51.28125068600008], [-1.534511091999946, 51.28709142000008], [-1.522807295999939, 51.28705797100008], [-1.524146694999956, 51.29316096100007], [-1.519511306999959, 51.29593856500003], [-1.528023096999959, 51.299808350000035], [-1.525224895999941, 51.30706691100005], [-1.533562079999967, 51.31622354400008], [-1.527508442999931, 51.33846616800008], [-1.516281618999926, 51.33935534700004], [-1.498298849999969, 51.32937607800005], [-1.485711366999965, 51.34768277000006], [-1.50060850999995, 51.35626794400008], [-1.495449117999954, 51.36966448600003], [-1.51340517899996, 51.37204501400004], [-1.516960435999977, 51.37878028200004], [-1.527634533999958, 51.37882099900003], [-1.538331665999976, 51.38553736800003], [-1.537717523999959, 51.38832241000006], [-1.555602980999936, 51.39558414100003], [-1.552987798999936, 51.410043966000046], [-1.56227505499993, 51.408237358000065], [-1.563491369999952, 51.41322887900003], [-1.571052669999972, 51.415577606000056], [-1.565118797999958, 51.42204340500007], [-1.553112749999968, 51.42127619900003], [-1.539061712999967, 51.426151117000074], [-1.526618161999977, 51.42393107100003], [-1.532062336999957, 51.42955543800008], [-1.523990976999926, 51.44748057800007], [-1.529028589999939, 51.455511802000046], [-1.545418748999964, 51.45883432200003], [-1.55862381999998, 51.46878564600007], [-1.570449187999941, 51.48627410300003], [-1.582290925999928, 51.494111788000055], [-1.588064216999953, 51.51350297000005], [-1.584707948999949, 51.524912157000074], [-1.602812152999945, 51.51829525100004], [-1.613749975999951, 51.536510269000075], [-1.63407051799993, 51.55325657900005], [-1.65137023099993, 51.57390531800007], [-1.646449448999931, 51.576915978000045], [-1.650210137999977, 51.58053279000006], [-1.637891389999936, 51.58386855300006], [-1.640964873999962, 51.59757476300007], [-1.637491123999951, 51.598286666000035], [-1.631142315999966, 51.59332772500005], [-1.622482576999971, 51.59616367500007], [-1.619936428999949, 51.59332272900008], [-1.60558419299997, 51.59815794000008], [-1.585577711999974, 51.61391620100005], [-1.594260504999966, 51.624419712000076], [-1.608775127999934, 51.629873073000056], [-1.613924589999954, 51.62846297500005], [-1.615494318999936, 51.631934648000026], [-1.654758387999948, 51.62984512500003], [-1.663169280999966, 51.63985987400008], [-1.675622011999963, 51.641397837000056], [-1.686225791999959, 51.65235084400007], [-1.691938119999975, 51.65216463100006], [-1.688495150999927, 51.65678808200005], [-1.690606257999946, 51.66374369600004], [-1.70025206899993, 51.67191072600008], [-1.696518104999939, 51.68211656600005], [-1.682688746999929, 51.69005241000008], [-1.67601558399997, 51.68840705900004], [-1.675208604999966, 51.682535081000026], [-1.668440317999966, 51.680435414000044], [-1.652654868999946, 51.681524945000035], [-1.648397416999956, 51.68457755900005], [-1.657438347999971, 51.69645132100004], [-1.665451675999975, 51.69726295800007], [-1.688000159999945, 51.71204478000004], [-1.695871001999933, 51.72353732600004], [-1.685785941999939, 51.729904876000035], [-1.687020704999952, 51.73988398600005], [-1.694865637999953, 51.74857505800003], [-1.700704776999942, 51.770584718000066], [-1.719488763999948, 51.783212149000065], [-1.693449706999957, 51.79414944600006], [-1.681931407999969, 51.803992676000064], [-1.67685970399998, 51.81702469000004], [-1.681119940999963, 51.81605262200003], [-1.686461024999971, 51.83445582400003], [-1.676384943999949, 51.85030959000005], [-1.686867522999933, 51.86550001200004], [-1.667111932999944, 51.87700008400003], [-1.668956993999927, 51.88150451400003], [-1.658651733999932, 51.896551275000036], [-1.644883, 51.89460064300005], [-1.63305010299996, 51.89922539100007], [-1.634170650999977, 51.911653261000026], [-1.644865860999971, 51.91368988700003], [-1.641182245999971, 51.92156188600006], [-1.645530175999966, 51.92229392400003], [-1.615189270999963, 51.93768184500004], [-1.632490514999972, 51.95565148600008], [-1.648926567999979, 51.95892486500003], [-1.655366793999974, 51.957503530000054], [-1.65237437899998, 51.96151215800006], [-1.662528895999969, 51.96400494900007], [-1.668943222999928, 51.975272750000045], [-1.665754394999965, 51.987488864000056], [-1.638315457999965, 51.97517196600006], [-1.612342521999949, 51.95540342900006], [-1.591633583999965, 51.970449544000076], [-1.600301410999975, 51.97694154000004], [-1.580573775999937, 51.972996065000075], [-1.549671427999954, 51.980859613000064], [-1.557223672999953, 51.99165760000005], [-1.541741549999927, 51.99643229900005], [-1.525309164999953, 51.99285680700007], [-1.497353261999933, 52.058954560000075], [-1.501855403999969, 52.071626637000065], [-1.490665178999961, 52.07713544300003], [-1.494362431999946, 52.08218708000004], [-1.485607647999927, 52.08773343800004], [-1.487804227999959, 52.093957438000075], [-1.480148622999934, 52.09347797000004], [-1.477301560999933, 52.10135100300005], [-1.467559497999957, 52.09705652800005], [-1.44718802899996, 52.09762499100003], [-1.453463941999928, 52.11299944800004], [-1.448741229999939, 52.11606666700004], [-1.425855169999977, 52.118249551000076], [-1.403894118999972, 52.110089894000055], [-1.385329510999952, 52.09418428200007], [-1.374424007999949, 52.09972591200005], [-1.357769601999962, 52.101310469000055], [-1.365191784999979, 52.11130708200005], [-1.370366973999978, 52.112717892000035], [-1.370841911999946, 52.11753423000005], [-1.390700066999955, 52.11678887700003], [-1.393302647999974, 52.11896294200005], [-1.385462871999948, 52.12840322300008], [-1.36614689299995, 52.13607527700003], [-1.348709367999959, 52.135137506000035], [-1.349936721999939, 52.14159176600003], [-1.341040589999977, 52.14485672700005], [-1.343458601999941, 52.153234989000055], [-1.334004543999924, 52.159083010000074], [-1.331896929999971, 52.168485058000044], [-1.306429692999927, 52.145553018000044], [-1.308432699999969, 52.14350876600008]]], [[[-1.294915243999981, 50.76203526300003], [-1.282958754999925, 50.730032863000076], [-1.291919291999932, 50.76465047800008], [-1.285438020999948, 50.76533014200004], [-1.276274955999952, 50.76629037200007], [-1.247565288999965, 50.75170455300008], [-1.239229676999969, 50.74385810900003], [-1.213836256999969, 50.73805290700005], [-1.21949542699997, 50.731063118000066], [-1.203427359999978, 50.734770180000055], [-1.15457964999996, 50.73328994500008], [-1.151182006999932, 50.732359443000064], [-1.144397151999954, 50.730495974000064], [-1.108669206999934, 50.72070374000003], [-1.096090623999942, 50.69438928100004], [-1.102830240999936, 50.69978359400005], [-1.10826190399996, 50.69351486800008], [-1.082422145999942, 50.69445717900004], [-1.070235674999935, 50.687500716000045], [-1.086727064999934, 50.67423711600003], [-1.097927156999958, 50.66522357600007], [-1.131772945999955, 50.66231282000007], [-1.152615658999935, 50.65289207200004], [-1.160428337999974, 50.649358894000045], [-1.16198170399997, 50.64608615000003], [-1.173302254999953, 50.62221962400008], [-1.175879148999968, 50.61678297800006], [-1.185134351999977, 50.59724703300003], [-1.200340076999964, 50.59432861100004], [-1.20985766299998, 50.592701144000046], [-1.21190047999994, 50.59210825200006], [-1.30003129399995, 50.57513680300008], [-1.31257116699993, 50.58240535900006], [-1.353387691999956, 50.606038572000045], [-1.374099172999934, 50.61801599700004], [-1.389295554999933, 50.62679800700005], [-1.435683450999932, 50.640220826000075], [-1.448155254999961, 50.64382523100005], [-1.48454701999998, 50.66679301100004], [-1.486148325999977, 50.66673612100004], [-1.544664926999928, 50.66464205400007], [-1.586383177999949, 50.66313107500008], [-1.570001766999951, 50.66968627500006], [-1.548109851999925, 50.678363396000066], [-1.535418897999932, 50.69236870600008], [-1.522175970999967, 50.70699952900003], [-1.512895501999935, 50.70695466300003], [-1.503748805999976, 50.706725694000056], [-1.504522576999932, 50.70344311200006], [-1.500775421999947, 50.70616121900008], [-1.494588894999936, 50.70686399500005], [-1.480632124999943, 50.70844817900007], [-1.470118424999953, 50.709640387000036], [-1.434679628999959, 50.72385369400007], [-1.42927538899994, 50.72601938400004], [-1.411958584999979, 50.72077125000004], [-1.414359993999938, 50.70993803300007], [-1.403942360999963, 50.72084914100003], [-1.386143258999937, 50.72263604600005], [-1.409760665999954, 50.72534633500004], [-1.35332978699995, 50.73908656100008], [-1.313121291999948, 50.766923037000026], [-1.311853693999979, 50.767142954000064], [-1.296870063999961, 50.76262490700003], [-1.295130945999972, 50.76210032900008], [-1.294915243999981, 50.76203526300003]]], [[[0.902019424000059, 51.41649050900003], [0.950391333000027, 51.37220759100006], [0.897167768000031, 51.35433597600007], [0.871407546000057, 51.360982868000065], [0.858344453000029, 51.364350681000076], [0.843784912000046, 51.363563759000044], [0.806285518000038, 51.372177917000045], [0.76618445400004, 51.36976954800008], [0.764264823000076, 51.38823205600005], [0.732612480000057, 51.40034471000007], [0.721502840000028, 51.41447031700005], [0.732135030000052, 51.40902616600005], [0.741097254000067, 51.41345823800003], [0.735471190000055, 51.424290434000056], [0.749570549000055, 51.44596263700004], [0.824485966000054, 51.425618099000076], [0.875085161000072, 51.41966770000005], [0.902019424000059, 51.41649050900003]]], [[[-0.951007029999971, 50.82375659000007], [-0.957057021999958, 50.807342934000076], [-0.960861203999968, 50.81159457500007], [-0.970203754999943, 50.81031571500006], [-0.961788987999967, 50.80785529800005], [-0.973369385999945, 50.80906299700007], [-0.968970768999952, 50.802740897000035], [-0.952726201999951, 50.80101452400004], [-0.959144421999952, 50.79490909200007], [-0.96680622699995, 50.78761814200004], [-0.951307489999976, 50.78690625100006], [-0.95888711799995, 50.78116644500005], [-0.936761629999978, 50.78679720500003], [-0.937418296999965, 50.77758563700007], [-0.96984800599995, 50.78093692300007], [-0.970673500999965, 50.78112636000003], [-0.973225101999958, 50.78128536500003], [-1.02156303299995, 50.786261541000044], [-1.024802079999972, 50.79547624000003], [-1.024952869999936, 50.79590512200008], [-0.994896275999963, 50.798135898000055], [-0.986768414999972, 50.82694928700005], [-0.969104657999935, 50.834533029000056], [-0.951007029999971, 50.82375659000007]]], [[[-0.907846678999931, 50.81690139400007], [-0.911075385999936, 50.80330542100006], [-0.942576238999948, 50.81539718300007], [-0.939485197999943, 50.830298319000065], [-0.912066860999971, 50.82736807100008], [-0.907846678999931, 50.81690139400007]]], [[[0.682969207000042, 51.41264528200003], [0.694536883000069, 51.396626895000054], [0.672639129000061, 51.39840550900004], [0.665928519000033, 51.40628233500007], [0.682969207000042, 51.41264528200003]]], [[[0.686969929000043, 51.42227521900003], [0.687828097000022, 51.414346239000054], [0.660113688000024, 51.417587662000074], [0.667001840000069, 51.42390860200004], [0.686969929000043, 51.42227521900003]]], [[[0.582572584000047, 51.403134186000045], [0.56152043000003, 51.40223342200005], [0.564435834000051, 51.40795454300007], [0.582572584000047, 51.403134186000045]]], [[[0.608113907000075, 51.40154363900007], [0.615324179000027, 51.39538412400003], [0.597014786000045, 51.396079791000034], [0.608113907000075, 51.40154363900007]]], [[[-1.093696401999978, 50.81502649500004], [-1.101643427999932, 50.81367061100008], [-1.097127759999978, 50.82060815500006], [-1.093696401999978, 50.81502649500004]]]], &quot;type&quot;: &quot;MultiPolygon&quot;}, &quot;properties&quot;: {&quot;CreationDate&quot;: &quot;2022-04-01T08:52:11Z&quot;, &quot;Creator&quot;: &quot;hsc_map_england&quot;, &quot;EditDate&quot;: &quot;2022-04-01T08:52:11Z&quot;, &quot;Editor&quot;: &quot;hsc_map_england&quot;, &quot;FID&quot;: 2, &quot;GlobalID&quot;: &quot;{804BFF8F-EB68-4E80-BD39-1E3D8582B8B6}&quot;, &quot;Notes&quot;: null, &quot;SHAPE_Area&quot;: 2.4103065211317083, &quot;SHAPE_Length&quot;: 17.70657141153455, &quot;bng_e&quot;: 471724, &quot;bng_n&quot;: 171073, &quot;lat&quot;: 51.43412, &quot;long&quot;: -0.96957, &quot;nhser19cd&quot;: &quot;E40000005&quot;, &quot;nhser19nm&quot;: &quot;South East&quot;, &quot;objectid&quot;: 2, &quot;st_areasha&quot;: 18708426431.516766, &quot;st_lengths&quot;: 1467439.3781378767}, &quot;type&quot;: &quot;Feature&quot;}, {&quot;geometry&quot;: {&quot;coordinates&quot;: [[[[-1.746022595999932, 52.09295996800006], [-1.738541287999965, 52.091407840000045], [-1.728560535999975, 52.10012027300007], [-1.730671359999974, 52.073399306000056], [-1.712953652999943, 52.066584842000054], [-1.709882937999964, 52.07334934100004], [-1.701731104999965, 52.072809419000066], [-1.705140945999972, 52.05970665400008], [-1.70080765299997, 52.05511408000007], [-1.690179789999945, 52.054735977000064], [-1.688636661999965, 52.05183324200004], [-1.693982534999975, 52.03952644600008], [-1.667501415999936, 52.03624284000006], [-1.663869982999927, 52.03127754800005], [-1.653549797999972, 52.03540258100003], [-1.645374487999959, 52.03423176000007], [-1.624417961999939, 52.038981559000035], [-1.617532852999943, 52.03343701000006], [-1.619685508999964, 52.02797834100005], [-1.628404898999975, 52.02720693900005], [-1.638649365999925, 52.02048608100006], [-1.642837970999949, 52.00920253400005], [-1.66617352999998, 51.99691795200005], [-1.669888040999979, 51.99309030300003], [-1.665754394999965, 51.987488864000056], [-1.668943222999928, 51.975272750000045], [-1.662528895999969, 51.96400494900007], [-1.65237437899998, 51.96151215800006], [-1.655366793999974, 51.957503530000054], [-1.648926567999979, 51.95892486500003], [-1.632490514999972, 51.95565148600008], [-1.615189270999963, 51.93768184500004], [-1.645530175999966, 51.92229392400003], [-1.641182245999971, 51.92156188600006], [-1.644865860999971, 51.91368988700003], [-1.634170650999977, 51.911653261000026], [-1.63305010299996, 51.89922539100007], [-1.644883, 51.89460064300005], [-1.658651733999932, 51.896551275000036], [-1.668956993999927, 51.88150451400003], [-1.667111932999944, 51.87700008400003], [-1.686867522999933, 51.86550001200004], [-1.676384943999949, 51.85030959000005], [-1.686461024999971, 51.83445582400003], [-1.681119940999963, 51.81605262200003], [-1.67685970399998, 51.81702469000004], [-1.681931407999969, 51.803992676000064], [-1.693449706999957, 51.79414944600006], [-1.719488763999948, 51.783212149000065], [-1.700704776999942, 51.770584718000066], [-1.694865637999953, 51.74857505800003], [-1.687020704999952, 51.73988398600005], [-1.685785941999939, 51.729904876000035], [-1.695871001999933, 51.72353732600004], [-1.688000159999945, 51.71204478000004], [-1.665451675999975, 51.69726295800007], [-1.657438347999971, 51.69645132100004], [-1.648397416999956, 51.68457755900005], [-1.652654868999946, 51.681524945000035], [-1.668440317999966, 51.680435414000044], [-1.675208604999966, 51.682535081000026], [-1.67601558399997, 51.68840705900004], [-1.682688746999929, 51.69005241000008], [-1.696518104999939, 51.68211656600005], [-1.70025206899993, 51.67191072600008], [-1.690606257999946, 51.66374369600004], [-1.688495150999927, 51.65678808200005], [-1.691938119999975, 51.65216463100006], [-1.686225791999959, 51.65235084400007], [-1.675622011999963, 51.641397837000056], [-1.663169280999966, 51.63985987400008], [-1.654758387999948, 51.62984512500003], [-1.615494318999936, 51.631934648000026], [-1.613924589999954, 51.62846297500005], [-1.608775127999934, 51.629873073000056], [-1.594260504999966, 51.624419712000076], [-1.585577711999974, 51.61391620100005], [-1.60558419299997, 51.59815794000008], [-1.619936428999949, 51.59332272900008], [-1.622482576999971, 51.59616367500007], [-1.631142315999966, 51.59332772500005], [-1.637491123999951, 51.598286666000035], [-1.640964873999962, 51.59757476300007], [-1.637891389999936, 51.58386855300006], [-1.650210137999977, 51.58053279000006], [-1.646449448999931, 51.576915978000045], [-1.65137023099993, 51.57390531800007], [-1.63407051799993, 51.55325657900005], [-1.613749975999951, 51.536510269000075], [-1.602812152999945, 51.51829525100004], [-1.584707948999949, 51.524912157000074], [-1.588064216999953, 51.51350297000005], [-1.582290925999928, 51.494111788000055], [-1.570449187999941, 51.48627410300003], [-1.55862381999998, 51.46878564600007], [-1.545418748999964, 51.45883432200003], [-1.529028589999939, 51.455511802000046], [-1.523990976999926, 51.44748057800007], [-1.532062336999957, 51.42955543800008], [-1.526618161999977, 51.42393107100003], [-1.539061712999967, 51.426151117000074], [-1.553112749999968, 51.42127619900003], [-1.565118797999958, 51.42204340500007], [-1.571052669999972, 51.415577606000056], [-1.563491369999952, 51.41322887900003], [-1.56227505499993, 51.408237358000065], [-1.552987798999936, 51.410043966000046], [-1.555602980999936, 51.39558414100003], [-1.537717523999959, 51.38832241000006], [-1.538331665999976, 51.38553736800003], [-1.527634533999958, 51.37882099900003], [-1.516960435999977, 51.37878028200004], [-1.51340517899996, 51.37204501400004], [-1.495449117999954, 51.36966448600003], [-1.50060850999995, 51.35626794400008], [-1.485711366999965, 51.34768277000006], [-1.498298849999969, 51.32937607800005], [-1.516281618999926, 51.33935534700004], [-1.527508442999931, 51.33846616800008], [-1.533562079999967, 51.31622354400008], [-1.525224895999941, 51.30706691100005], [-1.528023096999959, 51.299808350000035], [-1.519511306999959, 51.29593856500003], [-1.524146694999956, 51.29316096100007], [-1.522807295999939, 51.28705797100008], [-1.534511091999946, 51.28709142000008], [-1.542583748999959, 51.28125068600008], [-1.53591653999996, 51.277303980000056], [-1.540512684999953, 51.26083354100007], [-1.53056974499998, 51.26261672500004], [-1.529822410999941, 51.26051392200003], [-1.536034778999976, 51.248529200000064], [-1.545159884999975, 51.245098487000064], [-1.577636307999967, 51.25563015500006], [-1.600186416999975, 51.25352434800004], [-1.600720777999925, 51.25071617800006], [-1.607423128999926, 51.252765390000036], [-1.610393230999932, 51.24297969000003], [-1.619335382999964, 51.24121788600007], [-1.63354062999997, 51.217515915000035], [-1.653496300999961, 51.22046761400003], [-1.689694742999961, 51.21482761400006], [-1.694096989999935, 51.20404330300005], [-1.668835438999963, 51.19077230100004], [-1.672367592999933, 51.17854394400007], [-1.654044385999953, 51.15628256200006], [-1.662975417999974, 51.12719202400007], [-1.640581096999938, 51.12538220600004], [-1.626251472999968, 51.11733776500006], [-1.630930882999962, 51.11115296000003], [-1.626956339999936, 51.102864201000045], [-1.637311870999952, 51.09216587800006], [-1.627737219999972, 51.07813997400007], [-1.634960347999936, 51.040886631000035], [-1.632375810999974, 51.03277969800007], [-1.61945702099996, 51.03305947800004], [-1.599396832999957, 51.02372936900008], [-1.605368985999974, 51.01725840100005], [-1.597523678999949, 51.00805543100006], [-1.605014732999962, 51.007005622000065], [-1.609088414999974, 51.00981314400008], [-1.614930155999957, 51.00665643100007], [-1.606078015999969, 51.00189783800005], [-1.617231151999931, 51.00418208000008], [-1.628884883999945, 50.99903178200003], [-1.625195719999965, 50.99032565600004], [-1.618953828999963, 50.987366045000044], [-1.61964407399995, 50.98299654600004], [-1.614418617999945, 50.97949477900005], [-1.602922945999978, 50.97851713300008], [-1.62340097699996, 50.95463731700005], [-1.634965059999956, 50.95924217400005], [-1.646375968999962, 50.949465399000076], [-1.661660032999976, 50.945277917000055], [-1.689413782999964, 50.95469597300007], [-1.719617523999943, 50.97677901800006], [-1.754401614999949, 50.97789209100006], [-1.754319838999947, 50.98044756200005], [-1.800314113999946, 50.99139478700005], [-1.807583376999958, 50.992046069000025], [-1.815421671999957, 50.98592267300006], [-1.83581252099998, 51.009422277000056], [-1.85338097999994, 51.00467899100005], [-1.873983678999934, 50.98444106300008], [-1.874481593999974, 51.006330588000026], [-1.88674135499997, 50.999527716000046], [-1.927877658999932, 50.997696467000026], [-1.949935772999936, 50.98231061600006], [-1.95682095799998, 50.989829920000034], [-1.95546550499995, 50.97826631800007], [-1.944829861999949, 50.975748433000035], [-1.939220086999967, 50.96965705900004], [-1.929888889999972, 50.96779583500006], [-1.920841133999943, 50.96140734100004], [-1.909183571999961, 50.94532659300006], [-1.878802907999955, 50.92432607900008], [-1.873708087999944, 50.917252939000036], [-1.862724284999956, 50.91978772700003], [-1.854184429999975, 50.92751137000005], [-1.841834262999953, 50.931660597000075], [-1.826220820999936, 50.926868788000036], [-1.810754785999961, 50.927161676000026], [-1.820407127999943, 50.91210589700006], [-1.816541447999953, 50.90394777700004], [-1.824953314999959, 50.895770619000075], [-1.839869690999933, 50.89789004000005], [-1.84855551499993, 50.88988737500006], [-1.844043443999965, 50.88682939100005], [-1.847977250999975, 50.882339141000045], [-1.847832302999961, 50.86968643600005], [-1.853533031999973, 50.86651574700005], [-1.850943842999925, 50.85872494900008], [-1.829518470999972, 50.85531859400004], [-1.814832447999947, 50.858701179000036], [-1.812790188999941, 50.86457279500007], [-1.807110303999934, 50.863315], [-1.80587623699995, 50.85262301700004], [-1.800035532999971, 50.848338701000046], [-1.802450944999975, 50.84280514200003], [-1.790705472999946, 50.836391509000066], [-1.796089825999957, 50.83033379500006], [-1.80373306499996, 50.82999355600003], [-1.801823569999954, 50.82089190500005], [-1.807356520999974, 50.81624232300004], [-1.802956146999975, 50.813492567000026], [-1.812129427999935, 50.80649207600004], [-1.801491322999937, 50.79969479600004], [-1.804710671999942, 50.79571770600006], [-1.80089135399993, 50.79424243300008], [-1.80593705299998, 50.79207465600007], [-1.80096518299996, 50.791884691000064], [-1.797474196999929, 50.78386015600006], [-1.787868347999961, 50.77885466500004], [-1.790748693999944, 50.776212917000066], [-1.788011755999946, 50.76652399100004], [-1.783660223999959, 50.76463121300003], [-1.77615394999998, 50.76634396000003], [-1.768956116999959, 50.76976720000005], [-1.770117200999948, 50.77254880600003], [-1.748982483999953, 50.77949018600003], [-1.739091311999971, 50.763496847000056], [-1.744684638999956, 50.75604313300005], [-1.744168827999943, 50.747455426000045], [-1.717849357999967, 50.75213536900003], [-1.681806119999976, 50.75182032500004], [-1.691640145999941, 50.737262842000064], [-1.692547966999939, 50.73735283000008], [-1.706559788999925, 50.735926154000026], [-1.719979850999948, 50.73455807900007], [-1.724585160999936, 50.734088230000054], [-1.726952419999975, 50.73267652800007], [-1.730847357999949, 50.73035350200007], [-1.742300248999925, 50.72352068200007], [-1.757087233999926, 50.73017999100006], [-1.762196933999974, 50.72523894600005], [-1.764334874999975, 50.72332802600005], [-1.768559729999936, 50.725224757000035], [-1.763429304999931, 50.71860500900004], [-1.746007139999961, 50.71547042600008], [-1.742690786999958, 50.72153147000006], [-1.741118318999952, 50.72153339500005], [-1.748689819999925, 50.71101216900007], [-1.81600007399993, 50.72015688300007], [-1.820959408999954, 50.72082910100005], [-1.824626571999943, 50.72030729100004], [-1.895221355999979, 50.71023741300007], [-1.900899398999968, 50.709425433000035], [-1.906466515999966, 50.706253452000055], [-1.936169810999957, 50.68931818300007], [-1.947809409999934, 50.68267688100008], [-1.933497308999961, 50.69858457400005], [-1.952393148999931, 50.70442418700003], [-1.94796114199994, 50.708850365000046], [-1.958366177999949, 50.71559124800007], [-1.991879257999926, 50.71250931900005], [-1.984078336999971, 50.719627081000056], [-1.995960959999934, 50.73748848900004], [-2.001358652999954, 50.73367735800008], [-2.011400622999929, 50.72658445400003], [-2.001358022999966, 50.71910068500006], [-1.986560623999935, 50.70806727400003], [-2.001357630999962, 50.71097638100008], [-2.03932558799994, 50.71842960500004], [-2.024889639999969, 50.72935586700004], [-2.053284576999943, 50.72880160900007], [-2.048149431999946, 50.722796706000054], [-2.042242317999978, 50.72627926100006], [-2.046200431999978, 50.716070769000055], [-2.062857207999969, 50.71656206400007], [-2.071900655999968, 50.70791472600007], [-2.057632463999937, 50.70561971500007], [-2.072162564999928, 50.70504406200007], [-2.08213985499998, 50.68697161500006], [-2.065724561999957, 50.686719528000026], [-2.054520149999973, 50.69980193500004], [-2.026134187999958, 50.707419154000036], [-2.018083478999927, 50.701573773000064], [-2.033202831999972, 50.70211417400003], [-2.024438170999929, 50.68765785700003], [-2.046427567999956, 50.67829146500003], [-2.024721089999957, 50.684606546000055], [-2.02658568499993, 50.67804307500006], [-2.022065733999966, 50.682095393000054], [-2.011448567999935, 50.68277055800007], [-2.00620854899995, 50.67601676000004], [-2.001355937999961, 50.67640823200003], [-1.998573549999946, 50.67663259100004], [-1.995732329999953, 50.66715485100008], [-1.978367797999965, 50.676944380000066], [-1.98525088699995, 50.669901382000035], [-1.974709944999972, 50.66514585400006], [-1.949904513999968, 50.68007144300003], [-1.94925735299995, 50.67961960700006], [-1.941733459999966, 50.67305156100008], [-1.942156121999972, 50.67155130200007], [-1.949301214999934, 50.646388555000044], [-1.949393738999959, 50.64584481900005], [-1.926523154999927, 50.64244512200003], [-1.92375945799995, 50.64203399000007], [-1.945086180999965, 50.62797950700008], [-1.949296118999939, 50.625203645000056], [-1.953151829999968, 50.62266095000007], [-1.953779180999959, 50.62017873600007], [-1.955604386999937, 50.61295570200008], [-1.956547098999977, 50.609224219000055], [-1.944091477999962, 50.607404200000076], [-1.945305794999967, 50.606116962000044], [-1.951151838999976, 50.59991868600008], [-1.959046763999936, 50.59154498400005], [-1.960463201999971, 50.59100292100004], [-1.964575776999936, 50.59087627700006], [-2.001353623999933, 50.58973722600007], [-2.026279771999953, 50.588958570000045], [-2.055260617999977, 50.57686145900004], [-2.056575111999962, 50.57769348100004], [-2.063774232999947, 50.59342768800008], [-2.064536253999961, 50.593556859000046], [-2.064802763999978, 50.59354164000007], [-2.094133699999929, 50.59678733900006], [-2.100550299999952, 50.59749639200004], [-2.114571444999967, 50.599044382000045], [-2.134032945999934, 50.61235088900003], [-2.134511982999925, 50.612638633000074], [-2.146034871999973, 50.60849333600004], [-2.157772572999932, 50.615410008000026], [-2.187496303999978, 50.61484639300005], [-2.198316900999941, 50.62296875100003], [-2.200299444999928, 50.62266135600004], [-2.22065500399998, 50.618972161000045], [-2.235745724999958, 50.61623443000008], [-2.238909886999977, 50.616165383000066], [-2.246150757999942, 50.61693864200004], [-2.249193347999949, 50.617263421000075], [-2.252826934999973, 50.617651170000045], [-2.312544325999966, 50.62400646200007], [-2.324204910999924, 50.62524361200008], [-2.338741306999964, 50.63198476300005], [-2.377285702999927, 50.63311833400007], [-2.403522170999963, 50.63388260900007], [-2.41107961199998, 50.63410165800008], [-2.42826056499996, 50.63366849600004], [-2.429807887999971, 50.63362936100003], [-2.432478615999969, 50.63132999800007], [-2.448838665999972, 50.61723856900005], [-2.452472884999963, 50.61410681600006], [-2.450563554999974, 50.61333958700004], [-2.441364246999967, 50.609642131000044], [-2.449031111999943, 50.60149075900006], [-2.448833420999961, 50.60138052800005], [-2.434103979999975, 50.596710544000075], [-2.450160513999947, 50.60119720600005], [-2.470195757999932, 50.583697348000044], [-2.48778581199997, 50.59109556000004], [-2.517491655999947, 50.617857798000045], [-2.520499450999978, 50.61853233700003], [-2.548847973999955, 50.62488514900008], [-2.545284177999974, 50.630887733000066], [-2.558055490999948, 50.63083434200007], [-2.560495867999975, 50.639146561000075], [-2.567039628999964, 50.64106180600004], [-2.611452565999969, 50.654046805000064], [-2.566918199999975, 50.630977707000056], [-2.542727803999981, 50.61843020400005], [-2.502571315999944, 50.59757513800008], [-2.460435716999939, 50.570995276000076], [-2.456361957999945, 50.57081348100007], [-2.422195090999935, 50.56928307700008], [-2.419894510999939, 50.554898783000056], [-2.418070141999976, 50.542921025000055], [-2.419160472999977, 50.54192996200004], [-2.442646959999934, 50.52056923300006], [-2.442878305999955, 50.52043366400005], [-2.458859034999932, 50.51686489300005], [-2.45965242699998, 50.51848126600004], [-2.459162096999933, 50.52043832600003], [-2.456041702999926, 50.53288898000005], [-2.451159880999967, 50.55235473600004], [-2.44918624099995, 50.560219834000065], [-2.45039363799998, 50.56102104100006], [-2.458625770999959, 50.56648266900004], [-2.503997329999947, 50.59655094900006], [-2.516963894999947, 50.60320296000003], [-2.529500772999938, 50.609631371000035], [-2.595077089999961, 50.64320551700007], [-2.627106867999942, 50.65957334700005], [-2.634974280999927, 50.662602536000065], [-2.636475512999937, 50.66333181600004], [-2.659840207999935, 50.67217056900006], [-2.761670031999927, 50.71125691600008], [-2.781956284999978, 50.71435847500004], [-2.802166335999971, 50.71744443700004], [-2.820238561999929, 50.72020078300005], [-2.832496963999972, 50.72206856300005], [-2.851403889999972, 50.72494663700007], [-2.86321970399996, 50.72674361000003], [-2.899239574999967, 50.732213466000076], [-2.909535930999937, 50.73377475400008], [-2.912755581999932, 50.732469242000036], [-2.927030080999941, 50.72667924000007], [-2.947485837999977, 50.71837647700005], [-2.94776118599998, 50.71826467100004], [-2.962168259999942, 50.71280101200006], [-2.976989000999936, 50.70717730600006], [-2.983679475999963, 50.704637551000076], [-3.005643266999925, 50.70170786600005], [-3.028575442999966, 50.698667914000055], [-3.050104784999974, 50.701713590000054], [-3.054900215999965, 50.70239140500007], [-3.082926814999951, 50.70142137800008], [-3.083979566999972, 50.70011382000007], [-3.09600637799997, 50.68522298500005], [-3.108297641999968, 50.68513820000004], [-3.185852225999952, 50.68457341900006], [-3.192046852999965, 50.68452608300004], [-3.257552874999931, 50.67329230200005], [-3.258945271999949, 50.671941822000065], [-3.286544072999959, 50.64515457600004], [-3.30061687999995, 50.631481472000075], [-3.30892154199995, 50.64762074500004], [-3.306635691999929, 50.629727814000034], [-3.308721856999966, 50.62924207900005], [-3.35100648599996, 50.619386735000035], [-3.358680791999973, 50.610347783000066], [-3.361457374999929, 50.60707679300003], [-3.369746436999947, 50.60806786200004], [-3.389395730999979, 50.61140698600008], [-3.414836097999967, 50.61572469300006], [-3.425197600999979, 50.61748143600005], [-3.425825513999939, 50.61817724800005], [-3.416043341999966, 50.62993838700004], [-3.460750408999957, 50.69552427800005], [-3.456328183999972, 50.67489325500003], [-3.469851544999926, 50.68223286300008], [-3.44668494299998, 50.61070943500005], [-3.443753686999969, 50.60164314100007], [-3.424588780999954, 50.61099544700005], [-3.46690732999997, 50.577957197000046], [-3.468586964999929, 50.56305270900003], [-3.494465375999937, 50.543206637000026], [-3.496439906999967, 50.54169190300007], [-3.509402808999937, 50.54630761000004], [-3.509769136999978, 50.54286270400007], [-3.495960705999948, 50.537609573000054], [-3.507581365999954, 50.51913121700005], [-3.509185725999941, 50.51657889300003], [-3.514801983999973, 50.481690025000034], [-3.480601518999947, 50.46351976300008], [-3.515976229999978, 50.45380088200005], [-3.539320077999946, 50.46108270500008], [-3.55759943399994, 50.42940390200005], [-3.559521651999944, 50.426070081000034], [-3.556125536999957, 50.408147290000045], [-3.544854707999946, 50.40212229500003], [-3.528339077999931, 50.404818344000034], [-3.511893044999965, 50.39590612900008], [-3.505144566999945, 50.39997612900004], [-3.512930049999966, 50.405674463000025], [-3.48236739999993, 50.400062699000046], [-3.503297162999957, 50.38886377100005], [-3.496055737999939, 50.38153735100008], [-3.49645219599995, 50.38135332300004], [-3.507630308999978, 50.37915559600003], [-3.507762927999977, 50.37873538300005], [-3.515569098999947, 50.35398862100004], [-3.517928104999953, 50.34650523800008], [-3.534128513999974, 50.337538100000074], [-3.535083282999949, 50.33700944800006], [-3.536853330999975, 50.336675530000036], [-3.553049477999934, 50.338517059000026], [-3.570829670999956, 50.346623246000036], [-3.57320899399997, 50.34770762800008], [-3.57591808199993, 50.36151440400005], [-3.578263279999931, 50.375190245000056], [-3.594711206999932, 50.38224312500006], [-3.580743306999977, 50.37217191800005], [-3.579236305999927, 50.35987025400004], [-3.577935682999964, 50.34813429600007], [-3.576597780999975, 50.34695676000007], [-3.574260596999977, 50.344899541000075], [-3.563528132999977, 50.33544967100005], [-3.571808162999957, 50.326709796000046], [-3.572431901999948, 50.326051265000046], [-3.572655402999942, 50.32600922100005], [-3.592738641999972, 50.322229253000046], [-3.612053496999977, 50.31859021300005], [-3.641954755999961, 50.290522388000056], [-3.652867515999958, 50.25586674700003], [-3.658616675999951, 50.23758941400007], [-3.659004368999945, 50.23635638300004], [-3.658099847999949, 50.23564604100005], [-3.642920114999924, 50.22372102700007], [-3.64043647099993, 50.22176916300003], [-3.64585191599997, 50.22185318900006], [-3.647633661999976, 50.22213304300004], [-3.648051298999974, 50.221887243000026], [-3.681306775999929, 50.22239776100008], [-3.683505022999952, 50.22124254900007], [-3.712811350999971, 50.205832473000044], [-3.713342557999965, 50.20587073400003], [-3.720286951999981, 50.20189885700006], [-3.72509387499997, 50.20552247900008], [-3.727952934999962, 50.20767737600005], [-3.737394232999975, 50.21479145100005], [-3.773412469999926, 50.22408647300006], [-3.762585896999951, 50.23625633700004], [-3.745730500999969, 50.24027028900008], [-3.743099763999965, 50.24089586500003], [-3.755899468999928, 50.238988961000075], [-3.753165222999939, 50.24673592600004], [-3.750123117999976, 50.255314534000036], [-3.749139282999977, 50.25597234800006], [-3.750030716999959, 50.255575054000076], [-3.749930709999944, 50.25585701400007], [-3.752553327999976, 50.254608423000036], [-3.757744146999926, 50.25213675800006], [-3.759093395999969, 50.25364236200005], [-3.75994039699998, 50.25458745600008], [-3.765870482999958, 50.261203082000065], [-3.76547755799993, 50.26005438700008], [-3.762641344999963, 50.251761173000034], [-3.760883268999976, 50.246618960000035], [-3.758830685999953, 50.240613893000045], [-3.760128158999976, 50.23981360200003], [-3.766050460999963, 50.236285972000076], [-3.771835450999959, 50.23282560900003], [-3.781901078999965, 50.229598700000054], [-3.785583534999944, 50.21511380900006], [-3.785588398999948, 50.21492375500003], [-3.786781970999925, 50.21017262000004], [-3.78761988399998, 50.20995545200003], [-3.792400269999973, 50.21091963100008], [-3.822963235999964, 50.21707826900007], [-3.868221766999966, 50.23874924000006], [-3.85902740299997, 50.24264098100008], [-3.858900448999975, 50.24509211800006], [-3.858087706999925, 50.260779693000075], [-3.859601190999967, 50.261886136000044], [-3.88123358699994, 50.27324079600004], [-3.881598729999951, 50.273814799000036], [-3.880033106999974, 50.28145257500006], [-3.895183381999971, 50.28177574100005], [-3.898705889999974, 50.28374282500005], [-3.92054130899993, 50.295930361000046], [-3.922458534999976, 50.29699996900007], [-3.943714085999943, 50.29592362200003], [-3.944509838999977, 50.297634781000056], [-3.947817895999947, 50.30474688600003], [-3.941610267999977, 50.31446271600004], [-3.953401674999952, 50.30827057300007], [-3.954394242999967, 50.30795709800003], [-3.967449127999942, 50.30779693800008], [-3.991882562999933, 50.30749324300007], [-4.007917805999966, 50.30205895600005], [-4.017395478999958, 50.29884539300008], [-4.02525873999997, 50.29617830800004], [-4.035159651999948, 50.292818913000076], [-4.038509098999953, 50.29376967800005], [-4.064902308999933, 50.30117261100003], [-4.069361706999928, 50.30242414200006], [-4.075398321999955, 50.304117922000046], [-4.031971518999967, 50.31424633900008], [-4.084334468999941, 50.31731996000008], [-4.086395783999933, 50.31744044800007], [-4.118998254999951, 50.31934116800005], [-4.12180946899997, 50.32865345600004], [-4.12296645999993, 50.332484822000026], [-4.122977014999947, 50.335661892000076], [-4.123013796999942, 50.34668911800003], [-4.123587237999971, 50.34760115300003], [-4.130388546999939, 50.35841540400003], [-4.131033862999971, 50.35944119000004], [-4.112445557999933, 50.35943010900007], [-4.100092307999944, 50.38342072100005], [-4.11570680799997, 50.36178573600006], [-4.153212785999926, 50.366027529000064], [-4.16476834499997, 50.36074682100008], [-4.165341677999947, 50.36254960800005], [-4.166612181999938, 50.36654407100008], [-4.18541907599996, 50.367162507000046], [-4.181481853999969, 50.37715819300007], [-4.18842233099997, 50.38509194300008], [-4.19294752899998, 50.390262938000035], [-4.194543195999927, 50.39208601000007], [-4.20528362899995, 50.39938744600005], [-4.205188088999932, 50.39995525900008], [-4.195233129999963, 50.41911769700005], [-4.192340417999958, 50.42468256600006], [-4.190228304999948, 50.427463559000046], [-4.185553970999933, 50.433667710000066], [-4.185099788999935, 50.434270351000066], [-4.198970521999968, 50.44559306700006], [-4.199173367999947, 50.43939426500003], [-4.199294581999936, 50.435690246000036], [-4.200249263999979, 50.43526402800006], [-4.222496956999976, 50.42532716300008], [-4.210067691999939, 50.42569890400006], [-4.213711238999963, 50.41876789200006], [-4.215621806999934, 50.41513245800007], [-4.207459865999965, 50.409054163000064], [-4.208860468999944, 50.405728777000036], [-4.226013967999961, 50.394975858000066], [-4.230751229999953, 50.39200498100007], [-4.227352375999942, 50.39146417500007], [-4.201767737999944, 50.387389693000046], [-4.195000806999928, 50.37317238700007], [-4.201534805999927, 50.36952615700005], [-4.206161893999933, 50.369169301000056], [-4.209234992999939, 50.36893218900008], [-4.209088889999975, 50.36866617700008], [-4.206140167999934, 50.364524509000034], [-4.197079063999979, 50.359618527000066], [-4.207615975999943, 50.34694985600004], [-4.177011105999952, 50.360311710000076], [-4.168923474999929, 50.34620988000006], [-4.180847951999965, 50.341309968000076], [-4.201227225999958, 50.33293075500006], [-4.196028275999936, 50.32676125000006], [-4.188371362999931, 50.317671346000054], [-4.189451591999955, 50.317484524000065], [-4.221537616999967, 50.31193015500003], [-4.223982729999932, 50.311529249000046], [-4.21940306099998, 50.323972671000035], [-4.229113533999964, 50.333511815000065], [-4.239687477999951, 50.33724647500003], [-4.304713317999926, 50.36046654000006], [-4.305313010999953, 50.360390067000026], [-4.30811939299997, 50.361378425000055], [-4.316259238999976, 50.361358789000064], [-4.316360888999952, 50.361531110000044], [-4.332005304999939, 50.361788585000056], [-4.333196118999979, 50.36131610700005], [-4.354621881999947, 50.36125856100006], [-4.354896049999979, 50.36127177600008], [-4.377098906999947, 50.361193944000036], [-4.429290097999967, 50.36104276900005], [-4.436659060999943, 50.36100166300008], [-4.441622278999944, 50.35753622900006], [-4.450824027999943, 50.35173135600007], [-4.45070581899995, 50.351192077000064], [-4.451055824999969, 50.35094757600007], [-4.456677218999971, 50.355672569000035], [-4.45085153399998, 50.347678564000034], [-4.458586130999947, 50.34254165700003], [-4.47363865799997, 50.333366831000035], [-4.49762796999994, 50.33736210700005], [-4.499917129999972, 50.333636812000066], [-4.502331287999937, 50.33055345400004], [-4.503639004999968, 50.33030908200004], [-4.519775931999959, 50.327682150000044], [-4.538719109999931, 50.323747309000055], [-4.538914861999956, 50.323712869000076], [-4.578459771999974, 50.332544806000044], [-4.579768866999927, 50.331977358000074], [-4.597192818999929, 50.324422027000026], [-4.598424653999928, 50.32388769800008], [-4.606647147999979, 50.32894857400004], [-4.63314227799998, 50.32435032200004], [-4.63852142199994, 50.32986373300008], [-4.637318058999938, 50.33020522800007], [-4.621218811999938, 50.334772317000045], [-4.608832193999945, 50.33828413900005], [-4.63007203899997, 50.33915392100005], [-4.667596056999969, 50.32307345600003], [-4.672650394999948, 50.31394153400004], [-4.684733338999933, 50.320108008000034], [-4.681443322999939, 50.33780721900007], [-4.694641937999961, 50.34760988100004], [-4.756851367999957, 50.33101910400006], [-4.766911055999969, 50.32086283500007], [-4.766029808999974, 50.31949441000006], [-4.766138592999937, 50.319357747000026], [-4.758775019999973, 50.30822559100005], [-4.752556049999953, 50.29856093500007], [-4.764085960999978, 50.300455972000066], [-4.781190121999941, 50.290155706000064], [-4.787007181999968, 50.269469224000034], [-4.785696762999976, 50.26180786200007], [-4.767058357999929, 50.256620457000054], [-4.785635253999942, 50.245388336000076], [-4.785203171999967, 50.244668457000046], [-4.781347962999973, 50.23824431400004], [-4.780967433999933, 50.23761011500005], [-4.786370020999925, 50.23516423900003], [-4.798232365999979, 50.23016486200004], [-4.79833946399998, 50.226260841000055], [-4.798525808999955, 50.21946674700007], [-4.805210673999966, 50.22346418300003], [-4.809439687999941, 50.22599251400004], [-4.818785676999937, 50.23157851500008], [-4.841845620999948, 50.23392549400006], [-4.852433609999935, 50.23500149200004], [-4.862535913999977, 50.236027181000054], [-4.866401315999951, 50.233294467000064], [-4.874888597999927, 50.22729260500006], [-4.879159586999947, 50.224271532000046], [-4.895156082999961, 50.21335653500006], [-4.903069279999954, 50.20734923300006], [-4.905107298999951, 50.205906037000034], [-4.910910003999959, 50.201796269000056], [-4.918775665999931, 50.196223872000076], [-4.933578675999968, 50.207081920000064], [-4.955829725999934, 50.20296872600005], [-4.964251906999948, 50.194773833000056], [-4.967878621999944, 50.19160285300006], [-4.967837281999948, 50.19128420000004], [-4.973624795999967, 50.18564995600008], [-4.980046372999936, 50.15951578200003], [-4.981938136999929, 50.151812403000065], [-4.984082636999972, 50.15083988900005], [-5.007174634999956, 50.14036288600005], [-5.00943581599995, 50.13933648500006], [-5.010023454999953, 50.13944320400003], [-5.018031683999936, 50.14861052600003], [-5.00980020999998, 50.153643611000064], [-4.995739238999931, 50.16223738000008], [-5.003198091999934, 50.16131715100005], [-5.027261125999928, 50.158344879000026], [-5.01949794899997, 50.17902876900007], [-5.017841787999942, 50.18343919800003], [-5.025694098999963, 50.18219400700008], [-5.03410566499997, 50.20452153700006], [-5.035927180999977, 50.20935355600005], [-5.036035292999941, 50.20964032000006], [-5.042578768999931, 50.20493852100003], [-5.044189423999967, 50.203780993000066], [-5.045748921999973, 50.202660156000036], [-5.060948943999961, 50.19168805800007], [-5.058925734999946, 50.19043867400006], [-5.054854583999941, 50.183768669000074], [-5.050607199999945, 50.17680775300005], [-5.047546913999952, 50.17179102100005], [-5.05619808199998, 50.16129885600003], [-5.074063424999963, 50.16465373900007], [-5.075943766999956, 50.16500664000006], [-5.077521145999981, 50.16530265400007], [-5.066643118999934, 50.15379327000005], [-5.066014993999943, 50.15386598300006], [-5.057352587999958, 50.154868375000035], [-5.05575343299995, 50.15505335000006], [-5.049200521999978, 50.155756489000055], [-5.042041869999935, 50.14407178700003], [-5.043246043999943, 50.14443152100006], [-5.053194549999944, 50.14845170800004], [-5.054747678999945, 50.14786659400005], [-5.075786407999942, 50.13946144700003], [-5.076162820999969, 50.13931159200007], [-5.080004758999962, 50.13592754800004], [-5.091350102999968, 50.125930906000065], [-5.091520288999959, 50.12581777400004], [-5.091613269999925, 50.12569896200006], [-5.091490374999978, 50.12550007700003], [-5.082192353999972, 50.11044731900006], [-5.08163009499998, 50.10953671100003], [-5.09470749299993, 50.10223360600003], [-5.106765520999943, 50.101169897000034], [-5.155682974999934, 50.09657204900003], [-5.124243820999936, 50.09502982200007], [-5.106419391999964, 50.09415152200006], [-5.093381794999971, 50.09046962000008], [-5.104116546999933, 50.086732564000044], [-5.084730782999941, 50.08595113100006], [-5.076058958999965, 50.085554399000046], [-5.076605426999947, 50.08292994000004], [-5.079554402999975, 50.06876197400004], [-5.075674431999971, 50.068391708000036], [-5.067701188999933, 50.067630389000044], [-5.061772572999928, 50.058709031000035], [-5.058409431999962, 50.05364652600008], [-5.057830534999937, 50.05277499700003], [-5.058851365999942, 50.05114581400005], [-5.066743301999963, 50.03854697200006], [-5.068937066999979, 50.035043607000034], [-5.073449700999959, 50.033598477000055], [-5.074975897999934, 50.033109668000066], [-5.095514431999959, 50.02672196700007], [-5.09543724699995, 50.02655344600004], [-5.096981316999972, 50.02605847900003], [-5.091147073999934, 50.01571026100004], [-5.091791876999935, 50.01498558600008], [-5.100121912999953, 50.00562147200003], [-5.101379817999941, 50.00420705600004], [-5.122447238999939, 50.00925161200007], [-5.137205979999976, 50.00743140000003], [-5.162005891999968, 50.00436828000005], [-5.166549269999962, 50.003806498000074], [-5.170228558999952, 49.99885389000008], [-5.170917715999963, 49.99815982800004], [-5.170901390999973, 49.997948085000075], [-5.182571564999932, 49.982231213000034], [-5.185291637999967, 49.98027956900006], [-5.185276890999944, 49.97858621800003], [-5.188769030999936, 49.97388023100007], [-5.185409074999939, 49.963373098000034], [-5.186245489999976, 49.963096267000026], [-5.197728170999937, 49.959294888000045], [-5.198634633999973, 49.95899472800005], [-5.201185161999945, 49.95903608400005], [-5.208050058999959, 49.95929725500008], [-5.208011733999967, 49.95942474800006], [-5.210364677999962, 49.95938522000006], [-5.215945493999925, 49.95959712400003], [-5.219483259999947, 49.97141998200004], [-5.222960978999936, 49.97203002800006], [-5.231720562999953, 49.97356605600004], [-5.235048518999974, 49.974149425000064], [-5.240196217999937, 49.97505156600005], [-5.246261439999955, 49.97611416600006], [-5.243875006999929, 49.983977235000054], [-5.245210756999938, 49.98509635400006], [-5.245114546999957, 49.98542654700003], [-5.245719594999969, 49.98552265100005], [-5.254574469999966, 49.99293951100003], [-5.259783483999968, 49.99730117800004], [-5.268544352999925, 50.00463468600003], [-5.26039523999998, 50.015596935000076], [-5.255929913999978, 50.02160144900006], [-5.261624294999933, 50.033822255000075], [-5.262462600999925, 50.03422262300006], [-5.26999806699996, 50.037820916000044], [-5.276761116999978, 50.04104947400003], [-5.281681718999948, 50.04339794800006], [-5.279910414999961, 50.05514279800008], [-5.279678886999932, 50.05667760600005], [-5.316284389999964, 50.085195275000046], [-5.339022131999968, 50.091954212000076], [-5.342253544999949, 50.091564324000046], [-5.363232120999953, 50.08903080600004], [-5.38627773099995, 50.10073427900005], [-5.391712790999975, 50.10349288800006], [-5.429196714999932, 50.09697387800003], [-5.434774611999956, 50.108605229000034], [-5.456636254999978, 50.11707988100005], [-5.469064978999938, 50.12189460800005], [-5.483705193999981, 50.12756293400008], [-5.488275447999968, 50.127222774000074], [-5.514399270999945, 50.12527486000005], [-5.529647267999962, 50.12413512200004], [-5.531139304999954, 50.11414572600006], [-5.532058563999954, 50.113758344000075], [-5.54609921399998, 50.10783988800006], [-5.549173591999931, 50.106543558000055], [-5.547540923999975, 50.10469943500004], [-5.533219416999941, 50.08851551400005], [-5.542249636999941, 50.07050230900006], [-5.559381808999944, 50.06130557800003], [-5.56360017399993, 50.059040253000035], [-5.577234159999932, 50.05171612700008], [-5.587041157999977, 50.051603561000036], [-5.593210669999962, 50.051532319000046], [-5.598815932999969, 50.05146730800004], [-5.619166906999965, 50.051228999000045], [-5.63004803299998, 50.04411266300008], [-5.636374048999926, 50.04001675600006], [-5.636794552999959, 50.04015141700006], [-5.646765005999953, 50.04334365600005], [-5.648303866999925, 50.04383623700005], [-5.664905701999942, 50.037706290000074], [-5.673173081999948, 50.03465224900003], [-5.692620618999968, 50.05405374500003], [-5.710885588999929, 50.05808422800004], [-5.712266857999964, 50.060643362000064], [-5.716841129999978, 50.069116363000035], [-5.708805360999975, 50.07516564900004], [-5.702393638999979, 50.07999079800004], [-5.694178676999968, 50.08617108100003], [-5.688579832999949, 50.090381996000076], [-5.699785944999974, 50.10950133800003], [-5.710160634999966, 50.127401399000064], [-5.709370687999979, 50.12823043100008], [-5.693661396999971, 50.144710117000045], [-5.685026792999963, 50.153762622000045], [-5.673056010999971, 50.16630632700003], [-5.654840686999933, 50.166898366000055], [-5.642268741999942, 50.16730529700004], [-5.629107619999957, 50.16772983200008], [-5.613288624999939, 50.18192873400005], [-5.60066627499998, 50.19325091600007], [-5.590852605999942, 50.188722909000035], [-5.57805486999996, 50.19541683500006], [-5.577907344999971, 50.19554849300005], [-5.540550763999931, 50.21522664100007], [-5.538688437999951, 50.21620692400006], [-5.538392546999944, 50.216233971000065], [-5.499501811999949, 50.21978214400008], [-5.498488401999964, 50.21987442200003], [-5.485667241999977, 50.21480645100007], [-5.476887717999944, 50.21841948500003], [-5.475112242999955, 50.217131590000065], [-5.474810135999974, 50.21625062000004], [-5.472087390999945, 50.20830922700003], [-5.472005420999949, 50.208070098000064], [-5.469164259999957, 50.19977996800003], [-5.436758938999958, 50.193391940000026], [-5.434386934999964, 50.19230701400005], [-5.411966783999958, 50.20985012600005], [-5.396912640999972, 50.221620106000046], [-5.396395293999944, 50.22962408400008], [-5.395671571999969, 50.24040979500006], [-5.394120223999948, 50.240737022000076], [-5.378074536999975, 50.244120053000074], [-5.368316139999934, 50.23616472300006], [-5.36699817899995, 50.23637364100006], [-5.346144326999934, 50.239677103000076], [-5.334460939999929, 50.241526054000076], [-5.328466778999939, 50.24247416000003], [-5.303090613999927, 50.261908376000065], [-5.289366764999954, 50.26113107100008], [-5.278499329999931, 50.27351564500003], [-5.250619760999939, 50.28418626500007], [-5.242628994999961, 50.28716055800004], [-5.240009148999945, 50.29893836100007], [-5.235691882999959, 50.31833712800005], [-5.200648061999971, 50.32058101000007], [-5.197850355999947, 50.32347389700004], [-5.18211314399997, 50.33973884100004], [-5.18168959999997, 50.340176410000026], [-5.153869155999928, 50.34614107700003], [-5.146624563999978, 50.37531293300003], [-5.151121748999969, 50.38110725000007], [-5.154156321999949, 50.38501617800006], [-5.157502779999959, 50.38932605200006], [-5.157284630999925, 50.389446777000046], [-5.143527789999951, 50.38878426300005], [-5.145691359999944, 50.39728910900004], [-5.147685065999951, 50.40512336900008], [-5.135738759999981, 50.40119832900007], [-5.13550044699997, 50.408680967000066], [-5.130503092999959, 50.40600287800004], [-5.130240061999928, 50.40609200400007], [-5.126038639999933, 50.40393522100004], [-5.108877506999931, 50.408849186000054], [-5.120214158999943, 50.411038304000044], [-5.101379532999943, 50.41357882800003], [-5.09996147399994, 50.424859611000045], [-5.093614546999959, 50.42063989400003], [-5.091947410999978, 50.42066044500007], [-5.083596479999926, 50.41501351100004], [-5.05519103599994, 50.42799301300005], [-5.042461834999926, 50.44414918000007], [-5.033045062999975, 50.48843024200005], [-5.036867115999939, 50.491034539000054], [-5.046538116999955, 50.49762235000003], [-5.046790594999948, 50.497794300000066], [-5.021202606999964, 50.50926615100008], [-5.029757186999973, 50.514845818000026], [-5.024222258999941, 50.53866681000005], [-5.03662819699997, 50.54943062400008], [-4.983803504999969, 50.54222273100004], [-4.972103276999974, 50.55778555100005], [-4.971686702999932, 50.557961842000054], [-4.956190534999962, 50.56451775000005], [-4.945057967999958, 50.56922518400006], [-4.949861405999968, 50.55620066000006], [-4.936902996999947, 50.54991360200006], [-4.934920716999954, 50.54705877200007], [-4.930833441999937, 50.53001298100003], [-4.911345431999962, 50.53561400600006], [-4.926119771999936, 50.54485336300007], [-4.931143068999972, 50.56449772800005], [-4.915573252999934, 50.57598717600007], [-4.928051825999944, 50.582881643000064], [-4.935398291999945, 50.58693901700008], [-4.932894181999927, 50.58806676800003], [-4.922989082999948, 50.592526580000026], [-4.918972590999942, 50.59433455200008], [-4.918417804999933, 50.59433839500008], [-4.917930708999961, 50.59386378900007], [-4.909731614999941, 50.58587318600007], [-4.908363393999934, 50.58453942800003], [-4.89883051399994, 50.583613410000055], [-4.885198801999934, 50.58228781100007], [-4.880541368999957, 50.58406715600006], [-4.867537721999952, 50.58903345200008], [-4.870010994999973, 50.59540757600007], [-4.851094516999979, 50.59855240700006], [-4.850080791999972, 50.59872083700003], [-4.838692937999951, 50.594606836000025], [-4.832439411999928, 50.592147811000075], [-4.827130054999941, 50.593031892000056], [-4.804007111999965, 50.59687898100003], [-4.803161302999968, 50.59690653000007], [-4.80277323599995, 50.59708412200007], [-4.795956076999971, 50.598217258000034], [-4.79190265799997, 50.60205779700004], [-4.790597403999925, 50.60265486000003], [-4.786417807999953, 50.60725339600003], [-4.770424442999968, 50.62239547300004], [-4.758717228999956, 50.65283559100004], [-4.766658366999934, 50.65486709900006], [-4.764382186999967, 50.66986277800004], [-4.742169733999958, 50.67672477100007], [-4.735022890999971, 50.67150131000005], [-4.726108169999975, 50.684073675000036], [-4.680285044999948, 50.69601813500003], [-4.681079359999956, 50.70443063500005], [-4.67699311299998, 50.70624984400007], [-4.654611859999932, 50.716209062000075], [-4.654341783999939, 50.724462009000035], [-4.653836716999933, 50.73989171000005], [-4.634573474999968, 50.740961955000046], [-4.633164872999942, 50.74993538700005], [-4.63024009999998, 50.75123040900007], [-4.61859424599993, 50.75638549100006], [-4.589947162999977, 50.76905657400005], [-4.572227117999944, 50.776887576000036], [-4.562724681999953, 50.78108481700008], [-4.560851168999932, 50.80308232700003], [-4.55827577499997, 50.816250179000065], [-4.558521276999954, 50.82873849300006], [-4.557320691999962, 50.828857406000054], [-4.546711263999953, 50.82990770200007], [-4.556148567999969, 50.83682404800004], [-4.558342967999977, 50.847553109000046], [-4.55894942599997, 50.85051730100008], [-4.565410114999963, 50.882068538000055], [-4.566899630999956, 50.889335747000075], [-4.569691315999933, 50.90294926200005], [-4.569845762999933, 50.90370215000007], [-4.561872638999944, 50.91193337400006], [-4.545956910999962, 50.928354057000035], [-4.546140441999967, 50.92875487600003], [-4.550981397999976, 50.93932439800005], [-4.548504674999947, 50.942920927000046], [-4.545338091999952, 50.947518337000076], [-4.542441164999957, 50.95172337300005], [-4.53303122799997, 50.96537675800005], [-4.533897692999972, 50.98402103700005], [-4.534135641999967, 50.989137534000065], [-4.534557847999963, 50.99821206300004], [-4.534963707999964, 51.00693047000004], [-4.535032196999964, 51.00840125700006], [-4.530529377999926, 51.01526521300008], [-4.525722771999938, 51.02229009800004], [-4.508820362999927, 51.02084397700003], [-4.50166653399998, 51.01990615100004], [-4.501178842999934, 51.020189352000045], [-4.449835809999968, 51.01577760600003], [-4.448419117999947, 51.01524520800007], [-4.42459361799996, 51.01320696000005], [-4.390690653999968, 50.99458440600006], [-4.384537526999964, 50.99386795300006], [-4.355827407999925, 50.99052031600007], [-4.342794698999967, 50.98899818800004], [-4.327719291999927, 50.99260944200006], [-4.31209221499995, 50.99635025100008], [-4.300665554999966, 50.999083847000065], [-4.282417872999929, 51.01567530300008], [-4.280336674999944, 51.01756669100007], [-4.280058329999974, 51.01780446500004], [-4.258245466999938, 51.037631515000044], [-4.238165662999961, 51.04143809900006], [-4.217558895999957, 51.06517242700005], [-4.210048631999939, 51.05391094500004], [-4.19999334399995, 51.05808689200006], [-4.197648661999949, 51.05851304000004], [-4.183389133999981, 51.04925785200004], [-4.180573167999967, 51.06817137000007], [-4.149564372999976, 51.08421148700006], [-4.180912400999944, 51.077415364000046], [-4.190174332999959, 51.06495879500005], [-4.214833175999956, 51.07507136500004], [-4.222559890999946, 51.117796017000046], [-4.239731875999951, 51.12048715100008], [-4.240306848999978, 51.12069045100003], [-4.239235882999935, 51.133336248000035], [-4.24939007699993, 51.137610976000076], [-4.261921842999925, 51.142884320000064], [-4.223750948999964, 51.14425342000004], [-4.217139657999951, 51.15036877800003], [-4.211494810999966, 51.17830905300008], [-4.229097267999975, 51.18857724000003], [-4.211558112999967, 51.19015142900008], [-4.20144176499997, 51.20048472500008], [-4.199385862999975, 51.20041125500006], [-4.17760181999995, 51.197410724000065], [-4.08811792399996, 51.217454168000074], [-4.054834715999959, 51.210215220000066], [-4.045283470999948, 51.20813568400007], [-4.038672018999932, 51.20669563800004], [-4.029269357999965, 51.21558205700006], [-4.027881272999934, 51.216382716000055], [-4.005974417999937, 51.21727827700005], [-3.958232547999955, 51.219215457000075], [-3.925659214999939, 51.23196679200004], [-3.891979072999959, 51.22381009000003], [-3.856513660999951, 51.233774305000054], [-3.852987809999945, 51.23462528600004], [-3.813463898999942, 51.23113503600007], [-3.811311843999931, 51.23236763400007], [-3.806530155999951, 51.23510599300005], [-3.78696142299998, 51.24630717500003], [-3.769753529999946, 51.23766656400005], [-3.720780788999946, 51.23309188300004], [-3.720543576999944, 51.23306697100003], [-3.720169210999927, 51.23302765400007], [-3.677954950999947, 51.22858603200007], [-3.639804087999948, 51.224558064000064], [-3.631981945999939, 51.22373055700007], [-3.619842433999963, 51.216730125000026], [-3.610680548999937, 51.22017263600003], [-3.579654557999959, 51.23182133200004], [-3.578796456999953, 51.23214330600007], [-3.542739308999955, 51.23234354900006], [-3.524530811999966, 51.22899960400008], [-3.504178071999945, 51.22525797700007], [-3.49612241899996, 51.22377588400008], [-3.470320282999978, 51.20812239400004], [-3.447629762999952, 51.20891506300006], [-3.432673264999949, 51.20023130200008], [-3.402027848999978, 51.182422176000046], [-3.27724857499993, 51.17955786400006], [-3.15293203799996, 51.20884007300003], [-3.146630654999967, 51.209389215000044], [-3.125755265999942, 51.211205876000065], [-3.07606494099997, 51.201353984000036], [-3.054555984999979, 51.20566897600003], [-3.01926285199994, 51.218476355000064], [-3.032549664999976, 51.19457615300007], [-3.051106579999953, 51.187084251000044], [-3.025636979999945, 51.19391122800005], [-2.997776797999961, 51.22543714500006], [-3.000206185999957, 51.24206014100008], [-3.021806563999974, 51.26573723900003], [-3.011397881999926, 51.320730282000056], [-3.035929893999935, 51.328545173000066], [-2.994109650999974, 51.32093122900005], [-2.994054838999944, 51.321069796000074], [-2.988578048999955, 51.334911067000064], [-2.982774612999947, 51.34956874900007], [-2.994742568999925, 51.356362981000075], [-2.967404705999968, 51.36371001800006], [-2.962212222999938, 51.37474393100007], [-2.963076100999956, 51.382908033000035], [-2.980798559999926, 51.388416247000066], [-2.939815010999951, 51.39817575700005], [-2.939175837999926, 51.39104299600007], [-2.917341839999949, 51.39588732200008], [-2.886599068999942, 51.41255149600005], [-2.86460490199994, 51.438232793000054], [-2.850644068999941, 51.454517105000036], [-2.77356832199996, 51.49466326700008], [-2.732616444999962, 51.49248373000006], [-2.73052469299995, 51.50226533400007], [-2.684610403999955, 51.480486436000035], [-2.718317178999939, 51.506159352000054], [-2.703223469999955, 51.516808567000055], [-2.687075848999939, 51.52938562500003], [-2.674173811999935, 51.54402795000004], [-2.663432475999969, 51.57367582400008], [-2.627806249999935, 51.60563503600008], [-2.63855562699996, 51.60934296700003], [-2.638833566999949, 51.60943881900005], [-2.65877594799997, 51.61631362500003], [-2.660893318999968, 51.617043239000054], [-2.656641126999943, 51.622799609000026], [-2.66852029699993, 51.63383798900003], [-2.66765247099994, 51.644533127000045], [-2.677279129999931, 51.64461798700006], [-2.68033173699996, 51.64754717300008], [-2.665922549999948, 51.66432350100007], [-2.678413596999974, 51.65974275600007], [-2.686402159999943, 51.66315508400004], [-2.683429529999955, 51.66868836100008], [-2.660128623999981, 51.671084765000046], [-2.656863684999962, 51.67450363900008], [-2.672253334999937, 51.68100018400003], [-2.669169054999941, 51.69314980900003], [-2.683791652999957, 51.700627463000046], [-2.681797709999955, 51.703325104000044], [-2.670971351999981, 51.70075996000003], [-2.668495015999952, 51.70575093400004], [-2.679381400999944, 51.71398541000008], [-2.680484443999944, 51.724645775000056], [-2.687540585999955, 51.73042614000008], [-2.672225208999976, 51.73636299300006], [-2.66269209799998, 51.753894727000045], [-2.680452015999947, 51.76892961400006], [-2.675069275999931, 51.77704634400004], [-2.67584416699998, 51.78806901400003], [-2.66955743799997, 51.794377189000045], [-2.678542943999958, 51.802705692000075], [-2.672578481999949, 51.80888024200004], [-2.659538715999929, 51.81068239700005], [-2.660871617999931, 51.82275403500006], [-2.650097487999972, 51.82412506400004], [-2.650228438999932, 51.82614615700004], [-2.635970002999954, 51.83991192700006], [-2.636710261999951, 51.84309574000008], [-2.625466336999978, 51.838964428000054], [-2.62159341499995, 51.84332468200006], [-2.609434277999981, 51.84679695700004], [-2.601216578999924, 51.85621621300004], [-2.582817051999939, 51.84957735100005], [-2.578805903999978, 51.85320999500004], [-2.585218803999965, 51.859930458000065], [-2.580729424999959, 51.861652080000056], [-2.561657618999959, 51.864292281000075], [-2.543901605999963, 51.86023206100003], [-2.531623930999956, 51.86077127300007], [-2.522233318999952, 51.86469606300005], [-2.508624243999975, 51.88516906700005], [-2.501947405999942, 51.88625329700005], [-2.50110802599994, 51.881899590000046], [-2.494655986999931, 51.884239742000034], [-2.493861587999959, 51.880002981000075], [-2.487794723999968, 51.880417590000036], [-2.486728649999975, 51.88471553900007], [-2.47340814599994, 51.88555358600007], [-2.46651800199993, 51.89256407600004], [-2.446009520999951, 51.89399457500008], [-2.439357943999937, 51.89739575900006], [-2.445388610999942, 51.90055586600005], [-2.440154336999967, 51.902442473000065], [-2.448184435999963, 51.91866855500007], [-2.455022773999929, 51.91934722600007], [-2.46604259999998, 51.92797416500008], [-2.465487528999972, 51.95169636400004], [-2.473728694999977, 51.95653872100007], [-2.486107149999953, 51.957420425000066], [-2.490187556999956, 51.95497959800008], [-2.500906663999956, 51.960608781000076], [-2.499030085999948, 51.96371805100006], [-2.492244414999959, 51.96412848800003], [-2.494912527999929, 51.98107545600004], [-2.48863764999993, 51.98740802300006], [-2.470992777999925, 51.99473601200003], [-2.477664475999973, 52.00015078600006], [-2.485496719999958, 52.00033226000005], [-2.491984455999955, 52.00766180100004], [-2.479364062999935, 52.01707730600003], [-2.478932235999935, 52.022530377000066], [-2.464068282999961, 52.023268259000076], [-2.463255472999947, 52.01434030200005], [-2.436594115999981, 52.01481432200006], [-2.43363713399998, 52.00787937800004], [-2.437293845999932, 51.997166994000054], [-2.413177279999957, 51.99409256700005], [-2.39901832399994, 51.99614591900007], [-2.392891820999978, 52.01295882900007], [-2.386982791999969, 52.01216651300007], [-2.351378565999937, 52.02135900700006], [-2.352542615999937, 52.01353532600007], [-2.34049314799995, 52.00674046300003], [-2.329423205999944, 52.00682856600008], [-2.324709853999934, 52.003567212000064], [-2.320656766999946, 51.992128388000026], [-2.326565192999965, 51.975810695000064], [-2.312619469999959, 51.97650494000004], [-2.309465355999976, 51.97064668400003], [-2.300432846999968, 51.96677520500003], [-2.282208956999966, 51.970716132000064], [-2.25135998199994, 51.96656506000005], [-2.220613397999955, 51.99549660900004], [-2.202886122999928, 51.99636302400006], [-2.185084210999946, 51.990560763000076], [-2.179425789999925, 51.99484752600006], [-2.180748490999974, 51.999615145000064], [-2.171422283999959, 51.99475792800007], [-2.164915375999954, 51.99595951100008], [-2.164723454999944, 52.00419537500005], [-2.18406573599998, 52.01390115000004], [-2.187683193999931, 52.019080159000055], [-2.176883030999932, 52.022616665000044], [-2.180451242999936, 52.042262453000035], [-2.16203631999997, 52.05056721600005], [-2.142281227999945, 52.04568833700006], [-2.133231167999952, 52.04623109900007], [-2.118383793999953, 52.04210860000006], [-2.11608967799998, 52.03786992200003], [-2.117922627999974, 52.03307152700006], [-2.140039636999973, 52.027271635000034], [-2.150733102999936, 52.00661338700007], [-2.139063743999941, 52.003949850000026], [-2.140687153999977, 51.999464336000074], [-2.135217421999926, 51.999703], [-2.13073836999996, 52.00643992000005], [-2.112140944999965, 52.01534755000006], [-2.084873146999939, 52.01047837300007], [-2.06077204099995, 52.01467873000007], [-2.059293521999962, 52.009473839000066], [-2.048683191999942, 52.00711509200005], [-2.049514009999939, 52.003796229000045], [-2.038356018999934, 52.00460057400005], [-2.038252345999979, 52.00956295000003], [-2.027000133999934, 52.01059962000005], [-2.029271584999947, 52.012839719000056], [-2.023667406999948, 52.016947979000065], [-1.998565281999959, 52.02966759900005], [-1.995189487999937, 52.026563030000034], [-1.984135769999966, 52.03587933000006], [-1.951387542999953, 52.03772524000004], [-1.947520940999937, 52.03189492700005], [-1.931729943999926, 52.02995938500004], [-1.927044603999946, 52.03666091500003], [-1.922157293999931, 52.035615018000044], [-1.91344602099997, 52.044461280000064], [-1.86226894899994, 52.01748528500008], [-1.861543489999974, 52.01262767900005], [-1.83905079799996, 52.00678342900005], [-1.835308904999977, 52.00916241400006], [-1.835659419999956, 52.02250237800007], [-1.825022926999964, 52.03093347500004], [-1.830560572999957, 52.03213901500004], [-1.829751237999972, 52.039071602000035], [-1.834588863999954, 52.04373304300003], [-1.863449264999929, 52.05341761600005], [-1.862877672999957, 52.06343189800003], [-1.864988314999948, 52.06627821600006], [-1.87168238199996, 52.06542617200006], [-1.874406200999942, 52.069990923000034], [-1.868734153999981, 52.073917427000026], [-1.853238230999978, 52.07241301400006], [-1.846619634999968, 52.079421119000074], [-1.831752908999931, 52.07276952900003], [-1.818943371999978, 52.08540440500008], [-1.812736812999958, 52.07874398900003], [-1.802288916999942, 52.09694149200004], [-1.790135072999931, 52.10059150200004], [-1.789417259999937, 52.10637487500003], [-1.767648769999937, 52.112592558000074], [-1.746022595999932, 52.09295996800006]]], [[[-6.276003847999959, 49.92107157200007], [-6.287829019999947, 49.91002215600008], [-6.303003856999965, 49.91153326400007], [-6.303955070999962, 49.90304106900004], [-6.304115545999935, 49.90315563200005], [-6.31287819399995, 49.91323906900004], [-6.313284540999973, 49.91301593500003], [-6.317100787999948, 49.91084264300008], [-6.322545290999926, 49.90775219100004], [-6.32764388399994, 49.91257474400004], [-6.309094228999925, 49.91661846100004], [-6.313856746999932, 49.927538748000075], [-6.311017356999969, 49.92917324600006], [-6.297774669999967, 49.936794055000064], [-6.288646853999978, 49.93333609600006], [-6.277389733999939, 49.92906977500007], [-6.276775704999977, 49.92883701100004], [-6.276003847999959, 49.92107157200007]]], [[[-4.653237573999945, 51.162321932000054], [-4.670931178999979, 51.15847275600004], [-4.677608068999973, 51.16813601100006], [-4.680568369999946, 51.17245095900006], [-4.678196664999973, 51.17885285600005], [-4.673293869999952, 51.18019400900005], [-4.677519346999929, 51.185343200000034], [-4.674083664999955, 51.185509635000074], [-4.677353057999937, 51.189236710000046], [-4.674527234999971, 51.19029212700008], [-4.678389151999966, 51.19313923000004], [-4.677650482999979, 51.200143995000076], [-4.677043447999949, 51.201877040000056], [-4.661127303999933, 51.175439604000076], [-4.660568944999966, 51.16645020000004], [-4.654377047999958, 51.16421696500004], [-4.653237573999945, 51.162321932000054]]], [[[-6.279708700999947, 49.95745329300007], [-6.284316941999975, 49.95608905900008], [-6.290569908999942, 49.95853504300004], [-6.295973813999979, 49.960651376000044], [-6.302365712999972, 49.96315406200006], [-6.304307602999927, 49.96391426500003], [-6.299198517999969, 49.97068503600008], [-6.295413702999952, 49.97579567000008], [-6.293723450999948, 49.97805299500004], [-6.292276158999925, 49.97998566000007], [-6.290931133999948, 49.974719985000036], [-6.289285873999972, 49.96827706600004], [-6.288748525999949, 49.96617237100003], [-6.285408136999934, 49.965763526000046], [-6.276926027999934, 49.964724895000074], [-6.261576812999976, 49.96284369300008], [-6.275766356999952, 49.958625641000026], [-6.279708700999947, 49.95745329300007]]], [[[-6.320834208999941, 49.95154111900007], [-6.332294707999949, 49.93917445400007], [-6.34078025499997, 49.95427674700005], [-6.342502158999935, 49.957340008000074], [-6.348233160999939, 49.96753202800005], [-6.347988111999939, 49.967684457000075], [-6.31917903599998, 49.953326565000054], [-6.320834208999941, 49.95154111900007]]], [[[-6.327956996999944, 49.894510221000075], [-6.329296150999937, 49.88871707900006], [-6.33833747999995, 49.89341286000007], [-6.34133110199997, 49.88237586400004], [-6.351462796999954, 49.88746009000005], [-6.351754650999965, 49.88760651700005], [-6.353564281999979, 49.88930697500007], [-6.35417737299997, 49.890781006000054], [-6.357087773999979, 49.897777047000034], [-6.350934709999933, 49.898251249000054], [-6.349591640999961, 49.89835044000006], [-6.338410959999976, 49.896493692000035], [-6.328200253999967, 49.894668255000056], [-6.327956996999944, 49.894510221000075]]], [[[-1.956764264999947, 50.688219434000075], [-1.983545738999965, 50.68707492100003], [-1.988088473999937, 50.69245328200003], [-1.974168873999929, 50.69722772400007], [-1.958155444999932, 50.69493042300007], [-1.956764264999947, 50.688219434000075]]], [[[-6.34807363699997, 49.955652634000046], [-6.352299848999962, 49.94454735200003], [-6.359653273999925, 49.948621477000074], [-6.362687430999927, 49.950302184000066], [-6.365043753999942, 49.95160728500008], [-6.363948253999979, 49.95427802200004], [-6.362306128999933, 49.958140756000034], [-6.360391369999945, 49.96294744200003], [-6.358893945999966, 49.96659632600006], [-6.355468064999968, 49.963543479000066], [-6.34807363699997, 49.955652634000046]]]], &quot;type&quot;: &quot;MultiPolygon&quot;}, &quot;properties&quot;: {&quot;CreationDate&quot;: &quot;2022-04-01T08:52:11Z&quot;, &quot;Creator&quot;: &quot;hsc_map_england&quot;, &quot;EditDate&quot;: &quot;2022-04-01T08:52:11Z&quot;, &quot;Editor&quot;: &quot;hsc_map_england&quot;, &quot;FID&quot;: 3, &quot;GlobalID&quot;: &quot;{AC05228E-25F8-4434-8747-4DE400E72808}&quot;, &quot;Notes&quot;: null, &quot;SHAPE_Area&quot;: 3.0783422516601835, &quot;SHAPE_Length&quot;: 19.82448239921256, &quot;bng_e&quot;: 285015, &quot;bng_n&quot;: 102567, &quot;lat&quot;: 50.811192, &quot;long&quot;: -3.63343, &quot;nhser19cd&quot;: &quot;E40000006&quot;, &quot;nhser19nm&quot;: &quot;South West&quot;, &quot;objectid&quot;: 3, &quot;st_areasha&quot;: 24026240845.372875, &quot;st_lengths&quot;: 1676792.3307430902}, &quot;type&quot;: &quot;Feature&quot;}, {&quot;geometry&quot;: {&quot;coordinates&quot;: [[[[0.977626595000061, 52.97989176400006], [1.124616670000023, 52.95126543900005], [1.272291315000075, 52.93585716700005], [1.301066483000056, 52.93283205100005], [1.360932124000044, 52.90985656300006], [1.428712193000024, 52.88377778700004], [1.442358912000032, 52.87670533800008], [1.58671256100007, 52.80165948300004], [1.675150264000024, 52.74264750700007], [1.675367682000058, 52.74246239400003], [1.699453358000028, 52.719907602000035], [1.737039190000075, 52.647323322000034], [1.739864136000051, 52.57305390700003], [1.730069060000062, 52.58199353500004], [1.732506436000051, 52.57206389700008], [1.738654784000062, 52.57197584600004], [1.731794286000024, 52.564714268000046], [1.733864141000026, 52.55692968100004], [1.732843621000029, 52.556880955000054], [1.735970138000027, 52.549006589000044], [1.738691423000034, 52.538764883000056], [1.740460580000047, 52.53210424700006], [1.76357119000005, 52.48163506700007], [1.757644887000026, 52.47692769300005], [1.756198262000055, 52.47155326200004], [1.753224773000056, 52.46827450400008], [1.752096678000044, 52.46769148200008], [1.750292840000043, 52.46504100100003], [1.73481632000005, 52.44801433500004], [1.734731963000058, 52.44787011400007], [1.734256506000065, 52.44734521400005], [1.733809737000058, 52.44396395600006], [1.729321685000059, 52.40996215400003], [1.727824661000056, 52.39860549700006], [1.71884452200004, 52.384004090000076], [1.683769849000043, 52.326870119000034], [1.67552678200002, 52.313418753000064], [1.667686039000046, 52.31177130400005], [1.667189529000041, 52.311666959000036], [1.664456947000076, 52.30882859900004], [1.634525507000035, 52.27770938400005], [1.632915848000039, 52.27603436800007], [1.622466540000062, 52.18672686100007], [1.621947702000057, 52.18555890600004], [1.591075029000024, 52.11594328900003], [1.580102844000066, 52.09114532800004], [1.499791311000024, 52.061262406000026], [1.486281142000053, 52.05622583300004], [1.49983364000002, 52.06180400300008], [1.542121529000042, 52.079190047000054], [1.517956667000021, 52.07587368000003], [1.51051560600007, 52.06956212500006], [1.501318026000035, 52.07068503000005], [1.500484954000058, 52.070133499000065], [1.462277697000047, 52.044817213000044], [1.450921600000072, 52.03009665900004], [1.431963927000027, 52.00570989300007], [1.394207996000034, 51.98725354800007], [1.388536313000031, 51.999397008000074], [1.361575750000043, 52.00619190300006], [1.391467058000046, 51.989324948000046], [1.388767502000064, 51.979339425000035], [1.386116766000043, 51.97798530800003], [1.344921726000052, 51.95692305700004], [1.319048133000024, 51.932388538000055], [1.315896433000034, 51.95119425100006], [1.282570356000065, 51.96606183600005], [1.28041975900004, 51.99308532800006], [1.215448792000075, 52.00651436000004], [1.204356498000038, 52.01109793300003], [1.194730987000071, 52.015073812000026], [1.177185075000068, 52.02231747800005], [1.160214111000073, 52.030697461000045], [1.153509952000036, 52.03400634600007], [1.170904806000067, 52.01571762300006], [1.172363799000038, 52.01418288000008], [1.203576426000041, 52.000190658000065], [1.211532398000031, 51.996621411000035], [1.267389189000028, 51.98782895100004], [1.275836520000041, 51.95652942400005], [1.242976913000064, 51.96141360000007], [1.219657378000022, 51.952863904000026], [1.200323387000026, 51.95459608600004], [1.187335283000039, 51.95575783600003], [1.16354272600006, 51.97052515400003], [1.130418067000051, 51.95355590100007], [1.086132121000048, 51.958933125000044], [1.066050865000022, 51.94899545100003], [1.058813607000047, 51.955931046000046], [1.063638808000064, 51.94845659500004], [1.055728435000049, 51.95215410600008], [1.053919700000051, 51.95299939600005], [1.061876799000061, 51.94594551400007], [1.119438528000046, 51.940039813000055], [1.170289020000041, 51.94800580500004], [1.187399761000052, 51.94074934400004], [1.199449898000069, 51.94233415300005], [1.219096271000069, 51.944915019000064], [1.227412952000066, 51.939474088000054], [1.245512846000054, 51.948164260000055], [1.246859909000023, 51.94829864700006], [1.277219384000034, 51.93931791700004], [1.291700185000025, 51.94934304800006], [1.296621802000061, 51.935580310000034], [1.284668723000038, 51.93667350700008], [1.253420521000066, 51.917869222000036], [1.246627782000076, 51.891310161000035], [1.231648413000073, 51.88742619800007], [1.226012406000052, 51.90374028700006], [1.212076310000043, 51.89657913900004], [1.228309118000027, 51.890538262000064], [1.212516548000053, 51.89038441400004], [1.199016333000031, 51.88478748700004], [1.209786436000059, 51.87849465900007], [1.194674054000075, 51.87512445800007], [1.178206998000064, 51.871449332000054], [1.19439138000007, 51.87113715600003], [1.20778053500004, 51.87087720000005], [1.224424188000057, 51.880581075000066], [1.21275752400004, 51.86994891100005], [1.228494302000058, 51.87260824800006], [1.232407767000041, 51.85507406800008], [1.237152836000064, 51.86197162500008], [1.249293720000026, 51.86230676000008], [1.249925179000059, 51.85611373100005], [1.252553798000065, 51.86375909900005], [1.269971911000027, 51.86365719600008], [1.267788633000066, 51.87709898800006], [1.29058993700005, 51.87297338700006], [1.287234505000072, 51.85927199200006], [1.24913142500003, 51.83369700900005], [1.204824361000021, 51.80390462200006], [1.18922821600006, 51.798166190000074], [1.181532902000072, 51.79533346300008], [1.127495408000073, 51.77668220600003], [1.05500672300002, 51.76957360700004], [1.043376316000035, 51.76970815100003], [1.029243840000049, 51.78869111100005], [1.03624306100005, 51.782645383000045], [1.037624139000059, 51.79001456800006], [1.017750238000076, 51.80128522700005], [1.049395359000073, 51.80140578000004], [1.063025200000027, 51.810941280000065], [1.067797193000047, 51.82108732300003], [1.058618691000049, 51.811273021000034], [1.026166989000046, 51.80461608100006], [0.994185512000058, 51.81594901700004], [0.983827873000052, 51.82839031200007], [0.991490192000072, 51.83840470400003], [0.98692963000002, 51.84065236600003], [0.980295615000045, 51.84392121700006], [0.980532766000067, 51.84081473600003], [0.982322645000067, 51.81735872200005], [0.952979581000022, 51.82431154600005], [0.981848747000072, 51.81197295000004], [0.929700246000039, 51.807828321000045], [0.937152458000071, 51.805859774000055], [0.907323579000035, 51.79921502000008], [0.898484598000039, 51.78841379600004], [0.889912502000072, 51.77793299600006], [0.865036014000054, 51.78427154500008], [0.867291004000037, 51.78290211600006], [0.894608811000069, 51.76630242400006], [0.860358560000066, 51.76885270500003], [0.857433248000063, 51.77500009500005], [0.842443021000065, 51.77290915000003], [0.882708038000033, 51.757681098000035], [0.856248301000051, 51.74380134100005], [0.847764320000067, 51.74030362000008], [0.813690923000024, 51.73852189100006], [0.792287590000058, 51.74516359000006], [0.788632321000023, 51.73665330400007], [0.776743356000054, 51.743983273000026], [0.735922824000056, 51.729417743000056], [0.71344649200006, 51.73759976600007], [0.705450831000064, 51.72385303500005], [0.68696800400005, 51.73108544000007], [0.711207720000061, 51.71348637600005], [0.769185518000029, 51.708359243000075], [0.737834658000054, 51.68720439800006], [0.756936726000049, 51.69072639600006], [0.766957965000074, 51.702744755000026], [0.795624585000041, 51.70814855000003], [0.793478912000069, 51.71807837000006], [0.819724651000058, 51.72108118700004], [0.837023191000071, 51.71575733200007], [0.868682660000047, 51.72230577200003], [0.894084616000043, 51.74300029600005], [0.895588312000029, 51.743196229000034], [0.929351164000025, 51.74759005400006], [0.950578970000038, 51.73077873700004], [0.939342427000042, 51.66197130000006], [0.934586257000035, 51.63277507600003], [0.910907955000027, 51.62467400700007], [0.90433153500004, 51.62242260900007], [0.901003962000061, 51.62233640900007], [0.887863111000058, 51.621995052000045], [0.859078181000029, 51.62124215400007], [0.794569526000032, 51.62554180500007], [0.765755080000019, 51.63794997700006], [0.766517484000076, 51.63739233500007], [0.771405630000061, 51.633816583000055], [0.784418833000075, 51.62429637500003], [0.865747040000031, 51.61556981100006], [0.86613812500002, 51.599216341000044], [0.820139598000026, 51.59899796600007], [0.806099226000072, 51.60896797100003], [0.819085880000046, 51.59758427000003], [0.776154758000075, 51.58334784600004], [0.805932493000057, 51.586122008000075], [0.793474657000047, 51.57633440700005], [0.808062449000033, 51.57873200800003], [0.817822952000029, 51.561996744000055], [0.850680729000032, 51.556320105000054], [0.821187821000024, 51.54062871700006], [0.782721016000039, 51.521250578000036], [0.670165223000026, 51.53834386300008], [0.643059566000034, 51.54108763700003], [0.627203425000062, 51.538038838000034], [0.625507749000064, 51.53775593900008], [0.610351483000045, 51.535226083000055], [0.594112348000067, 51.538206297000045], [0.56071481500004, 51.54432711800007], [0.593733168000028, 51.531542339000055], [0.598785229000043, 51.529584767000074], [0.631588925000074, 51.525240573000076], [0.618845492000048, 51.51984729000003], [0.636880210000072, 51.521971214000075], [0.59263020100002, 51.51212867100003], [0.573330418000069, 51.50782899300003], [0.553567186000066, 51.50993553200004], [0.54854904900003, 51.513827295000056], [0.543516555000053, 51.51772932700004], [0.539864514000044, 51.520560457000045], [0.528761486000064, 51.51829200800006], [0.517361511000047, 51.52982683100004], [0.522193879000042, 51.51596648200007], [0.541334905000042, 51.512613325000075], [0.508165292000058, 51.50519614400008], [0.455596748000062, 51.50684359100006], [0.445602651000058, 51.49817942100003], [0.444188671000063, 51.49345544000005], [0.438320869000052, 51.47384095100006], [0.430411365000055, 51.459289256000034], [0.404913223000051, 51.453929198000026], [0.340845315000024, 51.452327738000065], [0.318544569000039, 51.47412912400006], [0.302379814000062, 51.47261178600007], [0.29780622800007, 51.47218206100007], [0.281402126000046, 51.461398460000055], [0.211787909000066, 51.48974140900003], [0.214157298000032, 51.496040125000036], [0.229965660000062, 51.49936594300004], [0.226597242000025, 51.50656238500005], [0.242019589000051, 51.507966269000065], [0.237175887000035, 51.51933463700004], [0.244905435000021, 51.51875917500007], [0.240694713000039, 51.52195583900004], [0.248965144000067, 51.52867418300008], [0.253834581000035, 51.51788643700007], [0.263682397000025, 51.51786932600004], [0.265347145000021, 51.53215013700003], [0.297755494000057, 51.53531861400006], [0.300722808000046, 51.53875600100008], [0.33402409100006, 51.540503683000054], [0.327815465000072, 51.550993918000074], [0.315250598000034, 51.55788856200007], [0.313035218000039, 51.565818154000056], [0.290289908000034, 51.56429940900006], [0.286752804000059, 51.57346386800003], [0.271288417000051, 51.58903030700003], [0.26987796700007, 51.59957389600004], [0.254009120000035, 51.601598212000056], [0.264561739000044, 51.60832063400005], [0.252194294000049, 51.61776943000007], [0.224087361000045, 51.63173732100006], [0.200311172000056, 51.62493583200006], [0.181237295000074, 51.625826163000056], [0.168901257000073, 51.62142016100006], [0.138184283000044, 51.62354496100005], [0.119307187000061, 51.61536849100003], [0.092284925000058, 51.61357428100007], [0.09482489100003, 51.61078411700004], [0.088922328000024, 51.60485356000004], [0.079169811000043, 51.60704739800008], [0.072832267000024, 51.60468744700006], [0.048214514000051, 51.61321365200007], [0.053709816000037, 51.61828078900004], [0.040902063000033, 51.61567598600004], [0.021819184000037, 51.62883278700008], [0.025738362000027, 51.63456546500004], [0.022719672000051, 51.64111544500008], [0.00142562700006, 51.64167858300004], [-0.012258997999936, 51.64623110000008], [-0.00892264099997, 51.66040080800008], [-0.011918499999979, 51.680877863000035], [-0.049181031999979, 51.684271866000074], [-0.062017829999945, 51.68300783400008], [-0.083910971999956, 51.689964803000066], [-0.10484878099993, 51.69185056600003], [-0.149370295999972, 51.685518082000044], [-0.163493488999961, 51.68811511400003], [-0.163607824999929, 51.682403116000046], [-0.17157504599993, 51.67402078500004], [-0.182085054999959, 51.668604162000065], [-0.191007730999956, 51.66394832100008], [-0.196648885999934, 51.66549805100004], [-0.194852757999968, 51.668305306000036], [-0.203352722999966, 51.67012609300008], [-0.202229747999979, 51.66780517400008], [-0.211134673999936, 51.66695453700004], [-0.207864401999927, 51.66286082900007], [-0.212167362999935, 51.66133689600008], [-0.226462544999947, 51.65716186700007], [-0.228919129999952, 51.65997502300007], [-0.250582544999929, 51.65605731200003], [-0.257332869999971, 51.641831911000054], [-0.263205041999925, 51.644812761000026], [-0.272824263999951, 51.642064540000035], [-0.273713724999936, 51.63867397100006], [-0.304458959999977, 51.63635084500004], [-0.316673331999937, 51.64053541900006], [-0.338283839999974, 51.629472589000045], [-0.359768111999927, 51.62523845700008], [-0.375839550999956, 51.61818782600005], [-0.404050084999938, 51.613183950000064], [-0.440504038999961, 51.62008773400004], [-0.457130587999927, 51.612293917000045], [-0.496846264999931, 51.63173308800003], [-0.500308113999949, 51.628805440000065], [-0.500154676999955, 51.62206768400006], [-0.495388798999954, 51.618793036000056], [-0.499231556999973, 51.60892808800003], [-0.496306502999971, 51.60242985200006], [-0.500596102999964, 51.59969021900008], [-0.520594997999979, 51.60184362100006], [-0.530059318999974, 51.61715117800003], [-0.534130523999977, 51.637150864000034], [-0.539260766999973, 51.638039727000034], [-0.530927634999955, 51.649133472000074], [-0.536665919999962, 51.65236952500004], [-0.536891632999925, 51.660624495000036], [-0.532625936999978, 51.663007159000074], [-0.522777694999945, 51.65839760400007], [-0.520994516999963, 51.66804528400007], [-0.514718220999953, 51.665453280000065], [-0.505107985999928, 51.67307687300007], [-0.511145078999959, 51.67989587300008], [-0.52493411699993, 51.67872096500008], [-0.524272915999973, 51.68211264300004], [-0.538889222999956, 51.67983420500008], [-0.54869601799993, 51.682671267000046], [-0.544017566999969, 51.696816872000056], [-0.547668103999968, 51.70318141400003], [-0.563209774999962, 51.71187981600008], [-0.56130247599998, 51.718018733000065], [-0.55041360599995, 51.723042898000074], [-0.553596563999974, 51.72841075000008], [-0.550082996999947, 51.73057502100005], [-0.553720127999952, 51.73406476800005], [-0.560649616999967, 51.73408507400006], [-0.559236898999927, 51.73732470900006], [-0.565387066999961, 51.73642157000006], [-0.563699941999971, 51.73961731700007], [-0.570207171999925, 51.73585253400006], [-0.575012461999961, 51.737044714000035], [-0.58637982099998, 51.75211596500003], [-0.612935972999935, 51.747427222000056], [-0.617285931999959, 51.752649656000074], [-0.643249373999936, 51.75396831100005], [-0.669663439999965, 51.76616007400003], [-0.675999164999951, 51.77125705900005], [-0.68149982999995, 51.78805908900006], [-0.690186172999972, 51.79233001000006], [-0.682190101999936, 51.79458421600003], [-0.685394222999946, 51.800185869000074], [-0.709282722999944, 51.82053371000006], [-0.719216955999968, 51.81613792200005], [-0.723653628999955, 51.81777306600003], [-0.745248372999924, 51.83837652200003], [-0.745677647999969, 51.84209358500004], [-0.736408642999947, 51.842377310000074], [-0.731187792999947, 51.84897048800008], [-0.722622569999942, 51.85000573500008], [-0.72025377999995, 51.856146041000045], [-0.710456612999963, 51.85779751000007], [-0.707090755999957, 51.85441659800006], [-0.696373419999929, 51.85813598200008], [-0.686767725999971, 51.84924026700003], [-0.695444873999975, 51.841103719000046], [-0.687053713999944, 51.83911530100005], [-0.667200507999951, 51.815807032000066], [-0.647784118999937, 51.81360784900005], [-0.63295263599997, 51.819942781000066], [-0.611869371999944, 51.81204478500007], [-0.594832207999957, 51.81402297200003], [-0.591640479999967, 51.808131580000065], [-0.581825579999929, 51.80690541000007], [-0.575157468999976, 51.81881899700005], [-0.567144585999927, 51.81980517000005], [-0.560775222999951, 51.82637984300004], [-0.558348378999938, 51.824787893000064], [-0.560656144999939, 51.830082669000035], [-0.557149802999959, 51.83096896300003], [-0.55362867499997, 51.826712701000076], [-0.548992232999979, 51.82798605800008], [-0.543650578999973, 51.824517797000055], [-0.537628251999934, 51.83141087100006], [-0.564466050999954, 51.84742783100006], [-0.566809238999952, 51.850813524000046], [-0.563679929999978, 51.85123941900008], [-0.568718409999974, 51.85140139900005], [-0.571433807999938, 51.85502620800003], [-0.56924812699998, 51.85807046000008], [-0.583563470999934, 51.87032375500007], [-0.60897053399998, 51.87556404400004], [-0.620089027999938, 51.88548547600004], [-0.628424439999947, 51.88212032100006], [-0.651980197999933, 51.88679048200004], [-0.67296915299994, 51.901752671000054], [-0.692702826999948, 51.90015020000004], [-0.702156653999964, 51.90911910400007], [-0.74137813599998, 51.92838809400007], [-0.754738716999952, 51.939772565000055], [-0.750832357999968, 51.942305443000066], [-0.758785601999932, 51.94587587500007], [-0.785099027999934, 51.94214446400008], [-0.797680894999928, 51.949634358000026], [-0.79658613099997, 51.94492098200004], [-0.803921127999956, 51.94247779700004], [-0.795183956999949, 51.930554279000035], [-0.800276820999954, 51.92992375600005], [-0.811730732999933, 51.93139399900008], [-0.82056743399994, 51.94160074000007], [-0.833422979999966, 51.94695010100003], [-0.833068798999932, 51.955928097000026], [-0.837572381999962, 51.95724899500004], [-0.817494261999968, 51.96723778200004], [-0.820554054999945, 51.97335209700003], [-0.803504317999966, 51.985503652000034], [-0.807789179999929, 51.99991818700005], [-0.81224320299998, 52.00601568400003], [-0.819223927999928, 52.00704437700006], [-0.819817149999949, 52.01228572800005], [-0.844877555999972, 52.02268178600008], [-0.866951706999942, 52.040098484000055], [-0.871325790999947, 52.04025177700004], [-0.867733959999953, 52.04622094700005], [-0.859422823999978, 52.044602190000035], [-0.852446743999963, 52.05070520000004], [-0.86040282099998, 52.054525427000044], [-0.862678591999952, 52.06093402500005], [-0.857358639999973, 52.06409057600007], [-0.839500159999943, 52.06382756000005], [-0.831418075999977, 52.07194703300007], [-0.846712588999935, 52.09150873800007], [-0.854779056999973, 52.092354346000036], [-0.857943173999956, 52.09751847300004], [-0.869530249999968, 52.10003781900008], [-0.865270005999946, 52.10293749300007], [-0.87145032899997, 52.111753443000055], [-0.88701545899994, 52.11420954300007], [-0.880682842999931, 52.12019063200006], [-0.880703205999964, 52.126338229000055], [-0.869000242999959, 52.13062006100006], [-0.832054852999931, 52.13125880100006], [-0.828204869999979, 52.13261056600004], [-0.831966593999937, 52.143683450000026], [-0.81404135899993, 52.14247232200006], [-0.807588082999928, 52.15697901300007], [-0.801956644999962, 52.15867872900003], [-0.792091128999971, 52.15132945600004], [-0.77787812899993, 52.16877087900008], [-0.765331495999931, 52.17109922900005], [-0.761890176999941, 52.16348069600008], [-0.75719096499995, 52.16732897000003], [-0.749734760999957, 52.166876785000056], [-0.738949652999963, 52.17117753600007], [-0.729260287999978, 52.179473235000046], [-0.701671491999946, 52.193308460000026], [-0.684653641999944, 52.196336157000076], [-0.66813590299995, 52.195034030000045], [-0.661460463999958, 52.208125901000074], [-0.63733179299993, 52.22731763000007], [-0.653655657999934, 52.268289390000064], [-0.639908375999937, 52.27244193400003], [-0.631412435999948, 52.27004775700004], [-0.624818668999978, 52.27564866600005], [-0.603249971999958, 52.27874571800004], [-0.586328305999928, 52.27291391000006], [-0.588110868999934, 52.27077847100003], [-0.565693066999927, 52.25346843500006], [-0.554737888999966, 52.25817983700006], [-0.541972248999969, 52.25607270200004], [-0.539324995999948, 52.26609468400005], [-0.531190075999973, 52.27040236400006], [-0.534002818999966, 52.28119096700004], [-0.541969092999977, 52.289942376000056], [-0.514051000999928, 52.31469705400008], [-0.51982989499993, 52.317692513000054], [-0.487140108999938, 52.32108280600005], [-0.476261607999959, 52.31806358000006], [-0.465365653999925, 52.32295327500003], [-0.466656530999956, 52.33892760500004], [-0.483263889999932, 52.34090342500008], [-0.477682216999938, 52.348920116000045], [-0.49869984299994, 52.36009616500007], [-0.499486856999965, 52.36699296100005], [-0.488518732999978, 52.37402356700005], [-0.501785650999977, 52.38358264900006], [-0.493889423999974, 52.38737180500004], [-0.492832266999926, 52.39386052300006], [-0.518163499999957, 52.39809169100005], [-0.51594605899993, 52.407358842000065], [-0.533554909999964, 52.40889916000003], [-0.523034003999953, 52.415885555000045], [-0.500647164999975, 52.42048768600006], [-0.501904439999976, 52.426945630000034], [-0.51868077599994, 52.429313844000035], [-0.518877445999976, 52.43647477400003], [-0.514264131999937, 52.438402213000074], [-0.503956638999966, 52.436588218000054], [-0.493443285999945, 52.44169764600008], [-0.47045865299998, 52.46371178900006], [-0.471907846999954, 52.46671015100003], [-0.480671488999974, 52.47218150500004], [-0.498502901999927, 52.47052916700005], [-0.509351558999924, 52.47438204900004], [-0.514162166999938, 52.47235665900007], [-0.518885704999946, 52.473967909000066], [-0.515087127999948, 52.48135291700004], [-0.524360169999966, 52.478793292000034], [-0.527321580999967, 52.48094836300004], [-0.523108152999953, 52.47946720900006], [-0.515222256999948, 52.488326148000056], [-0.507033446999969, 52.49119184700004], [-0.499556198999926, 52.490562383000054], [-0.499567471999967, 52.49438640200003], [-0.512366363999945, 52.49823332700004], [-0.522173469999927, 52.49659845600007], [-0.546760482999957, 52.51323378400008], [-0.569914322999978, 52.50958206200005], [-0.577729243999954, 52.50252157700004], [-0.596387450999941, 52.49694447200005], [-0.608129265999935, 52.50619613300006], [-0.60857797999995, 52.50929703500003], [-0.597683094999979, 52.51166503200005], [-0.605569375999949, 52.51427478700003], [-0.629673109999942, 52.51127474400005], [-0.63601744999994, 52.515913338000075], [-0.672133831999929, 52.506944849000035], [-0.674667823999926, 52.51322175800004], [-0.665337595999972, 52.51796831100006], [-0.649374492999925, 52.51892101900006], [-0.635842867999941, 52.52389252000006], [-0.643134028999953, 52.53635730700006], [-0.669461300999956, 52.54491392500006], [-0.665579737999963, 52.55225241800008], [-0.674864129999946, 52.55863829500004], [-0.671287188999941, 52.56410604000007], [-0.660888473999933, 52.56892191700007], [-0.649376688999951, 52.57054279600004], [-0.64676099899998, 52.573791705000076], [-0.638082007999969, 52.571775503000026], [-0.603018909999946, 52.58859110600008], [-0.586972625999977, 52.58742889600006], [-0.581546903999936, 52.59586830100005], [-0.577955904999953, 52.58789804700007], [-0.571903500999952, 52.58580345300004], [-0.562286286999949, 52.586461102000044], [-0.558117764999963, 52.594483996000065], [-0.544173563999948, 52.592888361000064], [-0.542929478999952, 52.59568347900006], [-0.552938802999961, 52.60134893900005], [-0.54755918799998, 52.606956112000034], [-0.550131070999953, 52.61225067200007], [-0.539056883999933, 52.61787550000008], [-0.54026079099998, 52.62596580200005], [-0.523420096999928, 52.63509208900007], [-0.517397311999957, 52.64237946600008], [-0.495025581999926, 52.64023632700008], [-0.484320231999959, 52.646128959000066], [-0.475244872999951, 52.64505783100003], [-0.475831394999943, 52.648714753000036], [-0.453036127999951, 52.649245386000075], [-0.452694473999941, 52.65427770100007], [-0.431987033999974, 52.648267668000074], [-0.405681401999971, 52.64804623100008], [-0.393103031999942, 52.65410129600008], [-0.350222258999963, 52.66161480800008], [-0.336313508999979, 52.66856241100004], [-0.334984945999963, 52.67487069300006], [-0.289240446999941, 52.67027625400004], [-0.260628212999961, 52.651413364000064], [-0.224498250999943, 52.66546363600003], [-0.206037421999952, 52.66807329300008], [-0.192867710999963, 52.65243858000008], [-0.180020170999967, 52.660561021000035], [-0.141062125999952, 52.651507423000055], [-0.139501385999949, 52.65486182700005], [-0.102196012999968, 52.67220608100007], [-0.087752502999933, 52.666785995000055], [-0.074611191999963, 52.67207407800004], [-0.065445314999977, 52.671995853000055], [-0.063714008999966, 52.67523308300008], [-0.032504273999962, 52.665544354000076], [-0.031270320999965, 52.66153260600004], [0.020673403000046, 52.66472790900008], [0.048848260000057, 52.681770708000045], [0.044149345000051, 52.71438221300008], [0.063362036000058, 52.72727189400007], [0.089011690000063, 52.72363002000003], [0.098789035000038, 52.73034044900004], [0.11368507800006, 52.729990119000036], [0.132974708000063, 52.739304153000035], [0.170181297000056, 52.73989425000008], [0.171625856000048, 52.738031711000076], [0.186323617000028, 52.735348756000064], [0.233163126000022, 52.760265350000054], [0.272208569000043, 52.77280630400003], [0.245084708000036, 52.78452382200004], [0.251998115000049, 52.792563320000056], [0.260905381000043, 52.796056468000074], [0.253178250000076, 52.79735518900003], [0.262704527000039, 52.803607631000034], [0.268790663000061, 52.81582835200004], [0.331642243000033, 52.818006988000036], [0.338577493000059, 52.81511304700007], [0.338763717000063, 52.81503533000006], [0.351260210000021, 52.80981877700003], [0.366635715000029, 52.79111975400008], [0.370988272000034, 52.78388647700007], [0.374303288000021, 52.77837590900003], [0.37111569700005, 52.78622995600006], [0.367079088000025, 52.79617230500003], [0.357429020000041, 52.81171950700008], [0.372903765000046, 52.81907798600008], [0.444915922000064, 52.85326076000007], [0.445457944000054, 52.873901809000074], [0.480333797000071, 52.93151383500003], [0.490501165000069, 52.94827782800007], [0.541665955000042, 52.975869214000056], [0.56266643400005, 52.97659262900004], [0.571485149000068, 52.96790843400004], [0.586419009000053, 52.973172788000056], [0.604012, 52.967594], [0.589322046000063, 52.97675938200007], [0.617857088000051, 52.97363357900008], [0.616287628000066, 52.96851129300006], [0.61992125200004, 52.973775156000045], [0.674037487000021, 52.97615989800005], [0.667567381000026, 52.97015124500007], [0.679261147000034, 52.973554973000034], [0.695141898000031, 52.97817470400008], [0.708703961000026, 52.974094953000076], [0.731653442000038, 52.97224487100004], [0.737357999000039, 52.96432149300006], [0.757875479000063, 52.96934639400007], [0.761332908000043, 52.975825032000046], [0.751646967000056, 52.97713957800005], [0.781344989000047, 52.97668622200007], [0.813782607000064, 52.969817911000064], [0.813785481000025, 52.977384], [0.851728269000034, 52.97342022600003], [0.850992504000033, 52.957779423000034], [0.870476587000041, 52.95493259700004], [0.875247678000051, 52.96018861200008], [0.917779114000041, 52.96042841800005], [0.919698874000062, 52.96564643700003], [0.935391972000048, 52.95884164700004], [0.976467172000071, 52.96303265800003], [0.983985948000054, 52.963798172000054], [1.014507560000027, 52.962999667000076], [1.015370332000032, 52.95547965600008], [1.018594989000064, 52.96410550500008], [1.03576948400007, 52.96710680700005], [0.991192905000048, 52.976318287000026], [0.977268437000021, 52.97468295600004], [0.957814093000025, 52.97239537000007], [0.977626595000061, 52.97989176400006]]], [[[0.884470370000031, 51.568500544000074], [0.866370064000023, 51.55894084200003], [0.825779682000075, 51.564466682000045], [0.846459621000065, 51.58143299500006], [0.837997484000027, 51.593618965000076], [0.866825808000044, 51.59518636300004], [0.874374641000031, 51.61415086100004], [0.887428869000075, 51.615156840000054], [0.903791676000026, 51.61641568300007], [0.916962048000073, 51.61742720600006], [0.957516616000021, 51.620532308000065], [0.929866928000024, 51.592446368000026], [0.884470370000031, 51.568500544000074]]], [[[0.945791283000062, 51.77472581900008], [0.902246805000061, 51.77437220300004], [0.898098915000048, 51.77973065800006], [0.94277399300006, 51.80674623700003], [0.967656003000059, 51.808667627000034], [1.005846115000054, 51.79945688400005], [0.99661366700002, 51.79124549200003], [0.945791283000062, 51.77472581900008]]], [[[0.86992886500002, 52.95806841400008], [0.85240294700003, 52.958124131000034], [0.86746202300003, 52.97940650700008], [0.911242379000043, 52.96543829700005], [0.901060890000053, 52.96169014800006], [0.873120030000052, 52.96103674400007], [0.86992886500002, 52.95806841400008]]], [[[0.83749146200006, 51.58517682000007], [0.822949655000059, 51.564881968000066], [0.808066085000064, 51.58562667400008], [0.830143842000041, 51.59596627900004], [0.83749146200006, 51.58517682000007]]], [[[0.696166405000042, 52.98762097000008], [0.751091162000023, 52.97840329100006], [0.714497792000031, 52.97704981900006], [0.698375896000073, 52.98410167600008], [0.681327900000042, 52.97745860300006], [0.683502846000067, 52.98598744800006], [0.680030948000024, 52.98599445000008], [0.662257329000056, 52.98602874200003], [0.680084899000065, 52.986867043000075], [0.696166405000042, 52.98762097000008]]], [[[1.257035389000066, 51.883732242000065], [1.244557576000034, 51.86883798900004], [1.225911197000073, 51.87506713500005], [1.229424603000041, 51.881427795000036], [1.257035389000066, 51.883732242000065]]], [[[0.787745311000037, 51.722340056000064], [0.772328635000065, 51.71866128100004], [0.75450902800003, 51.72454505700006], [0.777960799000027, 51.72656778400005], [0.787745311000037, 51.722340056000064]]], [[[0.729067483000051, 51.71834762100008], [0.710461853000027, 51.71856436600007], [0.721897837000029, 51.73052509900003], [0.729067483000051, 51.71834762100008]]], [[[1.264548177000052, 51.87226997800008], [1.264700266000034, 51.86396200300004], [1.251413462000073, 51.87094660500003], [1.260115918000054, 51.87232186300008], [1.264548177000052, 51.87226997800008]]], [[[1.277790146000029, 51.87934441300007], [1.272092468000039, 51.87696728200007], [1.26369001200004, 51.886212760000035], [1.277790146000029, 51.87934441300007]]], [[[1.262214596000035, 51.88069421000006], [1.26353529000005, 51.87298976300008], [1.255112883000038, 51.87452838100006], [1.262214596000035, 51.88069421000006]]]], &quot;type&quot;: &quot;MultiPolygon&quot;}, &quot;properties&quot;: {&quot;CreationDate&quot;: &quot;2022-04-01T08:52:11Z&quot;, &quot;Creator&quot;: &quot;hsc_map_england&quot;, &quot;EditDate&quot;: &quot;2022-04-01T08:52:11Z&quot;, &quot;Editor&quot;: &quot;hsc_map_england&quot;, &quot;FID&quot;: 4, &quot;GlobalID&quot;: &quot;{EDAEC776-25D5-48D6-9B17-B1DBE2CCFF6C}&quot;, &quot;Notes&quot;: null, &quot;SHAPE_Area&quot;: 2.6078536876407146, &quot;SHAPE_Length&quot;: 14.190820274536918, &quot;bng_e&quot;: 565965, &quot;bng_n&quot;: 255838, &quot;lat&quot;: 52.17585, &quot;long&quot;: 0.425775, &quot;nhser19cd&quot;: &quot;E40000007&quot;, &quot;nhser19nm&quot;: &quot;East of England&quot;, &quot;objectid&quot;: 4, &quot;st_areasha&quot;: 19816936948.87772, &quot;st_lengths&quot;: 1150814.5918345805}, &quot;type&quot;: &quot;Feature&quot;}, {&quot;geometry&quot;: {&quot;coordinates&quot;: [[[[-0.300930324999968, 53.616388], [-0.298237150999967, 53.612561646000074], [-0.292115056999933, 53.61326741100004], [-0.290418186999943, 53.610631787000045], [-0.286960876999956, 53.61183189700006], [-0.283002814999975, 53.60449824900007], [-0.269704866999973, 53.598509524000065], [-0.259349142999952, 53.59696478300003], [-0.254493569999966, 53.592439590000026], [-0.248494047999941, 53.593633443000044], [-0.251395628999944, 53.58465315500007], [-0.239084435999928, 53.588179739000054], [-0.234658954999929, 53.58624359800007], [-0.22265030799997, 53.568034639000075], [-0.19518508799996, 53.57161904800006], [-0.189609170999972, 53.56625178100006], [-0.18749347399995, 53.56357434800003], [-0.219819247999965, 53.53261558100007], [-0.210589572999936, 53.53170679500005], [-0.213624081999967, 53.52635867600003], [-0.204086558999961, 53.51176738000004], [-0.210604929999931, 53.48628838900004], [-0.188565407999931, 53.484538100000066], [-0.181801854999946, 53.46871146700005], [-0.153709166999931, 53.46573398800007], [-0.158545643999958, 53.461618489000045], [-0.149285426999938, 53.446863300000075], [-0.144445671999961, 53.44095016000006], [-0.134248064999952, 53.440738241000076], [-0.131807213999934, 53.43593741400008], [-0.122634898999934, 53.43725534500004], [-0.120339335999972, 53.43359968000004], [-0.082208968999964, 53.45115092900005], [-0.107864223999968, 53.46989403100008], [-0.089803686999971, 53.47768245900005], [-0.095488517999968, 53.485988958000064], [-0.075261827999952, 53.48933572400006], [-0.064938445999928, 53.518806133000055], [-0.046613277999938, 53.52009865200006], [-0.03968976799996, 53.51310276800007], [-0.028638815999955, 53.51733775100007], [-0.019548458999964, 53.51797529800007], [-0.014525495999976, 53.51541333600005], [0.010638910000068, 53.52146937400005], [0.016776592000042, 53.52572221600008], [0.017274433000068, 53.52535996200004], [0.047383350000075, 53.514659667000046], [0.037764221000032, 53.526719591000074], [0.06483322400004, 53.520379871000046], [0.065442848000032, 53.520237001000055], [0.088237025000069, 53.51489212200005], [0.079610381000066, 53.50332501200006], [0.09313667300006, 53.49396115300004], [0.108625326000038, 53.48880804000004], [0.113319476000072, 53.48724564500003], [0.117850762000046, 53.49323611900007], [0.109367130000066, 53.50377130500004], [0.108946752000065, 53.504293192000034], [0.10938617000005, 53.50415524500005], [0.136308052000061, 53.495698857000036], [0.128575543000068, 53.48459293800005], [0.143836825000051, 53.48196547600003], [0.147475863000068, 53.494127614000035], [0.163571805000061, 53.48213815200006], [0.167623004000063, 53.477072347000046], [0.168030736000048, 53.47656242700003], [0.165564676000031, 53.47710974900008], [0.157359154000062, 53.478930483000056], [0.159329929000023, 53.47722285900005], [0.191420167000047, 53.44939405500003], [0.185045514000024, 53.44350445900005], [0.20072508800007, 53.43632003000005], [0.187804613000026, 53.43770825200005], [0.212471924000056, 53.42139383700004], [0.189536115000067, 53.41731976400007], [0.210577798000031, 53.41696881100006], [0.201353548000043, 53.41514882200005], [0.206353273000047, 53.409985961000075], [0.211927578000029, 53.41600880000004], [0.20810933100006, 53.41051086400006], [0.217540155000052, 53.41345120700004], [0.228357499000026, 53.40586686600005], [0.242546726000057, 53.37296036200007], [0.283099671000059, 53.31983092000007], [0.292371497000033, 53.30559134600003], [0.304588184000067, 53.291619740000044], [0.31847556200006, 53.273366243000055], [0.355627377000076, 53.19205842800005], [0.342653301000041, 53.114135547000046], [0.339855341000032, 53.09728529200004], [0.328343143000041, 53.08945401300008], [0.312468366000076, 53.08916073100005], [0.240999545000022, 53.04676479200003], [0.199581275000071, 53.032649897000056], [0.151425050000057, 53.00810712100008], [0.08404114800004, 52.93912643500005], [0.081697441000074, 52.93672247300003], [0.079027415000041, 52.933983427000044], [0.041888412000048, 52.932711350000034], [0.07837894000005, 52.93203293800008], [0.04998153300005, 52.91789699200007], [0.045585176000031, 52.91570709300004], [0.027124490000062, 52.89849392500008], [0.02999924300002, 52.89988839500006], [0.030217536000066, 52.90000635400003], [0.068550857000048, 52.91873492000008], [0.065089850000049, 52.90460719600003], [0.080003118000036, 52.90136850400006], [0.11372383500003, 52.89403678600007], [0.14920169200002, 52.88275471500003], [0.176331510000068, 52.87411622400003], [0.214268021000066, 52.82895136700006], [0.197208554000042, 52.829749382000045], [0.215079924000065, 52.82848039300006], [0.214918316000023, 52.822849258000076], [0.204372826000053, 52.78156780000006], [0.216813150000064, 52.82088340100006], [0.268790663000061, 52.81582835200004], [0.262704527000039, 52.803607631000034], [0.253178250000076, 52.79735518900003], [0.260905381000043, 52.796056468000074], [0.251998115000049, 52.792563320000056], [0.245084708000036, 52.78452382200004], [0.272208569000043, 52.77280630400003], [0.233163126000022, 52.760265350000054], [0.186323617000028, 52.735348756000064], [0.171625856000048, 52.738031711000076], [0.170181297000056, 52.73989425000008], [0.132974708000063, 52.739304153000035], [0.11368507800006, 52.729990119000036], [0.098789035000038, 52.73034044900004], [0.089011690000063, 52.72363002000003], [0.063362036000058, 52.72727189400007], [0.044149345000051, 52.71438221300008], [0.048848260000057, 52.681770708000045], [0.020673403000046, 52.66472790900008], [-0.031270320999965, 52.66153260600004], [-0.032504273999962, 52.665544354000076], [-0.063714008999966, 52.67523308300008], [-0.065445314999977, 52.671995853000055], [-0.074611191999963, 52.67207407800004], [-0.087752502999933, 52.666785995000055], [-0.102196012999968, 52.67220608100007], [-0.139501385999949, 52.65486182700005], [-0.141062125999952, 52.651507423000055], [-0.180020170999967, 52.660561021000035], [-0.192867710999963, 52.65243858000008], [-0.206037421999952, 52.66807329300008], [-0.224498250999943, 52.66546363600003], [-0.260628212999961, 52.651413364000064], [-0.289240446999941, 52.67027625400004], [-0.334984945999963, 52.67487069300006], [-0.336313508999979, 52.66856241100004], [-0.350222258999963, 52.66161480800008], [-0.393103031999942, 52.65410129600008], [-0.405681401999971, 52.64804623100008], [-0.431987033999974, 52.648267668000074], [-0.452694473999941, 52.65427770100007], [-0.453036127999951, 52.649245386000075], [-0.475831394999943, 52.648714753000036], [-0.475244872999951, 52.64505783100003], [-0.484320231999959, 52.646128959000066], [-0.495025581999926, 52.64023632700008], [-0.517397311999957, 52.64237946600008], [-0.523420096999928, 52.63509208900007], [-0.54026079099998, 52.62596580200005], [-0.539056883999933, 52.61787550000008], [-0.550131070999953, 52.61225067200007], [-0.54755918799998, 52.606956112000034], [-0.552938802999961, 52.60134893900005], [-0.542929478999952, 52.59568347900006], [-0.544173563999948, 52.592888361000064], [-0.558117764999963, 52.594483996000065], [-0.562286286999949, 52.586461102000044], [-0.571903500999952, 52.58580345300004], [-0.577955904999953, 52.58789804700007], [-0.581546903999936, 52.59586830100005], [-0.586972625999977, 52.58742889600006], [-0.603018909999946, 52.58859110600008], [-0.638082007999969, 52.571775503000026], [-0.64676099899998, 52.573791705000076], [-0.649376688999951, 52.57054279600004], [-0.660888473999933, 52.56892191700007], [-0.671287188999941, 52.56410604000007], [-0.674864129999946, 52.55863829500004], [-0.665579737999963, 52.55225241800008], [-0.669461300999956, 52.54491392500006], [-0.643134028999953, 52.53635730700006], [-0.635842867999941, 52.52389252000006], [-0.649374492999925, 52.51892101900006], [-0.665337595999972, 52.51796831100006], [-0.674667823999926, 52.51322175800004], [-0.672133831999929, 52.506944849000035], [-0.63601744999994, 52.515913338000075], [-0.629673109999942, 52.51127474400005], [-0.605569375999949, 52.51427478700003], [-0.597683094999979, 52.51166503200005], [-0.60857797999995, 52.50929703500003], [-0.608129265999935, 52.50619613300006], [-0.596387450999941, 52.49694447200005], [-0.577729243999954, 52.50252157700004], [-0.569914322999978, 52.50958206200005], [-0.546760482999957, 52.51323378400008], [-0.522173469999927, 52.49659845600007], [-0.512366363999945, 52.49823332700004], [-0.499567471999967, 52.49438640200003], [-0.499556198999926, 52.490562383000054], [-0.507033446999969, 52.49119184700004], [-0.515222256999948, 52.488326148000056], [-0.523108152999953, 52.47946720900006], [-0.527321580999967, 52.48094836300004], [-0.524360169999966, 52.478793292000034], [-0.515087127999948, 52.48135291700004], [-0.518885704999946, 52.473967909000066], [-0.514162166999938, 52.47235665900007], [-0.509351558999924, 52.47438204900004], [-0.498502901999927, 52.47052916700005], [-0.480671488999974, 52.47218150500004], [-0.471907846999954, 52.46671015100003], [-0.47045865299998, 52.46371178900006], [-0.493443285999945, 52.44169764600008], [-0.503956638999966, 52.436588218000054], [-0.514264131999937, 52.438402213000074], [-0.518877445999976, 52.43647477400003], [-0.51868077599994, 52.429313844000035], [-0.501904439999976, 52.426945630000034], [-0.500647164999975, 52.42048768600006], [-0.523034003999953, 52.415885555000045], [-0.533554909999964, 52.40889916000003], [-0.51594605899993, 52.407358842000065], [-0.518163499999957, 52.39809169100005], [-0.492832266999926, 52.39386052300006], [-0.493889423999974, 52.38737180500004], [-0.501785650999977, 52.38358264900006], [-0.488518732999978, 52.37402356700005], [-0.499486856999965, 52.36699296100005], [-0.49869984299994, 52.36009616500007], [-0.477682216999938, 52.348920116000045], [-0.483263889999932, 52.34090342500008], [-0.466656530999956, 52.33892760500004], [-0.465365653999925, 52.32295327500003], [-0.476261607999959, 52.31806358000006], [-0.487140108999938, 52.32108280600005], [-0.51982989499993, 52.317692513000054], [-0.514051000999928, 52.31469705400008], [-0.541969092999977, 52.289942376000056], [-0.534002818999966, 52.28119096700004], [-0.531190075999973, 52.27040236400006], [-0.539324995999948, 52.26609468400005], [-0.541972248999969, 52.25607270200004], [-0.554737888999966, 52.25817983700006], [-0.565693066999927, 52.25346843500006], [-0.588110868999934, 52.27077847100003], [-0.586328305999928, 52.27291391000006], [-0.603249971999958, 52.27874571800004], [-0.624818668999978, 52.27564866600005], [-0.631412435999948, 52.27004775700004], [-0.639908375999937, 52.27244193400003], [-0.653655657999934, 52.268289390000064], [-0.63733179299993, 52.22731763000007], [-0.661460463999958, 52.208125901000074], [-0.66813590299995, 52.195034030000045], [-0.684653641999944, 52.196336157000076], [-0.701671491999946, 52.193308460000026], [-0.729260287999978, 52.179473235000046], [-0.738949652999963, 52.17117753600007], [-0.749734760999957, 52.166876785000056], [-0.75719096499995, 52.16732897000003], [-0.761890176999941, 52.16348069600008], [-0.765331495999931, 52.17109922900005], [-0.77787812899993, 52.16877087900008], [-0.792091128999971, 52.15132945600004], [-0.801956644999962, 52.15867872900003], [-0.807588082999928, 52.15697901300007], [-0.81404135899993, 52.14247232200006], [-0.831966593999937, 52.143683450000026], [-0.828204869999979, 52.13261056600004], [-0.832054852999931, 52.13125880100006], [-0.869000242999959, 52.13062006100006], [-0.880703205999964, 52.126338229000055], [-0.880682842999931, 52.12019063200006], [-0.88701545899994, 52.11420954300007], [-0.87145032899997, 52.111753443000055], [-0.865270005999946, 52.10293749300007], [-0.869530249999968, 52.10003781900008], [-0.857943173999956, 52.09751847300004], [-0.854779056999973, 52.092354346000036], [-0.846712588999935, 52.09150873800007], [-0.831418075999977, 52.07194703300007], [-0.839500159999943, 52.06382756000005], [-0.857358639999973, 52.06409057600007], [-0.862678591999952, 52.06093402500005], [-0.86040282099998, 52.054525427000044], [-0.852446743999963, 52.05070520000004], [-0.859422823999978, 52.044602190000035], [-0.867733959999953, 52.04622094700005], [-0.871325790999947, 52.04025177700004], [-0.877468787999931, 52.02997153700005], [-0.883018583999956, 52.028241379000065], [-0.890118295999969, 52.03156061100003], [-0.906030062999946, 52.02122111800003], [-0.930207181999947, 52.04312698200005], [-0.937879993999957, 52.06120191600007], [-0.933744328999978, 52.062636473000055], [-0.93931596799996, 52.06216002900004], [-0.939279218999957, 52.06735361800003], [-0.944390446999932, 52.07003202800007], [-0.940055849999965, 52.07584200100007], [-0.951873212999942, 52.08153362500008], [-0.960762815999942, 52.07864434000004], [-0.967805269999928, 52.07091092200005], [-0.973357510999961, 52.07272345200005], [-0.984279584999967, 52.06971702000004], [-1.004836930999943, 52.07347518200004], [-1.012865038999962, 52.07159887100005], [-1.026317590999952, 52.07568203200003], [-1.042326955999954, 52.07371003000003], [-1.029551340999944, 52.070106578000036], [-1.027668577999975, 52.06373424600008], [-1.039069995999967, 52.06609883300007], [-1.052959166999926, 52.05966050900008], [-1.062065086999951, 52.062735435000036], [-1.071656645999951, 52.058135056000026], [-1.076652046999925, 52.05885125800006], [-1.083275021999953, 52.05236152500004], [-1.121987283999943, 52.04514718100006], [-1.13666036199993, 52.02223191600007], [-1.118086337999955, 52.01542614500005], [-1.131252787999927, 52.00488462800007], [-1.13432888799997, 51.99729638000008], [-1.156650972999955, 51.99223449200008], [-1.163823767999929, 51.99341210700004], [-1.176054747999956, 51.98204518300008], [-1.190756061999934, 51.981510865000075], [-1.196259962999932, 51.97743143200006], [-1.229700100999935, 51.98136732100005], [-1.241612246999978, 51.98629339200005], [-1.260915806999947, 51.98092593000007], [-1.280865252999945, 51.98236416000003], [-1.283384857999977, 51.97954051700003], [-1.288858776999973, 51.98972557800005], [-1.282362184999954, 51.99291507500004], [-1.283344758999931, 51.999539510000034], [-1.277051187999973, 52.00533198900007], [-1.284539971999948, 52.01066520100005], [-1.27856664799998, 52.011403560000076], [-1.278146791999973, 52.014238188000036], [-1.285323256999959, 52.02647360700007], [-1.294312601999934, 52.02803570900005], [-1.291861009999934, 52.031940063000036], [-1.297543104999932, 52.042720975000066], [-1.312919815999976, 52.05145265900006], [-1.307379985999944, 52.057589946000064], [-1.307768317999944, 52.06435223300008], [-1.302175516999966, 52.06501886900003], [-1.30025655299994, 52.06871609700005], [-1.306903019999936, 52.07031358800003], [-1.297508776999962, 52.07805691600004], [-1.299360500999967, 52.08010153100008], [-1.318160126999942, 52.07992121500007], [-1.32116478699993, 52.087018932000035], [-1.307963027999961, 52.09227294400006], [-1.287125333999938, 52.09263886400004], [-1.272283194999943, 52.09786654100003], [-1.248085086999936, 52.09716077000007], [-1.252927704999934, 52.10387442900003], [-1.276829451999959, 52.11707655500004], [-1.308432699999969, 52.14350876600008], [-1.306429692999927, 52.145553018000044], [-1.331896929999971, 52.168485058000044], [-1.334004543999924, 52.159083010000074], [-1.343458601999941, 52.153234989000055], [-1.341040589999977, 52.14485672700005], [-1.349936721999939, 52.14159176600003], [-1.348709367999959, 52.135137506000035], [-1.36614689299995, 52.13607527700003], [-1.385462871999948, 52.12840322300008], [-1.393302647999974, 52.11896294200005], [-1.390700066999955, 52.11678887700003], [-1.370841911999946, 52.11753423000005], [-1.370366973999978, 52.112717892000035], [-1.365191784999979, 52.11130708200005], [-1.357769601999962, 52.101310469000055], [-1.374424007999949, 52.09972591200005], [-1.385329510999952, 52.09418428200007], [-1.403894118999972, 52.110089894000055], [-1.425855169999977, 52.118249551000076], [-1.448741229999939, 52.11606666700004], [-1.453463941999928, 52.11299944800004], [-1.44718802899996, 52.09762499100003], [-1.467559497999957, 52.09705652800005], [-1.477301560999933, 52.10135100300005], [-1.480148622999934, 52.09347797000004], [-1.487804227999959, 52.093957438000075], [-1.485607647999927, 52.08773343800004], [-1.494362431999946, 52.08218708000004], [-1.490665178999961, 52.07713544300003], [-1.501855403999969, 52.071626637000065], [-1.497353261999933, 52.058954560000075], [-1.525309164999953, 51.99285680700007], [-1.541741549999927, 51.99643229900005], [-1.557223672999953, 51.99165760000005], [-1.549671427999954, 51.980859613000064], [-1.580573775999937, 51.972996065000075], [-1.600301410999975, 51.97694154000004], [-1.591633583999965, 51.970449544000076], [-1.612342521999949, 51.95540342900006], [-1.638315457999965, 51.97517196600006], [-1.665754394999965, 51.987488864000056], [-1.669888040999979, 51.99309030300003], [-1.66617352999998, 51.99691795200005], [-1.642837970999949, 52.00920253400005], [-1.638649365999925, 52.02048608100006], [-1.628404898999975, 52.02720693900005], [-1.619685508999964, 52.02797834100005], [-1.617532852999943, 52.03343701000006], [-1.624417961999939, 52.038981559000035], [-1.645374487999959, 52.03423176000007], [-1.653549797999972, 52.03540258100003], [-1.663869982999927, 52.03127754800005], [-1.667501415999936, 52.03624284000006], [-1.693982534999975, 52.03952644600008], [-1.688636661999965, 52.05183324200004], [-1.690179789999945, 52.054735977000064], [-1.70080765299997, 52.05511408000007], [-1.705140945999972, 52.05970665400008], [-1.701731104999965, 52.072809419000066], [-1.709882937999964, 52.07334934100004], [-1.712953652999943, 52.066584842000054], [-1.730671359999974, 52.073399306000056], [-1.728560535999975, 52.10012027300007], [-1.738541287999965, 52.091407840000045], [-1.746022595999932, 52.09295996800006], [-1.767648769999937, 52.112592558000074], [-1.789417259999937, 52.10637487500003], [-1.790135072999931, 52.10059150200004], [-1.802288916999942, 52.09694149200004], [-1.812736812999958, 52.07874398900003], [-1.818943371999978, 52.08540440500008], [-1.831752908999931, 52.07276952900003], [-1.846619634999968, 52.079421119000074], [-1.853238230999978, 52.07241301400006], [-1.868734153999981, 52.073917427000026], [-1.874406200999942, 52.069990923000034], [-1.87168238199996, 52.06542617200006], [-1.864988314999948, 52.06627821600006], [-1.862877672999957, 52.06343189800003], [-1.863449264999929, 52.05341761600005], [-1.834588863999954, 52.04373304300003], [-1.829751237999972, 52.039071602000035], [-1.830560572999957, 52.03213901500004], [-1.825022926999964, 52.03093347500004], [-1.835659419999956, 52.02250237800007], [-1.835308904999977, 52.00916241400006], [-1.83905079799996, 52.00678342900005], [-1.861543489999974, 52.01262767900005], [-1.86226894899994, 52.01748528500008], [-1.91344602099997, 52.044461280000064], [-1.922157293999931, 52.035615018000044], [-1.927044603999946, 52.03666091500003], [-1.931729943999926, 52.02995938500004], [-1.947520940999937, 52.03189492700005], [-1.951387542999953, 52.03772524000004], [-1.984135769999966, 52.03587933000006], [-1.995189487999937, 52.026563030000034], [-1.998565281999959, 52.02966759900005], [-2.023667406999948, 52.016947979000065], [-2.029271584999947, 52.012839719000056], [-2.027000133999934, 52.01059962000005], [-2.038252345999979, 52.00956295000003], [-2.038356018999934, 52.00460057400005], [-2.049514009999939, 52.003796229000045], [-2.048683191999942, 52.00711509200005], [-2.059293521999962, 52.009473839000066], [-2.06077204099995, 52.01467873000007], [-2.084873146999939, 52.01047837300007], [-2.112140944999965, 52.01534755000006], [-2.13073836999996, 52.00643992000005], [-2.135217421999926, 51.999703], [-2.140687153999977, 51.999464336000074], [-2.139063743999941, 52.003949850000026], [-2.150733102999936, 52.00661338700007], [-2.140039636999973, 52.027271635000034], [-2.117922627999974, 52.03307152700006], [-2.11608967799998, 52.03786992200003], [-2.118383793999953, 52.04210860000006], [-2.133231167999952, 52.04623109900007], [-2.142281227999945, 52.04568833700006], [-2.16203631999997, 52.05056721600005], [-2.180451242999936, 52.042262453000035], [-2.176883030999932, 52.022616665000044], [-2.187683193999931, 52.019080159000055], [-2.18406573599998, 52.01390115000004], [-2.164723454999944, 52.00419537500005], [-2.164915375999954, 51.99595951100008], [-2.171422283999959, 51.99475792800007], [-2.180748490999974, 51.999615145000064], [-2.179425789999925, 51.99484752600006], [-2.185084210999946, 51.990560763000076], [-2.202886122999928, 51.99636302400006], [-2.220613397999955, 51.99549660900004], [-2.25135998199994, 51.96656506000005], [-2.282208956999966, 51.970716132000064], [-2.300432846999968, 51.96677520500003], [-2.309465355999976, 51.97064668400003], [-2.312619469999959, 51.97650494000004], [-2.326565192999965, 51.975810695000064], [-2.320656766999946, 51.992128388000026], [-2.324709853999934, 52.003567212000064], [-2.329423205999944, 52.00682856600008], [-2.34049314799995, 52.00674046300003], [-2.352542615999937, 52.01353532600007], [-2.351378565999937, 52.02135900700006], [-2.386982791999969, 52.01216651300007], [-2.392891820999978, 52.01295882900007], [-2.39901832399994, 51.99614591900007], [-2.413177279999957, 51.99409256700005], [-2.437293845999932, 51.997166994000054], [-2.43363713399998, 52.00787937800004], [-2.436594115999981, 52.01481432200006], [-2.463255472999947, 52.01434030200005], [-2.464068282999961, 52.023268259000076], [-2.478932235999935, 52.022530377000066], [-2.479364062999935, 52.01707730600003], [-2.491984455999955, 52.00766180100004], [-2.485496719999958, 52.00033226000005], [-2.477664475999973, 52.00015078600006], [-2.470992777999925, 51.99473601200003], [-2.48863764999993, 51.98740802300006], [-2.494912527999929, 51.98107545600004], [-2.492244414999959, 51.96412848800003], [-2.499030085999948, 51.96371805100006], [-2.500906663999956, 51.960608781000076], [-2.490187556999956, 51.95497959800008], [-2.486107149999953, 51.957420425000066], [-2.473728694999977, 51.95653872100007], [-2.465487528999972, 51.95169636400004], [-2.46604259999998, 51.92797416500008], [-2.455022773999929, 51.91934722600007], [-2.448184435999963, 51.91866855500007], [-2.440154336999967, 51.902442473000065], [-2.445388610999942, 51.90055586600005], [-2.439357943999937, 51.89739575900006], [-2.446009520999951, 51.89399457500008], [-2.46651800199993, 51.89256407600004], [-2.47340814599994, 51.88555358600007], [-2.486728649999975, 51.88471553900007], [-2.487794723999968, 51.880417590000036], [-2.493861587999959, 51.880002981000075], [-2.494655986999931, 51.884239742000034], [-2.50110802599994, 51.881899590000046], [-2.501947405999942, 51.88625329700005], [-2.508624243999975, 51.88516906700005], [-2.522233318999952, 51.86469606300005], [-2.531623930999956, 51.86077127300007], [-2.543901605999963, 51.86023206100003], [-2.561657618999959, 51.864292281000075], [-2.580729424999959, 51.861652080000056], [-2.585218803999965, 51.859930458000065], [-2.578805903999978, 51.85320999500004], [-2.582817051999939, 51.84957735100005], [-2.601216578999924, 51.85621621300004], [-2.609434277999981, 51.84679695700004], [-2.62159341499995, 51.84332468200006], [-2.625466336999978, 51.838964428000054], [-2.636710261999951, 51.84309574000008], [-2.635970002999954, 51.83991192700006], [-2.650228438999932, 51.82614615700004], [-2.656856791999928, 51.82688095100008], [-2.658194641999955, 51.832710493000036], [-2.666157233999968, 51.835649696000075], [-2.682856449999974, 51.838456233000045], [-2.687002460999963, 51.83305624800005], [-2.693295245999934, 51.833841230000075], [-2.697324843999979, 51.84476846800004], [-2.705148128999951, 51.84565869800008], [-2.707207363999942, 51.839350574000036], [-2.715044889999945, 51.84022831500005], [-2.719710587999941, 51.848796277000076], [-2.727575351999974, 51.84009288200008], [-2.731537458999981, 51.84140965700004], [-2.738866702999928, 51.836665581000034], [-2.74130267399994, 51.84257348700004], [-2.756821438999964, 51.84601682500005], [-2.769611705999978, 51.86237189700006], [-2.778841188999934, 51.86595959200008], [-2.776894467999966, 51.87332374300007], [-2.768331511999975, 51.88050552800007], [-2.801630067999952, 51.89038583200005], [-2.820949741999925, 51.90533540900003], [-2.836151328999961, 51.906032819000075], [-2.841908365999927, 51.91772651400004], [-2.845150520999937, 51.91522165100008], [-2.853726685999959, 51.91574243900004], [-2.854122277999977, 51.91331794800004], [-2.861919730999944, 51.914018128000066], [-2.863318135999975, 51.91718730400004], [-2.844948667999972, 51.92213374900007], [-2.859007669999926, 51.927733327000055], [-2.870144632999938, 51.926957309000045], [-2.877835286999925, 51.93381438500006], [-2.888519573999929, 51.93357319800003], [-2.887027755999952, 51.92820403400003], [-2.892273761999945, 51.92542818600003], [-2.904135484999927, 51.925182187000075], [-2.916114725999932, 51.91766007900003], [-2.927418775999968, 51.91396562500006], [-2.934008032999941, 51.915014075000045], [-2.95233445599996, 51.906270480000046], [-2.971846371999959, 51.90498157800005], [-2.976665430999958, 51.927490230000046], [-2.999242977999927, 51.92345774700004], [-3.008123295999951, 51.92713056000008], [-3.01316283999995, 51.94495492500005], [-3.025944446999972, 51.95728242500007], [-3.035335336999935, 51.95974086800004], [-3.039608593999958, 51.966480809000075], [-3.068253809999931, 51.98383969200006], [-3.069424974999947, 51.98948895700005], [-3.084087881999949, 52.004108236000036], [-3.086897172999954, 52.01391141700003], [-3.099199081999927, 52.022685857000056], [-3.086286941999958, 52.04019417600006], [-3.092812288999937, 52.04747897300007], [-3.090588122999975, 52.050513171000034], [-3.116461810999965, 52.06585585600004], [-3.125977558999978, 52.078330624000046], [-3.118859884999949, 52.08872771000006], [-3.122714732999953, 52.10315809300005], [-3.105465489999972, 52.10538633400006], [-3.10498516399997, 52.116727655000034], [-3.128061351999975, 52.124570438000035], [-3.136814717999926, 52.12332019200005], [-3.141228718999969, 52.12992226800003], [-3.134134545999927, 52.13358877200005], [-3.135873535999963, 52.137908551000066], [-3.093689855999969, 52.14430577300004], [-3.072538265999981, 52.15577325100003], [-3.071571587999927, 52.15818965500006], [-3.082543249999958, 52.16304710900005], [-3.098877619999939, 52.15470621700007], [-3.122430480999981, 52.163419641000075], [-3.121994675999929, 52.16691679100006], [-3.112458972999946, 52.17023109000007], [-3.11248951999994, 52.17362335300004], [-3.101409998999941, 52.177266125000074], [-3.094724022999969, 52.18373076800003], [-3.101793308999959, 52.20264569300008], [-3.072091881999938, 52.21308722800006], [-3.078009105999968, 52.21604480500008], [-3.070373199999949, 52.229237761000036], [-3.073036679999973, 52.235876861000065], [-3.044164262999971, 52.23794501900005], [-3.043706260999954, 52.245522151000046], [-3.049948331999929, 52.24501347100005], [-3.045256692999942, 52.246856972000046], [-3.048327449999931, 52.25025524200004], [-3.036009369999931, 52.25676937500003], [-3.005613768999979, 52.264211328000044], [-2.989777980999975, 52.26049717800004], [-2.978584452999939, 52.26238590300005], [-2.977301748999935, 52.25968833300004], [-2.964990634999936, 52.26233630400003], [-2.965064782999946, 52.268122970000036], [-2.955954230999964, 52.270920474000036], [-2.94963480399997, 52.269468360000076], [-2.965036048999934, 52.27431166100007], [-2.992674449999924, 52.272854308000035], [-3.01260283199997, 52.27926539900005], [-3.009342078999964, 52.282843583000044], [-3.011952733999976, 52.28804155800003], [-3.005523878999952, 52.29068271600005], [-3.001294404999953, 52.30007667000007], [-3.000866015999975, 52.32176569400008], [-2.966840461999936, 52.329501709000056], [-2.954726811999933, 52.34924941200006], [-2.970582885999931, 52.35140743200003], [-2.974298515999976, 52.354735970000036], [-2.986069387999976, 52.35089506400004], [-2.998324425999954, 52.35189374000004], [-3.040025913999955, 52.34437535100005], [-3.06066488099998, 52.34823963300005], [-3.070544457999972, 52.35597667500008], [-3.091932225999926, 52.36257737300008], [-3.110604014999979, 52.37715987300004], [-3.120240093999939, 52.37744369600006], [-3.129592270999979, 52.384479501000044], [-3.154615886999977, 52.387790091000056], [-3.161548336999942, 52.392142773000046], [-3.160655076999944, 52.39993215000004], [-3.179070865999961, 52.40947864000003], [-3.219744274999925, 52.421322], [-3.222327228999973, 52.426739327000064], [-3.230686553999931, 52.43048345500006], [-3.228376277999928, 52.43953889900007], [-3.235561936999943, 52.44252589400003], [-3.23188788899995, 52.453115668000066], [-3.197308690999932, 52.47601757900003], [-3.180565879999961, 52.47386999500003], [-3.141677084999969, 52.49123212900008], [-3.126539774999969, 52.49232296900004], [-3.111537798999962, 52.498845559000074], [-3.02920219799995, 52.50126811000007], [-3.036429197999951, 52.511505912000075], [-3.03241514399997, 52.52370676700008], [-3.00381575199998, 52.519819347000066], [-3.000879474999977, 52.52401094500004], [-3.005099865999966, 52.52945131900003], [-2.994178087999956, 52.55294672700006], [-2.999719939999977, 52.55466947000008], [-3.00062358699995, 52.56801055500006], [-3.006264287999954, 52.573688075000064], [-3.014518439999961, 52.57549966500005], [-3.036644764999949, 52.57173864600003], [-3.06042623299993, 52.55532758100003], [-3.064995953999926, 52.55680897600007], [-3.087281835999931, 52.55128737300004], [-3.086155316999964, 52.548648521000075], [-3.093943585999966, 52.54490229600003], [-3.080805613999928, 52.539142526000035], [-3.08537807099998, 52.53453558500007], [-3.108744280999929, 52.529210781000074], [-3.133310004999942, 52.52757780400003], [-3.136985806999974, 52.53410017600004], [-3.111486137999975, 52.54141327800005], [-3.12742738299994, 52.56602425600005], [-3.137772870999925, 52.57385216900008], [-3.138570134999952, 52.58285529700004], [-3.134941709999964, 52.58362676200005], [-3.139591036999946, 52.585723475000066], [-3.12217370999997, 52.58764124600003], [-3.117446560999952, 52.58576092000004], [-3.100331432999951, 52.59758519500008], [-3.089358057999959, 52.59958696100006], [-3.093642343999932, 52.60930572900003], [-3.082700579999937, 52.61553302800007], [-3.07310137199994, 52.62895918100003], [-3.059788007999941, 52.630691668000054], [-3.069398800999977, 52.63740824100006], [-3.083521821999966, 52.641286636000075], [-3.069884222999974, 52.64579611200003], [-3.051087360999929, 52.64732078900005], [-3.050856753999938, 52.65332371400007], [-3.04490538999994, 52.65594302900007], [-3.049073237999949, 52.66225879500007], [-3.038512922999928, 52.67533150000003], [-3.045638459999964, 52.67544215400005], [-3.042081832999941, 52.68149682300003], [-3.046958116999974, 52.69122811900007], [-3.034224155999937, 52.69344062600004], [-3.032034941999939, 52.69993531000006], [-3.022518402999935, 52.706656888000055], [-3.025434150999956, 52.71617904200008], [-3.021399048999967, 52.72431297800006], [-3.018363183999952, 52.72124120500007], [-3.000606832999949, 52.720227384000054], [-2.977519404999953, 52.72646712400007], [-2.978119452999977, 52.71530343300003], [-2.961062894999941, 52.71638045200007], [-2.961836217999974, 52.725694743000076], [-2.96665349999995, 52.72563503500004], [-2.96503800399995, 52.732227677000026], [-2.973575916999948, 52.73568557400006], [-2.991109116999951, 52.73369006200005], [-2.997289938999927, 52.738369170000055], [-2.992503772999953, 52.73854558100004], [-2.992251435999947, 52.743859040000075], [-3.009754733999955, 52.75031266900004], [-3.015867474999936, 52.74807872800005], [-3.021778493999932, 52.75192927300003], [-3.014465500999961, 52.75289470800004], [-3.010792919999972, 52.75853576000003], [-3.01709615599998, 52.76768666300006], [-3.022673156999929, 52.76418574500008], [-3.02635079199996, 52.76705349200006], [-3.034554024999977, 52.76396948200005], [-3.037017155999933, 52.765164698000035], [-3.03261060899996, 52.76715450900008], [-3.038983951999967, 52.77037281400004], [-3.046533797999928, 52.767031357000064], [-3.052606266999931, 52.76861827600004], [-3.047779912999943, 52.772611502000075], [-3.057903738999926, 52.77369819100005], [-3.06210438599993, 52.76913170800003], [-3.068585732999964, 52.774194925000074], [-3.072193144999972, 52.769751685000074], [-3.079523173999974, 52.771564140000066], [-3.080724111999928, 52.77744780200004], [-3.088858449999975, 52.777556781000044], [-3.091707257999929, 52.78664556500007], [-3.085672475999957, 52.790414043000055], [-3.086754225999925, 52.79560451800006], [-3.097713380999949, 52.79138286500006], [-3.106172943999979, 52.792920535000064], [-3.109763047999934, 52.78668560600005], [-3.117698625999935, 52.78365621700004], [-3.118897437999976, 52.787196788000074], [-3.142493203999948, 52.790355211000076], [-3.144656309999959, 52.78851445600003], [-3.147980931999939, 52.792055], [-3.158471340999938, 52.793494070000065], [-3.161814948999961, 52.79936009600004], [-3.154057945999966, 52.80250881200004], [-3.153185104999977, 52.80634158000004], [-3.156327837999925, 52.80800137600005], [-3.162194908999936, 52.80364431700008], [-3.168177893999939, 52.807313316000034], [-3.167844616999957, 52.81927524300005], [-3.154081204999954, 52.83215234600004], [-3.15659687699997, 52.837042577000034], [-3.151324392999925, 52.84258136700004], [-3.16307087499996, 52.84748667900004], [-3.127721188999942, 52.86725387800004], [-3.152536872999974, 52.879697889000056], [-3.147007316999975, 52.88469046400007], [-3.135612915999957, 52.88505414400004], [-3.147497772999941, 52.89014171500003], [-3.144563213999959, 52.893020619000026], [-3.11383387099994, 52.89422476400006], [-3.116863505999959, 52.89994726300006], [-3.109702675999927, 52.91834361600007], [-3.095979992999958, 52.93033180700007], [-3.076364569999953, 52.92548343200008], [-3.064011500999925, 52.926319256000056], [-3.060677164999959, 52.92932916800004], [-3.037017509999941, 52.928722881000056], [-3.028254735999951, 52.936856747000036], [-3.024132908999945, 52.936274612000034], [-3.023910625999974, 52.94229742500005], [-3.013207145999957, 52.948811867000074], [-3.00979766599994, 52.95616503600007], [-2.982036710999978, 52.95919380700008], [-2.975030024999967, 52.96898448200005], [-2.968487051999944, 52.96417543800004], [-2.972113246999925, 52.95961381700005], [-2.961841765999964, 52.95565524300008], [-2.959812304999957, 52.951188614000046], [-2.928879352999957, 52.938668120000045], [-2.920406456999956, 52.94341434000006], [-2.908317181999962, 52.94208565200006], [-2.898334899999952, 52.95025510000005], [-2.887469521999947, 52.95251618900005], [-2.883539227999961, 52.946639299000026], [-2.841050852999956, 52.94256148000005], [-2.838429671999961, 52.932209571000044], [-2.81274263499995, 52.91464161200008], [-2.81270866999995, 52.90926414900008], [-2.798970719999943, 52.89572296600005], [-2.755326489999959, 52.92462801800008], [-2.728531449999934, 52.92517643700006], [-2.727899670999932, 52.95364355700008], [-2.724144101999968, 52.95689899900003], [-2.727497415999949, 52.96642784100004], [-2.735319824999976, 52.970015499000056], [-2.726840451999976, 52.98327288200005], [-2.71187856499995, 52.98608455500005], [-2.699292335999928, 52.99543880600004], [-2.687078545999952, 52.98683043700004], [-2.674662135999938, 52.98566294600005], [-2.652357196999958, 52.994994391000034], [-2.642699229999948, 52.99351906000004], [-2.63265092599994, 52.996670780000045], [-2.621939782999959, 52.98674241500004], [-2.607734119999975, 52.98836202500007], [-2.605682780999928, 52.97939827000005], [-2.59488879099996, 52.979607145000045], [-2.599629851999964, 52.97543281000003], [-2.592756661999942, 52.974169767000035], [-2.598446685999932, 52.971718284000076], [-2.597693396999944, 52.96300609300005], [-2.58641348499998, 52.95537928500005], [-2.576803133999931, 52.95610563000008], [-2.570276260999947, 52.95977198600008], [-2.573492228999953, 52.96271652000007], [-2.56126302499996, 52.96495205700006], [-2.553697396999951, 52.95746629700005], [-2.546355352999967, 52.95683762200008], [-2.529515798999967, 52.947165064000046], [-2.523280450999948, 52.95435538500004], [-2.521427795999955, 52.974265169000034], [-2.506882935999954, 52.96491858700006], [-2.499023370999964, 52.968434466000076], [-2.491700765999951, 52.967684348000034], [-2.481152588999976, 52.95881761100003], [-2.47508393499993, 52.96248924000008], [-2.450257370999964, 52.96605141200007], [-2.442957763999971, 52.970739051000066], [-2.434613897999952, 52.96952147600007], [-2.436760128999936, 52.986256205000075], [-2.410866770999974, 52.98792428100006], [-2.404474923999942, 52.99165361000007], [-2.406986647999929, 52.99591688300006], [-2.389734748999956, 52.99539226700006], [-2.380793983999979, 52.998411100000055], [-2.383045010999979, 53.007786948000046], [-2.370467647999931, 53.01457593400005], [-2.384227436999936, 53.02616766300008], [-2.379785434999974, 53.02759153800008], [-2.38617077899994, 53.03356388900005], [-2.381249088999937, 53.052551169000026], [-2.357579130999966, 53.05471891700006], [-2.35373532899996, 53.058848847000036], [-2.34758551699997, 53.056170261000034], [-2.330515018999961, 53.07086057500004], [-2.329009238999959, 53.07657988400007], [-2.318050900999935, 53.08135873800006], [-2.303396642999928, 53.08296147200008], [-2.293375753999953, 53.07832636300003], [-2.277652329999967, 53.08122354000005], [-2.277105763999941, 53.08590555900008], [-2.257125748999954, 53.09001641000003], [-2.253248561999953, 53.093977117000065], [-2.247407150999948, 53.08984996200007], [-2.237951390999967, 53.10104697200006], [-2.223073758999931, 53.10379506900006], [-2.211423817999957, 53.11576295300006], [-2.176580462999937, 53.14553074600008], [-2.159543271999951, 53.152906236000035], [-2.155645001999972, 53.15961893700006], [-2.141411443999971, 53.15665241500005], [-2.144865908999975, 53.17376778300007], [-2.140438906999975, 53.183812799000066], [-2.133826666999937, 53.18306540800006], [-2.129302996999968, 53.17545155000005], [-2.119541302999949, 53.17463398600006], [-2.112076532999936, 53.16865967400008], [-2.10173595699996, 53.168904689000044], [-2.092872881999938, 53.17291570000003], [-2.087236403999952, 53.16985389800004], [-2.070232488999977, 53.17168606200005], [-2.068144254999936, 53.174699745000055], [-2.057726955999954, 53.17662614300008], [-2.059214950999944, 53.180900776000044], [-2.05228929499998, 53.183959181000034], [-2.055026215999931, 53.18642760800003], [-2.04652710299996, 53.19264790300008], [-2.028555168999958, 53.19335342000005], [-2.018179507999946, 53.18905298000004], [-2.000202029999969, 53.19373767600007], [-1.987407554999947, 53.213586028000066], [-1.990264647999936, 53.22299886900004], [-1.976064998999959, 53.227529795000066], [-1.97485867599994, 53.231061157000056], [-1.981883125999957, 53.23857932700008], [-1.999731329999975, 53.245048774000054], [-2.000332732999937, 53.25543874400006], [-2.009481996999966, 53.26065234500004], [-2.005197437999925, 53.26904005000006], [-2.009329201999947, 53.30231408700007], [-2.001551010999947, 53.31892111500008], [-2.010739095999952, 53.32354955000005], [-2.009283192999931, 53.33138826000004], [-2.013649726999972, 53.33242013200004], [-2.014319077999971, 53.34005859800004], [-2.004659864999951, 53.346009768000044], [-2.006785735999927, 53.354572191000045], [-2.010672020999948, 53.35570166600007], [-2.008998142999928, 53.362010704000056], [-2.021816719999947, 53.366756989000066], [-2.027128671999947, 53.36376747500003], [-2.03408703499997, 53.36775268400004], [-2.031058539999947, 53.37026195900006], [-2.033775224999943, 53.375541629000054], [-2.021472022999944, 53.37505918900007], [-2.017083897999953, 53.377832616000035], [-2.01971455599994, 53.380595432000064], [-2.004642862999958, 53.38632747400004], [-2.005019370999946, 53.39284853300006], [-1.992329549999965, 53.41519310800004], [-1.981383868999956, 53.415782654000054], [-1.976503639999976, 53.42058145900006], [-1.957485435999956, 53.40990258100004], [-1.934257954999964, 53.408430363000036], [-1.920925755999974, 53.41233342700008], [-1.909714000999941, 53.41063460700008], [-1.899846772999979, 53.41918162300004], [-1.878432828999962, 53.42652035700007], [-1.865564530999961, 53.425636388000044], [-1.868570448999947, 53.433762011000056], [-1.85263940699997, 53.44701865900004], [-1.864002921999941, 53.45263285400006], [-1.862704561999976, 53.45996830800004], [-1.853542184999981, 53.45949653300005], [-1.843227104999926, 53.46392928100005], [-1.827630987999953, 53.463430439000035], [-1.814134691999925, 53.46910973100006], [-1.812901423999961, 53.479600004000076], [-1.801470730999938, 53.48099171400003], [-1.791140410999958, 53.47583307500008], [-1.780297724999969, 53.47483899200006], [-1.768350257999941, 53.464723665000065], [-1.752414254999962, 53.46495776900008], [-1.745330673999945, 53.46218376300004], [-1.748082529999976, 53.45743386800007], [-1.743680981999944, 53.444955218000075], [-1.749728, 53.439119290000065], [-1.744272834999947, 53.431296702000054], [-1.746737086999929, 53.42619362500005], [-1.739779104999968, 53.42097713800007], [-1.729951473999961, 53.41598556900004], [-1.718208027999935, 53.41948037900005], [-1.708774493999954, 53.417439915000045], [-1.703234202999965, 53.41372220200003], [-1.704964907999965, 53.40505587300004], [-1.694521395999971, 53.40116126000004], [-1.681828491999966, 53.40178075100005], [-1.668089978999944, 53.393070882000075], [-1.654644100999974, 53.39293087300007], [-1.653516583999931, 53.38511456100008], [-1.663292179999928, 53.37424770700005], [-1.663958196999943, 53.36689024200007], [-1.63059259299996, 53.356160988000056], [-1.625603797999929, 53.352061794000065], [-1.590586505999966, 53.34595886500006], [-1.601575387999958, 53.34260892000003], [-1.612226826999972, 53.34321051300003], [-1.632771980999962, 53.32082764200004], [-1.628160688999969, 53.31630165400003], [-1.60883492399995, 53.322554025000045], [-1.601524875999928, 53.318205471000056], [-1.599077712999929, 53.31137847600007], [-1.585031519999973, 53.321589267000036], [-1.578995026999962, 53.31669205800006], [-1.583078192999949, 53.315697657000044], [-1.580533842999955, 53.31173765800003], [-1.56166057799993, 53.31596882700006], [-1.555822278999926, 53.31170653400005], [-1.561766344999967, 53.30642454300005], [-1.536914281999941, 53.30473062800007], [-1.531277152999962, 53.31063337000006], [-1.502108022999948, 53.31758903000008], [-1.478421597999954, 53.319372299000065], [-1.467914011999937, 53.31714427400004], [-1.455242108999926, 53.32184411700007], [-1.459930517999965, 53.33063030500006], [-1.451299509999956, 53.331345224000074], [-1.44201310699998, 53.33741178300005], [-1.420867366999971, 53.33456806700008], [-1.411088976999963, 53.342017070000054], [-1.386659454999972, 53.33485713500005], [-1.392054689999952, 53.32266314000003], [-1.386841981999964, 53.31761487000006], [-1.362655271999927, 53.31502128900007], [-1.361745010999925, 53.318542885000056], [-1.347288781999964, 53.318901494000045], [-1.33775170499996, 53.31584764100006], [-1.32842468399997, 53.32887858600003], [-1.324726590999944, 53.32883261100005], [-1.320912895999925, 53.325577975000044], [-1.310327951999966, 53.329396658000064], [-1.312333679999938, 53.334168661000035], [-1.299071966999975, 53.33253266600008], [-1.288558430999956, 53.32617122100004], [-1.295158912999966, 53.321791620000056], [-1.295468339999957, 53.31487303600005], [-1.282003524999936, 53.309479700000054], [-1.27359828799996, 53.31044041700005], [-1.254255109999974, 53.30175552600008], [-1.243453728999953, 53.301598582000054], [-1.230596367999965, 53.30864191400008], [-1.219531114999938, 53.304000494000036], [-1.203175088999956, 53.30419127000005], [-1.199738361999948, 53.311438397000074], [-1.187204872999928, 53.30397968200003], [-1.176627277999955, 53.30513169400007], [-1.171562352999956, 53.29463685800005], [-1.180116861999977, 53.28713473200003], [-1.166489165999963, 53.27765472200008], [-1.181543046999934, 53.27003184700004], [-1.174689615999966, 53.26516512300003], [-1.202450347999957, 53.26121941400004], [-1.213026658999979, 53.24767250700006], [-1.201996981999969, 53.23555518000006], [-1.209424363999972, 53.21769611800005], [-1.202237000999958, 53.216117041000075], [-1.171120587999951, 53.21895908800008], [-1.140328945999954, 53.225736906000066], [-1.123807180999961, 53.22464475700008], [-1.122082260999946, 53.23085619200003], [-1.111459033999949, 53.23044038200004], [-1.103297152999971, 53.23560711400006], [-1.072483468999962, 53.24090601800003], [-1.027877400999955, 53.26101090100008], [-1.023548369999958, 53.24780280200008], [-1.006768130999944, 53.236185195000076], [-0.967542213999934, 53.23533319500007], [-0.947264571999938, 53.22582889600005], [-0.948919369999942, 53.21411924500006], [-0.894342537999933, 53.22359962500008], [-0.879410837999956, 53.22106718900005], [-0.857838750999974, 53.21220656200006], [-0.848497946999942, 53.215308779000054], [-0.848213378999958, 53.21866188800004], [-0.839821180999934, 53.218919017000076], [-0.830798283999968, 53.217565327000045], [-0.836956470999951, 53.21365759100007], [-0.830520887999967, 53.212830807000046], [-0.832060788999968, 53.20672987100005], [-0.821572231999937, 53.201349142000026], [-0.815723656999978, 53.204918692000035], [-0.787292548999972, 53.20456535900007], [-0.790077272999952, 53.199146718000065], [-0.780365209999957, 53.19639741600008], [-0.775573822999945, 53.21495841400008], [-0.783443301999966, 53.225945427000056], [-0.777074410999944, 53.246908166000026], [-0.778486987999941, 53.25199231000005], [-0.770175931999972, 53.25309740600005], [-0.773098735999952, 53.26073611800007], [-0.764279838999926, 53.272739071000046], [-0.778125300999932, 53.28385435100006], [-0.766270991999932, 53.292524713000034], [-0.763502245999973, 53.29943719900007], [-0.759211494999931, 53.29842404200008], [-0.758020563999935, 53.292873100000065], [-0.750967094999965, 53.293602315000044], [-0.747137824999925, 53.30433331900008], [-0.75400336499996, 53.313477986000066], [-0.749955471999954, 53.324218306000034], [-0.76011815399994, 53.324685886000054], [-0.766473789999964, 53.330107414000054], [-0.756719663999945, 53.33967553800005], [-0.764791369999955, 53.346056341000065], [-0.758616424999957, 53.35383706300007], [-0.774459183999966, 53.36443249400003], [-0.780684623999946, 53.36125366500005], [-0.791132384999969, 53.363551579000045], [-0.786036344999957, 53.37455289600007], [-0.775235779999946, 53.37775878200006], [-0.790442518999953, 53.38585371100004], [-0.77717813299995, 53.38977949200006], [-0.777139171999977, 53.39677432700006], [-0.788133587999937, 53.40435997800006], [-0.788625370999966, 53.41526112300005], [-0.80363243499994, 53.41714247900006], [-0.818092195999952, 53.42697883900007], [-0.820515916999966, 53.44074756400005], [-0.809540245999926, 53.44361269500007], [-0.797483545999967, 53.45506431800004], [-0.784364749999952, 53.46337981000005], [-0.784388908999972, 53.476669195000056], [-0.771568386999945, 53.47920169200006], [-0.775623891999942, 53.48902502100003], [-0.768109815999935, 53.49892590400003], [-0.752113514999962, 53.500530308000066], [-0.739591687999962, 53.51993601300006], [-0.701630119999948, 53.514169637000066], [-0.687380836999978, 53.51643213500006], [-0.675758401999929, 53.512509830000056], [-0.624481054999933, 53.51282116200008], [-0.628213529999925, 53.50679390800008], [-0.625687803999938, 53.495591526000055], [-0.630134238999972, 53.48599442200003], [-0.633950666999965, 53.48543357300008], [-0.634806710999953, 53.46955173500004], [-0.626705601999959, 53.46186596900003], [-0.629752726999925, 53.45821902300003], [-0.599479840999948, 53.45640213000007], [-0.556966560999967, 53.45900932900008], [-0.471749706999958, 53.47487283800007], [-0.48657699599994, 53.480479356000046], [-0.48777163699998, 53.487779345000035], [-0.480686547999937, 53.49624557100003], [-0.488388209999925, 53.504827326000054], [-0.475871932999951, 53.50893435100005], [-0.444028027999934, 53.509371686000065], [-0.405057223999961, 53.51759523800007], [-0.408144929999935, 53.53210872800008], [-0.413495109999928, 53.53570386700005], [-0.421870775999935, 53.534433712000066], [-0.430699990999926, 53.54632411000006], [-0.501229083999931, 53.537461232000055], [-0.490906051999957, 53.54585931400004], [-0.476482761999932, 53.545877860000076], [-0.467018073999952, 53.54896097400007], [-0.466410414999928, 53.55549962600003], [-0.456852513999934, 53.55930080700006], [-0.450706666999963, 53.55799852200005], [-0.43940760199996, 53.57029317100006], [-0.42900102699997, 53.574524620000034], [-0.417649051999945, 53.56331529300007], [-0.356284538999944, 53.55605445400005], [-0.348030184999971, 53.55608267700006], [-0.348658909999926, 53.55951288800003], [-0.335827477999942, 53.558685438000055], [-0.310867808999944, 53.59015444800008], [-0.303517541999952, 53.59083091900004], [-0.300743018999924, 53.595283479000045], [-0.308555221999939, 53.61432866100006], [-0.300930324999968, 53.616388]]]], &quot;type&quot;: &quot;MultiPolygon&quot;}, &quot;properties&quot;: {&quot;CreationDate&quot;: &quot;2022-04-01T08:52:11Z&quot;, &quot;Creator&quot;: &quot;hsc_map_england&quot;, &quot;EditDate&quot;: &quot;2022-04-01T08:52:11Z&quot;, &quot;Editor&quot;: &quot;hsc_map_england&quot;, &quot;FID&quot;: 5, &quot;GlobalID&quot;: &quot;{6A464A28-B330-4BA4-8F70-4C77A49488EB}&quot;, &quot;Notes&quot;: null, &quot;SHAPE_Area&quot;: 3.67300902315878, &quot;SHAPE_Length&quot;: 17.193158482940206, &quot;bng_e&quot;: 436686, &quot;bng_n&quot;: 314502, &quot;lat&quot;: 52.72694, &quot;long&quot;: -1.45821, &quot;nhser19cd&quot;: &quot;E40000008&quot;, &quot;nhser19nm&quot;: &quot;Midlands&quot;, &quot;objectid&quot;: 5, &quot;st_areasha&quot;: 27606854760.339176, &quot;st_lengths&quot;: 1418002.179569495}, &quot;type&quot;: &quot;Feature&quot;}, {&quot;geometry&quot;: {&quot;coordinates&quot;: [[[[-2.034424017999925, 55.81108766700004], [-2.001578108999979, 55.77854574500003], [-1.988136569999938, 55.765210394000064], [-1.99873368599998, 55.766520521000075], [-1.960707076999938, 55.73322669800007], [-1.92543926899998, 55.71539622100005], [-1.923528738999948, 55.71436469300005], [-1.923186912999938, 55.71425659100004], [-1.917380342999934, 55.71131812800007], [-1.884093329999928, 55.69445912500004], [-1.885627380999949, 55.68395248400003], [-1.873246861999974, 55.68278396800008], [-1.870024981999961, 55.66591381300003], [-1.854430954999941, 55.65344334800005], [-1.840872886999932, 55.642592913000044], [-1.813186224999924, 55.63370463700005], [-1.783869300999925, 55.64404603600008], [-1.76477672599998, 55.62590964200007], [-1.786331899999936, 55.61600437900006], [-1.770789420999961, 55.60348440300004], [-1.742337863999978, 55.618562214000065], [-1.722814213999925, 55.61681312800005], [-1.718790881999951, 55.614954484000066], [-1.68418851399997, 55.59895666700004], [-1.671282982999969, 55.59298427400006], [-1.65465403099995, 55.58528435900007], [-1.639428649999957, 55.57823062300008], [-1.652163690999942, 55.57125588000008], [-1.645663884999976, 55.57417649900003], [-1.64209847099994, 55.57121852100005], [-1.641822364999939, 55.57102959800005], [-1.619635091999953, 55.55284153500003], [-1.618825363999974, 55.55217734800004], [-1.619282322999936, 55.551914124000064], [-1.638330134999933, 55.54093727600008], [-1.611319024999943, 55.52222147700007], [-1.610593293999955, 55.521718272000044], [-1.61104544799997, 55.51882542900006], [-1.612272730999962, 55.51097120600008], [-1.614274393999949, 55.498154320000026], [-1.610656879999965, 55.49725647900004], [-1.593566026999952, 55.49301269600005], [-1.591133260999925, 55.49240836100006], [-1.591213396999933, 55.49052086100005], [-1.591758467999966, 55.47767744300006], [-1.591950678999979, 55.473146272000065], [-1.59334536199998, 55.44023495500005], [-1.575357486999962, 55.43088012900006], [-1.580317031999925, 55.40675693800006], [-1.61081263799997, 55.38527747000006], [-1.621273612999971, 55.38830611900005], [-1.608331827999962, 55.38378430600005], [-1.603157791999934, 55.37409372400003], [-1.594294187999935, 55.35748135400007], [-1.586869846999946, 55.343555293000065], [-1.58620952299998, 55.33594937600003], [-1.571295751999969, 55.338884893000056], [-1.570418708999966, 55.33871830000004], [-1.549419686999954, 55.32183856200004], [-1.562674530999971, 55.29586920500003], [-1.573135699999966, 55.27534826900006], [-1.499115666999955, 55.18550830300006], [-1.511714795999978, 55.18365384900005], [-1.525077610999972, 55.162632045000066], [-1.540030413999943, 55.161337857000035], [-1.524934822999967, 55.16051440500007], [-1.501934480999978, 55.13306298500004], [-1.49862144399998, 55.12910529200008], [-1.516131503999929, 55.13602329100007], [-1.496531998999956, 55.12367590200006], [-1.497340941999937, 55.11336702500006], [-1.497752224999942, 55.108123661000036], [-1.478664784999978, 55.07910860100003], [-1.471200790999944, 55.08544124400004], [-1.462071182999978, 55.07467399900003], [-1.461771995999925, 55.074321034000036], [-1.449335385999973, 55.05777426900005], [-1.439472137999928, 55.044640721000064], [-1.420676622999963, 55.01958732300005], [-1.403105580999977, 55.01458814100005], [-1.416669751999962, 55.01384884600003], [-1.429841603999932, 55.01322847200004], [-1.43654070499997, 55.006546599000046], [-1.442705011999976, 55.00039581000004], [-1.453303578999964, 54.98981534300003], [-1.483024592999925, 54.98728662600007], [-1.529212091999966, 54.983341549000045], [-1.449432139999942, 54.98435133700008], [-1.425746684999979, 55.00646155700008], [-1.420074884999963, 55.00458766400004], [-1.418657856999971, 55.003262963000054], [-1.412232259999939, 55.00616450400008], [-1.410661106999953, 54.99857684400007], [-1.376601600999948, 54.97754556400008], [-1.356630128999939, 54.965198790000045], [-1.363974790999976, 54.944076188000054], [-1.364651080999977, 54.93839538000003], [-1.365287749999936, 54.93304583200006], [-1.366113789999929, 54.92610288900005], [-1.352433427999927, 54.921386175000066], [-1.361495676999937, 54.92249946100003], [-1.363411189999965, 54.92274311700004], [-1.370881228999963, 54.91176789300005], [-1.360576889999948, 54.91597349300008], [-1.352755901999956, 54.91916416300006], [-1.350379226999962, 54.90583982100003], [-1.361640171999966, 54.898297514000035], [-1.360554492999938, 54.89541849500006], [-1.351820931999953, 54.87224350000008], [-1.347448591999978, 54.86062997200003], [-1.32066802199995, 54.83755295200007], [-1.329346287999954, 54.83796129900003], [-1.310329931999945, 54.79265490000006], [-1.301738865999937, 54.77215335400007], [-1.300754163999954, 54.769802137000056], [-1.298640714999976, 54.76811291900003], [-1.298323763999974, 54.76769951800003], [-1.295251271999973, 54.76540338900003], [-1.279514493999955, 54.752817830000026], [-1.242232642999966, 54.72296216800004], [-1.241935136999928, 54.72272370500008], [-1.242519715999947, 54.72243080000004], [-1.242839520999951, 54.72226390000003], [-1.209986375999961, 54.710644288000026], [-1.204728898999974, 54.708308801000044], [-1.199655074999953, 54.70698708600003], [-1.177633285999946, 54.699186405000034], [-1.174116185999935, 54.69209611400004], [-1.180674242999942, 54.69384343200005], [-1.196329380999941, 54.69856496800003], [-1.187509650999971, 54.69390945400005], [-1.18791916999993, 54.69343747900007], [-1.19653337099993, 54.683506142000056], [-1.19909662699996, 54.680549935000045], [-1.182799695999961, 54.65880440700005], [-1.173601198999961, 54.65491338900006], [-1.158020742999952, 54.64831946000004], [-1.157723828999963, 54.64819376100007], [-1.168446286999938, 54.64562025300006], [-1.173207407999939, 54.63345717700008], [-1.188762652999969, 54.63265110700007], [-1.193189877999941, 54.62905263700003], [-1.200175487999957, 54.62349874000006], [-1.162076801999945, 54.62264757500003], [-1.160443524999948, 54.61049151000003], [-1.198598989999937, 54.58287120600005], [-1.16025484599993, 54.60454013300006], [-1.14913054799996, 54.614331754000034], [-1.154624170999966, 54.627503499000056], [-1.135446418999948, 54.62963193000007], [-1.137475578999954, 54.64758314800008], [-1.126335863999941, 54.63641081600008], [-1.11881251899996, 54.62886144300006], [-1.072340920999977, 54.62019094900006], [-1.054117790999953, 54.61678508400007], [-1.036579609999933, 54.60906332300004], [-1.035876991999942, 54.608553122000046], [-1.03347421999996, 54.60769550500004], [-0.999991564999959, 54.592936671000075], [-0.962802243999931, 54.585161020000044], [-0.937778194999964, 54.588664822000055], [-0.896030319999966, 54.57140073900007], [-0.878107166999939, 54.57154561900006], [-0.877316261999965, 54.57120472100007], [-0.871252399999946, 54.57160031800004], [-0.853009737999969, 54.571743997000056], [-0.844067454999958, 54.569708365000054], [-0.842178900999954, 54.569278343000065], [-0.803071539999962, 54.56036497200006], [-0.794251723999935, 54.55835246300006], [-0.793271387999937, 54.55830515400004], [-0.774535975999925, 54.55739946400007], [-0.765140875999975, 54.54833008500003], [-0.765861908999966, 54.54710641600008], [-0.763195348999943, 54.54645140300005], [-0.744657289999964, 54.52854016400005], [-0.70797809499993, 54.531648285000074], [-0.698916968999924, 54.52674232500004], [-0.687394564999977, 54.52050108700007], [-0.677501365999944, 54.51513994600003], [-0.674289704999978, 54.51339906900006], [-0.672669483999925, 54.51252074100006], [-0.672128353999938, 54.50985826200008], [-0.671130284999947, 54.504946664000045], [-0.670278678999978, 54.50075491800004], [-0.654957853999974, 54.49903455900005], [-0.613150331999975, 54.494329436000044], [-0.613090984999928, 54.49395507600008], [-0.614392813999928, 54.48812882500005], [-0.610796543999925, 54.49350236500004], [-0.606399490999934, 54.49205960300003], [-0.600922121999929, 54.48995872000006], [-0.600101907999942, 54.48999278400004], [-0.585111173999962, 54.485070790000066], [-0.585443991999966, 54.48478959800008], [-0.583320371999946, 54.48448260300006], [-0.569800771999951, 54.48004071000008], [-0.520960525999953, 54.44640515200007], [-0.532679085999973, 54.433611746000054], [-0.528523757999949, 54.42549055400008], [-0.528681666999944, 54.42530009300003], [-0.528365932999975, 54.42518203600008], [-0.524577627999975, 54.417775164000034], [-0.503051653999933, 54.40767298600008], [-0.464999746999979, 54.38979428700003], [-0.462211292999939, 54.38683906300008], [-0.461666827999977, 54.38597991800003], [-0.461484076999966, 54.385691535000035], [-0.446236831999954, 54.361616182000034], [-0.445651314999964, 54.35913984300004], [-0.444398364999927, 54.35871122600008], [-0.432690784999977, 54.34020172800007], [-0.417052816999956, 54.33146523800008], [-0.416911469999945, 54.330910223000046], [-0.411406485999976, 54.30928295000007], [-0.407501042999968, 54.29392685500005], [-0.404152745999966, 54.29307526800005], [-0.394029671999931, 54.29049974700007], [-0.384672027999954, 54.28811791600003], [-0.390391401999977, 54.281658582000034], [-0.39350604699996, 54.27813975600003], [-0.396684670999946, 54.27454781400007], [-0.368744867999965, 54.24852064400005], [-0.365789094999968, 54.24764203500007], [-0.365849652999941, 54.24733594600008], [-0.34702492699995, 54.24206179400005], [-0.311987102999979, 54.23163009500007], [-0.264295834999928, 54.217406348000054], [-0.259297815999957, 54.21591405300006], [-0.260691403999942, 54.21569595100004], [-0.278031258999931, 54.21298063300003], [-0.282293688999971, 54.21231271700003], [-0.281122695999954, 54.20581955100005], [-0.281759600999976, 54.20350266100007], [-0.280047062999927, 54.199853749000056], [-0.277801476999969, 54.187394475000076], [-0.263195741999937, 54.18073157100008], [-0.216468590999966, 54.15938919100006], [-0.21258086399996, 54.15761168000006], [-0.164355385999954, 54.146018628000036], [-0.141552805999936, 54.14053209900004], [-0.102377549999972, 54.13096784900006], [-0.076361260999931, 54.11635572700004], [-0.10514913399993, 54.10401035400008], [-0.111332195999978, 54.10348135700008], [-0.157918354999936, 54.099484964000055], [-0.166442901999972, 54.09875164400006], [-0.167293083999937, 54.098678473000064], [-0.198424021999926, 54.07791863800003], [-0.212979435999955, 54.05374169900006], [-0.21306767699997, 54.03310359200003], [-0.213823328999979, 54.02881120300003], [-0.213100592999979, 54.02538580100003], [-0.213111921999939, 54.02272731700003], [-0.213174579999929, 54.007999194000035], [-0.173626037999952, 53.935013078000054], [-0.155535520999933, 53.90153815500008], [-0.137698648999958, 53.88457447700006], [-0.121665440999948, 53.866097902000035], [-0.075889292999932, 53.82566522900004], [-0.041993784999931, 53.793277068000066], [0.116999388000067, 53.66225912500005], [0.11724846900006, 53.66180081300007], [0.119456790000072, 53.657737034000036], [0.148220525000056, 53.60473253400005], [0.146211723000022, 53.60056071200006], [0.112908859000072, 53.57497964600003], [0.108969493000075, 53.57197489400005], [0.112927557000035, 53.57535506200003], [0.146278672000051, 53.60359771800006], [0.142233511000029, 53.61168660800007], [0.115376649000041, 53.62439860500007], [0.081283486000075, 53.64051633000008], [0.033701399000051, 53.64927742300006], [0.019476620000034, 53.64525068900008], [0.000576481000053, 53.654860685000074], [0.017327389000059, 53.644915645000026], [-0.053789216999974, 53.62900136500008], [-0.103546755999957, 53.63534187700003], [-0.148867888999973, 53.662185374000046], [-0.184535110999946, 53.683275138000056], [-0.227254981999977, 53.70849382000006], [-0.244392975999972, 53.73083181000004], [-0.251150830999961, 53.73270391800003], [-0.251681709999957, 53.73285096300003], [-0.286747839999975, 53.742556198000045], [-0.332635101999927, 53.738289595000026], [-0.419140453999944, 53.71959108500005], [-0.486294813999962, 53.71353783600006], [-0.54256462799998, 53.70844283800005], [-0.583338033999951, 53.72660044100007], [-0.630217958999935, 53.73399352600006], [-0.637248945999943, 53.72889345100003], [-0.618534438999973, 53.73051022800007], [-0.671611924999979, 53.72184273800008], [-0.695979869999974, 53.704361971000026], [-0.725134203999971, 53.70685787800005], [-0.698498574999974, 53.697654], [-0.70245663399993, 53.67749142900004], [-0.698493610999947, 53.684611251000035], [-0.685346895999942, 53.67674700200007], [-0.694219157999953, 53.695224566000036], [-0.639504084999942, 53.710169215000064], [-0.61065500199993, 53.714458250000064], [-0.586254450999945, 53.693338752000045], [-0.523512672999971, 53.67699373000005], [-0.48708268799993, 53.69158188700004], [-0.470491490999962, 53.69821867500008], [-0.393535096999926, 53.69687486300006], [-0.294218606999948, 53.714146249000066], [-0.234502192999969, 53.66347826700007], [-0.204624037999963, 53.63807129600008], [-0.204422800999964, 53.63790004600003], [-0.186866463999934, 53.62894712100007], [-0.093011754999964, 53.58097822600007], [-0.079457730999934, 53.57693019200008], [-0.071450831999925, 53.584100113000034], [-0.060806770999932, 53.582075402000044], [0.016776592000042, 53.52572221600008], [0.010638910000068, 53.52146937400005], [-0.014525495999976, 53.51541333600005], [-0.019548458999964, 53.51797529800007], [-0.028638815999955, 53.51733775100007], [-0.03968976799996, 53.51310276800007], [-0.046613277999938, 53.52009865200006], [-0.064938445999928, 53.518806133000055], [-0.075261827999952, 53.48933572400006], [-0.095488517999968, 53.485988958000064], [-0.089803686999971, 53.47768245900005], [-0.107864223999968, 53.46989403100008], [-0.082208968999964, 53.45115092900005], [-0.120339335999972, 53.43359968000004], [-0.122634898999934, 53.43725534500004], [-0.131807213999934, 53.43593741400008], [-0.134248064999952, 53.440738241000076], [-0.144445671999961, 53.44095016000006], [-0.149285426999938, 53.446863300000075], [-0.158545643999958, 53.461618489000045], [-0.153709166999931, 53.46573398800007], [-0.181801854999946, 53.46871146700005], [-0.188565407999931, 53.484538100000066], [-0.210604929999931, 53.48628838900004], [-0.204086558999961, 53.51176738000004], [-0.213624081999967, 53.52635867600003], [-0.210589572999936, 53.53170679500005], [-0.219819247999965, 53.53261558100007], [-0.18749347399995, 53.56357434800003], [-0.189609170999972, 53.56625178100006], [-0.19518508799996, 53.57161904800006], [-0.22265030799997, 53.568034639000075], [-0.234658954999929, 53.58624359800007], [-0.239084435999928, 53.588179739000054], [-0.251395628999944, 53.58465315500007], [-0.248494047999941, 53.593633443000044], [-0.254493569999966, 53.592439590000026], [-0.259349142999952, 53.59696478300003], [-0.269704866999973, 53.598509524000065], [-0.283002814999975, 53.60449824900007], [-0.286960876999956, 53.61183189700006], [-0.290418186999943, 53.610631787000045], [-0.292115056999933, 53.61326741100004], [-0.298237150999967, 53.612561646000074], [-0.300930324999968, 53.616388], [-0.308555221999939, 53.61432866100006], [-0.300743018999924, 53.595283479000045], [-0.303517541999952, 53.59083091900004], [-0.310867808999944, 53.59015444800008], [-0.335827477999942, 53.558685438000055], [-0.348658909999926, 53.55951288800003], [-0.348030184999971, 53.55608267700006], [-0.356284538999944, 53.55605445400005], [-0.417649051999945, 53.56331529300007], [-0.42900102699997, 53.574524620000034], [-0.43940760199996, 53.57029317100006], [-0.450706666999963, 53.55799852200005], [-0.456852513999934, 53.55930080700006], [-0.466410414999928, 53.55549962600003], [-0.467018073999952, 53.54896097400007], [-0.476482761999932, 53.545877860000076], [-0.490906051999957, 53.54585931400004], [-0.501229083999931, 53.537461232000055], [-0.430699990999926, 53.54632411000006], [-0.421870775999935, 53.534433712000066], [-0.413495109999928, 53.53570386700005], [-0.408144929999935, 53.53210872800008], [-0.405057223999961, 53.51759523800007], [-0.444028027999934, 53.509371686000065], [-0.475871932999951, 53.50893435100005], [-0.488388209999925, 53.504827326000054], [-0.480686547999937, 53.49624557100003], [-0.48777163699998, 53.487779345000035], [-0.48657699599994, 53.480479356000046], [-0.471749706999958, 53.47487283800007], [-0.556966560999967, 53.45900932900008], [-0.599479840999948, 53.45640213000007], [-0.629752726999925, 53.45821902300003], [-0.626705601999959, 53.46186596900003], [-0.634806710999953, 53.46955173500004], [-0.633950666999965, 53.48543357300008], [-0.630134238999972, 53.48599442200003], [-0.625687803999938, 53.495591526000055], [-0.628213529999925, 53.50679390800008], [-0.624481054999933, 53.51282116200008], [-0.675758401999929, 53.512509830000056], [-0.687380836999978, 53.51643213500006], [-0.701630119999948, 53.514169637000066], [-0.739591687999962, 53.51993601300006], [-0.752113514999962, 53.500530308000066], [-0.768109815999935, 53.49892590400003], [-0.775623891999942, 53.48902502100003], [-0.771568386999945, 53.47920169200006], [-0.784388908999972, 53.476669195000056], [-0.784364749999952, 53.46337981000005], [-0.797483545999967, 53.45506431800004], [-0.809540245999926, 53.44361269500007], [-0.820515916999966, 53.44074756400005], [-0.818092195999952, 53.42697883900007], [-0.80363243499994, 53.41714247900006], [-0.788625370999966, 53.41526112300005], [-0.788133587999937, 53.40435997800006], [-0.777139171999977, 53.39677432700006], [-0.77717813299995, 53.38977949200006], [-0.790442518999953, 53.38585371100004], [-0.775235779999946, 53.37775878200006], [-0.786036344999957, 53.37455289600007], [-0.791132384999969, 53.363551579000045], [-0.780684623999946, 53.36125366500005], [-0.774459183999966, 53.36443249400003], [-0.758616424999957, 53.35383706300007], [-0.764791369999955, 53.346056341000065], [-0.756719663999945, 53.33967553800005], [-0.766473789999964, 53.330107414000054], [-0.76011815399994, 53.324685886000054], [-0.749955471999954, 53.324218306000034], [-0.75400336499996, 53.313477986000066], [-0.747137824999925, 53.30433331900008], [-0.750967094999965, 53.293602315000044], [-0.758020563999935, 53.292873100000065], [-0.759211494999931, 53.29842404200008], [-0.763502245999973, 53.29943719900007], [-0.766270991999932, 53.292524713000034], [-0.778125300999932, 53.28385435100006], [-0.764279838999926, 53.272739071000046], [-0.773098735999952, 53.26073611800007], [-0.770175931999972, 53.25309740600005], [-0.778486987999941, 53.25199231000005], [-0.777074410999944, 53.246908166000026], [-0.783443301999966, 53.225945427000056], [-0.775573822999945, 53.21495841400008], [-0.780365209999957, 53.19639741600008], [-0.790077272999952, 53.199146718000065], [-0.787292548999972, 53.20456535900007], [-0.815723656999978, 53.204918692000035], [-0.821572231999937, 53.201349142000026], [-0.832060788999968, 53.20672987100005], [-0.830520887999967, 53.212830807000046], [-0.836956470999951, 53.21365759100007], [-0.830798283999968, 53.217565327000045], [-0.839821180999934, 53.218919017000076], [-0.848213378999958, 53.21866188800004], [-0.848497946999942, 53.215308779000054], [-0.857838750999974, 53.21220656200006], [-0.879410837999956, 53.22106718900005], [-0.894342537999933, 53.22359962500008], [-0.948919369999942, 53.21411924500006], [-0.947264571999938, 53.22582889600005], [-0.967542213999934, 53.23533319500007], [-1.006768130999944, 53.236185195000076], [-1.023548369999958, 53.24780280200008], [-1.027877400999955, 53.26101090100008], [-1.072483468999962, 53.24090601800003], [-1.103297152999971, 53.23560711400006], [-1.111459033999949, 53.23044038200004], [-1.122082260999946, 53.23085619200003], [-1.123807180999961, 53.22464475700008], [-1.140328945999954, 53.225736906000066], [-1.171120587999951, 53.21895908800008], [-1.202237000999958, 53.216117041000075], [-1.209424363999972, 53.21769611800005], [-1.201996981999969, 53.23555518000006], [-1.213026658999979, 53.24767250700006], [-1.202450347999957, 53.26121941400004], [-1.174689615999966, 53.26516512300003], [-1.181543046999934, 53.27003184700004], [-1.166489165999963, 53.27765472200008], [-1.180116861999977, 53.28713473200003], [-1.171562352999956, 53.29463685800005], [-1.176627277999955, 53.30513169400007], [-1.187204872999928, 53.30397968200003], [-1.199738361999948, 53.311438397000074], [-1.203175088999956, 53.30419127000005], [-1.219531114999938, 53.304000494000036], [-1.230596367999965, 53.30864191400008], [-1.243453728999953, 53.301598582000054], [-1.254255109999974, 53.30175552600008], [-1.27359828799996, 53.31044041700005], [-1.282003524999936, 53.309479700000054], [-1.295468339999957, 53.31487303600005], [-1.295158912999966, 53.321791620000056], [-1.288558430999956, 53.32617122100004], [-1.299071966999975, 53.33253266600008], [-1.312333679999938, 53.334168661000035], [-1.310327951999966, 53.329396658000064], [-1.320912895999925, 53.325577975000044], [-1.324726590999944, 53.32883261100005], [-1.32842468399997, 53.32887858600003], [-1.33775170499996, 53.31584764100006], [-1.347288781999964, 53.318901494000045], [-1.361745010999925, 53.318542885000056], [-1.362655271999927, 53.31502128900007], [-1.386841981999964, 53.31761487000006], [-1.392054689999952, 53.32266314000003], [-1.386659454999972, 53.33485713500005], [-1.411088976999963, 53.342017070000054], [-1.420867366999971, 53.33456806700008], [-1.44201310699998, 53.33741178300005], [-1.451299509999956, 53.331345224000074], [-1.459930517999965, 53.33063030500006], [-1.455242108999926, 53.32184411700007], [-1.467914011999937, 53.31714427400004], [-1.478421597999954, 53.319372299000065], [-1.502108022999948, 53.31758903000008], [-1.531277152999962, 53.31063337000006], [-1.536914281999941, 53.30473062800007], [-1.561766344999967, 53.30642454300005], [-1.555822278999926, 53.31170653400005], [-1.56166057799993, 53.31596882700006], [-1.580533842999955, 53.31173765800003], [-1.583078192999949, 53.315697657000044], [-1.578995026999962, 53.31669205800006], [-1.585031519999973, 53.321589267000036], [-1.599077712999929, 53.31137847600007], [-1.601524875999928, 53.318205471000056], [-1.60883492399995, 53.322554025000045], [-1.628160688999969, 53.31630165400003], [-1.632771980999962, 53.32082764200004], [-1.612226826999972, 53.34321051300003], [-1.601575387999958, 53.34260892000003], [-1.590586505999966, 53.34595886500006], [-1.625603797999929, 53.352061794000065], [-1.63059259299996, 53.356160988000056], [-1.663958196999943, 53.36689024200007], [-1.663292179999928, 53.37424770700005], [-1.653516583999931, 53.38511456100008], [-1.654644100999974, 53.39293087300007], [-1.668089978999944, 53.393070882000075], [-1.681828491999966, 53.40178075100005], [-1.694521395999971, 53.40116126000004], [-1.704964907999965, 53.40505587300004], [-1.703234202999965, 53.41372220200003], [-1.708774493999954, 53.417439915000045], [-1.718208027999935, 53.41948037900005], [-1.729951473999961, 53.41598556900004], [-1.739779104999968, 53.42097713800007], [-1.746737086999929, 53.42619362500005], [-1.744272834999947, 53.431296702000054], [-1.749728, 53.439119290000065], [-1.743680981999944, 53.444955218000075], [-1.748082529999976, 53.45743386800007], [-1.745330673999945, 53.46218376300004], [-1.752414254999962, 53.46495776900008], [-1.768350257999941, 53.464723665000065], [-1.780297724999969, 53.47483899200006], [-1.791140410999958, 53.47583307500008], [-1.801470730999938, 53.48099171400003], [-1.796209946999966, 53.50312083100005], [-1.810287329999937, 53.506341829000064], [-1.800779260999946, 53.51137882300003], [-1.819523713999956, 53.51342822600003], [-1.822228740999947, 53.52109102800006], [-1.827151844999946, 53.52350794100005], [-1.841820995999967, 53.51990867500007], [-1.873492802999976, 53.54042933300008], [-1.894109474999937, 53.53361184900007], [-1.89932224699993, 53.53811239800007], [-1.909620932999928, 53.538391208000064], [-1.912884692999967, 53.55164366500003], [-1.924826179999968, 53.55258472500003], [-1.942725939999946, 53.561641217000044], [-1.947151472999963, 53.57216826600006], [-1.978243977999966, 53.586788194000064], [-2.009470664999981, 53.61677942100005], [-2.023035929999935, 53.61583933400004], [-2.026868628999978, 53.62424435500003], [-2.029996638999933, 53.636169378000034], [-2.041323293999938, 53.64138717000003], [-2.037095296999951, 53.662342780000074], [-2.053977759999952, 53.671943217000035], [-2.054458069999953, 53.67676767800003], [-2.048901751999949, 53.68022680200005], [-2.051242234999961, 53.68369162600004], [-2.061805884999956, 53.68284690400003], [-2.073398674999964, 53.67751009500006], [-2.083166995999932, 53.67807523100004], [-2.086263566999946, 53.671130625000046], [-2.092906311999968, 53.67016110800006], [-2.097039821999942, 53.67262600500004], [-2.118084951999947, 53.671245327000065], [-2.134127485999954, 53.68573392500008], [-2.142257593999943, 53.678005823000035], [-2.146328120999954, 53.68223149600004], [-2.145190829999933, 53.69219888200007], [-2.162582764999968, 53.69922152400005], [-2.162532387999931, 53.70725195600005], [-2.173293692999948, 53.723011847000066], [-2.156090493999955, 53.73532475400003], [-2.14909296999997, 53.73389644700006], [-2.145407979999959, 53.73605497500006], [-2.141646076999962, 53.745740599000044], [-2.130834669999956, 53.75207037600006], [-2.130464150999956, 53.772389426000075], [-2.136362541999972, 53.78010437800003], [-2.124815341999977, 53.788055170000064], [-2.129721410999935, 53.79163165300008], [-2.128360983999926, 53.79901899100008], [-2.084859151999979, 53.81855409500008], [-2.061250542999971, 53.825635428000055], [-2.046924864999937, 53.829510320000054], [-2.046131233999972, 53.850141707000034], [-2.07484954499995, 53.862367180000035], [-2.081191331999946, 53.86997145400005], [-2.089915029999929, 53.86818208600005], [-2.082511730999954, 53.87764264200007], [-2.103019022999945, 53.890941430000055], [-2.113176002999978, 53.90461146600006], [-2.107467313999962, 53.908042487000046], [-2.113345983999977, 53.91562698300004], [-2.121758211999975, 53.917330916000026], [-2.124350289999938, 53.92320065700005], [-2.139978206999956, 53.92832555200005], [-2.141798515999938, 53.92567458900004], [-2.149432819999959, 53.92602786200007], [-2.15171623599997, 53.92948412000004], [-2.162876691999941, 53.92726996300007], [-2.164120159999925, 53.934635367000055], [-2.17167933199994, 53.937688467000044], [-2.175945084999967, 53.93426019100008], [-2.183922841999959, 53.93661986400008], [-2.183964800999945, 53.94511524100005], [-2.179468689999965, 53.945985405000044], [-2.191797251999958, 53.95868200800004], [-2.196019533999959, 53.96957632800007], [-2.200635331999933, 53.970126407000066], [-2.20963923599993, 53.962898747000054], [-2.214420192999967, 53.96509927000005], [-2.225736327999925, 53.96109949300006], [-2.225947907999966, 53.96725363500008], [-2.232015375999936, 53.97123001800003], [-2.221062479999944, 53.977927702000045], [-2.230345426999975, 53.98153025900007], [-2.294319659999928, 53.974432910000075], [-2.298854699999936, 53.97656053000003], [-2.296733434999965, 53.98055428200007], [-2.319151131999945, 53.99384193000003], [-2.339923306999935, 53.98942778900005], [-2.352357405999953, 53.99467382800003], [-2.352310489999979, 54.010539066000035], [-2.350288832999979, 54.012200395000036], [-2.340760031999935, 54.007462443000065], [-2.339560243999927, 54.009433295000065], [-2.343540618999953, 54.01732761000005], [-2.357323268999949, 54.01911695600006], [-2.36199942099995, 54.040669723000065], [-2.374071739999977, 54.04908816500006], [-2.425826290999964, 54.03809503900004], [-2.432733828999972, 54.041593214000045], [-2.458775074999949, 54.04049559500004], [-2.469549664999931, 54.04621251300006], [-2.463990413999966, 54.06108416700005], [-2.466886363999947, 54.075738742000055], [-2.455026161999967, 54.09198149300005], [-2.446710179999968, 54.09666064600003], [-2.454900432999978, 54.10091194800003], [-2.450638590999972, 54.103277407000064], [-2.457017081999936, 54.10799899400007], [-2.449331444999927, 54.124099347000026], [-2.44420088399994, 54.12918733400005], [-2.435735291999947, 54.12800334500008], [-2.433338996999964, 54.13151797000006], [-2.427651414999957, 54.131427674000065], [-2.428321292999954, 54.137198900000044], [-2.414044351999962, 54.14851469200005], [-2.395137256999931, 54.15687903000003], [-2.396486129999971, 54.16601845800005], [-2.375522346999958, 54.17258442600007], [-2.371199409999974, 54.18422217600005], [-2.356822805999968, 54.194101541000066], [-2.342349125999931, 54.202619336000055], [-2.331133177999959, 54.196723880000036], [-2.33589772199997, 54.204285318000075], [-2.346576721999952, 54.20781034700008], [-2.326563445999966, 54.21940983300004], [-2.322344189999967, 54.22765981600003], [-2.29527040399995, 54.23060198100006], [-2.286406160999945, 54.240496620000044], [-2.292568030999973, 54.25252133400005], [-2.305106773999967, 54.24934346900005], [-2.320814055999961, 54.259921071000065], [-2.315495166999938, 54.270204196000066], [-2.32589090099998, 54.27969593900008], [-2.317191929999979, 54.28716559600008], [-2.324171854999975, 54.29360484800003], [-2.320390118999967, 54.29904453700004], [-2.32452243299997, 54.303183570000044], [-2.32040124699995, 54.30677061500006], [-2.323032324999929, 54.31108273000007], [-2.314977419999934, 54.313586188000045], [-2.309841635999931, 54.32431492300003], [-2.320202174999963, 54.33175072800003], [-2.334749081999973, 54.33494428200004], [-2.335767582999949, 54.34043450900003], [-2.367712461999929, 54.35607076300005], [-2.382317891999946, 54.371314719000054], [-2.40628703699997, 54.37025305000003], [-2.420874058999971, 54.36584507600003], [-2.443772352999929, 54.37602822200006], [-2.453079594999963, 54.37449444400005], [-2.462742140999978, 54.368386643000065], [-2.483652971999959, 54.37735236200007], [-2.507361598999978, 54.37291668100005], [-2.51368830499996, 54.36793484800006], [-2.521157882999944, 54.36993084300008], [-2.523461743999974, 54.37535725200007], [-2.533990638999967, 54.38108422200003], [-2.531088759999932, 54.38456692800003], [-2.538224060999937, 54.39422541700003], [-2.552337037999962, 54.38696994600008], [-2.575275040999941, 54.39198389500007], [-2.583470488999978, 54.38765049300008], [-2.601738830999977, 54.39895650400007], [-2.603975452999975, 54.40692844500006], [-2.614862900999981, 54.40938814300006], [-2.640276578999931, 54.404346169000064], [-2.644658173999971, 54.41025265500008], [-2.660430013999928, 54.41423575300007], [-2.666307028999938, 54.421563896000066], [-2.686803611999949, 54.426665212000046], [-2.690955910999946, 54.429142744000046], [-2.689215729999944, 54.445755286000065], [-2.696681339999941, 54.44622031800003], [-2.698461876999943, 54.43823134400003], [-2.694686353999941, 54.436236346000044], [-2.703522802999942, 54.432078069000056], [-2.737074998999958, 54.44683090900003], [-2.747615148999955, 54.44707964600008], [-2.771623466999927, 54.463228686000036], [-2.776991789999954, 54.45987244400004], [-2.789176572999963, 54.464981858000044], [-2.796241369999962, 54.469928706000076], [-2.795420670999931, 54.475268], [-2.806877045999954, 54.48206012900005], [-2.816000440999971, 54.47463024600006], [-2.827613352999947, 54.47993089000005], [-2.838619616999949, 54.476161267000066], [-2.853011670999933, 54.47853843300004], [-2.854481354999962, 54.48335222400004], [-2.865460742999971, 54.490024289000075], [-2.875617773999977, 54.481100619000074], [-2.883665051999969, 54.484956786000055], [-2.906278350999969, 54.48134790800003], [-2.919818779999957, 54.46477914600007], [-2.931454556999938, 54.46987280900004], [-2.937552805999928, 54.468670745000054], [-2.955347328999949, 54.48453233200007], [-2.96636045899993, 54.48223216000008], [-2.980476892999945, 54.49595436700008], [-3.001920840999958, 54.497322272000076], [-3.013084578999951, 54.49463717700007], [-3.014834700999927, 54.49984329600005], [-3.020961513999964, 54.49983860200007], [-3.048303829999952, 54.49627817700008], [-3.05080159399995, 54.49126521300008], [-3.061985400999959, 54.49252266000008], [-3.076214339999979, 54.48936559200007], [-3.088265210999964, 54.48396415800005], [-3.097753021999949, 54.471903472000065], [-3.109479177999958, 54.47400370100007], [-3.115704687999937, 54.46658286100006], [-3.112573273999942, 54.46149082800008], [-3.119425417999935, 54.46023757300003], [-3.132213046999937, 54.464543968000044], [-3.136444058999928, 54.47074609300006], [-3.144960336999929, 54.46875758700003], [-3.153825380999933, 54.46015397500008], [-3.167139376999955, 54.45411067800006], [-3.166278925999961, 54.447766469000044], [-3.161116423999943, 54.44703707000008], [-3.158591736999938, 54.44217740900007], [-3.157944382999972, 54.43130613100004], [-3.182233758999928, 54.425466045000064], [-3.181170549999933, 54.413252415000045], [-3.188967403999925, 54.405958816000066], [-3.185740889999977, 54.40328155900005], [-3.198652482999933, 54.39240839000007], [-3.232561698999973, 54.376031943000044], [-3.243379306999941, 54.36308635700004], [-3.271599711999954, 54.35816533700006], [-3.292717194999966, 54.361031241000035], [-3.298577757999965, 54.359230859000036], [-3.301405256999942, 54.352247386000045], [-3.308259041999975, 54.34922355800006], [-3.298809969999979, 54.34753501600005], [-3.295096120999972, 54.34274500500004], [-3.302828298999941, 54.33135124300003], [-3.294863048999957, 54.325468966000074], [-3.308160761999943, 54.32220349500005], [-3.304105225999933, 54.299789915000076], [-3.313681506999956, 54.29182162300003], [-3.301025558999925, 54.27946214200006], [-3.304164081999943, 54.27593658200004], [-3.32041186999993, 54.271629106000034], [-3.322778006999954, 54.275559447000035], [-3.347297338999965, 54.283979173000034], [-3.347072490999949, 54.27963699800006], [-3.368826465999973, 54.27612044800003], [-3.370190477999927, 54.271359450000034], [-3.379542835999928, 54.27261440600006], [-3.386487759999966, 54.268317797000066], [-3.392623113999946, 54.27016593900004], [-3.397146263999957, 54.26774705500003], [-3.418789919999938, 54.28263098700006], [-3.419676107999976, 54.28249966300007], [-3.421403813999973, 54.28440213500005], [-3.414025305999928, 54.357931980000046], [-3.435285289999968, 54.34338261200003], [-3.479521442999953, 54.38641658100005], [-3.509616205999976, 54.415632008000046], [-3.543423128999962, 54.44086491000007], [-3.636113423999973, 54.50983764100005], [-3.638119900999925, 54.51232229700008], [-3.607324149999954, 54.530876385000056], [-3.599178751999943, 54.55225872400007], [-3.597405171999981, 54.55239145200005], [-3.589780148999978, 54.54980557600004], [-3.584705636999956, 54.564840994000065], [-3.572586546999958, 54.60070497400005], [-3.565889309999932, 54.61227568000004], [-3.580046706999951, 54.652246466000065], [-3.571744407999972, 54.65091371300008], [-3.55197577399997, 54.66663982400007], [-3.519345886999929, 54.692563791000055], [-3.509881355999937, 54.71762340300006], [-3.494186488999958, 54.71241899000006], [-3.507128738999938, 54.717621662000056], [-3.456892508999942, 54.74619935800007], [-3.439017152999952, 54.75635364000004], [-3.43769382499994, 54.80200485200004], [-3.399842159999935, 54.86746382000007], [-3.398555083999952, 54.86843264600003], [-3.394254936999971, 54.86802486300007], [-3.397224389999963, 54.86943424100008], [-3.37773584599995, 54.88409576000004], [-3.338846000999979, 54.900233978000074], [-3.339757634999955, 54.89626958100007], [-3.302203597999949, 54.88513064400007], [-3.281855687999951, 54.874977], [-3.288540721999937, 54.892040044000055], [-3.275368601999958, 54.89188074800006], [-3.266457602999935, 54.891714268000044], [-3.249096688999941, 54.90179047500004], [-3.248571483999967, 54.902095186000054], [-3.249132514999928, 54.902947434000055], [-3.254344362999973, 54.91086273700006], [-3.274908057999937, 54.903063563000046], [-3.308158774999924, 54.91149118000004], [-3.313270462999981, 54.91919814400006], [-3.30258973499997, 54.927697685000055], [-3.285178450999979, 54.941543651000075], [-3.265337305999935, 54.943034330000046], [-3.268938284999933, 54.93707352200005], [-3.250442693999958, 54.94520576500008], [-3.232201902999975, 54.953220016000046], [-3.204392174999953, 54.95387531400007], [-3.131043664999936, 54.929415971000026], [-3.11887035899997, 54.925349303000075], [-3.103015056999936, 54.92967419300004], [-3.073619160999954, 54.937684653000076], [-3.129785, 54.93440490300003], [-3.131118684999933, 54.94761022300003], [-3.108730701999946, 54.94911506500006], [-3.11626886099998, 54.96066230000008], [-3.104023014999939, 54.97137390600005], [-3.075683716999947, 54.96759741200003], [-3.074555893999957, 54.96860823000003], [-3.073705903999951, 54.968525242000055], [-3.073525937999932, 54.96953128200005], [-3.058417405999933, 54.98306578100005], [-3.056598448999978, 54.982826361000036], [-3.053451755999959, 54.99280453800003], [-3.058108226999934, 54.990691628000036], [-3.058291613999927, 54.99152878500007], [-3.044081278999954, 54.99864093300005], [-3.044901725999978, 55.00765043800004], [-3.048651381999946, 55.00681656300003], [-3.049497070999962, 55.009383025000034], [-3.03931664199996, 55.016420657000026], [-3.040126608999969, 55.022635120000075], [-3.030070885999976, 55.02472820500003], [-3.034313957999927, 55.02990888200003], [-3.026044273999958, 55.035361841000054], [-3.040228401999968, 55.04117615600006], [-3.043364640999926, 55.04738326300003], [-3.053419718999976, 55.04728404800005], [-3.051051982999979, 55.05273599700007], [-3.043171265999945, 55.05566063300006], [-3.027550729999973, 55.055281215000036], [-2.958593512999926, 55.04929459300007], [-2.955415247999952, 55.05474426900008], [-2.936450438999941, 55.059618869000076], [-2.94305641099993, 55.064309009000056], [-2.939705277999963, 55.06957765200008], [-2.926182167999968, 55.07056553600006], [-2.914570940999965, 55.07898358700004], [-2.897046543999977, 55.07787189600003], [-2.893551916999968, 55.08763704900008], [-2.884052337999947, 55.08732445100003], [-2.882315202999962, 55.09294897800004], [-2.886426790999963, 55.09465178900007], [-2.876761106999936, 55.095256429000074], [-2.87085925599996, 55.10626481800006], [-2.844869270999936, 55.11158571400006], [-2.845622122999941, 55.11538558500007], [-2.83794504399998, 55.11735438100004], [-2.841519335999976, 55.12232269000003], [-2.832692874999964, 55.12148022400004], [-2.827132742999936, 55.12543494200003], [-2.83297979799994, 55.13264860900006], [-2.825502569999969, 55.13831411500007], [-2.812752951999926, 55.136183377000066], [-2.784918851999976, 55.141775575000054], [-2.774947001999976, 55.14926562200003], [-2.746255921999932, 55.158223872000065], [-2.732561302999954, 55.167287387000044], [-2.703507651999928, 55.17316759000005], [-2.689790291999941, 55.18898422900003], [-2.666814730999931, 55.22158035700005], [-2.648070077999932, 55.21986702300006], [-2.63141423999997, 55.22369815400003], [-2.63580589999998, 55.229766151000035], [-2.630229128999929, 55.24479149100006], [-2.611451109999962, 55.247134662000065], [-2.627652799999964, 55.25057260600005], [-2.64677127799996, 55.26004384500004], [-2.626656088999937, 55.26222097400006], [-2.628190572999927, 55.267932735000045], [-2.609238167999933, 55.28324814300004], [-2.573363121999932, 55.29688439700004], [-2.573704156999952, 55.30078599800004], [-2.557090038999945, 55.31160937300007], [-2.559008357999971, 55.31785300900003], [-2.55042505199998, 55.31578540800007], [-2.530768493999972, 55.32270891400003], [-2.520269485999961, 55.323047279000036], [-2.490968002999978, 55.350396825000075], [-2.475393431999976, 55.35474002400008], [-2.467537878999963, 55.35275759400008], [-2.444651797999938, 55.35916068100005], [-2.429230590999964, 55.35643464900005], [-2.414996411999937, 55.35892174900005], [-2.402184000999966, 55.35440616900007], [-2.399505093999949, 55.34822143100007], [-2.378911812999945, 55.34916955800003], [-2.37279842099997, 55.355069436000065], [-2.337529966999966, 55.36719098100008], [-2.346232938999947, 55.373060914000064], [-2.330020304999948, 55.381241662000036], [-2.334741553999947, 55.38315510000007], [-2.33551225399998, 55.392565363000074], [-2.344946810999943, 55.39931353500003], [-2.333530674999963, 55.40242510100006], [-2.335629144999928, 55.40820804600003], [-2.332366312999966, 55.40991095800007], [-2.313253524999936, 55.40678956800008], [-2.312544874999958, 55.40985543800008], [-2.295934834999969, 55.41492193100004], [-2.29451342599998, 55.42046514000003], [-2.273892607999926, 55.425980537000044], [-2.270646720999935, 55.42959319300007], [-2.262243359999957, 55.42855796300006], [-2.260611121999943, 55.43293397100007], [-2.242543698999953, 55.432146216000035], [-2.23128199599995, 55.42842955800006], [-2.194857968999941, 55.44459048600004], [-2.188077987999975, 55.46211534000008], [-2.165521296999941, 55.468381933000046], [-2.173723643999949, 55.47227097700005], [-2.201335695999944, 55.47526734000007], [-2.206355224999925, 55.481559951000065], [-2.20264932799995, 55.48954116900006], [-2.219452504999936, 55.50573228800005], [-2.228845466999928, 55.509518643000035], [-2.224283257999957, 55.52278767300004], [-2.227602341999955, 55.528408126000045], [-2.233217082999943, 55.52961326500008], [-2.232248853999977, 55.54482995700005], [-2.240306428999929, 55.55562706300003], [-2.247854378999932, 55.55673064600006], [-2.288810592999937, 55.580307463000054], [-2.292391614999929, 55.585798468000064], [-2.285935883999969, 55.59654376200007], [-2.289232129999959, 55.60377351200003], [-2.295135258999949, 55.60862256300004], [-2.307286202999933, 55.611104143000034], [-2.316094086999954, 55.62045845100005], [-2.308934662999945, 55.62247951900008], [-2.30862605599998, 55.62887593800008], [-2.324310472999969, 55.62616607400008], [-2.33600533699996, 55.632481390000066], [-2.326510478999978, 55.63675366700005], [-2.324994738999976, 55.64302034000008], [-2.305789540999967, 55.64704403600007], [-2.278878617999965, 55.64274938800003], [-2.25555957499995, 55.64447242700004], [-2.245696014999965, 55.63958404200008], [-2.234183472999973, 55.64119709000005], [-2.231917778999957, 55.645144868000045], [-2.248237262999965, 55.65206554000008], [-2.230352928999935, 55.662266001000035], [-2.218452783999965, 55.664260014000035], [-2.218659369999955, 55.675907], [-2.197808590999955, 55.688399393000054], [-2.184055344999933, 55.70159319600003], [-2.167230809999978, 55.70603498600008], [-2.176519748999965, 55.71883754300006], [-2.167694422999944, 55.722445520000065], [-2.150575973999935, 55.72315440600005], [-2.149746402999938, 55.73519156800006], [-2.144019334999939, 55.739348834000054], [-2.11763753699995, 55.73877496700004], [-2.115722132999963, 55.74755695300007], [-2.106444359999955, 55.748563586000046], [-2.107641585999943, 55.759888137000075], [-2.085639158999925, 55.76204030200006], [-2.08612304199994, 55.79304531000008], [-2.07697417299994, 55.79411700400004], [-2.062241838999967, 55.80273317900003], [-2.052636563999954, 55.80251104100006], [-2.034424017999925, 55.81108766700004]]], [[[-1.779211329999953, 55.685626108000065], [-1.778943702999925, 55.67140982300003], [-1.778874515999973, 55.66773066700006], [-1.802438921999965, 55.66828383100005], [-1.815591161999976, 55.682410005000065], [-1.84239488399993, 55.67871484700004], [-1.85495547499994, 55.68563001100006], [-1.797386170999971, 55.68722351000008], [-1.779211329999953, 55.685626108000065]]], [[[-0.520689554999933, 53.68540839800005], [-0.535747772999969, 53.681256431000065], [-0.555487222999943, 53.69051655800007], [-0.520689554999933, 53.68540839800005]]]], &quot;type&quot;: &quot;MultiPolygon&quot;}, &quot;properties&quot;: {&quot;CreationDate&quot;: &quot;2022-04-01T08:52:11Z&quot;, &quot;Creator&quot;: &quot;hsc_map_england&quot;, &quot;EditDate&quot;: &quot;2022-04-01T08:52:11Z&quot;, &quot;Editor&quot;: &quot;hsc_map_england&quot;, &quot;FID&quot;: 6, &quot;GlobalID&quot;: &quot;{6AEA1300-3902-4B49-92FB-BD9BA1B8F795}&quot;, &quot;Notes&quot;: null, &quot;SHAPE_Area&quot;: 4.094667975231866, &quot;SHAPE_Length&quot;: 17.81440979102012, &quot;bng_e&quot;: 418073, &quot;bng_n&quot;: 477340, &quot;lat&quot;: 54.191521, &quot;long&quot;: -1.72452, &quot;nhser19cd&quot;: &quot;E40000009&quot;, &quot;nhser19nm&quot;: &quot;North East and Yorkshire&quot;, &quot;objectid&quot;: 6, &quot;st_areasha&quot;: 29589538283.741676, &quot;st_lengths&quot;: 1446541.8602022836}, &quot;type&quot;: &quot;Feature&quot;}, {&quot;geometry&quot;: {&quot;coordinates&quot;: [[[[-3.014834700999927, 54.49984329600005], [-3.013084578999951, 54.49463717700007], [-3.001920840999958, 54.497322272000076], [-2.980476892999945, 54.49595436700008], [-2.96636045899993, 54.48223216000008], [-2.955347328999949, 54.48453233200007], [-2.937552805999928, 54.468670745000054], [-2.931454556999938, 54.46987280900004], [-2.919818779999957, 54.46477914600007], [-2.906278350999969, 54.48134790800003], [-2.883665051999969, 54.484956786000055], [-2.875617773999977, 54.481100619000074], [-2.865460742999971, 54.490024289000075], [-2.854481354999962, 54.48335222400004], [-2.853011670999933, 54.47853843300004], [-2.838619616999949, 54.476161267000066], [-2.827613352999947, 54.47993089000005], [-2.816000440999971, 54.47463024600006], [-2.806877045999954, 54.48206012900005], [-2.795420670999931, 54.475268], [-2.796241369999962, 54.469928706000076], [-2.789176572999963, 54.464981858000044], [-2.776991789999954, 54.45987244400004], [-2.771623466999927, 54.463228686000036], [-2.747615148999955, 54.44707964600008], [-2.737074998999958, 54.44683090900003], [-2.703522802999942, 54.432078069000056], [-2.694686353999941, 54.436236346000044], [-2.698461876999943, 54.43823134400003], [-2.696681339999941, 54.44622031800003], [-2.689215729999944, 54.445755286000065], [-2.690955910999946, 54.429142744000046], [-2.686803611999949, 54.426665212000046], [-2.666307028999938, 54.421563896000066], [-2.660430013999928, 54.41423575300007], [-2.644658173999971, 54.41025265500008], [-2.640276578999931, 54.404346169000064], [-2.614862900999981, 54.40938814300006], [-2.603975452999975, 54.40692844500006], [-2.601738830999977, 54.39895650400007], [-2.583470488999978, 54.38765049300008], [-2.575275040999941, 54.39198389500007], [-2.552337037999962, 54.38696994600008], [-2.538224060999937, 54.39422541700003], [-2.531088759999932, 54.38456692800003], [-2.533990638999967, 54.38108422200003], [-2.523461743999974, 54.37535725200007], [-2.521157882999944, 54.36993084300008], [-2.51368830499996, 54.36793484800006], [-2.507361598999978, 54.37291668100005], [-2.483652971999959, 54.37735236200007], [-2.462742140999978, 54.368386643000065], [-2.453079594999963, 54.37449444400005], [-2.443772352999929, 54.37602822200006], [-2.420874058999971, 54.36584507600003], [-2.40628703699997, 54.37025305000003], [-2.382317891999946, 54.371314719000054], [-2.367712461999929, 54.35607076300005], [-2.335767582999949, 54.34043450900003], [-2.334749081999973, 54.33494428200004], [-2.320202174999963, 54.33175072800003], [-2.309841635999931, 54.32431492300003], [-2.314977419999934, 54.313586188000045], [-2.323032324999929, 54.31108273000007], [-2.32040124699995, 54.30677061500006], [-2.32452243299997, 54.303183570000044], [-2.320390118999967, 54.29904453700004], [-2.324171854999975, 54.29360484800003], [-2.317191929999979, 54.28716559600008], [-2.32589090099998, 54.27969593900008], [-2.315495166999938, 54.270204196000066], [-2.320814055999961, 54.259921071000065], [-2.305106773999967, 54.24934346900005], [-2.292568030999973, 54.25252133400005], [-2.286406160999945, 54.240496620000044], [-2.29527040399995, 54.23060198100006], [-2.322344189999967, 54.22765981600003], [-2.326563445999966, 54.21940983300004], [-2.346576721999952, 54.20781034700008], [-2.33589772199997, 54.204285318000075], [-2.331133177999959, 54.196723880000036], [-2.342349125999931, 54.202619336000055], [-2.356822805999968, 54.194101541000066], [-2.371199409999974, 54.18422217600005], [-2.375522346999958, 54.17258442600007], [-2.396486129999971, 54.16601845800005], [-2.395137256999931, 54.15687903000003], [-2.414044351999962, 54.14851469200005], [-2.428321292999954, 54.137198900000044], [-2.427651414999957, 54.131427674000065], [-2.433338996999964, 54.13151797000006], [-2.435735291999947, 54.12800334500008], [-2.44420088399994, 54.12918733400005], [-2.449331444999927, 54.124099347000026], [-2.457017081999936, 54.10799899400007], [-2.450638590999972, 54.103277407000064], [-2.454900432999978, 54.10091194800003], [-2.446710179999968, 54.09666064600003], [-2.455026161999967, 54.09198149300005], [-2.466886363999947, 54.075738742000055], [-2.463990413999966, 54.06108416700005], [-2.469549664999931, 54.04621251300006], [-2.458775074999949, 54.04049559500004], [-2.432733828999972, 54.041593214000045], [-2.425826290999964, 54.03809503900004], [-2.374071739999977, 54.04908816500006], [-2.36199942099995, 54.040669723000065], [-2.357323268999949, 54.01911695600006], [-2.343540618999953, 54.01732761000005], [-2.339560243999927, 54.009433295000065], [-2.340760031999935, 54.007462443000065], [-2.350288832999979, 54.012200395000036], [-2.352310489999979, 54.010539066000035], [-2.352357405999953, 53.99467382800003], [-2.339923306999935, 53.98942778900005], [-2.319151131999945, 53.99384193000003], [-2.296733434999965, 53.98055428200007], [-2.298854699999936, 53.97656053000003], [-2.294319659999928, 53.974432910000075], [-2.230345426999975, 53.98153025900007], [-2.221062479999944, 53.977927702000045], [-2.232015375999936, 53.97123001800003], [-2.225947907999966, 53.96725363500008], [-2.225736327999925, 53.96109949300006], [-2.214420192999967, 53.96509927000005], [-2.20963923599993, 53.962898747000054], [-2.200635331999933, 53.970126407000066], [-2.196019533999959, 53.96957632800007], [-2.191797251999958, 53.95868200800004], [-2.179468689999965, 53.945985405000044], [-2.183964800999945, 53.94511524100005], [-2.183922841999959, 53.93661986400008], [-2.175945084999967, 53.93426019100008], [-2.17167933199994, 53.937688467000044], [-2.164120159999925, 53.934635367000055], [-2.162876691999941, 53.92726996300007], [-2.15171623599997, 53.92948412000004], [-2.149432819999959, 53.92602786200007], [-2.141798515999938, 53.92567458900004], [-2.139978206999956, 53.92832555200005], [-2.124350289999938, 53.92320065700005], [-2.121758211999975, 53.917330916000026], [-2.113345983999977, 53.91562698300004], [-2.107467313999962, 53.908042487000046], [-2.113176002999978, 53.90461146600006], [-2.103019022999945, 53.890941430000055], [-2.082511730999954, 53.87764264200007], [-2.089915029999929, 53.86818208600005], [-2.081191331999946, 53.86997145400005], [-2.07484954499995, 53.862367180000035], [-2.046131233999972, 53.850141707000034], [-2.046924864999937, 53.829510320000054], [-2.061250542999971, 53.825635428000055], [-2.084859151999979, 53.81855409500008], [-2.128360983999926, 53.79901899100008], [-2.129721410999935, 53.79163165300008], [-2.124815341999977, 53.788055170000064], [-2.136362541999972, 53.78010437800003], [-2.130464150999956, 53.772389426000075], [-2.130834669999956, 53.75207037600006], [-2.141646076999962, 53.745740599000044], [-2.145407979999959, 53.73605497500006], [-2.14909296999997, 53.73389644700006], [-2.156090493999955, 53.73532475400003], [-2.173293692999948, 53.723011847000066], [-2.162532387999931, 53.70725195600005], [-2.162582764999968, 53.69922152400005], [-2.145190829999933, 53.69219888200007], [-2.146328120999954, 53.68223149600004], [-2.142257593999943, 53.678005823000035], [-2.134127485999954, 53.68573392500008], [-2.118084951999947, 53.671245327000065], [-2.097039821999942, 53.67262600500004], [-2.092906311999968, 53.67016110800006], [-2.086263566999946, 53.671130625000046], [-2.083166995999932, 53.67807523100004], [-2.073398674999964, 53.67751009500006], [-2.061805884999956, 53.68284690400003], [-2.051242234999961, 53.68369162600004], [-2.048901751999949, 53.68022680200005], [-2.054458069999953, 53.67676767800003], [-2.053977759999952, 53.671943217000035], [-2.037095296999951, 53.662342780000074], [-2.041323293999938, 53.64138717000003], [-2.029996638999933, 53.636169378000034], [-2.026868628999978, 53.62424435500003], [-2.023035929999935, 53.61583933400004], [-2.009470664999981, 53.61677942100005], [-1.978243977999966, 53.586788194000064], [-1.947151472999963, 53.57216826600006], [-1.942725939999946, 53.561641217000044], [-1.924826179999968, 53.55258472500003], [-1.912884692999967, 53.55164366500003], [-1.909620932999928, 53.538391208000064], [-1.89932224699993, 53.53811239800007], [-1.894109474999937, 53.53361184900007], [-1.873492802999976, 53.54042933300008], [-1.841820995999967, 53.51990867500007], [-1.827151844999946, 53.52350794100005], [-1.822228740999947, 53.52109102800006], [-1.819523713999956, 53.51342822600003], [-1.800779260999946, 53.51137882300003], [-1.810287329999937, 53.506341829000064], [-1.796209946999966, 53.50312083100005], [-1.801470730999938, 53.48099171400003], [-1.812901423999961, 53.479600004000076], [-1.814134691999925, 53.46910973100006], [-1.827630987999953, 53.463430439000035], [-1.843227104999926, 53.46392928100005], [-1.853542184999981, 53.45949653300005], [-1.862704561999976, 53.45996830800004], [-1.864002921999941, 53.45263285400006], [-1.85263940699997, 53.44701865900004], [-1.868570448999947, 53.433762011000056], [-1.865564530999961, 53.425636388000044], [-1.878432828999962, 53.42652035700007], [-1.899846772999979, 53.41918162300004], [-1.909714000999941, 53.41063460700008], [-1.920925755999974, 53.41233342700008], [-1.934257954999964, 53.408430363000036], [-1.957485435999956, 53.40990258100004], [-1.976503639999976, 53.42058145900006], [-1.981383868999956, 53.415782654000054], [-1.992329549999965, 53.41519310800004], [-2.005019370999946, 53.39284853300006], [-2.004642862999958, 53.38632747400004], [-2.01971455599994, 53.380595432000064], [-2.017083897999953, 53.377832616000035], [-2.021472022999944, 53.37505918900007], [-2.033775224999943, 53.375541629000054], [-2.031058539999947, 53.37026195900006], [-2.03408703499997, 53.36775268400004], [-2.027128671999947, 53.36376747500003], [-2.021816719999947, 53.366756989000066], [-2.008998142999928, 53.362010704000056], [-2.010672020999948, 53.35570166600007], [-2.006785735999927, 53.354572191000045], [-2.004659864999951, 53.346009768000044], [-2.014319077999971, 53.34005859800004], [-2.013649726999972, 53.33242013200004], [-2.009283192999931, 53.33138826000004], [-2.010739095999952, 53.32354955000005], [-2.001551010999947, 53.31892111500008], [-2.009329201999947, 53.30231408700007], [-2.005197437999925, 53.26904005000006], [-2.009481996999966, 53.26065234500004], [-2.000332732999937, 53.25543874400006], [-1.999731329999975, 53.245048774000054], [-1.981883125999957, 53.23857932700008], [-1.97485867599994, 53.231061157000056], [-1.976064998999959, 53.227529795000066], [-1.990264647999936, 53.22299886900004], [-1.987407554999947, 53.213586028000066], [-2.000202029999969, 53.19373767600007], [-2.018179507999946, 53.18905298000004], [-2.028555168999958, 53.19335342000005], [-2.04652710299996, 53.19264790300008], [-2.055026215999931, 53.18642760800003], [-2.05228929499998, 53.183959181000034], [-2.059214950999944, 53.180900776000044], [-2.057726955999954, 53.17662614300008], [-2.068144254999936, 53.174699745000055], [-2.070232488999977, 53.17168606200005], [-2.087236403999952, 53.16985389800004], [-2.092872881999938, 53.17291570000003], [-2.10173595699996, 53.168904689000044], [-2.112076532999936, 53.16865967400008], [-2.119541302999949, 53.17463398600006], [-2.129302996999968, 53.17545155000005], [-2.133826666999937, 53.18306540800006], [-2.140438906999975, 53.183812799000066], [-2.144865908999975, 53.17376778300007], [-2.141411443999971, 53.15665241500005], [-2.155645001999972, 53.15961893700006], [-2.159543271999951, 53.152906236000035], [-2.176580462999937, 53.14553074600008], [-2.211423817999957, 53.11576295300006], [-2.223073758999931, 53.10379506900006], [-2.237951390999967, 53.10104697200006], [-2.247407150999948, 53.08984996200007], [-2.253248561999953, 53.093977117000065], [-2.257125748999954, 53.09001641000003], [-2.277105763999941, 53.08590555900008], [-2.277652329999967, 53.08122354000005], [-2.293375753999953, 53.07832636300003], [-2.303396642999928, 53.08296147200008], [-2.318050900999935, 53.08135873800006], [-2.329009238999959, 53.07657988400007], [-2.330515018999961, 53.07086057500004], [-2.34758551699997, 53.056170261000034], [-2.35373532899996, 53.058848847000036], [-2.357579130999966, 53.05471891700006], [-2.381249088999937, 53.052551169000026], [-2.38617077899994, 53.03356388900005], [-2.379785434999974, 53.02759153800008], [-2.384227436999936, 53.02616766300008], [-2.370467647999931, 53.01457593400005], [-2.383045010999979, 53.007786948000046], [-2.380793983999979, 52.998411100000055], [-2.389734748999956, 52.99539226700006], [-2.406986647999929, 52.99591688300006], [-2.404474923999942, 52.99165361000007], [-2.410866770999974, 52.98792428100006], [-2.436760128999936, 52.986256205000075], [-2.434613897999952, 52.96952147600007], [-2.442957763999971, 52.970739051000066], [-2.450257370999964, 52.96605141200007], [-2.47508393499993, 52.96248924000008], [-2.481152588999976, 52.95881761100003], [-2.491700765999951, 52.967684348000034], [-2.499023370999964, 52.968434466000076], [-2.506882935999954, 52.96491858700006], [-2.521427795999955, 52.974265169000034], [-2.523280450999948, 52.95435538500004], [-2.529515798999967, 52.947165064000046], [-2.546355352999967, 52.95683762200008], [-2.553697396999951, 52.95746629700005], [-2.56126302499996, 52.96495205700006], [-2.573492228999953, 52.96271652000007], [-2.570276260999947, 52.95977198600008], [-2.576803133999931, 52.95610563000008], [-2.58641348499998, 52.95537928500005], [-2.597693396999944, 52.96300609300005], [-2.598446685999932, 52.971718284000076], [-2.592756661999942, 52.974169767000035], [-2.599629851999964, 52.97543281000003], [-2.59488879099996, 52.979607145000045], [-2.605682780999928, 52.97939827000005], [-2.607734119999975, 52.98836202500007], [-2.621939782999959, 52.98674241500004], [-2.63265092599994, 52.996670780000045], [-2.642699229999948, 52.99351906000004], [-2.652357196999958, 52.994994391000034], [-2.674662135999938, 52.98566294600005], [-2.687078545999952, 52.98683043700004], [-2.699292335999928, 52.99543880600004], [-2.71187856499995, 52.98608455500005], [-2.726840451999976, 52.98327288200005], [-2.743721823999977, 52.987146720000055], [-2.759801016999972, 52.98638287400007], [-2.766805758999965, 52.99465509000004], [-2.779708592999953, 52.99335942400006], [-2.780897881999977, 52.99618621400003], [-2.785131946999968, 52.993907308000075], [-2.789935303999926, 52.99574726000003], [-2.792150268999933, 52.990996746000064], [-2.803311487999963, 52.98959425900006], [-2.836027875999946, 52.99714102400003], [-2.840855244999943, 53.00853180100006], [-2.837751271999934, 53.01056173100005], [-2.844064381999942, 53.01762889200006], [-2.851517712999964, 53.01695999900005], [-2.861005381999973, 53.02280565600006], [-2.855721084999971, 53.03727020700006], [-2.86657136599996, 53.040339938000045], [-2.861849546999963, 53.04401215900003], [-2.870089980999978, 53.04538768800006], [-2.863118684999961, 53.04862268200003], [-2.863399416999926, 53.05207064500007], [-2.868344573999934, 53.050038990000076], [-2.866052856999943, 53.05271204400003], [-2.859240400999965, 53.05425562700003], [-2.867351435999979, 53.05547944600005], [-2.862437733999968, 53.05851562600003], [-2.87195933299995, 53.05771277300005], [-2.861442107999949, 53.06065694900008], [-2.870361965999962, 53.06418439000004], [-2.86548188699993, 53.066099586000064], [-2.86936891199997, 53.06983943800003], [-2.877508396999929, 53.068935545000045], [-2.875459732999957, 53.07337894500006], [-2.881643576999977, 53.07439208000005], [-2.875787730999946, 53.08151346600005], [-2.891192474999968, 53.087624118000065], [-2.893450067999936, 53.091504850000035], [-2.901906806999932, 53.09183018600004], [-2.899319295999931, 53.09800392900007], [-2.894844664999937, 53.09884499700007], [-2.897792034999952, 53.09651707000006], [-2.893889418999947, 53.09606102600003], [-2.889202291999936, 53.10145817500006], [-2.887457996999956, 53.105601705000026], [-2.893404773999976, 53.10424374300004], [-2.891830973999959, 53.109234651000065], [-2.883868064999945, 53.11141014100008], [-2.881187034999925, 53.12165968100004], [-2.903391665999948, 53.11179759400005], [-2.917296965999981, 53.11479422500008], [-2.920836131999977, 53.11842379700005], [-2.943670228999963, 53.12162576700007], [-2.946905759999936, 53.12727027900007], [-2.963896469999952, 53.13276654400005], [-2.979497859999981, 53.15062172100005], [-2.984564979999959, 53.147779771000046], [-2.995022899999981, 53.15402389600007], [-2.98995675599997, 53.15754247000007], [-2.975350421999963, 53.15737167800006], [-2.970925856999941, 53.16078248700006], [-2.96626275899996, 53.15986476000006], [-2.946553024999957, 53.16711189700004], [-2.944041101999971, 53.165247742000076], [-2.927796398999931, 53.17147012500004], [-2.92062859999993, 53.17801852400004], [-2.922299348999957, 53.189292753000075], [-2.93728882299996, 53.19763102500008], [-2.94951032299997, 53.21127966000006], [-2.99837819399994, 53.23585871100005], [-3.036024174999966, 53.25180502400008], [-3.069136285999946, 53.253004786000076], [-3.07028450699994, 53.253548917000046], [-3.093139169999972, 53.26050527700005], [-3.094663358999981, 53.26284682100004], [-3.09969394899997, 53.27057312100004], [-3.082447489999936, 53.27149587500003], [-3.091723613999932, 53.278376209000044], [-3.07724116299994, 53.27786483300008], [-3.083881363999978, 53.279450928000074], [-3.08686453599995, 53.28890555300006], [-3.093280102999927, 53.28441614400003], [-3.104025388999958, 53.288055763000045], [-3.10373283499996, 53.30000596800005], [-3.10901471699998, 53.29725750700004], [-3.11663410999995, 53.311718658000075], [-3.122340231999942, 53.322541673000046], [-3.186277041999972, 53.364446841000074], [-3.200376539999979, 53.387501678000035], [-3.041237960999979, 53.44292990300005], [-3.00252063399995, 53.37473245700005], [-2.934166868999966, 53.31328806000005], [-2.928755127999978, 53.308414017000075], [-2.928571854999973, 53.30824892800007], [-2.901651025999968, 53.295440135000035], [-2.889470262999964, 53.289640029000054], [-2.900534341999958, 53.297009924000065], [-2.855568235999954, 53.292021942000076], [-2.85728106199997, 53.286907505000045], [-2.839601094999978, 53.29873691800003], [-2.846383413999945, 53.30694450900006], [-2.815956021999966, 53.306163154000046], [-2.788795756999946, 53.295408861000055], [-2.752789309999969, 53.314569610000035], [-2.752467868999929, 53.31474053800008], [-2.763058053999941, 53.330921741000054], [-2.753249998999934, 53.34359955700006], [-2.740202776999979, 53.34506489900008], [-2.738191445999973, 53.34793646300005], [-2.759133575999954, 53.34960739500008], [-2.778220484999963, 53.33262604400005], [-2.784287794999955, 53.33643094900003], [-2.777690987999961, 53.329280278000056], [-2.788631387999942, 53.322539576000054], [-2.825110196999958, 53.33128529700008], [-2.826661082999976, 53.33165679100006], [-2.854427682999926, 53.32739913300003], [-2.878158402999929, 53.33419881400005], [-2.902708342999972, 53.34555692400005], [-2.974651518999963, 53.37877746300006], [-3.00184540999993, 53.410325585000066], [-3.008633695999947, 53.43788811300004], [-3.008755303999976, 53.43838154100007], [-3.041413474999956, 53.46550274700007], [-3.057378176999975, 53.49203897000007], [-3.065061829999934, 53.504797186000076], [-3.06274648699997, 53.52703903300005], [-3.062482332999934, 53.52957508000003], [-3.071909516999938, 53.521615858000075], [-3.078944920999959, 53.526148747000036], [-3.100034946999926, 53.539728840000066], [-3.104452450999929, 53.558820698000034], [-3.042723338999963, 53.63632938000006], [-2.998973487999933, 53.672314493000044], [-2.96714183499995, 53.698447876000046], [-2.971488100999977, 53.69216316900008], [-2.956218398999965, 53.69748795700008], [-2.941528925999933, 53.69653856800005], [-2.955105730999946, 53.70443800700008], [-2.93364863499994, 53.70424563300003], [-2.948170721999929, 53.71158567300006], [-2.938283102999947, 53.72493647300007], [-2.915506507999964, 53.71333978100006], [-2.929348236999942, 53.72416121100008], [-2.910858162999943, 53.72695106600003], [-2.868067503999953, 53.73339548400003], [-2.848290483999961, 53.730029183000056], [-2.84851122799995, 53.730168365000054], [-2.854910083999926, 53.735258774000044], [-2.825518065999972, 53.74433544100003], [-2.827652219999948, 53.74388727100006], [-2.855740320999928, 53.73851921200003], [-2.856825666999953, 53.73821301500004], [-2.903575769999975, 53.73250202100007], [-2.910979506999979, 53.732567809000045], [-2.953015196999957, 53.73293308400008], [-2.941660568999964, 53.73628290200003], [-2.97656746399997, 53.73403887500007], [-3.03884162099996, 53.747242535000055], [-3.056848823999928, 53.77657720000008], [-3.050116153999966, 53.85164434300003], [-3.047965482999928, 53.875561738000044], [-3.047950188999948, 53.875731726000026], [-3.049745870999971, 53.920018420000076], [-3.007968368999968, 53.928664551000054], [-3.006935253999927, 53.90157606900004], [-2.999327865999931, 53.92857676300008], [-2.92374356199997, 53.95112971800006], [-2.915616489999934, 53.945722757000055], [-2.904764560999979, 53.93849987400006], [-2.886648971999932, 53.94167764700006], [-2.894326619999958, 53.94654129300005], [-2.888742159999936, 53.94771969300007], [-2.885203128999933, 53.94846631000007], [-2.870431518999965, 53.95158119700005], [-2.886778637999953, 53.95839114300003], [-2.871440597999936, 53.95666930900006], [-2.861932317999958, 53.96460918300005], [-2.845005555999933, 53.965380218000064], [-2.871837647999939, 53.97025845200005], [-2.879254625999977, 53.97911301800008], [-2.856087269999932, 53.99958007600003], [-2.832741996999971, 53.99851821300007], [-2.832186976999935, 54.009431720000066], [-2.860532401999933, 54.00385255600003], [-2.871450993999929, 54.004659024000034], [-2.881040259999963, 53.98945284000007], [-2.883978395999975, 53.99473405900005], [-2.897933552999973, 53.99110291800008], [-2.903418593999959, 54.02056329200008], [-2.917427116999932, 54.02809031100003], [-2.924262166999938, 54.03176123600008], [-2.906078562999937, 54.03960410900004], [-2.881004616999974, 54.074373140000034], [-2.880074451999974, 54.07566174100003], [-2.866826458999981, 54.07642047500008], [-2.847181231999969, 54.07754275500008], [-2.819588010999951, 54.08879618700007], [-2.814359604999936, 54.09490322700003], [-2.825610706999953, 54.087596561000055], [-2.82694730399993, 54.099976939000044], [-2.784988024999961, 54.13499927000004], [-2.820033180999928, 54.12264003800004], [-2.836311876999957, 54.15067137600005], [-2.863914934999968, 54.15648196300003], [-2.869491865999976, 54.176686647000054], [-2.857432968999944, 54.17898590600004], [-2.864119061999929, 54.19204027900008], [-2.842473534999954, 54.20551787000005], [-2.905004284999961, 54.194726496000044], [-2.920795768999938, 54.180235810000056], [-2.935236259999954, 54.16697410100005], [-2.931862228999933, 54.151392040000076], [-3.013621258999933, 54.131571102000066], [-3.00007059099994, 54.15260986900006], [-3.002177184999937, 54.16647590200006], [-3.038767066999981, 54.197203923000075], [-3.032419192999953, 54.21131583500005], [-3.063385799999935, 54.18621077200004], [-3.060855861999926, 54.16199821300006], [-3.105709576999971, 54.119121008000036], [-3.149073650999981, 54.09355082600007], [-3.17239860199993, 54.08178409200008], [-3.150710742999934, 54.06478532500006], [-3.171434395999938, 54.07962829000007], [-3.177999817999932, 54.07489933100004], [-3.17368733099994, 54.08330306700003], [-3.194049430999939, 54.10426018900006], [-3.220218523999961, 54.089708201000064], [-3.224681644999976, 54.09370880700004], [-3.242120309999962, 54.109331214000065], [-3.237016339999968, 54.15474067400004], [-3.249412491999976, 54.15469802500007], [-3.257112516999939, 54.16728216300004], [-3.227084161999926, 54.17493493900008], [-3.217152474999978, 54.177463825000075], [-3.222990223999943, 54.187790335000045], [-3.214757776999932, 54.185659024000074], [-3.213057955999943, 54.207192460000044], [-3.205860511999958, 54.20970311600007], [-3.201816855999937, 54.21111332300006], [-3.179738489999977, 54.238997323000035], [-3.197564436999926, 54.22879809900007], [-3.210352144999945, 54.25397323900006], [-3.229040620999967, 54.25990499100004], [-3.227806566999959, 54.277675645000045], [-3.229947763999974, 54.27130293700003], [-3.233703269999978, 54.26012069300003], [-3.229516602999979, 54.256816806000074], [-3.222907103999944, 54.251599559000056], [-3.229314001999967, 54.25001140200004], [-3.243712212999981, 54.246440661000065], [-3.22930755699997, 54.24979434100004], [-3.225637974999927, 54.23982002200006], [-3.228945588999977, 54.23763931700006], [-3.265769181999929, 54.21333997200003], [-3.254011328999979, 54.21033322200003], [-3.251466716999971, 54.21583161700005], [-3.245193141999948, 54.20930269200005], [-3.239260538999929, 54.20312643200003], [-3.263001843999973, 54.19031638400003], [-3.287619801999938, 54.197051343000055], [-3.299366102999954, 54.18840988900007], [-3.322391836999941, 54.19053398300008], [-3.34228735399995, 54.208260633000066], [-3.394215686999928, 54.25444022100004], [-3.419676107999976, 54.28249966300007], [-3.418789919999938, 54.28263098700006], [-3.397146263999957, 54.26774705500003], [-3.392623113999946, 54.27016593900004], [-3.386487759999966, 54.268317797000066], [-3.379542835999928, 54.27261440600006], [-3.370190477999927, 54.271359450000034], [-3.368826465999973, 54.27612044800003], [-3.347072490999949, 54.27963699800006], [-3.347297338999965, 54.283979173000034], [-3.322778006999954, 54.275559447000035], [-3.32041186999993, 54.271629106000034], [-3.304164081999943, 54.27593658200004], [-3.301025558999925, 54.27946214200006], [-3.313681506999956, 54.29182162300003], [-3.304105225999933, 54.299789915000076], [-3.308160761999943, 54.32220349500005], [-3.294863048999957, 54.325468966000074], [-3.302828298999941, 54.33135124300003], [-3.295096120999972, 54.34274500500004], [-3.298809969999979, 54.34753501600005], [-3.308259041999975, 54.34922355800006], [-3.301405256999942, 54.352247386000045], [-3.298577757999965, 54.359230859000036], [-3.292717194999966, 54.361031241000035], [-3.271599711999954, 54.35816533700006], [-3.243379306999941, 54.36308635700004], [-3.232561698999973, 54.376031943000044], [-3.198652482999933, 54.39240839000007], [-3.185740889999977, 54.40328155900005], [-3.188967403999925, 54.405958816000066], [-3.181170549999933, 54.413252415000045], [-3.182233758999928, 54.425466045000064], [-3.157944382999972, 54.43130613100004], [-3.158591736999938, 54.44217740900007], [-3.161116423999943, 54.44703707000008], [-3.166278925999961, 54.447766469000044], [-3.167139376999955, 54.45411067800006], [-3.153825380999933, 54.46015397500008], [-3.144960336999929, 54.46875758700003], [-3.136444058999928, 54.47074609300006], [-3.132213046999937, 54.464543968000044], [-3.119425417999935, 54.46023757300003], [-3.112573273999942, 54.46149082800008], [-3.115704687999937, 54.46658286100006], [-3.109479177999958, 54.47400370100007], [-3.097753021999949, 54.471903472000065], [-3.088265210999964, 54.48396415800005], [-3.076214339999979, 54.48936559200007], [-3.061985400999959, 54.49252266000008], [-3.05080159399995, 54.49126521300008], [-3.048303829999952, 54.49627817700008], [-3.020961513999964, 54.49983860200007], [-3.014834700999927, 54.49984329600005]]], [[[-3.210162647999937, 54.06509287100005], [-3.204910617999928, 54.051688709000075], [-3.178533510999955, 54.055293910000046], [-3.174138307999954, 54.04830561400007], [-3.172866533999979, 54.055258586000036], [-3.173066404999929, 54.047071251000034], [-3.209691378999935, 54.04752323800005], [-3.223742153999979, 54.06183103800004], [-3.268543198999964, 54.10737314600004], [-3.27644330399994, 54.14277392500003], [-3.252146951999975, 54.15058001300008], [-3.265715030999957, 54.144081742000026], [-3.245475260999967, 54.10965164300006], [-3.251516901999935, 54.09634694700003], [-3.224344608999957, 54.08226788200005], [-3.220926126999927, 54.08049551600004], [-3.22337695799996, 54.067015523000066], [-3.210162647999937, 54.06509287100005]]]], &quot;type&quot;: &quot;MultiPolygon&quot;}, &quot;properties&quot;: {&quot;CreationDate&quot;: &quot;2022-04-01T08:52:11Z&quot;, &quot;Creator&quot;: &quot;hsc_map_england&quot;, &quot;EditDate&quot;: &quot;2022-04-01T08:52:11Z&quot;, &quot;Editor&quot;: &quot;hsc_map_england&quot;, &quot;FID&quot;: 7, &quot;GlobalID&quot;: &quot;{183729A4-275E-4945-AD5B-3B24AB45AAD5}&quot;, &quot;Notes&quot;: null, &quot;SHAPE_Area&quot;: 1.279533224072808, &quot;SHAPE_Length&quot;: 10.8454084788727, &quot;bng_e&quot;: 360675, &quot;bng_n&quot;: 444637, &quot;lat&quot;: 53.896412, &quot;long&quot;: -2.59991, &quot;nhser19cd&quot;: &quot;E40000010&quot;, &quot;nhser19nm&quot;: &quot;North West&quot;, &quot;objectid&quot;: 7, &quot;st_areasha&quot;: 9398556989.07632, &quot;st_lengths&quot;: 902735.4117864607}, &quot;type&quot;: &quot;Feature&quot;}], &quot;name&quot;: &quot;NHS_England_Regions_Map&quot;, &quot;type&quot;: &quot;FeatureCollection&quot;});\n",
       "\n",
       "        \n",
       "    \n",
       "            geo_json_6bc6d53c9252cbc5d7df3180e307d5e8.addTo(choropleth_161411888dc82739a9ec421b92d529e9);\n",
       "        \n",
       "    \n",
       "    var color_map_ec70131e3646ebed139a59bb74578ce0 = {};\n",
       "\n",
       "    \n",
       "    color_map_ec70131e3646ebed139a59bb74578ce0.color = d3.scale.threshold()\n",
       "              .domain([99.32696980464601, 99.75542216417345, 100.18387452370091, 100.61232688322835, 101.0407792427558, 101.46923160228324, 101.8976839618107, 102.32613632133814, 102.7545886808656, 103.18304104039304, 103.61149339992048, 104.03994575944793, 104.46839811897537, 104.89685047850283, 105.32530283803027, 105.75375519755772, 106.18220755708516, 106.6106599166126, 107.03911227614006, 107.4675646356675, 107.89601699519496, 108.3244693547224, 108.75292171424985, 109.18137407377729, 109.60982643330473, 110.03827879283219, 110.46673115235963, 110.89518351188708, 111.32363587141452, 111.75208823094198, 112.18054059046942, 112.60899294999687, 113.03744530952432, 113.46589766905177, 113.89435002857921, 114.32280238810665, 114.7512547476341, 115.17970710716155, 115.608159466689, 116.03661182621644, 116.4650641857439, 116.89351654527134, 117.32196890479878, 117.75042126432623, 118.17887362385368, 118.60732598338113, 119.03577834290857, 119.46423070243603, 119.89268306196347, 120.32113542149091, 120.74958778101836, 121.17804014054582, 121.60649250007326, 122.0349448596007, 122.46339721912815, 122.8918495786556, 123.32030193818305, 123.74875429771049, 124.17720665723795, 124.60565901676539, 125.03411137629283, 125.46256373582028, 125.89101609534772, 126.31946845487516, 126.74792081440262, 127.17637317393007, 127.60482553345751, 128.03327789298496, 128.4617302525124, 128.89018261203987, 129.3186349715673, 129.74708733109475, 130.1755396906222, 130.60399205014966, 131.03244440967708, 131.46089676920454, 131.889349128732, 132.31780148825942, 132.74625384778687, 133.17470620731433, 133.60315856684178, 134.0316109263692, 134.46006328589667, 134.88851564542412, 135.31696800495155, 135.745420364479, 136.17387272400646, 136.6023250835339, 137.03077744306134, 137.4592298025888, 137.88768216211625, 138.31613452164368, 138.74458688117113, 139.17303924069859, 139.60149160022604, 140.0299439597535, 140.45839631928092, 140.88684867880838, 141.3153010383358, 141.74375339786326, 142.1722057573907, 142.60065811691817, 143.02911047644562, 143.45756283597305, 143.8860151955005, 144.31446755502796, 144.7429199145554, 145.17137227408284, 145.5998246336103, 146.02827699313775, 146.45672935266518, 146.88518171219263, 147.3136340717201, 147.74208643124751, 148.17053879077497, 148.59899115030242, 149.02744350982988, 149.4558958693573, 149.88434822888476, 150.3128005884122, 150.74125294793964, 151.1697053074671, 151.59815766699455, 152.026610026522, 152.45506238604943, 152.8835147455769, 153.31196710510432, 153.74041946463177, 154.16887182415923, 154.59732418368668, 155.02577654321414, 155.45422890274156, 155.88268126226902, 156.31113362179644, 156.7395859813239, 157.16803834085135, 157.5964907003788, 158.02494305990626, 158.4533954194337, 158.88184777896114, 159.3103001384886, 159.73875249801603, 160.16720485754348, 160.59565721707094, 161.0241095765984, 161.45256193612582, 161.88101429565327, 162.30946665518073, 162.73791901470815, 163.1663713742356, 163.59482373376306, 164.02327609329052, 164.45172845281797, 164.8801808123454, 165.30863317187286, 165.73708553140028, 166.16553789092774, 166.5939902504552, 167.02244260998265, 167.4508949695101, 167.87934732903753, 168.30779968856498, 168.7362520480924, 169.16470440761987, 169.59315676714732, 170.02160912667478, 170.45006148620223, 170.87851384572966, 171.3069662052571, 171.73541856478454, 172.163870924312, 172.59232328383945, 173.0207756433669, 173.44922800289436, 173.87768036242178, 174.30613272194924, 174.73458508147667, 175.16303744100412, 175.59148980053158, 176.01994216005903, 176.4483945195865, 176.8768468791139, 177.30529923864137, 177.7337515981688, 178.16220395769625, 178.5906563172237, 179.01910867675116, 179.4475610362786, 179.87601339580604, 180.3044657553335, 180.73291811486095, 181.16137047438838, 181.58982283391583, 182.0182751934433, 182.44672755297074, 182.8751799124982, 183.30363227202562, 183.73208463155305, 184.1605369910805, 184.58898935060796, 185.01744171013542, 185.44589406966287, 185.8743464291903, 186.30279878871775, 186.7312511482452, 187.15970350777263, 187.5881558673001, 188.01660822682754, 188.445060586355, 188.87351294588245, 189.3019653054099, 189.7304176649373, 190.15887002446476, 190.58732238399222, 191.01577474351967, 191.44422710304713, 191.87267946257455, 192.301131822102, 192.72958418162946, 193.1580365411569, 193.58648890068434, 194.0149412602118, 194.44339361973925, 194.8718459792667, 195.30029833879416, 195.7287506983216, 196.15720305784902, 196.58565541737647, 197.01410777690393, 197.44256013643138, 197.87101249595884, 198.29946485548626, 198.72791721501372, 199.15636957454115, 199.5848219340686, 200.01327429359606, 200.4417266531235, 200.87017901265096, 201.2986313721784, 201.72708373170585, 202.1555360912333, 202.58398845076073, 203.01244081028818, 203.44089316981564, 203.8693455293431, 204.29779788887055, 204.72625024839797, 205.1547026079254, 205.58315496745286, 206.0116073269803, 206.44005968650777, 206.86851204603522, 207.29696440556265, 207.7254167650901, 208.15386912461756, 208.58232148414498, 209.01077384367244, 209.4392262031999, 209.86767856272735, 210.2961309222548, 210.72458328178226, 211.15303564130966, 211.5814880008371, 212.00994036036457, 212.43839271989202, 212.86684507941948, 213.2952974389469, 213.72374979847436, 214.1522021580018, 214.58065451752924, 215.0091068770567, 215.43755923658415, 215.8660115961116, 216.29446395563906, 216.72291631516651, 217.15136867469394, 217.57982103422137, 218.00827339374882, 218.43672575327628, 218.86517811280373, 219.2936304723312, 219.72208283185861, 220.15053519138607, 220.5789875509135, 221.00743991044095, 221.4358922699684, 221.86434462949586, 222.29279698902332, 222.72124934855074, 223.1497017080782, 223.57815406760562, 224.00660642713308, 224.43505878666053, 224.863511146188, 225.29196350571544, 225.72041586524287, 226.14886822477033, 226.57732058429775, 227.0057729438252, 227.43422530335266, 227.86267766288012, 228.29113002240757, 228.719582381935, 229.14803474146245, 229.5764871009899, 230.00493946051733, 230.4333918200448, 230.86184417957224, 231.2902965390997, 231.71874889862713, 232.14720125815458, 232.57565361768204, 233.0041059772095, 233.43255833673692, 233.86101069626437, 234.28946305579183, 234.71791541531925, 235.14636777484674, 235.57482013437416, 236.0032724939016, 236.43172485342905, 236.8601772129565, 237.28862957248396, 237.71708193201138, 238.14553429153884, 238.5739866510663, 239.00243901059372, 239.4308913701212, 239.85934372964863, 240.28779608917606, 240.71624844870354, 241.14470080823097, 241.57315316775842, 242.00160552728588, 242.4300578868133, 242.85851024634076, 243.2869626058682, 243.71541496539567, 244.1438673249231, 244.57231968445055, 245.000772043978, 245.42922440350543, 245.8576767630329, 246.28612912256034, 246.71458148208777, 247.14303384161525, 247.57148620114268, 247.9999385606701, 248.42839092019756, 248.856843279725, 249.28529563925247, 249.7137479987799, 250.14220035830735, 250.5706527178348, 250.99910507736223, 251.4275574368897, 251.85600979641714, 252.28446215594457, 252.71291451547205, 253.14136687499948, 253.56981923452693, 253.9982715940544, 254.4267239535818, 254.85517631310927, 255.28362867263672, 255.71208103216418, 256.14053339169163, 256.5689857512191, 256.99743811074654, 257.42589047027394, 257.85434282980145, 258.28279518932885, 258.71124754885625, 259.1396999083837, 259.56815226791116, 259.9966046274386, 260.42505698696607, 260.8535093464935, 261.281961706021, 261.71041406554843, 262.1388664250759, 262.56731878460334, 262.99577114413074, 263.42422350365825, 263.85267586318565, 264.2811282227131, 264.70958058224056, 265.13803294176796, 265.5664853012954, 265.99493766082287, 266.4233900203503, 266.8518423798778, 267.28029473940524, 267.7087470989327, 268.13719945846015, 268.5656518179876, 268.99410417751506, 269.42255653704245, 269.8510088965699, 270.27946125609736, 270.7079136156248, 271.1363659751522, 271.56481833467967, 271.9932706942071, 272.4217230537346, 272.85017541326204, 273.2786277727895, 273.70708013231695, 274.1355324918444, 274.56398485137186, 274.9924372108993, 275.42088957042677, 275.84934192995416, 276.2777942894816, 276.7062466490091, 277.13469900853653, 277.5631513680639, 277.9916037275914, 278.42005608711884, 278.8485084466463, 279.27696080617375, 279.7054131657012, 280.13386552522866, 280.5623178847561, 280.99077024428357, 281.419222603811, 281.8476749633384, 282.2761273228659, 282.70457968239333, 283.1330320419207, 283.56148440144824, 283.98993676097564, 284.4183891205031, 284.84684148003055, 285.275293839558, 285.70374619908546, 286.1321985586129, 286.56065091814037, 286.9891032776678, 287.4175556371953, 287.84600799672273, 288.27446035625013, 288.7029127157776, 289.13136507530504, 289.55981743483244, 289.98826979435995, 290.41672215388735, 290.8451745134148, 291.27362687294226, 291.7020792324697, 292.13053159199717, 292.5589839515246, 292.9874363110521, 293.41588867057953, 293.84434103010693, 294.27279338963444, 294.70124574916184, 295.12969810868924, 295.55815046821675, 295.98660282774415, 296.4150551872716, 296.84350754679906, 297.2719599063265, 297.70041226585397, 298.1288646253814, 298.5573169849089, 298.98576934443633, 299.4142217039638, 299.84267406349124, 300.27112642301864, 300.69957878254615, 301.12803114207355, 301.55648350160095, 301.98493586112846, 302.41338822065586, 302.8418405801833, 303.27029293971077, 303.6987452992382, 304.1271976587657, 304.55565001829314, 304.9841023778206, 305.41255473734805, 305.84100709687544, 306.26945945640296, 306.69791181593035, 307.1263641754578, 307.55481653498526, 307.98326889451266, 308.4117212540401, 308.8401736135676, 309.268625973095, 309.6970783326225, 310.12553069214994, 310.5539830516774, 310.98243541120485, 311.4108877707323, 311.83934013025976, 312.26779248978715, 312.69624484931467, 313.12469720884206])\n",
       "              .range([&#x27;#ffffccff&#x27;, &#x27;#ffffccff&#x27;, &#x27;#ffffccff&#x27;, &#x27;#ffffccff&#x27;, &#x27;#ffffccff&#x27;, &#x27;#ffffccff&#x27;, &#x27;#ffffccff&#x27;, &#x27;#ffffccff&#x27;, &#x27;#ffffccff&#x27;, &#x27;#ffffccff&#x27;, &#x27;#ffffccff&#x27;, &#x27;#ffffccff&#x27;, &#x27;#ffffccff&#x27;, &#x27;#ffffccff&#x27;, &#x27;#ffffccff&#x27;, &#x27;#ffffccff&#x27;, &#x27;#ffffccff&#x27;, &#x27;#ffffccff&#x27;, &#x27;#ffffccff&#x27;, &#x27;#ffffccff&#x27;, &#x27;#ffffccff&#x27;, &#x27;#ffffccff&#x27;, &#x27;#ffffccff&#x27;, &#x27;#ffffccff&#x27;, &#x27;#ffffccff&#x27;, &#x27;#ffffccff&#x27;, &#x27;#ffffccff&#x27;, &#x27;#ffffccff&#x27;, &#x27;#ffffccff&#x27;, &#x27;#ffffccff&#x27;, &#x27;#ffffccff&#x27;, &#x27;#ffffccff&#x27;, &#x27;#ffffccff&#x27;, &#x27;#ffffccff&#x27;, &#x27;#ffffccff&#x27;, &#x27;#ffffccff&#x27;, &#x27;#ffffccff&#x27;, &#x27;#ffffccff&#x27;, &#x27;#ffffccff&#x27;, &#x27;#ffffccff&#x27;, &#x27;#ffffccff&#x27;, &#x27;#ffffccff&#x27;, &#x27;#ffffccff&#x27;, &#x27;#ffffccff&#x27;, &#x27;#ffffccff&#x27;, &#x27;#ffffccff&#x27;, &#x27;#ffffccff&#x27;, &#x27;#ffffccff&#x27;, &#x27;#ffffccff&#x27;, &#x27;#ffffccff&#x27;, &#x27;#ffffccff&#x27;, &#x27;#ffffccff&#x27;, &#x27;#ffffccff&#x27;, &#x27;#ffffccff&#x27;, &#x27;#ffffccff&#x27;, &#x27;#ffffccff&#x27;, &#x27;#ffffccff&#x27;, &#x27;#ffffccff&#x27;, &#x27;#ffffccff&#x27;, &#x27;#ffffccff&#x27;, &#x27;#ffffccff&#x27;, &#x27;#ffffccff&#x27;, &#x27;#ffffccff&#x27;, &#x27;#ffffccff&#x27;, &#x27;#ffffccff&#x27;, &#x27;#ffffccff&#x27;, &#x27;#ffffccff&#x27;, &#x27;#ffffccff&#x27;, &#x27;#ffffccff&#x27;, &#x27;#ffffccff&#x27;, &#x27;#ffffccff&#x27;, &#x27;#ffffccff&#x27;, &#x27;#ffffccff&#x27;, &#x27;#ffffccff&#x27;, &#x27;#ffffccff&#x27;, &#x27;#ffffccff&#x27;, &#x27;#ffffccff&#x27;, &#x27;#ffffccff&#x27;, &#x27;#ffffccff&#x27;, &#x27;#ffffccff&#x27;, &#x27;#ffffccff&#x27;, &#x27;#ffffccff&#x27;, &#x27;#ffffccff&#x27;, &#x27;#ffffccff&#x27;, &#x27;#c7e9b4ff&#x27;, &#x27;#c7e9b4ff&#x27;, &#x27;#c7e9b4ff&#x27;, &#x27;#c7e9b4ff&#x27;, &#x27;#c7e9b4ff&#x27;, &#x27;#c7e9b4ff&#x27;, &#x27;#c7e9b4ff&#x27;, &#x27;#c7e9b4ff&#x27;, &#x27;#c7e9b4ff&#x27;, &#x27;#c7e9b4ff&#x27;, &#x27;#c7e9b4ff&#x27;, &#x27;#c7e9b4ff&#x27;, &#x27;#c7e9b4ff&#x27;, &#x27;#c7e9b4ff&#x27;, &#x27;#c7e9b4ff&#x27;, &#x27;#c7e9b4ff&#x27;, &#x27;#c7e9b4ff&#x27;, &#x27;#c7e9b4ff&#x27;, &#x27;#c7e9b4ff&#x27;, &#x27;#c7e9b4ff&#x27;, &#x27;#c7e9b4ff&#x27;, &#x27;#c7e9b4ff&#x27;, &#x27;#c7e9b4ff&#x27;, &#x27;#c7e9b4ff&#x27;, &#x27;#c7e9b4ff&#x27;, &#x27;#c7e9b4ff&#x27;, &#x27;#c7e9b4ff&#x27;, &#x27;#c7e9b4ff&#x27;, &#x27;#c7e9b4ff&#x27;, &#x27;#c7e9b4ff&#x27;, &#x27;#c7e9b4ff&#x27;, &#x27;#c7e9b4ff&#x27;, &#x27;#c7e9b4ff&#x27;, &#x27;#c7e9b4ff&#x27;, &#x27;#c7e9b4ff&#x27;, &#x27;#c7e9b4ff&#x27;, &#x27;#c7e9b4ff&#x27;, &#x27;#c7e9b4ff&#x27;, &#x27;#c7e9b4ff&#x27;, &#x27;#c7e9b4ff&#x27;, &#x27;#c7e9b4ff&#x27;, &#x27;#c7e9b4ff&#x27;, &#x27;#c7e9b4ff&#x27;, &#x27;#c7e9b4ff&#x27;, &#x27;#c7e9b4ff&#x27;, &#x27;#c7e9b4ff&#x27;, &#x27;#c7e9b4ff&#x27;, &#x27;#c7e9b4ff&#x27;, &#x27;#c7e9b4ff&#x27;, &#x27;#c7e9b4ff&#x27;, &#x27;#c7e9b4ff&#x27;, &#x27;#c7e9b4ff&#x27;, &#x27;#c7e9b4ff&#x27;, &#x27;#c7e9b4ff&#x27;, &#x27;#c7e9b4ff&#x27;, &#x27;#c7e9b4ff&#x27;, &#x27;#c7e9b4ff&#x27;, &#x27;#c7e9b4ff&#x27;, &#x27;#c7e9b4ff&#x27;, &#x27;#c7e9b4ff&#x27;, &#x27;#c7e9b4ff&#x27;, &#x27;#c7e9b4ff&#x27;, &#x27;#c7e9b4ff&#x27;, &#x27;#c7e9b4ff&#x27;, &#x27;#c7e9b4ff&#x27;, &#x27;#c7e9b4ff&#x27;, &#x27;#c7e9b4ff&#x27;, &#x27;#c7e9b4ff&#x27;, &#x27;#c7e9b4ff&#x27;, &#x27;#c7e9b4ff&#x27;, &#x27;#c7e9b4ff&#x27;, &#x27;#c7e9b4ff&#x27;, &#x27;#c7e9b4ff&#x27;, &#x27;#c7e9b4ff&#x27;, &#x27;#c7e9b4ff&#x27;, &#x27;#c7e9b4ff&#x27;, &#x27;#c7e9b4ff&#x27;, &#x27;#c7e9b4ff&#x27;, &#x27;#c7e9b4ff&#x27;, &#x27;#c7e9b4ff&#x27;, &#x27;#c7e9b4ff&#x27;, &#x27;#c7e9b4ff&#x27;, &#x27;#c7e9b4ff&#x27;, &#x27;#7fcdbbff&#x27;, &#x27;#7fcdbbff&#x27;, &#x27;#7fcdbbff&#x27;, &#x27;#7fcdbbff&#x27;, &#x27;#7fcdbbff&#x27;, &#x27;#7fcdbbff&#x27;, &#x27;#7fcdbbff&#x27;, &#x27;#7fcdbbff&#x27;, &#x27;#7fcdbbff&#x27;, &#x27;#7fcdbbff&#x27;, &#x27;#7fcdbbff&#x27;, &#x27;#7fcdbbff&#x27;, &#x27;#7fcdbbff&#x27;, &#x27;#7fcdbbff&#x27;, &#x27;#7fcdbbff&#x27;, &#x27;#7fcdbbff&#x27;, &#x27;#7fcdbbff&#x27;, &#x27;#7fcdbbff&#x27;, &#x27;#7fcdbbff&#x27;, &#x27;#7fcdbbff&#x27;, &#x27;#7fcdbbff&#x27;, &#x27;#7fcdbbff&#x27;, &#x27;#7fcdbbff&#x27;, &#x27;#7fcdbbff&#x27;, &#x27;#7fcdbbff&#x27;, &#x27;#7fcdbbff&#x27;, &#x27;#7fcdbbff&#x27;, &#x27;#7fcdbbff&#x27;, &#x27;#7fcdbbff&#x27;, &#x27;#7fcdbbff&#x27;, &#x27;#7fcdbbff&#x27;, &#x27;#7fcdbbff&#x27;, &#x27;#7fcdbbff&#x27;, &#x27;#7fcdbbff&#x27;, &#x27;#7fcdbbff&#x27;, &#x27;#7fcdbbff&#x27;, &#x27;#7fcdbbff&#x27;, &#x27;#7fcdbbff&#x27;, &#x27;#7fcdbbff&#x27;, &#x27;#7fcdbbff&#x27;, &#x27;#7fcdbbff&#x27;, &#x27;#7fcdbbff&#x27;, &#x27;#7fcdbbff&#x27;, &#x27;#7fcdbbff&#x27;, &#x27;#7fcdbbff&#x27;, &#x27;#7fcdbbff&#x27;, &#x27;#7fcdbbff&#x27;, &#x27;#7fcdbbff&#x27;, &#x27;#7fcdbbff&#x27;, &#x27;#7fcdbbff&#x27;, &#x27;#7fcdbbff&#x27;, &#x27;#7fcdbbff&#x27;, &#x27;#7fcdbbff&#x27;, &#x27;#7fcdbbff&#x27;, &#x27;#7fcdbbff&#x27;, &#x27;#7fcdbbff&#x27;, &#x27;#7fcdbbff&#x27;, &#x27;#7fcdbbff&#x27;, &#x27;#7fcdbbff&#x27;, &#x27;#7fcdbbff&#x27;, &#x27;#7fcdbbff&#x27;, &#x27;#7fcdbbff&#x27;, &#x27;#7fcdbbff&#x27;, &#x27;#7fcdbbff&#x27;, &#x27;#7fcdbbff&#x27;, &#x27;#7fcdbbff&#x27;, &#x27;#7fcdbbff&#x27;, &#x27;#7fcdbbff&#x27;, &#x27;#7fcdbbff&#x27;, &#x27;#7fcdbbff&#x27;, &#x27;#7fcdbbff&#x27;, &#x27;#7fcdbbff&#x27;, &#x27;#7fcdbbff&#x27;, &#x27;#7fcdbbff&#x27;, &#x27;#7fcdbbff&#x27;, &#x27;#7fcdbbff&#x27;, &#x27;#7fcdbbff&#x27;, &#x27;#7fcdbbff&#x27;, &#x27;#7fcdbbff&#x27;, &#x27;#7fcdbbff&#x27;, &#x27;#7fcdbbff&#x27;, &#x27;#7fcdbbff&#x27;, &#x27;#7fcdbbff&#x27;, &#x27;#41b6c4ff&#x27;, &#x27;#41b6c4ff&#x27;, &#x27;#41b6c4ff&#x27;, &#x27;#41b6c4ff&#x27;, &#x27;#41b6c4ff&#x27;, &#x27;#41b6c4ff&#x27;, &#x27;#41b6c4ff&#x27;, &#x27;#41b6c4ff&#x27;, &#x27;#41b6c4ff&#x27;, &#x27;#41b6c4ff&#x27;, &#x27;#41b6c4ff&#x27;, &#x27;#41b6c4ff&#x27;, &#x27;#41b6c4ff&#x27;, &#x27;#41b6c4ff&#x27;, &#x27;#41b6c4ff&#x27;, &#x27;#41b6c4ff&#x27;, &#x27;#41b6c4ff&#x27;, &#x27;#41b6c4ff&#x27;, &#x27;#41b6c4ff&#x27;, &#x27;#41b6c4ff&#x27;, &#x27;#41b6c4ff&#x27;, &#x27;#41b6c4ff&#x27;, &#x27;#41b6c4ff&#x27;, &#x27;#41b6c4ff&#x27;, &#x27;#41b6c4ff&#x27;, &#x27;#41b6c4ff&#x27;, &#x27;#41b6c4ff&#x27;, &#x27;#41b6c4ff&#x27;, &#x27;#41b6c4ff&#x27;, &#x27;#41b6c4ff&#x27;, &#x27;#41b6c4ff&#x27;, &#x27;#41b6c4ff&#x27;, &#x27;#41b6c4ff&#x27;, &#x27;#41b6c4ff&#x27;, &#x27;#41b6c4ff&#x27;, &#x27;#41b6c4ff&#x27;, &#x27;#41b6c4ff&#x27;, &#x27;#41b6c4ff&#x27;, &#x27;#41b6c4ff&#x27;, &#x27;#41b6c4ff&#x27;, &#x27;#41b6c4ff&#x27;, &#x27;#41b6c4ff&#x27;, &#x27;#41b6c4ff&#x27;, &#x27;#41b6c4ff&#x27;, &#x27;#41b6c4ff&#x27;, &#x27;#41b6c4ff&#x27;, &#x27;#41b6c4ff&#x27;, &#x27;#41b6c4ff&#x27;, &#x27;#41b6c4ff&#x27;, &#x27;#41b6c4ff&#x27;, &#x27;#41b6c4ff&#x27;, &#x27;#41b6c4ff&#x27;, &#x27;#41b6c4ff&#x27;, &#x27;#41b6c4ff&#x27;, &#x27;#41b6c4ff&#x27;, &#x27;#41b6c4ff&#x27;, &#x27;#41b6c4ff&#x27;, &#x27;#41b6c4ff&#x27;, &#x27;#41b6c4ff&#x27;, &#x27;#41b6c4ff&#x27;, &#x27;#41b6c4ff&#x27;, &#x27;#41b6c4ff&#x27;, &#x27;#41b6c4ff&#x27;, &#x27;#41b6c4ff&#x27;, &#x27;#41b6c4ff&#x27;, &#x27;#41b6c4ff&#x27;, &#x27;#41b6c4ff&#x27;, &#x27;#41b6c4ff&#x27;, &#x27;#41b6c4ff&#x27;, &#x27;#41b6c4ff&#x27;, &#x27;#41b6c4ff&#x27;, &#x27;#41b6c4ff&#x27;, &#x27;#41b6c4ff&#x27;, &#x27;#41b6c4ff&#x27;, &#x27;#41b6c4ff&#x27;, &#x27;#41b6c4ff&#x27;, &#x27;#41b6c4ff&#x27;, &#x27;#41b6c4ff&#x27;, &#x27;#41b6c4ff&#x27;, &#x27;#41b6c4ff&#x27;, &#x27;#41b6c4ff&#x27;, &#x27;#41b6c4ff&#x27;, &#x27;#41b6c4ff&#x27;, &#x27;#2c7fb8ff&#x27;, &#x27;#2c7fb8ff&#x27;, &#x27;#2c7fb8ff&#x27;, &#x27;#2c7fb8ff&#x27;, &#x27;#2c7fb8ff&#x27;, &#x27;#2c7fb8ff&#x27;, &#x27;#2c7fb8ff&#x27;, &#x27;#2c7fb8ff&#x27;, &#x27;#2c7fb8ff&#x27;, &#x27;#2c7fb8ff&#x27;, &#x27;#2c7fb8ff&#x27;, &#x27;#2c7fb8ff&#x27;, &#x27;#2c7fb8ff&#x27;, &#x27;#2c7fb8ff&#x27;, &#x27;#2c7fb8ff&#x27;, &#x27;#2c7fb8ff&#x27;, &#x27;#2c7fb8ff&#x27;, &#x27;#2c7fb8ff&#x27;, &#x27;#2c7fb8ff&#x27;, &#x27;#2c7fb8ff&#x27;, &#x27;#2c7fb8ff&#x27;, &#x27;#2c7fb8ff&#x27;, &#x27;#2c7fb8ff&#x27;, &#x27;#2c7fb8ff&#x27;, &#x27;#2c7fb8ff&#x27;, &#x27;#2c7fb8ff&#x27;, &#x27;#2c7fb8ff&#x27;, &#x27;#2c7fb8ff&#x27;, &#x27;#2c7fb8ff&#x27;, &#x27;#2c7fb8ff&#x27;, &#x27;#2c7fb8ff&#x27;, &#x27;#2c7fb8ff&#x27;, &#x27;#2c7fb8ff&#x27;, &#x27;#2c7fb8ff&#x27;, &#x27;#2c7fb8ff&#x27;, &#x27;#2c7fb8ff&#x27;, &#x27;#2c7fb8ff&#x27;, &#x27;#2c7fb8ff&#x27;, &#x27;#2c7fb8ff&#x27;, &#x27;#2c7fb8ff&#x27;, &#x27;#2c7fb8ff&#x27;, &#x27;#2c7fb8ff&#x27;, &#x27;#2c7fb8ff&#x27;, &#x27;#2c7fb8ff&#x27;, &#x27;#2c7fb8ff&#x27;, &#x27;#2c7fb8ff&#x27;, &#x27;#2c7fb8ff&#x27;, &#x27;#2c7fb8ff&#x27;, &#x27;#2c7fb8ff&#x27;, &#x27;#2c7fb8ff&#x27;, &#x27;#2c7fb8ff&#x27;, &#x27;#2c7fb8ff&#x27;, &#x27;#2c7fb8ff&#x27;, &#x27;#2c7fb8ff&#x27;, &#x27;#2c7fb8ff&#x27;, &#x27;#2c7fb8ff&#x27;, &#x27;#2c7fb8ff&#x27;, &#x27;#2c7fb8ff&#x27;, &#x27;#2c7fb8ff&#x27;, &#x27;#2c7fb8ff&#x27;, &#x27;#2c7fb8ff&#x27;, &#x27;#2c7fb8ff&#x27;, &#x27;#2c7fb8ff&#x27;, &#x27;#2c7fb8ff&#x27;, &#x27;#2c7fb8ff&#x27;, &#x27;#2c7fb8ff&#x27;, &#x27;#2c7fb8ff&#x27;, &#x27;#2c7fb8ff&#x27;, &#x27;#2c7fb8ff&#x27;, &#x27;#2c7fb8ff&#x27;, &#x27;#2c7fb8ff&#x27;, &#x27;#2c7fb8ff&#x27;, &#x27;#2c7fb8ff&#x27;, &#x27;#2c7fb8ff&#x27;, &#x27;#2c7fb8ff&#x27;, &#x27;#2c7fb8ff&#x27;, &#x27;#2c7fb8ff&#x27;, &#x27;#2c7fb8ff&#x27;, &#x27;#2c7fb8ff&#x27;, &#x27;#2c7fb8ff&#x27;, &#x27;#2c7fb8ff&#x27;, &#x27;#2c7fb8ff&#x27;, &#x27;#2c7fb8ff&#x27;, &#x27;#253494ff&#x27;, &#x27;#253494ff&#x27;, &#x27;#253494ff&#x27;, &#x27;#253494ff&#x27;, &#x27;#253494ff&#x27;, &#x27;#253494ff&#x27;, &#x27;#253494ff&#x27;, &#x27;#253494ff&#x27;, &#x27;#253494ff&#x27;, &#x27;#253494ff&#x27;, &#x27;#253494ff&#x27;, &#x27;#253494ff&#x27;, &#x27;#253494ff&#x27;, &#x27;#253494ff&#x27;, &#x27;#253494ff&#x27;, &#x27;#253494ff&#x27;, &#x27;#253494ff&#x27;, &#x27;#253494ff&#x27;, &#x27;#253494ff&#x27;, &#x27;#253494ff&#x27;, &#x27;#253494ff&#x27;, &#x27;#253494ff&#x27;, &#x27;#253494ff&#x27;, &#x27;#253494ff&#x27;, &#x27;#253494ff&#x27;, &#x27;#253494ff&#x27;, &#x27;#253494ff&#x27;, &#x27;#253494ff&#x27;, &#x27;#253494ff&#x27;, &#x27;#253494ff&#x27;, &#x27;#253494ff&#x27;, &#x27;#253494ff&#x27;, &#x27;#253494ff&#x27;, &#x27;#253494ff&#x27;, &#x27;#253494ff&#x27;, &#x27;#253494ff&#x27;, &#x27;#253494ff&#x27;, &#x27;#253494ff&#x27;, &#x27;#253494ff&#x27;, &#x27;#253494ff&#x27;, &#x27;#253494ff&#x27;, &#x27;#253494ff&#x27;, &#x27;#253494ff&#x27;, &#x27;#253494ff&#x27;, &#x27;#253494ff&#x27;, &#x27;#253494ff&#x27;, &#x27;#253494ff&#x27;, &#x27;#253494ff&#x27;, &#x27;#253494ff&#x27;, &#x27;#253494ff&#x27;, &#x27;#253494ff&#x27;, &#x27;#253494ff&#x27;, &#x27;#253494ff&#x27;, &#x27;#253494ff&#x27;, &#x27;#253494ff&#x27;, &#x27;#253494ff&#x27;, &#x27;#253494ff&#x27;, &#x27;#253494ff&#x27;, &#x27;#253494ff&#x27;, &#x27;#253494ff&#x27;, &#x27;#253494ff&#x27;, &#x27;#253494ff&#x27;, &#x27;#253494ff&#x27;, &#x27;#253494ff&#x27;, &#x27;#253494ff&#x27;, &#x27;#253494ff&#x27;, &#x27;#253494ff&#x27;, &#x27;#253494ff&#x27;, &#x27;#253494ff&#x27;, &#x27;#253494ff&#x27;, &#x27;#253494ff&#x27;, &#x27;#253494ff&#x27;, &#x27;#253494ff&#x27;, &#x27;#253494ff&#x27;, &#x27;#253494ff&#x27;, &#x27;#253494ff&#x27;, &#x27;#253494ff&#x27;, &#x27;#253494ff&#x27;, &#x27;#253494ff&#x27;, &#x27;#253494ff&#x27;, &#x27;#253494ff&#x27;, &#x27;#253494ff&#x27;, &#x27;#253494ff&#x27;, &#x27;#253494ff&#x27;]);\n",
       "    \n",
       "\n",
       "    color_map_ec70131e3646ebed139a59bb74578ce0.x = d3.scale.linear()\n",
       "              .domain([99.32696980464601, 313.12469720884206])\n",
       "              .range([0, 450 - 50]);\n",
       "\n",
       "    color_map_ec70131e3646ebed139a59bb74578ce0.legend = L.control({position: &#x27;topright&#x27;});\n",
       "    color_map_ec70131e3646ebed139a59bb74578ce0.legend.onAdd = function (map) {var div = L.DomUtil.create(&#x27;div&#x27;, &#x27;legend&#x27;); return div};\n",
       "    color_map_ec70131e3646ebed139a59bb74578ce0.legend.addTo(map_508022f1847a4622dab8c14301745680);\n",
       "\n",
       "    color_map_ec70131e3646ebed139a59bb74578ce0.xAxis = d3.svg.axis()\n",
       "        .scale(color_map_ec70131e3646ebed139a59bb74578ce0.x)\n",
       "        .orient(&quot;top&quot;)\n",
       "        .tickSize(1)\n",
       "        .tickValues([99.32696980464601, 134.959924372012, 170.592878939378, 206.22583350674404, 241.85878807411004, 277.49174264147604, 313.12469720884206]);\n",
       "\n",
       "    color_map_ec70131e3646ebed139a59bb74578ce0.svg = d3.select(&quot;.legend.leaflet-control&quot;).append(&quot;svg&quot;)\n",
       "        .attr(&quot;id&quot;, &#x27;legend&#x27;)\n",
       "        .attr(&quot;width&quot;, 450)\n",
       "        .attr(&quot;height&quot;, 40);\n",
       "\n",
       "    color_map_ec70131e3646ebed139a59bb74578ce0.g = color_map_ec70131e3646ebed139a59bb74578ce0.svg.append(&quot;g&quot;)\n",
       "        .attr(&quot;class&quot;, &quot;key&quot;)\n",
       "        .attr(&quot;fill&quot;, &quot;black&quot;)\n",
       "        .attr(&quot;transform&quot;, &quot;translate(25,16)&quot;);\n",
       "\n",
       "    color_map_ec70131e3646ebed139a59bb74578ce0.g.selectAll(&quot;rect&quot;)\n",
       "        .data(color_map_ec70131e3646ebed139a59bb74578ce0.color.range().map(function(d, i) {\n",
       "          return {\n",
       "            x0: i ? color_map_ec70131e3646ebed139a59bb74578ce0.x(color_map_ec70131e3646ebed139a59bb74578ce0.color.domain()[i - 1]) : color_map_ec70131e3646ebed139a59bb74578ce0.x.range()[0],\n",
       "            x1: i &lt; color_map_ec70131e3646ebed139a59bb74578ce0.color.domain().length ? color_map_ec70131e3646ebed139a59bb74578ce0.x(color_map_ec70131e3646ebed139a59bb74578ce0.color.domain()[i]) : color_map_ec70131e3646ebed139a59bb74578ce0.x.range()[1],\n",
       "            z: d\n",
       "          };\n",
       "        }))\n",
       "      .enter().append(&quot;rect&quot;)\n",
       "        .attr(&quot;height&quot;, 40 - 30)\n",
       "        .attr(&quot;x&quot;, function(d) { return d.x0; })\n",
       "        .attr(&quot;width&quot;, function(d) { return d.x1 - d.x0; })\n",
       "        .style(&quot;fill&quot;, function(d) { return d.z; });\n",
       "\n",
       "    color_map_ec70131e3646ebed139a59bb74578ce0.g.call(color_map_ec70131e3646ebed139a59bb74578ce0.xAxis).append(&quot;text&quot;)\n",
       "        .attr(&quot;class&quot;, &quot;caption&quot;)\n",
       "        .attr(&quot;y&quot;, 21)\n",
       "        .attr(&quot;fill&quot;, &quot;black&quot;)\n",
       "        .text(&quot;Hospital Admissions&quot;);\n",
       "    \n",
       "            choropleth_161411888dc82739a9ec421b92d529e9.addTo(map_508022f1847a4622dab8c14301745680);\n",
       "        \n",
       "    \n",
       "            var marker_b8e11ad72878b72a5edc9679bd43ef27 = L.marker(\n",
       "                [52.1911, 0.1927],\n",
       "                {}\n",
       "            ).addTo(map_508022f1847a4622dab8c14301745680);\n",
       "        \n",
       "    \n",
       "        var popup_b2ffdca447538270e3dc5c15e8b855c4 = L.popup({&quot;maxWidth&quot;: &quot;100%&quot;});\n",
       "\n",
       "        \n",
       "            \n",
       "                var html_0084341cf1b9c3a0c1c29dcf59917468 = $(`&lt;div id=&quot;html_0084341cf1b9c3a0c1c29dcf59917468&quot; style=&quot;width: 100.0%; height: 100.0%;&quot;&gt;&lt;i&gt;East of England&lt;/i&gt;&lt;/div&gt;`)[0];\n",
       "                popup_b2ffdca447538270e3dc5c15e8b855c4.setContent(html_0084341cf1b9c3a0c1c29dcf59917468);\n",
       "            \n",
       "        \n",
       "\n",
       "        marker_b8e11ad72878b72a5edc9679bd43ef27.bindPopup(popup_b2ffdca447538270e3dc5c15e8b855c4)\n",
       "        ;\n",
       "\n",
       "        \n",
       "    \n",
       "    \n",
       "            marker_b8e11ad72878b72a5edc9679bd43ef27.bindTooltip(\n",
       "                `&lt;div&gt;\n",
       "                     East of England&lt;br&gt;Admissions: 110.0\n",
       "                 &lt;/div&gt;`,\n",
       "                {&quot;sticky&quot;: true}\n",
       "            );\n",
       "        \n",
       "    \n",
       "            var marker_c16d37175e14a884ea4ab997fcf8a8ad = L.marker(\n",
       "                [51.5072, -0.1276],\n",
       "                {}\n",
       "            ).addTo(map_508022f1847a4622dab8c14301745680);\n",
       "        \n",
       "    \n",
       "        var popup_b73bbdef4a858de0427ba6f25c26a4f9 = L.popup({&quot;maxWidth&quot;: &quot;100%&quot;});\n",
       "\n",
       "        \n",
       "            \n",
       "                var html_94f8ed8e288bc2a1e34f7a567971511f = $(`&lt;div id=&quot;html_94f8ed8e288bc2a1e34f7a567971511f&quot; style=&quot;width: 100.0%; height: 100.0%;&quot;&gt;&lt;i&gt;London&lt;/i&gt;&lt;/div&gt;`)[0];\n",
       "                popup_b73bbdef4a858de0427ba6f25c26a4f9.setContent(html_94f8ed8e288bc2a1e34f7a567971511f);\n",
       "            \n",
       "        \n",
       "\n",
       "        marker_c16d37175e14a884ea4ab997fcf8a8ad.bindPopup(popup_b73bbdef4a858de0427ba6f25c26a4f9)\n",
       "        ;\n",
       "\n",
       "        \n",
       "    \n",
       "    \n",
       "            marker_c16d37175e14a884ea4ab997fcf8a8ad.bindTooltip(\n",
       "                `&lt;div&gt;\n",
       "                     London&lt;br&gt;Admissions: 199.0\n",
       "                 &lt;/div&gt;`,\n",
       "                {&quot;sticky&quot;: true}\n",
       "            );\n",
       "        \n",
       "    \n",
       "            var marker_3c8294fa2de30f7477ac429d8bfd4ff0 = L.marker(\n",
       "                [52.3449, -1.9718],\n",
       "                {}\n",
       "            ).addTo(map_508022f1847a4622dab8c14301745680);\n",
       "        \n",
       "    \n",
       "        var popup_360ea88257c6e1f76245d57fee48b017 = L.popup({&quot;maxWidth&quot;: &quot;100%&quot;});\n",
       "\n",
       "        \n",
       "            \n",
       "                var html_e3aa8cb4cc1ceea5cbc728fad56e4977 = $(`&lt;div id=&quot;html_e3aa8cb4cc1ceea5cbc728fad56e4977&quot; style=&quot;width: 100.0%; height: 100.0%;&quot;&gt;&lt;i&gt;Midlands&lt;/i&gt;&lt;/div&gt;`)[0];\n",
       "                popup_360ea88257c6e1f76245d57fee48b017.setContent(html_e3aa8cb4cc1ceea5cbc728fad56e4977);\n",
       "            \n",
       "        \n",
       "\n",
       "        marker_3c8294fa2de30f7477ac429d8bfd4ff0.bindPopup(popup_360ea88257c6e1f76245d57fee48b017)\n",
       "        ;\n",
       "\n",
       "        \n",
       "    \n",
       "    \n",
       "            marker_3c8294fa2de30f7477ac429d8bfd4ff0.bindTooltip(\n",
       "                `&lt;div&gt;\n",
       "                     Midlands&lt;br&gt;Admissions: 188.0\n",
       "                 &lt;/div&gt;`,\n",
       "                {&quot;sticky&quot;: true}\n",
       "            );\n",
       "        \n",
       "    \n",
       "            var marker_c69a8668690925f0fb01a4e2f57fd2d1 = L.marker(\n",
       "                [54.2333, -1.3364],\n",
       "                {}\n",
       "            ).addTo(map_508022f1847a4622dab8c14301745680);\n",
       "        \n",
       "    \n",
       "        var popup_26bf8780db5ba41481329ddf6f3f2fca = L.popup({&quot;maxWidth&quot;: &quot;100%&quot;});\n",
       "\n",
       "        \n",
       "            \n",
       "                var html_4bf246fdc79259f6e52b15b2d8984c94 = $(`&lt;div id=&quot;html_4bf246fdc79259f6e52b15b2d8984c94&quot; style=&quot;width: 100.0%; height: 100.0%;&quot;&gt;&lt;i&gt;North East and Yorkshire&lt;/i&gt;&lt;/div&gt;`)[0];\n",
       "                popup_26bf8780db5ba41481329ddf6f3f2fca.setContent(html_4bf246fdc79259f6e52b15b2d8984c94);\n",
       "            \n",
       "        \n",
       "\n",
       "        marker_c69a8668690925f0fb01a4e2f57fd2d1.bindPopup(popup_26bf8780db5ba41481329ddf6f3f2fca)\n",
       "        ;\n",
       "\n",
       "        \n",
       "    \n",
       "    \n",
       "            marker_c69a8668690925f0fb01a4e2f57fd2d1.bindTooltip(\n",
       "                `&lt;div&gt;\n",
       "                     North East and Yorkshire&lt;br&gt;Admissions: 313.0\n",
       "                 &lt;/div&gt;`,\n",
       "                {&quot;sticky&quot;: true}\n",
       "            );\n",
       "        \n",
       "    \n",
       "            var marker_f815ffac5be6398540b6338e61cec34a = L.marker(\n",
       "                [53.6221, -2.5945],\n",
       "                {}\n",
       "            ).addTo(map_508022f1847a4622dab8c14301745680);\n",
       "        \n",
       "    \n",
       "        var popup_0e10930a938416435fbe223304c4e8ac = L.popup({&quot;maxWidth&quot;: &quot;100%&quot;});\n",
       "\n",
       "        \n",
       "            \n",
       "                var html_459effe02511a5651cfae5c72e66fed5 = $(`&lt;div id=&quot;html_459effe02511a5651cfae5c72e66fed5&quot; style=&quot;width: 100.0%; height: 100.0%;&quot;&gt;&lt;i&gt;North West&lt;/i&gt;&lt;/div&gt;`)[0];\n",
       "                popup_0e10930a938416435fbe223304c4e8ac.setContent(html_459effe02511a5651cfae5c72e66fed5);\n",
       "            \n",
       "        \n",
       "\n",
       "        marker_f815ffac5be6398540b6338e61cec34a.bindPopup(popup_0e10930a938416435fbe223304c4e8ac)\n",
       "        ;\n",
       "\n",
       "        \n",
       "    \n",
       "    \n",
       "            marker_f815ffac5be6398540b6338e61cec34a.bindTooltip(\n",
       "                `&lt;div&gt;\n",
       "                     North West&lt;br&gt;Admissions: 212.0\n",
       "                 &lt;/div&gt;`,\n",
       "                {&quot;sticky&quot;: true}\n",
       "            );\n",
       "        \n",
       "    \n",
       "            var marker_69a7e90b7614cd9d800742dc68151717 = L.marker(\n",
       "                [51.1781, -0.5596],\n",
       "                {}\n",
       "            ).addTo(map_508022f1847a4622dab8c14301745680);\n",
       "        \n",
       "    \n",
       "        var popup_3d67c8c0d7dfffdf956faa81d1919855 = L.popup({&quot;maxWidth&quot;: &quot;100%&quot;});\n",
       "\n",
       "        \n",
       "            \n",
       "                var html_208bc9937d3538541423fbe46895cfb8 = $(`&lt;div id=&quot;html_208bc9937d3538541423fbe46895cfb8&quot; style=&quot;width: 100.0%; height: 100.0%;&quot;&gt;&lt;i&gt;South East&lt;/i&gt;&lt;/div&gt;`)[0];\n",
       "                popup_3d67c8c0d7dfffdf956faa81d1919855.setContent(html_208bc9937d3538541423fbe46895cfb8);\n",
       "            \n",
       "        \n",
       "\n",
       "        marker_69a7e90b7614cd9d800742dc68151717.bindPopup(popup_3d67c8c0d7dfffdf956faa81d1919855)\n",
       "        ;\n",
       "\n",
       "        \n",
       "    \n",
       "    \n",
       "            marker_69a7e90b7614cd9d800742dc68151717.bindTooltip(\n",
       "                `&lt;div&gt;\n",
       "                     South East&lt;br&gt;Admissions: 199.0\n",
       "                 &lt;/div&gt;`,\n",
       "                {&quot;sticky&quot;: true}\n",
       "            );\n",
       "        \n",
       "    \n",
       "            var marker_96065c7968cf56df56817c7b06fd5e8e = L.marker(\n",
       "                [50.7772, -3.9995],\n",
       "                {}\n",
       "            ).addTo(map_508022f1847a4622dab8c14301745680);\n",
       "        \n",
       "    \n",
       "        var popup_78183445539ca0176df60b5c428cc732 = L.popup({&quot;maxWidth&quot;: &quot;100%&quot;});\n",
       "\n",
       "        \n",
       "            \n",
       "                var html_11ee815b5a1a958a5d20fa31c47fda6a = $(`&lt;div id=&quot;html_11ee815b5a1a958a5d20fa31c47fda6a&quot; style=&quot;width: 100.0%; height: 100.0%;&quot;&gt;&lt;i&gt;South West&lt;/i&gt;&lt;/div&gt;`)[0];\n",
       "                popup_78183445539ca0176df60b5c428cc732.setContent(html_11ee815b5a1a958a5d20fa31c47fda6a);\n",
       "            \n",
       "        \n",
       "\n",
       "        marker_96065c7968cf56df56817c7b06fd5e8e.bindPopup(popup_78183445539ca0176df60b5c428cc732)\n",
       "        ;\n",
       "\n",
       "        \n",
       "    \n",
       "    \n",
       "            marker_96065c7968cf56df56817c7b06fd5e8e.bindTooltip(\n",
       "                `&lt;div&gt;\n",
       "                     South West&lt;br&gt;Admissions: 157.0\n",
       "                 &lt;/div&gt;`,\n",
       "                {&quot;sticky&quot;: true}\n",
       "            );\n",
       "        \n",
       "&lt;/script&gt;\n",
       "&lt;/html&gt;\" style=\"position:absolute;width:100%;height:100%;left:0;top:0;border:none !important;\" allowfullscreen webkitallowfullscreen mozallowfullscreen></iframe></div></div>"
      ],
      "text/plain": [
       "<folium.folium.Map at 0x16b383f50>"
      ]
     },
     "metadata": {},
     "output_type": "display_data"
    },
    {
     "data": {
      "application/vnd.jupyter.widget-view+json": {
       "model_id": "441923264df142389ae96fbc5772f767",
       "version_major": 2,
       "version_minor": 0
      },
      "text/plain": [
       "interactive(children=(Dropdown(description='Data to view', options=('Respiratory', 'COPD', 'Asthma'), style=De…"
      ]
     },
     "metadata": {},
     "output_type": "display_data"
    }
   ],
   "source": [
    "# display folium map \n",
    "display_data_on_map(regional_dict_per_bed, \"Admissions Per Bed\")"
   ]
  },
  {
   "cell_type": "markdown",
   "id": "03fc7fca",
   "metadata": {},
   "source": [
    "#### ANALYSIS OF THE ABOVE MAP \n",
    "> Analysing now per bed, we see that the North East and Yorkshire has the highest admissions relative to the number of beds available, indicating the greatest strain on the NHS services in that region due to respiratory illnesses. Per bed, admissions. Both the South West and London have gone up in their values relative to the rest of the country, indicating greater strain on their NHS services than elsewhere. \n",
    "<br><br>\n",
    "> Of respiratory illnesses, the South West experiences a large portion of its strain on service due to COPD admissions as seen by its COPD admissions per bed available being the highest in the country, with 74 admissions per bed (the North East and Yorkshire has the highest with 87). \n",
    "<br><br>\n",
    "> Of respiratory illnesses, a concentration of strain on service due to asthma appears to be inthe North West while the North East and Yorkshire shows a drop in strain due to asthma relative to all respiratory illnesses and COPD. The South West experience less strain on service due to asthma, as does the South East. "
   ]
  },
  {
   "cell_type": "markdown",
   "id": "06aec11e",
   "metadata": {},
   "source": [
    "#### Bar chart of admissions per bed"
   ]
  },
  {
   "cell_type": "code",
   "execution_count": 86,
   "id": "db9136c2",
   "metadata": {},
   "outputs": [],
   "source": [
    "# list of header titles \n",
    "headers=[\"Respiratory Admissions Per Bed Available\",\\\n",
    "    \"COPD Admissions Per Bed Available\",\\\n",
    "    \"Asthma Admissions Per Bed Available\"]\n",
    "\n",
    "# create list of dataframe columns to concatenate\n",
    "temp=[regions_df, df_resp_per_bed, df_copd_per_bed, df_asthma_per_bed]\n",
    "# concat returns columns joined side by side, as a series\n",
    "combined_series=pd.concat(temp, axis=1)\n",
    "# group series by region and sum values in each column by region\n",
    "summed_df=combined_series.groupby(\"Region\", as_index=False)\\\n",
    "    [headers].sum()\n",
    "\n",
    "# set up bar chart figure\n",
    "fig = px.bar(summed_df, x=\"Region\", y=headers, title=\"Wide-Form Input\")\n",
    "\n",
    "# plot each column in summed_df by region\n",
    "fig=go.Figure(data=[\n",
    "    go.Bar(name=\"Respiratory Admissions\",x=summed_df[\"Region\"],y=summed_df[headers[0]]),\n",
    "    go.Bar(name=\"COPD Admissions\",x=summed_df[\"Region\"],y=summed_df[headers[1]]),\n",
    "    go.Bar(name=\"Asthma Admissions\",x=summed_df[\"Region\"],y=summed_df[headers[2]]),\n",
    "])\n",
    "\n",
    "# add a title\n",
    "fig=fig.update_layout(title_text=\"Admissions per Bed\")\n"
   ]
  },
  {
   "cell_type": "code",
   "execution_count": 87,
   "id": "c62ea772",
   "metadata": {},
   "outputs": [
    {
     "data": {
      "application/vnd.plotly.v1+json": {
       "config": {
        "plotlyServerURL": "https://plot.ly"
       },
       "data": [
        {
         "name": "Respiratory Admissions",
         "type": "bar",
         "x": [
          "East of England",
          "London",
          "Midlands",
          "North East and Yorkshire",
          "North West",
          "South East",
          "South West",
          "Wales"
         ],
         "y": [
          109.58225376375974,
          198.73834802920874,
          187.87167783526644,
          313.12469720884206,
          211.90569041982903,
          199.0230058700482,
          156.58528405864922,
          99.32696980464601
         ]
        },
        {
         "name": "COPD Admissions",
         "type": "bar",
         "x": [
          "East of England",
          "London",
          "Midlands",
          "North East and Yorkshire",
          "North West",
          "South East",
          "South West",
          "Wales"
         ],
         "y": [
          30.531986038125286,
          45.26291031831308,
          65.5881930717312,
          86.57557540308774,
          67.02403878868758,
          45.23027453480362,
          74.32922537012706,
          29.120345097179435
         ]
        },
        {
         "name": "Asthma Admissions",
         "type": "bar",
         "x": [
          "East of England",
          "London",
          "Midlands",
          "North East and Yorkshire",
          "North West",
          "South East",
          "South West",
          "Wales"
         ],
         "y": [
          12.648975913647538,
          13.54586964088977,
          19.259351076211388,
          18.88487975308618,
          31.773033038806496,
          8.77657229820545,
          7.027751372412487,
          12.516636627049312
         ]
        }
       ],
       "layout": {
        "template": {
         "data": {
          "bar": [
           {
            "error_x": {
             "color": "#2a3f5f"
            },
            "error_y": {
             "color": "#2a3f5f"
            },
            "marker": {
             "line": {
              "color": "#E5ECF6",
              "width": 0.5
             },
             "pattern": {
              "fillmode": "overlay",
              "size": 10,
              "solidity": 0.2
             }
            },
            "type": "bar"
           }
          ],
          "barpolar": [
           {
            "marker": {
             "line": {
              "color": "#E5ECF6",
              "width": 0.5
             },
             "pattern": {
              "fillmode": "overlay",
              "size": 10,
              "solidity": 0.2
             }
            },
            "type": "barpolar"
           }
          ],
          "carpet": [
           {
            "aaxis": {
             "endlinecolor": "#2a3f5f",
             "gridcolor": "white",
             "linecolor": "white",
             "minorgridcolor": "white",
             "startlinecolor": "#2a3f5f"
            },
            "baxis": {
             "endlinecolor": "#2a3f5f",
             "gridcolor": "white",
             "linecolor": "white",
             "minorgridcolor": "white",
             "startlinecolor": "#2a3f5f"
            },
            "type": "carpet"
           }
          ],
          "choropleth": [
           {
            "colorbar": {
             "outlinewidth": 0,
             "ticks": ""
            },
            "type": "choropleth"
           }
          ],
          "contour": [
           {
            "colorbar": {
             "outlinewidth": 0,
             "ticks": ""
            },
            "colorscale": [
             [
              0,
              "#0d0887"
             ],
             [
              0.1111111111111111,
              "#46039f"
             ],
             [
              0.2222222222222222,
              "#7201a8"
             ],
             [
              0.3333333333333333,
              "#9c179e"
             ],
             [
              0.4444444444444444,
              "#bd3786"
             ],
             [
              0.5555555555555556,
              "#d8576b"
             ],
             [
              0.6666666666666666,
              "#ed7953"
             ],
             [
              0.7777777777777778,
              "#fb9f3a"
             ],
             [
              0.8888888888888888,
              "#fdca26"
             ],
             [
              1,
              "#f0f921"
             ]
            ],
            "type": "contour"
           }
          ],
          "contourcarpet": [
           {
            "colorbar": {
             "outlinewidth": 0,
             "ticks": ""
            },
            "type": "contourcarpet"
           }
          ],
          "heatmap": [
           {
            "colorbar": {
             "outlinewidth": 0,
             "ticks": ""
            },
            "colorscale": [
             [
              0,
              "#0d0887"
             ],
             [
              0.1111111111111111,
              "#46039f"
             ],
             [
              0.2222222222222222,
              "#7201a8"
             ],
             [
              0.3333333333333333,
              "#9c179e"
             ],
             [
              0.4444444444444444,
              "#bd3786"
             ],
             [
              0.5555555555555556,
              "#d8576b"
             ],
             [
              0.6666666666666666,
              "#ed7953"
             ],
             [
              0.7777777777777778,
              "#fb9f3a"
             ],
             [
              0.8888888888888888,
              "#fdca26"
             ],
             [
              1,
              "#f0f921"
             ]
            ],
            "type": "heatmap"
           }
          ],
          "heatmapgl": [
           {
            "colorbar": {
             "outlinewidth": 0,
             "ticks": ""
            },
            "colorscale": [
             [
              0,
              "#0d0887"
             ],
             [
              0.1111111111111111,
              "#46039f"
             ],
             [
              0.2222222222222222,
              "#7201a8"
             ],
             [
              0.3333333333333333,
              "#9c179e"
             ],
             [
              0.4444444444444444,
              "#bd3786"
             ],
             [
              0.5555555555555556,
              "#d8576b"
             ],
             [
              0.6666666666666666,
              "#ed7953"
             ],
             [
              0.7777777777777778,
              "#fb9f3a"
             ],
             [
              0.8888888888888888,
              "#fdca26"
             ],
             [
              1,
              "#f0f921"
             ]
            ],
            "type": "heatmapgl"
           }
          ],
          "histogram": [
           {
            "marker": {
             "pattern": {
              "fillmode": "overlay",
              "size": 10,
              "solidity": 0.2
             }
            },
            "type": "histogram"
           }
          ],
          "histogram2d": [
           {
            "colorbar": {
             "outlinewidth": 0,
             "ticks": ""
            },
            "colorscale": [
             [
              0,
              "#0d0887"
             ],
             [
              0.1111111111111111,
              "#46039f"
             ],
             [
              0.2222222222222222,
              "#7201a8"
             ],
             [
              0.3333333333333333,
              "#9c179e"
             ],
             [
              0.4444444444444444,
              "#bd3786"
             ],
             [
              0.5555555555555556,
              "#d8576b"
             ],
             [
              0.6666666666666666,
              "#ed7953"
             ],
             [
              0.7777777777777778,
              "#fb9f3a"
             ],
             [
              0.8888888888888888,
              "#fdca26"
             ],
             [
              1,
              "#f0f921"
             ]
            ],
            "type": "histogram2d"
           }
          ],
          "histogram2dcontour": [
           {
            "colorbar": {
             "outlinewidth": 0,
             "ticks": ""
            },
            "colorscale": [
             [
              0,
              "#0d0887"
             ],
             [
              0.1111111111111111,
              "#46039f"
             ],
             [
              0.2222222222222222,
              "#7201a8"
             ],
             [
              0.3333333333333333,
              "#9c179e"
             ],
             [
              0.4444444444444444,
              "#bd3786"
             ],
             [
              0.5555555555555556,
              "#d8576b"
             ],
             [
              0.6666666666666666,
              "#ed7953"
             ],
             [
              0.7777777777777778,
              "#fb9f3a"
             ],
             [
              0.8888888888888888,
              "#fdca26"
             ],
             [
              1,
              "#f0f921"
             ]
            ],
            "type": "histogram2dcontour"
           }
          ],
          "mesh3d": [
           {
            "colorbar": {
             "outlinewidth": 0,
             "ticks": ""
            },
            "type": "mesh3d"
           }
          ],
          "parcoords": [
           {
            "line": {
             "colorbar": {
              "outlinewidth": 0,
              "ticks": ""
             }
            },
            "type": "parcoords"
           }
          ],
          "pie": [
           {
            "automargin": true,
            "type": "pie"
           }
          ],
          "scatter": [
           {
            "fillpattern": {
             "fillmode": "overlay",
             "size": 10,
             "solidity": 0.2
            },
            "type": "scatter"
           }
          ],
          "scatter3d": [
           {
            "line": {
             "colorbar": {
              "outlinewidth": 0,
              "ticks": ""
             }
            },
            "marker": {
             "colorbar": {
              "outlinewidth": 0,
              "ticks": ""
             }
            },
            "type": "scatter3d"
           }
          ],
          "scattercarpet": [
           {
            "marker": {
             "colorbar": {
              "outlinewidth": 0,
              "ticks": ""
             }
            },
            "type": "scattercarpet"
           }
          ],
          "scattergeo": [
           {
            "marker": {
             "colorbar": {
              "outlinewidth": 0,
              "ticks": ""
             }
            },
            "type": "scattergeo"
           }
          ],
          "scattergl": [
           {
            "marker": {
             "colorbar": {
              "outlinewidth": 0,
              "ticks": ""
             }
            },
            "type": "scattergl"
           }
          ],
          "scattermapbox": [
           {
            "marker": {
             "colorbar": {
              "outlinewidth": 0,
              "ticks": ""
             }
            },
            "type": "scattermapbox"
           }
          ],
          "scatterpolar": [
           {
            "marker": {
             "colorbar": {
              "outlinewidth": 0,
              "ticks": ""
             }
            },
            "type": "scatterpolar"
           }
          ],
          "scatterpolargl": [
           {
            "marker": {
             "colorbar": {
              "outlinewidth": 0,
              "ticks": ""
             }
            },
            "type": "scatterpolargl"
           }
          ],
          "scatterternary": [
           {
            "marker": {
             "colorbar": {
              "outlinewidth": 0,
              "ticks": ""
             }
            },
            "type": "scatterternary"
           }
          ],
          "surface": [
           {
            "colorbar": {
             "outlinewidth": 0,
             "ticks": ""
            },
            "colorscale": [
             [
              0,
              "#0d0887"
             ],
             [
              0.1111111111111111,
              "#46039f"
             ],
             [
              0.2222222222222222,
              "#7201a8"
             ],
             [
              0.3333333333333333,
              "#9c179e"
             ],
             [
              0.4444444444444444,
              "#bd3786"
             ],
             [
              0.5555555555555556,
              "#d8576b"
             ],
             [
              0.6666666666666666,
              "#ed7953"
             ],
             [
              0.7777777777777778,
              "#fb9f3a"
             ],
             [
              0.8888888888888888,
              "#fdca26"
             ],
             [
              1,
              "#f0f921"
             ]
            ],
            "type": "surface"
           }
          ],
          "table": [
           {
            "cells": {
             "fill": {
              "color": "#EBF0F8"
             },
             "line": {
              "color": "white"
             }
            },
            "header": {
             "fill": {
              "color": "#C8D4E3"
             },
             "line": {
              "color": "white"
             }
            },
            "type": "table"
           }
          ]
         },
         "layout": {
          "annotationdefaults": {
           "arrowcolor": "#2a3f5f",
           "arrowhead": 0,
           "arrowwidth": 1
          },
          "autotypenumbers": "strict",
          "coloraxis": {
           "colorbar": {
            "outlinewidth": 0,
            "ticks": ""
           }
          },
          "colorscale": {
           "diverging": [
            [
             0,
             "#8e0152"
            ],
            [
             0.1,
             "#c51b7d"
            ],
            [
             0.2,
             "#de77ae"
            ],
            [
             0.3,
             "#f1b6da"
            ],
            [
             0.4,
             "#fde0ef"
            ],
            [
             0.5,
             "#f7f7f7"
            ],
            [
             0.6,
             "#e6f5d0"
            ],
            [
             0.7,
             "#b8e186"
            ],
            [
             0.8,
             "#7fbc41"
            ],
            [
             0.9,
             "#4d9221"
            ],
            [
             1,
             "#276419"
            ]
           ],
           "sequential": [
            [
             0,
             "#0d0887"
            ],
            [
             0.1111111111111111,
             "#46039f"
            ],
            [
             0.2222222222222222,
             "#7201a8"
            ],
            [
             0.3333333333333333,
             "#9c179e"
            ],
            [
             0.4444444444444444,
             "#bd3786"
            ],
            [
             0.5555555555555556,
             "#d8576b"
            ],
            [
             0.6666666666666666,
             "#ed7953"
            ],
            [
             0.7777777777777778,
             "#fb9f3a"
            ],
            [
             0.8888888888888888,
             "#fdca26"
            ],
            [
             1,
             "#f0f921"
            ]
           ],
           "sequentialminus": [
            [
             0,
             "#0d0887"
            ],
            [
             0.1111111111111111,
             "#46039f"
            ],
            [
             0.2222222222222222,
             "#7201a8"
            ],
            [
             0.3333333333333333,
             "#9c179e"
            ],
            [
             0.4444444444444444,
             "#bd3786"
            ],
            [
             0.5555555555555556,
             "#d8576b"
            ],
            [
             0.6666666666666666,
             "#ed7953"
            ],
            [
             0.7777777777777778,
             "#fb9f3a"
            ],
            [
             0.8888888888888888,
             "#fdca26"
            ],
            [
             1,
             "#f0f921"
            ]
           ]
          },
          "colorway": [
           "#636efa",
           "#EF553B",
           "#00cc96",
           "#ab63fa",
           "#FFA15A",
           "#19d3f3",
           "#FF6692",
           "#B6E880",
           "#FF97FF",
           "#FECB52"
          ],
          "font": {
           "color": "#2a3f5f"
          },
          "geo": {
           "bgcolor": "white",
           "lakecolor": "white",
           "landcolor": "#E5ECF6",
           "showlakes": true,
           "showland": true,
           "subunitcolor": "white"
          },
          "hoverlabel": {
           "align": "left"
          },
          "hovermode": "closest",
          "mapbox": {
           "style": "light"
          },
          "paper_bgcolor": "white",
          "plot_bgcolor": "#E5ECF6",
          "polar": {
           "angularaxis": {
            "gridcolor": "white",
            "linecolor": "white",
            "ticks": ""
           },
           "bgcolor": "#E5ECF6",
           "radialaxis": {
            "gridcolor": "white",
            "linecolor": "white",
            "ticks": ""
           }
          },
          "scene": {
           "xaxis": {
            "backgroundcolor": "#E5ECF6",
            "gridcolor": "white",
            "gridwidth": 2,
            "linecolor": "white",
            "showbackground": true,
            "ticks": "",
            "zerolinecolor": "white"
           },
           "yaxis": {
            "backgroundcolor": "#E5ECF6",
            "gridcolor": "white",
            "gridwidth": 2,
            "linecolor": "white",
            "showbackground": true,
            "ticks": "",
            "zerolinecolor": "white"
           },
           "zaxis": {
            "backgroundcolor": "#E5ECF6",
            "gridcolor": "white",
            "gridwidth": 2,
            "linecolor": "white",
            "showbackground": true,
            "ticks": "",
            "zerolinecolor": "white"
           }
          },
          "shapedefaults": {
           "line": {
            "color": "#2a3f5f"
           }
          },
          "ternary": {
           "aaxis": {
            "gridcolor": "white",
            "linecolor": "white",
            "ticks": ""
           },
           "baxis": {
            "gridcolor": "white",
            "linecolor": "white",
            "ticks": ""
           },
           "bgcolor": "#E5ECF6",
           "caxis": {
            "gridcolor": "white",
            "linecolor": "white",
            "ticks": ""
           }
          },
          "title": {
           "x": 0.05
          },
          "xaxis": {
           "automargin": true,
           "gridcolor": "white",
           "linecolor": "white",
           "ticks": "",
           "title": {
            "standoff": 15
           },
           "zerolinecolor": "white",
           "zerolinewidth": 2
          },
          "yaxis": {
           "automargin": true,
           "gridcolor": "white",
           "linecolor": "white",
           "ticks": "",
           "title": {
            "standoff": 15
           },
           "zerolinecolor": "white",
           "zerolinewidth": 2
          }
         }
        },
        "title": {
         "text": "Admissions per Bed"
        }
       }
      },
      "text/html": [
       "<div>                            <div id=\"26e43e9b-d9ba-452d-b5fc-ab5b69016059\" class=\"plotly-graph-div\" style=\"height:525px; width:100%;\"></div>            <script type=\"text/javascript\">                require([\"plotly\"], function(Plotly) {                    window.PLOTLYENV=window.PLOTLYENV || {};                                    if (document.getElementById(\"26e43e9b-d9ba-452d-b5fc-ab5b69016059\")) {                    Plotly.newPlot(                        \"26e43e9b-d9ba-452d-b5fc-ab5b69016059\",                        [{\"name\":\"Respiratory Admissions\",\"x\":[\"East of England\",\"London\",\"Midlands\",\"North East and Yorkshire\",\"North West\",\"South East\",\"South West\",\"Wales\"],\"y\":[109.58225376375974,198.73834802920874,187.87167783526644,313.12469720884206,211.90569041982903,199.0230058700482,156.58528405864922,99.32696980464601],\"type\":\"bar\"},{\"name\":\"COPD Admissions\",\"x\":[\"East of England\",\"London\",\"Midlands\",\"North East and Yorkshire\",\"North West\",\"South East\",\"South West\",\"Wales\"],\"y\":[30.531986038125286,45.26291031831308,65.5881930717312,86.57557540308774,67.02403878868758,45.23027453480362,74.32922537012706,29.120345097179435],\"type\":\"bar\"},{\"name\":\"Asthma Admissions\",\"x\":[\"East of England\",\"London\",\"Midlands\",\"North East and Yorkshire\",\"North West\",\"South East\",\"South West\",\"Wales\"],\"y\":[12.648975913647538,13.54586964088977,19.259351076211388,18.88487975308618,31.773033038806496,8.77657229820545,7.027751372412487,12.516636627049312],\"type\":\"bar\"}],                        {\"template\":{\"data\":{\"histogram2dcontour\":[{\"type\":\"histogram2dcontour\",\"colorbar\":{\"outlinewidth\":0,\"ticks\":\"\"},\"colorscale\":[[0.0,\"#0d0887\"],[0.1111111111111111,\"#46039f\"],[0.2222222222222222,\"#7201a8\"],[0.3333333333333333,\"#9c179e\"],[0.4444444444444444,\"#bd3786\"],[0.5555555555555556,\"#d8576b\"],[0.6666666666666666,\"#ed7953\"],[0.7777777777777778,\"#fb9f3a\"],[0.8888888888888888,\"#fdca26\"],[1.0,\"#f0f921\"]]}],\"choropleth\":[{\"type\":\"choropleth\",\"colorbar\":{\"outlinewidth\":0,\"ticks\":\"\"}}],\"histogram2d\":[{\"type\":\"histogram2d\",\"colorbar\":{\"outlinewidth\":0,\"ticks\":\"\"},\"colorscale\":[[0.0,\"#0d0887\"],[0.1111111111111111,\"#46039f\"],[0.2222222222222222,\"#7201a8\"],[0.3333333333333333,\"#9c179e\"],[0.4444444444444444,\"#bd3786\"],[0.5555555555555556,\"#d8576b\"],[0.6666666666666666,\"#ed7953\"],[0.7777777777777778,\"#fb9f3a\"],[0.8888888888888888,\"#fdca26\"],[1.0,\"#f0f921\"]]}],\"heatmap\":[{\"type\":\"heatmap\",\"colorbar\":{\"outlinewidth\":0,\"ticks\":\"\"},\"colorscale\":[[0.0,\"#0d0887\"],[0.1111111111111111,\"#46039f\"],[0.2222222222222222,\"#7201a8\"],[0.3333333333333333,\"#9c179e\"],[0.4444444444444444,\"#bd3786\"],[0.5555555555555556,\"#d8576b\"],[0.6666666666666666,\"#ed7953\"],[0.7777777777777778,\"#fb9f3a\"],[0.8888888888888888,\"#fdca26\"],[1.0,\"#f0f921\"]]}],\"heatmapgl\":[{\"type\":\"heatmapgl\",\"colorbar\":{\"outlinewidth\":0,\"ticks\":\"\"},\"colorscale\":[[0.0,\"#0d0887\"],[0.1111111111111111,\"#46039f\"],[0.2222222222222222,\"#7201a8\"],[0.3333333333333333,\"#9c179e\"],[0.4444444444444444,\"#bd3786\"],[0.5555555555555556,\"#d8576b\"],[0.6666666666666666,\"#ed7953\"],[0.7777777777777778,\"#fb9f3a\"],[0.8888888888888888,\"#fdca26\"],[1.0,\"#f0f921\"]]}],\"contourcarpet\":[{\"type\":\"contourcarpet\",\"colorbar\":{\"outlinewidth\":0,\"ticks\":\"\"}}],\"contour\":[{\"type\":\"contour\",\"colorbar\":{\"outlinewidth\":0,\"ticks\":\"\"},\"colorscale\":[[0.0,\"#0d0887\"],[0.1111111111111111,\"#46039f\"],[0.2222222222222222,\"#7201a8\"],[0.3333333333333333,\"#9c179e\"],[0.4444444444444444,\"#bd3786\"],[0.5555555555555556,\"#d8576b\"],[0.6666666666666666,\"#ed7953\"],[0.7777777777777778,\"#fb9f3a\"],[0.8888888888888888,\"#fdca26\"],[1.0,\"#f0f921\"]]}],\"surface\":[{\"type\":\"surface\",\"colorbar\":{\"outlinewidth\":0,\"ticks\":\"\"},\"colorscale\":[[0.0,\"#0d0887\"],[0.1111111111111111,\"#46039f\"],[0.2222222222222222,\"#7201a8\"],[0.3333333333333333,\"#9c179e\"],[0.4444444444444444,\"#bd3786\"],[0.5555555555555556,\"#d8576b\"],[0.6666666666666666,\"#ed7953\"],[0.7777777777777778,\"#fb9f3a\"],[0.8888888888888888,\"#fdca26\"],[1.0,\"#f0f921\"]]}],\"mesh3d\":[{\"type\":\"mesh3d\",\"colorbar\":{\"outlinewidth\":0,\"ticks\":\"\"}}],\"scatter\":[{\"fillpattern\":{\"fillmode\":\"overlay\",\"size\":10,\"solidity\":0.2},\"type\":\"scatter\"}],\"parcoords\":[{\"type\":\"parcoords\",\"line\":{\"colorbar\":{\"outlinewidth\":0,\"ticks\":\"\"}}}],\"scatterpolargl\":[{\"type\":\"scatterpolargl\",\"marker\":{\"colorbar\":{\"outlinewidth\":0,\"ticks\":\"\"}}}],\"bar\":[{\"error_x\":{\"color\":\"#2a3f5f\"},\"error_y\":{\"color\":\"#2a3f5f\"},\"marker\":{\"line\":{\"color\":\"#E5ECF6\",\"width\":0.5},\"pattern\":{\"fillmode\":\"overlay\",\"size\":10,\"solidity\":0.2}},\"type\":\"bar\"}],\"scattergeo\":[{\"type\":\"scattergeo\",\"marker\":{\"colorbar\":{\"outlinewidth\":0,\"ticks\":\"\"}}}],\"scatterpolar\":[{\"type\":\"scatterpolar\",\"marker\":{\"colorbar\":{\"outlinewidth\":0,\"ticks\":\"\"}}}],\"histogram\":[{\"marker\":{\"pattern\":{\"fillmode\":\"overlay\",\"size\":10,\"solidity\":0.2}},\"type\":\"histogram\"}],\"scattergl\":[{\"type\":\"scattergl\",\"marker\":{\"colorbar\":{\"outlinewidth\":0,\"ticks\":\"\"}}}],\"scatter3d\":[{\"type\":\"scatter3d\",\"line\":{\"colorbar\":{\"outlinewidth\":0,\"ticks\":\"\"}},\"marker\":{\"colorbar\":{\"outlinewidth\":0,\"ticks\":\"\"}}}],\"scattermapbox\":[{\"type\":\"scattermapbox\",\"marker\":{\"colorbar\":{\"outlinewidth\":0,\"ticks\":\"\"}}}],\"scatterternary\":[{\"type\":\"scatterternary\",\"marker\":{\"colorbar\":{\"outlinewidth\":0,\"ticks\":\"\"}}}],\"scattercarpet\":[{\"type\":\"scattercarpet\",\"marker\":{\"colorbar\":{\"outlinewidth\":0,\"ticks\":\"\"}}}],\"carpet\":[{\"aaxis\":{\"endlinecolor\":\"#2a3f5f\",\"gridcolor\":\"white\",\"linecolor\":\"white\",\"minorgridcolor\":\"white\",\"startlinecolor\":\"#2a3f5f\"},\"baxis\":{\"endlinecolor\":\"#2a3f5f\",\"gridcolor\":\"white\",\"linecolor\":\"white\",\"minorgridcolor\":\"white\",\"startlinecolor\":\"#2a3f5f\"},\"type\":\"carpet\"}],\"table\":[{\"cells\":{\"fill\":{\"color\":\"#EBF0F8\"},\"line\":{\"color\":\"white\"}},\"header\":{\"fill\":{\"color\":\"#C8D4E3\"},\"line\":{\"color\":\"white\"}},\"type\":\"table\"}],\"barpolar\":[{\"marker\":{\"line\":{\"color\":\"#E5ECF6\",\"width\":0.5},\"pattern\":{\"fillmode\":\"overlay\",\"size\":10,\"solidity\":0.2}},\"type\":\"barpolar\"}],\"pie\":[{\"automargin\":true,\"type\":\"pie\"}]},\"layout\":{\"autotypenumbers\":\"strict\",\"colorway\":[\"#636efa\",\"#EF553B\",\"#00cc96\",\"#ab63fa\",\"#FFA15A\",\"#19d3f3\",\"#FF6692\",\"#B6E880\",\"#FF97FF\",\"#FECB52\"],\"font\":{\"color\":\"#2a3f5f\"},\"hovermode\":\"closest\",\"hoverlabel\":{\"align\":\"left\"},\"paper_bgcolor\":\"white\",\"plot_bgcolor\":\"#E5ECF6\",\"polar\":{\"bgcolor\":\"#E5ECF6\",\"angularaxis\":{\"gridcolor\":\"white\",\"linecolor\":\"white\",\"ticks\":\"\"},\"radialaxis\":{\"gridcolor\":\"white\",\"linecolor\":\"white\",\"ticks\":\"\"}},\"ternary\":{\"bgcolor\":\"#E5ECF6\",\"aaxis\":{\"gridcolor\":\"white\",\"linecolor\":\"white\",\"ticks\":\"\"},\"baxis\":{\"gridcolor\":\"white\",\"linecolor\":\"white\",\"ticks\":\"\"},\"caxis\":{\"gridcolor\":\"white\",\"linecolor\":\"white\",\"ticks\":\"\"}},\"coloraxis\":{\"colorbar\":{\"outlinewidth\":0,\"ticks\":\"\"}},\"colorscale\":{\"sequential\":[[0.0,\"#0d0887\"],[0.1111111111111111,\"#46039f\"],[0.2222222222222222,\"#7201a8\"],[0.3333333333333333,\"#9c179e\"],[0.4444444444444444,\"#bd3786\"],[0.5555555555555556,\"#d8576b\"],[0.6666666666666666,\"#ed7953\"],[0.7777777777777778,\"#fb9f3a\"],[0.8888888888888888,\"#fdca26\"],[1.0,\"#f0f921\"]],\"sequentialminus\":[[0.0,\"#0d0887\"],[0.1111111111111111,\"#46039f\"],[0.2222222222222222,\"#7201a8\"],[0.3333333333333333,\"#9c179e\"],[0.4444444444444444,\"#bd3786\"],[0.5555555555555556,\"#d8576b\"],[0.6666666666666666,\"#ed7953\"],[0.7777777777777778,\"#fb9f3a\"],[0.8888888888888888,\"#fdca26\"],[1.0,\"#f0f921\"]],\"diverging\":[[0,\"#8e0152\"],[0.1,\"#c51b7d\"],[0.2,\"#de77ae\"],[0.3,\"#f1b6da\"],[0.4,\"#fde0ef\"],[0.5,\"#f7f7f7\"],[0.6,\"#e6f5d0\"],[0.7,\"#b8e186\"],[0.8,\"#7fbc41\"],[0.9,\"#4d9221\"],[1,\"#276419\"]]},\"xaxis\":{\"gridcolor\":\"white\",\"linecolor\":\"white\",\"ticks\":\"\",\"title\":{\"standoff\":15},\"zerolinecolor\":\"white\",\"automargin\":true,\"zerolinewidth\":2},\"yaxis\":{\"gridcolor\":\"white\",\"linecolor\":\"white\",\"ticks\":\"\",\"title\":{\"standoff\":15},\"zerolinecolor\":\"white\",\"automargin\":true,\"zerolinewidth\":2},\"scene\":{\"xaxis\":{\"backgroundcolor\":\"#E5ECF6\",\"gridcolor\":\"white\",\"linecolor\":\"white\",\"showbackground\":true,\"ticks\":\"\",\"zerolinecolor\":\"white\",\"gridwidth\":2},\"yaxis\":{\"backgroundcolor\":\"#E5ECF6\",\"gridcolor\":\"white\",\"linecolor\":\"white\",\"showbackground\":true,\"ticks\":\"\",\"zerolinecolor\":\"white\",\"gridwidth\":2},\"zaxis\":{\"backgroundcolor\":\"#E5ECF6\",\"gridcolor\":\"white\",\"linecolor\":\"white\",\"showbackground\":true,\"ticks\":\"\",\"zerolinecolor\":\"white\",\"gridwidth\":2}},\"shapedefaults\":{\"line\":{\"color\":\"#2a3f5f\"}},\"annotationdefaults\":{\"arrowcolor\":\"#2a3f5f\",\"arrowhead\":0,\"arrowwidth\":1},\"geo\":{\"bgcolor\":\"white\",\"landcolor\":\"#E5ECF6\",\"subunitcolor\":\"white\",\"showland\":true,\"showlakes\":true,\"lakecolor\":\"white\"},\"title\":{\"x\":0.05},\"mapbox\":{\"style\":\"light\"}}},\"title\":{\"text\":\"Admissions per Bed\"}},                        {\"responsive\": true}                    ).then(function(){\n",
       "                            \n",
       "var gd = document.getElementById('26e43e9b-d9ba-452d-b5fc-ab5b69016059');\n",
       "var x = new MutationObserver(function (mutations, observer) {{\n",
       "        var display = window.getComputedStyle(gd).display;\n",
       "        if (!display || display === 'none') {{\n",
       "            console.log([gd, 'removed!']);\n",
       "            Plotly.purge(gd);\n",
       "            observer.disconnect();\n",
       "        }}\n",
       "}});\n",
       "\n",
       "// Listen for the removal of the full notebook cells\n",
       "var notebookContainer = gd.closest('#notebook-container');\n",
       "if (notebookContainer) {{\n",
       "    x.observe(notebookContainer, {childList: true});\n",
       "}}\n",
       "\n",
       "// Listen for the clearing of the current output cell\n",
       "var outputEl = gd.closest('.output');\n",
       "if (outputEl) {{\n",
       "    x.observe(outputEl, {childList: true});\n",
       "}}\n",
       "\n",
       "                        })                };                });            </script>        </div>"
      ]
     },
     "metadata": {},
     "output_type": "display_data"
    }
   ],
   "source": [
    "# display the bar chart\n",
    "fig.show()"
   ]
  },
  {
   "cell_type": "markdown",
   "id": "5ab2f79a",
   "metadata": {},
   "source": [
    "#### ANALYSIS OF ABOVE BAR CHART\n",
    "> It is clear from the bar chart above that the region with the greatest strain on its service due to resporatory illnesses is the North East and Yorkshire, while the North West of England has a relatively high strain from asthma admissions. \n",
    "<br><br>\n",
    "> The South West of England has a significantly low strain due to asthma admissions, and the East of England has the lowest strain on service overall due to any respiratory illness.  \n",
    "<br>\n",
    "The data will be analysed further to make inferrences as to why.\n"
   ]
  },
  {
   "cell_type": "markdown",
   "id": "e3d1988e",
   "metadata": {},
   "source": [
    "<br><br>\n",
    "### Analysis of Pulmonary Rehabillitation for COPD Patients\n",
    "> Having analysed the number of admissions per region, we are now able to assess the effectiveness of different hospital factors, beginning with pulmonary rehabillitation. "
   ]
  },
  {
   "cell_type": "markdown",
   "id": "cd729ae6",
   "metadata": {},
   "source": [
    "#### Data Wrangling | Map \"Yes\" to 1 and \"No\" to 0"
   ]
  },
  {
   "cell_type": "code",
   "execution_count": 88,
   "id": "56c6a0a3",
   "metadata": {},
   "outputs": [],
   "source": [
    "# remove 'Not known' rows from relevant column \n",
    "df_new_temp=return_yesno_only_dataframe(df_new,\\\n",
    "                                   \"Pulmonary rehabilitation (PR) service available to COPD patients discharged following flare-up\",\\\n",
    "                                   \"Is this/are these services available within 30 days of discharge\")\n",
    "\n",
    "# map \"Yes\" to 1 and \"No\" to 0\n",
    "df_new_temp=df_new_temp.replace({\"Yes\":1,\"No\":0})\n"
   ]
  },
  {
   "cell_type": "markdown",
   "id": "a6685e8c",
   "metadata": {},
   "source": [
    "#### Plot rehab availability per region"
   ]
  },
  {
   "cell_type": "code",
   "execution_count": 89,
   "id": "633e5846",
   "metadata": {},
   "outputs": [],
   "source": [
    "\n",
    "# drop level 0 headers and obtain level 1 header names \n",
    "# columns=df_new_temp.droplevel(0, axis=1).columns.tolist()\n",
    "\n",
    "# list of headers for columns of data \n",
    "data_to_analyse=[\"Region\", \"Is this/are these services available within 30 days of discharge\"]\n",
    "\n",
    "# sum yes and no values by region\n",
    "df_regions_copd_rehab=sum_by_region(df_new_temp, data_to_analyse[1])\n",
    "\n",
    "# Set up bar chart figure\n",
    "fig=go.Figure(data=[\n",
    "    go.Bar(name=\"COPD Rehab Availability\",\n",
    "           x=df_regions_copd_rehab[\"Region\"],\n",
    "           y=df_regions_copd_rehab[data_to_analyse[1]])\n",
    "])\n",
    "\n",
    "# add title to figure\n",
    "fig=fig.update_layout(title_text=\"COPD Rehab Availability per Region\")\n"
   ]
  },
  {
   "cell_type": "code",
   "execution_count": 90,
   "id": "ac413eda",
   "metadata": {},
   "outputs": [
    {
     "data": {
      "application/vnd.plotly.v1+json": {
       "config": {
        "plotlyServerURL": "https://plot.ly"
       },
       "data": [
        {
         "name": "COPD Rehab Availability",
         "type": "bar",
         "x": [
          "East of England",
          "London",
          "Midlands",
          "North East and Yorkshire",
          "North West",
          "South East",
          "South West",
          "Wales"
         ],
         "y": [
          4,
          14,
          7,
          9,
          13,
          13,
          6,
          1
         ]
        }
       ],
       "layout": {
        "template": {
         "data": {
          "bar": [
           {
            "error_x": {
             "color": "#2a3f5f"
            },
            "error_y": {
             "color": "#2a3f5f"
            },
            "marker": {
             "line": {
              "color": "#E5ECF6",
              "width": 0.5
             },
             "pattern": {
              "fillmode": "overlay",
              "size": 10,
              "solidity": 0.2
             }
            },
            "type": "bar"
           }
          ],
          "barpolar": [
           {
            "marker": {
             "line": {
              "color": "#E5ECF6",
              "width": 0.5
             },
             "pattern": {
              "fillmode": "overlay",
              "size": 10,
              "solidity": 0.2
             }
            },
            "type": "barpolar"
           }
          ],
          "carpet": [
           {
            "aaxis": {
             "endlinecolor": "#2a3f5f",
             "gridcolor": "white",
             "linecolor": "white",
             "minorgridcolor": "white",
             "startlinecolor": "#2a3f5f"
            },
            "baxis": {
             "endlinecolor": "#2a3f5f",
             "gridcolor": "white",
             "linecolor": "white",
             "minorgridcolor": "white",
             "startlinecolor": "#2a3f5f"
            },
            "type": "carpet"
           }
          ],
          "choropleth": [
           {
            "colorbar": {
             "outlinewidth": 0,
             "ticks": ""
            },
            "type": "choropleth"
           }
          ],
          "contour": [
           {
            "colorbar": {
             "outlinewidth": 0,
             "ticks": ""
            },
            "colorscale": [
             [
              0,
              "#0d0887"
             ],
             [
              0.1111111111111111,
              "#46039f"
             ],
             [
              0.2222222222222222,
              "#7201a8"
             ],
             [
              0.3333333333333333,
              "#9c179e"
             ],
             [
              0.4444444444444444,
              "#bd3786"
             ],
             [
              0.5555555555555556,
              "#d8576b"
             ],
             [
              0.6666666666666666,
              "#ed7953"
             ],
             [
              0.7777777777777778,
              "#fb9f3a"
             ],
             [
              0.8888888888888888,
              "#fdca26"
             ],
             [
              1,
              "#f0f921"
             ]
            ],
            "type": "contour"
           }
          ],
          "contourcarpet": [
           {
            "colorbar": {
             "outlinewidth": 0,
             "ticks": ""
            },
            "type": "contourcarpet"
           }
          ],
          "heatmap": [
           {
            "colorbar": {
             "outlinewidth": 0,
             "ticks": ""
            },
            "colorscale": [
             [
              0,
              "#0d0887"
             ],
             [
              0.1111111111111111,
              "#46039f"
             ],
             [
              0.2222222222222222,
              "#7201a8"
             ],
             [
              0.3333333333333333,
              "#9c179e"
             ],
             [
              0.4444444444444444,
              "#bd3786"
             ],
             [
              0.5555555555555556,
              "#d8576b"
             ],
             [
              0.6666666666666666,
              "#ed7953"
             ],
             [
              0.7777777777777778,
              "#fb9f3a"
             ],
             [
              0.8888888888888888,
              "#fdca26"
             ],
             [
              1,
              "#f0f921"
             ]
            ],
            "type": "heatmap"
           }
          ],
          "heatmapgl": [
           {
            "colorbar": {
             "outlinewidth": 0,
             "ticks": ""
            },
            "colorscale": [
             [
              0,
              "#0d0887"
             ],
             [
              0.1111111111111111,
              "#46039f"
             ],
             [
              0.2222222222222222,
              "#7201a8"
             ],
             [
              0.3333333333333333,
              "#9c179e"
             ],
             [
              0.4444444444444444,
              "#bd3786"
             ],
             [
              0.5555555555555556,
              "#d8576b"
             ],
             [
              0.6666666666666666,
              "#ed7953"
             ],
             [
              0.7777777777777778,
              "#fb9f3a"
             ],
             [
              0.8888888888888888,
              "#fdca26"
             ],
             [
              1,
              "#f0f921"
             ]
            ],
            "type": "heatmapgl"
           }
          ],
          "histogram": [
           {
            "marker": {
             "pattern": {
              "fillmode": "overlay",
              "size": 10,
              "solidity": 0.2
             }
            },
            "type": "histogram"
           }
          ],
          "histogram2d": [
           {
            "colorbar": {
             "outlinewidth": 0,
             "ticks": ""
            },
            "colorscale": [
             [
              0,
              "#0d0887"
             ],
             [
              0.1111111111111111,
              "#46039f"
             ],
             [
              0.2222222222222222,
              "#7201a8"
             ],
             [
              0.3333333333333333,
              "#9c179e"
             ],
             [
              0.4444444444444444,
              "#bd3786"
             ],
             [
              0.5555555555555556,
              "#d8576b"
             ],
             [
              0.6666666666666666,
              "#ed7953"
             ],
             [
              0.7777777777777778,
              "#fb9f3a"
             ],
             [
              0.8888888888888888,
              "#fdca26"
             ],
             [
              1,
              "#f0f921"
             ]
            ],
            "type": "histogram2d"
           }
          ],
          "histogram2dcontour": [
           {
            "colorbar": {
             "outlinewidth": 0,
             "ticks": ""
            },
            "colorscale": [
             [
              0,
              "#0d0887"
             ],
             [
              0.1111111111111111,
              "#46039f"
             ],
             [
              0.2222222222222222,
              "#7201a8"
             ],
             [
              0.3333333333333333,
              "#9c179e"
             ],
             [
              0.4444444444444444,
              "#bd3786"
             ],
             [
              0.5555555555555556,
              "#d8576b"
             ],
             [
              0.6666666666666666,
              "#ed7953"
             ],
             [
              0.7777777777777778,
              "#fb9f3a"
             ],
             [
              0.8888888888888888,
              "#fdca26"
             ],
             [
              1,
              "#f0f921"
             ]
            ],
            "type": "histogram2dcontour"
           }
          ],
          "mesh3d": [
           {
            "colorbar": {
             "outlinewidth": 0,
             "ticks": ""
            },
            "type": "mesh3d"
           }
          ],
          "parcoords": [
           {
            "line": {
             "colorbar": {
              "outlinewidth": 0,
              "ticks": ""
             }
            },
            "type": "parcoords"
           }
          ],
          "pie": [
           {
            "automargin": true,
            "type": "pie"
           }
          ],
          "scatter": [
           {
            "fillpattern": {
             "fillmode": "overlay",
             "size": 10,
             "solidity": 0.2
            },
            "type": "scatter"
           }
          ],
          "scatter3d": [
           {
            "line": {
             "colorbar": {
              "outlinewidth": 0,
              "ticks": ""
             }
            },
            "marker": {
             "colorbar": {
              "outlinewidth": 0,
              "ticks": ""
             }
            },
            "type": "scatter3d"
           }
          ],
          "scattercarpet": [
           {
            "marker": {
             "colorbar": {
              "outlinewidth": 0,
              "ticks": ""
             }
            },
            "type": "scattercarpet"
           }
          ],
          "scattergeo": [
           {
            "marker": {
             "colorbar": {
              "outlinewidth": 0,
              "ticks": ""
             }
            },
            "type": "scattergeo"
           }
          ],
          "scattergl": [
           {
            "marker": {
             "colorbar": {
              "outlinewidth": 0,
              "ticks": ""
             }
            },
            "type": "scattergl"
           }
          ],
          "scattermapbox": [
           {
            "marker": {
             "colorbar": {
              "outlinewidth": 0,
              "ticks": ""
             }
            },
            "type": "scattermapbox"
           }
          ],
          "scatterpolar": [
           {
            "marker": {
             "colorbar": {
              "outlinewidth": 0,
              "ticks": ""
             }
            },
            "type": "scatterpolar"
           }
          ],
          "scatterpolargl": [
           {
            "marker": {
             "colorbar": {
              "outlinewidth": 0,
              "ticks": ""
             }
            },
            "type": "scatterpolargl"
           }
          ],
          "scatterternary": [
           {
            "marker": {
             "colorbar": {
              "outlinewidth": 0,
              "ticks": ""
             }
            },
            "type": "scatterternary"
           }
          ],
          "surface": [
           {
            "colorbar": {
             "outlinewidth": 0,
             "ticks": ""
            },
            "colorscale": [
             [
              0,
              "#0d0887"
             ],
             [
              0.1111111111111111,
              "#46039f"
             ],
             [
              0.2222222222222222,
              "#7201a8"
             ],
             [
              0.3333333333333333,
              "#9c179e"
             ],
             [
              0.4444444444444444,
              "#bd3786"
             ],
             [
              0.5555555555555556,
              "#d8576b"
             ],
             [
              0.6666666666666666,
              "#ed7953"
             ],
             [
              0.7777777777777778,
              "#fb9f3a"
             ],
             [
              0.8888888888888888,
              "#fdca26"
             ],
             [
              1,
              "#f0f921"
             ]
            ],
            "type": "surface"
           }
          ],
          "table": [
           {
            "cells": {
             "fill": {
              "color": "#EBF0F8"
             },
             "line": {
              "color": "white"
             }
            },
            "header": {
             "fill": {
              "color": "#C8D4E3"
             },
             "line": {
              "color": "white"
             }
            },
            "type": "table"
           }
          ]
         },
         "layout": {
          "annotationdefaults": {
           "arrowcolor": "#2a3f5f",
           "arrowhead": 0,
           "arrowwidth": 1
          },
          "autotypenumbers": "strict",
          "coloraxis": {
           "colorbar": {
            "outlinewidth": 0,
            "ticks": ""
           }
          },
          "colorscale": {
           "diverging": [
            [
             0,
             "#8e0152"
            ],
            [
             0.1,
             "#c51b7d"
            ],
            [
             0.2,
             "#de77ae"
            ],
            [
             0.3,
             "#f1b6da"
            ],
            [
             0.4,
             "#fde0ef"
            ],
            [
             0.5,
             "#f7f7f7"
            ],
            [
             0.6,
             "#e6f5d0"
            ],
            [
             0.7,
             "#b8e186"
            ],
            [
             0.8,
             "#7fbc41"
            ],
            [
             0.9,
             "#4d9221"
            ],
            [
             1,
             "#276419"
            ]
           ],
           "sequential": [
            [
             0,
             "#0d0887"
            ],
            [
             0.1111111111111111,
             "#46039f"
            ],
            [
             0.2222222222222222,
             "#7201a8"
            ],
            [
             0.3333333333333333,
             "#9c179e"
            ],
            [
             0.4444444444444444,
             "#bd3786"
            ],
            [
             0.5555555555555556,
             "#d8576b"
            ],
            [
             0.6666666666666666,
             "#ed7953"
            ],
            [
             0.7777777777777778,
             "#fb9f3a"
            ],
            [
             0.8888888888888888,
             "#fdca26"
            ],
            [
             1,
             "#f0f921"
            ]
           ],
           "sequentialminus": [
            [
             0,
             "#0d0887"
            ],
            [
             0.1111111111111111,
             "#46039f"
            ],
            [
             0.2222222222222222,
             "#7201a8"
            ],
            [
             0.3333333333333333,
             "#9c179e"
            ],
            [
             0.4444444444444444,
             "#bd3786"
            ],
            [
             0.5555555555555556,
             "#d8576b"
            ],
            [
             0.6666666666666666,
             "#ed7953"
            ],
            [
             0.7777777777777778,
             "#fb9f3a"
            ],
            [
             0.8888888888888888,
             "#fdca26"
            ],
            [
             1,
             "#f0f921"
            ]
           ]
          },
          "colorway": [
           "#636efa",
           "#EF553B",
           "#00cc96",
           "#ab63fa",
           "#FFA15A",
           "#19d3f3",
           "#FF6692",
           "#B6E880",
           "#FF97FF",
           "#FECB52"
          ],
          "font": {
           "color": "#2a3f5f"
          },
          "geo": {
           "bgcolor": "white",
           "lakecolor": "white",
           "landcolor": "#E5ECF6",
           "showlakes": true,
           "showland": true,
           "subunitcolor": "white"
          },
          "hoverlabel": {
           "align": "left"
          },
          "hovermode": "closest",
          "mapbox": {
           "style": "light"
          },
          "paper_bgcolor": "white",
          "plot_bgcolor": "#E5ECF6",
          "polar": {
           "angularaxis": {
            "gridcolor": "white",
            "linecolor": "white",
            "ticks": ""
           },
           "bgcolor": "#E5ECF6",
           "radialaxis": {
            "gridcolor": "white",
            "linecolor": "white",
            "ticks": ""
           }
          },
          "scene": {
           "xaxis": {
            "backgroundcolor": "#E5ECF6",
            "gridcolor": "white",
            "gridwidth": 2,
            "linecolor": "white",
            "showbackground": true,
            "ticks": "",
            "zerolinecolor": "white"
           },
           "yaxis": {
            "backgroundcolor": "#E5ECF6",
            "gridcolor": "white",
            "gridwidth": 2,
            "linecolor": "white",
            "showbackground": true,
            "ticks": "",
            "zerolinecolor": "white"
           },
           "zaxis": {
            "backgroundcolor": "#E5ECF6",
            "gridcolor": "white",
            "gridwidth": 2,
            "linecolor": "white",
            "showbackground": true,
            "ticks": "",
            "zerolinecolor": "white"
           }
          },
          "shapedefaults": {
           "line": {
            "color": "#2a3f5f"
           }
          },
          "ternary": {
           "aaxis": {
            "gridcolor": "white",
            "linecolor": "white",
            "ticks": ""
           },
           "baxis": {
            "gridcolor": "white",
            "linecolor": "white",
            "ticks": ""
           },
           "bgcolor": "#E5ECF6",
           "caxis": {
            "gridcolor": "white",
            "linecolor": "white",
            "ticks": ""
           }
          },
          "title": {
           "x": 0.05
          },
          "xaxis": {
           "automargin": true,
           "gridcolor": "white",
           "linecolor": "white",
           "ticks": "",
           "title": {
            "standoff": 15
           },
           "zerolinecolor": "white",
           "zerolinewidth": 2
          },
          "yaxis": {
           "automargin": true,
           "gridcolor": "white",
           "linecolor": "white",
           "ticks": "",
           "title": {
            "standoff": 15
           },
           "zerolinecolor": "white",
           "zerolinewidth": 2
          }
         }
        },
        "title": {
         "text": "COPD Rehab Availability per Region"
        }
       }
      },
      "text/html": [
       "<div>                            <div id=\"b55d8599-d822-4f21-8a9a-11680affc449\" class=\"plotly-graph-div\" style=\"height:525px; width:100%;\"></div>            <script type=\"text/javascript\">                require([\"plotly\"], function(Plotly) {                    window.PLOTLYENV=window.PLOTLYENV || {};                                    if (document.getElementById(\"b55d8599-d822-4f21-8a9a-11680affc449\")) {                    Plotly.newPlot(                        \"b55d8599-d822-4f21-8a9a-11680affc449\",                        [{\"name\":\"COPD Rehab Availability\",\"x\":[\"East of England\",\"London\",\"Midlands\",\"North East and Yorkshire\",\"North West\",\"South East\",\"South West\",\"Wales\"],\"y\":[4,14,7,9,13,13,6,1],\"type\":\"bar\"}],                        {\"template\":{\"data\":{\"histogram2dcontour\":[{\"type\":\"histogram2dcontour\",\"colorbar\":{\"outlinewidth\":0,\"ticks\":\"\"},\"colorscale\":[[0.0,\"#0d0887\"],[0.1111111111111111,\"#46039f\"],[0.2222222222222222,\"#7201a8\"],[0.3333333333333333,\"#9c179e\"],[0.4444444444444444,\"#bd3786\"],[0.5555555555555556,\"#d8576b\"],[0.6666666666666666,\"#ed7953\"],[0.7777777777777778,\"#fb9f3a\"],[0.8888888888888888,\"#fdca26\"],[1.0,\"#f0f921\"]]}],\"choropleth\":[{\"type\":\"choropleth\",\"colorbar\":{\"outlinewidth\":0,\"ticks\":\"\"}}],\"histogram2d\":[{\"type\":\"histogram2d\",\"colorbar\":{\"outlinewidth\":0,\"ticks\":\"\"},\"colorscale\":[[0.0,\"#0d0887\"],[0.1111111111111111,\"#46039f\"],[0.2222222222222222,\"#7201a8\"],[0.3333333333333333,\"#9c179e\"],[0.4444444444444444,\"#bd3786\"],[0.5555555555555556,\"#d8576b\"],[0.6666666666666666,\"#ed7953\"],[0.7777777777777778,\"#fb9f3a\"],[0.8888888888888888,\"#fdca26\"],[1.0,\"#f0f921\"]]}],\"heatmap\":[{\"type\":\"heatmap\",\"colorbar\":{\"outlinewidth\":0,\"ticks\":\"\"},\"colorscale\":[[0.0,\"#0d0887\"],[0.1111111111111111,\"#46039f\"],[0.2222222222222222,\"#7201a8\"],[0.3333333333333333,\"#9c179e\"],[0.4444444444444444,\"#bd3786\"],[0.5555555555555556,\"#d8576b\"],[0.6666666666666666,\"#ed7953\"],[0.7777777777777778,\"#fb9f3a\"],[0.8888888888888888,\"#fdca26\"],[1.0,\"#f0f921\"]]}],\"heatmapgl\":[{\"type\":\"heatmapgl\",\"colorbar\":{\"outlinewidth\":0,\"ticks\":\"\"},\"colorscale\":[[0.0,\"#0d0887\"],[0.1111111111111111,\"#46039f\"],[0.2222222222222222,\"#7201a8\"],[0.3333333333333333,\"#9c179e\"],[0.4444444444444444,\"#bd3786\"],[0.5555555555555556,\"#d8576b\"],[0.6666666666666666,\"#ed7953\"],[0.7777777777777778,\"#fb9f3a\"],[0.8888888888888888,\"#fdca26\"],[1.0,\"#f0f921\"]]}],\"contourcarpet\":[{\"type\":\"contourcarpet\",\"colorbar\":{\"outlinewidth\":0,\"ticks\":\"\"}}],\"contour\":[{\"type\":\"contour\",\"colorbar\":{\"outlinewidth\":0,\"ticks\":\"\"},\"colorscale\":[[0.0,\"#0d0887\"],[0.1111111111111111,\"#46039f\"],[0.2222222222222222,\"#7201a8\"],[0.3333333333333333,\"#9c179e\"],[0.4444444444444444,\"#bd3786\"],[0.5555555555555556,\"#d8576b\"],[0.6666666666666666,\"#ed7953\"],[0.7777777777777778,\"#fb9f3a\"],[0.8888888888888888,\"#fdca26\"],[1.0,\"#f0f921\"]]}],\"surface\":[{\"type\":\"surface\",\"colorbar\":{\"outlinewidth\":0,\"ticks\":\"\"},\"colorscale\":[[0.0,\"#0d0887\"],[0.1111111111111111,\"#46039f\"],[0.2222222222222222,\"#7201a8\"],[0.3333333333333333,\"#9c179e\"],[0.4444444444444444,\"#bd3786\"],[0.5555555555555556,\"#d8576b\"],[0.6666666666666666,\"#ed7953\"],[0.7777777777777778,\"#fb9f3a\"],[0.8888888888888888,\"#fdca26\"],[1.0,\"#f0f921\"]]}],\"mesh3d\":[{\"type\":\"mesh3d\",\"colorbar\":{\"outlinewidth\":0,\"ticks\":\"\"}}],\"scatter\":[{\"fillpattern\":{\"fillmode\":\"overlay\",\"size\":10,\"solidity\":0.2},\"type\":\"scatter\"}],\"parcoords\":[{\"type\":\"parcoords\",\"line\":{\"colorbar\":{\"outlinewidth\":0,\"ticks\":\"\"}}}],\"scatterpolargl\":[{\"type\":\"scatterpolargl\",\"marker\":{\"colorbar\":{\"outlinewidth\":0,\"ticks\":\"\"}}}],\"bar\":[{\"error_x\":{\"color\":\"#2a3f5f\"},\"error_y\":{\"color\":\"#2a3f5f\"},\"marker\":{\"line\":{\"color\":\"#E5ECF6\",\"width\":0.5},\"pattern\":{\"fillmode\":\"overlay\",\"size\":10,\"solidity\":0.2}},\"type\":\"bar\"}],\"scattergeo\":[{\"type\":\"scattergeo\",\"marker\":{\"colorbar\":{\"outlinewidth\":0,\"ticks\":\"\"}}}],\"scatterpolar\":[{\"type\":\"scatterpolar\",\"marker\":{\"colorbar\":{\"outlinewidth\":0,\"ticks\":\"\"}}}],\"histogram\":[{\"marker\":{\"pattern\":{\"fillmode\":\"overlay\",\"size\":10,\"solidity\":0.2}},\"type\":\"histogram\"}],\"scattergl\":[{\"type\":\"scattergl\",\"marker\":{\"colorbar\":{\"outlinewidth\":0,\"ticks\":\"\"}}}],\"scatter3d\":[{\"type\":\"scatter3d\",\"line\":{\"colorbar\":{\"outlinewidth\":0,\"ticks\":\"\"}},\"marker\":{\"colorbar\":{\"outlinewidth\":0,\"ticks\":\"\"}}}],\"scattermapbox\":[{\"type\":\"scattermapbox\",\"marker\":{\"colorbar\":{\"outlinewidth\":0,\"ticks\":\"\"}}}],\"scatterternary\":[{\"type\":\"scatterternary\",\"marker\":{\"colorbar\":{\"outlinewidth\":0,\"ticks\":\"\"}}}],\"scattercarpet\":[{\"type\":\"scattercarpet\",\"marker\":{\"colorbar\":{\"outlinewidth\":0,\"ticks\":\"\"}}}],\"carpet\":[{\"aaxis\":{\"endlinecolor\":\"#2a3f5f\",\"gridcolor\":\"white\",\"linecolor\":\"white\",\"minorgridcolor\":\"white\",\"startlinecolor\":\"#2a3f5f\"},\"baxis\":{\"endlinecolor\":\"#2a3f5f\",\"gridcolor\":\"white\",\"linecolor\":\"white\",\"minorgridcolor\":\"white\",\"startlinecolor\":\"#2a3f5f\"},\"type\":\"carpet\"}],\"table\":[{\"cells\":{\"fill\":{\"color\":\"#EBF0F8\"},\"line\":{\"color\":\"white\"}},\"header\":{\"fill\":{\"color\":\"#C8D4E3\"},\"line\":{\"color\":\"white\"}},\"type\":\"table\"}],\"barpolar\":[{\"marker\":{\"line\":{\"color\":\"#E5ECF6\",\"width\":0.5},\"pattern\":{\"fillmode\":\"overlay\",\"size\":10,\"solidity\":0.2}},\"type\":\"barpolar\"}],\"pie\":[{\"automargin\":true,\"type\":\"pie\"}]},\"layout\":{\"autotypenumbers\":\"strict\",\"colorway\":[\"#636efa\",\"#EF553B\",\"#00cc96\",\"#ab63fa\",\"#FFA15A\",\"#19d3f3\",\"#FF6692\",\"#B6E880\",\"#FF97FF\",\"#FECB52\"],\"font\":{\"color\":\"#2a3f5f\"},\"hovermode\":\"closest\",\"hoverlabel\":{\"align\":\"left\"},\"paper_bgcolor\":\"white\",\"plot_bgcolor\":\"#E5ECF6\",\"polar\":{\"bgcolor\":\"#E5ECF6\",\"angularaxis\":{\"gridcolor\":\"white\",\"linecolor\":\"white\",\"ticks\":\"\"},\"radialaxis\":{\"gridcolor\":\"white\",\"linecolor\":\"white\",\"ticks\":\"\"}},\"ternary\":{\"bgcolor\":\"#E5ECF6\",\"aaxis\":{\"gridcolor\":\"white\",\"linecolor\":\"white\",\"ticks\":\"\"},\"baxis\":{\"gridcolor\":\"white\",\"linecolor\":\"white\",\"ticks\":\"\"},\"caxis\":{\"gridcolor\":\"white\",\"linecolor\":\"white\",\"ticks\":\"\"}},\"coloraxis\":{\"colorbar\":{\"outlinewidth\":0,\"ticks\":\"\"}},\"colorscale\":{\"sequential\":[[0.0,\"#0d0887\"],[0.1111111111111111,\"#46039f\"],[0.2222222222222222,\"#7201a8\"],[0.3333333333333333,\"#9c179e\"],[0.4444444444444444,\"#bd3786\"],[0.5555555555555556,\"#d8576b\"],[0.6666666666666666,\"#ed7953\"],[0.7777777777777778,\"#fb9f3a\"],[0.8888888888888888,\"#fdca26\"],[1.0,\"#f0f921\"]],\"sequentialminus\":[[0.0,\"#0d0887\"],[0.1111111111111111,\"#46039f\"],[0.2222222222222222,\"#7201a8\"],[0.3333333333333333,\"#9c179e\"],[0.4444444444444444,\"#bd3786\"],[0.5555555555555556,\"#d8576b\"],[0.6666666666666666,\"#ed7953\"],[0.7777777777777778,\"#fb9f3a\"],[0.8888888888888888,\"#fdca26\"],[1.0,\"#f0f921\"]],\"diverging\":[[0,\"#8e0152\"],[0.1,\"#c51b7d\"],[0.2,\"#de77ae\"],[0.3,\"#f1b6da\"],[0.4,\"#fde0ef\"],[0.5,\"#f7f7f7\"],[0.6,\"#e6f5d0\"],[0.7,\"#b8e186\"],[0.8,\"#7fbc41\"],[0.9,\"#4d9221\"],[1,\"#276419\"]]},\"xaxis\":{\"gridcolor\":\"white\",\"linecolor\":\"white\",\"ticks\":\"\",\"title\":{\"standoff\":15},\"zerolinecolor\":\"white\",\"automargin\":true,\"zerolinewidth\":2},\"yaxis\":{\"gridcolor\":\"white\",\"linecolor\":\"white\",\"ticks\":\"\",\"title\":{\"standoff\":15},\"zerolinecolor\":\"white\",\"automargin\":true,\"zerolinewidth\":2},\"scene\":{\"xaxis\":{\"backgroundcolor\":\"#E5ECF6\",\"gridcolor\":\"white\",\"linecolor\":\"white\",\"showbackground\":true,\"ticks\":\"\",\"zerolinecolor\":\"white\",\"gridwidth\":2},\"yaxis\":{\"backgroundcolor\":\"#E5ECF6\",\"gridcolor\":\"white\",\"linecolor\":\"white\",\"showbackground\":true,\"ticks\":\"\",\"zerolinecolor\":\"white\",\"gridwidth\":2},\"zaxis\":{\"backgroundcolor\":\"#E5ECF6\",\"gridcolor\":\"white\",\"linecolor\":\"white\",\"showbackground\":true,\"ticks\":\"\",\"zerolinecolor\":\"white\",\"gridwidth\":2}},\"shapedefaults\":{\"line\":{\"color\":\"#2a3f5f\"}},\"annotationdefaults\":{\"arrowcolor\":\"#2a3f5f\",\"arrowhead\":0,\"arrowwidth\":1},\"geo\":{\"bgcolor\":\"white\",\"landcolor\":\"#E5ECF6\",\"subunitcolor\":\"white\",\"showland\":true,\"showlakes\":true,\"lakecolor\":\"white\"},\"title\":{\"x\":0.05},\"mapbox\":{\"style\":\"light\"}}},\"title\":{\"text\":\"COPD Rehab Availability per Region\"}},                        {\"responsive\": true}                    ).then(function(){\n",
       "                            \n",
       "var gd = document.getElementById('b55d8599-d822-4f21-8a9a-11680affc449');\n",
       "var x = new MutationObserver(function (mutations, observer) {{\n",
       "        var display = window.getComputedStyle(gd).display;\n",
       "        if (!display || display === 'none') {{\n",
       "            console.log([gd, 'removed!']);\n",
       "            Plotly.purge(gd);\n",
       "            observer.disconnect();\n",
       "        }}\n",
       "}});\n",
       "\n",
       "// Listen for the removal of the full notebook cells\n",
       "var notebookContainer = gd.closest('#notebook-container');\n",
       "if (notebookContainer) {{\n",
       "    x.observe(notebookContainer, {childList: true});\n",
       "}}\n",
       "\n",
       "// Listen for the clearing of the current output cell\n",
       "var outputEl = gd.closest('.output');\n",
       "if (outputEl) {{\n",
       "    x.observe(outputEl, {childList: true});\n",
       "}}\n",
       "\n",
       "                        })                };                });            </script>        </div>"
      ]
     },
     "metadata": {},
     "output_type": "display_data"
    }
   ],
   "source": [
    "# display the bar chart\n",
    "fig.show()"
   ]
  },
  {
   "cell_type": "markdown",
   "id": "162f33ba",
   "metadata": {},
   "source": [
    "#### ANALYSIS OF THE BAR CHART ABOVE\n",
    "\n",
    "<br>\n",
    "\n",
    "> We see the greatest number of hospitals with rehab available for COPD patients is in London, which is interesting given London has a relatively higher COPD proportion of admissions than all respiratory relative to the rest of the nation. \n",
    "<br><br>\n",
    "> The South East and South West both also have high numbers of hospitals with rehab, likely necessary due to a higher strain on service (as shown on chloropleths for admissions per region) whilst the East of England has the lowest, as well as the lowest COPD strain, thus not necessary for more COPD rehab facilities. \n",
    "<br><br> \n",
    "> Service in North East and Yorkshire and Midlands is poor given high strains on service due to COPD relative to the rest of the nation. "
   ]
  },
  {
   "cell_type": "markdown",
   "id": "d9743187",
   "metadata": {},
   "source": [
    "### Distribution of the Number of Hospital Admissions"
   ]
  },
  {
   "cell_type": "code",
   "execution_count": 91,
   "id": "28b4976d",
   "metadata": {},
   "outputs": [
    {
     "data": {
      "text/html": [
       "<div>\n",
       "<style scoped>\n",
       "    .dataframe tbody tr th:only-of-type {\n",
       "        vertical-align: middle;\n",
       "    }\n",
       "\n",
       "    .dataframe tbody tr th {\n",
       "        vertical-align: top;\n",
       "    }\n",
       "\n",
       "    .dataframe thead th {\n",
       "        text-align: right;\n",
       "    }\n",
       "</style>\n",
       "<table border=\"1\" class=\"dataframe\">\n",
       "  <thead>\n",
       "    <tr style=\"text-align: right;\">\n",
       "      <th></th>\n",
       "      <th>Region</th>\n",
       "      <th>Respiratory Admissions Per Bed Available</th>\n",
       "      <th>COPD Admissions Per Bed Available</th>\n",
       "      <th>Asthma Admissions Per Bed Available</th>\n",
       "    </tr>\n",
       "  </thead>\n",
       "  <tbody>\n",
       "    <tr>\n",
       "      <th>0</th>\n",
       "      <td>East of England</td>\n",
       "      <td>109.582254</td>\n",
       "      <td>30.531986</td>\n",
       "      <td>12.648976</td>\n",
       "    </tr>\n",
       "    <tr>\n",
       "      <th>1</th>\n",
       "      <td>London</td>\n",
       "      <td>198.738348</td>\n",
       "      <td>45.262910</td>\n",
       "      <td>13.545870</td>\n",
       "    </tr>\n",
       "    <tr>\n",
       "      <th>2</th>\n",
       "      <td>Midlands</td>\n",
       "      <td>187.871678</td>\n",
       "      <td>65.588193</td>\n",
       "      <td>19.259351</td>\n",
       "    </tr>\n",
       "    <tr>\n",
       "      <th>3</th>\n",
       "      <td>North East and Yorkshire</td>\n",
       "      <td>313.124697</td>\n",
       "      <td>86.575575</td>\n",
       "      <td>18.884880</td>\n",
       "    </tr>\n",
       "    <tr>\n",
       "      <th>4</th>\n",
       "      <td>North West</td>\n",
       "      <td>211.905690</td>\n",
       "      <td>67.024039</td>\n",
       "      <td>31.773033</td>\n",
       "    </tr>\n",
       "    <tr>\n",
       "      <th>5</th>\n",
       "      <td>South East</td>\n",
       "      <td>199.023006</td>\n",
       "      <td>45.230275</td>\n",
       "      <td>8.776572</td>\n",
       "    </tr>\n",
       "    <tr>\n",
       "      <th>6</th>\n",
       "      <td>South West</td>\n",
       "      <td>156.585284</td>\n",
       "      <td>74.329225</td>\n",
       "      <td>7.027751</td>\n",
       "    </tr>\n",
       "    <tr>\n",
       "      <th>7</th>\n",
       "      <td>Wales</td>\n",
       "      <td>99.326970</td>\n",
       "      <td>29.120345</td>\n",
       "      <td>12.516637</td>\n",
       "    </tr>\n",
       "  </tbody>\n",
       "</table>\n",
       "</div>"
      ],
      "text/plain": [
       "                     Region  Respiratory Admissions Per Bed Available  \\\n",
       "0           East of England                                109.582254   \n",
       "1                    London                                198.738348   \n",
       "2                  Midlands                                187.871678   \n",
       "3  North East and Yorkshire                                313.124697   \n",
       "4                North West                                211.905690   \n",
       "5                South East                                199.023006   \n",
       "6                South West                                156.585284   \n",
       "7                     Wales                                 99.326970   \n",
       "\n",
       "   COPD Admissions Per Bed Available  Asthma Admissions Per Bed Available  \n",
       "0                          30.531986                            12.648976  \n",
       "1                          45.262910                            13.545870  \n",
       "2                          65.588193                            19.259351  \n",
       "3                          86.575575                            18.884880  \n",
       "4                          67.024039                            31.773033  \n",
       "5                          45.230275                             8.776572  \n",
       "6                          74.329225                             7.027751  \n",
       "7                          29.120345                            12.516637  "
      ]
     },
     "execution_count": 91,
     "metadata": {},
     "output_type": "execute_result"
    }
   ],
   "source": [
    "summed_df"
   ]
  },
  {
   "cell_type": "code",
   "execution_count": 92,
   "id": "ef66c668",
   "metadata": {},
   "outputs": [],
   "source": [
    "name=\"Number of adult medical emergency admissions in 2020/21 financial year per medical bed\"\n",
    "admissions_per_bed=get_specific_column_from_multiindex(\\\n",
    "                                       df_new, name).droplevel(0,axis=1)\n",
    "\n",
    "admissions_per_bed=admissions_per_bed.rename(columns={\n",
    "    name: \"Medical Emergency Admissions Per Bed Available\"\n",
    "})\n",
    "\n",
    "# plot using plotly.express\n",
    "fig_hist=px.histogram(admissions_per_bed,\n",
    "                      x=\"Medical Emergency Admissions Per Bed Available\")\n",
    "\n",
    "# plot using plotly.express\n",
    "# fig=px.histogram(df_resp_per_bed,x=\"Respiratory Admissions Per Bed Available\")\n",
    "# fig.show()"
   ]
  },
  {
   "cell_type": "code",
   "execution_count": 93,
   "id": "50689b83",
   "metadata": {},
   "outputs": [
    {
     "data": {
      "application/vnd.plotly.v1+json": {
       "config": {
        "plotlyServerURL": "https://plot.ly"
       },
       "data": [
        {
         "alignmentgroup": "True",
         "bingroup": "x",
         "hovertemplate": "Medical Emergency Admissions Per Bed Available=%{x}<br>count=%{y}<extra></extra>",
         "legendgroup": "",
         "marker": {
          "color": "#636efa",
          "pattern": {
           "shape": ""
          }
         },
         "name": "",
         "offsetgroup": "",
         "orientation": "v",
         "showlegend": false,
         "type": "histogram",
         "x": [
          104,
          43,
          76,
          55,
          55,
          89,
          50,
          192,
          83,
          69,
          164,
          40,
          56,
          58,
          210,
          40,
          49,
          102,
          71,
          36,
          43,
          37,
          44,
          50,
          65,
          79,
          59,
          66,
          74,
          72,
          106,
          45,
          34,
          37,
          7,
          7,
          89,
          173,
          21,
          49,
          87,
          62,
          89,
          49,
          60,
          255,
          22,
          69,
          65,
          52,
          51,
          58,
          51,
          26,
          51,
          54,
          55,
          79,
          68,
          93,
          45,
          76,
          98,
          86,
          99,
          90,
          76,
          52,
          42,
          68,
          136,
          null,
          118,
          89,
          62,
          151,
          85,
          89,
          53,
          48,
          62,
          76,
          121,
          49,
          62,
          64,
          74,
          31,
          102,
          47,
          84,
          64,
          31,
          35,
          58,
          63,
          42,
          137,
          66,
          89,
          86,
          83,
          44,
          52,
          32,
          52,
          55,
          61,
          85,
          93,
          86,
          67,
          54,
          81,
          87,
          62,
          59,
          37,
          143,
          71,
          60,
          43,
          57,
          58,
          69,
          74,
          53,
          60,
          124,
          47,
          39,
          51,
          68,
          44,
          94,
          104,
          126,
          34,
          137,
          77,
          82,
          56,
          49,
          80,
          85,
          67,
          54,
          50,
          34,
          46,
          32,
          32,
          27,
          46,
          58,
          50,
          52,
          38,
          40
         ],
         "xaxis": "x",
         "yaxis": "y"
        }
       ],
       "layout": {
        "barmode": "relative",
        "legend": {
         "tracegroupgap": 0
        },
        "margin": {
         "t": 60
        },
        "template": {
         "data": {
          "bar": [
           {
            "error_x": {
             "color": "#2a3f5f"
            },
            "error_y": {
             "color": "#2a3f5f"
            },
            "marker": {
             "line": {
              "color": "#E5ECF6",
              "width": 0.5
             },
             "pattern": {
              "fillmode": "overlay",
              "size": 10,
              "solidity": 0.2
             }
            },
            "type": "bar"
           }
          ],
          "barpolar": [
           {
            "marker": {
             "line": {
              "color": "#E5ECF6",
              "width": 0.5
             },
             "pattern": {
              "fillmode": "overlay",
              "size": 10,
              "solidity": 0.2
             }
            },
            "type": "barpolar"
           }
          ],
          "carpet": [
           {
            "aaxis": {
             "endlinecolor": "#2a3f5f",
             "gridcolor": "white",
             "linecolor": "white",
             "minorgridcolor": "white",
             "startlinecolor": "#2a3f5f"
            },
            "baxis": {
             "endlinecolor": "#2a3f5f",
             "gridcolor": "white",
             "linecolor": "white",
             "minorgridcolor": "white",
             "startlinecolor": "#2a3f5f"
            },
            "type": "carpet"
           }
          ],
          "choropleth": [
           {
            "colorbar": {
             "outlinewidth": 0,
             "ticks": ""
            },
            "type": "choropleth"
           }
          ],
          "contour": [
           {
            "colorbar": {
             "outlinewidth": 0,
             "ticks": ""
            },
            "colorscale": [
             [
              0,
              "#0d0887"
             ],
             [
              0.1111111111111111,
              "#46039f"
             ],
             [
              0.2222222222222222,
              "#7201a8"
             ],
             [
              0.3333333333333333,
              "#9c179e"
             ],
             [
              0.4444444444444444,
              "#bd3786"
             ],
             [
              0.5555555555555556,
              "#d8576b"
             ],
             [
              0.6666666666666666,
              "#ed7953"
             ],
             [
              0.7777777777777778,
              "#fb9f3a"
             ],
             [
              0.8888888888888888,
              "#fdca26"
             ],
             [
              1,
              "#f0f921"
             ]
            ],
            "type": "contour"
           }
          ],
          "contourcarpet": [
           {
            "colorbar": {
             "outlinewidth": 0,
             "ticks": ""
            },
            "type": "contourcarpet"
           }
          ],
          "heatmap": [
           {
            "colorbar": {
             "outlinewidth": 0,
             "ticks": ""
            },
            "colorscale": [
             [
              0,
              "#0d0887"
             ],
             [
              0.1111111111111111,
              "#46039f"
             ],
             [
              0.2222222222222222,
              "#7201a8"
             ],
             [
              0.3333333333333333,
              "#9c179e"
             ],
             [
              0.4444444444444444,
              "#bd3786"
             ],
             [
              0.5555555555555556,
              "#d8576b"
             ],
             [
              0.6666666666666666,
              "#ed7953"
             ],
             [
              0.7777777777777778,
              "#fb9f3a"
             ],
             [
              0.8888888888888888,
              "#fdca26"
             ],
             [
              1,
              "#f0f921"
             ]
            ],
            "type": "heatmap"
           }
          ],
          "heatmapgl": [
           {
            "colorbar": {
             "outlinewidth": 0,
             "ticks": ""
            },
            "colorscale": [
             [
              0,
              "#0d0887"
             ],
             [
              0.1111111111111111,
              "#46039f"
             ],
             [
              0.2222222222222222,
              "#7201a8"
             ],
             [
              0.3333333333333333,
              "#9c179e"
             ],
             [
              0.4444444444444444,
              "#bd3786"
             ],
             [
              0.5555555555555556,
              "#d8576b"
             ],
             [
              0.6666666666666666,
              "#ed7953"
             ],
             [
              0.7777777777777778,
              "#fb9f3a"
             ],
             [
              0.8888888888888888,
              "#fdca26"
             ],
             [
              1,
              "#f0f921"
             ]
            ],
            "type": "heatmapgl"
           }
          ],
          "histogram": [
           {
            "marker": {
             "pattern": {
              "fillmode": "overlay",
              "size": 10,
              "solidity": 0.2
             }
            },
            "type": "histogram"
           }
          ],
          "histogram2d": [
           {
            "colorbar": {
             "outlinewidth": 0,
             "ticks": ""
            },
            "colorscale": [
             [
              0,
              "#0d0887"
             ],
             [
              0.1111111111111111,
              "#46039f"
             ],
             [
              0.2222222222222222,
              "#7201a8"
             ],
             [
              0.3333333333333333,
              "#9c179e"
             ],
             [
              0.4444444444444444,
              "#bd3786"
             ],
             [
              0.5555555555555556,
              "#d8576b"
             ],
             [
              0.6666666666666666,
              "#ed7953"
             ],
             [
              0.7777777777777778,
              "#fb9f3a"
             ],
             [
              0.8888888888888888,
              "#fdca26"
             ],
             [
              1,
              "#f0f921"
             ]
            ],
            "type": "histogram2d"
           }
          ],
          "histogram2dcontour": [
           {
            "colorbar": {
             "outlinewidth": 0,
             "ticks": ""
            },
            "colorscale": [
             [
              0,
              "#0d0887"
             ],
             [
              0.1111111111111111,
              "#46039f"
             ],
             [
              0.2222222222222222,
              "#7201a8"
             ],
             [
              0.3333333333333333,
              "#9c179e"
             ],
             [
              0.4444444444444444,
              "#bd3786"
             ],
             [
              0.5555555555555556,
              "#d8576b"
             ],
             [
              0.6666666666666666,
              "#ed7953"
             ],
             [
              0.7777777777777778,
              "#fb9f3a"
             ],
             [
              0.8888888888888888,
              "#fdca26"
             ],
             [
              1,
              "#f0f921"
             ]
            ],
            "type": "histogram2dcontour"
           }
          ],
          "mesh3d": [
           {
            "colorbar": {
             "outlinewidth": 0,
             "ticks": ""
            },
            "type": "mesh3d"
           }
          ],
          "parcoords": [
           {
            "line": {
             "colorbar": {
              "outlinewidth": 0,
              "ticks": ""
             }
            },
            "type": "parcoords"
           }
          ],
          "pie": [
           {
            "automargin": true,
            "type": "pie"
           }
          ],
          "scatter": [
           {
            "fillpattern": {
             "fillmode": "overlay",
             "size": 10,
             "solidity": 0.2
            },
            "type": "scatter"
           }
          ],
          "scatter3d": [
           {
            "line": {
             "colorbar": {
              "outlinewidth": 0,
              "ticks": ""
             }
            },
            "marker": {
             "colorbar": {
              "outlinewidth": 0,
              "ticks": ""
             }
            },
            "type": "scatter3d"
           }
          ],
          "scattercarpet": [
           {
            "marker": {
             "colorbar": {
              "outlinewidth": 0,
              "ticks": ""
             }
            },
            "type": "scattercarpet"
           }
          ],
          "scattergeo": [
           {
            "marker": {
             "colorbar": {
              "outlinewidth": 0,
              "ticks": ""
             }
            },
            "type": "scattergeo"
           }
          ],
          "scattergl": [
           {
            "marker": {
             "colorbar": {
              "outlinewidth": 0,
              "ticks": ""
             }
            },
            "type": "scattergl"
           }
          ],
          "scattermapbox": [
           {
            "marker": {
             "colorbar": {
              "outlinewidth": 0,
              "ticks": ""
             }
            },
            "type": "scattermapbox"
           }
          ],
          "scatterpolar": [
           {
            "marker": {
             "colorbar": {
              "outlinewidth": 0,
              "ticks": ""
             }
            },
            "type": "scatterpolar"
           }
          ],
          "scatterpolargl": [
           {
            "marker": {
             "colorbar": {
              "outlinewidth": 0,
              "ticks": ""
             }
            },
            "type": "scatterpolargl"
           }
          ],
          "scatterternary": [
           {
            "marker": {
             "colorbar": {
              "outlinewidth": 0,
              "ticks": ""
             }
            },
            "type": "scatterternary"
           }
          ],
          "surface": [
           {
            "colorbar": {
             "outlinewidth": 0,
             "ticks": ""
            },
            "colorscale": [
             [
              0,
              "#0d0887"
             ],
             [
              0.1111111111111111,
              "#46039f"
             ],
             [
              0.2222222222222222,
              "#7201a8"
             ],
             [
              0.3333333333333333,
              "#9c179e"
             ],
             [
              0.4444444444444444,
              "#bd3786"
             ],
             [
              0.5555555555555556,
              "#d8576b"
             ],
             [
              0.6666666666666666,
              "#ed7953"
             ],
             [
              0.7777777777777778,
              "#fb9f3a"
             ],
             [
              0.8888888888888888,
              "#fdca26"
             ],
             [
              1,
              "#f0f921"
             ]
            ],
            "type": "surface"
           }
          ],
          "table": [
           {
            "cells": {
             "fill": {
              "color": "#EBF0F8"
             },
             "line": {
              "color": "white"
             }
            },
            "header": {
             "fill": {
              "color": "#C8D4E3"
             },
             "line": {
              "color": "white"
             }
            },
            "type": "table"
           }
          ]
         },
         "layout": {
          "annotationdefaults": {
           "arrowcolor": "#2a3f5f",
           "arrowhead": 0,
           "arrowwidth": 1
          },
          "autotypenumbers": "strict",
          "coloraxis": {
           "colorbar": {
            "outlinewidth": 0,
            "ticks": ""
           }
          },
          "colorscale": {
           "diverging": [
            [
             0,
             "#8e0152"
            ],
            [
             0.1,
             "#c51b7d"
            ],
            [
             0.2,
             "#de77ae"
            ],
            [
             0.3,
             "#f1b6da"
            ],
            [
             0.4,
             "#fde0ef"
            ],
            [
             0.5,
             "#f7f7f7"
            ],
            [
             0.6,
             "#e6f5d0"
            ],
            [
             0.7,
             "#b8e186"
            ],
            [
             0.8,
             "#7fbc41"
            ],
            [
             0.9,
             "#4d9221"
            ],
            [
             1,
             "#276419"
            ]
           ],
           "sequential": [
            [
             0,
             "#0d0887"
            ],
            [
             0.1111111111111111,
             "#46039f"
            ],
            [
             0.2222222222222222,
             "#7201a8"
            ],
            [
             0.3333333333333333,
             "#9c179e"
            ],
            [
             0.4444444444444444,
             "#bd3786"
            ],
            [
             0.5555555555555556,
             "#d8576b"
            ],
            [
             0.6666666666666666,
             "#ed7953"
            ],
            [
             0.7777777777777778,
             "#fb9f3a"
            ],
            [
             0.8888888888888888,
             "#fdca26"
            ],
            [
             1,
             "#f0f921"
            ]
           ],
           "sequentialminus": [
            [
             0,
             "#0d0887"
            ],
            [
             0.1111111111111111,
             "#46039f"
            ],
            [
             0.2222222222222222,
             "#7201a8"
            ],
            [
             0.3333333333333333,
             "#9c179e"
            ],
            [
             0.4444444444444444,
             "#bd3786"
            ],
            [
             0.5555555555555556,
             "#d8576b"
            ],
            [
             0.6666666666666666,
             "#ed7953"
            ],
            [
             0.7777777777777778,
             "#fb9f3a"
            ],
            [
             0.8888888888888888,
             "#fdca26"
            ],
            [
             1,
             "#f0f921"
            ]
           ]
          },
          "colorway": [
           "#636efa",
           "#EF553B",
           "#00cc96",
           "#ab63fa",
           "#FFA15A",
           "#19d3f3",
           "#FF6692",
           "#B6E880",
           "#FF97FF",
           "#FECB52"
          ],
          "font": {
           "color": "#2a3f5f"
          },
          "geo": {
           "bgcolor": "white",
           "lakecolor": "white",
           "landcolor": "#E5ECF6",
           "showlakes": true,
           "showland": true,
           "subunitcolor": "white"
          },
          "hoverlabel": {
           "align": "left"
          },
          "hovermode": "closest",
          "mapbox": {
           "style": "light"
          },
          "paper_bgcolor": "white",
          "plot_bgcolor": "#E5ECF6",
          "polar": {
           "angularaxis": {
            "gridcolor": "white",
            "linecolor": "white",
            "ticks": ""
           },
           "bgcolor": "#E5ECF6",
           "radialaxis": {
            "gridcolor": "white",
            "linecolor": "white",
            "ticks": ""
           }
          },
          "scene": {
           "xaxis": {
            "backgroundcolor": "#E5ECF6",
            "gridcolor": "white",
            "gridwidth": 2,
            "linecolor": "white",
            "showbackground": true,
            "ticks": "",
            "zerolinecolor": "white"
           },
           "yaxis": {
            "backgroundcolor": "#E5ECF6",
            "gridcolor": "white",
            "gridwidth": 2,
            "linecolor": "white",
            "showbackground": true,
            "ticks": "",
            "zerolinecolor": "white"
           },
           "zaxis": {
            "backgroundcolor": "#E5ECF6",
            "gridcolor": "white",
            "gridwidth": 2,
            "linecolor": "white",
            "showbackground": true,
            "ticks": "",
            "zerolinecolor": "white"
           }
          },
          "shapedefaults": {
           "line": {
            "color": "#2a3f5f"
           }
          },
          "ternary": {
           "aaxis": {
            "gridcolor": "white",
            "linecolor": "white",
            "ticks": ""
           },
           "baxis": {
            "gridcolor": "white",
            "linecolor": "white",
            "ticks": ""
           },
           "bgcolor": "#E5ECF6",
           "caxis": {
            "gridcolor": "white",
            "linecolor": "white",
            "ticks": ""
           }
          },
          "title": {
           "x": 0.05
          },
          "xaxis": {
           "automargin": true,
           "gridcolor": "white",
           "linecolor": "white",
           "ticks": "",
           "title": {
            "standoff": 15
           },
           "zerolinecolor": "white",
           "zerolinewidth": 2
          },
          "yaxis": {
           "automargin": true,
           "gridcolor": "white",
           "linecolor": "white",
           "ticks": "",
           "title": {
            "standoff": 15
           },
           "zerolinecolor": "white",
           "zerolinewidth": 2
          }
         }
        },
        "xaxis": {
         "anchor": "y",
         "domain": [
          0,
          1
         ],
         "title": {
          "text": "Medical Emergency Admissions Per Bed Available"
         }
        },
        "yaxis": {
         "anchor": "x",
         "domain": [
          0,
          1
         ],
         "title": {
          "text": "count"
         }
        }
       }
      },
      "text/html": [
       "<div>                            <div id=\"45af4905-1c18-4bab-92af-e84728e8ed2b\" class=\"plotly-graph-div\" style=\"height:525px; width:100%;\"></div>            <script type=\"text/javascript\">                require([\"plotly\"], function(Plotly) {                    window.PLOTLYENV=window.PLOTLYENV || {};                                    if (document.getElementById(\"45af4905-1c18-4bab-92af-e84728e8ed2b\")) {                    Plotly.newPlot(                        \"45af4905-1c18-4bab-92af-e84728e8ed2b\",                        [{\"alignmentgroup\":\"True\",\"bingroup\":\"x\",\"hovertemplate\":\"Medical Emergency Admissions Per Bed Available=%{x}\\u003cbr\\u003ecount=%{y}\\u003cextra\\u003e\\u003c\\u002fextra\\u003e\",\"legendgroup\":\"\",\"marker\":{\"color\":\"#636efa\",\"pattern\":{\"shape\":\"\"}},\"name\":\"\",\"offsetgroup\":\"\",\"orientation\":\"v\",\"showlegend\":false,\"x\":[104.0,43.0,76.0,55.0,55.0,89.0,50.0,192.0,83.0,69.0,164.0,40.0,56.0,58.0,210.0,40.0,49.0,102.0,71.0,36.0,43.0,37.0,44.0,50.0,65.0,79.0,59.0,66.0,74.0,72.0,106.0,45.0,34.0,37.0,7.0,7.0,89.0,173.0,21.0,49.0,87.0,62.0,89.0,49.0,60.0,255.0,22.0,69.0,65.0,52.0,51.0,58.0,51.0,26.0,51.0,54.0,55.0,79.0,68.0,93.0,45.0,76.0,98.0,86.0,99.0,90.0,76.0,52.0,42.0,68.0,136.0,null,118.0,89.0,62.0,151.0,85.0,89.0,53.0,48.0,62.0,76.0,121.0,49.0,62.0,64.0,74.0,31.0,102.0,47.0,84.0,64.0,31.0,35.0,58.0,63.0,42.0,137.0,66.0,89.0,86.0,83.0,44.0,52.0,32.0,52.0,55.0,61.0,85.0,93.0,86.0,67.0,54.0,81.0,87.0,62.0,59.0,37.0,143.0,71.0,60.0,43.0,57.0,58.0,69.0,74.0,53.0,60.0,124.0,47.0,39.0,51.0,68.0,44.0,94.0,104.0,126.0,34.0,137.0,77.0,82.0,56.0,49.0,80.0,85.0,67.0,54.0,50.0,34.0,46.0,32.0,32.0,27.0,46.0,58.0,50.0,52.0,38.0,40.0],\"xaxis\":\"x\",\"yaxis\":\"y\",\"type\":\"histogram\"}],                        {\"template\":{\"data\":{\"histogram2dcontour\":[{\"type\":\"histogram2dcontour\",\"colorbar\":{\"outlinewidth\":0,\"ticks\":\"\"},\"colorscale\":[[0.0,\"#0d0887\"],[0.1111111111111111,\"#46039f\"],[0.2222222222222222,\"#7201a8\"],[0.3333333333333333,\"#9c179e\"],[0.4444444444444444,\"#bd3786\"],[0.5555555555555556,\"#d8576b\"],[0.6666666666666666,\"#ed7953\"],[0.7777777777777778,\"#fb9f3a\"],[0.8888888888888888,\"#fdca26\"],[1.0,\"#f0f921\"]]}],\"choropleth\":[{\"type\":\"choropleth\",\"colorbar\":{\"outlinewidth\":0,\"ticks\":\"\"}}],\"histogram2d\":[{\"type\":\"histogram2d\",\"colorbar\":{\"outlinewidth\":0,\"ticks\":\"\"},\"colorscale\":[[0.0,\"#0d0887\"],[0.1111111111111111,\"#46039f\"],[0.2222222222222222,\"#7201a8\"],[0.3333333333333333,\"#9c179e\"],[0.4444444444444444,\"#bd3786\"],[0.5555555555555556,\"#d8576b\"],[0.6666666666666666,\"#ed7953\"],[0.7777777777777778,\"#fb9f3a\"],[0.8888888888888888,\"#fdca26\"],[1.0,\"#f0f921\"]]}],\"heatmap\":[{\"type\":\"heatmap\",\"colorbar\":{\"outlinewidth\":0,\"ticks\":\"\"},\"colorscale\":[[0.0,\"#0d0887\"],[0.1111111111111111,\"#46039f\"],[0.2222222222222222,\"#7201a8\"],[0.3333333333333333,\"#9c179e\"],[0.4444444444444444,\"#bd3786\"],[0.5555555555555556,\"#d8576b\"],[0.6666666666666666,\"#ed7953\"],[0.7777777777777778,\"#fb9f3a\"],[0.8888888888888888,\"#fdca26\"],[1.0,\"#f0f921\"]]}],\"heatmapgl\":[{\"type\":\"heatmapgl\",\"colorbar\":{\"outlinewidth\":0,\"ticks\":\"\"},\"colorscale\":[[0.0,\"#0d0887\"],[0.1111111111111111,\"#46039f\"],[0.2222222222222222,\"#7201a8\"],[0.3333333333333333,\"#9c179e\"],[0.4444444444444444,\"#bd3786\"],[0.5555555555555556,\"#d8576b\"],[0.6666666666666666,\"#ed7953\"],[0.7777777777777778,\"#fb9f3a\"],[0.8888888888888888,\"#fdca26\"],[1.0,\"#f0f921\"]]}],\"contourcarpet\":[{\"type\":\"contourcarpet\",\"colorbar\":{\"outlinewidth\":0,\"ticks\":\"\"}}],\"contour\":[{\"type\":\"contour\",\"colorbar\":{\"outlinewidth\":0,\"ticks\":\"\"},\"colorscale\":[[0.0,\"#0d0887\"],[0.1111111111111111,\"#46039f\"],[0.2222222222222222,\"#7201a8\"],[0.3333333333333333,\"#9c179e\"],[0.4444444444444444,\"#bd3786\"],[0.5555555555555556,\"#d8576b\"],[0.6666666666666666,\"#ed7953\"],[0.7777777777777778,\"#fb9f3a\"],[0.8888888888888888,\"#fdca26\"],[1.0,\"#f0f921\"]]}],\"surface\":[{\"type\":\"surface\",\"colorbar\":{\"outlinewidth\":0,\"ticks\":\"\"},\"colorscale\":[[0.0,\"#0d0887\"],[0.1111111111111111,\"#46039f\"],[0.2222222222222222,\"#7201a8\"],[0.3333333333333333,\"#9c179e\"],[0.4444444444444444,\"#bd3786\"],[0.5555555555555556,\"#d8576b\"],[0.6666666666666666,\"#ed7953\"],[0.7777777777777778,\"#fb9f3a\"],[0.8888888888888888,\"#fdca26\"],[1.0,\"#f0f921\"]]}],\"mesh3d\":[{\"type\":\"mesh3d\",\"colorbar\":{\"outlinewidth\":0,\"ticks\":\"\"}}],\"scatter\":[{\"fillpattern\":{\"fillmode\":\"overlay\",\"size\":10,\"solidity\":0.2},\"type\":\"scatter\"}],\"parcoords\":[{\"type\":\"parcoords\",\"line\":{\"colorbar\":{\"outlinewidth\":0,\"ticks\":\"\"}}}],\"scatterpolargl\":[{\"type\":\"scatterpolargl\",\"marker\":{\"colorbar\":{\"outlinewidth\":0,\"ticks\":\"\"}}}],\"bar\":[{\"error_x\":{\"color\":\"#2a3f5f\"},\"error_y\":{\"color\":\"#2a3f5f\"},\"marker\":{\"line\":{\"color\":\"#E5ECF6\",\"width\":0.5},\"pattern\":{\"fillmode\":\"overlay\",\"size\":10,\"solidity\":0.2}},\"type\":\"bar\"}],\"scattergeo\":[{\"type\":\"scattergeo\",\"marker\":{\"colorbar\":{\"outlinewidth\":0,\"ticks\":\"\"}}}],\"scatterpolar\":[{\"type\":\"scatterpolar\",\"marker\":{\"colorbar\":{\"outlinewidth\":0,\"ticks\":\"\"}}}],\"histogram\":[{\"marker\":{\"pattern\":{\"fillmode\":\"overlay\",\"size\":10,\"solidity\":0.2}},\"type\":\"histogram\"}],\"scattergl\":[{\"type\":\"scattergl\",\"marker\":{\"colorbar\":{\"outlinewidth\":0,\"ticks\":\"\"}}}],\"scatter3d\":[{\"type\":\"scatter3d\",\"line\":{\"colorbar\":{\"outlinewidth\":0,\"ticks\":\"\"}},\"marker\":{\"colorbar\":{\"outlinewidth\":0,\"ticks\":\"\"}}}],\"scattermapbox\":[{\"type\":\"scattermapbox\",\"marker\":{\"colorbar\":{\"outlinewidth\":0,\"ticks\":\"\"}}}],\"scatterternary\":[{\"type\":\"scatterternary\",\"marker\":{\"colorbar\":{\"outlinewidth\":0,\"ticks\":\"\"}}}],\"scattercarpet\":[{\"type\":\"scattercarpet\",\"marker\":{\"colorbar\":{\"outlinewidth\":0,\"ticks\":\"\"}}}],\"carpet\":[{\"aaxis\":{\"endlinecolor\":\"#2a3f5f\",\"gridcolor\":\"white\",\"linecolor\":\"white\",\"minorgridcolor\":\"white\",\"startlinecolor\":\"#2a3f5f\"},\"baxis\":{\"endlinecolor\":\"#2a3f5f\",\"gridcolor\":\"white\",\"linecolor\":\"white\",\"minorgridcolor\":\"white\",\"startlinecolor\":\"#2a3f5f\"},\"type\":\"carpet\"}],\"table\":[{\"cells\":{\"fill\":{\"color\":\"#EBF0F8\"},\"line\":{\"color\":\"white\"}},\"header\":{\"fill\":{\"color\":\"#C8D4E3\"},\"line\":{\"color\":\"white\"}},\"type\":\"table\"}],\"barpolar\":[{\"marker\":{\"line\":{\"color\":\"#E5ECF6\",\"width\":0.5},\"pattern\":{\"fillmode\":\"overlay\",\"size\":10,\"solidity\":0.2}},\"type\":\"barpolar\"}],\"pie\":[{\"automargin\":true,\"type\":\"pie\"}]},\"layout\":{\"autotypenumbers\":\"strict\",\"colorway\":[\"#636efa\",\"#EF553B\",\"#00cc96\",\"#ab63fa\",\"#FFA15A\",\"#19d3f3\",\"#FF6692\",\"#B6E880\",\"#FF97FF\",\"#FECB52\"],\"font\":{\"color\":\"#2a3f5f\"},\"hovermode\":\"closest\",\"hoverlabel\":{\"align\":\"left\"},\"paper_bgcolor\":\"white\",\"plot_bgcolor\":\"#E5ECF6\",\"polar\":{\"bgcolor\":\"#E5ECF6\",\"angularaxis\":{\"gridcolor\":\"white\",\"linecolor\":\"white\",\"ticks\":\"\"},\"radialaxis\":{\"gridcolor\":\"white\",\"linecolor\":\"white\",\"ticks\":\"\"}},\"ternary\":{\"bgcolor\":\"#E5ECF6\",\"aaxis\":{\"gridcolor\":\"white\",\"linecolor\":\"white\",\"ticks\":\"\"},\"baxis\":{\"gridcolor\":\"white\",\"linecolor\":\"white\",\"ticks\":\"\"},\"caxis\":{\"gridcolor\":\"white\",\"linecolor\":\"white\",\"ticks\":\"\"}},\"coloraxis\":{\"colorbar\":{\"outlinewidth\":0,\"ticks\":\"\"}},\"colorscale\":{\"sequential\":[[0.0,\"#0d0887\"],[0.1111111111111111,\"#46039f\"],[0.2222222222222222,\"#7201a8\"],[0.3333333333333333,\"#9c179e\"],[0.4444444444444444,\"#bd3786\"],[0.5555555555555556,\"#d8576b\"],[0.6666666666666666,\"#ed7953\"],[0.7777777777777778,\"#fb9f3a\"],[0.8888888888888888,\"#fdca26\"],[1.0,\"#f0f921\"]],\"sequentialminus\":[[0.0,\"#0d0887\"],[0.1111111111111111,\"#46039f\"],[0.2222222222222222,\"#7201a8\"],[0.3333333333333333,\"#9c179e\"],[0.4444444444444444,\"#bd3786\"],[0.5555555555555556,\"#d8576b\"],[0.6666666666666666,\"#ed7953\"],[0.7777777777777778,\"#fb9f3a\"],[0.8888888888888888,\"#fdca26\"],[1.0,\"#f0f921\"]],\"diverging\":[[0,\"#8e0152\"],[0.1,\"#c51b7d\"],[0.2,\"#de77ae\"],[0.3,\"#f1b6da\"],[0.4,\"#fde0ef\"],[0.5,\"#f7f7f7\"],[0.6,\"#e6f5d0\"],[0.7,\"#b8e186\"],[0.8,\"#7fbc41\"],[0.9,\"#4d9221\"],[1,\"#276419\"]]},\"xaxis\":{\"gridcolor\":\"white\",\"linecolor\":\"white\",\"ticks\":\"\",\"title\":{\"standoff\":15},\"zerolinecolor\":\"white\",\"automargin\":true,\"zerolinewidth\":2},\"yaxis\":{\"gridcolor\":\"white\",\"linecolor\":\"white\",\"ticks\":\"\",\"title\":{\"standoff\":15},\"zerolinecolor\":\"white\",\"automargin\":true,\"zerolinewidth\":2},\"scene\":{\"xaxis\":{\"backgroundcolor\":\"#E5ECF6\",\"gridcolor\":\"white\",\"linecolor\":\"white\",\"showbackground\":true,\"ticks\":\"\",\"zerolinecolor\":\"white\",\"gridwidth\":2},\"yaxis\":{\"backgroundcolor\":\"#E5ECF6\",\"gridcolor\":\"white\",\"linecolor\":\"white\",\"showbackground\":true,\"ticks\":\"\",\"zerolinecolor\":\"white\",\"gridwidth\":2},\"zaxis\":{\"backgroundcolor\":\"#E5ECF6\",\"gridcolor\":\"white\",\"linecolor\":\"white\",\"showbackground\":true,\"ticks\":\"\",\"zerolinecolor\":\"white\",\"gridwidth\":2}},\"shapedefaults\":{\"line\":{\"color\":\"#2a3f5f\"}},\"annotationdefaults\":{\"arrowcolor\":\"#2a3f5f\",\"arrowhead\":0,\"arrowwidth\":1},\"geo\":{\"bgcolor\":\"white\",\"landcolor\":\"#E5ECF6\",\"subunitcolor\":\"white\",\"showland\":true,\"showlakes\":true,\"lakecolor\":\"white\"},\"title\":{\"x\":0.05},\"mapbox\":{\"style\":\"light\"}}},\"xaxis\":{\"anchor\":\"y\",\"domain\":[0.0,1.0],\"title\":{\"text\":\"Medical Emergency Admissions Per Bed Available\"}},\"yaxis\":{\"anchor\":\"x\",\"domain\":[0.0,1.0],\"title\":{\"text\":\"count\"}},\"legend\":{\"tracegroupgap\":0},\"margin\":{\"t\":60},\"barmode\":\"relative\"},                        {\"responsive\": true}                    ).then(function(){\n",
       "                            \n",
       "var gd = document.getElementById('45af4905-1c18-4bab-92af-e84728e8ed2b');\n",
       "var x = new MutationObserver(function (mutations, observer) {{\n",
       "        var display = window.getComputedStyle(gd).display;\n",
       "        if (!display || display === 'none') {{\n",
       "            console.log([gd, 'removed!']);\n",
       "            Plotly.purge(gd);\n",
       "            observer.disconnect();\n",
       "        }}\n",
       "}});\n",
       "\n",
       "// Listen for the removal of the full notebook cells\n",
       "var notebookContainer = gd.closest('#notebook-container');\n",
       "if (notebookContainer) {{\n",
       "    x.observe(notebookContainer, {childList: true});\n",
       "}}\n",
       "\n",
       "// Listen for the clearing of the current output cell\n",
       "var outputEl = gd.closest('.output');\n",
       "if (outputEl) {{\n",
       "    x.observe(outputEl, {childList: true});\n",
       "}}\n",
       "\n",
       "                        })                };                });            </script>        </div>"
      ]
     },
     "metadata": {},
     "output_type": "display_data"
    }
   ],
   "source": [
    "fig_hist.show()"
   ]
  },
  {
   "cell_type": "markdown",
   "id": "997f932b",
   "metadata": {},
   "source": [
    "> We see that the largest proportion of hospitals sit in the range 50-59 admissions per hospital bed in 2020/21. To investigate whether COVID-19 had an impact on hospital admissions, in a similar fashion, we investigate the distribution of respiratory admissions as a proportion of total admissions for respiratory illnesses in general and compare with COPD and Asthma admissions. "
   ]
  }
 ],
 "metadata": {
  "kernelspec": {
   "display_name": "Python 3 (ipykernel)",
   "language": "python",
   "name": "python3"
  },
  "language_info": {
   "codemirror_mode": {
    "name": "ipython",
    "version": 3
   },
   "file_extension": ".py",
   "mimetype": "text/x-python",
   "name": "python",
   "nbconvert_exporter": "python",
   "pygments_lexer": "ipython3",
   "version": "3.11.10"
  }
 },
 "nbformat": 4,
 "nbformat_minor": 5
}
